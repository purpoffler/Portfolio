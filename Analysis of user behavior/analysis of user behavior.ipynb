{
 "cells": [
  {
   "cell_type": "markdown",
   "id": "4a11eb3f",
   "metadata": {},
   "source": [
    "# Шаг 1. Откроем файл с данными и изучим общую информацию #"
   ]
  },
  {
   "cell_type": "code",
   "execution_count": 1,
   "id": "3de36c7b",
   "metadata": {},
   "outputs": [
    {
     "name": "stdout",
     "output_type": "stream",
     "text": [
      "Defaulting to user installation because normal site-packages is not writeable\n",
      "Requirement already satisfied: kaleido in c:\\users\\diman\\appdata\\roaming\\python\\python39\\site-packages (0.2.1)\n"
     ]
    }
   ],
   "source": [
    "!pip install -U kaleido"
   ]
  },
  {
   "cell_type": "code",
   "execution_count": 2,
   "id": "2019fe4e",
   "metadata": {},
   "outputs": [],
   "source": [
    "import kaleido"
   ]
  },
  {
   "cell_type": "code",
   "execution_count": 3,
   "id": "7542ecd5",
   "metadata": {},
   "outputs": [],
   "source": [
    "import pandas as pd\n",
    "import datetime as dt\n",
    "import numpy as np\n",
    "import matplotlib.pyplot as plt\n",
    "import scipy.stats as stats\n",
    "import math as mth\n",
    "import plotly.express as px\n",
    "from plotly import graph_objects as go"
   ]
  },
  {
   "cell_type": "code",
   "execution_count": 9,
   "id": "36e2e7af",
   "metadata": {},
   "outputs": [],
   "source": [
    "import plotly.io as pio\n",
    "pio.renderers.default = \"svg\"\n",
    "svg_renderer = pio.renderers[\"svg\"]\n",
    "svg_renderer.scale = 1.2"
   ]
  },
  {
   "cell_type": "code",
   "execution_count": 10,
   "id": "6bb5b8c0",
   "metadata": {},
   "outputs": [],
   "source": [
    "import warnings\n",
    "warnings.filterwarnings('ignore')"
   ]
  },
  {
   "cell_type": "code",
   "execution_count": 11,
   "id": "c5d381dd",
   "metadata": {
    "scrolled": false
   },
   "outputs": [],
   "source": [
    "try:\n",
    "    logs = pd.read_csv('/datasets/logs_exp.csv', sep = '\\t')\n",
    "except:\n",
    "    logs = pd.read_csv('D:/yp/projects/logs_exp.csv', sep = '\\t')"
   ]
  },
  {
   "cell_type": "code",
   "execution_count": 12,
   "id": "dee90f2e",
   "metadata": {
    "scrolled": true
   },
   "outputs": [
    {
     "data": {
      "text/html": [
       "<div>\n",
       "<style scoped>\n",
       "    .dataframe tbody tr th:only-of-type {\n",
       "        vertical-align: middle;\n",
       "    }\n",
       "\n",
       "    .dataframe tbody tr th {\n",
       "        vertical-align: top;\n",
       "    }\n",
       "\n",
       "    .dataframe thead th {\n",
       "        text-align: right;\n",
       "    }\n",
       "</style>\n",
       "<table border=\"1\" class=\"dataframe\">\n",
       "  <thead>\n",
       "    <tr style=\"text-align: right;\">\n",
       "      <th></th>\n",
       "      <th>EventName</th>\n",
       "      <th>DeviceIDHash</th>\n",
       "      <th>EventTimestamp</th>\n",
       "      <th>ExpId</th>\n",
       "    </tr>\n",
       "  </thead>\n",
       "  <tbody>\n",
       "    <tr>\n",
       "      <th>0</th>\n",
       "      <td>MainScreenAppear</td>\n",
       "      <td>4575588528974610257</td>\n",
       "      <td>1564029816</td>\n",
       "      <td>246</td>\n",
       "    </tr>\n",
       "    <tr>\n",
       "      <th>1</th>\n",
       "      <td>MainScreenAppear</td>\n",
       "      <td>7416695313311560658</td>\n",
       "      <td>1564053102</td>\n",
       "      <td>246</td>\n",
       "    </tr>\n",
       "    <tr>\n",
       "      <th>2</th>\n",
       "      <td>PaymentScreenSuccessful</td>\n",
       "      <td>3518123091307005509</td>\n",
       "      <td>1564054127</td>\n",
       "      <td>248</td>\n",
       "    </tr>\n",
       "    <tr>\n",
       "      <th>3</th>\n",
       "      <td>CartScreenAppear</td>\n",
       "      <td>3518123091307005509</td>\n",
       "      <td>1564054127</td>\n",
       "      <td>248</td>\n",
       "    </tr>\n",
       "    <tr>\n",
       "      <th>4</th>\n",
       "      <td>PaymentScreenSuccessful</td>\n",
       "      <td>6217807653094995999</td>\n",
       "      <td>1564055322</td>\n",
       "      <td>248</td>\n",
       "    </tr>\n",
       "  </tbody>\n",
       "</table>\n",
       "</div>"
      ],
      "text/plain": [
       "                 EventName         DeviceIDHash  EventTimestamp  ExpId\n",
       "0         MainScreenAppear  4575588528974610257      1564029816    246\n",
       "1         MainScreenAppear  7416695313311560658      1564053102    246\n",
       "2  PaymentScreenSuccessful  3518123091307005509      1564054127    248\n",
       "3         CartScreenAppear  3518123091307005509      1564054127    248\n",
       "4  PaymentScreenSuccessful  6217807653094995999      1564055322    248"
      ]
     },
     "metadata": {},
     "output_type": "display_data"
    }
   ],
   "source": [
    "display(logs.head())"
   ]
  },
  {
   "cell_type": "code",
   "execution_count": 13,
   "id": "4ff0ca6f",
   "metadata": {},
   "outputs": [
    {
     "name": "stdout",
     "output_type": "stream",
     "text": [
      "<class 'pandas.core.frame.DataFrame'>\n",
      "RangeIndex: 244126 entries, 0 to 244125\n",
      "Data columns (total 4 columns):\n",
      " #   Column          Non-Null Count   Dtype \n",
      "---  ------          --------------   ----- \n",
      " 0   EventName       244126 non-null  object\n",
      " 1   DeviceIDHash    244126 non-null  int64 \n",
      " 2   EventTimestamp  244126 non-null  int64 \n",
      " 3   ExpId           244126 non-null  int64 \n",
      "dtypes: int64(3), object(1)\n",
      "memory usage: 7.5+ MB\n"
     ]
    }
   ],
   "source": [
    "logs.info()"
   ]
  },
  {
   "cell_type": "code",
   "execution_count": 14,
   "id": "f49d981f",
   "metadata": {},
   "outputs": [
    {
     "data": {
      "text/plain": [
       "(244126, 4)"
      ]
     },
     "execution_count": 14,
     "metadata": {},
     "output_type": "execute_result"
    }
   ],
   "source": [
    "logs.shape"
   ]
  },
  {
   "cell_type": "code",
   "execution_count": 15,
   "id": "14967113",
   "metadata": {},
   "outputs": [
    {
     "data": {
      "text/html": [
       "<div>\n",
       "<style scoped>\n",
       "    .dataframe tbody tr th:only-of-type {\n",
       "        vertical-align: middle;\n",
       "    }\n",
       "\n",
       "    .dataframe tbody tr th {\n",
       "        vertical-align: top;\n",
       "    }\n",
       "\n",
       "    .dataframe thead th {\n",
       "        text-align: right;\n",
       "    }\n",
       "</style>\n",
       "<table border=\"1\" class=\"dataframe\">\n",
       "  <thead>\n",
       "    <tr style=\"text-align: right;\">\n",
       "      <th></th>\n",
       "      <th>DeviceIDHash</th>\n",
       "      <th>EventTimestamp</th>\n",
       "      <th>ExpId</th>\n",
       "    </tr>\n",
       "  </thead>\n",
       "  <tbody>\n",
       "    <tr>\n",
       "      <th>count</th>\n",
       "      <td>2.441260e+05</td>\n",
       "      <td>2.441260e+05</td>\n",
       "      <td>244126.000000</td>\n",
       "    </tr>\n",
       "    <tr>\n",
       "      <th>mean</th>\n",
       "      <td>4.627568e+18</td>\n",
       "      <td>1.564914e+09</td>\n",
       "      <td>247.022296</td>\n",
       "    </tr>\n",
       "    <tr>\n",
       "      <th>std</th>\n",
       "      <td>2.642425e+18</td>\n",
       "      <td>1.771343e+05</td>\n",
       "      <td>0.824434</td>\n",
       "    </tr>\n",
       "    <tr>\n",
       "      <th>min</th>\n",
       "      <td>6.888747e+15</td>\n",
       "      <td>1.564030e+09</td>\n",
       "      <td>246.000000</td>\n",
       "    </tr>\n",
       "    <tr>\n",
       "      <th>25%</th>\n",
       "      <td>2.372212e+18</td>\n",
       "      <td>1.564757e+09</td>\n",
       "      <td>246.000000</td>\n",
       "    </tr>\n",
       "    <tr>\n",
       "      <th>50%</th>\n",
       "      <td>4.623192e+18</td>\n",
       "      <td>1.564919e+09</td>\n",
       "      <td>247.000000</td>\n",
       "    </tr>\n",
       "    <tr>\n",
       "      <th>75%</th>\n",
       "      <td>6.932517e+18</td>\n",
       "      <td>1.565075e+09</td>\n",
       "      <td>248.000000</td>\n",
       "    </tr>\n",
       "    <tr>\n",
       "      <th>max</th>\n",
       "      <td>9.222603e+18</td>\n",
       "      <td>1.565213e+09</td>\n",
       "      <td>248.000000</td>\n",
       "    </tr>\n",
       "  </tbody>\n",
       "</table>\n",
       "</div>"
      ],
      "text/plain": [
       "       DeviceIDHash  EventTimestamp          ExpId\n",
       "count  2.441260e+05    2.441260e+05  244126.000000\n",
       "mean   4.627568e+18    1.564914e+09     247.022296\n",
       "std    2.642425e+18    1.771343e+05       0.824434\n",
       "min    6.888747e+15    1.564030e+09     246.000000\n",
       "25%    2.372212e+18    1.564757e+09     246.000000\n",
       "50%    4.623192e+18    1.564919e+09     247.000000\n",
       "75%    6.932517e+18    1.565075e+09     248.000000\n",
       "max    9.222603e+18    1.565213e+09     248.000000"
      ]
     },
     "execution_count": 15,
     "metadata": {},
     "output_type": "execute_result"
    }
   ],
   "source": [
    "logs.describe()"
   ]
  },
  {
   "cell_type": "markdown",
   "id": "24b5c820",
   "metadata": {},
   "source": [
    "# Шаг 2. Подготовка данных #"
   ]
  },
  {
   "cell_type": "markdown",
   "id": "57d7725e",
   "metadata": {},
   "source": [
    "**Приведем название столбцов к удобному виду**"
   ]
  },
  {
   "cell_type": "code",
   "execution_count": 16,
   "id": "8b165052",
   "metadata": {},
   "outputs": [],
   "source": [
    "logs.columns = ['event_name', 'user_id', 'dt', 'exp_id']"
   ]
  },
  {
   "cell_type": "code",
   "execution_count": 17,
   "id": "44c729ea",
   "metadata": {
    "scrolled": false
   },
   "outputs": [
    {
     "data": {
      "text/html": [
       "<div>\n",
       "<style scoped>\n",
       "    .dataframe tbody tr th:only-of-type {\n",
       "        vertical-align: middle;\n",
       "    }\n",
       "\n",
       "    .dataframe tbody tr th {\n",
       "        vertical-align: top;\n",
       "    }\n",
       "\n",
       "    .dataframe thead th {\n",
       "        text-align: right;\n",
       "    }\n",
       "</style>\n",
       "<table border=\"1\" class=\"dataframe\">\n",
       "  <thead>\n",
       "    <tr style=\"text-align: right;\">\n",
       "      <th></th>\n",
       "      <th>event_name</th>\n",
       "      <th>user_id</th>\n",
       "      <th>dt</th>\n",
       "      <th>exp_id</th>\n",
       "    </tr>\n",
       "  </thead>\n",
       "  <tbody>\n",
       "    <tr>\n",
       "      <th>0</th>\n",
       "      <td>MainScreenAppear</td>\n",
       "      <td>4575588528974610257</td>\n",
       "      <td>1564029816</td>\n",
       "      <td>246</td>\n",
       "    </tr>\n",
       "    <tr>\n",
       "      <th>1</th>\n",
       "      <td>MainScreenAppear</td>\n",
       "      <td>7416695313311560658</td>\n",
       "      <td>1564053102</td>\n",
       "      <td>246</td>\n",
       "    </tr>\n",
       "    <tr>\n",
       "      <th>2</th>\n",
       "      <td>PaymentScreenSuccessful</td>\n",
       "      <td>3518123091307005509</td>\n",
       "      <td>1564054127</td>\n",
       "      <td>248</td>\n",
       "    </tr>\n",
       "    <tr>\n",
       "      <th>3</th>\n",
       "      <td>CartScreenAppear</td>\n",
       "      <td>3518123091307005509</td>\n",
       "      <td>1564054127</td>\n",
       "      <td>248</td>\n",
       "    </tr>\n",
       "    <tr>\n",
       "      <th>4</th>\n",
       "      <td>PaymentScreenSuccessful</td>\n",
       "      <td>6217807653094995999</td>\n",
       "      <td>1564055322</td>\n",
       "      <td>248</td>\n",
       "    </tr>\n",
       "    <tr>\n",
       "      <th>...</th>\n",
       "      <td>...</td>\n",
       "      <td>...</td>\n",
       "      <td>...</td>\n",
       "      <td>...</td>\n",
       "    </tr>\n",
       "    <tr>\n",
       "      <th>244121</th>\n",
       "      <td>MainScreenAppear</td>\n",
       "      <td>4599628364049201812</td>\n",
       "      <td>1565212345</td>\n",
       "      <td>247</td>\n",
       "    </tr>\n",
       "    <tr>\n",
       "      <th>244122</th>\n",
       "      <td>MainScreenAppear</td>\n",
       "      <td>5849806612437486590</td>\n",
       "      <td>1565212439</td>\n",
       "      <td>246</td>\n",
       "    </tr>\n",
       "    <tr>\n",
       "      <th>244123</th>\n",
       "      <td>MainScreenAppear</td>\n",
       "      <td>5746969938801999050</td>\n",
       "      <td>1565212483</td>\n",
       "      <td>246</td>\n",
       "    </tr>\n",
       "    <tr>\n",
       "      <th>244124</th>\n",
       "      <td>MainScreenAppear</td>\n",
       "      <td>5746969938801999050</td>\n",
       "      <td>1565212498</td>\n",
       "      <td>246</td>\n",
       "    </tr>\n",
       "    <tr>\n",
       "      <th>244125</th>\n",
       "      <td>OffersScreenAppear</td>\n",
       "      <td>5746969938801999050</td>\n",
       "      <td>1565212517</td>\n",
       "      <td>246</td>\n",
       "    </tr>\n",
       "  </tbody>\n",
       "</table>\n",
       "<p>244126 rows × 4 columns</p>\n",
       "</div>"
      ],
      "text/plain": [
       "                     event_name              user_id          dt  exp_id\n",
       "0              MainScreenAppear  4575588528974610257  1564029816     246\n",
       "1              MainScreenAppear  7416695313311560658  1564053102     246\n",
       "2       PaymentScreenSuccessful  3518123091307005509  1564054127     248\n",
       "3              CartScreenAppear  3518123091307005509  1564054127     248\n",
       "4       PaymentScreenSuccessful  6217807653094995999  1564055322     248\n",
       "...                         ...                  ...         ...     ...\n",
       "244121         MainScreenAppear  4599628364049201812  1565212345     247\n",
       "244122         MainScreenAppear  5849806612437486590  1565212439     246\n",
       "244123         MainScreenAppear  5746969938801999050  1565212483     246\n",
       "244124         MainScreenAppear  5746969938801999050  1565212498     246\n",
       "244125       OffersScreenAppear  5746969938801999050  1565212517     246\n",
       "\n",
       "[244126 rows x 4 columns]"
      ]
     },
     "execution_count": 17,
     "metadata": {},
     "output_type": "execute_result"
    }
   ],
   "source": [
    "logs"
   ]
  },
  {
   "cell_type": "markdown",
   "id": "d5b0a3f4",
   "metadata": {},
   "source": [
    "**Проверим на дубликаты**"
   ]
  },
  {
   "cell_type": "code",
   "execution_count": 18,
   "id": "68dd041d",
   "metadata": {},
   "outputs": [
    {
     "data": {
      "text/plain": [
       "413"
      ]
     },
     "execution_count": 18,
     "metadata": {},
     "output_type": "execute_result"
    }
   ],
   "source": [
    "logs.duplicated().sum()"
   ]
  },
  {
   "cell_type": "markdown",
   "id": "1cf29c2c",
   "metadata": {},
   "source": [
    "Найдено 413 явных дубликатов"
   ]
  },
  {
   "cell_type": "code",
   "execution_count": 19,
   "id": "d3d94804",
   "metadata": {
    "scrolled": false
   },
   "outputs": [
    {
     "data": {
      "text/plain": [
       "event_name               user_id              dt          exp_id\n",
       "PaymentScreenSuccessful  636437379427729086   1564726206  247       5\n",
       "                         4980045449118619005  1564665640  247       5\n",
       "Tutorial                 3473691793382022823  1564697509  248       5\n",
       "                                              1564697513  248       5\n",
       "                                              1564697648  248       4\n",
       "                                                                   ..\n",
       "MainScreenAppear         3042495735033783433  1565017943  248       1\n",
       "                                              1565030425  248       1\n",
       "                         3043287401310870279  1564645977  247       1\n",
       "                                              1564645986  247       1\n",
       "Tutorial                 9212523802225607780  1564725935  248       1\n",
       "Length: 243713, dtype: int64"
      ]
     },
     "metadata": {},
     "output_type": "display_data"
    }
   ],
   "source": [
    "display(logs.value_counts())"
   ]
  },
  {
   "cell_type": "code",
   "execution_count": 20,
   "id": "7d2d3a2f",
   "metadata": {},
   "outputs": [],
   "source": [
    "logs = logs.drop_duplicates().reset_index(drop = True)"
   ]
  },
  {
   "cell_type": "markdown",
   "id": "75ec2570",
   "metadata": {},
   "source": [
    "Удаляем явные дубликаты"
   ]
  },
  {
   "cell_type": "markdown",
   "id": "ee53cc26",
   "metadata": {},
   "source": [
    "**Добавим столбец с датой и датой и временем**"
   ]
  },
  {
   "cell_type": "code",
   "execution_count": 21,
   "id": "30576556",
   "metadata": {},
   "outputs": [],
   "source": [
    "logs['date_time'] = pd.to_datetime(logs['dt'], unit='s')\n",
    "logs['date'] = pd.to_datetime(logs['date_time']).dt.date"
   ]
  },
  {
   "cell_type": "code",
   "execution_count": 22,
   "id": "023da64e",
   "metadata": {},
   "outputs": [
    {
     "name": "stdout",
     "output_type": "stream",
     "text": [
      "<class 'pandas.core.frame.DataFrame'>\n",
      "RangeIndex: 243713 entries, 0 to 243712\n",
      "Data columns (total 6 columns):\n",
      " #   Column      Non-Null Count   Dtype         \n",
      "---  ------      --------------   -----         \n",
      " 0   event_name  243713 non-null  object        \n",
      " 1   user_id     243713 non-null  int64         \n",
      " 2   dt          243713 non-null  int64         \n",
      " 3   exp_id      243713 non-null  int64         \n",
      " 4   date_time   243713 non-null  datetime64[ns]\n",
      " 5   date        243713 non-null  object        \n",
      "dtypes: datetime64[ns](1), int64(3), object(2)\n",
      "memory usage: 11.2+ MB\n"
     ]
    }
   ],
   "source": [
    "logs.info()"
   ]
  },
  {
   "cell_type": "code",
   "execution_count": 23,
   "id": "73469c76",
   "metadata": {},
   "outputs": [
    {
     "data": {
      "text/html": [
       "<div>\n",
       "<style scoped>\n",
       "    .dataframe tbody tr th:only-of-type {\n",
       "        vertical-align: middle;\n",
       "    }\n",
       "\n",
       "    .dataframe tbody tr th {\n",
       "        vertical-align: top;\n",
       "    }\n",
       "\n",
       "    .dataframe thead th {\n",
       "        text-align: right;\n",
       "    }\n",
       "</style>\n",
       "<table border=\"1\" class=\"dataframe\">\n",
       "  <thead>\n",
       "    <tr style=\"text-align: right;\">\n",
       "      <th></th>\n",
       "      <th>event_name</th>\n",
       "      <th>user_id</th>\n",
       "      <th>dt</th>\n",
       "      <th>exp_id</th>\n",
       "      <th>date_time</th>\n",
       "      <th>date</th>\n",
       "    </tr>\n",
       "  </thead>\n",
       "  <tbody>\n",
       "    <tr>\n",
       "      <th>0</th>\n",
       "      <td>MainScreenAppear</td>\n",
       "      <td>4575588528974610257</td>\n",
       "      <td>1564029816</td>\n",
       "      <td>246</td>\n",
       "      <td>2019-07-25 04:43:36</td>\n",
       "      <td>2019-07-25</td>\n",
       "    </tr>\n",
       "    <tr>\n",
       "      <th>1</th>\n",
       "      <td>MainScreenAppear</td>\n",
       "      <td>7416695313311560658</td>\n",
       "      <td>1564053102</td>\n",
       "      <td>246</td>\n",
       "      <td>2019-07-25 11:11:42</td>\n",
       "      <td>2019-07-25</td>\n",
       "    </tr>\n",
       "    <tr>\n",
       "      <th>2</th>\n",
       "      <td>PaymentScreenSuccessful</td>\n",
       "      <td>3518123091307005509</td>\n",
       "      <td>1564054127</td>\n",
       "      <td>248</td>\n",
       "      <td>2019-07-25 11:28:47</td>\n",
       "      <td>2019-07-25</td>\n",
       "    </tr>\n",
       "    <tr>\n",
       "      <th>3</th>\n",
       "      <td>CartScreenAppear</td>\n",
       "      <td>3518123091307005509</td>\n",
       "      <td>1564054127</td>\n",
       "      <td>248</td>\n",
       "      <td>2019-07-25 11:28:47</td>\n",
       "      <td>2019-07-25</td>\n",
       "    </tr>\n",
       "    <tr>\n",
       "      <th>4</th>\n",
       "      <td>PaymentScreenSuccessful</td>\n",
       "      <td>6217807653094995999</td>\n",
       "      <td>1564055322</td>\n",
       "      <td>248</td>\n",
       "      <td>2019-07-25 11:48:42</td>\n",
       "      <td>2019-07-25</td>\n",
       "    </tr>\n",
       "    <tr>\n",
       "      <th>...</th>\n",
       "      <td>...</td>\n",
       "      <td>...</td>\n",
       "      <td>...</td>\n",
       "      <td>...</td>\n",
       "      <td>...</td>\n",
       "      <td>...</td>\n",
       "    </tr>\n",
       "    <tr>\n",
       "      <th>243708</th>\n",
       "      <td>MainScreenAppear</td>\n",
       "      <td>4599628364049201812</td>\n",
       "      <td>1565212345</td>\n",
       "      <td>247</td>\n",
       "      <td>2019-08-07 21:12:25</td>\n",
       "      <td>2019-08-07</td>\n",
       "    </tr>\n",
       "    <tr>\n",
       "      <th>243709</th>\n",
       "      <td>MainScreenAppear</td>\n",
       "      <td>5849806612437486590</td>\n",
       "      <td>1565212439</td>\n",
       "      <td>246</td>\n",
       "      <td>2019-08-07 21:13:59</td>\n",
       "      <td>2019-08-07</td>\n",
       "    </tr>\n",
       "    <tr>\n",
       "      <th>243710</th>\n",
       "      <td>MainScreenAppear</td>\n",
       "      <td>5746969938801999050</td>\n",
       "      <td>1565212483</td>\n",
       "      <td>246</td>\n",
       "      <td>2019-08-07 21:14:43</td>\n",
       "      <td>2019-08-07</td>\n",
       "    </tr>\n",
       "    <tr>\n",
       "      <th>243711</th>\n",
       "      <td>MainScreenAppear</td>\n",
       "      <td>5746969938801999050</td>\n",
       "      <td>1565212498</td>\n",
       "      <td>246</td>\n",
       "      <td>2019-08-07 21:14:58</td>\n",
       "      <td>2019-08-07</td>\n",
       "    </tr>\n",
       "    <tr>\n",
       "      <th>243712</th>\n",
       "      <td>OffersScreenAppear</td>\n",
       "      <td>5746969938801999050</td>\n",
       "      <td>1565212517</td>\n",
       "      <td>246</td>\n",
       "      <td>2019-08-07 21:15:17</td>\n",
       "      <td>2019-08-07</td>\n",
       "    </tr>\n",
       "  </tbody>\n",
       "</table>\n",
       "<p>243713 rows × 6 columns</p>\n",
       "</div>"
      ],
      "text/plain": [
       "                     event_name              user_id          dt  exp_id  \\\n",
       "0              MainScreenAppear  4575588528974610257  1564029816     246   \n",
       "1              MainScreenAppear  7416695313311560658  1564053102     246   \n",
       "2       PaymentScreenSuccessful  3518123091307005509  1564054127     248   \n",
       "3              CartScreenAppear  3518123091307005509  1564054127     248   \n",
       "4       PaymentScreenSuccessful  6217807653094995999  1564055322     248   \n",
       "...                         ...                  ...         ...     ...   \n",
       "243708         MainScreenAppear  4599628364049201812  1565212345     247   \n",
       "243709         MainScreenAppear  5849806612437486590  1565212439     246   \n",
       "243710         MainScreenAppear  5746969938801999050  1565212483     246   \n",
       "243711         MainScreenAppear  5746969938801999050  1565212498     246   \n",
       "243712       OffersScreenAppear  5746969938801999050  1565212517     246   \n",
       "\n",
       "                 date_time        date  \n",
       "0      2019-07-25 04:43:36  2019-07-25  \n",
       "1      2019-07-25 11:11:42  2019-07-25  \n",
       "2      2019-07-25 11:28:47  2019-07-25  \n",
       "3      2019-07-25 11:28:47  2019-07-25  \n",
       "4      2019-07-25 11:48:42  2019-07-25  \n",
       "...                    ...         ...  \n",
       "243708 2019-08-07 21:12:25  2019-08-07  \n",
       "243709 2019-08-07 21:13:59  2019-08-07  \n",
       "243710 2019-08-07 21:14:43  2019-08-07  \n",
       "243711 2019-08-07 21:14:58  2019-08-07  \n",
       "243712 2019-08-07 21:15:17  2019-08-07  \n",
       "\n",
       "[243713 rows x 6 columns]"
      ]
     },
     "execution_count": 23,
     "metadata": {},
     "output_type": "execute_result"
    }
   ],
   "source": [
    "logs"
   ]
  },
  {
   "cell_type": "markdown",
   "id": "459e8eeb",
   "metadata": {},
   "source": [
    "**Проверим датафрейм на пропуски**"
   ]
  },
  {
   "cell_type": "code",
   "execution_count": 24,
   "id": "6cb54b29",
   "metadata": {},
   "outputs": [
    {
     "data": {
      "text/plain": [
       "event_name    0\n",
       "user_id       0\n",
       "dt            0\n",
       "exp_id        0\n",
       "date_time     0\n",
       "date          0\n",
       "dtype: int64"
      ]
     },
     "execution_count": 24,
     "metadata": {},
     "output_type": "execute_result"
    }
   ],
   "source": [
    "logs.isna().sum()"
   ]
  },
  {
   "cell_type": "markdown",
   "id": "7897aa69",
   "metadata": {},
   "source": [
    "**Вывод:**"
   ]
  },
  {
   "cell_type": "markdown",
   "id": "e34eba40",
   "metadata": {},
   "source": []
  },
  {
   "cell_type": "markdown",
   "id": "eeaa3522",
   "metadata": {},
   "source": [
    "Переименовали столбцы. Удалили явные дубликаты. Добавили стобцы с датой и датой и временем. Пропусков в данных не обнаружено. Размер датасета 243713 строк × 6 столбцов"
   ]
  },
  {
   "cell_type": "markdown",
   "id": "53119f57",
   "metadata": {},
   "source": [
    "# Шаг 3. Изучаем и проверяем данные #"
   ]
  },
  {
   "cell_type": "markdown",
   "id": "6f2a5fa9",
   "metadata": {},
   "source": [
    "**3.1 Посчитаем количество событий в логе**"
   ]
  },
  {
   "cell_type": "code",
   "execution_count": 25,
   "id": "a0d5ba4c",
   "metadata": {},
   "outputs": [
    {
     "data": {
      "text/plain": [
       "MainScreenAppear           119101\n",
       "OffersScreenAppear          46808\n",
       "CartScreenAppear            42668\n",
       "PaymentScreenSuccessful     34118\n",
       "Tutorial                     1018\n",
       "Name: event_name, dtype: int64"
      ]
     },
     "execution_count": 25,
     "metadata": {},
     "output_type": "execute_result"
    }
   ],
   "source": [
    "logs['event_name'].value_counts()"
   ]
  },
  {
   "cell_type": "code",
   "execution_count": 26,
   "id": "3334610a",
   "metadata": {},
   "outputs": [
    {
     "data": {
      "text/plain": [
       "243713"
      ]
     },
     "execution_count": 26,
     "metadata": {},
     "output_type": "execute_result"
    }
   ],
   "source": [
    "logs['event_name'].count()"
   ]
  },
  {
   "cell_type": "markdown",
   "id": "708d79e6",
   "metadata": {},
   "source": [
    "**3.2 Посчитаем количество пользователей в логе**"
   ]
  },
  {
   "cell_type": "code",
   "execution_count": 27,
   "id": "a37128bf",
   "metadata": {},
   "outputs": [
    {
     "data": {
      "text/plain": [
       "7551"
      ]
     },
     "execution_count": 27,
     "metadata": {},
     "output_type": "execute_result"
    }
   ],
   "source": [
    "logs['user_id'].nunique()"
   ]
  },
  {
   "cell_type": "markdown",
   "id": "65f6dbc5",
   "metadata": {},
   "source": [
    "**3.3 Сколько в среднем событий приходится на пользователя?**"
   ]
  },
  {
   "cell_type": "code",
   "execution_count": 28,
   "id": "993c4127",
   "metadata": {},
   "outputs": [
    {
     "name": "stdout",
     "output_type": "stream",
     "text": [
      "32.27559263673685\n"
     ]
    }
   ],
   "source": [
    "print(logs['event_name'].count()/logs['user_id'].nunique())"
   ]
  },
  {
   "cell_type": "raw",
   "id": "7fb55856",
   "metadata": {},
   "source": [
    "\n",
    "fig = px.bar(evnt_cnt, x=evnt_cnt.index, y='user_id', title=\"Диаграмма распределения количества событий по пользователям\")\n",
    "fig.show()"
   ]
  },
  {
   "cell_type": "markdown",
   "id": "5764c524",
   "metadata": {},
   "source": [
    "**3.4**"
   ]
  },
  {
   "cell_type": "markdown",
   "id": "0e81c70a",
   "metadata": {},
   "source": [
    "**Найдем максимальную и минимальную дату.**"
   ]
  },
  {
   "cell_type": "code",
   "execution_count": 29,
   "id": "d9dbfd22",
   "metadata": {},
   "outputs": [
    {
     "data": {
      "text/html": [
       "<div>\n",
       "<style scoped>\n",
       "    .dataframe tbody tr th:only-of-type {\n",
       "        vertical-align: middle;\n",
       "    }\n",
       "\n",
       "    .dataframe tbody tr th {\n",
       "        vertical-align: top;\n",
       "    }\n",
       "\n",
       "    .dataframe thead th {\n",
       "        text-align: right;\n",
       "    }\n",
       "</style>\n",
       "<table border=\"1\" class=\"dataframe\">\n",
       "  <thead>\n",
       "    <tr style=\"text-align: right;\">\n",
       "      <th></th>\n",
       "      <th>date</th>\n",
       "    </tr>\n",
       "  </thead>\n",
       "  <tbody>\n",
       "    <tr>\n",
       "      <th>max</th>\n",
       "      <td>2019-08-07</td>\n",
       "    </tr>\n",
       "    <tr>\n",
       "      <th>min</th>\n",
       "      <td>2019-07-25</td>\n",
       "    </tr>\n",
       "  </tbody>\n",
       "</table>\n",
       "</div>"
      ],
      "text/plain": [
       "           date\n",
       "max  2019-08-07\n",
       "min  2019-07-25"
      ]
     },
     "execution_count": 29,
     "metadata": {},
     "output_type": "execute_result"
    }
   ],
   "source": [
    "logs.agg({'date':['max','min']})"
   ]
  },
  {
   "cell_type": "code",
   "execution_count": 30,
   "id": "aa083d07",
   "metadata": {},
   "outputs": [
    {
     "data": {
      "text/html": [
       "<div>\n",
       "<style scoped>\n",
       "    .dataframe tbody tr th:only-of-type {\n",
       "        vertical-align: middle;\n",
       "    }\n",
       "\n",
       "    .dataframe tbody tr th {\n",
       "        vertical-align: top;\n",
       "    }\n",
       "\n",
       "    .dataframe thead th {\n",
       "        text-align: right;\n",
       "    }\n",
       "</style>\n",
       "<table border=\"1\" class=\"dataframe\">\n",
       "  <thead>\n",
       "    <tr style=\"text-align: right;\">\n",
       "      <th></th>\n",
       "      <th>date_time</th>\n",
       "    </tr>\n",
       "  </thead>\n",
       "  <tbody>\n",
       "    <tr>\n",
       "      <th>max</th>\n",
       "      <td>2019-08-07 21:15:17</td>\n",
       "    </tr>\n",
       "    <tr>\n",
       "      <th>min</th>\n",
       "      <td>2019-07-25 04:43:36</td>\n",
       "    </tr>\n",
       "  </tbody>\n",
       "</table>\n",
       "</div>"
      ],
      "text/plain": [
       "              date_time\n",
       "max 2019-08-07 21:15:17\n",
       "min 2019-07-25 04:43:36"
      ]
     },
     "execution_count": 30,
     "metadata": {},
     "output_type": "execute_result"
    }
   ],
   "source": [
    "logs.agg({'date_time':['max','min']})"
   ]
  },
  {
   "cell_type": "markdown",
   "id": "9edcaa4a",
   "metadata": {},
   "source": [
    "Максимальная дата: 2019-08-07 21:15:17 <br>\n",
    "Минимальная дата: 2019-07-25 04:43:36"
   ]
  },
  {
   "cell_type": "code",
   "execution_count": 31,
   "id": "a7de7a72",
   "metadata": {},
   "outputs": [
    {
     "data": {
      "text/plain": [
       "datetime.timedelta(days=13)"
      ]
     },
     "execution_count": 31,
     "metadata": {},
     "output_type": "execute_result"
    }
   ],
   "source": [
    "logs['date'].max() - logs['date'].min()"
   ]
  },
  {
   "cell_type": "code",
   "execution_count": 32,
   "id": "ffd8b8a3",
   "metadata": {},
   "outputs": [
    {
     "data": {
      "text/plain": [
       "Timedelta('13 days 16:31:41')"
      ]
     },
     "execution_count": 32,
     "metadata": {},
     "output_type": "execute_result"
    }
   ],
   "source": [
    "logs['date_time'].max() - logs['date_time'].min()"
   ]
  },
  {
   "cell_type": "markdown",
   "id": "ca7693d8",
   "metadata": {},
   "source": [
    "**Построим гистограмму по дате и времени**"
   ]
  },
  {
   "cell_type": "code",
   "execution_count": 33,
   "id": "05385cfb",
   "metadata": {
    "scrolled": false
   },
   "outputs": [
    {
     "data": {
      "image/png": "[encoded data removed]",
      "text/plain": [
       "<Figure size 1400x500 with 1 Axes>"
      ]
     },
     "metadata": {},
     "output_type": "display_data"
    }
   ],
   "source": [
    "logs['date_time'].hist(bins=14*24, figsize=(14, 5));"
   ]
  },
  {
   "cell_type": "code",
   "execution_count": 34,
   "id": "88ebc55b",
   "metadata": {
    "scrolled": false
   },
   "outputs": [
    {
     "data": {
      "image/png": "[encoded data removed]",
      "text/plain": [
       "<Figure size 640x480 with 1 Axes>"
      ]
     },
     "metadata": {},
     "output_type": "display_data"
    },
    {
     "data": {
      "text/plain": [
       "<Figure size 1000x800 with 0 Axes>"
      ]
     },
     "metadata": {},
     "output_type": "display_data"
    }
   ],
   "source": [
    "\n",
    "fig, ax = plt.subplots()\n",
    "plt.figure(figsize = (10, 8))\n",
    "logs['date_time'].astype(np.int64).plot.hist(ax=ax, bins = 14*24)\n",
    "labels = ax.get_xticks().tolist()\n",
    "labels = pd.to_datetime(labels)\n",
    "ax.set_xticklabels(labels, rotation=60)\n",
    "plt.show();"
   ]
  },
  {
   "cell_type": "code",
   "execution_count": null,
   "id": "2223aa05",
   "metadata": {},
   "outputs": [],
   "source": []
  },
  {
   "cell_type": "markdown",
   "id": "683714ce",
   "metadata": {},
   "source": [
    "Оставляем данные, начиная с 2019-07-31 20:00, потому что до этого времени присутствуют 'доезды', которые могут 'перекосить данные'"
   ]
  },
  {
   "cell_type": "markdown",
   "id": "ca25e467",
   "metadata": {},
   "source": [
    "**Посчитаем потерю данных и пользователей**"
   ]
  },
  {
   "cell_type": "code",
   "execution_count": 35,
   "id": "721dc36d",
   "metadata": {},
   "outputs": [],
   "source": [
    "good_logs = logs[logs['date_time'] >= '2019-07-31 20:00']"
   ]
  },
  {
   "cell_type": "code",
   "execution_count": 36,
   "id": "990bde16",
   "metadata": {
    "scrolled": false
   },
   "outputs": [
    {
     "data": {
      "text/html": [
       "<div>\n",
       "<style scoped>\n",
       "    .dataframe tbody tr th:only-of-type {\n",
       "        vertical-align: middle;\n",
       "    }\n",
       "\n",
       "    .dataframe tbody tr th {\n",
       "        vertical-align: top;\n",
       "    }\n",
       "\n",
       "    .dataframe thead th {\n",
       "        text-align: right;\n",
       "    }\n",
       "</style>\n",
       "<table border=\"1\" class=\"dataframe\">\n",
       "  <thead>\n",
       "    <tr style=\"text-align: right;\">\n",
       "      <th></th>\n",
       "      <th>event_name</th>\n",
       "      <th>user_id</th>\n",
       "      <th>dt</th>\n",
       "      <th>exp_id</th>\n",
       "      <th>date_time</th>\n",
       "      <th>date</th>\n",
       "    </tr>\n",
       "  </thead>\n",
       "  <tbody>\n",
       "    <tr>\n",
       "      <th>1933</th>\n",
       "      <td>MainScreenAppear</td>\n",
       "      <td>2386905776711210873</td>\n",
       "      <td>1564603203</td>\n",
       "      <td>246</td>\n",
       "      <td>2019-07-31 20:00:03</td>\n",
       "      <td>2019-07-31</td>\n",
       "    </tr>\n",
       "    <tr>\n",
       "      <th>1934</th>\n",
       "      <td>OffersScreenAppear</td>\n",
       "      <td>2659616611828697302</td>\n",
       "      <td>1564603243</td>\n",
       "      <td>248</td>\n",
       "      <td>2019-07-31 20:00:43</td>\n",
       "      <td>2019-07-31</td>\n",
       "    </tr>\n",
       "    <tr>\n",
       "      <th>1935</th>\n",
       "      <td>OffersScreenAppear</td>\n",
       "      <td>5638333191822379090</td>\n",
       "      <td>1564603246</td>\n",
       "      <td>248</td>\n",
       "      <td>2019-07-31 20:00:46</td>\n",
       "      <td>2019-07-31</td>\n",
       "    </tr>\n",
       "    <tr>\n",
       "      <th>1936</th>\n",
       "      <td>MainScreenAppear</td>\n",
       "      <td>2419517597868248322</td>\n",
       "      <td>1564603362</td>\n",
       "      <td>247</td>\n",
       "      <td>2019-07-31 20:02:42</td>\n",
       "      <td>2019-07-31</td>\n",
       "    </tr>\n",
       "    <tr>\n",
       "      <th>1937</th>\n",
       "      <td>MainScreenAppear</td>\n",
       "      <td>4649999248492122991</td>\n",
       "      <td>1564603501</td>\n",
       "      <td>248</td>\n",
       "      <td>2019-07-31 20:05:01</td>\n",
       "      <td>2019-07-31</td>\n",
       "    </tr>\n",
       "    <tr>\n",
       "      <th>...</th>\n",
       "      <td>...</td>\n",
       "      <td>...</td>\n",
       "      <td>...</td>\n",
       "      <td>...</td>\n",
       "      <td>...</td>\n",
       "      <td>...</td>\n",
       "    </tr>\n",
       "    <tr>\n",
       "      <th>243708</th>\n",
       "      <td>MainScreenAppear</td>\n",
       "      <td>4599628364049201812</td>\n",
       "      <td>1565212345</td>\n",
       "      <td>247</td>\n",
       "      <td>2019-08-07 21:12:25</td>\n",
       "      <td>2019-08-07</td>\n",
       "    </tr>\n",
       "    <tr>\n",
       "      <th>243709</th>\n",
       "      <td>MainScreenAppear</td>\n",
       "      <td>5849806612437486590</td>\n",
       "      <td>1565212439</td>\n",
       "      <td>246</td>\n",
       "      <td>2019-08-07 21:13:59</td>\n",
       "      <td>2019-08-07</td>\n",
       "    </tr>\n",
       "    <tr>\n",
       "      <th>243710</th>\n",
       "      <td>MainScreenAppear</td>\n",
       "      <td>5746969938801999050</td>\n",
       "      <td>1565212483</td>\n",
       "      <td>246</td>\n",
       "      <td>2019-08-07 21:14:43</td>\n",
       "      <td>2019-08-07</td>\n",
       "    </tr>\n",
       "    <tr>\n",
       "      <th>243711</th>\n",
       "      <td>MainScreenAppear</td>\n",
       "      <td>5746969938801999050</td>\n",
       "      <td>1565212498</td>\n",
       "      <td>246</td>\n",
       "      <td>2019-08-07 21:14:58</td>\n",
       "      <td>2019-08-07</td>\n",
       "    </tr>\n",
       "    <tr>\n",
       "      <th>243712</th>\n",
       "      <td>OffersScreenAppear</td>\n",
       "      <td>5746969938801999050</td>\n",
       "      <td>1565212517</td>\n",
       "      <td>246</td>\n",
       "      <td>2019-08-07 21:15:17</td>\n",
       "      <td>2019-08-07</td>\n",
       "    </tr>\n",
       "  </tbody>\n",
       "</table>\n",
       "<p>241780 rows × 6 columns</p>\n",
       "</div>"
      ],
      "text/plain": [
       "                event_name              user_id          dt  exp_id  \\\n",
       "1933      MainScreenAppear  2386905776711210873  1564603203     246   \n",
       "1934    OffersScreenAppear  2659616611828697302  1564603243     248   \n",
       "1935    OffersScreenAppear  5638333191822379090  1564603246     248   \n",
       "1936      MainScreenAppear  2419517597868248322  1564603362     247   \n",
       "1937      MainScreenAppear  4649999248492122991  1564603501     248   \n",
       "...                    ...                  ...         ...     ...   \n",
       "243708    MainScreenAppear  4599628364049201812  1565212345     247   \n",
       "243709    MainScreenAppear  5849806612437486590  1565212439     246   \n",
       "243710    MainScreenAppear  5746969938801999050  1565212483     246   \n",
       "243711    MainScreenAppear  5746969938801999050  1565212498     246   \n",
       "243712  OffersScreenAppear  5746969938801999050  1565212517     246   \n",
       "\n",
       "                 date_time        date  \n",
       "1933   2019-07-31 20:00:03  2019-07-31  \n",
       "1934   2019-07-31 20:00:43  2019-07-31  \n",
       "1935   2019-07-31 20:00:46  2019-07-31  \n",
       "1936   2019-07-31 20:02:42  2019-07-31  \n",
       "1937   2019-07-31 20:05:01  2019-07-31  \n",
       "...                    ...         ...  \n",
       "243708 2019-08-07 21:12:25  2019-08-07  \n",
       "243709 2019-08-07 21:13:59  2019-08-07  \n",
       "243710 2019-08-07 21:14:43  2019-08-07  \n",
       "243711 2019-08-07 21:14:58  2019-08-07  \n",
       "243712 2019-08-07 21:15:17  2019-08-07  \n",
       "\n",
       "[241780 rows x 6 columns]"
      ]
     },
     "execution_count": 36,
     "metadata": {},
     "output_type": "execute_result"
    }
   ],
   "source": [
    "good_logs"
   ]
  },
  {
   "cell_type": "code",
   "execution_count": 37,
   "id": "cb1d59b4",
   "metadata": {},
   "outputs": [
    {
     "data": {
      "text/plain": [
       "0.7931460365265708"
      ]
     },
     "execution_count": 37,
     "metadata": {},
     "output_type": "execute_result"
    }
   ],
   "source": [
    "(1-(good_logs.shape[0]/logs.shape[0]))*100"
   ]
  },
  {
   "cell_type": "markdown",
   "id": "fab0fa09",
   "metadata": {},
   "source": [
    "Потеря данных - 0.82%"
   ]
  },
  {
   "cell_type": "code",
   "execution_count": 38,
   "id": "c2d6900c",
   "metadata": {},
   "outputs": [
    {
     "data": {
      "text/plain": [
       "0.17216262746656552"
      ]
     },
     "execution_count": 38,
     "metadata": {},
     "output_type": "execute_result"
    }
   ],
   "source": [
    "(1-(good_logs.user_id.nunique()/logs.user_id.nunique()))*100"
   ]
  },
  {
   "cell_type": "markdown",
   "id": "1a7c1865",
   "metadata": {},
   "source": [
    "Потеря пользователей - 0.17%"
   ]
  },
  {
   "cell_type": "code",
   "execution_count": 39,
   "id": "5fdeaf29",
   "metadata": {},
   "outputs": [
    {
     "data": {
      "text/plain": [
       "1933"
      ]
     },
     "execution_count": 39,
     "metadata": {},
     "output_type": "execute_result"
    }
   ],
   "source": [
    "logs.shape[0] - good_logs.shape[0]"
   ]
  },
  {
   "cell_type": "code",
   "execution_count": 40,
   "id": "33bce8b8",
   "metadata": {},
   "outputs": [
    {
     "data": {
      "text/plain": [
       "13"
      ]
     },
     "execution_count": 40,
     "metadata": {},
     "output_type": "execute_result"
    }
   ],
   "source": [
    "logs.user_id.nunique() - good_logs.user_id.nunique()"
   ]
  },
  {
   "cell_type": "markdown",
   "id": "645d05ae",
   "metadata": {},
   "source": [
    "**Поверим, наличие пользователей из всех трёх экспериментальных групп.**"
   ]
  },
  {
   "cell_type": "code",
   "execution_count": 41,
   "id": "df91dc3e",
   "metadata": {},
   "outputs": [
    {
     "data": {
      "text/html": [
       "<div>\n",
       "<style scoped>\n",
       "    .dataframe tbody tr th:only-of-type {\n",
       "        vertical-align: middle;\n",
       "    }\n",
       "\n",
       "    .dataframe tbody tr th {\n",
       "        vertical-align: top;\n",
       "    }\n",
       "\n",
       "    .dataframe thead th {\n",
       "        text-align: right;\n",
       "    }\n",
       "</style>\n",
       "<table border=\"1\" class=\"dataframe\">\n",
       "  <thead>\n",
       "    <tr style=\"text-align: right;\">\n",
       "      <th></th>\n",
       "      <th>user_id</th>\n",
       "    </tr>\n",
       "    <tr>\n",
       "      <th>exp_id</th>\n",
       "      <th></th>\n",
       "    </tr>\n",
       "  </thead>\n",
       "  <tbody>\n",
       "    <tr>\n",
       "      <th>246</th>\n",
       "      <td>2484</td>\n",
       "    </tr>\n",
       "    <tr>\n",
       "      <th>247</th>\n",
       "      <td>2517</td>\n",
       "    </tr>\n",
       "    <tr>\n",
       "      <th>248</th>\n",
       "      <td>2537</td>\n",
       "    </tr>\n",
       "  </tbody>\n",
       "</table>\n",
       "</div>"
      ],
      "text/plain": [
       "        user_id\n",
       "exp_id         \n",
       "246        2484\n",
       "247        2517\n",
       "248        2537"
      ]
     },
     "execution_count": 41,
     "metadata": {},
     "output_type": "execute_result"
    }
   ],
   "source": [
    "good_logs.groupby('exp_id').agg({'user_id' : 'nunique'})"
   ]
  },
  {
   "cell_type": "markdown",
   "id": "53f02442",
   "metadata": {},
   "source": [
    "# Шаг 4. Изучаем воронку событий #"
   ]
  },
  {
   "cell_type": "markdown",
   "id": "aaa3bfbc",
   "metadata": {},
   "source": [
    "**4.1 Посмотрим, какие события есть в логах, как часто они встречаются. Отсортируем события по частоте.**"
   ]
  },
  {
   "cell_type": "code",
   "execution_count": 42,
   "id": "1825366b",
   "metadata": {},
   "outputs": [
    {
     "data": {
      "text/plain": [
       "MainScreenAppear           117919\n",
       "OffersScreenAppear          46546\n",
       "CartScreenAppear            42351\n",
       "PaymentScreenSuccessful     33954\n",
       "Tutorial                     1010\n",
       "Name: event_name, dtype: int64"
      ]
     },
     "execution_count": 42,
     "metadata": {},
     "output_type": "execute_result"
    }
   ],
   "source": [
    "good_logs['event_name'].value_counts()"
   ]
  },
  {
   "cell_type": "markdown",
   "id": "1d2eb770",
   "metadata": {},
   "source": [
    "**4.2 Посчитаем, сколько пользователей совершали каждое из этих событий. Отсортируем события по числу пользователей. Посчитаем долю пользователей, которые хоть раз совершали событие.**"
   ]
  },
  {
   "cell_type": "code",
   "execution_count": 43,
   "id": "2e2f64c8",
   "metadata": {},
   "outputs": [],
   "source": [
    "evnt_cnt = good_logs.groupby('event_name').agg({'user_id' : ['nunique']})\n",
    "evnt_cnt.columns = ['user_id']"
   ]
  },
  {
   "cell_type": "code",
   "execution_count": 44,
   "id": "e7a07d0b",
   "metadata": {},
   "outputs": [],
   "source": [
    "evnt_cnt['perc'] = evnt_cnt['user_id']/good_logs['user_id'].nunique()"
   ]
  },
  {
   "cell_type": "code",
   "execution_count": 45,
   "id": "ff3b9a70",
   "metadata": {},
   "outputs": [],
   "source": [
    "evnt_cnt = evnt_cnt.sort_values('user_id', ascending = False)"
   ]
  },
  {
   "cell_type": "code",
   "execution_count": 46,
   "id": "ba7d1ee3",
   "metadata": {},
   "outputs": [
    {
     "data": {
      "text/html": [
       "<div>\n",
       "<style scoped>\n",
       "    .dataframe tbody tr th:only-of-type {\n",
       "        vertical-align: middle;\n",
       "    }\n",
       "\n",
       "    .dataframe tbody tr th {\n",
       "        vertical-align: top;\n",
       "    }\n",
       "\n",
       "    .dataframe thead th {\n",
       "        text-align: right;\n",
       "    }\n",
       "</style>\n",
       "<table border=\"1\" class=\"dataframe\">\n",
       "  <thead>\n",
       "    <tr style=\"text-align: right;\">\n",
       "      <th></th>\n",
       "      <th>user_id</th>\n",
       "      <th>perc</th>\n",
       "    </tr>\n",
       "    <tr>\n",
       "      <th>event_name</th>\n",
       "      <th></th>\n",
       "      <th></th>\n",
       "    </tr>\n",
       "  </thead>\n",
       "  <tbody>\n",
       "    <tr>\n",
       "      <th>MainScreenAppear</th>\n",
       "      <td>7423</td>\n",
       "      <td>0.984744</td>\n",
       "    </tr>\n",
       "    <tr>\n",
       "      <th>OffersScreenAppear</th>\n",
       "      <td>4598</td>\n",
       "      <td>0.609976</td>\n",
       "    </tr>\n",
       "    <tr>\n",
       "      <th>CartScreenAppear</th>\n",
       "      <td>3736</td>\n",
       "      <td>0.495622</td>\n",
       "    </tr>\n",
       "    <tr>\n",
       "      <th>PaymentScreenSuccessful</th>\n",
       "      <td>3540</td>\n",
       "      <td>0.469621</td>\n",
       "    </tr>\n",
       "    <tr>\n",
       "      <th>Tutorial</th>\n",
       "      <td>843</td>\n",
       "      <td>0.111833</td>\n",
       "    </tr>\n",
       "  </tbody>\n",
       "</table>\n",
       "</div>"
      ],
      "text/plain": [
       "                         user_id      perc\n",
       "event_name                                \n",
       "MainScreenAppear            7423  0.984744\n",
       "OffersScreenAppear          4598  0.609976\n",
       "CartScreenAppear            3736  0.495622\n",
       "PaymentScreenSuccessful     3540  0.469621\n",
       "Tutorial                     843  0.111833"
      ]
     },
     "execution_count": 46,
     "metadata": {},
     "output_type": "execute_result"
    }
   ],
   "source": [
    "evnt_cnt"
   ]
  },
  {
   "cell_type": "markdown",
   "id": "338cded0",
   "metadata": {},
   "source": [
    "**4.3 Проанализируем последовательность событий**"
   ]
  },
  {
   "cell_type": "markdown",
   "id": "e9712a77",
   "metadata": {},
   "source": [
    "1) MainScreenApear - показ главной странички<br>\n",
    "2) OffersScreenAppear - каталог<br>\n",
    "3) CartScreenAppear - корзина <br>\n",
    "4) PaymentScreenSuccessful - экран с успешной оплатой <br>\n",
    "5) Tutorial - обучение <br>"
   ]
  },
  {
   "cell_type": "markdown",
   "id": "81c12fbb",
   "metadata": {},
   "source": [
    "Последовательность такая - 1,2,3,4. Обучение можно выкинуть, потому что большинство пользователей пропускают этот пункт."
   ]
  },
  {
   "cell_type": "code",
   "execution_count": 47,
   "id": "98a72f49",
   "metadata": {},
   "outputs": [],
   "source": [
    "funnel = evnt_cnt.query('event_name != \"Tutorial\"')"
   ]
  },
  {
   "cell_type": "code",
   "execution_count": 48,
   "id": "a5b4758e",
   "metadata": {},
   "outputs": [
    {
     "name": "stdout",
     "output_type": "stream",
     "text": [
      "                         user_id      perc\n",
      "event_name                                \n",
      "MainScreenAppear            7423  0.984744\n",
      "OffersScreenAppear          4598  0.609976\n",
      "CartScreenAppear            3736  0.495622\n",
      "PaymentScreenSuccessful     3540  0.469621\n"
     ]
    }
   ],
   "source": [
    "print(funnel)"
   ]
  },
  {
   "cell_type": "markdown",
   "id": "999de06f",
   "metadata": {},
   "source": [
    "**4.4 По воронке событий посчитаем, какая доля пользователей проходит на следующий шаг воронки**"
   ]
  },
  {
   "cell_type": "code",
   "execution_count": 49,
   "id": "49c54f07",
   "metadata": {},
   "outputs": [],
   "source": [
    "funnel['conversion'] = funnel['user_id']/funnel['user_id'].shift(periods = 1)"
   ]
  },
  {
   "cell_type": "code",
   "execution_count": 50,
   "id": "795161bb",
   "metadata": {},
   "outputs": [
    {
     "data": {
      "text/html": [
       "<div>\n",
       "<style scoped>\n",
       "    .dataframe tbody tr th:only-of-type {\n",
       "        vertical-align: middle;\n",
       "    }\n",
       "\n",
       "    .dataframe tbody tr th {\n",
       "        vertical-align: top;\n",
       "    }\n",
       "\n",
       "    .dataframe thead th {\n",
       "        text-align: right;\n",
       "    }\n",
       "</style>\n",
       "<table border=\"1\" class=\"dataframe\">\n",
       "  <thead>\n",
       "    <tr style=\"text-align: right;\">\n",
       "      <th></th>\n",
       "      <th>user_id</th>\n",
       "      <th>perc</th>\n",
       "      <th>conversion</th>\n",
       "    </tr>\n",
       "    <tr>\n",
       "      <th>event_name</th>\n",
       "      <th></th>\n",
       "      <th></th>\n",
       "      <th></th>\n",
       "    </tr>\n",
       "  </thead>\n",
       "  <tbody>\n",
       "    <tr>\n",
       "      <th>MainScreenAppear</th>\n",
       "      <td>7423</td>\n",
       "      <td>0.984744</td>\n",
       "      <td>NaN</td>\n",
       "    </tr>\n",
       "    <tr>\n",
       "      <th>OffersScreenAppear</th>\n",
       "      <td>4598</td>\n",
       "      <td>0.609976</td>\n",
       "      <td>0.619426</td>\n",
       "    </tr>\n",
       "    <tr>\n",
       "      <th>CartScreenAppear</th>\n",
       "      <td>3736</td>\n",
       "      <td>0.495622</td>\n",
       "      <td>0.812527</td>\n",
       "    </tr>\n",
       "    <tr>\n",
       "      <th>PaymentScreenSuccessful</th>\n",
       "      <td>3540</td>\n",
       "      <td>0.469621</td>\n",
       "      <td>0.947537</td>\n",
       "    </tr>\n",
       "  </tbody>\n",
       "</table>\n",
       "</div>"
      ],
      "text/plain": [
       "                         user_id      perc  conversion\n",
       "event_name                                            \n",
       "MainScreenAppear            7423  0.984744         NaN\n",
       "OffersScreenAppear          4598  0.609976    0.619426\n",
       "CartScreenAppear            3736  0.495622    0.812527\n",
       "PaymentScreenSuccessful     3540  0.469621    0.947537"
      ]
     },
     "execution_count": 50,
     "metadata": {},
     "output_type": "execute_result"
    }
   ],
   "source": [
    "funnel"
   ]
  },
  {
   "cell_type": "markdown",
   "id": "4f927bfb",
   "metadata": {},
   "source": [
    "**4.5 На каком шаге теряется больше всего пользователей?**"
   ]
  },
  {
   "cell_type": "code",
   "execution_count": 51,
   "id": "f3d69c16",
   "metadata": {},
   "outputs": [],
   "source": [
    "funnel['lost'] = funnel['user_id'].shift(periods = 1) - funnel['user_id']"
   ]
  },
  {
   "cell_type": "code",
   "execution_count": 52,
   "id": "38658bc8",
   "metadata": {},
   "outputs": [
    {
     "data": {
      "text/html": [
       "<div>\n",
       "<style scoped>\n",
       "    .dataframe tbody tr th:only-of-type {\n",
       "        vertical-align: middle;\n",
       "    }\n",
       "\n",
       "    .dataframe tbody tr th {\n",
       "        vertical-align: top;\n",
       "    }\n",
       "\n",
       "    .dataframe thead th {\n",
       "        text-align: right;\n",
       "    }\n",
       "</style>\n",
       "<table border=\"1\" class=\"dataframe\">\n",
       "  <thead>\n",
       "    <tr style=\"text-align: right;\">\n",
       "      <th></th>\n",
       "      <th>user_id</th>\n",
       "      <th>perc</th>\n",
       "      <th>conversion</th>\n",
       "      <th>lost</th>\n",
       "    </tr>\n",
       "    <tr>\n",
       "      <th>event_name</th>\n",
       "      <th></th>\n",
       "      <th></th>\n",
       "      <th></th>\n",
       "      <th></th>\n",
       "    </tr>\n",
       "  </thead>\n",
       "  <tbody>\n",
       "    <tr>\n",
       "      <th>MainScreenAppear</th>\n",
       "      <td>7423</td>\n",
       "      <td>0.984744</td>\n",
       "      <td>NaN</td>\n",
       "      <td>NaN</td>\n",
       "    </tr>\n",
       "    <tr>\n",
       "      <th>OffersScreenAppear</th>\n",
       "      <td>4598</td>\n",
       "      <td>0.609976</td>\n",
       "      <td>0.619426</td>\n",
       "      <td>2825.0</td>\n",
       "    </tr>\n",
       "    <tr>\n",
       "      <th>CartScreenAppear</th>\n",
       "      <td>3736</td>\n",
       "      <td>0.495622</td>\n",
       "      <td>0.812527</td>\n",
       "      <td>862.0</td>\n",
       "    </tr>\n",
       "    <tr>\n",
       "      <th>PaymentScreenSuccessful</th>\n",
       "      <td>3540</td>\n",
       "      <td>0.469621</td>\n",
       "      <td>0.947537</td>\n",
       "      <td>196.0</td>\n",
       "    </tr>\n",
       "  </tbody>\n",
       "</table>\n",
       "</div>"
      ],
      "text/plain": [
       "                         user_id      perc  conversion    lost\n",
       "event_name                                                    \n",
       "MainScreenAppear            7423  0.984744         NaN     NaN\n",
       "OffersScreenAppear          4598  0.609976    0.619426  2825.0\n",
       "CartScreenAppear            3736  0.495622    0.812527   862.0\n",
       "PaymentScreenSuccessful     3540  0.469621    0.947537   196.0"
      ]
     },
     "execution_count": 52,
     "metadata": {},
     "output_type": "execute_result"
    }
   ],
   "source": [
    "funnel"
   ]
  },
  {
   "cell_type": "markdown",
   "id": "69ce024e",
   "metadata": {},
   "source": [
    "Больше всего пользователей теряется после 1 шага (после главного экран)"
   ]
  },
  {
   "cell_type": "markdown",
   "id": "edd337cb",
   "metadata": {},
   "source": [
    "**4.6 Какая доля пользователей доходит от первого события до оплаты?**"
   ]
  },
  {
   "cell_type": "code",
   "execution_count": 53,
   "id": "d411c105",
   "metadata": {
    "scrolled": false
   },
   "outputs": [
    {
     "data": {
      "text/plain": [
       "event_name\n",
       "MainScreenAppear                NaN\n",
       "OffersScreenAppear              NaN\n",
       "CartScreenAppear                NaN\n",
       "PaymentScreenSuccessful    0.476896\n",
       "Name: user_id, dtype: float64"
      ]
     },
     "execution_count": 53,
     "metadata": {},
     "output_type": "execute_result"
    }
   ],
   "source": [
    "funnel['user_id']/funnel['user_id'].shift(periods = 3)"
   ]
  },
  {
   "cell_type": "code",
   "execution_count": 54,
   "id": "d5245854",
   "metadata": {},
   "outputs": [],
   "source": [
    "funnel['event_name'] = funnel.index"
   ]
  },
  {
   "cell_type": "markdown",
   "id": "88aa985a",
   "metadata": {},
   "source": [
    "47.6% процентов доходят до оплаты"
   ]
  },
  {
   "cell_type": "code",
   "execution_count": 55,
   "id": "9dc4fcea",
   "metadata": {},
   "outputs": [
    {
     "data": {
      "text/html": [
       "<div>\n",
       "<style scoped>\n",
       "    .dataframe tbody tr th:only-of-type {\n",
       "        vertical-align: middle;\n",
       "    }\n",
       "\n",
       "    .dataframe tbody tr th {\n",
       "        vertical-align: top;\n",
       "    }\n",
       "\n",
       "    .dataframe thead th {\n",
       "        text-align: right;\n",
       "    }\n",
       "</style>\n",
       "<table border=\"1\" class=\"dataframe\">\n",
       "  <thead>\n",
       "    <tr style=\"text-align: right;\">\n",
       "      <th></th>\n",
       "      <th>user_id</th>\n",
       "      <th>perc</th>\n",
       "      <th>conversion</th>\n",
       "      <th>lost</th>\n",
       "      <th>event_name</th>\n",
       "    </tr>\n",
       "  </thead>\n",
       "  <tbody>\n",
       "    <tr>\n",
       "      <th>0</th>\n",
       "      <td>7423</td>\n",
       "      <td>0.984744</td>\n",
       "      <td>NaN</td>\n",
       "      <td>NaN</td>\n",
       "      <td>MainScreenAppear</td>\n",
       "    </tr>\n",
       "    <tr>\n",
       "      <th>1</th>\n",
       "      <td>4598</td>\n",
       "      <td>0.609976</td>\n",
       "      <td>0.619426</td>\n",
       "      <td>2825.0</td>\n",
       "      <td>OffersScreenAppear</td>\n",
       "    </tr>\n",
       "    <tr>\n",
       "      <th>2</th>\n",
       "      <td>3736</td>\n",
       "      <td>0.495622</td>\n",
       "      <td>0.812527</td>\n",
       "      <td>862.0</td>\n",
       "      <td>CartScreenAppear</td>\n",
       "    </tr>\n",
       "    <tr>\n",
       "      <th>3</th>\n",
       "      <td>3540</td>\n",
       "      <td>0.469621</td>\n",
       "      <td>0.947537</td>\n",
       "      <td>196.0</td>\n",
       "      <td>PaymentScreenSuccessful</td>\n",
       "    </tr>\n",
       "  </tbody>\n",
       "</table>\n",
       "</div>"
      ],
      "text/plain": [
       "   user_id      perc  conversion    lost               event_name\n",
       "0     7423  0.984744         NaN     NaN         MainScreenAppear\n",
       "1     4598  0.609976    0.619426  2825.0       OffersScreenAppear\n",
       "2     3736  0.495622    0.812527   862.0         CartScreenAppear\n",
       "3     3540  0.469621    0.947537   196.0  PaymentScreenSuccessful"
      ]
     },
     "execution_count": 55,
     "metadata": {},
     "output_type": "execute_result"
    }
   ],
   "source": [
    "funnel.reset_index(drop=True)"
   ]
  },
  {
   "cell_type": "code",
   "execution_count": 56,
   "id": "2a8179c5",
   "metadata": {},
   "outputs": [],
   "source": [
    "events_per_users = funnel[['event_name', 'user_id']].query('event_name != \"Tutorial\"')"
   ]
  },
  {
   "cell_type": "code",
   "execution_count": 57,
   "id": "11b2b56b",
   "metadata": {
    "scrolled": false
   },
   "outputs": [
    {
     "data": {
      "image/png": "[encoded data removed]"
     },
     "metadata": {},
     "output_type": "display_data"
    }
   ],
   "source": [
    "funnel_df = dict(values=funnel['user_id'],\n",
    "            labels=funnel['event_name'])\n",
    "fig = px.funnel(funnel_df,  y='labels', x='values', title='Воронка продаж')\n",
    "fig.show(renderer = 'png', width = 900, height = 500,scale = None)"
   ]
  },
  {
   "cell_type": "code",
   "execution_count": 58,
   "id": "082b0bae",
   "metadata": {
    "scrolled": false
   },
   "outputs": [
    {
     "data": {
      "image/png": "[encoded data removed]"
     },
     "metadata": {},
     "output_type": "display_data"
    }
   ],
   "source": [
    "fig = go.Figure()\n",
    "\n",
    "fig.add_trace(go.Funnel( name = 'Пользователи', y = funnel['event_name'],\\\n",
    "                        x = funnel['user_id'], textinfo = \"value+percent initial\"))\n",
    "\n",
    "fig.add_trace(go.Funnel( name = 'Ушедшие пользователи', orientation = \"h\", y = funnel['event_name'],\\\n",
    "                        x = funnel['lost'], textposition = \"inside\", textinfo = \"value\")) \n",
    "\n",
    "fig.show(renderer = 'png', width = 900, height = 500,scale = None)"
   ]
  },
  {
   "cell_type": "markdown",
   "id": "99f2bef5",
   "metadata": {},
   "source": [
    "Больше всего пользователей \"уходят\" после 1 шага"
   ]
  },
  {
   "cell_type": "markdown",
   "id": "ef876b64",
   "metadata": {},
   "source": [
    "# Шаг 5. Изучите результаты эксперимента #"
   ]
  },
  {
   "cell_type": "markdown",
   "id": "d1b41ab3",
   "metadata": {},
   "source": [
    "**5.1 Сколько пользователей в каждой экспериментальной группе?**"
   ]
  },
  {
   "cell_type": "code",
   "execution_count": 59,
   "id": "bb26a896",
   "metadata": {},
   "outputs": [],
   "source": [
    "group_cnt = good_logs.groupby('exp_id').agg({'user_id' : 'nunique'})"
   ]
  },
  {
   "cell_type": "code",
   "execution_count": 60,
   "id": "96b64e9c",
   "metadata": {},
   "outputs": [
    {
     "data": {
      "text/html": [
       "<div>\n",
       "<style scoped>\n",
       "    .dataframe tbody tr th:only-of-type {\n",
       "        vertical-align: middle;\n",
       "    }\n",
       "\n",
       "    .dataframe tbody tr th {\n",
       "        vertical-align: top;\n",
       "    }\n",
       "\n",
       "    .dataframe thead th {\n",
       "        text-align: right;\n",
       "    }\n",
       "</style>\n",
       "<table border=\"1\" class=\"dataframe\">\n",
       "  <thead>\n",
       "    <tr style=\"text-align: right;\">\n",
       "      <th></th>\n",
       "      <th>user_id</th>\n",
       "    </tr>\n",
       "    <tr>\n",
       "      <th>exp_id</th>\n",
       "      <th></th>\n",
       "    </tr>\n",
       "  </thead>\n",
       "  <tbody>\n",
       "    <tr>\n",
       "      <th>246</th>\n",
       "      <td>2484</td>\n",
       "    </tr>\n",
       "    <tr>\n",
       "      <th>247</th>\n",
       "      <td>2517</td>\n",
       "    </tr>\n",
       "    <tr>\n",
       "      <th>248</th>\n",
       "      <td>2537</td>\n",
       "    </tr>\n",
       "  </tbody>\n",
       "</table>\n",
       "</div>"
      ],
      "text/plain": [
       "        user_id\n",
       "exp_id         \n",
       "246        2484\n",
       "247        2517\n",
       "248        2537"
      ]
     },
     "execution_count": 60,
     "metadata": {},
     "output_type": "execute_result"
    }
   ],
   "source": [
    "group_cnt"
   ]
  },
  {
   "cell_type": "code",
   "execution_count": 61,
   "id": "8e055c26",
   "metadata": {},
   "outputs": [
    {
     "data": {
      "text/plain": [
       "user_id    7538\n",
       "dtype: int64"
      ]
     },
     "execution_count": 61,
     "metadata": {},
     "output_type": "execute_result"
    }
   ],
   "source": [
    "group_cnt.sum(axis = 0)"
   ]
  },
  {
   "cell_type": "code",
   "execution_count": 62,
   "id": "b84414fd",
   "metadata": {},
   "outputs": [
    {
     "data": {
      "text/plain": [
       "7538"
      ]
     },
     "execution_count": 62,
     "metadata": {},
     "output_type": "execute_result"
    }
   ],
   "source": [
    "good_logs['user_id'].nunique()"
   ]
  },
  {
   "cell_type": "markdown",
   "id": "f7ccd85c",
   "metadata": {},
   "source": [
    "Количество уникальных пользователей по всему датасету и сумма уникальных по группам сошлась, это значит, что нет пользователей, которые присутствуют в несольких группах."
   ]
  },
  {
   "cell_type": "code",
   "execution_count": 63,
   "id": "93dc0efa",
   "metadata": {},
   "outputs": [],
   "source": [
    "group_cnt.loc['246+247'] = group_cnt.loc[246] + group_cnt.loc[247]"
   ]
  },
  {
   "cell_type": "code",
   "execution_count": 64,
   "id": "639c6905",
   "metadata": {},
   "outputs": [
    {
     "data": {
      "text/html": [
       "<div>\n",
       "<style scoped>\n",
       "    .dataframe tbody tr th:only-of-type {\n",
       "        vertical-align: middle;\n",
       "    }\n",
       "\n",
       "    .dataframe tbody tr th {\n",
       "        vertical-align: top;\n",
       "    }\n",
       "\n",
       "    .dataframe thead th {\n",
       "        text-align: right;\n",
       "    }\n",
       "</style>\n",
       "<table border=\"1\" class=\"dataframe\">\n",
       "  <thead>\n",
       "    <tr style=\"text-align: right;\">\n",
       "      <th></th>\n",
       "      <th>user_id</th>\n",
       "    </tr>\n",
       "    <tr>\n",
       "      <th>exp_id</th>\n",
       "      <th></th>\n",
       "    </tr>\n",
       "  </thead>\n",
       "  <tbody>\n",
       "    <tr>\n",
       "      <th>246</th>\n",
       "      <td>2484</td>\n",
       "    </tr>\n",
       "    <tr>\n",
       "      <th>247</th>\n",
       "      <td>2517</td>\n",
       "    </tr>\n",
       "    <tr>\n",
       "      <th>248</th>\n",
       "      <td>2537</td>\n",
       "    </tr>\n",
       "    <tr>\n",
       "      <th>246+247</th>\n",
       "      <td>5001</td>\n",
       "    </tr>\n",
       "  </tbody>\n",
       "</table>\n",
       "</div>"
      ],
      "text/plain": [
       "         user_id\n",
       "exp_id          \n",
       "246         2484\n",
       "247         2517\n",
       "248         2537\n",
       "246+247     5001"
      ]
     },
     "execution_count": 64,
     "metadata": {},
     "output_type": "execute_result"
    }
   ],
   "source": [
    "group_cnt"
   ]
  },
  {
   "cell_type": "markdown",
   "id": "afd20128",
   "metadata": {},
   "source": [
    "В группе 246 - 2484 <br>\n",
    "В группе 247 - 2517<br>\n",
    "В группе 248 - 2537<br>\n",
    "В группе 246+247 - 5001"
   ]
  },
  {
   "cell_type": "markdown",
   "id": "5bc9b0cd",
   "metadata": {},
   "source": [
    "**5.2-5.3 Проведем А/A тест и проверим, есть ли статистически значимая разницу между контрольными группами 246 и 247.**"
   ]
  },
  {
   "cell_type": "markdown",
   "id": "382e775d",
   "metadata": {},
   "source": [
    "Проверим различие в количестве пользоватей в 2 контрольных группах"
   ]
  },
  {
   "cell_type": "code",
   "execution_count": 65,
   "id": "7d34024f",
   "metadata": {},
   "outputs": [
    {
     "data": {
      "text/plain": [
       "exp_id\n",
       "246              NaN\n",
       "247        -1.328502\n",
       "248        -0.794597\n",
       "246+247   -97.122586\n",
       "Name: user_id, dtype: float64"
      ]
     },
     "execution_count": 65,
     "metadata": {},
     "output_type": "execute_result"
    }
   ],
   "source": [
    "(1-group_cnt['user_id']/group_cnt['user_id'].shift(1))*100"
   ]
  },
  {
   "cell_type": "markdown",
   "id": "5042054b",
   "metadata": {},
   "source": [
    "Группы 246 и 247 отличаются на 1.33%. В идеале, разница в количестве пользователей не должна быть более  1%. Но, работаем с теми данными, что имеем"
   ]
  },
  {
   "cell_type": "markdown",
   "id": "f0f026ff",
   "metadata": {},
   "source": [
    "**Нулевая гипотеза**: доли уникальных посетителей, побывавших на этапе воронки, одинаковы.<br>\n",
    "**Альтенативная гипотеза**: между долями уникальных посетителей, побывавших на этапе воронки, есть значимая разниц<br>\n",
    "**Уровень статистической значимости**: 0.01 <br>\n",
    "**Выбранный способ**: z-тест\n",
    "<br>"
   ]
  },
  {
   "cell_type": "code",
   "execution_count": 66,
   "id": "363158ea",
   "metadata": {},
   "outputs": [],
   "source": [
    "z_pv = good_logs.pivot_table(index = 'event_name', columns = 'exp_id', values = 'user_id', aggfunc = 'nunique')"
   ]
  },
  {
   "cell_type": "code",
   "execution_count": 67,
   "id": "518dca4d",
   "metadata": {},
   "outputs": [],
   "source": [
    "z_pv = z_pv.query('event_name != \"Tutorial\"')"
   ]
  },
  {
   "cell_type": "code",
   "execution_count": 68,
   "id": "a8c0977c",
   "metadata": {},
   "outputs": [
    {
     "data": {
      "text/html": [
       "<div>\n",
       "<style scoped>\n",
       "    .dataframe tbody tr th:only-of-type {\n",
       "        vertical-align: middle;\n",
       "    }\n",
       "\n",
       "    .dataframe tbody tr th {\n",
       "        vertical-align: top;\n",
       "    }\n",
       "\n",
       "    .dataframe thead th {\n",
       "        text-align: right;\n",
       "    }\n",
       "</style>\n",
       "<table border=\"1\" class=\"dataframe\">\n",
       "  <thead>\n",
       "    <tr style=\"text-align: right;\">\n",
       "      <th>exp_id</th>\n",
       "      <th>event_name</th>\n",
       "      <th>246</th>\n",
       "      <th>247</th>\n",
       "      <th>248</th>\n",
       "    </tr>\n",
       "  </thead>\n",
       "  <tbody>\n",
       "    <tr>\n",
       "      <th>0</th>\n",
       "      <td>CartScreenAppear</td>\n",
       "      <td>1266</td>\n",
       "      <td>1239</td>\n",
       "      <td>1231</td>\n",
       "    </tr>\n",
       "    <tr>\n",
       "      <th>1</th>\n",
       "      <td>MainScreenAppear</td>\n",
       "      <td>2450</td>\n",
       "      <td>2479</td>\n",
       "      <td>2494</td>\n",
       "    </tr>\n",
       "    <tr>\n",
       "      <th>2</th>\n",
       "      <td>OffersScreenAppear</td>\n",
       "      <td>1542</td>\n",
       "      <td>1524</td>\n",
       "      <td>1532</td>\n",
       "    </tr>\n",
       "    <tr>\n",
       "      <th>3</th>\n",
       "      <td>PaymentScreenSuccessful</td>\n",
       "      <td>1200</td>\n",
       "      <td>1158</td>\n",
       "      <td>1182</td>\n",
       "    </tr>\n",
       "  </tbody>\n",
       "</table>\n",
       "</div>"
      ],
      "text/plain": [
       "exp_id               event_name   246   247   248\n",
       "0              CartScreenAppear  1266  1239  1231\n",
       "1              MainScreenAppear  2450  2479  2494\n",
       "2            OffersScreenAppear  1542  1524  1532\n",
       "3       PaymentScreenSuccessful  1200  1158  1182"
      ]
     },
     "execution_count": 68,
     "metadata": {},
     "output_type": "execute_result"
    }
   ],
   "source": [
    "z_pv.reset_index()"
   ]
  },
  {
   "cell_type": "code",
   "execution_count": 69,
   "id": "dc116326",
   "metadata": {},
   "outputs": [],
   "source": [
    "z_pv['246+247'] = z_pv[246] + z_pv[247]"
   ]
  },
  {
   "cell_type": "code",
   "execution_count": 70,
   "id": "52d400be",
   "metadata": {},
   "outputs": [],
   "source": [
    "z_pv['246+247'] = z_pv['246+247'].astype(int)"
   ]
  },
  {
   "cell_type": "code",
   "execution_count": 71,
   "id": "9387f44a",
   "metadata": {},
   "outputs": [
    {
     "data": {
      "text/html": [
       "<div>\n",
       "<style scoped>\n",
       "    .dataframe tbody tr th:only-of-type {\n",
       "        vertical-align: middle;\n",
       "    }\n",
       "\n",
       "    .dataframe tbody tr th {\n",
       "        vertical-align: top;\n",
       "    }\n",
       "\n",
       "    .dataframe thead th {\n",
       "        text-align: right;\n",
       "    }\n",
       "</style>\n",
       "<table border=\"1\" class=\"dataframe\">\n",
       "  <thead>\n",
       "    <tr style=\"text-align: right;\">\n",
       "      <th>exp_id</th>\n",
       "      <th>246</th>\n",
       "      <th>247</th>\n",
       "      <th>248</th>\n",
       "      <th>246+247</th>\n",
       "    </tr>\n",
       "    <tr>\n",
       "      <th>event_name</th>\n",
       "      <th></th>\n",
       "      <th></th>\n",
       "      <th></th>\n",
       "      <th></th>\n",
       "    </tr>\n",
       "  </thead>\n",
       "  <tbody>\n",
       "    <tr>\n",
       "      <th>CartScreenAppear</th>\n",
       "      <td>1266</td>\n",
       "      <td>1239</td>\n",
       "      <td>1231</td>\n",
       "      <td>2505</td>\n",
       "    </tr>\n",
       "    <tr>\n",
       "      <th>MainScreenAppear</th>\n",
       "      <td>2450</td>\n",
       "      <td>2479</td>\n",
       "      <td>2494</td>\n",
       "      <td>4929</td>\n",
       "    </tr>\n",
       "    <tr>\n",
       "      <th>OffersScreenAppear</th>\n",
       "      <td>1542</td>\n",
       "      <td>1524</td>\n",
       "      <td>1532</td>\n",
       "      <td>3066</td>\n",
       "    </tr>\n",
       "    <tr>\n",
       "      <th>PaymentScreenSuccessful</th>\n",
       "      <td>1200</td>\n",
       "      <td>1158</td>\n",
       "      <td>1182</td>\n",
       "      <td>2358</td>\n",
       "    </tr>\n",
       "  </tbody>\n",
       "</table>\n",
       "</div>"
      ],
      "text/plain": [
       "exp_id                    246   247   248  246+247\n",
       "event_name                                        \n",
       "CartScreenAppear         1266  1239  1231     2505\n",
       "MainScreenAppear         2450  2479  2494     4929\n",
       "OffersScreenAppear       1542  1524  1532     3066\n",
       "PaymentScreenSuccessful  1200  1158  1182     2358"
      ]
     },
     "execution_count": 71,
     "metadata": {},
     "output_type": "execute_result"
    }
   ],
   "source": [
    "z_pv"
   ]
  },
  {
   "cell_type": "code",
   "execution_count": 72,
   "id": "50413ae9",
   "metadata": {},
   "outputs": [],
   "source": [
    "z_pv = z_pv.sort_values(by =246,ascending = False)"
   ]
  },
  {
   "cell_type": "code",
   "execution_count": 73,
   "id": "9932b6e4",
   "metadata": {
    "scrolled": false
   },
   "outputs": [
    {
     "data": {
      "image/svg+xml": [
       "<svg class=\"main-svg\" xmlns=\"http://www.w3.org/2000/svg\" xmlns:xlink=\"http://www.w3.org/1999/xlink\" width=\"840\" height=\"600\" style=\"\" viewBox=\"0 0 700 500\"><rect x=\"0\" y=\"0\" width=\"700\" height=\"500\" style=\"fill: rgb(255, 255, 255); fill-opacity: 1;\"/><defs id=\"defs-036573\"><g class=\"clips\"><clipPath id=\"clip036573xyplot\" class=\"plotclip\"><rect width=\"409\" height=\"320\"/></clipPath><clipPath class=\"axesclip\" id=\"clip036573x\"><rect x=\"170\" y=\"0\" width=\"409\" height=\"500\"/></clipPath><clipPath class=\"axesclip\" id=\"clip036573y\"><rect x=\"0\" y=\"100\" width=\"700\" height=\"320\"/></clipPath><clipPath class=\"axesclip\" id=\"clip036573xy\"><rect x=\"170\" y=\"100\" width=\"409\" height=\"320\"/></clipPath></g><g class=\"gradients\"/><g class=\"patterns\"/></defs><g class=\"bglayer\"><rect class=\"bg\" x=\"170\" y=\"100\" width=\"409\" height=\"320\" style=\"fill: rgb(229, 236, 246); fill-opacity: 1; stroke-width: 0;\"/></g><g class=\"layer-below\"><g class=\"imagelayer\"/><g class=\"shapelayer\"/></g><g class=\"cartesianlayer\"><g class=\"subplot xy\"><g class=\"layer-subplot\"><g class=\"shapelayer\"/><g class=\"imagelayer\"/></g><g class=\"minor-gridlayer\"><g class=\"x\"/><g class=\"y\"/></g><g class=\"gridlayer\"><g class=\"x\"/><g class=\"y\"/></g><g class=\"zerolinelayer\"/><path class=\"xlines-below\"/><path class=\"ylines-below\"/><g class=\"overlines-below\"/><g class=\"xaxislayer-below\"/><g class=\"yaxislayer-below\"/><g class=\"overaxes-below\"/><g class=\"plot\" transform=\"translate(170,100)\" clip-path=\"url(#clip036573xyplot)\"><g class=\"funnellayer mlayer\"><g class=\"trace bars\" style=\"opacity: 1;\"><g class=\"regions\"><g class=\"region\"><path d=\"M20.45,72L90.3,88H136.26L93.46,72Z\" style=\"stroke-width: 0; fill: rgb(99, 110, 250); fill-opacity: 0.5;\"/></g><g class=\"region\"><path d=\"M90.3,152L111.51,168H149.23L136.26,152Z\" style=\"stroke-width: 0; fill: rgb(99, 110, 250); fill-opacity: 0.5;\"/></g><g class=\"region\"><path d=\"M111.51,232L116.62,248H152.38L149.23,232Z\" style=\"stroke-width: 0; fill: rgb(99, 110, 250); fill-opacity: 0.5;\"/></g><g class=\"region\"><path d=\"M0,0Z\" style=\"stroke-width: 0; fill: rgb(99, 110, 250); fill-opacity: 0.5;\"/></g></g><g class=\"points\"><g class=\"point\"><path d=\"M20.45,8V72H93.46V8Z\" style=\"vector-effect: non-scaling-stroke; fill: rgb(99, 110, 250); fill-opacity: 1; stroke: rgb(68, 68, 68); stroke-opacity: 1; stroke-width: 0px; opacity: 1;\"/><text class=\"bartext bartext-inside\" text-anchor=\"middle\" data-notex=\"1\" x=\"0\" y=\"0\" style=\"font-family: 'Open Sans', verdana, arial, sans-serif; font-size: 12px; fill: rgb(255, 255, 255); fill-opacity: 1; white-space: pre;\" transform=\"translate(56.908125,36.6953125)\"><tspan class=\"line\" dy=\"0em\" x=\"0\" y=\"0\">2450</tspan><tspan class=\"line\" dy=\"1.3em\" x=\"0\" y=\"0\">100%</tspan></text></g><g class=\"point\"><path d=\"M90.3,88V152H136.26V88Z\" style=\"vector-effect: non-scaling-stroke; fill: rgb(99, 110, 250); fill-opacity: 1; stroke: rgb(68, 68, 68); stroke-opacity: 1; stroke-width: 0px; opacity: 1;\"/><text class=\"bartext bartext-inside\" text-anchor=\"middle\" data-notex=\"1\" x=\"0\" y=\"0\" style=\"font-family: 'Open Sans', verdana, arial, sans-serif; font-size: 12px; fill: rgb(255, 255, 255); fill-opacity: 1; white-space: pre;\" transform=\"translate(113.0925,116.6953125)\"><tspan class=\"line\" dy=\"0em\" x=\"0\" y=\"0\">1542</tspan><tspan class=\"line\" dy=\"1.3em\" x=\"0\" y=\"0\">63%</tspan></text></g><g class=\"point\"><path d=\"M111.51,168V232H149.23V168Z\" style=\"vector-effect: non-scaling-stroke; fill: rgb(99, 110, 250); fill-opacity: 1; stroke: rgb(68, 68, 68); stroke-opacity: 1; stroke-width: 0px; opacity: 1;\"/><text class=\"bartext bartext-inside\" text-anchor=\"middle\" data-notex=\"1\" x=\"0\" y=\"0\" style=\"font-family: 'Open Sans', verdana, arial, sans-serif; font-size: 12px; fill: rgb(255, 255, 255); fill-opacity: 1; white-space: pre;\" transform=\"translate(130.1825,196.6953125)\"><tspan class=\"line\" dy=\"0em\" x=\"0\" y=\"0\">1266</tspan><tspan class=\"line\" dy=\"1.3em\" x=\"0\" y=\"0\">52%</tspan></text></g><g class=\"point\"><path d=\"M116.62,248V312H152.38V248Z\" style=\"vector-effect: non-scaling-stroke; fill: rgb(99, 110, 250); fill-opacity: 1; stroke: rgb(68, 68, 68); stroke-opacity: 1; stroke-width: 0px; opacity: 1;\"/><text class=\"bartext bartext-inside\" text-anchor=\"middle\" data-notex=\"1\" x=\"0\" y=\"0\" style=\"font-family: 'Open Sans', verdana, arial, sans-serif; font-size: 12px; fill: rgb(255, 255, 255); fill-opacity: 1; white-space: pre;\" transform=\"translate(134.31945399393328,276.8178766430738)scale(0.9629120323559148)\"><tspan class=\"line\" dy=\"0em\" x=\"0\" y=\"0\">1200</tspan><tspan class=\"line\" dy=\"1.3em\" x=\"0\" y=\"0\">49%</tspan></text></g></g></g><g class=\"trace bars\" style=\"opacity: 1;\"><g class=\"regions\"><g class=\"region\"><path d=\"M93.46,72L136.26,88H181.67L167.34,72Z\" style=\"stroke-width: 0; fill: rgb(239, 85, 59); fill-opacity: 0.5;\"/></g><g class=\"region\"><path d=\"M136.26,152L149.23,168H186.16L181.67,152Z\" style=\"stroke-width: 0; fill: rgb(239, 85, 59); fill-opacity: 0.5;\"/></g><g class=\"region\"><path d=\"M149.23,232L152.38,248H186.89L186.16,232Z\" style=\"stroke-width: 0; fill: rgb(239, 85, 59); fill-opacity: 0.5;\"/></g><g class=\"region\"><path d=\"M0,0Z\" style=\"stroke-width: 0; fill: rgb(239, 85, 59); fill-opacity: 0.5;\"/></g></g><g class=\"points\"><g class=\"point\"><path d=\"M93.46,8V72H167.34V8Z\" style=\"vector-effect: non-scaling-stroke; fill: rgb(239, 85, 59); fill-opacity: 1; stroke: rgb(68, 68, 68); stroke-opacity: 1; stroke-width: 0px; opacity: 1;\"/><text class=\"bartext bartext-inside\" text-anchor=\"middle\" data-notex=\"1\" x=\"0\" y=\"0\" style=\"font-family: 'Open Sans', verdana, arial, sans-serif; font-size: 12px; fill: rgb(68, 68, 68); fill-opacity: 1; white-space: pre;\" transform=\"translate(130.353125,36.6953125)\"><tspan class=\"line\" dy=\"0em\" x=\"0\" y=\"0\">2479</tspan><tspan class=\"line\" dy=\"1.3em\" x=\"0\" y=\"0\">100%</tspan></text></g><g class=\"point\"><path d=\"M136.26,88V152H181.67V88Z\" style=\"vector-effect: non-scaling-stroke; fill: rgb(239, 85, 59); fill-opacity: 1; stroke: rgb(68, 68, 68); stroke-opacity: 1; stroke-width: 0px; opacity: 1;\"/><text class=\"bartext bartext-inside\" text-anchor=\"middle\" data-notex=\"1\" x=\"0\" y=\"0\" style=\"font-family: 'Open Sans', verdana, arial, sans-serif; font-size: 12px; fill: rgb(68, 68, 68); fill-opacity: 1; white-space: pre;\" transform=\"translate(158.77749999999997,116.6953125)\"><tspan class=\"line\" dy=\"0em\" x=\"0\" y=\"0\">1524</tspan><tspan class=\"line\" dy=\"1.3em\" x=\"0\" y=\"0\">61%</tspan></text></g><g class=\"point\"><path d=\"M149.23,168V232H186.16V168Z\" style=\"vector-effect: non-scaling-stroke; fill: rgb(239, 85, 59); fill-opacity: 1; stroke: rgb(68, 68, 68); stroke-opacity: 1; stroke-width: 0px; opacity: 1;\"/><text class=\"bartext bartext-inside\" text-anchor=\"middle\" data-notex=\"1\" x=\"0\" y=\"0\" style=\"font-family: 'Open Sans', verdana, arial, sans-serif; font-size: 12px; fill: rgb(68, 68, 68); fill-opacity: 1; white-space: pre;\" transform=\"translate(167.5075,196.6953125)\"><tspan class=\"line\" dy=\"0em\" x=\"0\" y=\"0\">1239</tspan><tspan class=\"line\" dy=\"1.3em\" x=\"0\" y=\"0\">50%</tspan></text></g><g class=\"point\"><path d=\"M152.38,248V312H186.89V248Z\" style=\"vector-effect: non-scaling-stroke; fill: rgb(239, 85, 59); fill-opacity: 1; stroke: rgb(68, 68, 68); stroke-opacity: 1; stroke-width: 0px; opacity: 1;\"/><text class=\"bartext bartext-inside\" text-anchor=\"middle\" data-notex=\"1\" x=\"0\" y=\"0\" style=\"font-family: 'Open Sans', verdana, arial, sans-serif; font-size: 12px; fill: rgb(68, 68, 68); fill-opacity: 1; white-space: pre;\" transform=\"translate(169.46203741152678,276.95153437815975)scale(0.922467138523761)\"><tspan class=\"line\" dy=\"0em\" x=\"0\" y=\"0\">1158</tspan><tspan class=\"line\" dy=\"1.3em\" x=\"0\" y=\"0\">47%</tspan></text></g></g></g><g class=\"trace bars\" style=\"opacity: 1;\"><g class=\"regions\"><g class=\"region\"><path d=\"M167.34,72L181.67,88H227.33L241.66,72Z\" style=\"stroke-width: 0; fill: rgb(0, 204, 150); fill-opacity: 0.5;\"/></g><g class=\"region\"><path d=\"M181.67,152L186.16,168H222.84L227.33,152Z\" style=\"stroke-width: 0; fill: rgb(0, 204, 150); fill-opacity: 0.5;\"/></g><g class=\"region\"><path d=\"M186.16,232L186.89,248H222.11L222.84,232Z\" style=\"stroke-width: 0; fill: rgb(0, 204, 150); fill-opacity: 0.5;\"/></g><g class=\"region\"><path d=\"M0,0Z\" style=\"stroke-width: 0; fill: rgb(0, 204, 150); fill-opacity: 0.5;\"/></g></g><g class=\"points\"><g class=\"point\"><path d=\"M167.34,8V72H241.66V8Z\" style=\"vector-effect: non-scaling-stroke; fill: rgb(0, 204, 150); fill-opacity: 1; stroke: rgb(68, 68, 68); stroke-opacity: 1; stroke-width: 0px; opacity: 1;\"/><text class=\"bartext bartext-inside\" text-anchor=\"middle\" data-notex=\"1\" x=\"0\" y=\"0\" style=\"font-family: 'Open Sans', verdana, arial, sans-serif; font-size: 12px; fill: rgb(68, 68, 68); fill-opacity: 1; white-space: pre;\" transform=\"translate(204.453125,36.6953125)\"><tspan class=\"line\" dy=\"0em\" x=\"0\" y=\"0\">2494</tspan><tspan class=\"line\" dy=\"1.3em\" x=\"0\" y=\"0\">100%</tspan></text></g><g class=\"point\"><path d=\"M181.67,88V152H227.33V88Z\" style=\"vector-effect: non-scaling-stroke; fill: rgb(0, 204, 150); fill-opacity: 1; stroke: rgb(68, 68, 68); stroke-opacity: 1; stroke-width: 0px; opacity: 1;\"/><text class=\"bartext bartext-inside\" text-anchor=\"middle\" data-notex=\"1\" x=\"0\" y=\"0\" style=\"font-family: 'Open Sans', verdana, arial, sans-serif; font-size: 12px; fill: rgb(68, 68, 68); fill-opacity: 1; white-space: pre;\" transform=\"translate(204.3125,116.6953125)\"><tspan class=\"line\" dy=\"0em\" x=\"0\" y=\"0\">1532</tspan><tspan class=\"line\" dy=\"1.3em\" x=\"0\" y=\"0\">61%</tspan></text></g><g class=\"point\"><path d=\"M186.16,168V232H222.84V168Z\" style=\"vector-effect: non-scaling-stroke; fill: rgb(0, 204, 150); fill-opacity: 1; stroke: rgb(68, 68, 68); stroke-opacity: 1; stroke-width: 0px; opacity: 1;\"/><text class=\"bartext bartext-inside\" text-anchor=\"middle\" data-notex=\"1\" x=\"0\" y=\"0\" style=\"font-family: 'Open Sans', verdana, arial, sans-serif; font-size: 12px; fill: rgb(68, 68, 68); fill-opacity: 1; white-space: pre;\" transform=\"translate(204.5,196.6953125)\"><tspan class=\"line\" dy=\"0em\" x=\"0\" y=\"0\">1231</tspan><tspan class=\"line\" dy=\"1.3em\" x=\"0\" y=\"0\">49%</tspan></text></g><g class=\"point\"><path d=\"M186.89,248V312H222.11V248Z\" style=\"vector-effect: non-scaling-stroke; fill: rgb(0, 204, 150); fill-opacity: 1; stroke: rgb(68, 68, 68); stroke-opacity: 1; stroke-width: 0px; opacity: 1;\"/><text class=\"bartext bartext-inside\" text-anchor=\"middle\" data-notex=\"1\" x=\"0\" y=\"0\" style=\"font-family: 'Open Sans', verdana, arial, sans-serif; font-size: 12px; fill: rgb(68, 68, 68); fill-opacity: 1; white-space: pre;\" transform=\"translate(204.32273003033367,276.87561678463095)scale(0.9454398382204255)\"><tspan class=\"line\" dy=\"0em\" x=\"0\" y=\"0\">1182</tspan><tspan class=\"line\" dy=\"1.3em\" x=\"0\" y=\"0\">47%</tspan></text></g></g></g><g class=\"trace bars\" style=\"opacity: 1;\"><g class=\"regions\"><g class=\"region\"><path d=\"M241.66,72L227.33,88H318.7L388.55,72Z\" style=\"stroke-width: 0; fill: rgb(171, 99, 250); fill-opacity: 0.5;\"/></g><g class=\"region\"><path d=\"M227.33,152L222.84,168H297.49L318.7,152Z\" style=\"stroke-width: 0; fill: rgb(171, 99, 250); fill-opacity: 0.5;\"/></g><g class=\"region\"><path d=\"M222.84,232L222.11,248H292.38L297.49,232Z\" style=\"stroke-width: 0; fill: rgb(171, 99, 250); fill-opacity: 0.5;\"/></g><g class=\"region\"><path d=\"M0,0Z\" style=\"stroke-width: 0; fill: rgb(171, 99, 250); fill-opacity: 0.5;\"/></g></g><g class=\"points\"><g class=\"point\"><path d=\"M241.66,8V72H388.55V8Z\" style=\"vector-effect: non-scaling-stroke; fill: rgb(171, 99, 250); fill-opacity: 1; stroke: rgb(68, 68, 68); stroke-opacity: 1; stroke-width: 0px; opacity: 1;\"/><text class=\"bartext bartext-inside\" text-anchor=\"middle\" data-notex=\"1\" x=\"0\" y=\"0\" style=\"font-family: 'Open Sans', verdana, arial, sans-serif; font-size: 12px; fill: rgb(68, 68, 68); fill-opacity: 1; white-space: pre;\" transform=\"translate(315.058125,36.6953125)\"><tspan class=\"line\" dy=\"0em\" x=\"0\" y=\"0\">4929</tspan><tspan class=\"line\" dy=\"1.3em\" x=\"0\" y=\"0\">100%</tspan></text></g><g class=\"point\"><path d=\"M227.33,88V152H318.7V88Z\" style=\"vector-effect: non-scaling-stroke; fill: rgb(171, 99, 250); fill-opacity: 1; stroke: rgb(68, 68, 68); stroke-opacity: 1; stroke-width: 0px; opacity: 1;\"/><text class=\"bartext bartext-inside\" text-anchor=\"middle\" data-notex=\"1\" x=\"0\" y=\"0\" style=\"font-family: 'Open Sans', verdana, arial, sans-serif; font-size: 12px; fill: rgb(68, 68, 68); fill-opacity: 1; white-space: pre;\" transform=\"translate(272.8275,116.6953125)\"><tspan class=\"line\" dy=\"0em\" x=\"0\" y=\"0\">3066</tspan><tspan class=\"line\" dy=\"1.3em\" x=\"0\" y=\"0\">62%</tspan></text></g><g class=\"point\"><path d=\"M222.84,168V232H297.49V168Z\" style=\"vector-effect: non-scaling-stroke; fill: rgb(171, 99, 250); fill-opacity: 1; stroke: rgb(68, 68, 68); stroke-opacity: 1; stroke-width: 0px; opacity: 1;\"/><text class=\"bartext bartext-inside\" text-anchor=\"middle\" data-notex=\"1\" x=\"0\" y=\"0\" style=\"font-family: 'Open Sans', verdana, arial, sans-serif; font-size: 12px; fill: rgb(68, 68, 68); fill-opacity: 1; white-space: pre;\" transform=\"translate(259.9775,196.6953125)\"><tspan class=\"line\" dy=\"0em\" x=\"0\" y=\"0\">2505</tspan><tspan class=\"line\" dy=\"1.3em\" x=\"0\" y=\"0\">51%</tspan></text></g><g class=\"point\"><path d=\"M222.11,248V312H292.38V248Z\" style=\"vector-effect: non-scaling-stroke; fill: rgb(171, 99, 250); fill-opacity: 1; stroke: rgb(68, 68, 68); stroke-opacity: 1; stroke-width: 0px; opacity: 1;\"/><text class=\"bartext bartext-inside\" text-anchor=\"middle\" data-notex=\"1\" x=\"0\" y=\"0\" style=\"font-family: 'Open Sans', verdana, arial, sans-serif; font-size: 12px; fill: rgb(68, 68, 68); fill-opacity: 1; white-space: pre;\" transform=\"translate(257.0575,276.6953125)\"><tspan class=\"line\" dy=\"0em\" x=\"0\" y=\"0\">2358</tspan><tspan class=\"line\" dy=\"1.3em\" x=\"0\" y=\"0\">48%</tspan></text></g></g></g></g></g><g class=\"overplot\"/><path class=\"xlines-above crisp\" d=\"M0,0\" style=\"fill: none;\"/><path class=\"ylines-above crisp\" d=\"M0,0\" style=\"fill: none;\"/><g class=\"overlines-above\"/><g class=\"xaxislayer-above\"/><g class=\"yaxislayer-above\"><g class=\"ytick\"><text text-anchor=\"end\" x=\"169\" y=\"4.199999999999999\" transform=\"translate(0,380)\" style=\"font-family: 'Open Sans', verdana, arial, sans-serif; font-size: 12px; fill: rgb(42, 63, 95); fill-opacity: 1; white-space: pre; opacity: 1;\">PaymentScreenSuccessful</text></g><g class=\"ytick\"><text text-anchor=\"end\" x=\"169\" y=\"4.199999999999999\" transform=\"translate(0,300)\" style=\"font-family: 'Open Sans', verdana, arial, sans-serif; font-size: 12px; fill: rgb(42, 63, 95); fill-opacity: 1; white-space: pre; opacity: 1;\">CartScreenAppear</text></g><g class=\"ytick\"><text text-anchor=\"end\" x=\"169\" y=\"4.199999999999999\" transform=\"translate(0,220)\" style=\"font-family: 'Open Sans', verdana, arial, sans-serif; font-size: 12px; fill: rgb(42, 63, 95); fill-opacity: 1; white-space: pre; opacity: 1;\">OffersScreenAppear</text></g><g class=\"ytick\"><text text-anchor=\"end\" x=\"169\" y=\"4.199999999999999\" transform=\"translate(0,140)\" style=\"font-family: 'Open Sans', verdana, arial, sans-serif; font-size: 12px; fill: rgb(42, 63, 95); fill-opacity: 1; white-space: pre; opacity: 1;\">MainScreenAppear</text></g></g><g class=\"overaxes-above\"/></g></g><g class=\"polarlayer\"/><g class=\"smithlayer\"/><g class=\"ternarylayer\"/><g class=\"geolayer\"/><g class=\"funnelarealayer\"/><g class=\"pielayer\"/><g class=\"iciclelayer\"/><g class=\"treemaplayer\"/><g class=\"sunburstlayer\"/><g class=\"glimages\"/><defs id=\"topdefs-036573\"><g class=\"clips\"/><clipPath id=\"legend036573\"><rect width=\"101\" height=\"86\" x=\"0\" y=\"0\"/></clipPath></defs><g class=\"layer-above\"><g class=\"imagelayer\"/><g class=\"shapelayer\"/></g><g class=\"infolayer\"><g class=\"legend\" pointer-events=\"all\" transform=\"translate(587.1800000000001,100)\"><rect class=\"bg\" shape-rendering=\"crispEdges\" style=\"stroke: rgb(68, 68, 68); stroke-opacity: 1; fill: rgb(255, 255, 255); fill-opacity: 1; stroke-width: 0px;\" width=\"101\" height=\"86\" x=\"0\" y=\"0\"/><g class=\"scrollbox\" transform=\"\" clip-path=\"url(#legend036573)\"><g class=\"groups\"><g class=\"traces\" transform=\"translate(0,14.5)\" style=\"opacity: 1;\"><text class=\"legendtext\" text-anchor=\"start\" x=\"40\" y=\"4.680000000000001\" style=\"font-family: 'Open Sans', verdana, arial, sans-serif; font-size: 12px; fill: rgb(42, 63, 95); fill-opacity: 1; white-space: pre;\">246</text><g class=\"layers\" style=\"opacity: 1;\"><g class=\"legendfill\"/><g class=\"legendlines\"/><g class=\"legendsymbols\"><g class=\"legendpoints\"><path class=\"legendfunnel\" d=\"M6,6H-6V-6H6Z\" transform=\"translate(20,0)\" style=\"stroke-width: 0px; fill: rgb(99, 110, 250); fill-opacity: 1;\"/></g></g></g><rect class=\"legendtoggle\" x=\"0\" y=\"-9.5\" width=\"95.96875\" height=\"19\" style=\"fill: rgb(0, 0, 0); fill-opacity: 0;\"/></g><g class=\"traces\" transform=\"translate(0,33.5)\" style=\"opacity: 1;\"><text class=\"legendtext\" text-anchor=\"start\" x=\"40\" y=\"4.680000000000001\" style=\"font-family: 'Open Sans', verdana, arial, sans-serif; font-size: 12px; fill: rgb(42, 63, 95); fill-opacity: 1; white-space: pre;\">247</text><g class=\"layers\" style=\"opacity: 1;\"><g class=\"legendfill\"/><g class=\"legendlines\"/><g class=\"legendsymbols\"><g class=\"legendpoints\"><path class=\"legendfunnel\" d=\"M6,6H-6V-6H6Z\" transform=\"translate(20,0)\" style=\"stroke-width: 0px; fill: rgb(239, 85, 59); fill-opacity: 1;\"/></g></g></g><rect class=\"legendtoggle\" x=\"0\" y=\"-9.5\" width=\"95.96875\" height=\"19\" style=\"fill: rgb(0, 0, 0); fill-opacity: 0;\"/></g><g class=\"traces\" transform=\"translate(0,52.5)\" style=\"opacity: 1;\"><text class=\"legendtext\" text-anchor=\"start\" x=\"40\" y=\"4.680000000000001\" style=\"font-family: 'Open Sans', verdana, arial, sans-serif; font-size: 12px; fill: rgb(42, 63, 95); fill-opacity: 1; white-space: pre;\">248</text><g class=\"layers\" style=\"opacity: 1;\"><g class=\"legendfill\"/><g class=\"legendlines\"/><g class=\"legendsymbols\"><g class=\"legendpoints\"><path class=\"legendfunnel\" d=\"M6,6H-6V-6H6Z\" transform=\"translate(20,0)\" style=\"stroke-width: 0px; fill: rgb(0, 204, 150); fill-opacity: 1;\"/></g></g></g><rect class=\"legendtoggle\" x=\"0\" y=\"-9.5\" width=\"95.96875\" height=\"19\" style=\"fill: rgb(0, 0, 0); fill-opacity: 0;\"/></g><g class=\"traces\" transform=\"translate(0,71.5)\" style=\"opacity: 1;\"><text class=\"legendtext\" text-anchor=\"start\" x=\"40\" y=\"4.680000000000001\" style=\"font-family: 'Open Sans', verdana, arial, sans-serif; font-size: 12px; fill: rgb(42, 63, 95); fill-opacity: 1; white-space: pre;\">246+247</text><g class=\"layers\" style=\"opacity: 1;\"><g class=\"legendfill\"/><g class=\"legendlines\"/><g class=\"legendsymbols\"><g class=\"legendpoints\"><path class=\"legendfunnel\" d=\"M6,6H-6V-6H6Z\" transform=\"translate(20,0)\" style=\"stroke-width: 0px; fill: rgb(171, 99, 250); fill-opacity: 1;\"/></g></g></g><rect class=\"legendtoggle\" x=\"0\" y=\"-9.5\" width=\"95.96875\" height=\"19\" style=\"fill: rgb(0, 0, 0); fill-opacity: 0;\"/></g></g></g><rect class=\"scrollbar\" rx=\"20\" ry=\"3\" width=\"0\" height=\"0\" style=\"fill: rgb(128, 139, 164); fill-opacity: 1;\" x=\"0\" y=\"0\"/></g><g class=\"g-gtitle\"/><g class=\"g-ytitle\"/></g></svg>"
      ]
     },
     "metadata": {},
     "output_type": "display_data"
    }
   ],
   "source": [
    "fig = go.Figure()\n",
    "\n",
    "fig.add_trace(go.Funnel( name = '246', y = z_pv.index,\\\n",
    "                        x = z_pv[246], textinfo = \"value+percent initial\"))\n",
    "\n",
    "fig.add_trace(go.Funnel( name = '247', orientation = \"h\", y = z_pv.index,\\\n",
    "                        x = z_pv[247], textposition = \"inside\", textinfo = \"value+percent initial\")) \n",
    "\n",
    "fig.add_trace(go.Funnel( name = '248', orientation = \"h\", y = z_pv.index,\\\n",
    "                        x = z_pv[248], textposition = \"inside\", textinfo = \"value+percent initial\")) \n",
    "\n",
    "fig.add_trace(go.Funnel( name = '246+247', orientation = \"h\", y = z_pv.index,\\\n",
    "                        x = z_pv['246+247'], textposition = \"inside\", textinfo = \"value+percent initial\")) \n",
    "\n",
    "fig.show()"
   ]
  },
  {
   "cell_type": "markdown",
   "id": "4cdb2c63",
   "metadata": {},
   "source": [
    "**Создадим функцию для z-теста**"
   ]
  },
  {
   "cell_type": "code",
   "execution_count": 74,
   "id": "4178e8cc",
   "metadata": {},
   "outputs": [],
   "source": [
    "def z_test (group1, group2, alpha):\n",
    "    for i in z_pv.index:\n",
    "        p1_group1 = z_pv[group1][i]/group_cnt.loc[group1]\n",
    "\n",
    "        # пропорция успехов во второй группе:\n",
    "        p2_group2 = z_pv[group2][i]/group_cnt.loc[group2]\n",
    "\n",
    "        # пропорция успехов в комбинированном датасете:\n",
    "        p_combined = (z_pv[group1][i] + z_pv[group2][i]) / (group_cnt.loc[group1] + group_cnt.loc[group2])\n",
    "\n",
    "        # разница пропорций в датасетах\n",
    "        difference = p1_group1 - p2_group2 \n",
    "\n",
    "        # считаем статистику в ст.отклонениях стандартного нормального распределения\n",
    "        z_value = difference / mth.sqrt(p_combined * (1 - p_combined) * (1/group_cnt.loc[group1] + 1/group_cnt.loc[group2]))\n",
    "\n",
    "        # задаем стандартное нормальное распределение (среднее 0, ст.отклонение 1)\n",
    "        distr = stats.norm(0, 1)  \n",
    "\n",
    "        p_value = (1 - distr.cdf(abs(z_value))) * 2\n",
    "\n",
    "        print('p-value: ', p_value)\n",
    "\n",
    "        if p_value < alpha:\n",
    "            print('Отвергаем нулевую гипотезу: между долями есть статистически значимая разница')\n",
    "        else:\n",
    "            print(\n",
    "                'Не получилось отвергнуть нулевую гипотезу, между долями нет статистически значимой разницы '\n",
    "            ) \n"
   ]
  },
  {
   "cell_type": "code",
   "execution_count": 75,
   "id": "ebdbbd67",
   "metadata": {},
   "outputs": [
    {
     "name": "stdout",
     "output_type": "stream",
     "text": [
      "p-value:  [0.67562177]\n",
      "Не получилось отвергнуть нулевую гипотезу, между долями нет статистически значимой разницы \n",
      "p-value:  [0.26698769]\n",
      "Не получилось отвергнуть нулевую гипотезу, между долями нет статистически значимой разницы \n",
      "p-value:  [0.21828121]\n",
      "Не получилось отвергнуть нулевую гипотезу, между долями нет статистически значимой разницы \n",
      "p-value:  [0.10298395]\n",
      "Не получилось отвергнуть нулевую гипотезу, между долями нет статистически значимой разницы \n"
     ]
    }
   ],
   "source": [
    "z_test(246, 247, 0.01)"
   ]
  },
  {
   "cell_type": "markdown",
   "id": "eeb824bd",
   "metadata": {},
   "source": [
    "Мы провели А/А тест для каждого этапа воронки. После проведения теста, мы не нашли статисчисески значимых различий ни на одном из шагов воронки. Это значит, что А/А тест прошел успешно"
   ]
  },
  {
   "cell_type": "markdown",
   "id": "e7d07b82",
   "metadata": {},
   "source": [
    "**Отлично, можно проводить А/Б тест.**"
   ]
  },
  {
   "cell_type": "markdown",
   "id": "944e3512",
   "metadata": {},
   "source": [
    "**Сравниваем контрольную группу 246 и группу с измененным шрифтом 248**"
   ]
  },
  {
   "cell_type": "markdown",
   "id": "9c422009",
   "metadata": {},
   "source": [
    "**Нулевая гипотеза**: доли уникальных посетителей, побывавших на этапе воронки, одинаковы.<br>\n",
    "**Альтенативная гипотеза**: между долями уникальных посетителей, побывавших на этапе воронки, есть значимая разниц<br>\n",
    "**Уровень статистической значимости**: 0.05 <br>\n",
    "**Выбранный способ**: z-тест\n",
    "<br>"
   ]
  },
  {
   "cell_type": "code",
   "execution_count": 76,
   "id": "6a23cfdc",
   "metadata": {},
   "outputs": [
    {
     "name": "stdout",
     "output_type": "stream",
     "text": [
      "p-value:  [0.34705881]\n",
      "Не получилось отвергнуть нулевую гипотезу, между долями нет статистически значимой разницы \n",
      "p-value:  [0.21886922]\n",
      "Не получилось отвергнуть нулевую гипотезу, между долями нет статистически значимой разницы \n",
      "p-value:  [0.08328413]\n",
      "Не получилось отвергнуть нулевую гипотезу, между долями нет статистически значимой разницы \n",
      "p-value:  [0.22269359]\n",
      "Не получилось отвергнуть нулевую гипотезу, между долями нет статистически значимой разницы \n"
     ]
    }
   ],
   "source": [
    "z_test(246, 248, 0.05)"
   ]
  },
  {
   "cell_type": "markdown",
   "id": "bd806246",
   "metadata": {},
   "source": [
    "**Сравниваем контрольную группу 247 и группу с измененным шрифтом 248**"
   ]
  },
  {
   "cell_type": "markdown",
   "id": "b0ba65f3",
   "metadata": {},
   "source": [
    "**Нулевая гипотеза**: доли уникальных посетителей, побывавших на этапе воронки, одинаковы.<br>\n",
    "**Альтенативная гипотеза**: между долями уникальных посетителей, побывавших на этапе воронки, есть значимая разниц<br>\n",
    "**Уровень статистической значимости**: 0.05 <br>\n",
    "**Выбранный способ**: z-тест\n",
    "<br>"
   ]
  },
  {
   "cell_type": "code",
   "execution_count": 77,
   "id": "e6cc127e",
   "metadata": {
    "scrolled": true
   },
   "outputs": [
    {
     "name": "stdout",
     "output_type": "stream",
     "text": [
      "p-value:  [0.60016616]\n",
      "Не получилось отвергнуть нулевую гипотезу, между долями нет статистически значимой разницы \n",
      "p-value:  [0.90625093]\n",
      "Не получилось отвергнуть нулевую гипотезу, между долями нет статистически значимой разницы \n",
      "p-value:  [0.61695175]\n",
      "Не получилось отвергнуть нулевую гипотезу, между долями нет статистически значимой разницы \n",
      "p-value:  [0.67754136]\n",
      "Не получилось отвергнуть нулевую гипотезу, между долями нет статистически значимой разницы \n"
     ]
    }
   ],
   "source": [
    "z_test(247, 248, 0.05)"
   ]
  },
  {
   "cell_type": "markdown",
   "id": "4230c1e7",
   "metadata": {},
   "source": [
    "**Сравниваем объединенную контрольную группу и группу с измененным шрифтом 248**"
   ]
  },
  {
   "cell_type": "markdown",
   "id": "49802df7",
   "metadata": {},
   "source": [
    "**Нулевая гипотеза**: доли уникальных посетителей, побывавших на этапе воронки, одинаковы.<br>\n",
    "**Альтенативная гипотеза**: между долями уникальных посетителей, побывавших на этапе воронки, есть значимая разниц<br>\n",
    "**Уровень статистической значимости**: 0.05 <br>\n",
    "**Выбранный способ**: z-тест\n",
    "<br>"
   ]
  },
  {
   "cell_type": "code",
   "execution_count": 78,
   "id": "b4cf6751",
   "metadata": {
    "scrolled": false
   },
   "outputs": [
    {
     "name": "stdout",
     "output_type": "stream",
     "text": [
      "p-value:  [0.39298915]\n",
      "Не получилось отвергнуть нулевую гипотезу, между долями нет статистически значимой разницы \n",
      "p-value:  [0.43830674]\n",
      "Не получилось отвергнуть нулевую гипотезу, между долями нет статистически значимой разницы \n",
      "p-value:  [0.19819341]\n",
      "Не получилось отвергнуть нулевую гипотезу, между долями нет статистически значимой разницы \n",
      "p-value:  [0.64520577]\n",
      "Не получилось отвергнуть нулевую гипотезу, между долями нет статистически значимой разницы \n"
     ]
    }
   ],
   "source": [
    "z_test(248, '246+247', 0.05)"
   ]
  },
  {
   "cell_type": "markdown",
   "id": "284f962b",
   "metadata": {},
   "source": [
    "**5.5 Выводы по количеству проверок и уровне статистической значимости**"
   ]
  },
  {
   "cell_type": "markdown",
   "id": "6e9bfe48",
   "metadata": {},
   "source": [
    "Уровень статистической значимости 0.01 для АА, и 0.05 для АБ теста. "
   ]
  },
  {
   "cell_type": "markdown",
   "id": "2ae2f6b7",
   "metadata": {},
   "source": [
    "Всего проверок - 16 проверок. 4 для АА, по 4 теста для каждой контрольной и эксперементальной группы и 4 между объединенной контрольной и экмпериментальной. "
   ]
  },
  {
   "cell_type": "markdown",
   "id": "2388f8f6",
   "metadata": {},
   "source": [
    "Поправки к множественным сравнениям не смогут изменить результатов теста, т.к все поправки уменьшают значение альфа. Это значит, что опровергнуть нулевую теорию будет еще сложнее, т.к p-value в наших тестах намного больше, чем уровень статистической значимости"
   ]
  },
  {
   "cell_type": "markdown",
   "id": "0c577c80",
   "metadata": {},
   "source": [
    "Например, если использовать поправку Бонферрони, то альфа будет равна:"
   ]
  },
  {
   "cell_type": "code",
   "execution_count": 79,
   "id": "046143c7",
   "metadata": {},
   "outputs": [
    {
     "name": "stdout",
     "output_type": "stream",
     "text": [
      "0.003125  - альфа с Поправкой Бонферрони, при альфа = 0.05\n",
      "0.000625  - альфа с Поправкой Бонферрони, при альфа = 0.01\n"
     ]
    }
   ],
   "source": [
    "print(0.05/16,' - альфа с Поправкой Бонферрони, при альфа = 0.05')\n",
    "print(0.01/16, ' - альфа с Поправкой Бонферрони, при альфа = 0.01')"
   ]
  },
  {
   "cell_type": "markdown",
   "id": "0c5dac6f",
   "metadata": {},
   "source": [
    "А минимальное значение p-value во всех 16 тестах - 0.08"
   ]
  },
  {
   "cell_type": "markdown",
   "id": "e706cac7",
   "metadata": {},
   "source": [
    "Какой уровень значимости стоит применить?<br>\n",
    "Обычная практика - устанавливать уровень значимости 0.01 или 0.05. В нашем случае изменение уровня значимости в АБ тесте с 0.05 на 0.01 не изменила бы результата. А вот значение 0.1 - это уже слишком много, потому что каждый 10 эксперимент выдаст ложный резлуьтат."
   ]
  },
  {
   "cell_type": "markdown",
   "id": "18912469",
   "metadata": {},
   "source": [
    "**Нет статистически значимой разницы между всеми группами**"
   ]
  },
  {
   "cell_type": "markdown",
   "id": "ba82bd3f",
   "metadata": {},
   "source": [
    "Это значит, что тест можно останавливать, его результат - неуспешный. Шрифт никак не повлиял на пользователей."
   ]
  },
  {
   "cell_type": "markdown",
   "id": "f65d6a93",
   "metadata": {},
   "source": [
    "# 6. Вывод"
   ]
  },
  {
   "cell_type": "markdown",
   "id": "e0c1102b",
   "metadata": {},
   "source": [
    "Переименовали столбцы. Удалили явные дубликаты. Добавили стобцы с датой и датой и временем. Пропусков в данных не обнаружено. Размер датасета 243713 строк × 6 столбцов"
   ]
  },
  {
   "cell_type": "markdown",
   "id": "d539ff67",
   "metadata": {},
   "source": [
    "Максимальная дата: 2019-08-07 21:15:17<br>\n",
    "Минимальная дата: 2019-07-25 04:43:36"
   ]
  },
  {
   "cell_type": "markdown",
   "id": "c9ba5378",
   "metadata": {},
   "source": [
    "Относительные значения после среза и очистки данных:<br>\n",
    "Потеря данных - 0.82%<br>\n",
    "Потеря пользователей - 0.17%<br>\n",
    "Абсолютные значения среза и очистки данных:<br>\n",
    "Потеря данных - 1933<br>\n",
    "Потеря пользователей - 13<br>"
   ]
  },
  {
   "cell_type": "markdown",
   "id": "ee88da2c",
   "metadata": {},
   "source": [
    "Tutorial убираем из воронки, потому что он необязательный, и большинство пользователей пропускают этот пункт."
   ]
  },
  {
   "cell_type": "markdown",
   "id": "33917527",
   "metadata": {},
   "source": [
    "Самый большой отток пользователей после 1 шага воронки (главный экран) в количестве 2825 "
   ]
  },
  {
   "cell_type": "markdown",
   "id": "d30aa1f3",
   "metadata": {},
   "source": [
    "47.6% процентов доходят до оплаты"
   ]
  },
  {
   "cell_type": "markdown",
   "id": "ff96b987",
   "metadata": {},
   "source": [
    "Уровень статистической значимости 0.01 для АА, и 0.05 для АБ теста.\n",
    "\n",
    "Всего проверок - 16 проверок. 4 для АА, по 4 теста для каждой контрольной и эксперементальной группы и 4 между объединенной контрольной и экмпериментальной.\n",
    "\n",
    "Поправки к множественным сравнениям не смогут изменить результатов теста, т.к все поправки уменьшают значение альфа. Это значит, что опровергнуть нулевую теорию будет еще сложнее, т.к p-value в наших тестах намного больше, чем уровень статистической значимости"
   ]
  },
  {
   "cell_type": "markdown",
   "id": "b580d49a",
   "metadata": {},
   "source": [
    "Обычная практика - устанавливать уровень значимости 0.01 или 0.05. В нашем случае изменение уровня значимости в АБ тесте с 0.05 на 0.01 не изменила бы результата. А вот значение 0.1 - это уже слишком много, потому что каждый 10 эксперимент выдаст ложный резлуьтат.\n",
    "\n",
    "Нет статистически значимой разницы между всеми группами\n",
    "\n",
    "Это значит, что тест можно останавливать, его результат - неуспешный. Шрифт никак не повлиял на пользователей."
   ]
  }
 ],
 "metadata": {
  "ExecuteTimeLog": [
   {
    "duration": 1203,
    "start_time": "2023-02-05T12:05:35.099Z"
   },
   {
    "duration": 295,
    "start_time": "2023-02-05T12:05:36.304Z"
   },
   {
    "duration": 11,
    "start_time": "2023-02-05T12:05:36.601Z"
   },
   {
    "duration": 39,
    "start_time": "2023-02-05T12:05:36.614Z"
   },
   {
    "duration": 4,
    "start_time": "2023-02-05T12:05:36.656Z"
   },
   {
    "duration": 552,
    "start_time": "2023-02-05T12:05:36.661Z"
   },
   {
    "duration": 0,
    "start_time": "2023-02-05T12:05:37.218Z"
   },
   {
    "duration": 0,
    "start_time": "2023-02-05T12:05:37.219Z"
   },
   {
    "duration": 0,
    "start_time": "2023-02-05T12:05:37.220Z"
   },
   {
    "duration": 0,
    "start_time": "2023-02-05T12:05:37.221Z"
   },
   {
    "duration": 0,
    "start_time": "2023-02-05T12:05:37.222Z"
   },
   {
    "duration": 0,
    "start_time": "2023-02-05T12:05:37.223Z"
   },
   {
    "duration": 0,
    "start_time": "2023-02-05T12:05:37.224Z"
   },
   {
    "duration": 0,
    "start_time": "2023-02-05T12:05:37.226Z"
   },
   {
    "duration": 0,
    "start_time": "2023-02-05T12:05:37.227Z"
   },
   {
    "duration": 0,
    "start_time": "2023-02-05T12:05:37.227Z"
   },
   {
    "duration": 0,
    "start_time": "2023-02-05T12:05:37.228Z"
   },
   {
    "duration": 0,
    "start_time": "2023-02-05T12:05:37.229Z"
   },
   {
    "duration": 0,
    "start_time": "2023-02-05T12:05:37.231Z"
   },
   {
    "duration": 0,
    "start_time": "2023-02-05T12:05:37.232Z"
   },
   {
    "duration": 0,
    "start_time": "2023-02-05T12:05:37.233Z"
   },
   {
    "duration": 0,
    "start_time": "2023-02-05T12:05:37.234Z"
   },
   {
    "duration": 0,
    "start_time": "2023-02-05T12:05:37.235Z"
   },
   {
    "duration": 0,
    "start_time": "2023-02-05T12:05:37.236Z"
   },
   {
    "duration": 0,
    "start_time": "2023-02-05T12:05:37.237Z"
   },
   {
    "duration": 0,
    "start_time": "2023-02-05T12:05:37.238Z"
   },
   {
    "duration": 0,
    "start_time": "2023-02-05T12:05:37.239Z"
   },
   {
    "duration": 0,
    "start_time": "2023-02-05T12:05:37.240Z"
   },
   {
    "duration": 0,
    "start_time": "2023-02-05T12:05:37.241Z"
   },
   {
    "duration": 0,
    "start_time": "2023-02-05T12:05:37.242Z"
   },
   {
    "duration": 0,
    "start_time": "2023-02-05T12:05:37.243Z"
   },
   {
    "duration": 0,
    "start_time": "2023-02-05T12:05:37.244Z"
   },
   {
    "duration": 0,
    "start_time": "2023-02-05T12:05:37.245Z"
   },
   {
    "duration": 0,
    "start_time": "2023-02-05T12:05:37.246Z"
   },
   {
    "duration": 0,
    "start_time": "2023-02-05T12:05:37.247Z"
   },
   {
    "duration": 0,
    "start_time": "2023-02-05T12:05:37.248Z"
   },
   {
    "duration": 0,
    "start_time": "2023-02-05T12:05:37.249Z"
   },
   {
    "duration": 0,
    "start_time": "2023-02-05T12:05:37.250Z"
   },
   {
    "duration": 0,
    "start_time": "2023-02-05T12:05:37.251Z"
   },
   {
    "duration": 0,
    "start_time": "2023-02-05T12:05:37.252Z"
   },
   {
    "duration": 0,
    "start_time": "2023-02-05T12:05:37.253Z"
   },
   {
    "duration": 0,
    "start_time": "2023-02-05T12:05:37.254Z"
   },
   {
    "duration": 0,
    "start_time": "2023-02-05T12:05:37.255Z"
   },
   {
    "duration": 0,
    "start_time": "2023-02-05T12:05:37.256Z"
   },
   {
    "duration": 0,
    "start_time": "2023-02-05T12:05:37.257Z"
   },
   {
    "duration": 0,
    "start_time": "2023-02-05T12:05:37.258Z"
   },
   {
    "duration": 0,
    "start_time": "2023-02-05T12:05:37.259Z"
   },
   {
    "duration": 0,
    "start_time": "2023-02-05T12:05:37.260Z"
   },
   {
    "duration": 0,
    "start_time": "2023-02-05T12:05:37.261Z"
   },
   {
    "duration": 0,
    "start_time": "2023-02-05T12:05:37.263Z"
   },
   {
    "duration": 0,
    "start_time": "2023-02-05T12:05:37.263Z"
   },
   {
    "duration": 0,
    "start_time": "2023-02-05T12:05:37.265Z"
   },
   {
    "duration": 0,
    "start_time": "2023-02-05T12:05:37.266Z"
   },
   {
    "duration": 0,
    "start_time": "2023-02-05T12:05:37.267Z"
   },
   {
    "duration": 0,
    "start_time": "2023-02-05T12:05:37.268Z"
   },
   {
    "duration": 0,
    "start_time": "2023-02-05T12:05:37.269Z"
   },
   {
    "duration": 0,
    "start_time": "2023-02-05T12:05:37.270Z"
   },
   {
    "duration": 0,
    "start_time": "2023-02-05T12:05:37.271Z"
   },
   {
    "duration": 0,
    "start_time": "2023-02-05T12:05:37.272Z"
   },
   {
    "duration": 0,
    "start_time": "2023-02-05T12:05:37.273Z"
   },
   {
    "duration": 0,
    "start_time": "2023-02-05T12:05:37.274Z"
   },
   {
    "duration": 0,
    "start_time": "2023-02-05T12:05:37.275Z"
   },
   {
    "duration": 0,
    "start_time": "2023-02-05T12:05:37.276Z"
   },
   {
    "duration": 0,
    "start_time": "2023-02-05T12:05:37.277Z"
   },
   {
    "duration": 0,
    "start_time": "2023-02-05T12:05:37.278Z"
   },
   {
    "duration": 0,
    "start_time": "2023-02-05T12:05:37.279Z"
   },
   {
    "duration": 0,
    "start_time": "2023-02-05T12:05:37.280Z"
   },
   {
    "duration": 0,
    "start_time": "2023-02-05T12:05:37.281Z"
   },
   {
    "duration": 1736,
    "start_time": "2023-02-05T13:11:10.813Z"
   },
   {
    "duration": 874,
    "start_time": "2023-02-05T13:11:12.551Z"
   },
   {
    "duration": 11,
    "start_time": "2023-02-05T13:11:13.426Z"
   },
   {
    "duration": 21,
    "start_time": "2023-02-05T13:11:13.439Z"
   },
   {
    "duration": 4,
    "start_time": "2023-02-05T13:11:13.461Z"
   },
   {
    "duration": 444,
    "start_time": "2023-02-05T13:11:13.467Z"
   },
   {
    "duration": 0,
    "start_time": "2023-02-05T13:11:13.915Z"
   },
   {
    "duration": 0,
    "start_time": "2023-02-05T13:11:13.916Z"
   },
   {
    "duration": 0,
    "start_time": "2023-02-05T13:11:13.917Z"
   },
   {
    "duration": 0,
    "start_time": "2023-02-05T13:11:13.918Z"
   },
   {
    "duration": 0,
    "start_time": "2023-02-05T13:11:13.919Z"
   },
   {
    "duration": 0,
    "start_time": "2023-02-05T13:11:13.920Z"
   },
   {
    "duration": 0,
    "start_time": "2023-02-05T13:11:13.921Z"
   },
   {
    "duration": 0,
    "start_time": "2023-02-05T13:11:13.922Z"
   },
   {
    "duration": 0,
    "start_time": "2023-02-05T13:11:13.923Z"
   },
   {
    "duration": 0,
    "start_time": "2023-02-05T13:11:13.924Z"
   },
   {
    "duration": 0,
    "start_time": "2023-02-05T13:11:13.925Z"
   },
   {
    "duration": 0,
    "start_time": "2023-02-05T13:11:13.926Z"
   },
   {
    "duration": 0,
    "start_time": "2023-02-05T13:11:13.927Z"
   },
   {
    "duration": 0,
    "start_time": "2023-02-05T13:11:13.928Z"
   },
   {
    "duration": 0,
    "start_time": "2023-02-05T13:11:13.929Z"
   },
   {
    "duration": 0,
    "start_time": "2023-02-05T13:11:13.930Z"
   },
   {
    "duration": 0,
    "start_time": "2023-02-05T13:11:13.931Z"
   },
   {
    "duration": 0,
    "start_time": "2023-02-05T13:11:13.932Z"
   },
   {
    "duration": 0,
    "start_time": "2023-02-05T13:11:13.933Z"
   },
   {
    "duration": 0,
    "start_time": "2023-02-05T13:11:13.934Z"
   },
   {
    "duration": 0,
    "start_time": "2023-02-05T13:11:13.935Z"
   },
   {
    "duration": 0,
    "start_time": "2023-02-05T13:11:13.937Z"
   },
   {
    "duration": 0,
    "start_time": "2023-02-05T13:11:13.938Z"
   },
   {
    "duration": 0,
    "start_time": "2023-02-05T13:11:13.938Z"
   },
   {
    "duration": 0,
    "start_time": "2023-02-05T13:11:13.939Z"
   },
   {
    "duration": 0,
    "start_time": "2023-02-05T13:11:13.940Z"
   },
   {
    "duration": 0,
    "start_time": "2023-02-05T13:11:13.941Z"
   },
   {
    "duration": 0,
    "start_time": "2023-02-05T13:11:13.942Z"
   },
   {
    "duration": 0,
    "start_time": "2023-02-05T13:11:13.944Z"
   },
   {
    "duration": 0,
    "start_time": "2023-02-05T13:11:13.945Z"
   },
   {
    "duration": 0,
    "start_time": "2023-02-05T13:11:13.946Z"
   },
   {
    "duration": 0,
    "start_time": "2023-02-05T13:11:13.947Z"
   },
   {
    "duration": 0,
    "start_time": "2023-02-05T13:11:13.948Z"
   },
   {
    "duration": 0,
    "start_time": "2023-02-05T13:11:13.949Z"
   },
   {
    "duration": 0,
    "start_time": "2023-02-05T13:11:13.949Z"
   },
   {
    "duration": 0,
    "start_time": "2023-02-05T13:11:13.950Z"
   },
   {
    "duration": 0,
    "start_time": "2023-02-05T13:11:13.952Z"
   },
   {
    "duration": 0,
    "start_time": "2023-02-05T13:11:13.953Z"
   },
   {
    "duration": 0,
    "start_time": "2023-02-05T13:11:13.954Z"
   },
   {
    "duration": 0,
    "start_time": "2023-02-05T13:11:13.954Z"
   },
   {
    "duration": 0,
    "start_time": "2023-02-05T13:11:13.955Z"
   },
   {
    "duration": 0,
    "start_time": "2023-02-05T13:11:13.993Z"
   },
   {
    "duration": 0,
    "start_time": "2023-02-05T13:11:13.996Z"
   },
   {
    "duration": 0,
    "start_time": "2023-02-05T13:11:13.997Z"
   },
   {
    "duration": 0,
    "start_time": "2023-02-05T13:11:13.998Z"
   },
   {
    "duration": 0,
    "start_time": "2023-02-05T13:11:13.999Z"
   },
   {
    "duration": 0,
    "start_time": "2023-02-05T13:11:14.002Z"
   },
   {
    "duration": 0,
    "start_time": "2023-02-05T13:11:14.003Z"
   },
   {
    "duration": 0,
    "start_time": "2023-02-05T13:11:14.004Z"
   },
   {
    "duration": 0,
    "start_time": "2023-02-05T13:11:14.005Z"
   },
   {
    "duration": 0,
    "start_time": "2023-02-05T13:11:14.006Z"
   },
   {
    "duration": 0,
    "start_time": "2023-02-05T13:11:14.007Z"
   },
   {
    "duration": 0,
    "start_time": "2023-02-05T13:11:14.009Z"
   },
   {
    "duration": 0,
    "start_time": "2023-02-05T13:11:14.010Z"
   },
   {
    "duration": 0,
    "start_time": "2023-02-05T13:11:14.012Z"
   },
   {
    "duration": 0,
    "start_time": "2023-02-05T13:11:14.013Z"
   },
   {
    "duration": 0,
    "start_time": "2023-02-05T13:11:14.014Z"
   },
   {
    "duration": 0,
    "start_time": "2023-02-05T13:11:14.016Z"
   },
   {
    "duration": 0,
    "start_time": "2023-02-05T13:11:14.017Z"
   },
   {
    "duration": 0,
    "start_time": "2023-02-05T13:11:14.019Z"
   },
   {
    "duration": 0,
    "start_time": "2023-02-05T13:11:14.020Z"
   },
   {
    "duration": 0,
    "start_time": "2023-02-05T13:11:14.021Z"
   },
   {
    "duration": 3,
    "start_time": "2023-02-05T13:12:14.590Z"
   },
   {
    "duration": 275,
    "start_time": "2023-02-05T13:12:15.014Z"
   },
   {
    "duration": 6,
    "start_time": "2023-02-05T13:12:15.443Z"
   },
   {
    "duration": 20,
    "start_time": "2023-02-05T13:12:16.374Z"
   },
   {
    "duration": 288,
    "start_time": "2023-02-05T13:12:36.724Z"
   },
   {
    "duration": 262,
    "start_time": "2023-02-05T13:12:39.691Z"
   },
   {
    "duration": 6,
    "start_time": "2023-02-05T13:12:40.084Z"
   },
   {
    "duration": 276,
    "start_time": "2023-02-05T13:12:42.629Z"
   },
   {
    "duration": 284,
    "start_time": "2023-02-05T13:12:44.851Z"
   },
   {
    "duration": 6,
    "start_time": "2023-02-05T13:12:45.252Z"
   },
   {
    "duration": 73,
    "start_time": "2023-02-05T13:12:50.787Z"
   },
   {
    "duration": 7,
    "start_time": "2023-02-05T13:12:51.225Z"
   },
   {
    "duration": 23,
    "start_time": "2023-02-05T13:12:52.171Z"
   },
   {
    "duration": 4,
    "start_time": "2023-02-05T13:12:54.402Z"
   },
   {
    "duration": 70,
    "start_time": "2023-02-05T13:12:54.758Z"
   },
   {
    "duration": 269,
    "start_time": "2023-02-05T13:12:59.908Z"
   },
   {
    "duration": 284,
    "start_time": "2023-02-05T13:13:01.746Z"
   },
   {
    "duration": 6,
    "start_time": "2023-02-05T13:13:02.230Z"
   },
   {
    "duration": 19,
    "start_time": "2023-02-05T13:13:02.995Z"
   },
   {
    "duration": 262,
    "start_time": "2023-02-05T13:13:39.424Z"
   },
   {
    "duration": 7,
    "start_time": "2023-02-05T13:13:42.181Z"
   },
   {
    "duration": 18,
    "start_time": "2023-02-05T13:13:43.016Z"
   },
   {
    "duration": 147,
    "start_time": "2023-02-05T13:13:50.580Z"
   },
   {
    "duration": 7,
    "start_time": "2023-02-05T13:13:52.724Z"
   },
   {
    "duration": 17,
    "start_time": "2023-02-05T13:13:53.414Z"
   },
   {
    "duration": 1204,
    "start_time": "2023-02-05T13:14:00.843Z"
   },
   {
    "duration": 166,
    "start_time": "2023-02-05T13:14:02.050Z"
   },
   {
    "duration": 15,
    "start_time": "2023-02-05T13:14:02.218Z"
   },
   {
    "duration": 26,
    "start_time": "2023-02-05T13:14:02.235Z"
   },
   {
    "duration": 12,
    "start_time": "2023-02-05T13:14:02.262Z"
   },
   {
    "duration": 17,
    "start_time": "2023-02-05T13:14:02.276Z"
   },
   {
    "duration": 21,
    "start_time": "2023-02-05T13:14:02.295Z"
   },
   {
    "duration": 77,
    "start_time": "2023-02-05T13:14:02.318Z"
   },
   {
    "duration": 129,
    "start_time": "2023-02-05T13:14:02.397Z"
   },
   {
    "duration": 78,
    "start_time": "2023-02-05T13:14:02.529Z"
   },
   {
    "duration": 84,
    "start_time": "2023-02-05T13:14:02.609Z"
   },
   {
    "duration": 29,
    "start_time": "2023-02-05T13:14:02.695Z"
   },
   {
    "duration": 13,
    "start_time": "2023-02-05T13:14:02.725Z"
   },
   {
    "duration": 26,
    "start_time": "2023-02-05T13:14:02.740Z"
   },
   {
    "duration": 40,
    "start_time": "2023-02-05T13:14:02.767Z"
   },
   {
    "duration": 14,
    "start_time": "2023-02-05T13:14:02.809Z"
   },
   {
    "duration": 12,
    "start_time": "2023-02-05T13:14:02.825Z"
   },
   {
    "duration": 24,
    "start_time": "2023-02-05T13:14:02.839Z"
   },
   {
    "duration": 45,
    "start_time": "2023-02-05T13:14:02.864Z"
   },
   {
    "duration": 9,
    "start_time": "2023-02-05T13:14:02.910Z"
   },
   {
    "duration": 27,
    "start_time": "2023-02-05T13:14:02.920Z"
   },
   {
    "duration": 5,
    "start_time": "2023-02-05T13:14:02.949Z"
   },
   {
    "duration": 279,
    "start_time": "2023-02-05T13:14:02.956Z"
   },
   {
    "duration": 171,
    "start_time": "2023-02-05T13:14:03.236Z"
   },
   {
    "duration": 20,
    "start_time": "2023-02-05T13:14:03.408Z"
   },
   {
    "duration": 11,
    "start_time": "2023-02-05T13:14:03.430Z"
   },
   {
    "duration": 5,
    "start_time": "2023-02-05T13:14:03.443Z"
   },
   {
    "duration": 12,
    "start_time": "2023-02-05T13:14:03.451Z"
   },
   {
    "duration": 31,
    "start_time": "2023-02-05T13:14:03.494Z"
   },
   {
    "duration": 20,
    "start_time": "2023-02-05T13:14:03.527Z"
   },
   {
    "duration": 73,
    "start_time": "2023-02-05T13:14:03.548Z"
   },
   {
    "duration": 7,
    "start_time": "2023-02-05T13:14:03.623Z"
   },
   {
    "duration": 3,
    "start_time": "2023-02-05T13:14:03.631Z"
   },
   {
    "duration": 13,
    "start_time": "2023-02-05T13:14:03.635Z"
   },
   {
    "duration": 6,
    "start_time": "2023-02-05T13:14:03.649Z"
   },
   {
    "duration": 12,
    "start_time": "2023-02-05T13:14:03.657Z"
   },
   {
    "duration": 22,
    "start_time": "2023-02-05T13:14:03.671Z"
   },
   {
    "duration": 8,
    "start_time": "2023-02-05T13:14:03.695Z"
   },
   {
    "duration": 9,
    "start_time": "2023-02-05T13:14:03.705Z"
   },
   {
    "duration": 27,
    "start_time": "2023-02-05T13:14:03.716Z"
   },
   {
    "duration": 10,
    "start_time": "2023-02-05T13:14:03.745Z"
   },
   {
    "duration": 33,
    "start_time": "2023-02-05T13:14:03.757Z"
   },
   {
    "duration": 7,
    "start_time": "2023-02-05T13:14:03.794Z"
   },
   {
    "duration": 9,
    "start_time": "2023-02-05T13:14:03.802Z"
   },
   {
    "duration": 5,
    "start_time": "2023-02-05T13:14:03.813Z"
   },
   {
    "duration": 7,
    "start_time": "2023-02-05T13:14:03.820Z"
   },
   {
    "duration": 67,
    "start_time": "2023-02-05T13:14:03.829Z"
   },
   {
    "duration": 51,
    "start_time": "2023-02-05T13:14:03.897Z"
   },
   {
    "duration": 76,
    "start_time": "2023-02-05T13:14:03.950Z"
   },
   {
    "duration": 66,
    "start_time": "2023-02-05T13:14:04.028Z"
   },
   {
    "duration": 82,
    "start_time": "2023-02-05T13:14:04.096Z"
   },
   {
    "duration": 10,
    "start_time": "2023-02-05T13:14:04.194Z"
   },
   {
    "duration": 9,
    "start_time": "2023-02-05T13:14:04.207Z"
   },
   {
    "duration": 19,
    "start_time": "2023-02-05T13:14:04.218Z"
   },
   {
    "duration": 103,
    "start_time": "2023-02-05T13:14:04.239Z"
   },
   {
    "duration": 65,
    "start_time": "2023-02-05T13:14:04.344Z"
   },
   {
    "duration": 50,
    "start_time": "2023-02-05T13:14:04.411Z"
   },
   {
    "duration": 68,
    "start_time": "2023-02-05T13:14:04.462Z"
   },
   {
    "duration": 50,
    "start_time": "2023-02-05T13:14:04.532Z"
   },
   {
    "duration": 51,
    "start_time": "2023-02-05T13:14:04.593Z"
   },
   {
    "duration": 63,
    "start_time": "2023-02-05T13:14:04.645Z"
   },
   {
    "duration": 50,
    "start_time": "2023-02-05T13:14:04.709Z"
   },
   {
    "duration": 7,
    "start_time": "2023-02-05T13:14:04.761Z"
   },
   {
    "duration": 25,
    "start_time": "2023-02-05T13:14:04.770Z"
   },
   {
    "duration": 6,
    "start_time": "2023-02-05T13:14:04.797Z"
   },
   {
    "duration": 9,
    "start_time": "2023-02-05T13:14:04.804Z"
   },
   {
    "duration": 8,
    "start_time": "2023-02-05T13:14:04.814Z"
   },
   {
    "duration": 13,
    "start_time": "2023-02-05T13:14:04.823Z"
   },
   {
    "duration": 1172,
    "start_time": "2023-02-05T21:58:11.499Z"
   },
   {
    "duration": 140,
    "start_time": "2023-02-05T21:58:12.673Z"
   },
   {
    "duration": 11,
    "start_time": "2023-02-05T21:58:12.815Z"
   },
   {
    "duration": 24,
    "start_time": "2023-02-05T21:58:12.828Z"
   },
   {
    "duration": 3,
    "start_time": "2023-02-05T21:58:12.854Z"
   },
   {
    "duration": 4,
    "start_time": "2023-02-05T21:58:12.858Z"
   },
   {
    "duration": 10,
    "start_time": "2023-02-05T21:58:12.863Z"
   },
   {
    "duration": 72,
    "start_time": "2023-02-05T21:58:12.875Z"
   },
   {
    "duration": 126,
    "start_time": "2023-02-05T21:58:12.948Z"
   },
   {
    "duration": 79,
    "start_time": "2023-02-05T21:58:13.076Z"
   },
   {
    "duration": 69,
    "start_time": "2023-02-05T21:58:13.157Z"
   },
   {
    "duration": 31,
    "start_time": "2023-02-05T21:58:13.227Z"
   },
   {
    "duration": 12,
    "start_time": "2023-02-05T21:58:13.260Z"
   },
   {
    "duration": 18,
    "start_time": "2023-02-05T21:58:13.274Z"
   },
   {
    "duration": 18,
    "start_time": "2023-02-05T21:58:13.293Z"
   },
   {
    "duration": 11,
    "start_time": "2023-02-05T21:58:13.337Z"
   },
   {
    "duration": 11,
    "start_time": "2023-02-05T21:58:13.349Z"
   },
   {
    "duration": 13,
    "start_time": "2023-02-05T21:58:13.361Z"
   },
   {
    "duration": 26,
    "start_time": "2023-02-05T21:58:13.376Z"
   },
   {
    "duration": 36,
    "start_time": "2023-02-05T21:58:13.404Z"
   },
   {
    "duration": 27,
    "start_time": "2023-02-05T21:58:13.442Z"
   },
   {
    "duration": 8,
    "start_time": "2023-02-05T21:58:13.471Z"
   },
   {
    "duration": 266,
    "start_time": "2023-02-05T21:58:13.482Z"
   },
   {
    "duration": 160,
    "start_time": "2023-02-05T21:58:13.750Z"
   },
   {
    "duration": 31,
    "start_time": "2023-02-05T21:58:13.912Z"
   },
   {
    "duration": 13,
    "start_time": "2023-02-05T21:58:13.944Z"
   },
   {
    "duration": 4,
    "start_time": "2023-02-05T21:58:13.959Z"
   },
   {
    "duration": 11,
    "start_time": "2023-02-05T21:58:13.968Z"
   },
   {
    "duration": 62,
    "start_time": "2023-02-05T21:58:13.981Z"
   },
   {
    "duration": 19,
    "start_time": "2023-02-05T21:58:14.044Z"
   },
   {
    "duration": 70,
    "start_time": "2023-02-05T21:58:14.065Z"
   },
   {
    "duration": 8,
    "start_time": "2023-02-05T21:58:14.136Z"
   },
   {
    "duration": 4,
    "start_time": "2023-02-05T21:58:14.145Z"
   },
   {
    "duration": 9,
    "start_time": "2023-02-05T21:58:14.151Z"
   },
   {
    "duration": 6,
    "start_time": "2023-02-05T21:58:14.161Z"
   },
   {
    "duration": 6,
    "start_time": "2023-02-05T21:58:14.169Z"
   },
   {
    "duration": 7,
    "start_time": "2023-02-05T21:58:14.176Z"
   },
   {
    "duration": 9,
    "start_time": "2023-02-05T21:58:14.184Z"
   },
   {
    "duration": 11,
    "start_time": "2023-02-05T21:58:14.194Z"
   },
   {
    "duration": 31,
    "start_time": "2023-02-05T21:58:14.207Z"
   },
   {
    "duration": 5,
    "start_time": "2023-02-05T21:58:14.240Z"
   },
   {
    "duration": 29,
    "start_time": "2023-02-05T21:58:14.247Z"
   },
   {
    "duration": 6,
    "start_time": "2023-02-05T21:58:14.277Z"
   },
   {
    "duration": 9,
    "start_time": "2023-02-05T21:58:14.284Z"
   },
   {
    "duration": 9,
    "start_time": "2023-02-05T21:58:14.294Z"
   },
   {
    "duration": 6,
    "start_time": "2023-02-05T21:58:14.304Z"
   },
   {
    "duration": 48,
    "start_time": "2023-02-05T21:58:14.336Z"
   },
   {
    "duration": 57,
    "start_time": "2023-02-05T21:58:14.386Z"
   },
   {
    "duration": 45,
    "start_time": "2023-02-05T21:58:14.445Z"
   },
   {
    "duration": 59,
    "start_time": "2023-02-05T21:58:14.492Z"
   },
   {
    "duration": 62,
    "start_time": "2023-02-05T21:58:14.553Z"
   },
   {
    "duration": 22,
    "start_time": "2023-02-05T21:58:14.617Z"
   },
   {
    "duration": 3,
    "start_time": "2023-02-05T21:58:14.641Z"
   },
   {
    "duration": 9,
    "start_time": "2023-02-05T21:58:14.645Z"
   },
   {
    "duration": 51,
    "start_time": "2023-02-05T21:58:14.655Z"
   },
   {
    "duration": 62,
    "start_time": "2023-02-05T21:58:14.707Z"
   },
   {
    "duration": 47,
    "start_time": "2023-02-05T21:58:14.771Z"
   },
   {
    "duration": 62,
    "start_time": "2023-02-05T21:58:14.819Z"
   },
   {
    "duration": 54,
    "start_time": "2023-02-05T21:58:14.883Z"
   },
   {
    "duration": 47,
    "start_time": "2023-02-05T21:58:14.938Z"
   },
   {
    "duration": 62,
    "start_time": "2023-02-05T21:58:14.986Z"
   },
   {
    "duration": 46,
    "start_time": "2023-02-05T21:58:15.049Z"
   },
   {
    "duration": 6,
    "start_time": "2023-02-05T21:58:15.096Z"
   },
   {
    "duration": 14,
    "start_time": "2023-02-05T21:58:15.104Z"
   },
   {
    "duration": 18,
    "start_time": "2023-02-05T21:58:15.119Z"
   },
   {
    "duration": 10,
    "start_time": "2023-02-05T21:58:15.138Z"
   },
   {
    "duration": 20,
    "start_time": "2023-02-05T21:58:15.149Z"
   },
   {
    "duration": 15,
    "start_time": "2023-02-05T21:58:15.171Z"
   },
   {
    "duration": 90,
    "start_time": "2023-02-05T22:04:46.416Z"
   },
   {
    "duration": 28,
    "start_time": "2023-02-05T22:05:13.805Z"
   },
   {
    "duration": 26,
    "start_time": "2023-02-05T22:05:26.635Z"
   },
   {
    "duration": 7,
    "start_time": "2023-02-05T22:06:27.820Z"
   },
   {
    "duration": 49,
    "start_time": "2023-02-05T22:06:28.576Z"
   },
   {
    "duration": 8,
    "start_time": "2023-02-05T22:07:01.156Z"
   },
   {
    "duration": 59,
    "start_time": "2023-02-05T22:07:04.545Z"
   },
   {
    "duration": 8,
    "start_time": "2023-02-05T22:13:03.778Z"
   },
   {
    "duration": 587,
    "start_time": "2023-02-05T22:13:09.497Z"
   },
   {
    "duration": 1310,
    "start_time": "2023-02-06T08:09:03.044Z"
   },
   {
    "duration": 514,
    "start_time": "2023-02-06T08:09:04.356Z"
   },
   {
    "duration": 12,
    "start_time": "2023-02-06T08:09:04.872Z"
   },
   {
    "duration": 31,
    "start_time": "2023-02-06T08:09:04.886Z"
   },
   {
    "duration": 5,
    "start_time": "2023-02-06T08:09:04.918Z"
   },
   {
    "duration": 5,
    "start_time": "2023-02-06T08:09:04.925Z"
   },
   {
    "duration": 15,
    "start_time": "2023-02-06T08:09:04.932Z"
   },
   {
    "duration": 71,
    "start_time": "2023-02-06T08:09:04.949Z"
   },
   {
    "duration": 144,
    "start_time": "2023-02-06T08:09:05.021Z"
   },
   {
    "duration": 85,
    "start_time": "2023-02-06T08:09:05.168Z"
   },
   {
    "duration": 91,
    "start_time": "2023-02-06T08:09:05.255Z"
   },
   {
    "duration": 31,
    "start_time": "2023-02-06T08:09:05.348Z"
   },
   {
    "duration": 29,
    "start_time": "2023-02-06T08:09:05.381Z"
   },
   {
    "duration": 26,
    "start_time": "2023-02-06T08:09:05.412Z"
   },
   {
    "duration": 23,
    "start_time": "2023-02-06T08:09:05.440Z"
   },
   {
    "duration": 15,
    "start_time": "2023-02-06T08:09:05.465Z"
   },
   {
    "duration": 32,
    "start_time": "2023-02-06T08:09:05.482Z"
   },
   {
    "duration": 16,
    "start_time": "2023-02-06T08:09:05.515Z"
   },
   {
    "duration": 46,
    "start_time": "2023-02-06T08:09:05.533Z"
   },
   {
    "duration": 23,
    "start_time": "2023-02-06T08:09:05.581Z"
   },
   {
    "duration": 32,
    "start_time": "2023-02-06T08:09:05.606Z"
   },
   {
    "duration": 5,
    "start_time": "2023-02-06T08:09:05.640Z"
   },
   {
    "duration": 294,
    "start_time": "2023-02-06T08:09:05.646Z"
   },
   {
    "duration": 180,
    "start_time": "2023-02-06T08:09:05.943Z"
   },
   {
    "duration": 616,
    "start_time": "2023-02-06T08:09:06.125Z"
   },
   {
    "duration": 29,
    "start_time": "2023-02-06T08:09:06.743Z"
   },
   {
    "duration": 32,
    "start_time": "2023-02-06T08:09:06.774Z"
   },
   {
    "duration": 5,
    "start_time": "2023-02-06T08:09:06.810Z"
   },
   {
    "duration": 23,
    "start_time": "2023-02-06T08:09:06.817Z"
   },
   {
    "duration": 46,
    "start_time": "2023-02-06T08:09:06.843Z"
   },
   {
    "duration": 22,
    "start_time": "2023-02-06T08:09:06.904Z"
   },
   {
    "duration": 78,
    "start_time": "2023-02-06T08:09:06.928Z"
   },
   {
    "duration": 9,
    "start_time": "2023-02-06T08:09:07.009Z"
   },
   {
    "duration": 3,
    "start_time": "2023-02-06T08:09:07.020Z"
   },
   {
    "duration": 13,
    "start_time": "2023-02-06T08:09:07.024Z"
   },
   {
    "duration": 97,
    "start_time": "2023-02-06T08:09:07.039Z"
   },
   {
    "duration": 11,
    "start_time": "2023-02-06T08:09:07.138Z"
   },
   {
    "duration": 17,
    "start_time": "2023-02-06T08:09:07.150Z"
   },
   {
    "duration": 17,
    "start_time": "2023-02-06T08:09:07.169Z"
   },
   {
    "duration": 12,
    "start_time": "2023-02-06T08:09:07.188Z"
   },
   {
    "duration": 9,
    "start_time": "2023-02-06T08:09:07.205Z"
   },
   {
    "duration": 11,
    "start_time": "2023-02-06T08:09:07.216Z"
   },
   {
    "duration": 54,
    "start_time": "2023-02-06T08:09:11.036Z"
   },
   {
    "duration": 112,
    "start_time": "2023-02-06T08:09:33.041Z"
   },
   {
    "duration": 808,
    "start_time": "2023-02-06T08:10:06.832Z"
   },
   {
    "duration": 11,
    "start_time": "2023-02-06T08:10:32.251Z"
   },
   {
    "duration": 700,
    "start_time": "2023-02-06T08:10:47.590Z"
   },
   {
    "duration": 11,
    "start_time": "2023-02-06T08:11:11.058Z"
   },
   {
    "duration": 6,
    "start_time": "2023-02-06T08:11:13.368Z"
   },
   {
    "duration": 57,
    "start_time": "2023-02-06T08:11:29.881Z"
   },
   {
    "duration": 1108,
    "start_time": "2023-02-06T08:11:32.890Z"
   },
   {
    "duration": 755,
    "start_time": "2023-02-06T08:11:41.984Z"
   },
   {
    "duration": 900,
    "start_time": "2023-02-06T08:12:21.462Z"
   },
   {
    "duration": 908,
    "start_time": "2023-02-06T08:12:31.382Z"
   },
   {
    "duration": 40,
    "start_time": "2023-02-06T08:12:47.818Z"
   },
   {
    "duration": 7,
    "start_time": "2023-02-06T08:12:47.860Z"
   },
   {
    "duration": 9,
    "start_time": "2023-02-06T08:12:47.869Z"
   },
   {
    "duration": 24,
    "start_time": "2023-02-06T08:12:47.881Z"
   },
   {
    "duration": 7,
    "start_time": "2023-02-06T08:12:47.907Z"
   },
   {
    "duration": 56,
    "start_time": "2023-02-06T08:12:47.916Z"
   },
   {
    "duration": 70,
    "start_time": "2023-02-06T08:12:47.973Z"
   },
   {
    "duration": 63,
    "start_time": "2023-02-06T08:12:48.044Z"
   },
   {
    "duration": 48,
    "start_time": "2023-02-06T08:12:48.109Z"
   },
   {
    "duration": 91,
    "start_time": "2023-02-06T08:12:48.160Z"
   },
   {
    "duration": 7,
    "start_time": "2023-02-06T08:12:48.253Z"
   },
   {
    "duration": 11,
    "start_time": "2023-02-06T08:12:48.261Z"
   },
   {
    "duration": 19,
    "start_time": "2023-02-06T08:12:48.273Z"
   },
   {
    "duration": 79,
    "start_time": "2023-02-06T08:12:48.294Z"
   },
   {
    "duration": 61,
    "start_time": "2023-02-06T08:12:48.375Z"
   },
   {
    "duration": 68,
    "start_time": "2023-02-06T08:12:48.438Z"
   },
   {
    "duration": 53,
    "start_time": "2023-02-06T08:12:48.508Z"
   },
   {
    "duration": 71,
    "start_time": "2023-02-06T08:12:48.564Z"
   },
   {
    "duration": 80,
    "start_time": "2023-02-06T08:12:48.637Z"
   },
   {
    "duration": 60,
    "start_time": "2023-02-06T08:12:48.719Z"
   },
   {
    "duration": 84,
    "start_time": "2023-02-06T08:12:48.781Z"
   },
   {
    "duration": 7,
    "start_time": "2023-02-06T08:12:48.867Z"
   },
   {
    "duration": 15,
    "start_time": "2023-02-06T08:12:48.875Z"
   },
   {
    "duration": 13,
    "start_time": "2023-02-06T08:12:48.892Z"
   },
   {
    "duration": 13,
    "start_time": "2023-02-06T08:12:48.907Z"
   },
   {
    "duration": 9,
    "start_time": "2023-02-06T08:12:48.922Z"
   },
   {
    "duration": 20,
    "start_time": "2023-02-06T08:12:48.932Z"
   },
   {
    "duration": 718,
    "start_time": "2023-02-06T08:13:20.765Z"
   },
   {
    "duration": 9,
    "start_time": "2023-02-06T08:13:32.329Z"
   },
   {
    "duration": 765,
    "start_time": "2023-02-06T08:13:38.884Z"
   },
   {
    "duration": 7,
    "start_time": "2023-02-06T08:13:44.506Z"
   },
   {
    "duration": 764,
    "start_time": "2023-02-06T08:13:47.972Z"
   },
   {
    "duration": 789,
    "start_time": "2023-02-06T08:14:44.257Z"
   },
   {
    "duration": 713,
    "start_time": "2023-02-06T08:14:58.485Z"
   },
   {
    "duration": 833,
    "start_time": "2023-02-06T08:15:18.088Z"
   },
   {
    "duration": 778,
    "start_time": "2023-02-06T08:15:45.318Z"
   },
   {
    "duration": 942,
    "start_time": "2023-02-06T08:16:10.171Z"
   },
   {
    "duration": 164,
    "start_time": "2023-02-06T08:16:23.016Z"
   },
   {
    "duration": 8,
    "start_time": "2023-02-06T08:17:00.304Z"
   },
   {
    "duration": 3,
    "start_time": "2023-02-06T08:17:01.623Z"
   },
   {
    "duration": 9,
    "start_time": "2023-02-06T08:17:02.071Z"
   },
   {
    "duration": 4,
    "start_time": "2023-02-06T08:17:03.249Z"
   },
   {
    "duration": 7,
    "start_time": "2023-02-06T08:17:03.823Z"
   },
   {
    "duration": 8,
    "start_time": "2023-02-06T08:17:13.359Z"
   },
   {
    "duration": 5,
    "start_time": "2023-02-06T08:17:13.775Z"
   },
   {
    "duration": 3,
    "start_time": "2023-02-06T08:17:14.311Z"
   },
   {
    "duration": 6,
    "start_time": "2023-02-06T08:17:14.840Z"
   },
   {
    "duration": 4,
    "start_time": "2023-02-06T08:17:15.774Z"
   },
   {
    "duration": 8,
    "start_time": "2023-02-06T08:17:17.822Z"
   },
   {
    "duration": 8,
    "start_time": "2023-02-06T08:17:23.875Z"
   },
   {
    "duration": 12,
    "start_time": "2023-02-06T08:17:26.327Z"
   },
   {
    "duration": 868,
    "start_time": "2023-02-06T08:17:43.555Z"
   },
   {
    "duration": 7,
    "start_time": "2023-02-06T08:17:54.688Z"
   },
   {
    "duration": 9,
    "start_time": "2023-02-06T08:18:22.619Z"
   },
   {
    "duration": 9,
    "start_time": "2023-02-06T08:18:55.175Z"
   },
   {
    "duration": 10,
    "start_time": "2023-02-06T08:19:07.454Z"
   },
   {
    "duration": 12,
    "start_time": "2023-02-06T08:20:36.779Z"
   },
   {
    "duration": 15,
    "start_time": "2023-02-06T08:20:46.731Z"
   },
   {
    "duration": 750,
    "start_time": "2023-02-06T08:20:53.759Z"
   },
   {
    "duration": 6,
    "start_time": "2023-02-06T08:21:10.837Z"
   },
   {
    "duration": 10,
    "start_time": "2023-02-06T08:21:11.901Z"
   },
   {
    "duration": 1091,
    "start_time": "2023-02-06T08:21:13.445Z"
   },
   {
    "duration": 684,
    "start_time": "2023-02-06T08:21:55.764Z"
   },
   {
    "duration": 758,
    "start_time": "2023-02-06T08:22:14.223Z"
   },
   {
    "duration": 5,
    "start_time": "2023-02-06T08:22:25.079Z"
   },
   {
    "duration": 925,
    "start_time": "2023-02-06T08:22:36.438Z"
   },
   {
    "duration": 791,
    "start_time": "2023-02-06T08:22:39.646Z"
   },
   {
    "duration": 752,
    "start_time": "2023-02-06T08:22:46.422Z"
   },
   {
    "duration": 48,
    "start_time": "2023-02-06T08:22:56.413Z"
   },
   {
    "duration": 829,
    "start_time": "2023-02-06T08:23:00.502Z"
   },
   {
    "duration": 786,
    "start_time": "2023-02-06T08:23:06.137Z"
   },
   {
    "duration": 766,
    "start_time": "2023-02-06T08:23:23.257Z"
   },
   {
    "duration": 814,
    "start_time": "2023-02-06T08:23:32.348Z"
   },
   {
    "duration": 759,
    "start_time": "2023-02-06T08:23:44.078Z"
   },
   {
    "duration": 736,
    "start_time": "2023-02-06T08:23:54.645Z"
   },
   {
    "duration": 917,
    "start_time": "2023-02-06T08:24:01.140Z"
   },
   {
    "duration": 980,
    "start_time": "2023-02-06T08:24:06.379Z"
   },
   {
    "duration": 4,
    "start_time": "2023-02-06T08:24:30.306Z"
   },
   {
    "duration": 9,
    "start_time": "2023-02-06T08:24:35.953Z"
   },
   {
    "duration": 4,
    "start_time": "2023-02-06T08:24:49.162Z"
   },
   {
    "duration": 1139,
    "start_time": "2023-02-06T08:25:02.637Z"
   },
   {
    "duration": 6,
    "start_time": "2023-02-06T08:25:14.966Z"
   },
   {
    "duration": 10,
    "start_time": "2023-02-06T08:25:15.995Z"
   },
   {
    "duration": 25,
    "start_time": "2023-02-06T08:26:04.146Z"
   },
   {
    "duration": 15,
    "start_time": "2023-02-06T08:26:20.366Z"
   },
   {
    "duration": 16,
    "start_time": "2023-02-06T08:26:43.289Z"
   },
   {
    "duration": 217,
    "start_time": "2023-02-06T08:27:02.179Z"
   },
   {
    "duration": 770,
    "start_time": "2023-02-06T08:27:14.836Z"
   },
   {
    "duration": 768,
    "start_time": "2023-02-06T08:27:18.219Z"
   },
   {
    "duration": 706,
    "start_time": "2023-02-06T08:27:27.255Z"
   },
   {
    "duration": 20,
    "start_time": "2023-02-06T08:27:36.518Z"
   },
   {
    "duration": 52,
    "start_time": "2023-02-06T08:28:03.287Z"
   },
   {
    "duration": 3,
    "start_time": "2023-02-06T08:28:27.480Z"
   },
   {
    "duration": 17,
    "start_time": "2023-02-06T08:28:35.168Z"
   },
   {
    "duration": 12,
    "start_time": "2023-02-06T08:28:40.240Z"
   },
   {
    "duration": 4,
    "start_time": "2023-02-06T08:28:42.295Z"
   },
   {
    "duration": 18,
    "start_time": "2023-02-06T08:28:48.271Z"
   },
   {
    "duration": 66,
    "start_time": "2023-02-06T08:29:17.004Z"
   },
   {
    "duration": 51,
    "start_time": "2023-02-06T08:29:47.232Z"
   },
   {
    "duration": 51,
    "start_time": "2023-02-06T08:29:53.469Z"
   },
   {
    "duration": 47,
    "start_time": "2023-02-06T08:30:16.493Z"
   },
   {
    "duration": 31,
    "start_time": "2023-02-06T08:31:01.132Z"
   },
   {
    "duration": 50,
    "start_time": "2023-02-06T08:31:12.148Z"
   },
   {
    "duration": 21,
    "start_time": "2023-02-06T08:31:15.097Z"
   },
   {
    "duration": 57,
    "start_time": "2023-02-06T08:31:45.389Z"
   },
   {
    "duration": 3,
    "start_time": "2023-02-06T08:32:46.055Z"
   },
   {
    "duration": 2,
    "start_time": "2023-02-06T08:32:58.827Z"
   },
   {
    "duration": 4,
    "start_time": "2023-02-06T08:33:00.589Z"
   },
   {
    "duration": 46,
    "start_time": "2023-02-06T08:33:07.286Z"
   },
   {
    "duration": 5,
    "start_time": "2023-02-06T08:33:23.365Z"
   },
   {
    "duration": 9,
    "start_time": "2023-02-06T08:33:28.747Z"
   },
   {
    "duration": 7,
    "start_time": "2023-02-06T08:33:48.396Z"
   },
   {
    "duration": 10,
    "start_time": "2023-02-06T08:34:26.306Z"
   },
   {
    "duration": 10,
    "start_time": "2023-02-06T08:34:34.786Z"
   },
   {
    "duration": 62,
    "start_time": "2023-02-06T08:34:37.313Z"
   },
   {
    "duration": 107,
    "start_time": "2023-02-06T08:34:42.467Z"
   },
   {
    "duration": 52,
    "start_time": "2023-02-06T08:34:46.821Z"
   },
   {
    "duration": 47,
    "start_time": "2023-02-06T08:34:52.121Z"
   },
   {
    "duration": 42,
    "start_time": "2023-02-06T08:34:55.803Z"
   },
   {
    "duration": 2,
    "start_time": "2023-02-06T08:35:16.379Z"
   },
   {
    "duration": 2,
    "start_time": "2023-02-06T08:35:19.473Z"
   },
   {
    "duration": 5,
    "start_time": "2023-02-06T08:35:22.689Z"
   },
   {
    "duration": 75,
    "start_time": "2023-02-06T08:35:29.751Z"
   },
   {
    "duration": 4,
    "start_time": "2023-02-06T08:35:34.473Z"
   },
   {
    "duration": 7,
    "start_time": "2023-02-06T08:35:36.535Z"
   },
   {
    "duration": 113,
    "start_time": "2023-02-06T08:35:48.072Z"
   },
   {
    "duration": 45,
    "start_time": "2023-02-06T08:36:19.847Z"
   },
   {
    "duration": 39,
    "start_time": "2023-02-06T08:37:12.428Z"
   },
   {
    "duration": 16,
    "start_time": "2023-02-06T08:37:24.940Z"
   },
   {
    "duration": 43,
    "start_time": "2023-02-06T08:37:35.668Z"
   },
   {
    "duration": 42,
    "start_time": "2023-02-06T08:38:17.123Z"
   },
   {
    "duration": 11,
    "start_time": "2023-02-06T08:38:32.961Z"
   },
   {
    "duration": 46,
    "start_time": "2023-02-06T08:38:44.664Z"
   },
   {
    "duration": 18,
    "start_time": "2023-02-06T08:38:54.608Z"
   },
   {
    "duration": 17,
    "start_time": "2023-02-06T08:39:00.695Z"
   },
   {
    "duration": 16,
    "start_time": "2023-02-06T08:39:06.288Z"
   },
   {
    "duration": 16,
    "start_time": "2023-02-06T08:39:10.464Z"
   },
   {
    "duration": 41,
    "start_time": "2023-02-06T08:39:26.538Z"
   },
   {
    "duration": 3,
    "start_time": "2023-02-06T08:43:04.253Z"
   },
   {
    "duration": 43,
    "start_time": "2023-02-06T08:43:10.790Z"
   },
   {
    "duration": 42,
    "start_time": "2023-02-06T08:43:15.518Z"
   },
   {
    "duration": 4,
    "start_time": "2023-02-06T08:43:23.485Z"
   },
   {
    "duration": 3,
    "start_time": "2023-02-06T08:43:39.791Z"
   },
   {
    "duration": 39,
    "start_time": "2023-02-06T08:43:50.067Z"
   },
   {
    "duration": 19,
    "start_time": "2023-02-06T08:44:05.679Z"
   },
   {
    "duration": 18,
    "start_time": "2023-02-06T08:44:08.644Z"
   },
   {
    "duration": 38,
    "start_time": "2023-02-06T08:44:20.421Z"
   },
   {
    "duration": 42,
    "start_time": "2023-02-06T08:44:36.060Z"
   },
   {
    "duration": 41,
    "start_time": "2023-02-06T08:44:42.875Z"
   },
   {
    "duration": 40,
    "start_time": "2023-02-06T08:46:07.440Z"
   },
   {
    "duration": 1186,
    "start_time": "2023-02-06T08:46:16.645Z"
   },
   {
    "duration": 155,
    "start_time": "2023-02-06T08:46:17.833Z"
   },
   {
    "duration": 15,
    "start_time": "2023-02-06T08:46:17.990Z"
   },
   {
    "duration": 19,
    "start_time": "2023-02-06T08:46:18.008Z"
   },
   {
    "duration": 4,
    "start_time": "2023-02-06T08:46:18.028Z"
   },
   {
    "duration": 11,
    "start_time": "2023-02-06T08:46:18.033Z"
   },
   {
    "duration": 11,
    "start_time": "2023-02-06T08:46:18.045Z"
   },
   {
    "duration": 72,
    "start_time": "2023-02-06T08:46:18.057Z"
   },
   {
    "duration": 127,
    "start_time": "2023-02-06T08:46:18.130Z"
   },
   {
    "duration": 77,
    "start_time": "2023-02-06T08:46:18.259Z"
   },
   {
    "duration": 81,
    "start_time": "2023-02-06T08:46:18.338Z"
   },
   {
    "duration": 36,
    "start_time": "2023-02-06T08:46:18.421Z"
   },
   {
    "duration": 12,
    "start_time": "2023-02-06T08:46:18.459Z"
   },
   {
    "duration": 36,
    "start_time": "2023-02-06T08:46:18.472Z"
   },
   {
    "duration": 24,
    "start_time": "2023-02-06T08:46:18.509Z"
   },
   {
    "duration": 16,
    "start_time": "2023-02-06T08:46:18.534Z"
   },
   {
    "duration": 12,
    "start_time": "2023-02-06T08:46:18.552Z"
   },
   {
    "duration": 14,
    "start_time": "2023-02-06T08:46:18.565Z"
   },
   {
    "duration": 52,
    "start_time": "2023-02-06T08:46:18.581Z"
   },
   {
    "duration": 13,
    "start_time": "2023-02-06T08:46:18.635Z"
   },
   {
    "duration": 29,
    "start_time": "2023-02-06T08:46:18.650Z"
   },
   {
    "duration": 26,
    "start_time": "2023-02-06T08:46:18.680Z"
   },
   {
    "duration": 249,
    "start_time": "2023-02-06T08:46:18.707Z"
   },
   {
    "duration": 172,
    "start_time": "2023-02-06T08:46:18.958Z"
   },
   {
    "duration": 541,
    "start_time": "2023-02-06T08:46:19.132Z"
   },
   {
    "duration": 30,
    "start_time": "2023-02-06T08:46:19.675Z"
   },
   {
    "duration": 13,
    "start_time": "2023-02-06T08:46:19.707Z"
   },
   {
    "duration": 8,
    "start_time": "2023-02-06T08:46:19.724Z"
   },
   {
    "duration": 13,
    "start_time": "2023-02-06T08:46:19.733Z"
   },
   {
    "duration": 114,
    "start_time": "2023-02-06T08:46:19.748Z"
   },
   {
    "duration": 23,
    "start_time": "2023-02-06T08:46:19.863Z"
   },
   {
    "duration": 72,
    "start_time": "2023-02-06T08:46:19.888Z"
   },
   {
    "duration": 7,
    "start_time": "2023-02-06T08:46:19.962Z"
   },
   {
    "duration": 4,
    "start_time": "2023-02-06T08:46:19.971Z"
   },
   {
    "duration": 11,
    "start_time": "2023-02-06T08:46:19.976Z"
   },
   {
    "duration": 5,
    "start_time": "2023-02-06T08:46:20.004Z"
   },
   {
    "duration": 8,
    "start_time": "2023-02-06T08:46:20.011Z"
   },
   {
    "duration": 8,
    "start_time": "2023-02-06T08:46:20.020Z"
   },
   {
    "duration": 9,
    "start_time": "2023-02-06T08:46:20.029Z"
   },
   {
    "duration": 6,
    "start_time": "2023-02-06T08:46:20.040Z"
   },
   {
    "duration": 11,
    "start_time": "2023-02-06T08:46:20.048Z"
   },
   {
    "duration": 7,
    "start_time": "2023-02-06T08:46:20.060Z"
   },
   {
    "duration": 36,
    "start_time": "2023-02-06T08:46:20.068Z"
   },
   {
    "duration": 4,
    "start_time": "2023-02-06T08:46:20.105Z"
   },
   {
    "duration": 4,
    "start_time": "2023-02-06T08:46:20.111Z"
   },
   {
    "duration": 12,
    "start_time": "2023-02-06T08:46:20.117Z"
   },
   {
    "duration": 5,
    "start_time": "2023-02-06T08:46:20.130Z"
   },
   {
    "duration": 7,
    "start_time": "2023-02-06T08:46:20.137Z"
   },
   {
    "duration": 344,
    "start_time": "2023-02-06T08:46:20.145Z"
   },
   {
    "duration": 50,
    "start_time": "2023-02-06T08:46:20.491Z"
   },
   {
    "duration": 82,
    "start_time": "2023-02-06T08:46:20.543Z"
   },
   {
    "duration": 6,
    "start_time": "2023-02-06T08:46:20.627Z"
   },
   {
    "duration": 14,
    "start_time": "2023-02-06T08:46:20.634Z"
   },
   {
    "duration": 6,
    "start_time": "2023-02-06T08:46:20.649Z"
   },
   {
    "duration": 6,
    "start_time": "2023-02-06T08:46:20.656Z"
   },
   {
    "duration": 89,
    "start_time": "2023-02-06T08:46:20.663Z"
   },
   {
    "duration": 66,
    "start_time": "2023-02-06T08:46:20.754Z"
   },
   {
    "duration": 58,
    "start_time": "2023-02-06T08:46:20.821Z"
   },
   {
    "duration": 70,
    "start_time": "2023-02-06T08:46:20.881Z"
   },
   {
    "duration": 83,
    "start_time": "2023-02-06T08:46:20.953Z"
   },
   {
    "duration": 6,
    "start_time": "2023-02-06T08:46:21.038Z"
   },
   {
    "duration": 9,
    "start_time": "2023-02-06T08:46:21.047Z"
   },
   {
    "duration": 9,
    "start_time": "2023-02-06T08:46:21.057Z"
   },
   {
    "duration": 83,
    "start_time": "2023-02-06T08:46:21.068Z"
   },
   {
    "duration": 71,
    "start_time": "2023-02-06T08:46:21.153Z"
   },
   {
    "duration": 55,
    "start_time": "2023-02-06T08:46:21.226Z"
   },
   {
    "duration": 65,
    "start_time": "2023-02-06T08:46:21.283Z"
   },
   {
    "duration": 64,
    "start_time": "2023-02-06T08:46:21.349Z"
   },
   {
    "duration": 56,
    "start_time": "2023-02-06T08:46:21.415Z"
   },
   {
    "duration": 74,
    "start_time": "2023-02-06T08:46:21.473Z"
   },
   {
    "duration": 66,
    "start_time": "2023-02-06T08:46:21.549Z"
   },
   {
    "duration": 8,
    "start_time": "2023-02-06T08:46:21.616Z"
   },
   {
    "duration": 17,
    "start_time": "2023-02-06T08:46:21.625Z"
   },
   {
    "duration": 12,
    "start_time": "2023-02-06T08:46:21.643Z"
   },
   {
    "duration": 10,
    "start_time": "2023-02-06T08:46:21.657Z"
   },
   {
    "duration": 15,
    "start_time": "2023-02-06T08:46:21.669Z"
   },
   {
    "duration": 18,
    "start_time": "2023-02-06T08:46:21.685Z"
   },
   {
    "duration": 5,
    "start_time": "2023-02-06T08:51:32.356Z"
   },
   {
    "duration": 4,
    "start_time": "2023-02-06T08:51:37.900Z"
   },
   {
    "duration": 42,
    "start_time": "2023-02-06T08:51:40.877Z"
   },
   {
    "duration": 40,
    "start_time": "2023-02-06T08:52:22.266Z"
   },
   {
    "duration": 143,
    "start_time": "2023-02-06T09:39:55.697Z"
   },
   {
    "duration": 11,
    "start_time": "2023-02-06T09:40:09.776Z"
   },
   {
    "duration": 16,
    "start_time": "2023-02-06T09:41:09.892Z"
   },
   {
    "duration": 14,
    "start_time": "2023-02-06T09:41:27.948Z"
   },
   {
    "duration": 17,
    "start_time": "2023-02-06T09:41:41.030Z"
   },
   {
    "duration": 13,
    "start_time": "2023-02-06T09:41:44.096Z"
   },
   {
    "duration": 5,
    "start_time": "2023-02-06T09:42:37.734Z"
   },
   {
    "duration": 9,
    "start_time": "2023-02-06T09:42:43.833Z"
   },
   {
    "duration": 7,
    "start_time": "2023-02-06T09:43:05.316Z"
   },
   {
    "duration": 966,
    "start_time": "2023-02-06T09:43:08.079Z"
   },
   {
    "duration": 90,
    "start_time": "2023-02-06T09:43:12.467Z"
   },
   {
    "duration": 104,
    "start_time": "2023-02-06T09:43:18.359Z"
   },
   {
    "duration": 53,
    "start_time": "2023-02-06T09:43:21.688Z"
   },
   {
    "duration": 977,
    "start_time": "2023-02-06T09:43:28.828Z"
   },
   {
    "duration": 49,
    "start_time": "2023-02-06T09:43:35.872Z"
   },
   {
    "duration": 66,
    "start_time": "2023-02-06T09:43:57.613Z"
   },
   {
    "duration": 15,
    "start_time": "2023-02-06T09:44:13.141Z"
   },
   {
    "duration": 63,
    "start_time": "2023-02-06T09:44:17.068Z"
   },
   {
    "duration": 824,
    "start_time": "2023-02-06T09:44:51.574Z"
   },
   {
    "duration": 15,
    "start_time": "2023-02-06T09:45:02.656Z"
   },
   {
    "duration": 11,
    "start_time": "2023-02-06T09:45:22.954Z"
   },
   {
    "duration": 32,
    "start_time": "2023-02-06T09:45:27.299Z"
   },
   {
    "duration": 838,
    "start_time": "2023-02-06T09:45:48.837Z"
   },
   {
    "duration": 44,
    "start_time": "2023-02-06T09:46:07.598Z"
   },
   {
    "duration": 17,
    "start_time": "2023-02-06T09:46:49.768Z"
   },
   {
    "duration": 12,
    "start_time": "2023-02-06T09:47:02.360Z"
   },
   {
    "duration": 12,
    "start_time": "2023-02-06T09:47:05.730Z"
   },
   {
    "duration": 12,
    "start_time": "2023-02-06T09:47:22.120Z"
   },
   {
    "duration": 11,
    "start_time": "2023-02-06T09:47:33.551Z"
   },
   {
    "duration": 12,
    "start_time": "2023-02-06T09:47:45.302Z"
   },
   {
    "duration": 13,
    "start_time": "2023-02-06T09:47:49.940Z"
   },
   {
    "duration": 92,
    "start_time": "2023-02-06T09:48:15.927Z"
   },
   {
    "duration": 13,
    "start_time": "2023-02-06T09:48:44.459Z"
   },
   {
    "duration": 11,
    "start_time": "2023-02-06T09:48:57.230Z"
   },
   {
    "duration": 12,
    "start_time": "2023-02-06T09:49:00.564Z"
   },
   {
    "duration": 15,
    "start_time": "2023-02-06T09:49:03.744Z"
   },
   {
    "duration": 6,
    "start_time": "2023-02-06T09:49:06.498Z"
   },
   {
    "duration": 54,
    "start_time": "2023-02-06T09:49:08.370Z"
   },
   {
    "duration": 68,
    "start_time": "2023-02-06T09:49:12.195Z"
   },
   {
    "duration": 16,
    "start_time": "2023-02-06T09:49:17.065Z"
   },
   {
    "duration": 6,
    "start_time": "2023-02-06T09:50:18.829Z"
   },
   {
    "duration": 14,
    "start_time": "2023-02-06T09:50:41.944Z"
   },
   {
    "duration": 11,
    "start_time": "2023-02-06T09:50:43.866Z"
   },
   {
    "duration": 6,
    "start_time": "2023-02-06T09:50:44.272Z"
   },
   {
    "duration": 52,
    "start_time": "2023-02-06T09:50:45.472Z"
   },
   {
    "duration": 10,
    "start_time": "2023-02-06T09:50:48.485Z"
   },
   {
    "duration": 9,
    "start_time": "2023-02-06T09:51:09.332Z"
   },
   {
    "duration": 11,
    "start_time": "2023-02-06T09:51:12.001Z"
   },
   {
    "duration": 7,
    "start_time": "2023-02-06T09:51:12.746Z"
   },
   {
    "duration": 60,
    "start_time": "2023-02-06T09:51:13.652Z"
   },
   {
    "duration": 11,
    "start_time": "2023-02-06T09:51:17.057Z"
   },
   {
    "duration": 6,
    "start_time": "2023-02-06T09:51:30.567Z"
   },
   {
    "duration": 9,
    "start_time": "2023-02-06T09:51:31.583Z"
   },
   {
    "duration": 8,
    "start_time": "2023-02-06T09:51:32.324Z"
   },
   {
    "duration": 11,
    "start_time": "2023-02-06T09:51:59.326Z"
   },
   {
    "duration": 14,
    "start_time": "2023-02-06T09:52:26.702Z"
   },
   {
    "duration": 70,
    "start_time": "2023-02-06T09:52:36.984Z"
   },
   {
    "duration": 13,
    "start_time": "2023-02-06T09:52:49.354Z"
   },
   {
    "duration": 14,
    "start_time": "2023-02-06T09:52:55.597Z"
   },
   {
    "duration": 11,
    "start_time": "2023-02-06T09:53:14.137Z"
   },
   {
    "duration": 15,
    "start_time": "2023-02-06T09:53:20.552Z"
   },
   {
    "duration": 10,
    "start_time": "2023-02-06T09:53:36.085Z"
   },
   {
    "duration": 10,
    "start_time": "2023-02-06T09:53:45.830Z"
   },
   {
    "duration": 12,
    "start_time": "2023-02-06T09:53:54.262Z"
   },
   {
    "duration": 11,
    "start_time": "2023-02-06T09:54:00.431Z"
   },
   {
    "duration": 52,
    "start_time": "2023-02-06T09:56:02.458Z"
   },
   {
    "duration": 23,
    "start_time": "2023-02-06T09:56:35.370Z"
   },
   {
    "duration": 17,
    "start_time": "2023-02-06T09:56:58.495Z"
   },
   {
    "duration": 16,
    "start_time": "2023-02-06T09:57:02.879Z"
   },
   {
    "duration": 18,
    "start_time": "2023-02-06T09:57:07.064Z"
   },
   {
    "duration": 18,
    "start_time": "2023-02-06T09:57:25.291Z"
   },
   {
    "duration": 5,
    "start_time": "2023-02-06T09:57:40.333Z"
   },
   {
    "duration": 5,
    "start_time": "2023-02-06T09:57:45.932Z"
   },
   {
    "duration": 6,
    "start_time": "2023-02-06T09:57:51.877Z"
   },
   {
    "duration": 11,
    "start_time": "2023-02-06T09:58:07.291Z"
   },
   {
    "duration": 10,
    "start_time": "2023-02-06T09:58:09.252Z"
   },
   {
    "duration": 5,
    "start_time": "2023-02-06T09:58:10.464Z"
   },
   {
    "duration": 45,
    "start_time": "2023-02-06T09:58:12.436Z"
   },
   {
    "duration": 16,
    "start_time": "2023-02-06T09:58:15.834Z"
   },
   {
    "duration": 5,
    "start_time": "2023-02-06T09:58:27.098Z"
   },
   {
    "duration": 1298,
    "start_time": "2023-02-06T09:58:37.686Z"
   },
   {
    "duration": 189,
    "start_time": "2023-02-06T09:58:38.986Z"
   },
   {
    "duration": 12,
    "start_time": "2023-02-06T09:58:39.177Z"
   },
   {
    "duration": 30,
    "start_time": "2023-02-06T09:58:39.192Z"
   },
   {
    "duration": 10,
    "start_time": "2023-02-06T09:58:39.224Z"
   },
   {
    "duration": 7,
    "start_time": "2023-02-06T09:58:39.236Z"
   },
   {
    "duration": 17,
    "start_time": "2023-02-06T09:58:39.246Z"
   },
   {
    "duration": 75,
    "start_time": "2023-02-06T09:58:39.265Z"
   },
   {
    "duration": 143,
    "start_time": "2023-02-06T09:58:39.342Z"
   },
   {
    "duration": 82,
    "start_time": "2023-02-06T09:58:39.488Z"
   },
   {
    "duration": 92,
    "start_time": "2023-02-06T09:58:39.572Z"
   },
   {
    "duration": 40,
    "start_time": "2023-02-06T09:58:39.665Z"
   },
   {
    "duration": 15,
    "start_time": "2023-02-06T09:58:39.706Z"
   },
   {
    "duration": 26,
    "start_time": "2023-02-06T09:58:39.723Z"
   },
   {
    "duration": 23,
    "start_time": "2023-02-06T09:58:39.751Z"
   },
   {
    "duration": 14,
    "start_time": "2023-02-06T09:58:39.803Z"
   },
   {
    "duration": 12,
    "start_time": "2023-02-06T09:58:39.819Z"
   },
   {
    "duration": 15,
    "start_time": "2023-02-06T09:58:39.832Z"
   },
   {
    "duration": 61,
    "start_time": "2023-02-06T09:58:39.849Z"
   },
   {
    "duration": 10,
    "start_time": "2023-02-06T09:58:39.911Z"
   },
   {
    "duration": 36,
    "start_time": "2023-02-06T09:58:39.922Z"
   },
   {
    "duration": 6,
    "start_time": "2023-02-06T09:58:39.960Z"
   },
   {
    "duration": 326,
    "start_time": "2023-02-06T09:58:39.967Z"
   },
   {
    "duration": 210,
    "start_time": "2023-02-06T09:58:40.295Z"
   },
   {
    "duration": 600,
    "start_time": "2023-02-06T09:58:40.507Z"
   },
   {
    "duration": 29,
    "start_time": "2023-02-06T09:58:41.110Z"
   },
   {
    "duration": 21,
    "start_time": "2023-02-06T09:58:41.141Z"
   },
   {
    "duration": 10,
    "start_time": "2023-02-06T09:58:41.166Z"
   },
   {
    "duration": 30,
    "start_time": "2023-02-06T09:58:41.178Z"
   },
   {
    "duration": 134,
    "start_time": "2023-02-06T09:58:41.210Z"
   },
   {
    "duration": 23,
    "start_time": "2023-02-06T09:58:41.346Z"
   },
   {
    "duration": 90,
    "start_time": "2023-02-06T09:58:41.371Z"
   },
   {
    "duration": 7,
    "start_time": "2023-02-06T09:58:41.463Z"
   },
   {
    "duration": 3,
    "start_time": "2023-02-06T09:58:41.472Z"
   },
   {
    "duration": 11,
    "start_time": "2023-02-06T09:58:41.476Z"
   },
   {
    "duration": 15,
    "start_time": "2023-02-06T09:58:41.489Z"
   },
   {
    "duration": 6,
    "start_time": "2023-02-06T09:58:41.506Z"
   },
   {
    "duration": 8,
    "start_time": "2023-02-06T09:58:41.514Z"
   },
   {
    "duration": 16,
    "start_time": "2023-02-06T09:58:41.524Z"
   },
   {
    "duration": 10,
    "start_time": "2023-02-06T09:58:41.542Z"
   },
   {
    "duration": 12,
    "start_time": "2023-02-06T09:58:41.554Z"
   },
   {
    "duration": 15,
    "start_time": "2023-02-06T09:58:41.569Z"
   },
   {
    "duration": 15,
    "start_time": "2023-02-06T09:58:41.603Z"
   },
   {
    "duration": 133,
    "start_time": "2023-02-06T09:58:41.620Z"
   },
   {
    "duration": 0,
    "start_time": "2023-02-06T09:58:41.755Z"
   },
   {
    "duration": 0,
    "start_time": "2023-02-06T09:58:41.756Z"
   },
   {
    "duration": 0,
    "start_time": "2023-02-06T09:58:41.757Z"
   },
   {
    "duration": 0,
    "start_time": "2023-02-06T09:58:41.758Z"
   },
   {
    "duration": 0,
    "start_time": "2023-02-06T09:58:41.760Z"
   },
   {
    "duration": 0,
    "start_time": "2023-02-06T09:58:41.761Z"
   },
   {
    "duration": 0,
    "start_time": "2023-02-06T09:58:41.762Z"
   },
   {
    "duration": 0,
    "start_time": "2023-02-06T09:58:41.764Z"
   },
   {
    "duration": 1,
    "start_time": "2023-02-06T09:58:41.765Z"
   },
   {
    "duration": 0,
    "start_time": "2023-02-06T09:58:41.767Z"
   },
   {
    "duration": 0,
    "start_time": "2023-02-06T09:58:41.767Z"
   },
   {
    "duration": 0,
    "start_time": "2023-02-06T09:58:41.769Z"
   },
   {
    "duration": 0,
    "start_time": "2023-02-06T09:58:41.770Z"
   },
   {
    "duration": 0,
    "start_time": "2023-02-06T09:58:41.771Z"
   },
   {
    "duration": 0,
    "start_time": "2023-02-06T09:58:41.772Z"
   },
   {
    "duration": 0,
    "start_time": "2023-02-06T09:58:41.773Z"
   },
   {
    "duration": 0,
    "start_time": "2023-02-06T09:58:41.774Z"
   },
   {
    "duration": 0,
    "start_time": "2023-02-06T09:58:41.804Z"
   },
   {
    "duration": 0,
    "start_time": "2023-02-06T09:58:41.805Z"
   },
   {
    "duration": 0,
    "start_time": "2023-02-06T09:58:41.806Z"
   },
   {
    "duration": 0,
    "start_time": "2023-02-06T09:58:41.807Z"
   },
   {
    "duration": 0,
    "start_time": "2023-02-06T09:58:41.808Z"
   },
   {
    "duration": 0,
    "start_time": "2023-02-06T09:58:41.809Z"
   },
   {
    "duration": 0,
    "start_time": "2023-02-06T09:58:41.810Z"
   },
   {
    "duration": 0,
    "start_time": "2023-02-06T09:58:41.811Z"
   },
   {
    "duration": 0,
    "start_time": "2023-02-06T09:58:41.812Z"
   },
   {
    "duration": 0,
    "start_time": "2023-02-06T09:58:41.814Z"
   },
   {
    "duration": 0,
    "start_time": "2023-02-06T09:58:41.815Z"
   },
   {
    "duration": 0,
    "start_time": "2023-02-06T09:58:41.816Z"
   },
   {
    "duration": 0,
    "start_time": "2023-02-06T09:58:41.817Z"
   },
   {
    "duration": 0,
    "start_time": "2023-02-06T09:58:41.818Z"
   },
   {
    "duration": 9,
    "start_time": "2023-02-06T09:59:33.551Z"
   },
   {
    "duration": 1219,
    "start_time": "2023-02-06T09:59:45.331Z"
   },
   {
    "duration": 192,
    "start_time": "2023-02-06T09:59:46.552Z"
   },
   {
    "duration": 16,
    "start_time": "2023-02-06T09:59:46.747Z"
   },
   {
    "duration": 41,
    "start_time": "2023-02-06T09:59:46.766Z"
   },
   {
    "duration": 20,
    "start_time": "2023-02-06T09:59:46.810Z"
   },
   {
    "duration": 9,
    "start_time": "2023-02-06T09:59:46.832Z"
   },
   {
    "duration": 27,
    "start_time": "2023-02-06T09:59:46.843Z"
   },
   {
    "duration": 91,
    "start_time": "2023-02-06T09:59:46.872Z"
   },
   {
    "duration": 163,
    "start_time": "2023-02-06T09:59:46.965Z"
   },
   {
    "duration": 95,
    "start_time": "2023-02-06T09:59:47.130Z"
   },
   {
    "duration": 86,
    "start_time": "2023-02-06T09:59:47.227Z"
   },
   {
    "duration": 31,
    "start_time": "2023-02-06T09:59:47.315Z"
   },
   {
    "duration": 14,
    "start_time": "2023-02-06T09:59:47.348Z"
   },
   {
    "duration": 46,
    "start_time": "2023-02-06T09:59:47.366Z"
   },
   {
    "duration": 26,
    "start_time": "2023-02-06T09:59:47.414Z"
   },
   {
    "duration": 15,
    "start_time": "2023-02-06T09:59:47.442Z"
   },
   {
    "duration": 12,
    "start_time": "2023-02-06T09:59:47.459Z"
   },
   {
    "duration": 47,
    "start_time": "2023-02-06T09:59:47.473Z"
   },
   {
    "duration": 34,
    "start_time": "2023-02-06T09:59:47.523Z"
   },
   {
    "duration": 10,
    "start_time": "2023-02-06T09:59:47.558Z"
   },
   {
    "duration": 58,
    "start_time": "2023-02-06T09:59:47.570Z"
   },
   {
    "duration": 7,
    "start_time": "2023-02-06T09:59:47.629Z"
   },
   {
    "duration": 322,
    "start_time": "2023-02-06T09:59:47.638Z"
   },
   {
    "duration": 184,
    "start_time": "2023-02-06T09:59:47.962Z"
   },
   {
    "duration": 600,
    "start_time": "2023-02-06T09:59:48.147Z"
   },
   {
    "duration": 25,
    "start_time": "2023-02-06T09:59:48.749Z"
   },
   {
    "duration": 14,
    "start_time": "2023-02-06T09:59:48.775Z"
   },
   {
    "duration": 5,
    "start_time": "2023-02-06T09:59:48.803Z"
   },
   {
    "duration": 19,
    "start_time": "2023-02-06T09:59:48.810Z"
   },
   {
    "duration": 36,
    "start_time": "2023-02-06T09:59:48.830Z"
   },
   {
    "duration": 50,
    "start_time": "2023-02-06T09:59:48.868Z"
   },
   {
    "duration": 64,
    "start_time": "2023-02-06T09:59:48.920Z"
   },
   {
    "duration": 26,
    "start_time": "2023-02-06T09:59:48.986Z"
   },
   {
    "duration": 4,
    "start_time": "2023-02-06T09:59:49.014Z"
   },
   {
    "duration": 9,
    "start_time": "2023-02-06T09:59:49.020Z"
   },
   {
    "duration": 105,
    "start_time": "2023-02-06T09:59:49.031Z"
   },
   {
    "duration": 6,
    "start_time": "2023-02-06T09:59:49.138Z"
   },
   {
    "duration": 6,
    "start_time": "2023-02-06T09:59:49.145Z"
   },
   {
    "duration": 10,
    "start_time": "2023-02-06T09:59:49.153Z"
   },
   {
    "duration": 7,
    "start_time": "2023-02-06T09:59:49.164Z"
   },
   {
    "duration": 35,
    "start_time": "2023-02-06T09:59:49.175Z"
   },
   {
    "duration": 7,
    "start_time": "2023-02-06T09:59:49.212Z"
   },
   {
    "duration": 6,
    "start_time": "2023-02-06T09:59:49.221Z"
   },
   {
    "duration": 13,
    "start_time": "2023-02-06T09:59:49.229Z"
   },
   {
    "duration": 7,
    "start_time": "2023-02-06T09:59:49.244Z"
   },
   {
    "duration": 355,
    "start_time": "2023-02-06T09:59:49.253Z"
   },
   {
    "duration": 5,
    "start_time": "2023-02-06T09:59:49.609Z"
   },
   {
    "duration": 240,
    "start_time": "2023-02-06T09:59:49.616Z"
   },
   {
    "duration": 0,
    "start_time": "2023-02-06T09:59:49.858Z"
   },
   {
    "duration": 0,
    "start_time": "2023-02-06T09:59:49.859Z"
   },
   {
    "duration": 0,
    "start_time": "2023-02-06T09:59:49.860Z"
   },
   {
    "duration": 0,
    "start_time": "2023-02-06T09:59:49.861Z"
   },
   {
    "duration": 0,
    "start_time": "2023-02-06T09:59:49.862Z"
   },
   {
    "duration": 0,
    "start_time": "2023-02-06T09:59:49.863Z"
   },
   {
    "duration": 0,
    "start_time": "2023-02-06T09:59:49.864Z"
   },
   {
    "duration": 0,
    "start_time": "2023-02-06T09:59:49.865Z"
   },
   {
    "duration": 0,
    "start_time": "2023-02-06T09:59:49.867Z"
   },
   {
    "duration": 0,
    "start_time": "2023-02-06T09:59:49.867Z"
   },
   {
    "duration": 0,
    "start_time": "2023-02-06T09:59:49.868Z"
   },
   {
    "duration": 0,
    "start_time": "2023-02-06T09:59:49.869Z"
   },
   {
    "duration": 0,
    "start_time": "2023-02-06T09:59:49.870Z"
   },
   {
    "duration": 0,
    "start_time": "2023-02-06T09:59:49.871Z"
   },
   {
    "duration": 0,
    "start_time": "2023-02-06T09:59:49.872Z"
   },
   {
    "duration": 0,
    "start_time": "2023-02-06T09:59:49.874Z"
   },
   {
    "duration": 0,
    "start_time": "2023-02-06T09:59:49.904Z"
   },
   {
    "duration": 0,
    "start_time": "2023-02-06T09:59:49.905Z"
   },
   {
    "duration": 0,
    "start_time": "2023-02-06T09:59:49.906Z"
   },
   {
    "duration": 0,
    "start_time": "2023-02-06T09:59:49.907Z"
   },
   {
    "duration": 0,
    "start_time": "2023-02-06T09:59:49.908Z"
   },
   {
    "duration": 0,
    "start_time": "2023-02-06T09:59:49.908Z"
   },
   {
    "duration": 0,
    "start_time": "2023-02-06T09:59:49.911Z"
   },
   {
    "duration": 0,
    "start_time": "2023-02-06T09:59:49.912Z"
   },
   {
    "duration": 0,
    "start_time": "2023-02-06T09:59:49.913Z"
   },
   {
    "duration": 0,
    "start_time": "2023-02-06T09:59:49.914Z"
   },
   {
    "duration": 0,
    "start_time": "2023-02-06T09:59:49.915Z"
   },
   {
    "duration": 0,
    "start_time": "2023-02-06T09:59:49.916Z"
   },
   {
    "duration": 7,
    "start_time": "2023-02-06T10:00:16.885Z"
   },
   {
    "duration": 46,
    "start_time": "2023-02-06T10:00:25.196Z"
   },
   {
    "duration": 5,
    "start_time": "2023-02-06T10:00:27.849Z"
   },
   {
    "duration": 14,
    "start_time": "2023-02-06T10:12:17.470Z"
   },
   {
    "duration": 15,
    "start_time": "2023-02-06T10:12:23.656Z"
   },
   {
    "duration": 13,
    "start_time": "2023-02-06T10:12:35.153Z"
   },
   {
    "duration": 85,
    "start_time": "2023-02-06T10:12:59.139Z"
   },
   {
    "duration": 15,
    "start_time": "2023-02-06T10:13:02.391Z"
   },
   {
    "duration": 15,
    "start_time": "2023-02-06T10:13:26.543Z"
   },
   {
    "duration": 9,
    "start_time": "2023-02-06T10:13:40.447Z"
   },
   {
    "duration": 6,
    "start_time": "2023-02-06T10:13:41.839Z"
   },
   {
    "duration": 42,
    "start_time": "2023-02-06T10:13:43.194Z"
   },
   {
    "duration": 11,
    "start_time": "2023-02-06T10:13:47.443Z"
   },
   {
    "duration": 178,
    "start_time": "2023-02-06T10:15:56.447Z"
   },
   {
    "duration": 636,
    "start_time": "2023-02-06T10:16:04.944Z"
   },
   {
    "duration": 4,
    "start_time": "2023-02-06T10:17:55.447Z"
   },
   {
    "duration": 4,
    "start_time": "2023-02-06T10:18:05.785Z"
   },
   {
    "duration": 67,
    "start_time": "2023-02-06T10:18:09.888Z"
   },
   {
    "duration": 10,
    "start_time": "2023-02-06T10:18:12.676Z"
   },
   {
    "duration": 41,
    "start_time": "2023-02-06T10:18:17.531Z"
   },
   {
    "duration": 13,
    "start_time": "2023-02-06T10:18:20.235Z"
   },
   {
    "duration": 11,
    "start_time": "2023-02-06T10:18:55.427Z"
   },
   {
    "duration": 10,
    "start_time": "2023-02-06T10:18:55.973Z"
   },
   {
    "duration": 6,
    "start_time": "2023-02-06T10:18:58.686Z"
   },
   {
    "duration": 53,
    "start_time": "2023-02-06T10:19:00.869Z"
   },
   {
    "duration": 48,
    "start_time": "2023-02-06T10:19:01.338Z"
   },
   {
    "duration": 47,
    "start_time": "2023-02-06T10:19:01.892Z"
   },
   {
    "duration": 48,
    "start_time": "2023-02-06T10:19:02.675Z"
   },
   {
    "duration": 31,
    "start_time": "2023-02-06T10:34:47.445Z"
   },
   {
    "duration": 58,
    "start_time": "2023-02-06T10:37:45.059Z"
   },
   {
    "duration": 4,
    "start_time": "2023-02-06T10:38:14.192Z"
   },
   {
    "duration": 775,
    "start_time": "2023-02-06T10:38:59.148Z"
   },
   {
    "duration": 54,
    "start_time": "2023-02-06T10:40:48.151Z"
   },
   {
    "duration": 5,
    "start_time": "2023-02-06T10:40:50.737Z"
   },
   {
    "duration": 10,
    "start_time": "2023-02-06T10:41:20.930Z"
   },
   {
    "duration": 59,
    "start_time": "2023-02-06T10:41:34.140Z"
   },
   {
    "duration": 6,
    "start_time": "2023-02-06T10:41:34.680Z"
   },
   {
    "duration": 11,
    "start_time": "2023-02-06T10:41:35.985Z"
   },
   {
    "duration": 10,
    "start_time": "2023-02-06T10:41:45.547Z"
   },
   {
    "duration": 5,
    "start_time": "2023-02-06T10:41:57.756Z"
   },
   {
    "duration": 5,
    "start_time": "2023-02-06T10:42:19.627Z"
   },
   {
    "duration": 3,
    "start_time": "2023-02-06T10:45:29.867Z"
   },
   {
    "duration": 4,
    "start_time": "2023-02-06T10:45:33.945Z"
   },
   {
    "duration": 6,
    "start_time": "2023-02-06T10:45:45.698Z"
   },
   {
    "duration": 4,
    "start_time": "2023-02-06T10:46:04.328Z"
   },
   {
    "duration": 7,
    "start_time": "2023-02-06T10:46:11.185Z"
   },
   {
    "duration": 51,
    "start_time": "2023-02-06T10:46:26.136Z"
   },
   {
    "duration": 6,
    "start_time": "2023-02-06T10:46:28.028Z"
   },
   {
    "duration": 6,
    "start_time": "2023-02-06T10:46:32.969Z"
   },
   {
    "duration": 5,
    "start_time": "2023-02-06T10:46:35.128Z"
   },
   {
    "duration": 49,
    "start_time": "2023-02-06T10:46:56.441Z"
   },
   {
    "duration": 58,
    "start_time": "2023-02-06T10:49:57.936Z"
   },
   {
    "duration": 1481,
    "start_time": "2023-02-07T07:42:56.588Z"
   },
   {
    "duration": 624,
    "start_time": "2023-02-07T07:42:58.072Z"
   },
   {
    "duration": 13,
    "start_time": "2023-02-07T07:42:58.698Z"
   },
   {
    "duration": 33,
    "start_time": "2023-02-07T07:42:58.713Z"
   },
   {
    "duration": 5,
    "start_time": "2023-02-07T07:42:58.747Z"
   },
   {
    "duration": 53,
    "start_time": "2023-02-07T07:42:58.753Z"
   },
   {
    "duration": 2,
    "start_time": "2023-02-07T07:42:58.808Z"
   },
   {
    "duration": 30,
    "start_time": "2023-02-07T07:42:58.812Z"
   },
   {
    "duration": 86,
    "start_time": "2023-02-07T07:42:58.844Z"
   },
   {
    "duration": 153,
    "start_time": "2023-02-07T07:42:58.932Z"
   },
   {
    "duration": 81,
    "start_time": "2023-02-07T07:42:59.086Z"
   },
   {
    "duration": 95,
    "start_time": "2023-02-07T07:42:59.169Z"
   },
   {
    "duration": 30,
    "start_time": "2023-02-07T07:42:59.266Z"
   },
   {
    "duration": 19,
    "start_time": "2023-02-07T07:42:59.298Z"
   },
   {
    "duration": 42,
    "start_time": "2023-02-07T07:42:59.318Z"
   },
   {
    "duration": 24,
    "start_time": "2023-02-07T07:42:59.362Z"
   },
   {
    "duration": 27,
    "start_time": "2023-02-07T07:42:59.388Z"
   },
   {
    "duration": 30,
    "start_time": "2023-02-07T07:42:59.417Z"
   },
   {
    "duration": 25,
    "start_time": "2023-02-07T07:42:59.455Z"
   },
   {
    "duration": 271,
    "start_time": "2023-02-07T07:42:59.483Z"
   },
   {
    "duration": 38,
    "start_time": "2023-02-07T07:42:59.757Z"
   },
   {
    "duration": 19,
    "start_time": "2023-02-07T07:42:59.796Z"
   },
   {
    "duration": 53,
    "start_time": "2023-02-07T07:42:59.816Z"
   },
   {
    "duration": 8,
    "start_time": "2023-02-07T07:42:59.870Z"
   },
   {
    "duration": 748,
    "start_time": "2023-02-07T07:42:59.880Z"
   },
   {
    "duration": 738,
    "start_time": "2023-02-07T07:43:00.631Z"
   },
   {
    "duration": 666,
    "start_time": "2023-02-07T07:43:01.371Z"
   },
   {
    "duration": 21,
    "start_time": "2023-02-07T07:43:02.043Z"
   },
   {
    "duration": 18,
    "start_time": "2023-02-07T07:43:02.066Z"
   },
   {
    "duration": 8,
    "start_time": "2023-02-07T07:43:02.086Z"
   },
   {
    "duration": 24,
    "start_time": "2023-02-07T07:43:02.095Z"
   },
   {
    "duration": 31,
    "start_time": "2023-02-07T07:43:02.121Z"
   },
   {
    "duration": 24,
    "start_time": "2023-02-07T07:43:02.154Z"
   },
   {
    "duration": 54,
    "start_time": "2023-02-07T07:43:02.180Z"
   },
   {
    "duration": 35,
    "start_time": "2023-02-07T07:43:02.236Z"
   },
   {
    "duration": 142,
    "start_time": "2023-02-07T07:43:02.272Z"
   },
   {
    "duration": 10,
    "start_time": "2023-02-07T07:43:02.416Z"
   },
   {
    "duration": 30,
    "start_time": "2023-02-07T07:43:02.428Z"
   },
   {
    "duration": 24,
    "start_time": "2023-02-07T07:43:02.460Z"
   },
   {
    "duration": 49,
    "start_time": "2023-02-07T07:43:02.486Z"
   },
   {
    "duration": 37,
    "start_time": "2023-02-07T07:43:02.537Z"
   },
   {
    "duration": 16,
    "start_time": "2023-02-07T07:43:02.576Z"
   },
   {
    "duration": 57,
    "start_time": "2023-02-07T07:43:02.594Z"
   },
   {
    "duration": 29,
    "start_time": "2023-02-07T07:43:02.653Z"
   },
   {
    "duration": 25,
    "start_time": "2023-02-07T07:43:02.684Z"
   },
   {
    "duration": 37,
    "start_time": "2023-02-07T07:43:02.710Z"
   },
   {
    "duration": 30,
    "start_time": "2023-02-07T07:43:02.749Z"
   },
   {
    "duration": 34,
    "start_time": "2023-02-07T07:43:02.782Z"
   },
   {
    "duration": 41,
    "start_time": "2023-02-07T07:43:02.818Z"
   },
   {
    "duration": 535,
    "start_time": "2023-02-07T07:43:02.861Z"
   },
   {
    "duration": 60,
    "start_time": "2023-02-07T07:43:03.398Z"
   },
   {
    "duration": 6,
    "start_time": "2023-02-07T07:43:03.462Z"
   },
   {
    "duration": 13,
    "start_time": "2023-02-07T07:43:03.471Z"
   },
   {
    "duration": 63,
    "start_time": "2023-02-07T07:43:03.486Z"
   },
   {
    "duration": 23,
    "start_time": "2023-02-07T07:43:03.551Z"
   },
   {
    "duration": 20,
    "start_time": "2023-02-07T07:43:03.576Z"
   },
   {
    "duration": 17,
    "start_time": "2023-02-07T07:43:03.598Z"
   },
   {
    "duration": 104,
    "start_time": "2023-02-07T07:43:03.617Z"
   },
   {
    "duration": 5,
    "start_time": "2023-02-07T07:43:03.722Z"
   },
   {
    "duration": 35,
    "start_time": "2023-02-07T07:43:03.729Z"
   },
   {
    "duration": 13,
    "start_time": "2023-02-07T07:43:03.767Z"
   },
   {
    "duration": 10,
    "start_time": "2023-02-07T07:43:03.782Z"
   },
   {
    "duration": 18,
    "start_time": "2023-02-07T07:43:03.794Z"
   },
   {
    "duration": 9,
    "start_time": "2023-02-07T07:43:03.813Z"
   },
   {
    "duration": 48,
    "start_time": "2023-02-07T07:43:03.824Z"
   },
   {
    "duration": 27,
    "start_time": "2023-02-07T07:43:03.874Z"
   },
   {
    "duration": 31,
    "start_time": "2023-02-07T07:43:03.903Z"
   },
   {
    "duration": 35,
    "start_time": "2023-02-07T07:43:03.937Z"
   },
   {
    "duration": 4,
    "start_time": "2023-02-07T07:50:04.013Z"
   },
   {
    "duration": 3,
    "start_time": "2023-02-07T07:50:29.094Z"
   },
   {
    "duration": 5,
    "start_time": "2023-02-07T07:51:20.082Z"
   },
   {
    "duration": 5,
    "start_time": "2023-02-07T07:51:47.600Z"
   },
   {
    "duration": 3,
    "start_time": "2023-02-07T07:51:51.641Z"
   },
   {
    "duration": 7,
    "start_time": "2023-02-07T07:54:14.190Z"
   },
   {
    "duration": 13,
    "start_time": "2023-02-07T07:54:30.321Z"
   },
   {
    "duration": 11,
    "start_time": "2023-02-07T07:55:00.131Z"
   },
   {
    "duration": 13,
    "start_time": "2023-02-07T07:55:08.521Z"
   },
   {
    "duration": 10,
    "start_time": "2023-02-07T07:55:15.187Z"
   },
   {
    "duration": 11,
    "start_time": "2023-02-07T07:55:20.841Z"
   },
   {
    "duration": 4,
    "start_time": "2023-02-07T07:55:32.873Z"
   },
   {
    "duration": 166,
    "start_time": "2023-02-07T07:55:35.613Z"
   },
   {
    "duration": 10,
    "start_time": "2023-02-07T07:55:45.021Z"
   },
   {
    "duration": 5,
    "start_time": "2023-02-07T07:56:29.175Z"
   },
   {
    "duration": 12,
    "start_time": "2023-02-07T07:56:31.855Z"
   },
   {
    "duration": 11,
    "start_time": "2023-02-07T07:56:35.158Z"
   },
   {
    "duration": 13,
    "start_time": "2023-02-07T07:56:44.813Z"
   },
   {
    "duration": 12,
    "start_time": "2023-02-07T07:56:54.670Z"
   },
   {
    "duration": 10,
    "start_time": "2023-02-07T07:57:01.548Z"
   },
   {
    "duration": 11,
    "start_time": "2023-02-07T07:57:11.556Z"
   },
   {
    "duration": 11,
    "start_time": "2023-02-07T07:57:28.753Z"
   },
   {
    "duration": 11,
    "start_time": "2023-02-07T07:57:40.005Z"
   },
   {
    "duration": 12,
    "start_time": "2023-02-07T07:59:24.159Z"
   },
   {
    "duration": 11,
    "start_time": "2023-02-07T07:59:33.095Z"
   },
   {
    "duration": 47,
    "start_time": "2023-02-07T07:59:43.239Z"
   },
   {
    "duration": 19,
    "start_time": "2023-02-07T08:01:07.718Z"
   },
   {
    "duration": 12,
    "start_time": "2023-02-07T08:01:11.356Z"
   },
   {
    "duration": 15,
    "start_time": "2023-02-07T08:01:35.579Z"
   },
   {
    "duration": 42,
    "start_time": "2023-02-07T08:01:47.742Z"
   },
   {
    "duration": 17,
    "start_time": "2023-02-07T08:02:00.830Z"
   },
   {
    "duration": 13,
    "start_time": "2023-02-07T08:02:05.136Z"
   },
   {
    "duration": 13,
    "start_time": "2023-02-07T08:02:17.306Z"
   },
   {
    "duration": 12,
    "start_time": "2023-02-07T08:02:23.411Z"
   },
   {
    "duration": 12,
    "start_time": "2023-02-07T08:03:29.038Z"
   },
   {
    "duration": 33,
    "start_time": "2023-02-07T08:04:44.739Z"
   },
   {
    "duration": 38,
    "start_time": "2023-02-07T08:05:00.473Z"
   },
   {
    "duration": 42,
    "start_time": "2023-02-07T08:05:02.423Z"
   },
   {
    "duration": 11,
    "start_time": "2023-02-07T08:05:10.281Z"
   },
   {
    "duration": 12,
    "start_time": "2023-02-07T08:05:42.038Z"
   },
   {
    "duration": 9,
    "start_time": "2023-02-07T08:05:56.552Z"
   },
   {
    "duration": 14,
    "start_time": "2023-02-07T08:06:10.462Z"
   },
   {
    "duration": 9,
    "start_time": "2023-02-07T08:06:15.807Z"
   },
   {
    "duration": 11,
    "start_time": "2023-02-07T08:06:21.109Z"
   },
   {
    "duration": 1164,
    "start_time": "2023-02-07T08:06:38.924Z"
   },
   {
    "duration": 179,
    "start_time": "2023-02-07T08:06:40.090Z"
   },
   {
    "duration": 12,
    "start_time": "2023-02-07T08:06:40.271Z"
   },
   {
    "duration": 35,
    "start_time": "2023-02-07T08:06:40.285Z"
   },
   {
    "duration": 3,
    "start_time": "2023-02-07T08:06:40.322Z"
   },
   {
    "duration": 60,
    "start_time": "2023-02-07T08:06:40.327Z"
   },
   {
    "duration": 3,
    "start_time": "2023-02-07T08:06:40.389Z"
   },
   {
    "duration": 21,
    "start_time": "2023-02-07T08:06:40.393Z"
   },
   {
    "duration": 79,
    "start_time": "2023-02-07T08:06:40.416Z"
   },
   {
    "duration": 146,
    "start_time": "2023-02-07T08:06:40.497Z"
   },
   {
    "duration": 71,
    "start_time": "2023-02-07T08:06:40.645Z"
   },
   {
    "duration": 94,
    "start_time": "2023-02-07T08:06:40.718Z"
   },
   {
    "duration": 38,
    "start_time": "2023-02-07T08:06:40.814Z"
   },
   {
    "duration": 15,
    "start_time": "2023-02-07T08:06:40.854Z"
   },
   {
    "duration": 29,
    "start_time": "2023-02-07T08:06:40.871Z"
   },
   {
    "duration": 41,
    "start_time": "2023-02-07T08:06:40.902Z"
   },
   {
    "duration": 37,
    "start_time": "2023-02-07T08:06:40.944Z"
   },
   {
    "duration": 26,
    "start_time": "2023-02-07T08:06:40.983Z"
   },
   {
    "duration": 30,
    "start_time": "2023-02-07T08:06:41.011Z"
   },
   {
    "duration": 237,
    "start_time": "2023-02-07T08:06:41.043Z"
   },
   {
    "duration": 36,
    "start_time": "2023-02-07T08:06:41.282Z"
   },
   {
    "duration": 22,
    "start_time": "2023-02-07T08:06:41.319Z"
   },
   {
    "duration": 32,
    "start_time": "2023-02-07T08:06:41.343Z"
   },
   {
    "duration": 14,
    "start_time": "2023-02-07T08:06:41.377Z"
   },
   {
    "duration": 712,
    "start_time": "2023-02-07T08:06:41.393Z"
   },
   {
    "duration": 773,
    "start_time": "2023-02-07T08:06:42.107Z"
   },
   {
    "duration": 598,
    "start_time": "2023-02-07T08:06:42.881Z"
   },
   {
    "duration": 26,
    "start_time": "2023-02-07T08:06:43.483Z"
   },
   {
    "duration": 33,
    "start_time": "2023-02-07T08:06:43.511Z"
   },
   {
    "duration": 5,
    "start_time": "2023-02-07T08:06:43.546Z"
   },
   {
    "duration": 40,
    "start_time": "2023-02-07T08:06:43.552Z"
   },
   {
    "duration": 5,
    "start_time": "2023-02-07T08:06:43.593Z"
   },
   {
    "duration": 27,
    "start_time": "2023-02-07T08:06:43.600Z"
   },
   {
    "duration": 38,
    "start_time": "2023-02-07T08:06:43.629Z"
   },
   {
    "duration": 23,
    "start_time": "2023-02-07T08:06:43.669Z"
   },
   {
    "duration": 81,
    "start_time": "2023-02-07T08:06:43.694Z"
   },
   {
    "duration": 7,
    "start_time": "2023-02-07T08:06:43.777Z"
   },
   {
    "duration": 20,
    "start_time": "2023-02-07T08:06:43.785Z"
   },
   {
    "duration": 17,
    "start_time": "2023-02-07T08:06:43.807Z"
   },
   {
    "duration": 16,
    "start_time": "2023-02-07T08:06:43.826Z"
   },
   {
    "duration": 19,
    "start_time": "2023-02-07T08:06:43.844Z"
   },
   {
    "duration": 15,
    "start_time": "2023-02-07T08:06:43.865Z"
   },
   {
    "duration": 19,
    "start_time": "2023-02-07T08:06:43.882Z"
   },
   {
    "duration": 21,
    "start_time": "2023-02-07T08:06:43.903Z"
   },
   {
    "duration": 22,
    "start_time": "2023-02-07T08:06:43.926Z"
   },
   {
    "duration": 18,
    "start_time": "2023-02-07T08:06:43.950Z"
   },
   {
    "duration": 25,
    "start_time": "2023-02-07T08:06:43.970Z"
   },
   {
    "duration": 25,
    "start_time": "2023-02-07T08:06:43.998Z"
   },
   {
    "duration": 13,
    "start_time": "2023-02-07T08:06:44.025Z"
   },
   {
    "duration": 476,
    "start_time": "2023-02-07T08:06:44.040Z"
   },
   {
    "duration": 11,
    "start_time": "2023-02-07T08:06:44.517Z"
   },
   {
    "duration": 40,
    "start_time": "2023-02-07T08:06:44.530Z"
   },
   {
    "duration": 7,
    "start_time": "2023-02-07T08:06:44.572Z"
   },
   {
    "duration": 58,
    "start_time": "2023-02-07T08:06:44.581Z"
   },
   {
    "duration": 8,
    "start_time": "2023-02-07T08:06:44.640Z"
   },
   {
    "duration": 11,
    "start_time": "2023-02-07T08:06:44.649Z"
   },
   {
    "duration": 17,
    "start_time": "2023-02-07T08:06:44.661Z"
   },
   {
    "duration": 16,
    "start_time": "2023-02-07T08:06:44.679Z"
   },
   {
    "duration": 93,
    "start_time": "2023-02-07T08:06:44.697Z"
   },
   {
    "duration": 5,
    "start_time": "2023-02-07T08:06:44.792Z"
   },
   {
    "duration": 15,
    "start_time": "2023-02-07T08:06:44.798Z"
   },
   {
    "duration": 16,
    "start_time": "2023-02-07T08:06:44.815Z"
   },
   {
    "duration": 12,
    "start_time": "2023-02-07T08:06:44.832Z"
   },
   {
    "duration": 14,
    "start_time": "2023-02-07T08:06:44.846Z"
   },
   {
    "duration": 28,
    "start_time": "2023-02-07T08:06:44.862Z"
   },
   {
    "duration": 18,
    "start_time": "2023-02-07T08:06:44.891Z"
   },
   {
    "duration": 31,
    "start_time": "2023-02-07T08:06:44.911Z"
   },
   {
    "duration": 21,
    "start_time": "2023-02-07T08:06:44.943Z"
   },
   {
    "duration": 32,
    "start_time": "2023-02-07T08:06:44.966Z"
   },
   {
    "duration": 21,
    "start_time": "2023-02-07T08:06:45.000Z"
   },
   {
    "duration": 4,
    "start_time": "2023-02-07T08:06:45.038Z"
   },
   {
    "duration": 11,
    "start_time": "2023-02-07T08:07:35.213Z"
   },
   {
    "duration": 11,
    "start_time": "2023-02-07T08:07:45.092Z"
   },
   {
    "duration": 3,
    "start_time": "2023-02-07T08:07:57.842Z"
   },
   {
    "duration": 12,
    "start_time": "2023-02-07T08:07:59.784Z"
   },
   {
    "duration": 1224,
    "start_time": "2023-02-07T08:09:06.067Z"
   },
   {
    "duration": 185,
    "start_time": "2023-02-07T08:09:07.293Z"
   },
   {
    "duration": 12,
    "start_time": "2023-02-07T08:09:07.480Z"
   },
   {
    "duration": 48,
    "start_time": "2023-02-07T08:09:07.494Z"
   },
   {
    "duration": 5,
    "start_time": "2023-02-07T08:09:07.543Z"
   },
   {
    "duration": 70,
    "start_time": "2023-02-07T08:09:07.550Z"
   },
   {
    "duration": 3,
    "start_time": "2023-02-07T08:09:07.621Z"
   },
   {
    "duration": 34,
    "start_time": "2023-02-07T08:09:07.626Z"
   },
   {
    "duration": 100,
    "start_time": "2023-02-07T08:09:07.661Z"
   },
   {
    "duration": 155,
    "start_time": "2023-02-07T08:09:07.763Z"
   },
   {
    "duration": 81,
    "start_time": "2023-02-07T08:09:07.919Z"
   },
   {
    "duration": 104,
    "start_time": "2023-02-07T08:09:08.002Z"
   },
   {
    "duration": 47,
    "start_time": "2023-02-07T08:09:08.108Z"
   },
   {
    "duration": 19,
    "start_time": "2023-02-07T08:09:08.157Z"
   },
   {
    "duration": 45,
    "start_time": "2023-02-07T08:09:08.179Z"
   },
   {
    "duration": 34,
    "start_time": "2023-02-07T08:09:08.227Z"
   },
   {
    "duration": 22,
    "start_time": "2023-02-07T08:09:08.263Z"
   },
   {
    "duration": 17,
    "start_time": "2023-02-07T08:09:08.287Z"
   },
   {
    "duration": 33,
    "start_time": "2023-02-07T08:09:08.306Z"
   },
   {
    "duration": 245,
    "start_time": "2023-02-07T08:09:08.341Z"
   },
   {
    "duration": 34,
    "start_time": "2023-02-07T08:09:08.588Z"
   },
   {
    "duration": 21,
    "start_time": "2023-02-07T08:09:08.623Z"
   },
   {
    "duration": 30,
    "start_time": "2023-02-07T08:09:08.646Z"
   },
   {
    "duration": 6,
    "start_time": "2023-02-07T08:09:08.678Z"
   },
   {
    "duration": 684,
    "start_time": "2023-02-07T08:09:08.685Z"
   },
   {
    "duration": 697,
    "start_time": "2023-02-07T08:09:09.371Z"
   },
   {
    "duration": 586,
    "start_time": "2023-02-07T08:09:10.070Z"
   },
   {
    "duration": 23,
    "start_time": "2023-02-07T08:09:10.660Z"
   },
   {
    "duration": 13,
    "start_time": "2023-02-07T08:09:10.685Z"
   },
   {
    "duration": 8,
    "start_time": "2023-02-07T08:09:10.699Z"
   },
   {
    "duration": 37,
    "start_time": "2023-02-07T08:09:10.709Z"
   },
   {
    "duration": 4,
    "start_time": "2023-02-07T08:09:10.748Z"
   },
   {
    "duration": 18,
    "start_time": "2023-02-07T08:09:10.753Z"
   },
   {
    "duration": 38,
    "start_time": "2023-02-07T08:09:10.773Z"
   },
   {
    "duration": 42,
    "start_time": "2023-02-07T08:09:10.813Z"
   },
   {
    "duration": 69,
    "start_time": "2023-02-07T08:09:10.857Z"
   },
   {
    "duration": 9,
    "start_time": "2023-02-07T08:09:10.937Z"
   },
   {
    "duration": 3,
    "start_time": "2023-02-07T08:09:10.948Z"
   },
   {
    "duration": 10,
    "start_time": "2023-02-07T08:09:10.953Z"
   },
   {
    "duration": 12,
    "start_time": "2023-02-07T08:09:10.965Z"
   },
   {
    "duration": 14,
    "start_time": "2023-02-07T08:09:10.978Z"
   },
   {
    "duration": 13,
    "start_time": "2023-02-07T08:09:10.994Z"
   },
   {
    "duration": 20,
    "start_time": "2023-02-07T08:09:11.008Z"
   },
   {
    "duration": 13,
    "start_time": "2023-02-07T08:09:11.029Z"
   },
   {
    "duration": 16,
    "start_time": "2023-02-07T08:09:11.044Z"
   },
   {
    "duration": 18,
    "start_time": "2023-02-07T08:09:11.061Z"
   },
   {
    "duration": 14,
    "start_time": "2023-02-07T08:09:11.081Z"
   },
   {
    "duration": 20,
    "start_time": "2023-02-07T08:09:11.096Z"
   },
   {
    "duration": 13,
    "start_time": "2023-02-07T08:09:11.117Z"
   },
   {
    "duration": 450,
    "start_time": "2023-02-07T08:09:11.132Z"
   },
   {
    "duration": 12,
    "start_time": "2023-02-07T08:09:11.583Z"
   },
   {
    "duration": 68,
    "start_time": "2023-02-07T08:09:11.596Z"
   },
   {
    "duration": 7,
    "start_time": "2023-02-07T08:09:11.666Z"
   },
   {
    "duration": 64,
    "start_time": "2023-02-07T08:09:11.674Z"
   },
   {
    "duration": 8,
    "start_time": "2023-02-07T08:09:11.740Z"
   },
   {
    "duration": 18,
    "start_time": "2023-02-07T08:09:11.749Z"
   },
   {
    "duration": 19,
    "start_time": "2023-02-07T08:09:11.769Z"
   },
   {
    "duration": 22,
    "start_time": "2023-02-07T08:09:11.789Z"
   },
   {
    "duration": 95,
    "start_time": "2023-02-07T08:09:11.812Z"
   },
   {
    "duration": 5,
    "start_time": "2023-02-07T08:09:11.909Z"
   },
   {
    "duration": 23,
    "start_time": "2023-02-07T08:09:11.915Z"
   },
   {
    "duration": 10,
    "start_time": "2023-02-07T08:09:11.940Z"
   },
   {
    "duration": 18,
    "start_time": "2023-02-07T08:09:11.951Z"
   },
   {
    "duration": 33,
    "start_time": "2023-02-07T08:09:11.971Z"
   },
   {
    "duration": 29,
    "start_time": "2023-02-07T08:09:12.005Z"
   },
   {
    "duration": 15,
    "start_time": "2023-02-07T08:09:12.036Z"
   },
   {
    "duration": 49,
    "start_time": "2023-02-07T08:09:12.053Z"
   },
   {
    "duration": 22,
    "start_time": "2023-02-07T08:09:12.104Z"
   },
   {
    "duration": 33,
    "start_time": "2023-02-07T08:09:12.128Z"
   },
   {
    "duration": 28,
    "start_time": "2023-02-07T08:09:12.163Z"
   },
   {
    "duration": 4,
    "start_time": "2023-02-07T08:09:12.193Z"
   },
   {
    "duration": 13,
    "start_time": "2023-02-07T08:10:03.414Z"
   },
   {
    "duration": 7,
    "start_time": "2023-02-07T08:10:16.892Z"
   },
   {
    "duration": 5,
    "start_time": "2023-02-07T08:34:48.049Z"
   },
   {
    "duration": 155,
    "start_time": "2023-02-07T08:40:44.707Z"
   },
   {
    "duration": 232,
    "start_time": "2023-02-07T08:41:00.522Z"
   },
   {
    "duration": 249,
    "start_time": "2023-02-07T08:41:19.209Z"
   },
   {
    "duration": 39,
    "start_time": "2023-02-07T08:41:47.851Z"
   },
   {
    "duration": 18,
    "start_time": "2023-02-07T08:42:07.375Z"
   },
   {
    "duration": 47,
    "start_time": "2023-02-07T08:42:22.511Z"
   },
   {
    "duration": 13,
    "start_time": "2023-02-07T08:42:32.910Z"
   },
   {
    "duration": 14,
    "start_time": "2023-02-07T08:42:50.798Z"
   },
   {
    "duration": 197,
    "start_time": "2023-02-07T08:43:37.117Z"
   },
   {
    "duration": 176,
    "start_time": "2023-02-07T08:44:11.422Z"
   },
   {
    "duration": 167,
    "start_time": "2023-02-07T08:46:21.443Z"
   },
   {
    "duration": 276,
    "start_time": "2023-02-07T08:46:29.664Z"
   },
   {
    "duration": 303,
    "start_time": "2023-02-07T08:46:33.368Z"
   },
   {
    "duration": 17,
    "start_time": "2023-02-07T08:46:46.228Z"
   },
   {
    "duration": 21,
    "start_time": "2023-02-07T08:46:54.311Z"
   },
   {
    "duration": 15,
    "start_time": "2023-02-07T08:46:58.976Z"
   },
   {
    "duration": 17,
    "start_time": "2023-02-07T08:47:03.281Z"
   },
   {
    "duration": 152,
    "start_time": "2023-02-07T08:47:07.291Z"
   },
   {
    "duration": 149,
    "start_time": "2023-02-07T08:47:24.430Z"
   },
   {
    "duration": 146,
    "start_time": "2023-02-07T08:47:34.112Z"
   },
   {
    "duration": 16,
    "start_time": "2023-02-07T08:51:48.676Z"
   },
   {
    "duration": 16,
    "start_time": "2023-02-07T08:51:55.703Z"
   },
   {
    "duration": 198,
    "start_time": "2023-02-07T08:52:04.120Z"
   },
   {
    "duration": 18,
    "start_time": "2023-02-07T08:52:36.020Z"
   },
   {
    "duration": 223,
    "start_time": "2023-02-07T08:52:45.991Z"
   },
   {
    "duration": 178,
    "start_time": "2023-02-07T08:52:52.663Z"
   },
   {
    "duration": 63,
    "start_time": "2023-02-07T08:53:45.654Z"
   },
   {
    "duration": 23,
    "start_time": "2023-02-07T08:54:23.212Z"
   },
   {
    "duration": 49,
    "start_time": "2023-02-07T08:54:36.705Z"
   },
   {
    "duration": 36,
    "start_time": "2023-02-07T08:54:46.363Z"
   },
   {
    "duration": 57,
    "start_time": "2023-02-07T08:54:50.515Z"
   },
   {
    "duration": 74,
    "start_time": "2023-02-07T08:55:00.945Z"
   },
   {
    "duration": 5,
    "start_time": "2023-02-07T08:55:36.664Z"
   },
   {
    "duration": 22,
    "start_time": "2023-02-07T08:55:42.841Z"
   },
   {
    "duration": 56,
    "start_time": "2023-02-07T08:58:28.778Z"
   },
   {
    "duration": 51,
    "start_time": "2023-02-07T08:59:06.024Z"
   },
   {
    "duration": 74,
    "start_time": "2023-02-07T08:59:17.544Z"
   },
   {
    "duration": 28,
    "start_time": "2023-02-07T08:59:28.949Z"
   },
   {
    "duration": 28,
    "start_time": "2023-02-07T08:59:42.087Z"
   },
   {
    "duration": 72,
    "start_time": "2023-02-07T08:59:53.037Z"
   },
   {
    "duration": 59,
    "start_time": "2023-02-07T09:00:11.906Z"
   },
   {
    "duration": 5,
    "start_time": "2023-02-07T09:00:22.711Z"
   },
   {
    "duration": 5,
    "start_time": "2023-02-07T09:00:25.245Z"
   },
   {
    "duration": 53,
    "start_time": "2023-02-07T09:00:27.992Z"
   },
   {
    "duration": 18,
    "start_time": "2023-02-07T09:02:16.201Z"
   },
   {
    "duration": 19,
    "start_time": "2023-02-07T09:02:27.224Z"
   },
   {
    "duration": 194,
    "start_time": "2023-02-07T09:02:35.383Z"
   },
   {
    "duration": 51,
    "start_time": "2023-02-07T09:03:56.870Z"
   },
   {
    "duration": 69,
    "start_time": "2023-02-07T09:04:03.028Z"
   },
   {
    "duration": 154,
    "start_time": "2023-02-07T09:04:10.795Z"
   },
   {
    "duration": 49,
    "start_time": "2023-02-07T09:04:17.770Z"
   },
   {
    "duration": 4,
    "start_time": "2023-02-07T09:04:55.228Z"
   },
   {
    "duration": 52,
    "start_time": "2023-02-07T09:04:59.305Z"
   },
   {
    "duration": 4,
    "start_time": "2023-02-07T09:05:13.874Z"
   },
   {
    "duration": 49,
    "start_time": "2023-02-07T09:05:19.392Z"
   },
   {
    "duration": 5,
    "start_time": "2023-02-07T09:05:48.296Z"
   },
   {
    "duration": 49,
    "start_time": "2023-02-07T09:06:05.656Z"
   },
   {
    "duration": 89,
    "start_time": "2023-02-07T09:06:17.185Z"
   },
   {
    "duration": 5,
    "start_time": "2023-02-07T09:45:09.342Z"
   },
   {
    "duration": 5,
    "start_time": "2023-02-07T09:45:14.170Z"
   },
   {
    "duration": 1510,
    "start_time": "2023-02-08T06:45:04.802Z"
   },
   {
    "duration": 661,
    "start_time": "2023-02-08T06:45:06.314Z"
   },
   {
    "duration": 13,
    "start_time": "2023-02-08T06:45:06.977Z"
   },
   {
    "duration": 39,
    "start_time": "2023-02-08T06:45:06.993Z"
   },
   {
    "duration": 6,
    "start_time": "2023-02-08T06:45:07.034Z"
   },
   {
    "duration": 51,
    "start_time": "2023-02-08T06:45:07.041Z"
   },
   {
    "duration": 3,
    "start_time": "2023-02-08T06:45:07.093Z"
   },
   {
    "duration": 14,
    "start_time": "2023-02-08T06:45:07.098Z"
   },
   {
    "duration": 68,
    "start_time": "2023-02-08T06:45:07.114Z"
   },
   {
    "duration": 147,
    "start_time": "2023-02-08T06:45:07.194Z"
   },
   {
    "duration": 84,
    "start_time": "2023-02-08T06:45:07.343Z"
   },
   {
    "duration": 85,
    "start_time": "2023-02-08T06:45:07.430Z"
   },
   {
    "duration": 26,
    "start_time": "2023-02-08T06:45:07.517Z"
   },
   {
    "duration": 13,
    "start_time": "2023-02-08T06:45:07.545Z"
   },
   {
    "duration": 53,
    "start_time": "2023-02-08T06:45:07.560Z"
   },
   {
    "duration": 23,
    "start_time": "2023-02-08T06:45:07.615Z"
   },
   {
    "duration": 15,
    "start_time": "2023-02-08T06:45:07.640Z"
   },
   {
    "duration": 15,
    "start_time": "2023-02-08T06:45:07.656Z"
   },
   {
    "duration": 31,
    "start_time": "2023-02-08T06:45:07.673Z"
   },
   {
    "duration": 145,
    "start_time": "2023-02-08T06:45:07.705Z"
   },
   {
    "duration": 0,
    "start_time": "2023-02-08T06:45:07.853Z"
   },
   {
    "duration": 0,
    "start_time": "2023-02-08T06:45:07.854Z"
   },
   {
    "duration": 0,
    "start_time": "2023-02-08T06:45:07.855Z"
   },
   {
    "duration": 0,
    "start_time": "2023-02-08T06:45:07.857Z"
   },
   {
    "duration": 0,
    "start_time": "2023-02-08T06:45:07.859Z"
   },
   {
    "duration": 0,
    "start_time": "2023-02-08T06:45:07.860Z"
   },
   {
    "duration": 0,
    "start_time": "2023-02-08T06:45:07.861Z"
   },
   {
    "duration": 0,
    "start_time": "2023-02-08T06:45:07.863Z"
   },
   {
    "duration": 0,
    "start_time": "2023-02-08T06:45:07.864Z"
   },
   {
    "duration": 0,
    "start_time": "2023-02-08T06:45:07.865Z"
   },
   {
    "duration": 0,
    "start_time": "2023-02-08T06:45:07.866Z"
   },
   {
    "duration": 0,
    "start_time": "2023-02-08T06:45:07.892Z"
   },
   {
    "duration": 0,
    "start_time": "2023-02-08T06:45:07.894Z"
   },
   {
    "duration": 0,
    "start_time": "2023-02-08T06:45:07.895Z"
   },
   {
    "duration": 0,
    "start_time": "2023-02-08T06:45:07.897Z"
   },
   {
    "duration": 0,
    "start_time": "2023-02-08T06:45:07.898Z"
   },
   {
    "duration": 0,
    "start_time": "2023-02-08T06:45:07.899Z"
   },
   {
    "duration": 0,
    "start_time": "2023-02-08T06:45:07.901Z"
   },
   {
    "duration": 0,
    "start_time": "2023-02-08T06:45:07.902Z"
   },
   {
    "duration": 0,
    "start_time": "2023-02-08T06:45:07.903Z"
   },
   {
    "duration": 0,
    "start_time": "2023-02-08T06:45:07.904Z"
   },
   {
    "duration": 0,
    "start_time": "2023-02-08T06:45:07.905Z"
   },
   {
    "duration": 0,
    "start_time": "2023-02-08T06:45:07.906Z"
   },
   {
    "duration": 0,
    "start_time": "2023-02-08T06:45:07.907Z"
   },
   {
    "duration": 0,
    "start_time": "2023-02-08T06:45:07.909Z"
   },
   {
    "duration": 0,
    "start_time": "2023-02-08T06:45:07.909Z"
   },
   {
    "duration": 0,
    "start_time": "2023-02-08T06:45:07.912Z"
   },
   {
    "duration": 0,
    "start_time": "2023-02-08T06:45:07.914Z"
   },
   {
    "duration": 0,
    "start_time": "2023-02-08T06:45:07.916Z"
   },
   {
    "duration": 0,
    "start_time": "2023-02-08T06:45:07.917Z"
   },
   {
    "duration": 0,
    "start_time": "2023-02-08T06:45:07.918Z"
   },
   {
    "duration": 0,
    "start_time": "2023-02-08T06:45:07.919Z"
   },
   {
    "duration": 0,
    "start_time": "2023-02-08T06:45:07.920Z"
   },
   {
    "duration": 0,
    "start_time": "2023-02-08T06:45:07.921Z"
   },
   {
    "duration": 0,
    "start_time": "2023-02-08T06:45:07.922Z"
   },
   {
    "duration": 0,
    "start_time": "2023-02-08T06:45:07.923Z"
   },
   {
    "duration": 0,
    "start_time": "2023-02-08T06:45:07.924Z"
   },
   {
    "duration": 1,
    "start_time": "2023-02-08T06:45:07.924Z"
   },
   {
    "duration": 0,
    "start_time": "2023-02-08T06:45:07.926Z"
   },
   {
    "duration": 0,
    "start_time": "2023-02-08T06:45:07.927Z"
   },
   {
    "duration": 0,
    "start_time": "2023-02-08T06:45:07.928Z"
   },
   {
    "duration": 0,
    "start_time": "2023-02-08T06:45:07.929Z"
   },
   {
    "duration": 0,
    "start_time": "2023-02-08T06:45:07.930Z"
   },
   {
    "duration": 0,
    "start_time": "2023-02-08T06:45:07.991Z"
   },
   {
    "duration": 0,
    "start_time": "2023-02-08T06:45:07.993Z"
   },
   {
    "duration": 0,
    "start_time": "2023-02-08T06:45:07.994Z"
   },
   {
    "duration": 0,
    "start_time": "2023-02-08T06:45:07.995Z"
   },
   {
    "duration": 0,
    "start_time": "2023-02-08T06:45:07.997Z"
   },
   {
    "duration": 0,
    "start_time": "2023-02-08T06:45:07.998Z"
   },
   {
    "duration": 0,
    "start_time": "2023-02-08T06:45:07.999Z"
   },
   {
    "duration": 0,
    "start_time": "2023-02-08T06:45:08.000Z"
   },
   {
    "duration": 0,
    "start_time": "2023-02-08T06:45:08.001Z"
   },
   {
    "duration": 36,
    "start_time": "2023-02-08T06:46:22.865Z"
   },
   {
    "duration": 12,
    "start_time": "2023-02-08T06:46:22.904Z"
   },
   {
    "duration": 29,
    "start_time": "2023-02-08T06:46:22.917Z"
   },
   {
    "duration": 6,
    "start_time": "2023-02-08T06:46:22.947Z"
   },
   {
    "duration": 688,
    "start_time": "2023-02-08T06:46:22.956Z"
   },
   {
    "duration": 688,
    "start_time": "2023-02-08T06:46:23.645Z"
   },
   {
    "duration": 585,
    "start_time": "2023-02-08T06:46:24.335Z"
   },
   {
    "duration": 27,
    "start_time": "2023-02-08T06:46:24.922Z"
   },
   {
    "duration": 13,
    "start_time": "2023-02-08T06:46:24.951Z"
   },
   {
    "duration": 26,
    "start_time": "2023-02-08T06:46:24.966Z"
   },
   {
    "duration": 40,
    "start_time": "2023-02-08T06:46:24.995Z"
   },
   {
    "duration": 16,
    "start_time": "2023-02-08T06:46:25.037Z"
   },
   {
    "duration": 22,
    "start_time": "2023-02-08T06:46:25.055Z"
   },
   {
    "duration": 43,
    "start_time": "2023-02-08T06:46:25.081Z"
   },
   {
    "duration": 22,
    "start_time": "2023-02-08T06:46:25.126Z"
   },
   {
    "duration": 83,
    "start_time": "2023-02-08T06:46:25.150Z"
   },
   {
    "duration": 9,
    "start_time": "2023-02-08T06:46:25.235Z"
   },
   {
    "duration": 4,
    "start_time": "2023-02-08T06:46:25.246Z"
   },
   {
    "duration": 12,
    "start_time": "2023-02-08T06:46:25.252Z"
   },
   {
    "duration": 27,
    "start_time": "2023-02-08T06:46:25.265Z"
   },
   {
    "duration": 18,
    "start_time": "2023-02-08T06:46:25.293Z"
   },
   {
    "duration": 8,
    "start_time": "2023-02-08T06:46:25.313Z"
   },
   {
    "duration": 14,
    "start_time": "2023-02-08T06:46:25.323Z"
   },
   {
    "duration": 14,
    "start_time": "2023-02-08T06:46:25.339Z"
   },
   {
    "duration": 15,
    "start_time": "2023-02-08T06:46:25.355Z"
   },
   {
    "duration": 9,
    "start_time": "2023-02-08T06:46:25.372Z"
   },
   {
    "duration": 6,
    "start_time": "2023-02-08T06:46:25.382Z"
   },
   {
    "duration": 16,
    "start_time": "2023-02-08T06:46:25.389Z"
   },
   {
    "duration": 11,
    "start_time": "2023-02-08T06:46:25.407Z"
   },
   {
    "duration": 683,
    "start_time": "2023-02-08T06:46:25.420Z"
   },
   {
    "duration": 14,
    "start_time": "2023-02-08T06:46:26.105Z"
   },
   {
    "duration": 88,
    "start_time": "2023-02-08T06:46:26.121Z"
   },
   {
    "duration": 7,
    "start_time": "2023-02-08T06:46:26.210Z"
   },
   {
    "duration": 19,
    "start_time": "2023-02-08T06:46:26.219Z"
   },
   {
    "duration": 59,
    "start_time": "2023-02-08T06:46:26.240Z"
   },
   {
    "duration": 7,
    "start_time": "2023-02-08T06:46:26.301Z"
   },
   {
    "duration": 18,
    "start_time": "2023-02-08T06:46:26.309Z"
   },
   {
    "duration": 8,
    "start_time": "2023-02-08T06:46:26.329Z"
   },
   {
    "duration": 83,
    "start_time": "2023-02-08T06:46:26.339Z"
   },
   {
    "duration": 5,
    "start_time": "2023-02-08T06:46:26.424Z"
   },
   {
    "duration": 18,
    "start_time": "2023-02-08T06:46:26.433Z"
   },
   {
    "duration": 8,
    "start_time": "2023-02-08T06:46:26.453Z"
   },
   {
    "duration": 11,
    "start_time": "2023-02-08T06:46:26.463Z"
   },
   {
    "duration": 20,
    "start_time": "2023-02-08T06:46:26.476Z"
   },
   {
    "duration": 7,
    "start_time": "2023-02-08T06:46:26.498Z"
   },
   {
    "duration": 16,
    "start_time": "2023-02-08T06:46:26.507Z"
   },
   {
    "duration": 6,
    "start_time": "2023-02-08T06:46:26.525Z"
   },
   {
    "duration": 32,
    "start_time": "2023-02-08T06:46:26.533Z"
   },
   {
    "duration": 40,
    "start_time": "2023-02-08T06:46:26.567Z"
   },
   {
    "duration": 20,
    "start_time": "2023-02-08T06:46:26.609Z"
   },
   {
    "duration": 22,
    "start_time": "2023-02-08T06:46:26.630Z"
   },
   {
    "duration": 6,
    "start_time": "2023-02-08T06:46:26.653Z"
   },
   {
    "duration": 1304,
    "start_time": "2023-09-30T10:23:41.659Z"
   },
   {
    "duration": 945,
    "start_time": "2023-09-30T10:23:42.965Z"
   },
   {
    "duration": 11,
    "start_time": "2023-09-30T10:23:43.911Z"
   },
   {
    "duration": 20,
    "start_time": "2023-09-30T10:23:43.924Z"
   },
   {
    "duration": 3,
    "start_time": "2023-09-30T10:23:43.945Z"
   },
   {
    "duration": 52,
    "start_time": "2023-09-30T10:23:43.949Z"
   },
   {
    "duration": 3,
    "start_time": "2023-09-30T10:23:44.002Z"
   },
   {
    "duration": 40,
    "start_time": "2023-09-30T10:23:44.006Z"
   },
   {
    "duration": 76,
    "start_time": "2023-09-30T10:23:44.047Z"
   },
   {
    "duration": 152,
    "start_time": "2023-09-30T10:23:44.127Z"
   },
   {
    "duration": 68,
    "start_time": "2023-09-30T10:23:44.281Z"
   },
   {
    "duration": 119,
    "start_time": "2023-09-30T10:23:44.351Z"
   },
   {
    "duration": 30,
    "start_time": "2023-09-30T10:23:44.471Z"
   },
   {
    "duration": 44,
    "start_time": "2023-09-30T10:23:44.502Z"
   },
   {
    "duration": 25,
    "start_time": "2023-09-30T10:23:44.547Z"
   },
   {
    "duration": 26,
    "start_time": "2023-09-30T10:23:44.574Z"
   },
   {
    "duration": 48,
    "start_time": "2023-09-30T10:23:44.602Z"
   },
   {
    "duration": 17,
    "start_time": "2023-09-30T10:23:44.652Z"
   },
   {
    "duration": 16,
    "start_time": "2023-09-30T10:23:44.670Z"
   },
   {
    "duration": 79,
    "start_time": "2023-09-30T10:23:44.688Z"
   },
   {
    "duration": 9,
    "start_time": "2023-09-30T10:23:44.769Z"
   },
   {
    "duration": 32,
    "start_time": "2023-09-30T10:23:44.780Z"
   },
   {
    "duration": 33,
    "start_time": "2023-09-30T10:23:44.814Z"
   },
   {
    "duration": 610,
    "start_time": "2023-09-30T10:23:44.849Z"
   },
   {
    "duration": 559,
    "start_time": "2023-09-30T10:23:45.460Z"
   },
   {
    "duration": 494,
    "start_time": "2023-09-30T10:23:46.021Z"
   },
   {
    "duration": 28,
    "start_time": "2023-09-30T10:23:46.516Z"
   },
   {
    "duration": 12,
    "start_time": "2023-09-30T10:23:46.547Z"
   },
   {
    "duration": 12,
    "start_time": "2023-09-30T10:23:46.561Z"
   },
   {
    "duration": 12,
    "start_time": "2023-09-30T10:23:46.575Z"
   },
   {
    "duration": 3,
    "start_time": "2023-09-30T10:23:46.589Z"
   },
   {
    "duration": 11,
    "start_time": "2023-09-30T10:23:46.593Z"
   },
   {
    "duration": 50,
    "start_time": "2023-09-30T10:23:46.606Z"
   },
   {
    "duration": 24,
    "start_time": "2023-09-30T10:23:46.657Z"
   },
   {
    "duration": 71,
    "start_time": "2023-09-30T10:23:46.682Z"
   },
   {
    "duration": 6,
    "start_time": "2023-09-30T10:23:46.755Z"
   },
   {
    "duration": 3,
    "start_time": "2023-09-30T10:23:46.763Z"
   },
   {
    "duration": 9,
    "start_time": "2023-09-30T10:23:46.768Z"
   },
   {
    "duration": 9,
    "start_time": "2023-09-30T10:23:46.779Z"
   },
   {
    "duration": 8,
    "start_time": "2023-09-30T10:23:46.789Z"
   },
   {
    "duration": 8,
    "start_time": "2023-09-30T10:23:46.798Z"
   },
   {
    "duration": 8,
    "start_time": "2023-09-30T10:23:46.808Z"
   },
   {
    "duration": 28,
    "start_time": "2023-09-30T10:23:46.817Z"
   },
   {
    "duration": 33,
    "start_time": "2023-09-30T10:23:46.847Z"
   },
   {
    "duration": 8,
    "start_time": "2023-09-30T10:23:46.882Z"
   },
   {
    "duration": 7,
    "start_time": "2023-09-30T10:23:46.891Z"
   },
   {
    "duration": 13,
    "start_time": "2023-09-30T10:23:46.899Z"
   },
   {
    "duration": 6,
    "start_time": "2023-09-30T10:23:46.914Z"
   },
   {
    "duration": 427,
    "start_time": "2023-09-30T10:23:46.921Z"
   },
   {
    "duration": 14,
    "start_time": "2023-09-30T10:23:47.350Z"
   },
   {
    "duration": 85,
    "start_time": "2023-09-30T10:23:47.366Z"
   },
   {
    "duration": 6,
    "start_time": "2023-09-30T10:23:47.452Z"
   },
   {
    "duration": 8,
    "start_time": "2023-09-30T10:23:47.459Z"
   },
   {
    "duration": 9,
    "start_time": "2023-09-30T10:23:47.468Z"
   },
   {
    "duration": 5,
    "start_time": "2023-09-30T10:23:47.478Z"
   },
   {
    "duration": 11,
    "start_time": "2023-09-30T10:23:47.485Z"
   },
   {
    "duration": 5,
    "start_time": "2023-09-30T10:23:47.545Z"
   },
   {
    "duration": 70,
    "start_time": "2023-09-30T10:23:47.551Z"
   },
   {
    "duration": 4,
    "start_time": "2023-09-30T10:23:47.623Z"
   },
   {
    "duration": 22,
    "start_time": "2023-09-30T10:23:47.628Z"
   },
   {
    "duration": 6,
    "start_time": "2023-09-30T10:23:47.651Z"
   },
   {
    "duration": 4,
    "start_time": "2023-09-30T10:23:47.658Z"
   },
   {
    "duration": 8,
    "start_time": "2023-09-30T10:23:47.663Z"
   },
   {
    "duration": 5,
    "start_time": "2023-09-30T10:23:47.672Z"
   },
   {
    "duration": 13,
    "start_time": "2023-09-30T10:23:47.678Z"
   },
   {
    "duration": 5,
    "start_time": "2023-09-30T10:23:47.692Z"
   },
   {
    "duration": 45,
    "start_time": "2023-09-30T10:23:47.699Z"
   },
   {
    "duration": 17,
    "start_time": "2023-09-30T10:23:47.746Z"
   },
   {
    "duration": 17,
    "start_time": "2023-09-30T10:23:47.765Z"
   },
   {
    "duration": 19,
    "start_time": "2023-09-30T10:23:47.783Z"
   },
   {
    "duration": 4,
    "start_time": "2023-09-30T10:23:47.804Z"
   },
   {
    "duration": 10,
    "start_time": "2023-09-30T10:31:21.116Z"
   },
   {
    "duration": 139,
    "start_time": "2023-09-30T10:31:37.473Z"
   },
   {
    "duration": 3,
    "start_time": "2023-09-30T10:32:19.196Z"
   },
   {
    "duration": 18,
    "start_time": "2023-09-30T10:32:25.766Z"
   },
   {
    "duration": 27,
    "start_time": "2023-09-30T10:32:44.068Z"
   },
   {
    "duration": 112,
    "start_time": "2023-09-30T10:33:08.978Z"
   },
   {
    "duration": 10509,
    "start_time": "2023-09-30T10:33:12.603Z"
   },
   {
    "duration": 23,
    "start_time": "2023-09-30T10:33:36.151Z"
   },
   {
    "duration": 4,
    "start_time": "2023-09-30T10:34:01.626Z"
   },
   {
    "duration": 18,
    "start_time": "2023-09-30T10:34:12.521Z"
   },
   {
    "duration": 17,
    "start_time": "2023-09-30T10:34:33.126Z"
   },
   {
    "duration": 2201,
    "start_time": "2023-09-30T10:34:45.998Z"
   },
   {
    "duration": 3,
    "start_time": "2023-09-30T10:34:48.201Z"
   },
   {
    "duration": 1062,
    "start_time": "2023-09-30T10:34:48.206Z"
   },
   {
    "duration": 60,
    "start_time": "2023-09-30T10:34:49.270Z"
   },
   {
    "duration": 166,
    "start_time": "2023-09-30T10:34:49.332Z"
   },
   {
    "duration": 11,
    "start_time": "2023-09-30T10:34:49.500Z"
   },
   {
    "duration": 35,
    "start_time": "2023-09-30T10:34:49.513Z"
   },
   {
    "duration": 4,
    "start_time": "2023-09-30T10:34:49.550Z"
   },
   {
    "duration": 36,
    "start_time": "2023-09-30T10:34:49.556Z"
   },
   {
    "duration": 2,
    "start_time": "2023-09-30T10:34:49.596Z"
   },
   {
    "duration": 16,
    "start_time": "2023-09-30T10:34:49.600Z"
   },
   {
    "duration": 72,
    "start_time": "2023-09-30T10:34:49.617Z"
   },
   {
    "duration": 119,
    "start_time": "2023-09-30T10:34:49.691Z"
   },
   {
    "duration": 67,
    "start_time": "2023-09-30T10:34:49.812Z"
   },
   {
    "duration": 79,
    "start_time": "2023-09-30T10:34:49.881Z"
   },
   {
    "duration": 30,
    "start_time": "2023-09-30T10:34:49.961Z"
   },
   {
    "duration": 12,
    "start_time": "2023-09-30T10:34:49.992Z"
   },
   {
    "duration": 44,
    "start_time": "2023-09-30T10:34:50.006Z"
   },
   {
    "duration": 24,
    "start_time": "2023-09-30T10:34:50.051Z"
   },
   {
    "duration": 23,
    "start_time": "2023-09-30T10:34:50.076Z"
   },
   {
    "duration": 9,
    "start_time": "2023-09-30T10:34:50.100Z"
   },
   {
    "duration": 14,
    "start_time": "2023-09-30T10:34:50.111Z"
   },
   {
    "duration": 48,
    "start_time": "2023-09-30T10:34:50.127Z"
   },
   {
    "duration": 8,
    "start_time": "2023-09-30T10:34:50.177Z"
   },
   {
    "duration": 32,
    "start_time": "2023-09-30T10:34:50.187Z"
   },
   {
    "duration": 25,
    "start_time": "2023-09-30T10:34:50.220Z"
   },
   {
    "duration": 616,
    "start_time": "2023-09-30T10:34:50.246Z"
   },
   {
    "duration": 580,
    "start_time": "2023-09-30T10:34:50.865Z"
   },
   {
    "duration": 518,
    "start_time": "2023-09-30T10:34:51.446Z"
   },
   {
    "duration": 23,
    "start_time": "2023-09-30T10:34:51.966Z"
   },
   {
    "duration": 12,
    "start_time": "2023-09-30T10:34:51.991Z"
   },
   {
    "duration": 29,
    "start_time": "2023-09-30T10:34:52.004Z"
   },
   {
    "duration": 24,
    "start_time": "2023-09-30T10:34:52.034Z"
   },
   {
    "duration": 3,
    "start_time": "2023-09-30T10:34:52.059Z"
   },
   {
    "duration": 22,
    "start_time": "2023-09-30T10:34:52.064Z"
   },
   {
    "duration": 30,
    "start_time": "2023-09-30T10:34:52.088Z"
   },
   {
    "duration": 27,
    "start_time": "2023-09-30T10:34:52.120Z"
   },
   {
    "duration": 91,
    "start_time": "2023-09-30T10:34:52.148Z"
   },
   {
    "duration": 7,
    "start_time": "2023-09-30T10:34:52.241Z"
   },
   {
    "duration": 12,
    "start_time": "2023-09-30T10:34:52.249Z"
   },
   {
    "duration": 8,
    "start_time": "2023-09-30T10:34:52.263Z"
   },
   {
    "duration": 75,
    "start_time": "2023-09-30T10:34:52.273Z"
   },
   {
    "duration": 14,
    "start_time": "2023-09-30T10:34:52.349Z"
   },
   {
    "duration": 24,
    "start_time": "2023-09-30T10:34:52.364Z"
   },
   {
    "duration": 11,
    "start_time": "2023-09-30T10:34:52.390Z"
   },
   {
    "duration": 17,
    "start_time": "2023-09-30T10:34:52.402Z"
   },
   {
    "duration": 12,
    "start_time": "2023-09-30T10:34:52.421Z"
   },
   {
    "duration": 26,
    "start_time": "2023-09-30T10:34:52.434Z"
   },
   {
    "duration": 33,
    "start_time": "2023-09-30T10:34:52.462Z"
   },
   {
    "duration": 48,
    "start_time": "2023-09-30T10:34:52.497Z"
   },
   {
    "duration": 8,
    "start_time": "2023-09-30T10:34:52.546Z"
   },
   {
    "duration": 1059,
    "start_time": "2023-09-30T10:34:52.555Z"
   },
   {
    "duration": 102,
    "start_time": "2023-09-30T10:34:53.616Z"
   },
   {
    "duration": 52,
    "start_time": "2023-09-30T10:34:53.719Z"
   },
   {
    "duration": 6,
    "start_time": "2023-09-30T10:34:53.773Z"
   },
   {
    "duration": 16,
    "start_time": "2023-09-30T10:34:53.780Z"
   },
   {
    "duration": 23,
    "start_time": "2023-09-30T10:34:53.798Z"
   },
   {
    "duration": 14,
    "start_time": "2023-09-30T10:34:53.822Z"
   },
   {
    "duration": 17,
    "start_time": "2023-09-30T10:34:53.837Z"
   },
   {
    "duration": 23,
    "start_time": "2023-09-30T10:34:53.856Z"
   },
   {
    "duration": 75,
    "start_time": "2023-09-30T10:34:53.881Z"
   },
   {
    "duration": 5,
    "start_time": "2023-09-30T10:34:53.957Z"
   },
   {
    "duration": 27,
    "start_time": "2023-09-30T10:34:53.963Z"
   },
   {
    "duration": 25,
    "start_time": "2023-09-30T10:34:53.992Z"
   },
   {
    "duration": 40,
    "start_time": "2023-09-30T10:34:54.019Z"
   },
   {
    "duration": 19,
    "start_time": "2023-09-30T10:34:54.061Z"
   },
   {
    "duration": 17,
    "start_time": "2023-09-30T10:34:54.082Z"
   },
   {
    "duration": 95,
    "start_time": "2023-09-30T10:34:54.101Z"
   },
   {
    "duration": 4,
    "start_time": "2023-09-30T10:34:54.198Z"
   },
   {
    "duration": 53,
    "start_time": "2023-09-30T10:34:54.204Z"
   },
   {
    "duration": 40,
    "start_time": "2023-09-30T10:34:54.259Z"
   },
   {
    "duration": 38,
    "start_time": "2023-09-30T10:34:54.300Z"
   },
   {
    "duration": 18,
    "start_time": "2023-09-30T10:34:54.340Z"
   },
   {
    "duration": 6,
    "start_time": "2023-09-30T10:34:54.360Z"
   },
   {
    "duration": 64,
    "start_time": "2023-09-30T10:36:43.630Z"
   },
   {
    "duration": 58,
    "start_time": "2023-09-30T10:36:48.710Z"
   },
   {
    "duration": 73,
    "start_time": "2023-09-30T10:36:57.774Z"
   },
   {
    "duration": 54,
    "start_time": "2023-09-30T10:37:03.671Z"
   },
   {
    "duration": 106,
    "start_time": "2023-09-30T10:37:06.358Z"
   },
   {
    "duration": 58,
    "start_time": "2023-09-30T10:37:09.277Z"
   },
   {
    "duration": 182,
    "start_time": "2023-09-30T10:37:13.693Z"
   },
   {
    "duration": 70,
    "start_time": "2023-09-30T10:37:16.854Z"
   },
   {
    "duration": 66,
    "start_time": "2023-09-30T10:37:22.006Z"
   },
   {
    "duration": 72,
    "start_time": "2023-09-30T10:37:29.974Z"
   },
   {
    "duration": 90,
    "start_time": "2023-09-30T10:37:33.375Z"
   },
   {
    "duration": 84,
    "start_time": "2023-09-30T10:37:44.063Z"
   },
   {
    "duration": 55,
    "start_time": "2023-09-30T10:37:47.631Z"
   },
   {
    "duration": 56,
    "start_time": "2023-09-30T10:37:51.002Z"
   }
  ],
  "kernelspec": {
   "display_name": "Python 3 (ipykernel)",
   "language": "python",
   "name": "python3"
  },
  "language_info": {
   "codemirror_mode": {
    "name": "ipython",
    "version": 3
   },
   "file_extension": ".py",
   "mimetype": "text/x-python",
   "name": "python",
   "nbconvert_exporter": "python",
   "pygments_lexer": "ipython3",
   "version": "3.9.13"
  },
  "toc": {
   "base_numbering": 1,
   "nav_menu": {},
   "number_sections": false,
   "sideBar": true,
   "skip_h1_title": false,
   "title_cell": "Table of Contents",
   "title_sidebar": "Contents",
   "toc_cell": false,
   "toc_position": {
    "height": "calc(100% - 180px)",
    "left": "10px",
    "top": "150px",
    "width": "248.267px"
   },
   "toc_section_display": true,
   "toc_window_display": true
  }
 },
 "nbformat": 4,
 "nbformat_minor": 5
}
