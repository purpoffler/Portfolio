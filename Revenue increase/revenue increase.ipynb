{
 "cells": [
  {
   "cell_type": "markdown",
   "metadata": {},
   "source": [
    "Цели: \n",
    "* Вместе с отделом маркетинга проанализировать список гипотез для увеличения выручки.\n",
    "* Приоритизировать гипотезы, запустить A/B-тест и проанализировать результаты. "
   ]
  },
  {
   "cell_type": "markdown",
   "metadata": {},
   "source": [
    "# Часть 1. Приоритизация гипотез. #"
   ]
  },
  {
   "cell_type": "code",
   "execution_count": 1,
   "metadata": {},
   "outputs": [],
   "source": [
    "import pandas as pd\n",
    "import datetime as dt\n",
    "import numpy as np\n",
    "import matplotlib.pyplot as plt\n",
    "import scipy.stats as stats"
   ]
  },
  {
   "cell_type": "code",
   "execution_count": 2,
   "metadata": {},
   "outputs": [],
   "source": [
    "try:   \n",
    "    df = pd.read_csv('/datasets/hypothesis.csv')\n",
    "\n",
    "except:    \n",
    "    df = pd.read_csv('D:/y_p/13_project/hypothesis.csv')  "
   ]
  },
  {
   "cell_type": "code",
   "execution_count": 3,
   "metadata": {},
   "outputs": [
    {
     "data": {
      "text/html": [
       "<div>\n",
       "<style scoped>\n",
       "    .dataframe tbody tr th:only-of-type {\n",
       "        vertical-align: middle;\n",
       "    }\n",
       "\n",
       "    .dataframe tbody tr th {\n",
       "        vertical-align: top;\n",
       "    }\n",
       "\n",
       "    .dataframe thead th {\n",
       "        text-align: right;\n",
       "    }\n",
       "</style>\n",
       "<table border=\"1\" class=\"dataframe\">\n",
       "  <thead>\n",
       "    <tr style=\"text-align: right;\">\n",
       "      <th></th>\n",
       "      <th>Hypothesis</th>\n",
       "      <th>Reach</th>\n",
       "      <th>Impact</th>\n",
       "      <th>Confidence</th>\n",
       "      <th>Efforts</th>\n",
       "    </tr>\n",
       "  </thead>\n",
       "  <tbody>\n",
       "    <tr>\n",
       "      <th>0</th>\n",
       "      <td>Добавить два новых канала привлечения трафика,...</td>\n",
       "      <td>3</td>\n",
       "      <td>10</td>\n",
       "      <td>8</td>\n",
       "      <td>6</td>\n",
       "    </tr>\n",
       "    <tr>\n",
       "      <th>1</th>\n",
       "      <td>Запустить собственную службу доставки, что сок...</td>\n",
       "      <td>2</td>\n",
       "      <td>5</td>\n",
       "      <td>4</td>\n",
       "      <td>10</td>\n",
       "    </tr>\n",
       "    <tr>\n",
       "      <th>2</th>\n",
       "      <td>Добавить блоки рекомендаций товаров на сайт ин...</td>\n",
       "      <td>8</td>\n",
       "      <td>3</td>\n",
       "      <td>7</td>\n",
       "      <td>3</td>\n",
       "    </tr>\n",
       "    <tr>\n",
       "      <th>3</th>\n",
       "      <td>Изменить структура категорий, что увеличит кон...</td>\n",
       "      <td>8</td>\n",
       "      <td>3</td>\n",
       "      <td>3</td>\n",
       "      <td>8</td>\n",
       "    </tr>\n",
       "    <tr>\n",
       "      <th>4</th>\n",
       "      <td>Изменить цвет фона главной страницы, чтобы уве...</td>\n",
       "      <td>3</td>\n",
       "      <td>1</td>\n",
       "      <td>1</td>\n",
       "      <td>1</td>\n",
       "    </tr>\n",
       "    <tr>\n",
       "      <th>5</th>\n",
       "      <td>Добавить страницу отзывов клиентов о магазине,...</td>\n",
       "      <td>3</td>\n",
       "      <td>2</td>\n",
       "      <td>2</td>\n",
       "      <td>3</td>\n",
       "    </tr>\n",
       "    <tr>\n",
       "      <th>6</th>\n",
       "      <td>Показать на главной странице баннеры с актуаль...</td>\n",
       "      <td>5</td>\n",
       "      <td>3</td>\n",
       "      <td>8</td>\n",
       "      <td>3</td>\n",
       "    </tr>\n",
       "    <tr>\n",
       "      <th>7</th>\n",
       "      <td>Добавить форму подписки на все основные страни...</td>\n",
       "      <td>10</td>\n",
       "      <td>7</td>\n",
       "      <td>8</td>\n",
       "      <td>5</td>\n",
       "    </tr>\n",
       "    <tr>\n",
       "      <th>8</th>\n",
       "      <td>Запустить акцию, дающую скидку на товар в день...</td>\n",
       "      <td>1</td>\n",
       "      <td>9</td>\n",
       "      <td>9</td>\n",
       "      <td>5</td>\n",
       "    </tr>\n",
       "  </tbody>\n",
       "</table>\n",
       "</div>"
      ],
      "text/plain": [
       "                                          Hypothesis  Reach  Impact  \\\n",
       "0  Добавить два новых канала привлечения трафика,...      3      10   \n",
       "1  Запустить собственную службу доставки, что сок...      2       5   \n",
       "2  Добавить блоки рекомендаций товаров на сайт ин...      8       3   \n",
       "3  Изменить структура категорий, что увеличит кон...      8       3   \n",
       "4  Изменить цвет фона главной страницы, чтобы уве...      3       1   \n",
       "5  Добавить страницу отзывов клиентов о магазине,...      3       2   \n",
       "6  Показать на главной странице баннеры с актуаль...      5       3   \n",
       "7  Добавить форму подписки на все основные страни...     10       7   \n",
       "8  Запустить акцию, дающую скидку на товар в день...      1       9   \n",
       "\n",
       "   Confidence  Efforts  \n",
       "0           8        6  \n",
       "1           4       10  \n",
       "2           7        3  \n",
       "3           3        8  \n",
       "4           1        1  \n",
       "5           2        3  \n",
       "6           8        3  \n",
       "7           8        5  \n",
       "8           9        5  "
      ]
     },
     "metadata": {},
     "output_type": "display_data"
    }
   ],
   "source": [
    "display(df)"
   ]
  },
  {
   "cell_type": "markdown",
   "metadata": {},
   "source": [
    "Выполним приоритизацию гипотез, чтобы правильно распределить ресурсы и понять, что стоит тестировать, а что будет невыгодно с точки зрения затрат/влияния на метрики."
   ]
  },
  {
   "cell_type": "markdown",
   "metadata": {},
   "source": [
    "**Применим фреймворк ICE и отсортируйте гипотезы по убыванию приоритета.**"
   ]
  },
  {
   "cell_type": "code",
   "execution_count": 4,
   "metadata": {},
   "outputs": [],
   "source": [
    "pd.set_option('display.max_colwidth', None)"
   ]
  },
  {
   "cell_type": "code",
   "execution_count": 5,
   "metadata": {},
   "outputs": [
    {
     "data": {
      "text/html": [
       "<div>\n",
       "<style scoped>\n",
       "    .dataframe tbody tr th:only-of-type {\n",
       "        vertical-align: middle;\n",
       "    }\n",
       "\n",
       "    .dataframe tbody tr th {\n",
       "        vertical-align: top;\n",
       "    }\n",
       "\n",
       "    .dataframe thead th {\n",
       "        text-align: right;\n",
       "    }\n",
       "</style>\n",
       "<table border=\"1\" class=\"dataframe\">\n",
       "  <thead>\n",
       "    <tr style=\"text-align: right;\">\n",
       "      <th></th>\n",
       "      <th>Hypothesis</th>\n",
       "      <th>ICE</th>\n",
       "    </tr>\n",
       "  </thead>\n",
       "  <tbody>\n",
       "    <tr>\n",
       "      <th>8</th>\n",
       "      <td>Запустить акцию, дающую скидку на товар в день рождения</td>\n",
       "      <td>16.200000</td>\n",
       "    </tr>\n",
       "    <tr>\n",
       "      <th>0</th>\n",
       "      <td>Добавить два новых канала привлечения трафика, что позволит привлекать на 30% больше пользователей</td>\n",
       "      <td>13.333333</td>\n",
       "    </tr>\n",
       "    <tr>\n",
       "      <th>7</th>\n",
       "      <td>Добавить форму подписки на все основные страницы, чтобы собрать базу клиентов для email-рассылок</td>\n",
       "      <td>11.200000</td>\n",
       "    </tr>\n",
       "    <tr>\n",
       "      <th>6</th>\n",
       "      <td>Показать на главной странице баннеры с актуальными акциями и распродажами, чтобы увеличить конверсию</td>\n",
       "      <td>8.000000</td>\n",
       "    </tr>\n",
       "    <tr>\n",
       "      <th>2</th>\n",
       "      <td>Добавить блоки рекомендаций товаров на сайт интернет магазина, чтобы повысить конверсию и средний чек заказа</td>\n",
       "      <td>7.000000</td>\n",
       "    </tr>\n",
       "    <tr>\n",
       "      <th>1</th>\n",
       "      <td>Запустить собственную службу доставки, что сократит срок доставки заказов</td>\n",
       "      <td>2.000000</td>\n",
       "    </tr>\n",
       "    <tr>\n",
       "      <th>5</th>\n",
       "      <td>Добавить страницу отзывов клиентов о магазине, что позволит увеличить количество заказов</td>\n",
       "      <td>1.333333</td>\n",
       "    </tr>\n",
       "    <tr>\n",
       "      <th>3</th>\n",
       "      <td>Изменить структура категорий, что увеличит конверсию, т.к. пользователи быстрее найдут нужный товар</td>\n",
       "      <td>1.125000</td>\n",
       "    </tr>\n",
       "    <tr>\n",
       "      <th>4</th>\n",
       "      <td>Изменить цвет фона главной страницы, чтобы увеличить вовлеченность пользователей</td>\n",
       "      <td>1.000000</td>\n",
       "    </tr>\n",
       "  </tbody>\n",
       "</table>\n",
       "</div>"
      ],
      "text/plain": [
       "                                                                                                     Hypothesis  \\\n",
       "8                                                       Запустить акцию, дающую скидку на товар в день рождения   \n",
       "0            Добавить два новых канала привлечения трафика, что позволит привлекать на 30% больше пользователей   \n",
       "7              Добавить форму подписки на все основные страницы, чтобы собрать базу клиентов для email-рассылок   \n",
       "6          Показать на главной странице баннеры с актуальными акциями и распродажами, чтобы увеличить конверсию   \n",
       "2  Добавить блоки рекомендаций товаров на сайт интернет магазина, чтобы повысить конверсию и средний чек заказа   \n",
       "1                                     Запустить собственную службу доставки, что сократит срок доставки заказов   \n",
       "5                      Добавить страницу отзывов клиентов о магазине, что позволит увеличить количество заказов   \n",
       "3           Изменить структура категорий, что увеличит конверсию, т.к. пользователи быстрее найдут нужный товар   \n",
       "4                              Изменить цвет фона главной страницы, чтобы увеличить вовлеченность пользователей   \n",
       "\n",
       "         ICE  \n",
       "8  16.200000  \n",
       "0  13.333333  \n",
       "7  11.200000  \n",
       "6   8.000000  \n",
       "2   7.000000  \n",
       "1   2.000000  \n",
       "5   1.333333  \n",
       "3   1.125000  \n",
       "4   1.000000  "
      ]
     },
     "metadata": {},
     "output_type": "display_data"
    }
   ],
   "source": [
    "df['ICE'] = df['Impact'] * df['Confidence'] / df['Efforts']\n",
    "display(df.sort_values(by='ICE', ascending=False)[['Hypothesis','ICE']])"
   ]
  },
  {
   "cell_type": "markdown",
   "metadata": {},
   "source": [
    "**Применим фреймворк RICE и отсортируйте гипотезы по убыванию приоритета.**"
   ]
  },
  {
   "cell_type": "code",
   "execution_count": 6,
   "metadata": {
    "scrolled": true
   },
   "outputs": [
    {
     "data": {
      "text/html": [
       "<div>\n",
       "<style scoped>\n",
       "    .dataframe tbody tr th:only-of-type {\n",
       "        vertical-align: middle;\n",
       "    }\n",
       "\n",
       "    .dataframe tbody tr th {\n",
       "        vertical-align: top;\n",
       "    }\n",
       "\n",
       "    .dataframe thead th {\n",
       "        text-align: right;\n",
       "    }\n",
       "</style>\n",
       "<table border=\"1\" class=\"dataframe\">\n",
       "  <thead>\n",
       "    <tr style=\"text-align: right;\">\n",
       "      <th></th>\n",
       "      <th>Hypothesis</th>\n",
       "      <th>RICE</th>\n",
       "    </tr>\n",
       "  </thead>\n",
       "  <tbody>\n",
       "    <tr>\n",
       "      <th>7</th>\n",
       "      <td>Добавить форму подписки на все основные страницы, чтобы собрать базу клиентов для email-рассылок</td>\n",
       "      <td>112.0</td>\n",
       "    </tr>\n",
       "    <tr>\n",
       "      <th>2</th>\n",
       "      <td>Добавить блоки рекомендаций товаров на сайт интернет магазина, чтобы повысить конверсию и средний чек заказа</td>\n",
       "      <td>56.0</td>\n",
       "    </tr>\n",
       "    <tr>\n",
       "      <th>0</th>\n",
       "      <td>Добавить два новых канала привлечения трафика, что позволит привлекать на 30% больше пользователей</td>\n",
       "      <td>40.0</td>\n",
       "    </tr>\n",
       "    <tr>\n",
       "      <th>6</th>\n",
       "      <td>Показать на главной странице баннеры с актуальными акциями и распродажами, чтобы увеличить конверсию</td>\n",
       "      <td>40.0</td>\n",
       "    </tr>\n",
       "    <tr>\n",
       "      <th>8</th>\n",
       "      <td>Запустить акцию, дающую скидку на товар в день рождения</td>\n",
       "      <td>16.2</td>\n",
       "    </tr>\n",
       "    <tr>\n",
       "      <th>3</th>\n",
       "      <td>Изменить структура категорий, что увеличит конверсию, т.к. пользователи быстрее найдут нужный товар</td>\n",
       "      <td>9.0</td>\n",
       "    </tr>\n",
       "    <tr>\n",
       "      <th>1</th>\n",
       "      <td>Запустить собственную службу доставки, что сократит срок доставки заказов</td>\n",
       "      <td>4.0</td>\n",
       "    </tr>\n",
       "    <tr>\n",
       "      <th>5</th>\n",
       "      <td>Добавить страницу отзывов клиентов о магазине, что позволит увеличить количество заказов</td>\n",
       "      <td>4.0</td>\n",
       "    </tr>\n",
       "    <tr>\n",
       "      <th>4</th>\n",
       "      <td>Изменить цвет фона главной страницы, чтобы увеличить вовлеченность пользователей</td>\n",
       "      <td>3.0</td>\n",
       "    </tr>\n",
       "  </tbody>\n",
       "</table>\n",
       "</div>"
      ],
      "text/plain": [
       "                                                                                                     Hypothesis  \\\n",
       "7              Добавить форму подписки на все основные страницы, чтобы собрать базу клиентов для email-рассылок   \n",
       "2  Добавить блоки рекомендаций товаров на сайт интернет магазина, чтобы повысить конверсию и средний чек заказа   \n",
       "0            Добавить два новых канала привлечения трафика, что позволит привлекать на 30% больше пользователей   \n",
       "6          Показать на главной странице баннеры с актуальными акциями и распродажами, чтобы увеличить конверсию   \n",
       "8                                                       Запустить акцию, дающую скидку на товар в день рождения   \n",
       "3           Изменить структура категорий, что увеличит конверсию, т.к. пользователи быстрее найдут нужный товар   \n",
       "1                                     Запустить собственную службу доставки, что сократит срок доставки заказов   \n",
       "5                      Добавить страницу отзывов клиентов о магазине, что позволит увеличить количество заказов   \n",
       "4                              Изменить цвет фона главной страницы, чтобы увеличить вовлеченность пользователей   \n",
       "\n",
       "    RICE  \n",
       "7  112.0  \n",
       "2   56.0  \n",
       "0   40.0  \n",
       "6   40.0  \n",
       "8   16.2  \n",
       "3    9.0  \n",
       "1    4.0  \n",
       "5    4.0  \n",
       "4    3.0  "
      ]
     },
     "metadata": {},
     "output_type": "display_data"
    }
   ],
   "source": [
    "df['RICE'] = df['Reach'] * df['Impact'] * df['Confidence'] / df['Efforts']\n",
    "display(df.sort_values(by='RICE', ascending=False)[['Hypothesis','RICE']])"
   ]
  },
  {
   "cell_type": "markdown",
   "metadata": {},
   "source": [
    "**Промежуточные выводы по 1 части:**<br>\n",
    "Порядок гипотез 6 и 4 не изменился. Во фреймворке ICE первые 5 мест занимали гипотезы 8,0,7,6,2, а в RICE - 7,2,0,6,8. Т.е мы видим закономерность - первые 5 мест расположены в разном порядке, но состав одинаковый.<Br>\n",
    "    \n",
    "Последние 4 места в ICE - 1,5,3,4, в RICE - 3,1,5,4.<Br>\n",
    "    \n",
    "Учитывая результаты обоих фрейворков, я бы советовал тестировать гипотезы в таком порядке (топ 3) - 7,0,2. В основе моего предположения лежит то, что 7 находится на 1 месте в RICE, и на 3 в ICE, т.е 'лучшая', учитывая охват, и в топ 3 без охвата. 0 находится на 2 месте в ICE  и на 3 в RICE. 3 место делится между 2 и 8, но т.к 2-ая гипотеза топ 2 в RICE, будет логичнее выбрать ее. Так же в поддержку своей позиции можно посчитать среднее арифметическое:<Br>\n",
    "    для 7 - ((1 место + 3 место) /2 = 2);<Br>\n",
    "    для 0 гипотезы - 2.5;<Br>\n",
    "    для 2 - 3.5;<Br>\n",
    "    для 6 - 4;<Br>\n",
    "    для 8 - 3;<Br>\n",
    "У 8 гипотезы среднее меньше, чем у 2, но порядок 2 гипотезы учитывает охваты, поэтому я поставил ее раньше 8. Если составлять топ 5, то стоит тестировать гипотезы в таком порядке - 7,0,2,8,6\n",
    "    <Br>  \n",
    "* 7\tДобавить форму подписки на все основные страницы, чтобы собрать базу клиентов для email-рассылок\n",
    "* 0\tДобавить два новых канала привлечения трафика, что позволит привлекать на 30% больше пользователей   \n",
    "* 2\tДобавить блоки рекомендаций товаров на сайт интернет магазина, чтобы повысить конверсию и средний чек заказа \n",
    "*8\tЗапустить акцию, дающую скидку на товар в день рождения        \n",
    "*6\tПоказать на главной странице баннеры с актуальными акциями и распродажами, чтобы увеличить конверсию\t  \n",
    "        \n",
    "4 гипотеза в обоих фреймворках оказалась на последнем месте - ее стоит рассматривать в последнюю очередь.<Br>\n",
    "    \n",
    "Изменения в приоритезации произошли из-за того, что в RICE добавился коэффициент, учитывающий количество пользователей, которых затронет тест.\n",
    "\n"
   ]
  },
  {
   "cell_type": "markdown",
   "metadata": {},
   "source": [
    "# Часть 2. Анализ A/B-теста. #"
   ]
  },
  {
   "cell_type": "code",
   "execution_count": 7,
   "metadata": {},
   "outputs": [],
   "source": [
    "try:\n",
    "    orders = pd.read_csv('/datasets/orders.csv')\n",
    "    visitors = pd.read_csv('/datasets/visitors.csv')\n",
    "except:\n",
    "    orders = pd.read_csv('D:/y_p/13_project/orders.csv')\n",
    "    visitors = pd.read_csv('D:/y_p/13_project/visitors.csv')    "
   ]
  },
  {
   "cell_type": "code",
   "execution_count": 8,
   "metadata": {},
   "outputs": [
    {
     "data": {
      "text/html": [
       "<div>\n",
       "<style scoped>\n",
       "    .dataframe tbody tr th:only-of-type {\n",
       "        vertical-align: middle;\n",
       "    }\n",
       "\n",
       "    .dataframe tbody tr th {\n",
       "        vertical-align: top;\n",
       "    }\n",
       "\n",
       "    .dataframe thead th {\n",
       "        text-align: right;\n",
       "    }\n",
       "</style>\n",
       "<table border=\"1\" class=\"dataframe\">\n",
       "  <thead>\n",
       "    <tr style=\"text-align: right;\">\n",
       "      <th></th>\n",
       "      <th>transactionId</th>\n",
       "      <th>visitorId</th>\n",
       "      <th>date</th>\n",
       "      <th>revenue</th>\n",
       "      <th>group</th>\n",
       "    </tr>\n",
       "  </thead>\n",
       "  <tbody>\n",
       "    <tr>\n",
       "      <th>0</th>\n",
       "      <td>3667963787</td>\n",
       "      <td>3312258926</td>\n",
       "      <td>2019-08-15</td>\n",
       "      <td>1650</td>\n",
       "      <td>B</td>\n",
       "    </tr>\n",
       "    <tr>\n",
       "      <th>1</th>\n",
       "      <td>2804400009</td>\n",
       "      <td>3642806036</td>\n",
       "      <td>2019-08-15</td>\n",
       "      <td>730</td>\n",
       "      <td>B</td>\n",
       "    </tr>\n",
       "    <tr>\n",
       "      <th>2</th>\n",
       "      <td>2961555356</td>\n",
       "      <td>4069496402</td>\n",
       "      <td>2019-08-15</td>\n",
       "      <td>400</td>\n",
       "      <td>A</td>\n",
       "    </tr>\n",
       "    <tr>\n",
       "      <th>3</th>\n",
       "      <td>3797467345</td>\n",
       "      <td>1196621759</td>\n",
       "      <td>2019-08-15</td>\n",
       "      <td>9759</td>\n",
       "      <td>B</td>\n",
       "    </tr>\n",
       "    <tr>\n",
       "      <th>4</th>\n",
       "      <td>2282983706</td>\n",
       "      <td>2322279887</td>\n",
       "      <td>2019-08-15</td>\n",
       "      <td>2308</td>\n",
       "      <td>B</td>\n",
       "    </tr>\n",
       "    <tr>\n",
       "      <th>...</th>\n",
       "      <td>...</td>\n",
       "      <td>...</td>\n",
       "      <td>...</td>\n",
       "      <td>...</td>\n",
       "      <td>...</td>\n",
       "    </tr>\n",
       "    <tr>\n",
       "      <th>1192</th>\n",
       "      <td>2662137336</td>\n",
       "      <td>3733762160</td>\n",
       "      <td>2019-08-14</td>\n",
       "      <td>6490</td>\n",
       "      <td>B</td>\n",
       "    </tr>\n",
       "    <tr>\n",
       "      <th>1193</th>\n",
       "      <td>2203539145</td>\n",
       "      <td>370388673</td>\n",
       "      <td>2019-08-14</td>\n",
       "      <td>3190</td>\n",
       "      <td>A</td>\n",
       "    </tr>\n",
       "    <tr>\n",
       "      <th>1194</th>\n",
       "      <td>1807773912</td>\n",
       "      <td>573423106</td>\n",
       "      <td>2019-08-14</td>\n",
       "      <td>10550</td>\n",
       "      <td>A</td>\n",
       "    </tr>\n",
       "    <tr>\n",
       "      <th>1195</th>\n",
       "      <td>1947021204</td>\n",
       "      <td>1614305549</td>\n",
       "      <td>2019-08-14</td>\n",
       "      <td>100</td>\n",
       "      <td>A</td>\n",
       "    </tr>\n",
       "    <tr>\n",
       "      <th>1196</th>\n",
       "      <td>3936777065</td>\n",
       "      <td>2108080724</td>\n",
       "      <td>2019-08-15</td>\n",
       "      <td>202740</td>\n",
       "      <td>B</td>\n",
       "    </tr>\n",
       "  </tbody>\n",
       "</table>\n",
       "<p>1197 rows × 5 columns</p>\n",
       "</div>"
      ],
      "text/plain": [
       "      transactionId   visitorId        date  revenue group\n",
       "0        3667963787  3312258926  2019-08-15     1650     B\n",
       "1        2804400009  3642806036  2019-08-15      730     B\n",
       "2        2961555356  4069496402  2019-08-15      400     A\n",
       "3        3797467345  1196621759  2019-08-15     9759     B\n",
       "4        2282983706  2322279887  2019-08-15     2308     B\n",
       "...             ...         ...         ...      ...   ...\n",
       "1192     2662137336  3733762160  2019-08-14     6490     B\n",
       "1193     2203539145   370388673  2019-08-14     3190     A\n",
       "1194     1807773912   573423106  2019-08-14    10550     A\n",
       "1195     1947021204  1614305549  2019-08-14      100     A\n",
       "1196     3936777065  2108080724  2019-08-15   202740     B\n",
       "\n",
       "[1197 rows x 5 columns]"
      ]
     },
     "metadata": {},
     "output_type": "display_data"
    },
    {
     "data": {
      "text/html": [
       "<div>\n",
       "<style scoped>\n",
       "    .dataframe tbody tr th:only-of-type {\n",
       "        vertical-align: middle;\n",
       "    }\n",
       "\n",
       "    .dataframe tbody tr th {\n",
       "        vertical-align: top;\n",
       "    }\n",
       "\n",
       "    .dataframe thead th {\n",
       "        text-align: right;\n",
       "    }\n",
       "</style>\n",
       "<table border=\"1\" class=\"dataframe\">\n",
       "  <thead>\n",
       "    <tr style=\"text-align: right;\">\n",
       "      <th></th>\n",
       "      <th>date</th>\n",
       "      <th>group</th>\n",
       "      <th>visitors</th>\n",
       "    </tr>\n",
       "  </thead>\n",
       "  <tbody>\n",
       "    <tr>\n",
       "      <th>0</th>\n",
       "      <td>2019-08-01</td>\n",
       "      <td>A</td>\n",
       "      <td>719</td>\n",
       "    </tr>\n",
       "    <tr>\n",
       "      <th>1</th>\n",
       "      <td>2019-08-02</td>\n",
       "      <td>A</td>\n",
       "      <td>619</td>\n",
       "    </tr>\n",
       "    <tr>\n",
       "      <th>2</th>\n",
       "      <td>2019-08-03</td>\n",
       "      <td>A</td>\n",
       "      <td>507</td>\n",
       "    </tr>\n",
       "    <tr>\n",
       "      <th>3</th>\n",
       "      <td>2019-08-04</td>\n",
       "      <td>A</td>\n",
       "      <td>717</td>\n",
       "    </tr>\n",
       "    <tr>\n",
       "      <th>4</th>\n",
       "      <td>2019-08-05</td>\n",
       "      <td>A</td>\n",
       "      <td>756</td>\n",
       "    </tr>\n",
       "    <tr>\n",
       "      <th>...</th>\n",
       "      <td>...</td>\n",
       "      <td>...</td>\n",
       "      <td>...</td>\n",
       "    </tr>\n",
       "    <tr>\n",
       "      <th>57</th>\n",
       "      <td>2019-08-27</td>\n",
       "      <td>B</td>\n",
       "      <td>720</td>\n",
       "    </tr>\n",
       "    <tr>\n",
       "      <th>58</th>\n",
       "      <td>2019-08-28</td>\n",
       "      <td>B</td>\n",
       "      <td>654</td>\n",
       "    </tr>\n",
       "    <tr>\n",
       "      <th>59</th>\n",
       "      <td>2019-08-29</td>\n",
       "      <td>B</td>\n",
       "      <td>531</td>\n",
       "    </tr>\n",
       "    <tr>\n",
       "      <th>60</th>\n",
       "      <td>2019-08-30</td>\n",
       "      <td>B</td>\n",
       "      <td>490</td>\n",
       "    </tr>\n",
       "    <tr>\n",
       "      <th>61</th>\n",
       "      <td>2019-08-31</td>\n",
       "      <td>B</td>\n",
       "      <td>718</td>\n",
       "    </tr>\n",
       "  </tbody>\n",
       "</table>\n",
       "<p>62 rows × 3 columns</p>\n",
       "</div>"
      ],
      "text/plain": [
       "          date group  visitors\n",
       "0   2019-08-01     A       719\n",
       "1   2019-08-02     A       619\n",
       "2   2019-08-03     A       507\n",
       "3   2019-08-04     A       717\n",
       "4   2019-08-05     A       756\n",
       "..         ...   ...       ...\n",
       "57  2019-08-27     B       720\n",
       "58  2019-08-28     B       654\n",
       "59  2019-08-29     B       531\n",
       "60  2019-08-30     B       490\n",
       "61  2019-08-31     B       718\n",
       "\n",
       "[62 rows x 3 columns]"
      ]
     },
     "metadata": {},
     "output_type": "display_data"
    }
   ],
   "source": [
    "display(orders, visitors)"
   ]
  },
  {
   "cell_type": "markdown",
   "metadata": {},
   "source": [
    "**Выполним проверку на пропуски, дубликаты и преобразуем тип данных в столбцах с датами**"
   ]
  },
  {
   "cell_type": "code",
   "execution_count": 9,
   "metadata": {},
   "outputs": [
    {
     "data": {
      "text/plain": [
       "0"
      ]
     },
     "execution_count": 9,
     "metadata": {},
     "output_type": "execute_result"
    }
   ],
   "source": [
    "orders.duplicated().sum()"
   ]
  },
  {
   "cell_type": "code",
   "execution_count": 10,
   "metadata": {},
   "outputs": [
    {
     "data": {
      "text/plain": [
       "0"
      ]
     },
     "execution_count": 10,
     "metadata": {},
     "output_type": "execute_result"
    }
   ],
   "source": [
    "visitors.duplicated().sum()"
   ]
  },
  {
   "cell_type": "markdown",
   "metadata": {},
   "source": [
    "Дубликатов не обнаружено"
   ]
  },
  {
   "cell_type": "code",
   "execution_count": 11,
   "metadata": {},
   "outputs": [
    {
     "data": {
      "text/plain": [
       "transactionId    0\n",
       "visitorId        0\n",
       "date             0\n",
       "revenue          0\n",
       "group            0\n",
       "dtype: int64"
      ]
     },
     "execution_count": 11,
     "metadata": {},
     "output_type": "execute_result"
    }
   ],
   "source": [
    "orders.isna().sum()"
   ]
  },
  {
   "cell_type": "code",
   "execution_count": 12,
   "metadata": {},
   "outputs": [
    {
     "data": {
      "text/plain": [
       "transactionId    0\n",
       "visitorId        0\n",
       "date             0\n",
       "revenue          0\n",
       "group            0\n",
       "dtype: int64"
      ]
     },
     "execution_count": 12,
     "metadata": {},
     "output_type": "execute_result"
    }
   ],
   "source": [
    "orders.isna().sum()"
   ]
  },
  {
   "cell_type": "markdown",
   "metadata": {},
   "source": [
    "Пропусков тоже нет"
   ]
  },
  {
   "cell_type": "code",
   "execution_count": 13,
   "metadata": {},
   "outputs": [
    {
     "name": "stdout",
     "output_type": "stream",
     "text": [
      "<class 'pandas.core.frame.DataFrame'>\n",
      "RangeIndex: 62 entries, 0 to 61\n",
      "Data columns (total 3 columns):\n",
      " #   Column    Non-Null Count  Dtype \n",
      "---  ------    --------------  ----- \n",
      " 0   date      62 non-null     object\n",
      " 1   group     62 non-null     object\n",
      " 2   visitors  62 non-null     int64 \n",
      "dtypes: int64(1), object(2)\n",
      "memory usage: 1.6+ KB\n"
     ]
    }
   ],
   "source": [
    "visitors.info()"
   ]
  },
  {
   "cell_type": "code",
   "execution_count": 14,
   "metadata": {
    "scrolled": false
   },
   "outputs": [
    {
     "name": "stdout",
     "output_type": "stream",
     "text": [
      "<class 'pandas.core.frame.DataFrame'>\n",
      "RangeIndex: 1197 entries, 0 to 1196\n",
      "Data columns (total 5 columns):\n",
      " #   Column         Non-Null Count  Dtype \n",
      "---  ------         --------------  ----- \n",
      " 0   transactionId  1197 non-null   int64 \n",
      " 1   visitorId      1197 non-null   int64 \n",
      " 2   date           1197 non-null   object\n",
      " 3   revenue        1197 non-null   int64 \n",
      " 4   group          1197 non-null   object\n",
      "dtypes: int64(3), object(2)\n",
      "memory usage: 46.9+ KB\n"
     ]
    }
   ],
   "source": [
    "orders.info()"
   ]
  },
  {
   "cell_type": "code",
   "execution_count": 15,
   "metadata": {},
   "outputs": [],
   "source": [
    "visitors['date'] = pd.to_datetime(visitors['date'])"
   ]
  },
  {
   "cell_type": "code",
   "execution_count": 16,
   "metadata": {},
   "outputs": [],
   "source": [
    "orders['date'] = pd.to_datetime(orders['date'])"
   ]
  },
  {
   "cell_type": "markdown",
   "metadata": {},
   "source": [
    "**2.1 Строим графики кумулятивной выручки по группам.**"
   ]
  },
  {
   "cell_type": "markdown",
   "metadata": {},
   "source": [
    "Создадим массив уникальных пар значений дат и групп теста методом"
   ]
  },
  {
   "cell_type": "code",
   "execution_count": 17,
   "metadata": {},
   "outputs": [],
   "source": [
    "dates_groups = orders[['date','group']].drop_duplicates() "
   ]
  },
  {
   "cell_type": "markdown",
   "metadata": {},
   "source": [
    "Соберём агрегированные кумулятивные по дням данные о заказах в несколько действий. "
   ]
  },
  {
   "cell_type": "markdown",
   "metadata": {},
   "source": []
  },
  {
   "cell_type": "code",
   "execution_count": 18,
   "metadata": {},
   "outputs": [
    {
     "data": {
      "text/html": [
       "<div>\n",
       "<style scoped>\n",
       "    .dataframe tbody tr th:only-of-type {\n",
       "        vertical-align: middle;\n",
       "    }\n",
       "\n",
       "    .dataframe tbody tr th {\n",
       "        vertical-align: top;\n",
       "    }\n",
       "\n",
       "    .dataframe thead th {\n",
       "        text-align: right;\n",
       "    }\n",
       "</style>\n",
       "<table border=\"1\" class=\"dataframe\">\n",
       "  <thead>\n",
       "    <tr style=\"text-align: right;\">\n",
       "      <th></th>\n",
       "      <th>date</th>\n",
       "      <th>group</th>\n",
       "      <th>transactionId</th>\n",
       "      <th>visitorId</th>\n",
       "      <th>revenue</th>\n",
       "    </tr>\n",
       "  </thead>\n",
       "  <tbody>\n",
       "    <tr>\n",
       "      <th>55</th>\n",
       "      <td>2019-08-01</td>\n",
       "      <td>A</td>\n",
       "      <td>24</td>\n",
       "      <td>20</td>\n",
       "      <td>148579</td>\n",
       "    </tr>\n",
       "    <tr>\n",
       "      <th>66</th>\n",
       "      <td>2019-08-01</td>\n",
       "      <td>B</td>\n",
       "      <td>21</td>\n",
       "      <td>20</td>\n",
       "      <td>101217</td>\n",
       "    </tr>\n",
       "    <tr>\n",
       "      <th>175</th>\n",
       "      <td>2019-08-02</td>\n",
       "      <td>A</td>\n",
       "      <td>44</td>\n",
       "      <td>38</td>\n",
       "      <td>242401</td>\n",
       "    </tr>\n",
       "    <tr>\n",
       "      <th>173</th>\n",
       "      <td>2019-08-02</td>\n",
       "      <td>B</td>\n",
       "      <td>45</td>\n",
       "      <td>43</td>\n",
       "      <td>266748</td>\n",
       "    </tr>\n",
       "    <tr>\n",
       "      <th>291</th>\n",
       "      <td>2019-08-03</td>\n",
       "      <td>A</td>\n",
       "      <td>68</td>\n",
       "      <td>62</td>\n",
       "      <td>354874</td>\n",
       "    </tr>\n",
       "    <tr>\n",
       "      <th>...</th>\n",
       "      <td>...</td>\n",
       "      <td>...</td>\n",
       "      <td>...</td>\n",
       "      <td>...</td>\n",
       "      <td>...</td>\n",
       "    </tr>\n",
       "    <tr>\n",
       "      <th>496</th>\n",
       "      <td>2019-08-29</td>\n",
       "      <td>B</td>\n",
       "      <td>596</td>\n",
       "      <td>544</td>\n",
       "      <td>5559398</td>\n",
       "    </tr>\n",
       "    <tr>\n",
       "      <th>730</th>\n",
       "      <td>2019-08-30</td>\n",
       "      <td>A</td>\n",
       "      <td>545</td>\n",
       "      <td>493</td>\n",
       "      <td>4022970</td>\n",
       "    </tr>\n",
       "    <tr>\n",
       "      <th>690</th>\n",
       "      <td>2019-08-30</td>\n",
       "      <td>B</td>\n",
       "      <td>620</td>\n",
       "      <td>567</td>\n",
       "      <td>5774631</td>\n",
       "    </tr>\n",
       "    <tr>\n",
       "      <th>958</th>\n",
       "      <td>2019-08-31</td>\n",
       "      <td>A</td>\n",
       "      <td>557</td>\n",
       "      <td>503</td>\n",
       "      <td>4084803</td>\n",
       "    </tr>\n",
       "    <tr>\n",
       "      <th>930</th>\n",
       "      <td>2019-08-31</td>\n",
       "      <td>B</td>\n",
       "      <td>640</td>\n",
       "      <td>586</td>\n",
       "      <td>5907760</td>\n",
       "    </tr>\n",
       "  </tbody>\n",
       "</table>\n",
       "<p>62 rows × 5 columns</p>\n",
       "</div>"
      ],
      "text/plain": [
       "          date group  transactionId  visitorId  revenue\n",
       "55  2019-08-01     A             24         20   148579\n",
       "66  2019-08-01     B             21         20   101217\n",
       "175 2019-08-02     A             44         38   242401\n",
       "173 2019-08-02     B             45         43   266748\n",
       "291 2019-08-03     A             68         62   354874\n",
       "..         ...   ...            ...        ...      ...\n",
       "496 2019-08-29     B            596        544  5559398\n",
       "730 2019-08-30     A            545        493  4022970\n",
       "690 2019-08-30     B            620        567  5774631\n",
       "958 2019-08-31     A            557        503  4084803\n",
       "930 2019-08-31     B            640        586  5907760\n",
       "\n",
       "[62 rows x 5 columns]"
      ]
     },
     "metadata": {},
     "output_type": "display_data"
    }
   ],
   "source": [
    "ordersAggregated = dates_groups.apply(lambda x: orders[np.logical_and(orders['date'] <= x['date'], orders['group'] == x['group'])]\\\n",
    ".agg({'date' : 'max',\n",
    "      'group' : 'max',\n",
    "      'transactionId' : 'nunique',\n",
    "      'visitorId' : 'nunique',\n",
    "      'revenue' : 'sum'}), axis=1).sort_values(by=['date','group'])\n",
    "display(ordersAggregated)"
   ]
  },
  {
   "cell_type": "markdown",
   "metadata": {},
   "source": [
    "Аналогично получим агрегированные кумулятивные по дням данные о посетителях интернет-магазина: "
   ]
  },
  {
   "cell_type": "code",
   "execution_count": 19,
   "metadata": {},
   "outputs": [
    {
     "data": {
      "text/html": [
       "<div>\n",
       "<style scoped>\n",
       "    .dataframe tbody tr th:only-of-type {\n",
       "        vertical-align: middle;\n",
       "    }\n",
       "\n",
       "    .dataframe tbody tr th {\n",
       "        vertical-align: top;\n",
       "    }\n",
       "\n",
       "    .dataframe thead th {\n",
       "        text-align: right;\n",
       "    }\n",
       "</style>\n",
       "<table border=\"1\" class=\"dataframe\">\n",
       "  <thead>\n",
       "    <tr style=\"text-align: right;\">\n",
       "      <th></th>\n",
       "      <th>date</th>\n",
       "      <th>group</th>\n",
       "      <th>visitors</th>\n",
       "    </tr>\n",
       "  </thead>\n",
       "  <tbody>\n",
       "    <tr>\n",
       "      <th>55</th>\n",
       "      <td>2019-08-01</td>\n",
       "      <td>A</td>\n",
       "      <td>719</td>\n",
       "    </tr>\n",
       "    <tr>\n",
       "      <th>66</th>\n",
       "      <td>2019-08-01</td>\n",
       "      <td>B</td>\n",
       "      <td>713</td>\n",
       "    </tr>\n",
       "    <tr>\n",
       "      <th>175</th>\n",
       "      <td>2019-08-02</td>\n",
       "      <td>A</td>\n",
       "      <td>1338</td>\n",
       "    </tr>\n",
       "    <tr>\n",
       "      <th>173</th>\n",
       "      <td>2019-08-02</td>\n",
       "      <td>B</td>\n",
       "      <td>1294</td>\n",
       "    </tr>\n",
       "    <tr>\n",
       "      <th>291</th>\n",
       "      <td>2019-08-03</td>\n",
       "      <td>A</td>\n",
       "      <td>1845</td>\n",
       "    </tr>\n",
       "    <tr>\n",
       "      <th>...</th>\n",
       "      <td>...</td>\n",
       "      <td>...</td>\n",
       "      <td>...</td>\n",
       "    </tr>\n",
       "    <tr>\n",
       "      <th>496</th>\n",
       "      <td>2019-08-29</td>\n",
       "      <td>B</td>\n",
       "      <td>17708</td>\n",
       "    </tr>\n",
       "    <tr>\n",
       "      <th>730</th>\n",
       "      <td>2019-08-30</td>\n",
       "      <td>A</td>\n",
       "      <td>18037</td>\n",
       "    </tr>\n",
       "    <tr>\n",
       "      <th>690</th>\n",
       "      <td>2019-08-30</td>\n",
       "      <td>B</td>\n",
       "      <td>18198</td>\n",
       "    </tr>\n",
       "    <tr>\n",
       "      <th>958</th>\n",
       "      <td>2019-08-31</td>\n",
       "      <td>A</td>\n",
       "      <td>18736</td>\n",
       "    </tr>\n",
       "    <tr>\n",
       "      <th>930</th>\n",
       "      <td>2019-08-31</td>\n",
       "      <td>B</td>\n",
       "      <td>18916</td>\n",
       "    </tr>\n",
       "  </tbody>\n",
       "</table>\n",
       "<p>62 rows × 3 columns</p>\n",
       "</div>"
      ],
      "text/plain": [
       "          date group  visitors\n",
       "55  2019-08-01     A       719\n",
       "66  2019-08-01     B       713\n",
       "175 2019-08-02     A      1338\n",
       "173 2019-08-02     B      1294\n",
       "291 2019-08-03     A      1845\n",
       "..         ...   ...       ...\n",
       "496 2019-08-29     B     17708\n",
       "730 2019-08-30     A     18037\n",
       "690 2019-08-30     B     18198\n",
       "958 2019-08-31     A     18736\n",
       "930 2019-08-31     B     18916\n",
       "\n",
       "[62 rows x 3 columns]"
      ]
     },
     "metadata": {},
     "output_type": "display_data"
    }
   ],
   "source": [
    "visitorsAggregated = dates_groups.apply(lambda x: visitors[np.logical_and(visitors['date'] <= x['date'], visitors['group'] == x['group'])]\\\n",
    ".agg({'date' : 'max',\n",
    "      'group' : 'max',\n",
    "      'visitors' : 'sum'}), axis=1).sort_values(by=['date','group'])\n",
    "display(visitorsAggregated)"
   ]
  },
  {
   "cell_type": "markdown",
   "metadata": {},
   "source": []
  },
  {
   "cell_type": "code",
   "execution_count": 20,
   "metadata": {
    "scrolled": false
   },
   "outputs": [
    {
     "name": "stdout",
     "output_type": "stream",
     "text": [
      "        date group  orders  buyers  revenue  visitors\n",
      "0 2019-08-01     A      24      20   148579       719\n",
      "1 2019-08-01     B      21      20   101217       713\n",
      "2 2019-08-02     A      44      38   242401      1338\n",
      "3 2019-08-02     B      45      43   266748      1294\n",
      "4 2019-08-03     A      68      62   354874      1845\n"
     ]
    }
   ],
   "source": [
    "cumulativeData = ordersAggregated.merge(visitorsAggregated, left_on=['date', 'group'], right_on=['date', 'group'])\n",
    "cumulativeData.columns = ['date', 'group', 'orders', 'buyers', 'revenue', 'visitors']\n",
    "\n",
    "print(cumulativeData.head(5)) "
   ]
  },
  {
   "cell_type": "markdown",
   "metadata": {},
   "source": [
    "**Проверим, совпадают ли даты в агрегированной таблице, и в \"сырых\" данных**"
   ]
  },
  {
   "cell_type": "code",
   "execution_count": 21,
   "metadata": {},
   "outputs": [
    {
     "data": {
      "text/html": [
       "<div>\n",
       "<style scoped>\n",
       "    .dataframe tbody tr th:only-of-type {\n",
       "        vertical-align: middle;\n",
       "    }\n",
       "\n",
       "    .dataframe tbody tr th {\n",
       "        vertical-align: top;\n",
       "    }\n",
       "\n",
       "    .dataframe thead th {\n",
       "        text-align: right;\n",
       "    }\n",
       "</style>\n",
       "<table border=\"1\" class=\"dataframe\">\n",
       "  <thead>\n",
       "    <tr style=\"text-align: right;\">\n",
       "      <th></th>\n",
       "      <th>date</th>\n",
       "    </tr>\n",
       "  </thead>\n",
       "  <tbody>\n",
       "    <tr>\n",
       "      <th>max</th>\n",
       "      <td>2019-08-31</td>\n",
       "    </tr>\n",
       "    <tr>\n",
       "      <th>min</th>\n",
       "      <td>2019-08-01</td>\n",
       "    </tr>\n",
       "  </tbody>\n",
       "</table>\n",
       "</div>"
      ],
      "text/plain": [
       "          date\n",
       "max 2019-08-31\n",
       "min 2019-08-01"
      ]
     },
     "execution_count": 21,
     "metadata": {},
     "output_type": "execute_result"
    }
   ],
   "source": [
    "cumulativeData.agg({'date':['max','min']})"
   ]
  },
  {
   "cell_type": "code",
   "execution_count": 22,
   "metadata": {},
   "outputs": [
    {
     "data": {
      "text/html": [
       "<div>\n",
       "<style scoped>\n",
       "    .dataframe tbody tr th:only-of-type {\n",
       "        vertical-align: middle;\n",
       "    }\n",
       "\n",
       "    .dataframe tbody tr th {\n",
       "        vertical-align: top;\n",
       "    }\n",
       "\n",
       "    .dataframe thead th {\n",
       "        text-align: right;\n",
       "    }\n",
       "</style>\n",
       "<table border=\"1\" class=\"dataframe\">\n",
       "  <thead>\n",
       "    <tr style=\"text-align: right;\">\n",
       "      <th></th>\n",
       "      <th>date</th>\n",
       "    </tr>\n",
       "  </thead>\n",
       "  <tbody>\n",
       "    <tr>\n",
       "      <th>max</th>\n",
       "      <td>2019-08-31</td>\n",
       "    </tr>\n",
       "    <tr>\n",
       "      <th>min</th>\n",
       "      <td>2019-08-01</td>\n",
       "    </tr>\n",
       "  </tbody>\n",
       "</table>\n",
       "</div>"
      ],
      "text/plain": [
       "          date\n",
       "max 2019-08-31\n",
       "min 2019-08-01"
      ]
     },
     "execution_count": 22,
     "metadata": {},
     "output_type": "execute_result"
    }
   ],
   "source": [
    "orders.agg({'date':['max','min']})"
   ]
  },
  {
   "cell_type": "code",
   "execution_count": 23,
   "metadata": {},
   "outputs": [
    {
     "data": {
      "text/html": [
       "<div>\n",
       "<style scoped>\n",
       "    .dataframe tbody tr th:only-of-type {\n",
       "        vertical-align: middle;\n",
       "    }\n",
       "\n",
       "    .dataframe tbody tr th {\n",
       "        vertical-align: top;\n",
       "    }\n",
       "\n",
       "    .dataframe thead th {\n",
       "        text-align: right;\n",
       "    }\n",
       "</style>\n",
       "<table border=\"1\" class=\"dataframe\">\n",
       "  <thead>\n",
       "    <tr style=\"text-align: right;\">\n",
       "      <th></th>\n",
       "      <th>date</th>\n",
       "    </tr>\n",
       "  </thead>\n",
       "  <tbody>\n",
       "    <tr>\n",
       "      <th>max</th>\n",
       "      <td>2019-08-31</td>\n",
       "    </tr>\n",
       "    <tr>\n",
       "      <th>min</th>\n",
       "      <td>2019-08-01</td>\n",
       "    </tr>\n",
       "  </tbody>\n",
       "</table>\n",
       "</div>"
      ],
      "text/plain": [
       "          date\n",
       "max 2019-08-31\n",
       "min 2019-08-01"
      ]
     },
     "execution_count": 23,
     "metadata": {},
     "output_type": "execute_result"
    }
   ],
   "source": [
    "visitors.agg({'date':['max','min']})"
   ]
  },
  {
   "cell_type": "markdown",
   "metadata": {},
   "source": [
    "Даты совпадают, все впорядке"
   ]
  },
  {
   "cell_type": "markdown",
   "metadata": {},
   "source": [
    "**Строим графики кумулятивной выручки по группам.**"
   ]
  },
  {
   "cell_type": "markdown",
   "metadata": {},
   "source": []
  },
  {
   "cell_type": "code",
   "execution_count": 32,
   "metadata": {
    "scrolled": false
   },
   "outputs": [
    {
     "data": {
      "image/png": "[encoded data removed]",
      "text/plain": [
       "<Figure size 1500x1000 with 1 Axes>"
      ]
     },
     "metadata": {},
     "output_type": "display_data"
    }
   ],
   "source": [
    "plt.figure(figsize=(15,10))\n",
    "\n",
    "#делим пользователей на группы\n",
    "cumulativeRevenueA = cumulativeData[cumulativeData['group']=='A'][['date','revenue', 'orders']]\n",
    "cumulativeRevenueB = cumulativeData[cumulativeData['group']=='B'][['date','revenue', 'orders']]\n",
    "\n",
    "plt.title(\"График коммулятивной выручки по группам\")\n",
    "plt.xlabel(\"Дата\")\n",
    "plt.ylabel(\"Кумулятивная выручка\")\n",
    "plt.plot(cumulativeRevenueA['date'], cumulativeRevenueA['revenue'], label='A')\n",
    "plt.plot(cumulativeRevenueB['date'], cumulativeRevenueB['revenue'], label='B')\n",
    "plt.legend()\n",
    "plt.xticks(rotation = 60);"
   ]
  },
  {
   "cell_type": "markdown",
   "metadata": {},
   "source": [
    "График выручки группы А стабильно растет, а график группы В в точке 2019-08-18 показывает взрывой рост. Это может быть следствием скачка числа заказов или о появлении очень дорогих заказов (выбросы)."
   ]
  },
  {
   "cell_type": "markdown",
   "metadata": {},
   "source": [
    "**2.2 Построим графики среднего чека по группам — разделим кумулятивную выручку на кумулятивное число заказов:**"
   ]
  },
  {
   "cell_type": "code",
   "execution_count": 34,
   "metadata": {},
   "outputs": [
    {
     "data": {
      "image/png": "[encoded data removed]",
      "text/plain": [
       "<Figure size 1500x1000 with 1 Axes>"
      ]
     },
     "metadata": {},
     "output_type": "display_data"
    }
   ],
   "source": [
    "plt.figure(figsize=(15,10))\n",
    "\n",
    "#для каждой группы считаем средний чек\n",
    "plt.title(\"График среднего чека по группам\")\n",
    "plt.xlabel(\"Дата\")\n",
    "plt.ylabel(\"Средний чек\")\n",
    "plt.plot(cumulativeRevenueA['date'], cumulativeRevenueA['revenue']/cumulativeRevenueA['orders'], label='A')\n",
    "plt.plot(cumulativeRevenueB['date'], cumulativeRevenueB['revenue']/cumulativeRevenueB['orders'], label='B')\n",
    "\n",
    "plt.xticks(rotation = 60) \n",
    "\n",
    "plt.legend();\n"
   ]
  },
  {
   "cell_type": "markdown",
   "metadata": {},
   "source": [
    "К концу теста средний чек группы А становится равномернее, а в начале происходит резкое снижение. У группы Б наблюдается резкий скачок в точке 2019-08-18 а потом снижение. Нужно больше данных по группе Б, чтобы график стал равномернее и приблизился к реальному среднему значению."
   ]
  },
  {
   "cell_type": "markdown",
   "metadata": {},
   "source": [
    "**2.3 Построим график относительного изменения кумулятивного среднего чека группы B к группе A**"
   ]
  },
  {
   "cell_type": "code",
   "execution_count": 39,
   "metadata": {},
   "outputs": [
    {
     "data": {
      "image/png": "[encoded data removed]",
      "text/plain": [
       "<Figure size 1500x1000 with 1 Axes>"
      ]
     },
     "metadata": {},
     "output_type": "display_data"
    }
   ],
   "source": [
    "# собираем данные в одном датафрейме\n",
    "mergedCumulativeRevenue = cumulativeRevenueA.merge(cumulativeRevenueB, left_on='date', right_on='date', how='left', suffixes=['A', 'B'])\n",
    "plt.figure(figsize=(15,10))\n",
    "# находим отношение средних чеков\n",
    "plt.title(\"График относительного изменения кумулятивного среднего чека группы B к группе A\")\n",
    "plt.xlabel(\"Дата\")\n",
    "plt.plot(mergedCumulativeRevenue['date'], (mergedCumulativeRevenue['revenueB']/mergedCumulativeRevenue['ordersB'])/(mergedCumulativeRevenue['revenueA']/mergedCumulativeRevenue['ordersA'])-1)\n",
    "plt.xticks(rotation = 60) \n",
    "plt.axhline(y=0, color='black', linestyle='--');\n"
   ]
  },
  {
   "cell_type": "markdown",
   "metadata": {},
   "source": [
    "График несколько раз пересекает 0 - скачет между сигментами - это сигнализирует о наличии выбросов. Однако группа B практически всегда выигрывает группу А"
   ]
  },
  {
   "cell_type": "markdown",
   "metadata": {},
   "source": [
    "**2.4. Построим график кумулятивного среднего количества заказов на посетителя по группам.**"
   ]
  },
  {
   "cell_type": "code",
   "execution_count": 45,
   "metadata": {
    "scrolled": false
   },
   "outputs": [
    {
     "data": {
      "image/png": "[encoded data removed]",
      "text/plain": [
       "<Figure size 1500x1000 with 1 Axes>"
      ]
     },
     "metadata": {},
     "output_type": "display_data"
    }
   ],
   "source": [
    "plt.figure(figsize=(15,10))\n",
    "# добавляем столбец с конверсией (Количество заказов/количество пользователей)\n",
    "cumulativeData['conversion'] = cumulativeData['orders']/cumulativeData['visitors']\n",
    "\n",
    "# вычисляем конверсию для каждой группы\n",
    "\n",
    "cumulativeDataA = cumulativeData[cumulativeData['group']=='A']\n",
    "cumulativeDataB = cumulativeData[cumulativeData['group']=='B']\n",
    "\n",
    "# строим график для каждой группы\n",
    "plt.title(\"График кумулятивного среднего количества заказов на посетителя по группам\")\n",
    "plt.xlabel(\"Дата\")\n",
    "plt.ylabel(\"Среднего количество заказов на посетителя\")\n",
    "plt.plot(cumulativeDataA['date'], cumulativeDataA['conversion'], label='A')\n",
    "plt.plot(cumulativeDataB['date'], cumulativeDataB['conversion'], label='B')\n",
    "plt.legend()\n",
    "plt.xticks(rotation = 60) \n",
    "\n",
    "plt.axis([cumulativeDataA['date'].min(), cumulativeDataA['date'].max(),0 , 0.06]);"
   ]
  },
  {
   "cell_type": "markdown",
   "metadata": {},
   "source": [
    "К концу теста среднее количество заказов на посетителя группы В вырвалась вперед и стабилизировалась, а среднее количество заказов на посетителя группы А снизилась и тоже стабилизорвалась."
   ]
  },
  {
   "cell_type": "markdown",
   "metadata": {},
   "source": [
    "**2.5 Построим график относительного изменения кумулятивного среднего количества заказов на посетителя группы B к группе A** "
   ]
  },
  {
   "cell_type": "code",
   "execution_count": 58,
   "metadata": {
    "scrolled": false
   },
   "outputs": [
    {
     "data": {
      "image/png": "[encoded data removed]",
      "text/plain": [
       "<Figure size 1500x1000 with 1 Axes>"
      ]
     },
     "metadata": {},
     "output_type": "display_data"
    }
   ],
   "source": [
    "plt.figure(figsize=(15,10))\n",
    "#Собираем данные в один датафрейм\n",
    "mergedCumulativeConversions = cumulativeDataA[['date','conversion']].merge(cumulativeDataB[['date','conversion']], left_on='date', right_on='date', how='left', suffixes=['A', 'B'])\n",
    "#Строим график отноистельного изменеия среднего количества заказов на посетителя группы B к А\n",
    "plt.plot(mergedCumulativeConversions['date'], mergedCumulativeConversions['conversionB']/mergedCumulativeConversions['conversionA']-1, label=\"Относительный прирост конверсии группы B относительно группы A\")\n",
    "\n",
    "plt.title(\"График относительного изменения кумулятивного среднего количества заказов на посетителя группы\")\n",
    "plt.xlabel(\"Дата\")\n",
    "\n",
    "plt.legend()\n",
    "\n",
    "plt.xticks(rotation = 60) \n",
    "plt.axhline(y=0, color='black', linestyle='--')\n",
    "plt.axhline(y=0.13, color='grey', linestyle='--')\n",
    "plt.axis([cumulativeDataA['date'].min(), cumulativeDataA['date'].max(), -0.6, 0.6]);"
   ]
  },
  {
   "cell_type": "markdown",
   "metadata": {},
   "source": [
    "В начале теста мы видим некоторые колебания, но потом среднее количество заказов на посетителя группы Б вырывается вперед и на протяжении всего теста стабильно лучше конверсии группы А."
   ]
  },
  {
   "cell_type": "code",
   "execution_count": 55,
   "metadata": {},
   "outputs": [
    {
     "name": "stdout",
     "output_type": "stream",
     "text": [
      "          userId  orders\n",
      "1023  4256040402      11\n",
      "591   2458001652      11\n",
      "569   2378935119       9\n",
      "487   2038680547       8\n",
      "44     199603092       5\n",
      "744   3062433592       5\n",
      "55     237748145       5\n",
      "917   3803269165       5\n",
      "299   1230306981       5\n",
      "897   3717692402       5\n"
     ]
    }
   ],
   "source": [
    "#подсчитаем количество заказов по пользователям\n",
    "ordersByUsers = (\n",
    "    orders.groupby('visitorId', as_index=False)\n",
    "    .agg({'transactionId': 'nunique'})\n",
    ")\n",
    "\n",
    "ordersByUsers.columns = ['userId', 'orders']\n",
    "\n",
    "print(ordersByUsers.sort_values(by='orders', ascending=False).head(10)) "
   ]
  },
  {
   "cell_type": "markdown",
   "metadata": {},
   "source": [
    "**2.6 Построим точечный график количества заказов по пользователям**"
   ]
  },
  {
   "cell_type": "code",
   "execution_count": 71,
   "metadata": {},
   "outputs": [
    {
     "data": {
      "image/png": "[encoded data removed]",
      "text/plain": [
       "<Figure size 1000x800 with 1 Axes>"
      ]
     },
     "metadata": {},
     "output_type": "display_data"
    }
   ],
   "source": [
    "x_values = pd.Series(range(0,len(ordersByUsers)))\n",
    "plt.figure(figsize=(10,8))\n",
    "plt.title(\"Точечный график количества заказов по пользователям\")\n",
    "plt.xlabel(\"Дата\")\n",
    "plt.ylabel(\"Идентификатор пользователя\")\n",
    "plt.scatter(x_values, ordersByUsers['orders']);"
   ]
  },
  {
   "cell_type": "code",
   "execution_count": 73,
   "metadata": {},
   "outputs": [
    {
     "data": {
      "image/png": "[encoded data removed]",
      "text/plain": [
       "<Figure size 1000x800 with 1 Axes>"
      ]
     },
     "metadata": {},
     "output_type": "display_data"
    }
   ],
   "source": [
    "x_values = pd.Series(range(0,len(ordersByUsers)))\n",
    "plt.figure(figsize=(10,8))\n",
    "plt.title(\"Точечный график количества заказов по пользователям\")\n",
    "plt.xlabel(\"Дата\")\n",
    "plt.ylabel(\"Идентификатор пользователя\")\n",
    "plt.ylim(0,4)\n",
    "plt.scatter(x_values, ordersByUsers['orders']);"
   ]
  },
  {
   "cell_type": "markdown",
   "metadata": {},
   "source": [
    "По графику видно, что есть небольшое количество аномально больших заказов. Чтобы отсеять крайние значения посчитаем 95-й и 99-й процентили."
   ]
  },
  {
   "cell_type": "markdown",
   "metadata": {},
   "source": [
    "**2.7 Посчитаем 95-й и 99-й перцентили количества заказов на пользователя.**"
   ]
  },
  {
   "cell_type": "code",
   "execution_count": 59,
   "metadata": {},
   "outputs": [
    {
     "name": "stdout",
     "output_type": "stream",
     "text": [
      "[2. 4.]\n"
     ]
    }
   ],
   "source": [
    "print(np.percentile(ordersByUsers['orders'], [95, 99]))"
   ]
  },
  {
   "cell_type": "markdown",
   "metadata": {},
   "source": [
    "Делаем вывод, что у 99% пользователей количество заказов равно 4, у 95% - 2. Выбираем верхнюю границу - 2 заказа."
   ]
  },
  {
   "cell_type": "markdown",
   "metadata": {},
   "source": [
    "**2.8 Построим точечный график стоимостей заказов.**"
   ]
  },
  {
   "cell_type": "code",
   "execution_count": 74,
   "metadata": {},
   "outputs": [
    {
     "data": {
      "image/png": "[encoded data removed]",
      "text/plain": [
       "<Figure size 640x480 with 1 Axes>"
      ]
     },
     "metadata": {},
     "output_type": "display_data"
    }
   ],
   "source": [
    "x_values = pd.Series(range(0,len(orders['revenue'])))\n",
    "plt.title(\"Точечный график стоимостей заказов\")\n",
    "plt.xlabel(\"Дата\")\n",
    "plt.ylabel(\"Выручка\")\n",
    "plt.scatter(x_values, orders['revenue']*10**-1);"
   ]
  },
  {
   "cell_type": "code",
   "execution_count": 79,
   "metadata": {},
   "outputs": [
    {
     "data": {
      "image/png": "[encoded data removed]",
      "text/plain": [
       "<Figure size 1000x800 with 1 Axes>"
      ]
     },
     "metadata": {},
     "output_type": "display_data"
    }
   ],
   "source": [
    "x_values = pd.Series(range(0,len(orders['revenue'])))\n",
    "plt.figure(figsize=(10,8))\n",
    "plt.title(\"Точечный график стоимостей заказов\")\n",
    "plt.xlabel(\"Идентификатор заказа\")\n",
    "plt.ylabel(\"Выручка\")\n",
    "plt.ylim(0,20000)\n",
    "\n",
    "plt.scatter(x_values, orders['revenue']*10**-1);"
   ]
  },
  {
   "cell_type": "markdown",
   "metadata": {},
   "source": [
    "По графику видно, что существуют заказы с огромной стоимостью, но, в основном, все заказы находятся до 20000."
   ]
  },
  {
   "cell_type": "markdown",
   "metadata": {},
   "source": [
    "**2.9 Посчитайте 95-й и 99-й перцентили стоимости заказов.**"
   ]
  },
  {
   "cell_type": "code",
   "execution_count": 80,
   "metadata": {},
   "outputs": [
    {
     "name": "stdout",
     "output_type": "stream",
     "text": [
      "[28000.  58233.2]\n"
     ]
    }
   ],
   "source": [
    "print(np.percentile(orders['revenue'], [95, 99]))"
   ]
  },
  {
   "cell_type": "markdown",
   "metadata": {},
   "source": [
    "Лишь 5% процентов заказов имеют стоимость выше 28000, и всего лишь 1% больше 58233. Выбираем верхнюю границу стоимости заказов - 28000."
   ]
  },
  {
   "cell_type": "markdown",
   "metadata": {},
   "source": [
    "**2.10 Посчитаем статистическую значимость различий в среднем количестве заказов на посетителя между группами по «сырым» данным**"
   ]
  },
  {
   "cell_type": "markdown",
   "metadata": {},
   "source": [
    "Сформулируем нулевую h0 и альтернативную h1 теории.<br>\n",
    "\n",
    "* Нулевая гипотеза: Статистически значимых различий в среднем количестве заказов на посетителя между группами по 'сырым' данным нет.\n",
    "\n",
    "* Альтернативная гипотеза: Статистически значимые различия в среднем количестве заказов на посетителя  между группами по 'сырым' данным есть\n",
    "\n",
    "Установим уровень статистической значимости 0.05. Выбираем непараметрический U-критерий Манна-Уитни для независимых выборок, из-за того, что в данных присутствуют выбросы, которые могут сдвинуть результат параметического метода."
   ]
  },
  {
   "cell_type": "code",
   "execution_count": 113,
   "metadata": {},
   "outputs": [
    {
     "name": "stdout",
     "output_type": "stream",
     "text": [
      "        date  ordersPerDateA  revenuePerDateA  ordersPerDateB  \\\n",
      "0 2019-08-01              24           148579              20   \n",
      "1 2019-08-02              20            93822              23   \n",
      "2 2019-08-03              24           112473              16   \n",
      "3 2019-08-04              16            70825              16   \n",
      "4 2019-08-05              25           124218              23   \n",
      "\n",
      "   revenuePerDateB  ordersCummulativeA  revenueCummulativeA  \\\n",
      "0           101217                  24               148579   \n",
      "1           165531                  44               242401   \n",
      "2           114248                  68               354874   \n",
      "3           108571                  84               425699   \n",
      "4            92428                 109               549917   \n",
      "\n",
      "   ordersCummulativeB  revenueCummulativeB  visitorsPerDateA  \\\n",
      "0                  20               101217               719   \n",
      "1                  43               266748               619   \n",
      "2                  59               380996               507   \n",
      "3                  75               489567               717   \n",
      "4                  98               581995               756   \n",
      "\n",
      "   visitorsPerDateB  visitorsCummulativeA  visitorsCummulativeB  \n",
      "0               713                   719                   713  \n",
      "1               581                  1338                  1294  \n",
      "2               509                  1845                  1803  \n",
      "3               770                  2562                  2573  \n",
      "4               707                  3318                  3280  \n"
     ]
    }
   ],
   "source": [
    "visitorsADaily = visitors[visitors['group'] == 'A'][['date', 'visitors']]\n",
    "visitorsADaily.columns = ['date', 'visitorsPerDateA']\n",
    "\n",
    "\n",
    "ordersADaily = (\n",
    "    orders[orders['group'] == 'A'][['date', 'transactionId', 'visitorId', 'revenue']]\n",
    "    .groupby('date', as_index=False)\n",
    "    .agg({'transactionId': pd.Series.nunique, 'revenue': 'sum'})\n",
    ")\n",
    "ordersADaily.columns = ['date', 'ordersPerDateA', 'revenuePerDateA']\n",
    "\n",
    "ordersACummulative = ordersADaily.apply(\n",
    "    lambda x: ordersADaily[ordersADaily['date'] <= x['date']].agg(\n",
    "        {'date': 'max', 'ordersPerDateA': 'sum', 'revenuePerDateA': 'sum'}\n",
    "    ),\n",
    "    axis=1,\n",
    ").sort_values(by=['date'])\n",
    "ordersACummulative.columns = [\n",
    "    'date',\n",
    "    'ordersCummulativeA',\n",
    "    'revenueCummulativeA',\n",
    "]\n",
    "\n",
    "ordersBDaily = (\n",
    "    orders[orders['group'] == 'B'][['date', 'transactionId', 'visitorId', 'revenue']]\n",
    "    .groupby('date', as_index=False)\n",
    "    .agg({'visitorId': pd.Series.nunique, 'revenue': 'sum'})\n",
    ")\n",
    "ordersBDaily.columns = ['date', 'ordersPerDateB', 'revenuePerDateB']\n",
    "\n",
    "ordersBCummulative = ordersBDaily.apply(\n",
    "    lambda x: ordersBDaily[ordersBDaily['date'] <= x['date']].agg(\n",
    "        {'date': 'max', 'ordersPerDateB': 'sum', 'revenuePerDateB': 'sum'}\n",
    "    ),\n",
    "    axis=1,\n",
    ").sort_values(by=['date'])\n",
    "ordersBCummulative.columns = [\n",
    "    'date',\n",
    "    'ordersCummulativeB',\n",
    "    'revenueCummulativeB',\n",
    "]\n",
    "\n",
    "data = (\n",
    "    ordersADaily.merge(\n",
    "        ordersBDaily, left_on='date', right_on='date', how='left'\n",
    "    )\n",
    "    .merge(ordersACummulative, left_on='date', right_on='date', how='left')\n",
    "    .merge(ordersBCummulative, left_on='date', right_on='date', how='left')\n",
    "    .merge(visitorsADaily, left_on='date', right_on='date', how='left')\n",
    "    .merge(visitorsBDaily, left_on='date', right_on='date', how='left')\n",
    "    .merge(visitorsACummulative, left_on='date', right_on='date', how='left')\n",
    "    .merge(visitorsBCummulative, left_on='date', right_on='date', how='left')\n",
    ")\n",
    "\n",
    "print(data.head(5)) "
   ]
  },
  {
   "cell_type": "markdown",
   "metadata": {},
   "source": [
    "**Создаем переменные в которых пользователи, которые заказывали хотя бы 1 раз, укажем число совершённых заказов.** "
   ]
  },
  {
   "cell_type": "code",
   "execution_count": 114,
   "metadata": {},
   "outputs": [],
   "source": [
    "ordersByUsersA = (\n",
    "    orders[orders['group'] == 'A']\n",
    "    .groupby('visitorId', as_index=False)\n",
    "    .agg({'transactionId': pd.Series.nunique})\n",
    ")\n",
    "ordersByUsersA.columns = ['userId', 'orders']\n",
    "\n",
    "ordersByUsersB = (\n",
    "    orders[orders['group'] == 'B']\n",
    "    .groupby('visitorId', as_index=False)\n",
    "    .agg({'transactionId': pd.Series.nunique})\n",
    ")\n",
    "ordersByUsersB.columns = ['userId', 'orders']"
   ]
  },
  {
   "cell_type": "markdown",
   "metadata": {},
   "source": [
    "**Создадим переменные, в которых пользователям будет соотвествовать количество заказов, если заказов нет, то будет 0.**"
   ]
  },
  {
   "cell_type": "code",
   "execution_count": 115,
   "metadata": {},
   "outputs": [
    {
     "name": "stdout",
     "output_type": "stream",
     "text": [
      "0.017 - p-value\n",
      "0.138 - Относительный прирост среднего количества товаром на посетителя группы В к группе А\n"
     ]
    }
   ],
   "source": [
    "sampleA = pd.concat(\n",
    "    [\n",
    "        ordersByUsersA['orders'],\n",
    "        pd.Series(\n",
    "            0,\n",
    "            index=np.arange(\n",
    "                data['visitorsPerDateA'].sum() - len(ordersByUsersA['orders'])\n",
    "            ),\n",
    "            name='orders',\n",
    "        ),\n",
    "    ],\n",
    "    axis=0,\n",
    ")\n",
    "\n",
    "sampleB = pd.concat(\n",
    "    [\n",
    "        ordersByUsersB['orders'],\n",
    "        pd.Series(\n",
    "            0,\n",
    "            index=np.arange(\n",
    "                data['visitorsPerDateB'].sum() - len(ordersByUsersB['orders'])\n",
    "            ),\n",
    "            name='orders',\n",
    "        ),\n",
    "    ],\n",
    "    axis=0,\n",
    ")\n",
    "\n",
    "print(\"{0:.3f}\".format(stats.mannwhitneyu(sampleA, sampleB)[1]), '- p-value')\n",
    "\n",
    "print(\"{0:.3f}\".format(sampleB.mean() / sampleA.mean() - 1), '- Относительный прирост среднего количества товаром на посетителя группы В к группе А')"
   ]
  },
  {
   "cell_type": "markdown",
   "metadata": {},
   "source": [
    "1) P-value = 0.017 - это меньше, чем уровень значимости = 0.05. Значит, отвергаем нулевую гипотезу (есть статистически значимые различия), и принимаем альтернативную - различия в среднем между группами есть. <br> \n",
    "2) Относительный прирост среднего количества товаров на посетителя группы B к группе А равен 13.8%."
   ]
  },
  {
   "cell_type": "markdown",
   "metadata": {},
   "source": [
    "**2.11 Посчитаем статистическую значимость различий в среднем чеке заказа между группами по «сырым» данным.**"
   ]
  },
  {
   "cell_type": "markdown",
   "metadata": {},
   "source": [
    "Сформулируем нулевую h0 и альтернативную h1 теории.<br>\n",
    "\n",
    "* Нулевая гипотеза: Статистически значимых различий в среднем чеке между группами по 'сырым' данным нет.\n",
    "\n",
    "* Альтернативная гипотеза: Статистически значимые различия в среднем чеке  между группами по 'сырым' данным есть\n",
    "\n",
    "Установим уровень статистической значимости 0.05. Выбираем непараметрический U-критерий Манна-Уитни для независимых выборок, из-за того, что в данных присутствуют выбросы, которые могут сдвинуть результат параметического метода."
   ]
  },
  {
   "cell_type": "code",
   "execution_count": 116,
   "metadata": {},
   "outputs": [
    {
     "name": "stdout",
     "output_type": "stream",
     "text": [
      "0.729 - p-value\n",
      "0.259 - Относительный прирост среднего количества товаров на посетителя группы B к группе А\n"
     ]
    }
   ],
   "source": [
    "print('{0:.3f}'.format(stats.mannwhitneyu(orders[orders['group']=='A']['revenue'], orders[orders['group']=='B']['revenue'])[1]), '- p-value')\n",
    "print('{0:.3f}'.format(orders[orders['group']=='B']['revenue'].mean()/orders[orders['group']=='A']['revenue'].mean()-1)\\\n",
    "      ,'- Относительный прирост среднего количества товаров на посетителя группы B к группе А')"
   ]
  },
  {
   "cell_type": "markdown",
   "metadata": {},
   "source": [
    "1) P-value = 0.729 - это значительно больше, чем уровень значимости = 0.05. Значит, нет причин отвергать нулевую гипотезу, т.к. между группами нет статистически значимой разницы.<br>\n",
    "2) Относительный прирост среднего количества товаров на посетителя группы B к группе А равен 25.9%."
   ]
  },
  {
   "cell_type": "markdown",
   "metadata": {},
   "source": []
  },
  {
   "cell_type": "markdown",
   "metadata": {},
   "source": [
    "**2.12 Посчитайте статистическую значимость различий в среднем количестве заказов на посетителя между группами по «очищенным» данным.**"
   ]
  },
  {
   "cell_type": "markdown",
   "metadata": {},
   "source": [
    "Сформулируем нулевую h0 и альтернативную h1 теории.<br>\n",
    "\n",
    "* Нулевая гипотеза: Статистически значимых различий в среднем количестве заказов на посетителя между группами по 'очищенным' данным нет.\n",
    "\n",
    "* Альтернативная гипотеза: Статистически значимые различия в среднем количестве заказов на посетителя  между группами по 'оищенным' данным есть\n",
    "\n",
    "Установим уровень статистической значимости 0.05. Выбираем непараметрический U-критерий Манна-Уитни для независимых выборок, из-за того, что в данных присутствуют выбросы, которые могут сдвинуть результат параметического метода."
   ]
  },
  {
   "cell_type": "code",
   "execution_count": 117,
   "metadata": {},
   "outputs": [
    {
     "name": "stdout",
     "output_type": "stream",
     "text": [
      "858     192721366\n",
      "18      199603092\n",
      "23      237748145\n",
      "37      249864742\n",
      "1099    316924019\n",
      "dtype: int64\n",
      "80\n"
     ]
    }
   ],
   "source": [
    "usersWithManyOrders = pd.concat(\n",
    "    [\n",
    "        ordersByUsersA[ordersByUsersA['orders'] > int(np.percentile(ordersByUsers['orders'], [95]))]['userId'],\n",
    "        ordersByUsersB[ordersByUsersB['orders'] > int(np.percentile(ordersByUsers['orders'], [95]))]['userId'],\n",
    "    ],\n",
    "    axis=0,\n",
    ")\n",
    "usersWithExpensiveOrders = orders[orders['revenue'] > int(np.percentile(orders['revenue'], [95]))]['transactionId']\n",
    "abnormalUsers = (\n",
    "    pd.concat([usersWithManyOrders, usersWithExpensiveOrders], axis=0)\n",
    "    .drop_duplicates()\n",
    "    .sort_values()\n",
    ")\n",
    "print(abnormalUsers.head(5))\n",
    "print(abnormalUsers.shape[0])"
   ]
  },
  {
   "cell_type": "code",
   "execution_count": 118,
   "metadata": {},
   "outputs": [],
   "source": [
    "sampleAFiltered = pd.concat(\n",
    "    [\n",
    "        ordersByUsersA[\n",
    "            np.logical_not(ordersByUsersA['userId'].isin(abnormalUsers))\n",
    "        ]['orders'],\n",
    "        pd.Series(\n",
    "            0,\n",
    "            index=np.arange(\n",
    "                data['visitorsPerDateA'].sum() - len(ordersByUsersA['orders'])\n",
    "            ),\n",
    "            name='orders',\n",
    "        ),\n",
    "    ],\n",
    "    axis=0,\n",
    ")\n",
    "\n",
    "sampleBFiltered = pd.concat(\n",
    "    [\n",
    "        ordersByUsersB[\n",
    "            np.logical_not(ordersByUsersB['userId'].isin(abnormalUsers))\n",
    "        ]['orders'],\n",
    "        pd.Series(\n",
    "            0,\n",
    "            index=np.arange(\n",
    "                data['visitorsPerDateB'].sum() - len(ordersByUsersB['orders'])\n",
    "            ),\n",
    "            name=b'orders',\n",
    "        ),\n",
    "    ],\n",
    "    axis=0,\n",
    ")"
   ]
  },
  {
   "cell_type": "code",
   "execution_count": 119,
   "metadata": {},
   "outputs": [
    {
     "name": "stdout",
     "output_type": "stream",
     "text": [
      "0.012 - p-value\n",
      "0.170 - Относительный прирост среднего количества товаров на посетителя группы B к группе А\n"
     ]
    }
   ],
   "source": [
    "print('{0:.3f}'.format(stats.mannwhitneyu(sampleAFiltered, sampleBFiltered)[1]), '- p-value')\n",
    "print('{0:.3f}'.format(sampleBFiltered.mean()/sampleAFiltered.mean()-1), '- Относительный прирост среднего количества товаров на посетителя группы B к группе А')"
   ]
  },
  {
   "cell_type": "markdown",
   "metadata": {},
   "source": [
    "1) P-value = 0.012 - это меньше, чем уровень значимости = 0.05. Значит, отвергаем нулевую гипотезу (есть статистически значимые различия), и принимаем альтернативную - различия в среднем между группами есть. <br>\n",
    "2) Относительный прирост среднего количества товаров на посетителя группы B к группе А равен 17%."
   ]
  },
  {
   "cell_type": "markdown",
   "metadata": {},
   "source": []
  },
  {
   "cell_type": "markdown",
   "metadata": {},
   "source": [
    "**2.13. Посчитайте статистическую значимость различий в среднем чеке заказа между группами по «очищенным» данным.**"
   ]
  },
  {
   "cell_type": "markdown",
   "metadata": {},
   "source": [
    "Сформулируем нулевую h0 и альтернативную h1 теории.<br>\n",
    "\n",
    "* Нулевая гипотеза: Статистически значимых различий в среднем чеке между группами по 'очищенным' данным нет.\n",
    "\n",
    "* Альтернативная гипотеза: Статистически значимые различия в среднем чеке  между группами по 'очищенным' данным есть\n",
    "\n",
    "Установим уровень статистической значимости 0.05. Выбираем непараметрический U-критерий Манна-Уитни для независимых выборок, из-за того, что в данных присутствуют выбросы, которые могут сдвинуть результат параметического метода."
   ]
  },
  {
   "cell_type": "code",
   "execution_count": 120,
   "metadata": {},
   "outputs": [
    {
     "name": "stdout",
     "output_type": "stream",
     "text": [
      "0.661 - p-value\n",
      "0.234 - Относительный прирост среднего количества товаров на посетителя группы B к группе А\n"
     ]
    }
   ],
   "source": [
    "print(\n",
    "    '{0:.3f}'.format(\n",
    "        stats.mannwhitneyu(\n",
    "            orders[\n",
    "                np.logical_and(\n",
    "                    orders['group'] == 'A',\n",
    "                    np.logical_not(orders['visitorId'].isin(abnormalUsers)),\n",
    "                )\n",
    "            ]['revenue'],\n",
    "            orders[\n",
    "                np.logical_and(\n",
    "                    orders['group'] == 'B',\n",
    "                    np.logical_not(orders['visitorId'].isin(abnormalUsers)),\n",
    "                )\n",
    "            ]['revenue'],\n",
    "        )[1]\n",
    "    ), '- p-value'\n",
    ")\n",
    "\n",
    "print(\n",
    "    \"{0:.3f}\".format(\n",
    "        orders[\n",
    "            np.logical_and(\n",
    "                orders['group'] == 'B',\n",
    "                np.logical_not(orders['visitorId'].isin(abnormalUsers)),\n",
    "            )\n",
    "        ]['revenue'].mean()\n",
    "        / orders[\n",
    "            np.logical_and(\n",
    "                orders['group'] == 'A',\n",
    "                np.logical_not(orders['visitorId'].isin(abnormalUsers)),\n",
    "            )\n",
    "        ]['revenue'].mean()\n",
    "        - 1\n",
    "    ), '- Относительный прирост среднего количества товаров на посетителя группы B к группе А'\n",
    ")"
   ]
  },
  {
   "cell_type": "markdown",
   "metadata": {},
   "source": [
    "1) P-value = 0.661 - это значительно больше, чем уровень значимости = 0.05. Значит, нет причин отвергать нулевую теорию, т.к. между группами нет статистически значимой разницы.<br>\n",
    "2) Относительный прирост среднего количества товаров на посетителя группы B к группе А равен 23.4%."
   ]
  },
  {
   "cell_type": "markdown",
   "metadata": {},
   "source": [
    "**Посчитаем процент потерь данных**"
   ]
  },
  {
   "cell_type": "code",
   "execution_count": 121,
   "metadata": {},
   "outputs": [
    {
     "data": {
      "text/plain": [
       "(1031, 2)"
      ]
     },
     "execution_count": 121,
     "metadata": {},
     "output_type": "execute_result"
    }
   ],
   "source": [
    "ordersByUsers.shape"
   ]
  },
  {
   "cell_type": "code",
   "execution_count": 122,
   "metadata": {},
   "outputs": [
    {
     "data": {
      "text/plain": [
       "(80,)"
      ]
     },
     "execution_count": 122,
     "metadata": {},
     "output_type": "execute_result"
    }
   ],
   "source": [
    "abnormalUsers.shape"
   ]
  },
  {
   "cell_type": "code",
   "execution_count": 123,
   "metadata": {},
   "outputs": [
    {
     "data": {
      "text/plain": [
       "1031"
      ]
     },
     "execution_count": 123,
     "metadata": {},
     "output_type": "execute_result"
    }
   ],
   "source": [
    "ordersByUsers.nunique()['userId']"
   ]
  },
  {
   "cell_type": "code",
   "execution_count": 124,
   "metadata": {},
   "outputs": [
    {
     "data": {
      "text/plain": [
       "array([7.75945684])"
      ]
     },
     "execution_count": 124,
     "metadata": {},
     "output_type": "execute_result"
    }
   ],
   "source": [
    "abnormalUsers.shape/(ordersByUsers.nunique()['userId'])*100"
   ]
  },
  {
   "cell_type": "markdown",
   "metadata": {},
   "source": [
    "Процент потерь после 'очистки' от аномалий - 7.56 %."
   ]
  },
  {
   "cell_type": "markdown",
   "metadata": {},
   "source": [
    "**2.14 Резултаты теста**"
   ]
  },
  {
   "cell_type": "markdown",
   "metadata": {},
   "source": [
    "По результатам теста:<br>\n",
    "* Наблюдаем статистически значимую разницу в среднем количестве заказов на пользователя между групами как по 'сырым', так и по 'очищенным данным'\n",
    "* Не наблюдается статистически значимых различий в среднем чеке заказа между группами как по 'сырым', так и по 'очищенным данным'.\n",
    "* График среднего чека группы B к группе A - сигнализирует о наличии выбросов. Однако группа B практически всегда выигрывает группу А\n",
    "* График среднего количества заказов на посетителя группы B к группе A - среднее количество заказов на посетителя для группы Б вырывается вперед и на протяжении всего теста стабильно лучше конверсии группы А.   "
   ]
  },
  {
   "cell_type": "markdown",
   "metadata": {},
   "source": [
    "Исходя из обнаруженных фактов, можно остановить тест и признать его успешным. Т.к сегмент B стабильно оказывается 'лучше', чем А (и по среднему чеку, и по количеству заказов на посетителя). Разница между заказами оказалась статистически значимой, а вот средний чек не отличается - пользователи из группы B делают больше заказов, но средний чек остается неизменным."
   ]
  },
  {
   "cell_type": "markdown",
   "metadata": {},
   "source": []
  }
 ],
 "metadata": {
  "ExecuteTimeLog": [
   {
    "duration": 456,
    "start_time": "2023-01-26T18:54:53.077Z"
   },
   {
    "duration": 9,
    "start_time": "2023-01-26T18:55:01.015Z"
   },
   {
    "duration": 13,
    "start_time": "2023-01-26T18:55:37.261Z"
   },
   {
    "duration": 166,
    "start_time": "2023-01-26T18:56:32.843Z"
   },
   {
    "duration": 66,
    "start_time": "2023-01-26T18:56:51.618Z"
   },
   {
    "duration": 61,
    "start_time": "2023-01-26T18:56:56.035Z"
   },
   {
    "duration": 16,
    "start_time": "2023-01-26T18:56:56.996Z"
   },
   {
    "duration": 65,
    "start_time": "2023-01-28T13:20:29.952Z"
   },
   {
    "duration": 459,
    "start_time": "2023-01-28T13:20:34.585Z"
   },
   {
    "duration": 15,
    "start_time": "2023-01-28T13:20:35.046Z"
   },
   {
    "duration": 31,
    "start_time": "2023-01-28T13:20:38.264Z"
   },
   {
    "duration": 14,
    "start_time": "2023-01-28T13:20:49.336Z"
   },
   {
    "duration": 10,
    "start_time": "2023-01-28T13:20:56.065Z"
   },
   {
    "duration": 11,
    "start_time": "2023-01-28T13:21:10.324Z"
   },
   {
    "duration": 11,
    "start_time": "2023-01-28T13:23:17.432Z"
   },
   {
    "duration": 14,
    "start_time": "2023-01-28T13:35:08.941Z"
   },
   {
    "duration": 9,
    "start_time": "2023-01-28T13:36:02.000Z"
   },
   {
    "duration": 18,
    "start_time": "2023-01-28T13:36:02.701Z"
   },
   {
    "duration": 3,
    "start_time": "2023-01-28T13:36:19.832Z"
   },
   {
    "duration": 12,
    "start_time": "2023-01-28T13:36:20.141Z"
   },
   {
    "duration": 3,
    "start_time": "2023-01-28T13:37:21.197Z"
   },
   {
    "duration": 17,
    "start_time": "2023-01-28T13:37:21.613Z"
   },
   {
    "duration": 13,
    "start_time": "2023-01-28T13:37:23.328Z"
   },
   {
    "duration": 517,
    "start_time": "2023-01-28T13:37:35.922Z"
   },
   {
    "duration": 17,
    "start_time": "2023-01-28T13:37:36.441Z"
   },
   {
    "duration": 3,
    "start_time": "2023-01-28T13:37:36.461Z"
   },
   {
    "duration": 21,
    "start_time": "2023-01-28T13:37:36.467Z"
   },
   {
    "duration": 24,
    "start_time": "2023-01-28T13:37:36.491Z"
   },
   {
    "duration": 205,
    "start_time": "2023-01-28T13:55:12.337Z"
   },
   {
    "duration": 31,
    "start_time": "2023-01-28T13:55:14.002Z"
   },
   {
    "duration": 4,
    "start_time": "2023-01-28T14:54:50.451Z"
   },
   {
    "duration": 547,
    "start_time": "2023-01-28T14:54:56.099Z"
   },
   {
    "duration": 476,
    "start_time": "2023-01-28T14:55:28.751Z"
   },
   {
    "duration": 30,
    "start_time": "2023-01-28T14:55:29.236Z"
   },
   {
    "duration": 3,
    "start_time": "2023-01-28T14:55:29.270Z"
   },
   {
    "duration": 12,
    "start_time": "2023-01-28T14:55:29.276Z"
   },
   {
    "duration": 23,
    "start_time": "2023-01-28T14:55:29.291Z"
   },
   {
    "duration": 87,
    "start_time": "2023-01-28T14:55:29.318Z"
   },
   {
    "duration": 30,
    "start_time": "2023-01-28T14:55:29.407Z"
   },
   {
    "duration": 542,
    "start_time": "2023-01-28T14:55:29.439Z"
   },
   {
    "duration": 423,
    "start_time": "2023-01-28T14:56:06.146Z"
   },
   {
    "duration": 8,
    "start_time": "2023-01-28T14:57:46.339Z"
   },
   {
    "duration": 9,
    "start_time": "2023-01-28T14:58:32.845Z"
   },
   {
    "duration": 38,
    "start_time": "2023-01-28T15:00:35.388Z"
   },
   {
    "duration": 29,
    "start_time": "2023-01-28T15:03:16.658Z"
   },
   {
    "duration": 23,
    "start_time": "2023-01-28T15:03:30.442Z"
   },
   {
    "duration": 35,
    "start_time": "2023-01-28T15:04:46.429Z"
   },
   {
    "duration": 198,
    "start_time": "2023-01-28T15:05:06.147Z"
   },
   {
    "duration": 481,
    "start_time": "2023-01-28T15:06:32.202Z"
   },
   {
    "duration": 424,
    "start_time": "2023-01-28T15:08:31.840Z"
   },
   {
    "duration": 14,
    "start_time": "2023-01-28T15:08:32.266Z"
   },
   {
    "duration": 8,
    "start_time": "2023-01-28T15:08:32.282Z"
   },
   {
    "duration": 44,
    "start_time": "2023-01-28T15:08:32.293Z"
   },
   {
    "duration": 35,
    "start_time": "2023-01-28T15:08:32.343Z"
   },
   {
    "duration": 92,
    "start_time": "2023-01-28T15:08:32.379Z"
   },
   {
    "duration": 18,
    "start_time": "2023-01-28T15:08:32.473Z"
   },
   {
    "duration": 6,
    "start_time": "2023-01-28T15:08:32.492Z"
   },
   {
    "duration": 221,
    "start_time": "2023-01-28T15:08:32.499Z"
   },
   {
    "duration": 131,
    "start_time": "2023-01-28T15:08:32.723Z"
   },
   {
    "duration": 134,
    "start_time": "2023-01-28T15:09:04.634Z"
   },
   {
    "duration": 22,
    "start_time": "2023-01-28T15:09:35.748Z"
   },
   {
    "duration": 1010,
    "start_time": "2023-01-28T15:10:03.548Z"
   },
   {
    "duration": 17,
    "start_time": "2023-01-28T15:10:04.564Z"
   },
   {
    "duration": 9,
    "start_time": "2023-01-28T15:10:04.583Z"
   },
   {
    "duration": 55,
    "start_time": "2023-01-28T15:10:04.594Z"
   },
   {
    "duration": 16,
    "start_time": "2023-01-28T15:10:04.651Z"
   },
   {
    "duration": 87,
    "start_time": "2023-01-28T15:10:04.669Z"
   },
   {
    "duration": 23,
    "start_time": "2023-01-28T15:10:04.758Z"
   },
   {
    "duration": 9,
    "start_time": "2023-01-28T15:10:04.783Z"
   },
   {
    "duration": 194,
    "start_time": "2023-01-28T15:10:04.794Z"
   },
   {
    "duration": 144,
    "start_time": "2023-01-28T15:10:04.990Z"
   },
   {
    "duration": 15,
    "start_time": "2023-01-28T15:10:05.141Z"
   },
   {
    "duration": 314,
    "start_time": "2023-01-28T15:10:49.742Z"
   },
   {
    "duration": 322,
    "start_time": "2023-01-28T15:11:08.990Z"
   },
   {
    "duration": 306,
    "start_time": "2023-01-28T15:11:21.487Z"
   },
   {
    "duration": 448,
    "start_time": "2023-01-28T15:11:53.391Z"
   },
   {
    "duration": 274,
    "start_time": "2023-01-28T15:14:20.189Z"
   },
   {
    "duration": 335,
    "start_time": "2023-01-28T15:15:27.738Z"
   },
   {
    "duration": 311,
    "start_time": "2023-01-28T15:16:32.282Z"
   },
   {
    "duration": 428,
    "start_time": "2023-01-28T15:16:37.257Z"
   },
   {
    "duration": 404,
    "start_time": "2023-01-28T15:16:42.132Z"
   },
   {
    "duration": 533,
    "start_time": "2023-01-28T15:16:44.964Z"
   },
   {
    "duration": 217,
    "start_time": "2023-01-28T15:16:50.023Z"
   },
   {
    "duration": 406,
    "start_time": "2023-01-28T15:17:27.129Z"
   },
   {
    "duration": 288,
    "start_time": "2023-01-28T15:17:33.301Z"
   },
   {
    "duration": 399,
    "start_time": "2023-01-28T15:17:43.094Z"
   },
   {
    "duration": 535,
    "start_time": "2023-01-28T15:18:05.832Z"
   },
   {
    "duration": 582,
    "start_time": "2023-01-28T15:18:23.444Z"
   },
   {
    "duration": 360,
    "start_time": "2023-01-28T15:18:55.593Z"
   },
   {
    "duration": 473,
    "start_time": "2023-01-28T15:19:05.164Z"
   },
   {
    "duration": 559,
    "start_time": "2023-01-28T15:19:13.080Z"
   },
   {
    "duration": 463,
    "start_time": "2023-01-28T15:19:17.736Z"
   },
   {
    "duration": 511,
    "start_time": "2023-01-28T15:19:23.432Z"
   },
   {
    "duration": 517,
    "start_time": "2023-01-28T15:19:28.923Z"
   },
   {
    "duration": 395,
    "start_time": "2023-01-28T15:19:37.481Z"
   },
   {
    "duration": 349,
    "start_time": "2023-01-28T15:19:40.556Z"
   },
   {
    "duration": 363,
    "start_time": "2023-01-28T15:19:47.402Z"
   },
   {
    "duration": 10,
    "start_time": "2023-01-28T15:22:05.658Z"
   },
   {
    "duration": 1701,
    "start_time": "2023-01-28T15:22:10.452Z"
   },
   {
    "duration": 111,
    "start_time": "2023-01-28T15:23:46.348Z"
   },
   {
    "duration": 438,
    "start_time": "2023-01-28T15:23:54.055Z"
   },
   {
    "duration": 398,
    "start_time": "2023-01-28T15:23:58.560Z"
   },
   {
    "duration": 376,
    "start_time": "2023-01-28T15:24:02.032Z"
   },
   {
    "duration": 5,
    "start_time": "2023-01-28T15:27:23.687Z"
   },
   {
    "duration": 4,
    "start_time": "2023-01-28T15:27:47.659Z"
   },
   {
    "duration": 11,
    "start_time": "2023-01-28T15:29:11.222Z"
   },
   {
    "duration": 16,
    "start_time": "2023-01-28T15:29:38.875Z"
   },
   {
    "duration": 20,
    "start_time": "2023-01-28T15:30:02.297Z"
   },
   {
    "duration": 10,
    "start_time": "2023-01-28T15:30:08.856Z"
   },
   {
    "duration": 119,
    "start_time": "2023-01-28T15:30:19.828Z"
   },
   {
    "duration": 117,
    "start_time": "2023-01-28T15:30:26.210Z"
   },
   {
    "duration": 124,
    "start_time": "2023-01-28T15:30:35.017Z"
   },
   {
    "duration": 5,
    "start_time": "2023-01-28T15:30:42.988Z"
   },
   {
    "duration": 12,
    "start_time": "2023-01-28T15:30:56.902Z"
   },
   {
    "duration": 389,
    "start_time": "2023-01-28T15:53:27.024Z"
   },
   {
    "duration": 413,
    "start_time": "2023-01-28T15:53:33.736Z"
   },
   {
    "duration": 363,
    "start_time": "2023-01-28T15:53:38.388Z"
   },
   {
    "duration": 317,
    "start_time": "2023-01-28T15:53:58.272Z"
   },
   {
    "duration": 439,
    "start_time": "2023-01-28T15:54:01.839Z"
   },
   {
    "duration": 399,
    "start_time": "2023-01-28T15:54:09.749Z"
   },
   {
    "duration": 412,
    "start_time": "2023-01-28T15:54:14.581Z"
   },
   {
    "duration": 285,
    "start_time": "2023-01-28T15:54:18.034Z"
   },
   {
    "duration": 420,
    "start_time": "2023-01-28T15:54:24.834Z"
   },
   {
    "duration": 330,
    "start_time": "2023-01-28T15:54:31.166Z"
   },
   {
    "duration": 769,
    "start_time": "2023-01-28T15:54:44.594Z"
   },
   {
    "duration": 12,
    "start_time": "2023-01-28T15:54:45.365Z"
   },
   {
    "duration": 5,
    "start_time": "2023-01-28T15:54:45.378Z"
   },
   {
    "duration": 15,
    "start_time": "2023-01-28T15:54:45.384Z"
   },
   {
    "duration": 32,
    "start_time": "2023-01-28T15:54:45.401Z"
   },
   {
    "duration": 49,
    "start_time": "2023-01-28T15:54:45.437Z"
   },
   {
    "duration": 41,
    "start_time": "2023-01-28T15:54:45.488Z"
   },
   {
    "duration": 11,
    "start_time": "2023-01-28T15:54:45.531Z"
   },
   {
    "duration": 191,
    "start_time": "2023-01-28T15:54:45.544Z"
   },
   {
    "duration": 140,
    "start_time": "2023-01-28T15:54:45.737Z"
   },
   {
    "duration": 16,
    "start_time": "2023-01-28T15:54:45.878Z"
   },
   {
    "duration": 364,
    "start_time": "2023-01-28T15:54:45.896Z"
   },
   {
    "duration": 305,
    "start_time": "2023-01-28T15:54:46.262Z"
   },
   {
    "duration": 384,
    "start_time": "2023-01-28T15:54:46.570Z"
   },
   {
    "duration": 302,
    "start_time": "2023-01-28T15:54:46.956Z"
   },
   {
    "duration": 434,
    "start_time": "2023-01-28T15:54:47.260Z"
   },
   {
    "duration": 28,
    "start_time": "2023-01-28T15:54:47.696Z"
   },
   {
    "duration": 116,
    "start_time": "2023-01-28T15:54:47.728Z"
   },
   {
    "duration": 140,
    "start_time": "2023-01-28T15:54:47.846Z"
   },
   {
    "duration": 15,
    "start_time": "2023-01-28T15:54:47.988Z"
   },
   {
    "duration": 407,
    "start_time": "2023-01-28T15:54:53.664Z"
   },
   {
    "duration": 451,
    "start_time": "2023-01-28T15:54:56.773Z"
   },
   {
    "duration": 378,
    "start_time": "2023-01-28T15:55:00.377Z"
   },
   {
    "duration": 410,
    "start_time": "2023-01-28T15:55:02.137Z"
   },
   {
    "duration": 346,
    "start_time": "2023-01-28T15:55:23.041Z"
   },
   {
    "duration": 334,
    "start_time": "2023-01-28T15:55:29.666Z"
   },
   {
    "duration": 476,
    "start_time": "2023-01-28T15:55:33.842Z"
   },
   {
    "duration": 156,
    "start_time": "2023-01-28T17:03:09.546Z"
   },
   {
    "duration": 124,
    "start_time": "2023-01-28T17:03:17.427Z"
   },
   {
    "duration": 170,
    "start_time": "2023-01-28T17:03:40.948Z"
   },
   {
    "duration": 127,
    "start_time": "2023-01-28T17:03:48.726Z"
   },
   {
    "duration": 916,
    "start_time": "2023-01-30T14:48:35.709Z"
   },
   {
    "duration": 14,
    "start_time": "2023-01-30T14:48:36.628Z"
   },
   {
    "duration": 4,
    "start_time": "2023-01-30T14:48:36.645Z"
   },
   {
    "duration": 17,
    "start_time": "2023-01-30T14:48:36.650Z"
   },
   {
    "duration": 13,
    "start_time": "2023-01-30T14:48:36.670Z"
   },
   {
    "duration": 165,
    "start_time": "2023-01-30T14:48:36.685Z"
   },
   {
    "duration": 21,
    "start_time": "2023-01-30T14:48:36.852Z"
   },
   {
    "duration": 8,
    "start_time": "2023-01-30T14:48:36.874Z"
   },
   {
    "duration": 166,
    "start_time": "2023-01-30T14:48:36.884Z"
   },
   {
    "duration": 140,
    "start_time": "2023-01-30T14:48:37.052Z"
   },
   {
    "duration": 10,
    "start_time": "2023-01-30T14:48:37.194Z"
   },
   {
    "duration": 361,
    "start_time": "2023-01-30T14:48:37.206Z"
   },
   {
    "duration": 348,
    "start_time": "2023-01-30T14:48:37.569Z"
   },
   {
    "duration": 510,
    "start_time": "2023-01-30T14:48:37.919Z"
   },
   {
    "duration": 346,
    "start_time": "2023-01-30T14:48:38.430Z"
   },
   {
    "duration": 513,
    "start_time": "2023-01-30T14:48:38.777Z"
   },
   {
    "duration": 10,
    "start_time": "2023-01-30T14:48:39.292Z"
   },
   {
    "duration": 125,
    "start_time": "2023-01-30T14:48:39.304Z"
   },
   {
    "duration": 131,
    "start_time": "2023-01-30T14:48:39.431Z"
   },
   {
    "duration": 8,
    "start_time": "2023-01-30T14:48:39.564Z"
   },
   {
    "duration": 77,
    "start_time": "2023-01-30T14:49:22.517Z"
   },
   {
    "duration": 12,
    "start_time": "2023-01-30T14:49:27.766Z"
   },
   {
    "duration": 14,
    "start_time": "2023-01-30T14:49:30.097Z"
   },
   {
    "duration": 444,
    "start_time": "2023-01-30T14:49:33.368Z"
   },
   {
    "duration": 420,
    "start_time": "2023-01-30T14:49:41.231Z"
   },
   {
    "duration": 396,
    "start_time": "2023-01-30T14:49:58.025Z"
   },
   {
    "duration": 621,
    "start_time": "2023-01-30T14:50:50.043Z"
   },
   {
    "duration": 478,
    "start_time": "2023-01-30T14:51:01.693Z"
   },
   {
    "duration": 959,
    "start_time": "2023-01-30T18:40:34.023Z"
   },
   {
    "duration": 14,
    "start_time": "2023-01-30T18:40:34.984Z"
   },
   {
    "duration": 11,
    "start_time": "2023-01-30T18:40:34.999Z"
   },
   {
    "duration": 33,
    "start_time": "2023-01-30T18:40:35.012Z"
   },
   {
    "duration": 20,
    "start_time": "2023-01-30T18:40:35.048Z"
   },
   {
    "duration": 134,
    "start_time": "2023-01-30T18:40:35.069Z"
   },
   {
    "duration": 20,
    "start_time": "2023-01-30T18:40:35.205Z"
   },
   {
    "duration": 6,
    "start_time": "2023-01-30T18:40:35.227Z"
   },
   {
    "duration": 186,
    "start_time": "2023-01-30T18:40:35.234Z"
   },
   {
    "duration": 152,
    "start_time": "2023-01-30T18:40:35.422Z"
   },
   {
    "duration": 9,
    "start_time": "2023-01-30T18:40:35.576Z"
   },
   {
    "duration": 579,
    "start_time": "2023-01-30T18:40:35.586Z"
   },
   {
    "duration": 411,
    "start_time": "2023-01-30T18:40:36.171Z"
   },
   {
    "duration": 476,
    "start_time": "2023-01-30T18:40:36.586Z"
   },
   {
    "duration": 348,
    "start_time": "2023-01-30T18:40:37.063Z"
   },
   {
    "duration": 485,
    "start_time": "2023-01-30T18:40:37.412Z"
   },
   {
    "duration": 9,
    "start_time": "2023-01-30T18:40:37.899Z"
   },
   {
    "duration": 128,
    "start_time": "2023-01-30T18:40:37.909Z"
   },
   {
    "duration": 132,
    "start_time": "2023-01-30T18:40:38.039Z"
   },
   {
    "duration": 4,
    "start_time": "2023-01-30T18:40:38.173Z"
   },
   {
    "duration": 506,
    "start_time": "2023-01-30T18:40:46.218Z"
   },
   {
    "duration": 92,
    "start_time": "2023-01-30T18:41:25.282Z"
   },
   {
    "duration": 74,
    "start_time": "2023-01-30T18:41:29.345Z"
   },
   {
    "duration": 414,
    "start_time": "2023-01-30T18:41:37.884Z"
   },
   {
    "duration": 281,
    "start_time": "2023-01-30T18:41:51.734Z"
   },
   {
    "duration": 427,
    "start_time": "2023-01-30T18:41:55.618Z"
   },
   {
    "duration": 412,
    "start_time": "2023-01-30T18:42:06.311Z"
   },
   {
    "duration": 293,
    "start_time": "2023-01-30T18:42:14.954Z"
   },
   {
    "duration": 326,
    "start_time": "2023-01-30T18:42:22.817Z"
   },
   {
    "duration": 313,
    "start_time": "2023-01-30T18:42:27.021Z"
   },
   {
    "duration": 701,
    "start_time": "2023-01-30T18:42:45.727Z"
   },
   {
    "duration": 12,
    "start_time": "2023-01-30T18:42:46.431Z"
   },
   {
    "duration": 32,
    "start_time": "2023-01-30T18:42:46.444Z"
   },
   {
    "duration": 32,
    "start_time": "2023-01-30T18:42:46.478Z"
   },
   {
    "duration": 22,
    "start_time": "2023-01-30T18:42:46.512Z"
   },
   {
    "duration": 74,
    "start_time": "2023-01-30T18:42:46.535Z"
   },
   {
    "duration": 18,
    "start_time": "2023-01-30T18:42:46.611Z"
   },
   {
    "duration": 46,
    "start_time": "2023-01-30T18:42:46.631Z"
   },
   {
    "duration": 213,
    "start_time": "2023-01-30T18:42:46.679Z"
   },
   {
    "duration": 141,
    "start_time": "2023-01-30T18:42:46.893Z"
   },
   {
    "duration": 9,
    "start_time": "2023-01-30T18:42:47.035Z"
   },
   {
    "duration": 298,
    "start_time": "2023-01-30T18:42:47.052Z"
   },
   {
    "duration": 370,
    "start_time": "2023-01-30T18:42:47.353Z"
   },
   {
    "duration": 470,
    "start_time": "2023-01-30T18:42:47.728Z"
   },
   {
    "duration": 326,
    "start_time": "2023-01-30T18:42:48.199Z"
   },
   {
    "duration": 537,
    "start_time": "2023-01-30T18:42:48.527Z"
   },
   {
    "duration": 10,
    "start_time": "2023-01-30T18:42:49.065Z"
   },
   {
    "duration": 114,
    "start_time": "2023-01-30T18:42:49.076Z"
   },
   {
    "duration": 121,
    "start_time": "2023-01-30T18:42:49.192Z"
   },
   {
    "duration": 4,
    "start_time": "2023-01-30T18:42:49.314Z"
   }
  ],
  "kernelspec": {
   "display_name": "Python 3 (ipykernel)",
   "language": "python",
   "name": "python3"
  },
  "language_info": {
   "codemirror_mode": {
    "name": "ipython",
    "version": 3
   },
   "file_extension": ".py",
   "mimetype": "text/x-python",
   "name": "python",
   "nbconvert_exporter": "python",
   "pygments_lexer": "ipython3",
   "version": "3.9.13"
  },
  "toc": {
   "base_numbering": 1,
   "nav_menu": {},
   "number_sections": true,
   "sideBar": true,
   "skip_h1_title": true,
   "title_cell": "Table of Contents",
   "title_sidebar": "Contents",
   "toc_cell": false,
   "toc_position": {},
   "toc_section_display": true,
   "toc_window_display": false
  }
 },
 "nbformat": 4,
 "nbformat_minor": 2
}
