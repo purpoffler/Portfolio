{
 "cells": [
  {
   "cell_type": "markdown",
   "metadata": {
    "id": "ex109MdqLdJI"
   },
   "source": [
    "# Проект по А/B-тестированию"
   ]
  },
  {
   "cell_type": "markdown",
   "metadata": {
    "id": "NTYJAMNpLdJI"
   },
   "source": [
    "**Постановка задачи**\n",
    "\n",
    "<p>Провести оценку результатов A/B-теста. В вашем распоряжении есть датасет с действиями пользователей, техническое задание и несколько вспомогательных датасетов.</p>\n",
    "<p>Оцените корректность проведения теста.</p>\n",
    "<p>Проанализируйте результаты теста.</p>\n"
   ]
  },
  {
   "cell_type": "markdown",
   "metadata": {
    "id": "eV5sg4QXLdJK"
   },
   "source": [
    "# 1. Загрузка данных"
   ]
  },
  {
   "cell_type": "code",
   "execution_count": 1,
   "metadata": {},
   "outputs": [
    {
     "name": "stdout",
     "output_type": "stream",
     "text": [
      "Defaulting to user installation because normal site-packages is not writeable\n",
      "Collecting kaleido\n",
      "  Downloading kaleido-0.2.1-py2.py3-none-win_amd64.whl (65.9 MB)\n",
      "     ---------------------------------------- 65.9/65.9 MB 2.6 MB/s eta 0:00:00\n",
      "Installing collected packages: kaleido\n",
      "Successfully installed kaleido-0.2.1\n"
     ]
    }
   ],
   "source": [
    "!pip install -U kaleido\n",
    "\n",
    "import kaleido\n",
    "\n",
    "import plotly.io as pio\n",
    "pio.renderers.default = \"svg\"\n",
    "svg_renderer = pio.renderers[\"svg\"]\n",
    "svg_renderer.scale = 1.2\n",
    "\n"
   ]
  },
  {
   "cell_type": "code",
   "execution_count": 2,
   "metadata": {
    "id": "vOZG4euALdJK"
   },
   "outputs": [],
   "source": [
    "import pandas as pd\n",
    "import datetime as dt\n",
    "import numpy as np\n",
    "import matplotlib.pyplot as plt\n",
    "import scipy.stats as stats\n",
    "import math as mth\n",
    "import seaborn as sns\n",
    "import plotly.express as px\n",
    "from plotly import graph_objects as go\n",
    "\n",
    "import warnings\n",
    "warnings.filterwarnings('ignore')"
   ]
  },
  {
   "cell_type": "markdown",
   "metadata": {
    "id": "_WKkDJoTLdJL"
   },
   "source": [
    "Загружаем датасеты"
   ]
  },
  {
   "cell_type": "code",
   "execution_count": 3,
   "metadata": {
    "id": "6E23XOl9LdJM"
   },
   "outputs": [],
   "source": [
    "marketing_evnt = pd.read_csv(r'D:\\for_github\\project_final\\ab_test\\ab_project_marketing_events.csv')\n",
    "users = pd.read_csv(r'D:\\for_github\\project_final\\ab_test\\final_ab_new_users.csv')\n",
    "evnts = pd.read_csv(r'D:\\for_github\\project_final\\ab_test\\final_ab_events.csv')\n",
    "test = pd.read_csv(r'D:\\for_github\\project_final\\ab_test\\final_ab_participants.csv')"
   ]
  },
  {
   "cell_type": "code",
   "execution_count": 4,
   "metadata": {},
   "outputs": [],
   "source": [
    "def print_head(df):\n",
    "    return df.head()"
   ]
  },
  {
   "cell_type": "code",
   "execution_count": 5,
   "metadata": {},
   "outputs": [
    {
     "data": {
      "text/html": [
       "<div>\n",
       "<style scoped>\n",
       "    .dataframe tbody tr th:only-of-type {\n",
       "        vertical-align: middle;\n",
       "    }\n",
       "\n",
       "    .dataframe tbody tr th {\n",
       "        vertical-align: top;\n",
       "    }\n",
       "\n",
       "    .dataframe thead th {\n",
       "        text-align: right;\n",
       "    }\n",
       "</style>\n",
       "<table border=\"1\" class=\"dataframe\">\n",
       "  <thead>\n",
       "    <tr style=\"text-align: right;\">\n",
       "      <th></th>\n",
       "      <th>name</th>\n",
       "      <th>regions</th>\n",
       "      <th>start_dt</th>\n",
       "      <th>finish_dt</th>\n",
       "    </tr>\n",
       "  </thead>\n",
       "  <tbody>\n",
       "    <tr>\n",
       "      <th>0</th>\n",
       "      <td>Christmas&amp;New Year Promo</td>\n",
       "      <td>EU, N.America</td>\n",
       "      <td>2020-12-25</td>\n",
       "      <td>2021-01-03</td>\n",
       "    </tr>\n",
       "    <tr>\n",
       "      <th>1</th>\n",
       "      <td>St. Valentine's Day Giveaway</td>\n",
       "      <td>EU, CIS, APAC, N.America</td>\n",
       "      <td>2020-02-14</td>\n",
       "      <td>2020-02-16</td>\n",
       "    </tr>\n",
       "    <tr>\n",
       "      <th>2</th>\n",
       "      <td>St. Patric's Day Promo</td>\n",
       "      <td>EU, N.America</td>\n",
       "      <td>2020-03-17</td>\n",
       "      <td>2020-03-19</td>\n",
       "    </tr>\n",
       "    <tr>\n",
       "      <th>3</th>\n",
       "      <td>Easter Promo</td>\n",
       "      <td>EU, CIS, APAC, N.America</td>\n",
       "      <td>2020-04-12</td>\n",
       "      <td>2020-04-19</td>\n",
       "    </tr>\n",
       "    <tr>\n",
       "      <th>4</th>\n",
       "      <td>4th of July Promo</td>\n",
       "      <td>N.America</td>\n",
       "      <td>2020-07-04</td>\n",
       "      <td>2020-07-11</td>\n",
       "    </tr>\n",
       "  </tbody>\n",
       "</table>\n",
       "</div>"
      ],
      "text/plain": [
       "                           name                   regions    start_dt  \\\n",
       "0      Christmas&New Year Promo             EU, N.America  2020-12-25   \n",
       "1  St. Valentine's Day Giveaway  EU, CIS, APAC, N.America  2020-02-14   \n",
       "2        St. Patric's Day Promo             EU, N.America  2020-03-17   \n",
       "3                  Easter Promo  EU, CIS, APAC, N.America  2020-04-12   \n",
       "4             4th of July Promo                 N.America  2020-07-04   \n",
       "\n",
       "    finish_dt  \n",
       "0  2021-01-03  \n",
       "1  2020-02-16  \n",
       "2  2020-03-19  \n",
       "3  2020-04-19  \n",
       "4  2020-07-11  "
      ]
     },
     "metadata": {},
     "output_type": "display_data"
    },
    {
     "data": {
      "text/html": [
       "<div>\n",
       "<style scoped>\n",
       "    .dataframe tbody tr th:only-of-type {\n",
       "        vertical-align: middle;\n",
       "    }\n",
       "\n",
       "    .dataframe tbody tr th {\n",
       "        vertical-align: top;\n",
       "    }\n",
       "\n",
       "    .dataframe thead th {\n",
       "        text-align: right;\n",
       "    }\n",
       "</style>\n",
       "<table border=\"1\" class=\"dataframe\">\n",
       "  <thead>\n",
       "    <tr style=\"text-align: right;\">\n",
       "      <th></th>\n",
       "      <th>user_id</th>\n",
       "      <th>first_date</th>\n",
       "      <th>region</th>\n",
       "      <th>device</th>\n",
       "    </tr>\n",
       "  </thead>\n",
       "  <tbody>\n",
       "    <tr>\n",
       "      <th>0</th>\n",
       "      <td>D72A72121175D8BE</td>\n",
       "      <td>2020-12-07</td>\n",
       "      <td>EU</td>\n",
       "      <td>PC</td>\n",
       "    </tr>\n",
       "    <tr>\n",
       "      <th>1</th>\n",
       "      <td>F1C668619DFE6E65</td>\n",
       "      <td>2020-12-07</td>\n",
       "      <td>N.America</td>\n",
       "      <td>Android</td>\n",
       "    </tr>\n",
       "    <tr>\n",
       "      <th>2</th>\n",
       "      <td>2E1BF1D4C37EA01F</td>\n",
       "      <td>2020-12-07</td>\n",
       "      <td>EU</td>\n",
       "      <td>PC</td>\n",
       "    </tr>\n",
       "    <tr>\n",
       "      <th>3</th>\n",
       "      <td>50734A22C0C63768</td>\n",
       "      <td>2020-12-07</td>\n",
       "      <td>EU</td>\n",
       "      <td>iPhone</td>\n",
       "    </tr>\n",
       "    <tr>\n",
       "      <th>4</th>\n",
       "      <td>E1BDDCE0DAFA2679</td>\n",
       "      <td>2020-12-07</td>\n",
       "      <td>N.America</td>\n",
       "      <td>iPhone</td>\n",
       "    </tr>\n",
       "  </tbody>\n",
       "</table>\n",
       "</div>"
      ],
      "text/plain": [
       "            user_id  first_date     region   device\n",
       "0  D72A72121175D8BE  2020-12-07         EU       PC\n",
       "1  F1C668619DFE6E65  2020-12-07  N.America  Android\n",
       "2  2E1BF1D4C37EA01F  2020-12-07         EU       PC\n",
       "3  50734A22C0C63768  2020-12-07         EU   iPhone\n",
       "4  E1BDDCE0DAFA2679  2020-12-07  N.America   iPhone"
      ]
     },
     "metadata": {},
     "output_type": "display_data"
    },
    {
     "data": {
      "text/html": [
       "<div>\n",
       "<style scoped>\n",
       "    .dataframe tbody tr th:only-of-type {\n",
       "        vertical-align: middle;\n",
       "    }\n",
       "\n",
       "    .dataframe tbody tr th {\n",
       "        vertical-align: top;\n",
       "    }\n",
       "\n",
       "    .dataframe thead th {\n",
       "        text-align: right;\n",
       "    }\n",
       "</style>\n",
       "<table border=\"1\" class=\"dataframe\">\n",
       "  <thead>\n",
       "    <tr style=\"text-align: right;\">\n",
       "      <th></th>\n",
       "      <th>user_id</th>\n",
       "      <th>event_dt</th>\n",
       "      <th>event_name</th>\n",
       "      <th>details</th>\n",
       "    </tr>\n",
       "  </thead>\n",
       "  <tbody>\n",
       "    <tr>\n",
       "      <th>0</th>\n",
       "      <td>E1BDDCE0DAFA2679</td>\n",
       "      <td>2020-12-07 20:22:03</td>\n",
       "      <td>purchase</td>\n",
       "      <td>99.99</td>\n",
       "    </tr>\n",
       "    <tr>\n",
       "      <th>1</th>\n",
       "      <td>7B6452F081F49504</td>\n",
       "      <td>2020-12-07 09:22:53</td>\n",
       "      <td>purchase</td>\n",
       "      <td>9.99</td>\n",
       "    </tr>\n",
       "    <tr>\n",
       "      <th>2</th>\n",
       "      <td>9CD9F34546DF254C</td>\n",
       "      <td>2020-12-07 12:59:29</td>\n",
       "      <td>purchase</td>\n",
       "      <td>4.99</td>\n",
       "    </tr>\n",
       "    <tr>\n",
       "      <th>3</th>\n",
       "      <td>96F27A054B191457</td>\n",
       "      <td>2020-12-07 04:02:40</td>\n",
       "      <td>purchase</td>\n",
       "      <td>4.99</td>\n",
       "    </tr>\n",
       "    <tr>\n",
       "      <th>4</th>\n",
       "      <td>1FD7660FDF94CA1F</td>\n",
       "      <td>2020-12-07 10:15:09</td>\n",
       "      <td>purchase</td>\n",
       "      <td>4.99</td>\n",
       "    </tr>\n",
       "  </tbody>\n",
       "</table>\n",
       "</div>"
      ],
      "text/plain": [
       "            user_id             event_dt event_name  details\n",
       "0  E1BDDCE0DAFA2679  2020-12-07 20:22:03   purchase    99.99\n",
       "1  7B6452F081F49504  2020-12-07 09:22:53   purchase     9.99\n",
       "2  9CD9F34546DF254C  2020-12-07 12:59:29   purchase     4.99\n",
       "3  96F27A054B191457  2020-12-07 04:02:40   purchase     4.99\n",
       "4  1FD7660FDF94CA1F  2020-12-07 10:15:09   purchase     4.99"
      ]
     },
     "metadata": {},
     "output_type": "display_data"
    },
    {
     "data": {
      "text/html": [
       "<div>\n",
       "<style scoped>\n",
       "    .dataframe tbody tr th:only-of-type {\n",
       "        vertical-align: middle;\n",
       "    }\n",
       "\n",
       "    .dataframe tbody tr th {\n",
       "        vertical-align: top;\n",
       "    }\n",
       "\n",
       "    .dataframe thead th {\n",
       "        text-align: right;\n",
       "    }\n",
       "</style>\n",
       "<table border=\"1\" class=\"dataframe\">\n",
       "  <thead>\n",
       "    <tr style=\"text-align: right;\">\n",
       "      <th></th>\n",
       "      <th>user_id</th>\n",
       "      <th>group</th>\n",
       "      <th>ab_test</th>\n",
       "    </tr>\n",
       "  </thead>\n",
       "  <tbody>\n",
       "    <tr>\n",
       "      <th>0</th>\n",
       "      <td>D1ABA3E2887B6A73</td>\n",
       "      <td>A</td>\n",
       "      <td>recommender_system_test</td>\n",
       "    </tr>\n",
       "    <tr>\n",
       "      <th>1</th>\n",
       "      <td>A7A3664BD6242119</td>\n",
       "      <td>A</td>\n",
       "      <td>recommender_system_test</td>\n",
       "    </tr>\n",
       "    <tr>\n",
       "      <th>2</th>\n",
       "      <td>DABC14FDDFADD29E</td>\n",
       "      <td>A</td>\n",
       "      <td>recommender_system_test</td>\n",
       "    </tr>\n",
       "    <tr>\n",
       "      <th>3</th>\n",
       "      <td>04988C5DF189632E</td>\n",
       "      <td>A</td>\n",
       "      <td>recommender_system_test</td>\n",
       "    </tr>\n",
       "    <tr>\n",
       "      <th>4</th>\n",
       "      <td>482F14783456D21B</td>\n",
       "      <td>B</td>\n",
       "      <td>recommender_system_test</td>\n",
       "    </tr>\n",
       "  </tbody>\n",
       "</table>\n",
       "</div>"
      ],
      "text/plain": [
       "            user_id group                  ab_test\n",
       "0  D1ABA3E2887B6A73     A  recommender_system_test\n",
       "1  A7A3664BD6242119     A  recommender_system_test\n",
       "2  DABC14FDDFADD29E     A  recommender_system_test\n",
       "3  04988C5DF189632E     A  recommender_system_test\n",
       "4  482F14783456D21B     B  recommender_system_test"
      ]
     },
     "metadata": {},
     "output_type": "display_data"
    }
   ],
   "source": [
    "for i in [marketing_evnt, users, evnts, test]:\n",
    "    display(print_head(i))\n"
   ]
  },
  {
   "cell_type": "markdown",
   "metadata": {
    "id": "qFiRAFuaLdJN"
   },
   "source": [
    "# 2. Предобработка данных"
   ]
  },
  {
   "cell_type": "code",
   "execution_count": 6,
   "metadata": {},
   "outputs": [
    {
     "name": "stdout",
     "output_type": "stream",
     "text": [
      "<class 'pandas.core.frame.DataFrame'>\n",
      "RangeIndex: 14 entries, 0 to 13\n",
      "Data columns (total 4 columns):\n",
      " #   Column     Non-Null Count  Dtype \n",
      "---  ------     --------------  ----- \n",
      " 0   name       14 non-null     object\n",
      " 1   regions    14 non-null     object\n",
      " 2   start_dt   14 non-null     object\n",
      " 3   finish_dt  14 non-null     object\n",
      "dtypes: object(4)\n",
      "memory usage: 576.0+ bytes\n",
      "None\n",
      "\n",
      "<class 'pandas.core.frame.DataFrame'>\n",
      "RangeIndex: 61733 entries, 0 to 61732\n",
      "Data columns (total 4 columns):\n",
      " #   Column      Non-Null Count  Dtype \n",
      "---  ------      --------------  ----- \n",
      " 0   user_id     61733 non-null  object\n",
      " 1   first_date  61733 non-null  object\n",
      " 2   region      61733 non-null  object\n",
      " 3   device      61733 non-null  object\n",
      "dtypes: object(4)\n",
      "memory usage: 1.9+ MB\n",
      "None\n",
      "\n",
      "<class 'pandas.core.frame.DataFrame'>\n",
      "RangeIndex: 440317 entries, 0 to 440316\n",
      "Data columns (total 4 columns):\n",
      " #   Column      Non-Null Count   Dtype  \n",
      "---  ------      --------------   -----  \n",
      " 0   user_id     440317 non-null  object \n",
      " 1   event_dt    440317 non-null  object \n",
      " 2   event_name  440317 non-null  object \n",
      " 3   details     62740 non-null   float64\n",
      "dtypes: float64(1), object(3)\n",
      "memory usage: 13.4+ MB\n",
      "None\n",
      "\n",
      "<class 'pandas.core.frame.DataFrame'>\n",
      "RangeIndex: 18268 entries, 0 to 18267\n",
      "Data columns (total 3 columns):\n",
      " #   Column   Non-Null Count  Dtype \n",
      "---  ------   --------------  ----- \n",
      " 0   user_id  18268 non-null  object\n",
      " 1   group    18268 non-null  object\n",
      " 2   ab_test  18268 non-null  object\n",
      "dtypes: object(3)\n",
      "memory usage: 428.3+ KB\n",
      "None\n",
      "\n"
     ]
    }
   ],
   "source": [
    "def df_info(df):\n",
    "    return df.info()\n",
    "\n",
    "for i in [marketing_evnt, users, evnts, test]:\n",
    "    print(df_info(i))\n",
    "    print()"
   ]
  },
  {
   "cell_type": "markdown",
   "metadata": {
    "id": "tNqH13KSLdJO"
   },
   "source": [
    "Все столбцы названы корректно"
   ]
  },
  {
   "cell_type": "markdown",
   "metadata": {
    "id": "17P2PYcXLdJO"
   },
   "source": [
    "**2.1 Проверим таблицы на дубликаты**"
   ]
  },
  {
   "cell_type": "code",
   "execution_count": 7,
   "metadata": {
    "colab": {
     "base_uri": "https://localhost:8080/"
    },
    "id": "rQfr1BnDLdJP",
    "outputId": "7674a246-df3e-4563-df1b-62798c5a74ca"
   },
   "outputs": [
    {
     "data": {
      "text/plain": [
       "0"
      ]
     },
     "execution_count": 7,
     "metadata": {},
     "output_type": "execute_result"
    }
   ],
   "source": [
    "marketing_evnt.duplicated().sum()"
   ]
  },
  {
   "cell_type": "code",
   "execution_count": 8,
   "metadata": {
    "colab": {
     "base_uri": "https://localhost:8080/"
    },
    "id": "2cEH6NAFLdJP",
    "outputId": "1e92ecdd-8aea-42af-dde5-ff075648638d"
   },
   "outputs": [
    {
     "data": {
      "text/plain": [
       "0"
      ]
     },
     "execution_count": 8,
     "metadata": {},
     "output_type": "execute_result"
    }
   ],
   "source": [
    "users.duplicated().sum()"
   ]
  },
  {
   "cell_type": "code",
   "execution_count": 9,
   "metadata": {
    "colab": {
     "base_uri": "https://localhost:8080/"
    },
    "id": "hZiCCMiULdJP",
    "outputId": "20d7193b-b5d4-4b34-8f12-e0053e506c48"
   },
   "outputs": [
    {
     "data": {
      "text/plain": [
       "0"
      ]
     },
     "execution_count": 9,
     "metadata": {},
     "output_type": "execute_result"
    }
   ],
   "source": [
    "evnts.duplicated().sum()"
   ]
  },
  {
   "cell_type": "code",
   "execution_count": 10,
   "metadata": {
    "colab": {
     "base_uri": "https://localhost:8080/"
    },
    "id": "74veXSc3LdJP",
    "outputId": "3916045c-044d-40b2-aec9-1d115879ffe3"
   },
   "outputs": [
    {
     "data": {
      "text/plain": [
       "0"
      ]
     },
     "execution_count": 10,
     "metadata": {},
     "output_type": "execute_result"
    }
   ],
   "source": [
    "test.duplicated().sum()"
   ]
  },
  {
   "cell_type": "markdown",
   "metadata": {
    "id": "eseTUJx4LdJP"
   },
   "source": [
    "В датасетах не обнаружены дубликаты"
   ]
  },
  {
   "cell_type": "markdown",
   "metadata": {
    "id": "STlTB0L_LdJQ"
   },
   "source": [
    "**2.2 Посмотрим на пропуски в таблицах**"
   ]
  },
  {
   "cell_type": "code",
   "execution_count": 11,
   "metadata": {
    "colab": {
     "base_uri": "https://localhost:8080/"
    },
    "id": "55r0HqOWLdJQ",
    "outputId": "5d769a7f-bcea-4bb1-9dd3-65cf32a6870f"
   },
   "outputs": [
    {
     "data": {
      "text/plain": [
       "name         0\n",
       "regions      0\n",
       "start_dt     0\n",
       "finish_dt    0\n",
       "dtype: int64"
      ]
     },
     "execution_count": 11,
     "metadata": {},
     "output_type": "execute_result"
    }
   ],
   "source": [
    "marketing_evnt.isna().sum()"
   ]
  },
  {
   "cell_type": "code",
   "execution_count": 12,
   "metadata": {
    "colab": {
     "base_uri": "https://localhost:8080/"
    },
    "id": "E-7C8pqxLdJQ",
    "outputId": "c3b5009c-bd7e-43ad-fb06-5ffbbca3840c"
   },
   "outputs": [
    {
     "data": {
      "text/plain": [
       "user_id       0\n",
       "first_date    0\n",
       "region        0\n",
       "device        0\n",
       "dtype: int64"
      ]
     },
     "execution_count": 12,
     "metadata": {},
     "output_type": "execute_result"
    }
   ],
   "source": [
    "users.isna().sum()"
   ]
  },
  {
   "cell_type": "code",
   "execution_count": 13,
   "metadata": {
    "colab": {
     "base_uri": "https://localhost:8080/"
    },
    "id": "yjlopT_FLdJQ",
    "outputId": "42916305-534c-4600-9d48-638044622290"
   },
   "outputs": [
    {
     "data": {
      "text/plain": [
       "user_id            0\n",
       "event_dt           0\n",
       "event_name         0\n",
       "details       377577\n",
       "dtype: int64"
      ]
     },
     "execution_count": 13,
     "metadata": {},
     "output_type": "execute_result"
    }
   ],
   "source": [
    "evnts.isna().sum()"
   ]
  },
  {
   "cell_type": "code",
   "execution_count": 14,
   "metadata": {
    "colab": {
     "base_uri": "https://localhost:8080/",
     "height": 175
    },
    "id": "lrvsZmGvLdJQ",
    "outputId": "5e8986f8-697b-46e2-eede-1f09d118aded"
   },
   "outputs": [
    {
     "data": {
      "text/html": [
       "<style type=\"text/css\">\n",
       "#T_002d0_row0_col0, #T_002d0_row1_col0, #T_002d0_row2_col0 {\n",
       "  background-color: #3b4cc0;\n",
       "  color: #f1f1f1;\n",
       "}\n",
       "#T_002d0_row3_col0 {\n",
       "  background-color: #b40426;\n",
       "  color: #f1f1f1;\n",
       "}\n",
       "</style>\n",
       "<table id=\"T_002d0\">\n",
       "  <thead>\n",
       "    <tr>\n",
       "      <th class=\"blank level0\" >&nbsp;</th>\n",
       "      <th id=\"T_002d0_level0_col0\" class=\"col_heading level0 col0\" >0</th>\n",
       "    </tr>\n",
       "  </thead>\n",
       "  <tbody>\n",
       "    <tr>\n",
       "      <th id=\"T_002d0_level0_row0\" class=\"row_heading level0 row0\" >user_id</th>\n",
       "      <td id=\"T_002d0_row0_col0\" class=\"data row0 col0\" >0.000000</td>\n",
       "    </tr>\n",
       "    <tr>\n",
       "      <th id=\"T_002d0_level0_row1\" class=\"row_heading level0 row1\" >event_dt</th>\n",
       "      <td id=\"T_002d0_row1_col0\" class=\"data row1 col0\" >0.000000</td>\n",
       "    </tr>\n",
       "    <tr>\n",
       "      <th id=\"T_002d0_level0_row2\" class=\"row_heading level0 row2\" >event_name</th>\n",
       "      <td id=\"T_002d0_row2_col0\" class=\"data row2 col0\" >0.000000</td>\n",
       "    </tr>\n",
       "    <tr>\n",
       "      <th id=\"T_002d0_level0_row3\" class=\"row_heading level0 row3\" >details</th>\n",
       "      <td id=\"T_002d0_row3_col0\" class=\"data row3 col0\" >86.000000</td>\n",
       "    </tr>\n",
       "  </tbody>\n",
       "</table>\n"
      ],
      "text/plain": [
       "<pandas.io.formats.style.Styler at 0x20e3f69a7c0>"
      ]
     },
     "execution_count": 14,
     "metadata": {},
     "output_type": "execute_result"
    }
   ],
   "source": [
    "pd.DataFrame(round(evnts.isna().mean()*100)).style.background_gradient('coolwarm')"
   ]
  },
  {
   "cell_type": "code",
   "execution_count": 15,
   "metadata": {
    "colab": {
     "base_uri": "https://localhost:8080/",
     "height": 424
    },
    "id": "xxiLVtMALdJR",
    "outputId": "17106ba4-eba7-4c86-93a1-3d730ef1d4b5"
   },
   "outputs": [
    {
     "data": {
      "text/html": [
       "<div>\n",
       "<style scoped>\n",
       "    .dataframe tbody tr th:only-of-type {\n",
       "        vertical-align: middle;\n",
       "    }\n",
       "\n",
       "    .dataframe tbody tr th {\n",
       "        vertical-align: top;\n",
       "    }\n",
       "\n",
       "    .dataframe thead th {\n",
       "        text-align: right;\n",
       "    }\n",
       "</style>\n",
       "<table border=\"1\" class=\"dataframe\">\n",
       "  <thead>\n",
       "    <tr style=\"text-align: right;\">\n",
       "      <th></th>\n",
       "      <th>user_id</th>\n",
       "      <th>event_dt</th>\n",
       "      <th>event_name</th>\n",
       "      <th>details</th>\n",
       "    </tr>\n",
       "  </thead>\n",
       "  <tbody>\n",
       "    <tr>\n",
       "      <th>62740</th>\n",
       "      <td>2E1BF1D4C37EA01F</td>\n",
       "      <td>2020-12-07 09:05:47</td>\n",
       "      <td>product_cart</td>\n",
       "      <td>NaN</td>\n",
       "    </tr>\n",
       "    <tr>\n",
       "      <th>62741</th>\n",
       "      <td>50734A22C0C63768</td>\n",
       "      <td>2020-12-07 13:24:03</td>\n",
       "      <td>product_cart</td>\n",
       "      <td>NaN</td>\n",
       "    </tr>\n",
       "    <tr>\n",
       "      <th>62742</th>\n",
       "      <td>5EB159DA9DC94DBA</td>\n",
       "      <td>2020-12-07 22:54:02</td>\n",
       "      <td>product_cart</td>\n",
       "      <td>NaN</td>\n",
       "    </tr>\n",
       "    <tr>\n",
       "      <th>62743</th>\n",
       "      <td>084A22B980BA8169</td>\n",
       "      <td>2020-12-07 15:25:55</td>\n",
       "      <td>product_cart</td>\n",
       "      <td>NaN</td>\n",
       "    </tr>\n",
       "    <tr>\n",
       "      <th>62744</th>\n",
       "      <td>0FC21E6F8FAA8DEC</td>\n",
       "      <td>2020-12-07 06:56:27</td>\n",
       "      <td>product_cart</td>\n",
       "      <td>NaN</td>\n",
       "    </tr>\n",
       "    <tr>\n",
       "      <th>...</th>\n",
       "      <td>...</td>\n",
       "      <td>...</td>\n",
       "      <td>...</td>\n",
       "      <td>...</td>\n",
       "    </tr>\n",
       "    <tr>\n",
       "      <th>440312</th>\n",
       "      <td>245E85F65C358E08</td>\n",
       "      <td>2020-12-30 19:35:55</td>\n",
       "      <td>login</td>\n",
       "      <td>NaN</td>\n",
       "    </tr>\n",
       "    <tr>\n",
       "      <th>440313</th>\n",
       "      <td>9385A108F5A0A7A7</td>\n",
       "      <td>2020-12-30 10:54:15</td>\n",
       "      <td>login</td>\n",
       "      <td>NaN</td>\n",
       "    </tr>\n",
       "    <tr>\n",
       "      <th>440314</th>\n",
       "      <td>DB650B7559AC6EAC</td>\n",
       "      <td>2020-12-30 10:59:09</td>\n",
       "      <td>login</td>\n",
       "      <td>NaN</td>\n",
       "    </tr>\n",
       "    <tr>\n",
       "      <th>440315</th>\n",
       "      <td>F80C9BDDEA02E53C</td>\n",
       "      <td>2020-12-30 09:53:39</td>\n",
       "      <td>login</td>\n",
       "      <td>NaN</td>\n",
       "    </tr>\n",
       "    <tr>\n",
       "      <th>440316</th>\n",
       "      <td>7AEC61159B672CC5</td>\n",
       "      <td>2020-12-30 11:36:13</td>\n",
       "      <td>login</td>\n",
       "      <td>NaN</td>\n",
       "    </tr>\n",
       "  </tbody>\n",
       "</table>\n",
       "<p>377577 rows × 4 columns</p>\n",
       "</div>"
      ],
      "text/plain": [
       "                 user_id             event_dt    event_name  details\n",
       "62740   2E1BF1D4C37EA01F  2020-12-07 09:05:47  product_cart      NaN\n",
       "62741   50734A22C0C63768  2020-12-07 13:24:03  product_cart      NaN\n",
       "62742   5EB159DA9DC94DBA  2020-12-07 22:54:02  product_cart      NaN\n",
       "62743   084A22B980BA8169  2020-12-07 15:25:55  product_cart      NaN\n",
       "62744   0FC21E6F8FAA8DEC  2020-12-07 06:56:27  product_cart      NaN\n",
       "...                  ...                  ...           ...      ...\n",
       "440312  245E85F65C358E08  2020-12-30 19:35:55         login      NaN\n",
       "440313  9385A108F5A0A7A7  2020-12-30 10:54:15         login      NaN\n",
       "440314  DB650B7559AC6EAC  2020-12-30 10:59:09         login      NaN\n",
       "440315  F80C9BDDEA02E53C  2020-12-30 09:53:39         login      NaN\n",
       "440316  7AEC61159B672CC5  2020-12-30 11:36:13         login      NaN\n",
       "\n",
       "[377577 rows x 4 columns]"
      ]
     },
     "execution_count": 15,
     "metadata": {},
     "output_type": "execute_result"
    }
   ],
   "source": [
    "evnts[evnts['details'].isna()]"
   ]
  },
  {
   "cell_type": "markdown",
   "metadata": {
    "id": "0jDmH48SLdJR"
   },
   "source": [
    "В датасете с событиями новых пользователей присутствуют пропуски (86%) в столбце details. Но они обусловлены тем, что в этой колонке указывается сумма покупки, а там, где покупка не предполагается - пропуски."
   ]
  },
  {
   "cell_type": "code",
   "execution_count": 16,
   "metadata": {
    "colab": {
     "base_uri": "https://localhost:8080/"
    },
    "id": "Ir4WQt43LdJc",
    "outputId": "b9c2317d-e6f5-451d-dd22-1abf206e3182",
    "scrolled": true
   },
   "outputs": [
    {
     "data": {
      "text/plain": [
       "user_id    0\n",
       "group      0\n",
       "ab_test    0\n",
       "dtype: int64"
      ]
     },
     "execution_count": 16,
     "metadata": {},
     "output_type": "execute_result"
    }
   ],
   "source": [
    "test.isna().sum()"
   ]
  },
  {
   "cell_type": "markdown",
   "metadata": {
    "id": "ZaSCmq1vLdJd"
   },
   "source": [
    "**2.3 Для дальнейшего анализа оюъединим датасеты: users, events и test.**"
   ]
  },
  {
   "cell_type": "code",
   "execution_count": 17,
   "metadata": {
    "id": "Dj4Etj41LdJd"
   },
   "outputs": [],
   "source": [
    "united_df = test.merge(evnts, on = 'user_id', how='left').merge(users, on='user_id', how='left')"
   ]
  },
  {
   "cell_type": "markdown",
   "metadata": {
    "id": "sNNw-jSYLdJd"
   },
   "source": [
    "# 3. Проверка ТЗ"
   ]
  },
  {
   "cell_type": "code",
   "execution_count": 18,
   "metadata": {
    "colab": {
     "base_uri": "https://localhost:8080/",
     "height": 424
    },
    "id": "V1nht0H9LdJe",
    "outputId": "b37bef0e-2195-42a8-8480-6549fc170c90"
   },
   "outputs": [
    {
     "data": {
      "text/html": [
       "<div>\n",
       "<style scoped>\n",
       "    .dataframe tbody tr th:only-of-type {\n",
       "        vertical-align: middle;\n",
       "    }\n",
       "\n",
       "    .dataframe tbody tr th {\n",
       "        vertical-align: top;\n",
       "    }\n",
       "\n",
       "    .dataframe thead th {\n",
       "        text-align: right;\n",
       "    }\n",
       "</style>\n",
       "<table border=\"1\" class=\"dataframe\">\n",
       "  <thead>\n",
       "    <tr style=\"text-align: right;\">\n",
       "      <th></th>\n",
       "      <th>user_id</th>\n",
       "      <th>group</th>\n",
       "      <th>ab_test</th>\n",
       "      <th>event_dt</th>\n",
       "      <th>event_name</th>\n",
       "      <th>details</th>\n",
       "      <th>first_date</th>\n",
       "      <th>region</th>\n",
       "      <th>device</th>\n",
       "    </tr>\n",
       "  </thead>\n",
       "  <tbody>\n",
       "    <tr>\n",
       "      <th>0</th>\n",
       "      <td>D1ABA3E2887B6A73</td>\n",
       "      <td>A</td>\n",
       "      <td>recommender_system_test</td>\n",
       "      <td>2020-12-07 14:43:27</td>\n",
       "      <td>purchase</td>\n",
       "      <td>99.99</td>\n",
       "      <td>2020-12-07</td>\n",
       "      <td>EU</td>\n",
       "      <td>PC</td>\n",
       "    </tr>\n",
       "    <tr>\n",
       "      <th>1</th>\n",
       "      <td>D1ABA3E2887B6A73</td>\n",
       "      <td>A</td>\n",
       "      <td>recommender_system_test</td>\n",
       "      <td>2020-12-25 00:04:56</td>\n",
       "      <td>purchase</td>\n",
       "      <td>4.99</td>\n",
       "      <td>2020-12-07</td>\n",
       "      <td>EU</td>\n",
       "      <td>PC</td>\n",
       "    </tr>\n",
       "    <tr>\n",
       "      <th>2</th>\n",
       "      <td>D1ABA3E2887B6A73</td>\n",
       "      <td>A</td>\n",
       "      <td>recommender_system_test</td>\n",
       "      <td>2020-12-07 14:43:29</td>\n",
       "      <td>product_cart</td>\n",
       "      <td>NaN</td>\n",
       "      <td>2020-12-07</td>\n",
       "      <td>EU</td>\n",
       "      <td>PC</td>\n",
       "    </tr>\n",
       "    <tr>\n",
       "      <th>3</th>\n",
       "      <td>D1ABA3E2887B6A73</td>\n",
       "      <td>A</td>\n",
       "      <td>recommender_system_test</td>\n",
       "      <td>2020-12-25 00:04:57</td>\n",
       "      <td>product_cart</td>\n",
       "      <td>NaN</td>\n",
       "      <td>2020-12-07</td>\n",
       "      <td>EU</td>\n",
       "      <td>PC</td>\n",
       "    </tr>\n",
       "    <tr>\n",
       "      <th>4</th>\n",
       "      <td>D1ABA3E2887B6A73</td>\n",
       "      <td>A</td>\n",
       "      <td>recommender_system_test</td>\n",
       "      <td>2020-12-07 14:43:27</td>\n",
       "      <td>product_page</td>\n",
       "      <td>NaN</td>\n",
       "      <td>2020-12-07</td>\n",
       "      <td>EU</td>\n",
       "      <td>PC</td>\n",
       "    </tr>\n",
       "    <tr>\n",
       "      <th>...</th>\n",
       "      <td>...</td>\n",
       "      <td>...</td>\n",
       "      <td>...</td>\n",
       "      <td>...</td>\n",
       "      <td>...</td>\n",
       "      <td>...</td>\n",
       "      <td>...</td>\n",
       "      <td>...</td>\n",
       "      <td>...</td>\n",
       "    </tr>\n",
       "    <tr>\n",
       "      <th>110363</th>\n",
       "      <td>63FBE257B05F2245</td>\n",
       "      <td>A</td>\n",
       "      <td>interface_eu_test</td>\n",
       "      <td>2020-12-23 13:03:17</td>\n",
       "      <td>login</td>\n",
       "      <td>NaN</td>\n",
       "      <td>2020-12-20</td>\n",
       "      <td>EU</td>\n",
       "      <td>Android</td>\n",
       "    </tr>\n",
       "    <tr>\n",
       "      <th>110364</th>\n",
       "      <td>79F9ABFB029CF724</td>\n",
       "      <td>B</td>\n",
       "      <td>interface_eu_test</td>\n",
       "      <td>2020-12-14 19:12:49</td>\n",
       "      <td>login</td>\n",
       "      <td>NaN</td>\n",
       "      <td>2020-12-14</td>\n",
       "      <td>EU</td>\n",
       "      <td>PC</td>\n",
       "    </tr>\n",
       "    <tr>\n",
       "      <th>110365</th>\n",
       "      <td>79F9ABFB029CF724</td>\n",
       "      <td>B</td>\n",
       "      <td>interface_eu_test</td>\n",
       "      <td>2020-12-15 01:50:22</td>\n",
       "      <td>login</td>\n",
       "      <td>NaN</td>\n",
       "      <td>2020-12-14</td>\n",
       "      <td>EU</td>\n",
       "      <td>PC</td>\n",
       "    </tr>\n",
       "    <tr>\n",
       "      <th>110366</th>\n",
       "      <td>79F9ABFB029CF724</td>\n",
       "      <td>B</td>\n",
       "      <td>interface_eu_test</td>\n",
       "      <td>2020-12-16 19:27:36</td>\n",
       "      <td>login</td>\n",
       "      <td>NaN</td>\n",
       "      <td>2020-12-14</td>\n",
       "      <td>EU</td>\n",
       "      <td>PC</td>\n",
       "    </tr>\n",
       "    <tr>\n",
       "      <th>110367</th>\n",
       "      <td>79F9ABFB029CF724</td>\n",
       "      <td>B</td>\n",
       "      <td>interface_eu_test</td>\n",
       "      <td>2020-12-20 13:04:31</td>\n",
       "      <td>login</td>\n",
       "      <td>NaN</td>\n",
       "      <td>2020-12-14</td>\n",
       "      <td>EU</td>\n",
       "      <td>PC</td>\n",
       "    </tr>\n",
       "  </tbody>\n",
       "</table>\n",
       "<p>110368 rows × 9 columns</p>\n",
       "</div>"
      ],
      "text/plain": [
       "                 user_id group                  ab_test             event_dt  \\\n",
       "0       D1ABA3E2887B6A73     A  recommender_system_test  2020-12-07 14:43:27   \n",
       "1       D1ABA3E2887B6A73     A  recommender_system_test  2020-12-25 00:04:56   \n",
       "2       D1ABA3E2887B6A73     A  recommender_system_test  2020-12-07 14:43:29   \n",
       "3       D1ABA3E2887B6A73     A  recommender_system_test  2020-12-25 00:04:57   \n",
       "4       D1ABA3E2887B6A73     A  recommender_system_test  2020-12-07 14:43:27   \n",
       "...                  ...   ...                      ...                  ...   \n",
       "110363  63FBE257B05F2245     A        interface_eu_test  2020-12-23 13:03:17   \n",
       "110364  79F9ABFB029CF724     B        interface_eu_test  2020-12-14 19:12:49   \n",
       "110365  79F9ABFB029CF724     B        interface_eu_test  2020-12-15 01:50:22   \n",
       "110366  79F9ABFB029CF724     B        interface_eu_test  2020-12-16 19:27:36   \n",
       "110367  79F9ABFB029CF724     B        interface_eu_test  2020-12-20 13:04:31   \n",
       "\n",
       "          event_name  details  first_date region   device  \n",
       "0           purchase    99.99  2020-12-07     EU       PC  \n",
       "1           purchase     4.99  2020-12-07     EU       PC  \n",
       "2       product_cart      NaN  2020-12-07     EU       PC  \n",
       "3       product_cart      NaN  2020-12-07     EU       PC  \n",
       "4       product_page      NaN  2020-12-07     EU       PC  \n",
       "...              ...      ...         ...    ...      ...  \n",
       "110363         login      NaN  2020-12-20     EU  Android  \n",
       "110364         login      NaN  2020-12-14     EU       PC  \n",
       "110365         login      NaN  2020-12-14     EU       PC  \n",
       "110366         login      NaN  2020-12-14     EU       PC  \n",
       "110367         login      NaN  2020-12-14     EU       PC  \n",
       "\n",
       "[110368 rows x 9 columns]"
      ]
     },
     "execution_count": 18,
     "metadata": {},
     "output_type": "execute_result"
    }
   ],
   "source": [
    "united_df"
   ]
  },
  {
   "cell_type": "markdown",
   "metadata": {
    "id": "YmzXenKcLdJe"
   },
   "source": [
    "**3.1 Проверка проводимого теста**"
   ]
  },
  {
   "cell_type": "code",
   "execution_count": 19,
   "metadata": {
    "colab": {
     "base_uri": "https://localhost:8080/"
    },
    "id": "PQfcTI7wLdJe",
    "outputId": "af3745ae-51b5-4fe7-8554-2b3ac9bdbf39"
   },
   "outputs": [
    {
     "data": {
      "text/plain": [
       "interface_eu_test          82644\n",
       "recommender_system_test    27724\n",
       "Name: ab_test, dtype: int64"
      ]
     },
     "execution_count": 19,
     "metadata": {},
     "output_type": "execute_result"
    }
   ],
   "source": [
    "united_df['ab_test'].value_counts()"
   ]
  },
  {
   "cell_type": "markdown",
   "metadata": {
    "id": "EhkoIKk8LdJe"
   },
   "source": [
    "В датасет попали пользователи из другого теста (interface_eu_test). Посмотрим, есть ли люди из группы Б, которые попали в оба теста одновременно, если есть, удалим их."
   ]
  },
  {
   "cell_type": "code",
   "execution_count": 20,
   "metadata": {
    "id": "yvqUvu_NLdJe",
    "scrolled": true
   },
   "outputs": [],
   "source": [
    "two_test = np.intersect1d(united_df.query('ab_test == \"recommender_system_test\" and group  == \"B\"')['user_id'],\n",
    "               united_df.query('ab_test == \"interface_eu_test\"')['user_id'])"
   ]
  },
  {
   "cell_type": "code",
   "execution_count": 21,
   "metadata": {
    "id": "FEAjGazPLdJf"
   },
   "outputs": [],
   "source": [
    "system_test = united_df.query('user_id not in @two_test')"
   ]
  },
  {
   "cell_type": "code",
   "execution_count": 22,
   "metadata": {
    "id": "Ji-voBH4LdJf"
   },
   "outputs": [],
   "source": [
    "system_test = system_test[system_test['ab_test'] == 'recommender_system_test']"
   ]
  },
  {
   "cell_type": "code",
   "execution_count": 23,
   "metadata": {
    "colab": {
     "base_uri": "https://localhost:8080/",
     "height": 424
    },
    "id": "sdauDDxXLdJf",
    "outputId": "886bc67d-4162-4295-9032-15eafbf24769",
    "scrolled": false
   },
   "outputs": [
    {
     "data": {
      "text/html": [
       "<div>\n",
       "<style scoped>\n",
       "    .dataframe tbody tr th:only-of-type {\n",
       "        vertical-align: middle;\n",
       "    }\n",
       "\n",
       "    .dataframe tbody tr th {\n",
       "        vertical-align: top;\n",
       "    }\n",
       "\n",
       "    .dataframe thead th {\n",
       "        text-align: right;\n",
       "    }\n",
       "</style>\n",
       "<table border=\"1\" class=\"dataframe\">\n",
       "  <thead>\n",
       "    <tr style=\"text-align: right;\">\n",
       "      <th></th>\n",
       "      <th>user_id</th>\n",
       "      <th>group</th>\n",
       "      <th>ab_test</th>\n",
       "      <th>event_dt</th>\n",
       "      <th>event_name</th>\n",
       "      <th>details</th>\n",
       "      <th>first_date</th>\n",
       "      <th>region</th>\n",
       "      <th>device</th>\n",
       "    </tr>\n",
       "  </thead>\n",
       "  <tbody>\n",
       "    <tr>\n",
       "      <th>0</th>\n",
       "      <td>D1ABA3E2887B6A73</td>\n",
       "      <td>A</td>\n",
       "      <td>recommender_system_test</td>\n",
       "      <td>2020-12-07 14:43:27</td>\n",
       "      <td>purchase</td>\n",
       "      <td>99.99</td>\n",
       "      <td>2020-12-07</td>\n",
       "      <td>EU</td>\n",
       "      <td>PC</td>\n",
       "    </tr>\n",
       "    <tr>\n",
       "      <th>1</th>\n",
       "      <td>D1ABA3E2887B6A73</td>\n",
       "      <td>A</td>\n",
       "      <td>recommender_system_test</td>\n",
       "      <td>2020-12-25 00:04:56</td>\n",
       "      <td>purchase</td>\n",
       "      <td>4.99</td>\n",
       "      <td>2020-12-07</td>\n",
       "      <td>EU</td>\n",
       "      <td>PC</td>\n",
       "    </tr>\n",
       "    <tr>\n",
       "      <th>2</th>\n",
       "      <td>D1ABA3E2887B6A73</td>\n",
       "      <td>A</td>\n",
       "      <td>recommender_system_test</td>\n",
       "      <td>2020-12-07 14:43:29</td>\n",
       "      <td>product_cart</td>\n",
       "      <td>NaN</td>\n",
       "      <td>2020-12-07</td>\n",
       "      <td>EU</td>\n",
       "      <td>PC</td>\n",
       "    </tr>\n",
       "    <tr>\n",
       "      <th>3</th>\n",
       "      <td>D1ABA3E2887B6A73</td>\n",
       "      <td>A</td>\n",
       "      <td>recommender_system_test</td>\n",
       "      <td>2020-12-25 00:04:57</td>\n",
       "      <td>product_cart</td>\n",
       "      <td>NaN</td>\n",
       "      <td>2020-12-07</td>\n",
       "      <td>EU</td>\n",
       "      <td>PC</td>\n",
       "    </tr>\n",
       "    <tr>\n",
       "      <th>4</th>\n",
       "      <td>D1ABA3E2887B6A73</td>\n",
       "      <td>A</td>\n",
       "      <td>recommender_system_test</td>\n",
       "      <td>2020-12-07 14:43:27</td>\n",
       "      <td>product_page</td>\n",
       "      <td>NaN</td>\n",
       "      <td>2020-12-07</td>\n",
       "      <td>EU</td>\n",
       "      <td>PC</td>\n",
       "    </tr>\n",
       "    <tr>\n",
       "      <th>...</th>\n",
       "      <td>...</td>\n",
       "      <td>...</td>\n",
       "      <td>...</td>\n",
       "      <td>...</td>\n",
       "      <td>...</td>\n",
       "      <td>...</td>\n",
       "      <td>...</td>\n",
       "      <td>...</td>\n",
       "      <td>...</td>\n",
       "    </tr>\n",
       "    <tr>\n",
       "      <th>27719</th>\n",
       "      <td>6715343AFBA285AE</td>\n",
       "      <td>B</td>\n",
       "      <td>recommender_system_test</td>\n",
       "      <td>2020-12-07 10:12:15</td>\n",
       "      <td>login</td>\n",
       "      <td>NaN</td>\n",
       "      <td>2020-12-07</td>\n",
       "      <td>CIS</td>\n",
       "      <td>Android</td>\n",
       "    </tr>\n",
       "    <tr>\n",
       "      <th>27720</th>\n",
       "      <td>6715343AFBA285AE</td>\n",
       "      <td>B</td>\n",
       "      <td>recommender_system_test</td>\n",
       "      <td>2020-12-08 22:51:16</td>\n",
       "      <td>login</td>\n",
       "      <td>NaN</td>\n",
       "      <td>2020-12-07</td>\n",
       "      <td>CIS</td>\n",
       "      <td>Android</td>\n",
       "    </tr>\n",
       "    <tr>\n",
       "      <th>27721</th>\n",
       "      <td>6715343AFBA285AE</td>\n",
       "      <td>B</td>\n",
       "      <td>recommender_system_test</td>\n",
       "      <td>2020-12-09 02:28:03</td>\n",
       "      <td>login</td>\n",
       "      <td>NaN</td>\n",
       "      <td>2020-12-07</td>\n",
       "      <td>CIS</td>\n",
       "      <td>Android</td>\n",
       "    </tr>\n",
       "    <tr>\n",
       "      <th>27722</th>\n",
       "      <td>6715343AFBA285AE</td>\n",
       "      <td>B</td>\n",
       "      <td>recommender_system_test</td>\n",
       "      <td>2020-12-10 22:55:14</td>\n",
       "      <td>login</td>\n",
       "      <td>NaN</td>\n",
       "      <td>2020-12-07</td>\n",
       "      <td>CIS</td>\n",
       "      <td>Android</td>\n",
       "    </tr>\n",
       "    <tr>\n",
       "      <th>27723</th>\n",
       "      <td>6715343AFBA285AE</td>\n",
       "      <td>B</td>\n",
       "      <td>recommender_system_test</td>\n",
       "      <td>2020-12-14 12:40:41</td>\n",
       "      <td>login</td>\n",
       "      <td>NaN</td>\n",
       "      <td>2020-12-07</td>\n",
       "      <td>CIS</td>\n",
       "      <td>Android</td>\n",
       "    </tr>\n",
       "  </tbody>\n",
       "</table>\n",
       "<p>25938 rows × 9 columns</p>\n",
       "</div>"
      ],
      "text/plain": [
       "                user_id group                  ab_test             event_dt  \\\n",
       "0      D1ABA3E2887B6A73     A  recommender_system_test  2020-12-07 14:43:27   \n",
       "1      D1ABA3E2887B6A73     A  recommender_system_test  2020-12-25 00:04:56   \n",
       "2      D1ABA3E2887B6A73     A  recommender_system_test  2020-12-07 14:43:29   \n",
       "3      D1ABA3E2887B6A73     A  recommender_system_test  2020-12-25 00:04:57   \n",
       "4      D1ABA3E2887B6A73     A  recommender_system_test  2020-12-07 14:43:27   \n",
       "...                 ...   ...                      ...                  ...   \n",
       "27719  6715343AFBA285AE     B  recommender_system_test  2020-12-07 10:12:15   \n",
       "27720  6715343AFBA285AE     B  recommender_system_test  2020-12-08 22:51:16   \n",
       "27721  6715343AFBA285AE     B  recommender_system_test  2020-12-09 02:28:03   \n",
       "27722  6715343AFBA285AE     B  recommender_system_test  2020-12-10 22:55:14   \n",
       "27723  6715343AFBA285AE     B  recommender_system_test  2020-12-14 12:40:41   \n",
       "\n",
       "         event_name  details  first_date region   device  \n",
       "0          purchase    99.99  2020-12-07     EU       PC  \n",
       "1          purchase     4.99  2020-12-07     EU       PC  \n",
       "2      product_cart      NaN  2020-12-07     EU       PC  \n",
       "3      product_cart      NaN  2020-12-07     EU       PC  \n",
       "4      product_page      NaN  2020-12-07     EU       PC  \n",
       "...             ...      ...         ...    ...      ...  \n",
       "27719         login      NaN  2020-12-07    CIS  Android  \n",
       "27720         login      NaN  2020-12-07    CIS  Android  \n",
       "27721         login      NaN  2020-12-07    CIS  Android  \n",
       "27722         login      NaN  2020-12-07    CIS  Android  \n",
       "27723         login      NaN  2020-12-07    CIS  Android  \n",
       "\n",
       "[25938 rows x 9 columns]"
      ]
     },
     "execution_count": 23,
     "metadata": {},
     "output_type": "execute_result"
    }
   ],
   "source": [
    "system_test"
   ]
  },
  {
   "cell_type": "markdown",
   "metadata": {
    "id": "XL4Pwv6nLdJf"
   },
   "source": [
    "Оставили только пользователей из  recommender_system_test"
   ]
  },
  {
   "cell_type": "markdown",
   "metadata": {
    "id": "QruCs3HHLdJg"
   },
   "source": [
    "**3.2 Проверка групп теста**"
   ]
  },
  {
   "cell_type": "code",
   "execution_count": 24,
   "metadata": {
    "colab": {
     "base_uri": "https://localhost:8080/"
    },
    "id": "g0un6bL1LdJg",
    "outputId": "5ce71c76-ce17-41ad-9da4-8ac314c8f5b1"
   },
   "outputs": [
    {
     "data": {
      "text/plain": [
       "A    20381\n",
       "B     5557\n",
       "Name: group, dtype: int64"
      ]
     },
     "execution_count": 24,
     "metadata": {},
     "output_type": "execute_result"
    }
   ],
   "source": [
    "system_test['group'].value_counts()"
   ]
  },
  {
   "cell_type": "markdown",
   "metadata": {
    "id": "Jo_V9iIVLdJg"
   },
   "source": [
    "В столбце с группами корректные значения"
   ]
  },
  {
   "cell_type": "markdown",
   "metadata": {
    "id": "JbgGzC2eLdJg"
   },
   "source": [
    "**3.3 Проверка даты запуска**"
   ]
  },
  {
   "cell_type": "code",
   "execution_count": 25,
   "metadata": {
    "colab": {
     "base_uri": "https://localhost:8080/",
     "height": 35
    },
    "id": "SsxHyGhCLdJh",
    "outputId": "e6d97afe-0ee8-4a19-d24c-e2fe7dc97515"
   },
   "outputs": [
    {
     "data": {
      "text/plain": [
       "'2020-12-07'"
      ]
     },
     "execution_count": 25,
     "metadata": {},
     "output_type": "execute_result"
    }
   ],
   "source": [
    "system_test['first_date'].min()"
   ]
  },
  {
   "cell_type": "markdown",
   "metadata": {
    "id": "3qGUHh4TLdJh"
   },
   "source": [
    "Минимальная дата 7 декабря 2020 года. Все как в ТЗ"
   ]
  },
  {
   "cell_type": "code",
   "execution_count": 26,
   "metadata": {
    "colab": {
     "base_uri": "https://localhost:8080/",
     "height": 35
    },
    "id": "VNKwzqm1LdJh",
    "outputId": "fabd3606-a996-4ed4-d089-321be47eb878"
   },
   "outputs": [
    {
     "data": {
      "text/plain": [
       "'2020-12-21'"
      ]
     },
     "execution_count": 26,
     "metadata": {},
     "output_type": "execute_result"
    }
   ],
   "source": [
    "system_test['first_date'].max()"
   ]
  },
  {
   "cell_type": "markdown",
   "metadata": {
    "id": "yL4L6dluLdJh"
   },
   "source": []
  },
  {
   "cell_type": "markdown",
   "metadata": {
    "id": "TJ3CDeEDLdJi"
   },
   "source": [
    "Максимальная дата 20 декабря 2020 года. Дата остановки набора новых пользователей по тз 21 декабря 2020 года. Нет противоречий с ТЗ"
   ]
  },
  {
   "cell_type": "markdown",
   "metadata": {
    "id": "mNXHCo93LdJi"
   },
   "source": [
    "Также отсечем события, которые совершались после 01-04-2021 (по ТЗ)."
   ]
  },
  {
   "cell_type": "code",
   "execution_count": 27,
   "metadata": {
    "colab": {
     "base_uri": "https://localhost:8080/"
    },
    "id": "DKRJgXcALdJi",
    "outputId": "79548e44-927a-41fc-d820-6ee29fca2bcb"
   },
   "outputs": [
    {
     "data": {
      "text/plain": [
       "Timestamp('2020-12-30 06:42:52')"
      ]
     },
     "execution_count": 27,
     "metadata": {},
     "output_type": "execute_result"
    }
   ],
   "source": [
    "pd.to_datetime(system_test['event_dt']).max()"
   ]
  },
  {
   "cell_type": "code",
   "execution_count": 28,
   "metadata": {
    "id": "_YqtwZrLLdJi"
   },
   "outputs": [],
   "source": [
    "system_test = system_test[system_test['event_dt'] <= '2021-01-04']"
   ]
  },
  {
   "cell_type": "markdown",
   "metadata": {
    "id": "Yaua78loLdJj"
   },
   "source": [
    "**3.4 Отсечем пользователей, которые не из региона EU**"
   ]
  },
  {
   "cell_type": "code",
   "execution_count": 29,
   "metadata": {
    "id": "ugFrlbncLdJj"
   },
   "outputs": [],
   "source": [
    "system_test= system_test[system_test['region'] == 'EU']"
   ]
  },
  {
   "cell_type": "code",
   "execution_count": 30,
   "metadata": {
    "colab": {
     "base_uri": "https://localhost:8080/",
     "height": 424
    },
    "id": "PGUlO42qLdJj",
    "outputId": "d29be0b0-13f7-442f-f7b8-d20378edcf4b"
   },
   "outputs": [
    {
     "data": {
      "text/html": [
       "<div>\n",
       "<style scoped>\n",
       "    .dataframe tbody tr th:only-of-type {\n",
       "        vertical-align: middle;\n",
       "    }\n",
       "\n",
       "    .dataframe tbody tr th {\n",
       "        vertical-align: top;\n",
       "    }\n",
       "\n",
       "    .dataframe thead th {\n",
       "        text-align: right;\n",
       "    }\n",
       "</style>\n",
       "<table border=\"1\" class=\"dataframe\">\n",
       "  <thead>\n",
       "    <tr style=\"text-align: right;\">\n",
       "      <th></th>\n",
       "      <th>user_id</th>\n",
       "      <th>group</th>\n",
       "      <th>ab_test</th>\n",
       "      <th>event_dt</th>\n",
       "      <th>event_name</th>\n",
       "      <th>details</th>\n",
       "      <th>first_date</th>\n",
       "      <th>region</th>\n",
       "      <th>device</th>\n",
       "    </tr>\n",
       "  </thead>\n",
       "  <tbody>\n",
       "    <tr>\n",
       "      <th>0</th>\n",
       "      <td>D1ABA3E2887B6A73</td>\n",
       "      <td>A</td>\n",
       "      <td>recommender_system_test</td>\n",
       "      <td>2020-12-07 14:43:27</td>\n",
       "      <td>purchase</td>\n",
       "      <td>99.99</td>\n",
       "      <td>2020-12-07</td>\n",
       "      <td>EU</td>\n",
       "      <td>PC</td>\n",
       "    </tr>\n",
       "    <tr>\n",
       "      <th>1</th>\n",
       "      <td>D1ABA3E2887B6A73</td>\n",
       "      <td>A</td>\n",
       "      <td>recommender_system_test</td>\n",
       "      <td>2020-12-25 00:04:56</td>\n",
       "      <td>purchase</td>\n",
       "      <td>4.99</td>\n",
       "      <td>2020-12-07</td>\n",
       "      <td>EU</td>\n",
       "      <td>PC</td>\n",
       "    </tr>\n",
       "    <tr>\n",
       "      <th>2</th>\n",
       "      <td>D1ABA3E2887B6A73</td>\n",
       "      <td>A</td>\n",
       "      <td>recommender_system_test</td>\n",
       "      <td>2020-12-07 14:43:29</td>\n",
       "      <td>product_cart</td>\n",
       "      <td>NaN</td>\n",
       "      <td>2020-12-07</td>\n",
       "      <td>EU</td>\n",
       "      <td>PC</td>\n",
       "    </tr>\n",
       "    <tr>\n",
       "      <th>3</th>\n",
       "      <td>D1ABA3E2887B6A73</td>\n",
       "      <td>A</td>\n",
       "      <td>recommender_system_test</td>\n",
       "      <td>2020-12-25 00:04:57</td>\n",
       "      <td>product_cart</td>\n",
       "      <td>NaN</td>\n",
       "      <td>2020-12-07</td>\n",
       "      <td>EU</td>\n",
       "      <td>PC</td>\n",
       "    </tr>\n",
       "    <tr>\n",
       "      <th>4</th>\n",
       "      <td>D1ABA3E2887B6A73</td>\n",
       "      <td>A</td>\n",
       "      <td>recommender_system_test</td>\n",
       "      <td>2020-12-07 14:43:27</td>\n",
       "      <td>product_page</td>\n",
       "      <td>NaN</td>\n",
       "      <td>2020-12-07</td>\n",
       "      <td>EU</td>\n",
       "      <td>PC</td>\n",
       "    </tr>\n",
       "    <tr>\n",
       "      <th>...</th>\n",
       "      <td>...</td>\n",
       "      <td>...</td>\n",
       "      <td>...</td>\n",
       "      <td>...</td>\n",
       "      <td>...</td>\n",
       "      <td>...</td>\n",
       "      <td>...</td>\n",
       "      <td>...</td>\n",
       "      <td>...</td>\n",
       "    </tr>\n",
       "    <tr>\n",
       "      <th>26285</th>\n",
       "      <td>80712ED4EA1B52A5</td>\n",
       "      <td>A</td>\n",
       "      <td>recommender_system_test</td>\n",
       "      <td>2020-12-15 20:10:06</td>\n",
       "      <td>product_page</td>\n",
       "      <td>NaN</td>\n",
       "      <td>2020-12-14</td>\n",
       "      <td>EU</td>\n",
       "      <td>Android</td>\n",
       "    </tr>\n",
       "    <tr>\n",
       "      <th>26286</th>\n",
       "      <td>80712ED4EA1B52A5</td>\n",
       "      <td>A</td>\n",
       "      <td>recommender_system_test</td>\n",
       "      <td>2020-12-20 20:01:34</td>\n",
       "      <td>product_page</td>\n",
       "      <td>NaN</td>\n",
       "      <td>2020-12-14</td>\n",
       "      <td>EU</td>\n",
       "      <td>Android</td>\n",
       "    </tr>\n",
       "    <tr>\n",
       "      <th>26287</th>\n",
       "      <td>80712ED4EA1B52A5</td>\n",
       "      <td>A</td>\n",
       "      <td>recommender_system_test</td>\n",
       "      <td>2020-12-14 05:48:50</td>\n",
       "      <td>login</td>\n",
       "      <td>NaN</td>\n",
       "      <td>2020-12-14</td>\n",
       "      <td>EU</td>\n",
       "      <td>Android</td>\n",
       "    </tr>\n",
       "    <tr>\n",
       "      <th>26288</th>\n",
       "      <td>80712ED4EA1B52A5</td>\n",
       "      <td>A</td>\n",
       "      <td>recommender_system_test</td>\n",
       "      <td>2020-12-15 20:10:03</td>\n",
       "      <td>login</td>\n",
       "      <td>NaN</td>\n",
       "      <td>2020-12-14</td>\n",
       "      <td>EU</td>\n",
       "      <td>Android</td>\n",
       "    </tr>\n",
       "    <tr>\n",
       "      <th>26289</th>\n",
       "      <td>80712ED4EA1B52A5</td>\n",
       "      <td>A</td>\n",
       "      <td>recommender_system_test</td>\n",
       "      <td>2020-12-20 20:01:32</td>\n",
       "      <td>login</td>\n",
       "      <td>NaN</td>\n",
       "      <td>2020-12-14</td>\n",
       "      <td>EU</td>\n",
       "      <td>Android</td>\n",
       "    </tr>\n",
       "  </tbody>\n",
       "</table>\n",
       "<p>22093 rows × 9 columns</p>\n",
       "</div>"
      ],
      "text/plain": [
       "                user_id group                  ab_test             event_dt  \\\n",
       "0      D1ABA3E2887B6A73     A  recommender_system_test  2020-12-07 14:43:27   \n",
       "1      D1ABA3E2887B6A73     A  recommender_system_test  2020-12-25 00:04:56   \n",
       "2      D1ABA3E2887B6A73     A  recommender_system_test  2020-12-07 14:43:29   \n",
       "3      D1ABA3E2887B6A73     A  recommender_system_test  2020-12-25 00:04:57   \n",
       "4      D1ABA3E2887B6A73     A  recommender_system_test  2020-12-07 14:43:27   \n",
       "...                 ...   ...                      ...                  ...   \n",
       "26285  80712ED4EA1B52A5     A  recommender_system_test  2020-12-15 20:10:06   \n",
       "26286  80712ED4EA1B52A5     A  recommender_system_test  2020-12-20 20:01:34   \n",
       "26287  80712ED4EA1B52A5     A  recommender_system_test  2020-12-14 05:48:50   \n",
       "26288  80712ED4EA1B52A5     A  recommender_system_test  2020-12-15 20:10:03   \n",
       "26289  80712ED4EA1B52A5     A  recommender_system_test  2020-12-20 20:01:32   \n",
       "\n",
       "         event_name  details  first_date region   device  \n",
       "0          purchase    99.99  2020-12-07     EU       PC  \n",
       "1          purchase     4.99  2020-12-07     EU       PC  \n",
       "2      product_cart      NaN  2020-12-07     EU       PC  \n",
       "3      product_cart      NaN  2020-12-07     EU       PC  \n",
       "4      product_page      NaN  2020-12-07     EU       PC  \n",
       "...             ...      ...         ...    ...      ...  \n",
       "26285  product_page      NaN  2020-12-14     EU  Android  \n",
       "26286  product_page      NaN  2020-12-14     EU  Android  \n",
       "26287         login      NaN  2020-12-14     EU  Android  \n",
       "26288         login      NaN  2020-12-14     EU  Android  \n",
       "26289         login      NaN  2020-12-14     EU  Android  \n",
       "\n",
       "[22093 rows x 9 columns]"
      ]
     },
     "execution_count": 30,
     "metadata": {},
     "output_type": "execute_result"
    }
   ],
   "source": [
    "system_test"
   ]
  },
  {
   "cell_type": "markdown",
   "metadata": {
    "id": "MTq5hU7xLdJk"
   },
   "source": [
    "**3.5 Отсечем пользователей, которые не совершали никаких действий после региcтрации**"
   ]
  },
  {
   "cell_type": "code",
   "execution_count": 31,
   "metadata": {
    "id": "h1qIxQOSLdJk"
   },
   "outputs": [],
   "source": [
    "only_reg = system_test.groupby('user_id', as_index = False)['event_dt'].count()"
   ]
  },
  {
   "cell_type": "code",
   "execution_count": 32,
   "metadata": {
    "colab": {
     "base_uri": "https://localhost:8080/",
     "height": 424
    },
    "id": "s8C7KfGGLdJk",
    "outputId": "85fc3bc1-33bf-470c-9dae-9df524cca3e3"
   },
   "outputs": [
    {
     "data": {
      "text/html": [
       "<div>\n",
       "<style scoped>\n",
       "    .dataframe tbody tr th:only-of-type {\n",
       "        vertical-align: middle;\n",
       "    }\n",
       "\n",
       "    .dataframe tbody tr th {\n",
       "        vertical-align: top;\n",
       "    }\n",
       "\n",
       "    .dataframe thead th {\n",
       "        text-align: right;\n",
       "    }\n",
       "</style>\n",
       "<table border=\"1\" class=\"dataframe\">\n",
       "  <thead>\n",
       "    <tr style=\"text-align: right;\">\n",
       "      <th></th>\n",
       "      <th>user_id</th>\n",
       "      <th>event_dt</th>\n",
       "    </tr>\n",
       "  </thead>\n",
       "  <tbody>\n",
       "    <tr>\n",
       "      <th>0</th>\n",
       "      <td>0010A1C096941592</td>\n",
       "      <td>12</td>\n",
       "    </tr>\n",
       "    <tr>\n",
       "      <th>1</th>\n",
       "      <td>00341D8401F0F665</td>\n",
       "      <td>2</td>\n",
       "    </tr>\n",
       "    <tr>\n",
       "      <th>2</th>\n",
       "      <td>003DF44D7589BBD4</td>\n",
       "      <td>15</td>\n",
       "    </tr>\n",
       "    <tr>\n",
       "      <th>3</th>\n",
       "      <td>00505E15A9D81546</td>\n",
       "      <td>5</td>\n",
       "    </tr>\n",
       "    <tr>\n",
       "      <th>4</th>\n",
       "      <td>005E096DBD379BCF</td>\n",
       "      <td>4</td>\n",
       "    </tr>\n",
       "    <tr>\n",
       "      <th>...</th>\n",
       "      <td>...</td>\n",
       "      <td>...</td>\n",
       "    </tr>\n",
       "    <tr>\n",
       "      <th>3254</th>\n",
       "      <td>FF5A1CD38F5DD996</td>\n",
       "      <td>10</td>\n",
       "    </tr>\n",
       "    <tr>\n",
       "      <th>3255</th>\n",
       "      <td>FF5B24BCE4387F86</td>\n",
       "      <td>9</td>\n",
       "    </tr>\n",
       "    <tr>\n",
       "      <th>3256</th>\n",
       "      <td>FF825C1D791989B5</td>\n",
       "      <td>8</td>\n",
       "    </tr>\n",
       "    <tr>\n",
       "      <th>3257</th>\n",
       "      <td>FF8CF7057415EB29</td>\n",
       "      <td>4</td>\n",
       "    </tr>\n",
       "    <tr>\n",
       "      <th>3258</th>\n",
       "      <td>FFAE9489C76F352B</td>\n",
       "      <td>6</td>\n",
       "    </tr>\n",
       "  </tbody>\n",
       "</table>\n",
       "<p>3259 rows × 2 columns</p>\n",
       "</div>"
      ],
      "text/plain": [
       "               user_id  event_dt\n",
       "0     0010A1C096941592        12\n",
       "1     00341D8401F0F665         2\n",
       "2     003DF44D7589BBD4        15\n",
       "3     00505E15A9D81546         5\n",
       "4     005E096DBD379BCF         4\n",
       "...                ...       ...\n",
       "3254  FF5A1CD38F5DD996        10\n",
       "3255  FF5B24BCE4387F86         9\n",
       "3256  FF825C1D791989B5         8\n",
       "3257  FF8CF7057415EB29         4\n",
       "3258  FFAE9489C76F352B         6\n",
       "\n",
       "[3259 rows x 2 columns]"
      ]
     },
     "execution_count": 32,
     "metadata": {},
     "output_type": "execute_result"
    }
   ],
   "source": [
    "only_reg"
   ]
  },
  {
   "cell_type": "code",
   "execution_count": 33,
   "metadata": {
    "id": "btNfmeJfLdJk"
   },
   "outputs": [],
   "source": [
    "only_reg = only_reg.query('event_dt > 1')['user_id']"
   ]
  },
  {
   "cell_type": "code",
   "execution_count": 34,
   "metadata": {
    "colab": {
     "base_uri": "https://localhost:8080/"
    },
    "id": "KaxVz0aXLdJl",
    "outputId": "82dcfa07-14fe-4756-a1f3-f00d8bd27f68"
   },
   "outputs": [
    {
     "data": {
      "text/plain": [
       "0       0010A1C096941592\n",
       "1       00341D8401F0F665\n",
       "2       003DF44D7589BBD4\n",
       "3       00505E15A9D81546\n",
       "4       005E096DBD379BCF\n",
       "              ...       \n",
       "3254    FF5A1CD38F5DD996\n",
       "3255    FF5B24BCE4387F86\n",
       "3256    FF825C1D791989B5\n",
       "3257    FF8CF7057415EB29\n",
       "3258    FFAE9489C76F352B\n",
       "Name: user_id, Length: 3212, dtype: object"
      ]
     },
     "execution_count": 34,
     "metadata": {},
     "output_type": "execute_result"
    }
   ],
   "source": [
    "only_reg"
   ]
  },
  {
   "cell_type": "markdown",
   "metadata": {
    "id": "EGJMbJTELdJl"
   },
   "source": [
    "3259 уникальных пользователей совершали действия после регистрации"
   ]
  },
  {
   "cell_type": "markdown",
   "metadata": {
    "id": "5X8RysbkLdJl"
   },
   "source": [
    "Убираем лишних пользователей из датасета"
   ]
  },
  {
   "cell_type": "code",
   "execution_count": 35,
   "metadata": {
    "id": "SzBRYPcCLdJl"
   },
   "outputs": [],
   "source": [
    "system_test = system_test.query('user_id in @only_reg')"
   ]
  },
  {
   "cell_type": "code",
   "execution_count": 36,
   "metadata": {
    "colab": {
     "base_uri": "https://localhost:8080/",
     "height": 424
    },
    "id": "3SE2lzb-LdJm",
    "outputId": "d9461c8f-1ee0-479d-8438-b25a8dcd2b47"
   },
   "outputs": [
    {
     "data": {
      "text/html": [
       "<div>\n",
       "<style scoped>\n",
       "    .dataframe tbody tr th:only-of-type {\n",
       "        vertical-align: middle;\n",
       "    }\n",
       "\n",
       "    .dataframe tbody tr th {\n",
       "        vertical-align: top;\n",
       "    }\n",
       "\n",
       "    .dataframe thead th {\n",
       "        text-align: right;\n",
       "    }\n",
       "</style>\n",
       "<table border=\"1\" class=\"dataframe\">\n",
       "  <thead>\n",
       "    <tr style=\"text-align: right;\">\n",
       "      <th></th>\n",
       "      <th>user_id</th>\n",
       "      <th>group</th>\n",
       "      <th>ab_test</th>\n",
       "      <th>event_dt</th>\n",
       "      <th>event_name</th>\n",
       "      <th>details</th>\n",
       "      <th>first_date</th>\n",
       "      <th>region</th>\n",
       "      <th>device</th>\n",
       "    </tr>\n",
       "  </thead>\n",
       "  <tbody>\n",
       "    <tr>\n",
       "      <th>0</th>\n",
       "      <td>D1ABA3E2887B6A73</td>\n",
       "      <td>A</td>\n",
       "      <td>recommender_system_test</td>\n",
       "      <td>2020-12-07 14:43:27</td>\n",
       "      <td>purchase</td>\n",
       "      <td>99.99</td>\n",
       "      <td>2020-12-07</td>\n",
       "      <td>EU</td>\n",
       "      <td>PC</td>\n",
       "    </tr>\n",
       "    <tr>\n",
       "      <th>1</th>\n",
       "      <td>D1ABA3E2887B6A73</td>\n",
       "      <td>A</td>\n",
       "      <td>recommender_system_test</td>\n",
       "      <td>2020-12-25 00:04:56</td>\n",
       "      <td>purchase</td>\n",
       "      <td>4.99</td>\n",
       "      <td>2020-12-07</td>\n",
       "      <td>EU</td>\n",
       "      <td>PC</td>\n",
       "    </tr>\n",
       "    <tr>\n",
       "      <th>2</th>\n",
       "      <td>D1ABA3E2887B6A73</td>\n",
       "      <td>A</td>\n",
       "      <td>recommender_system_test</td>\n",
       "      <td>2020-12-07 14:43:29</td>\n",
       "      <td>product_cart</td>\n",
       "      <td>NaN</td>\n",
       "      <td>2020-12-07</td>\n",
       "      <td>EU</td>\n",
       "      <td>PC</td>\n",
       "    </tr>\n",
       "    <tr>\n",
       "      <th>3</th>\n",
       "      <td>D1ABA3E2887B6A73</td>\n",
       "      <td>A</td>\n",
       "      <td>recommender_system_test</td>\n",
       "      <td>2020-12-25 00:04:57</td>\n",
       "      <td>product_cart</td>\n",
       "      <td>NaN</td>\n",
       "      <td>2020-12-07</td>\n",
       "      <td>EU</td>\n",
       "      <td>PC</td>\n",
       "    </tr>\n",
       "    <tr>\n",
       "      <th>4</th>\n",
       "      <td>D1ABA3E2887B6A73</td>\n",
       "      <td>A</td>\n",
       "      <td>recommender_system_test</td>\n",
       "      <td>2020-12-07 14:43:27</td>\n",
       "      <td>product_page</td>\n",
       "      <td>NaN</td>\n",
       "      <td>2020-12-07</td>\n",
       "      <td>EU</td>\n",
       "      <td>PC</td>\n",
       "    </tr>\n",
       "    <tr>\n",
       "      <th>...</th>\n",
       "      <td>...</td>\n",
       "      <td>...</td>\n",
       "      <td>...</td>\n",
       "      <td>...</td>\n",
       "      <td>...</td>\n",
       "      <td>...</td>\n",
       "      <td>...</td>\n",
       "      <td>...</td>\n",
       "      <td>...</td>\n",
       "    </tr>\n",
       "    <tr>\n",
       "      <th>26285</th>\n",
       "      <td>80712ED4EA1B52A5</td>\n",
       "      <td>A</td>\n",
       "      <td>recommender_system_test</td>\n",
       "      <td>2020-12-15 20:10:06</td>\n",
       "      <td>product_page</td>\n",
       "      <td>NaN</td>\n",
       "      <td>2020-12-14</td>\n",
       "      <td>EU</td>\n",
       "      <td>Android</td>\n",
       "    </tr>\n",
       "    <tr>\n",
       "      <th>26286</th>\n",
       "      <td>80712ED4EA1B52A5</td>\n",
       "      <td>A</td>\n",
       "      <td>recommender_system_test</td>\n",
       "      <td>2020-12-20 20:01:34</td>\n",
       "      <td>product_page</td>\n",
       "      <td>NaN</td>\n",
       "      <td>2020-12-14</td>\n",
       "      <td>EU</td>\n",
       "      <td>Android</td>\n",
       "    </tr>\n",
       "    <tr>\n",
       "      <th>26287</th>\n",
       "      <td>80712ED4EA1B52A5</td>\n",
       "      <td>A</td>\n",
       "      <td>recommender_system_test</td>\n",
       "      <td>2020-12-14 05:48:50</td>\n",
       "      <td>login</td>\n",
       "      <td>NaN</td>\n",
       "      <td>2020-12-14</td>\n",
       "      <td>EU</td>\n",
       "      <td>Android</td>\n",
       "    </tr>\n",
       "    <tr>\n",
       "      <th>26288</th>\n",
       "      <td>80712ED4EA1B52A5</td>\n",
       "      <td>A</td>\n",
       "      <td>recommender_system_test</td>\n",
       "      <td>2020-12-15 20:10:03</td>\n",
       "      <td>login</td>\n",
       "      <td>NaN</td>\n",
       "      <td>2020-12-14</td>\n",
       "      <td>EU</td>\n",
       "      <td>Android</td>\n",
       "    </tr>\n",
       "    <tr>\n",
       "      <th>26289</th>\n",
       "      <td>80712ED4EA1B52A5</td>\n",
       "      <td>A</td>\n",
       "      <td>recommender_system_test</td>\n",
       "      <td>2020-12-20 20:01:32</td>\n",
       "      <td>login</td>\n",
       "      <td>NaN</td>\n",
       "      <td>2020-12-14</td>\n",
       "      <td>EU</td>\n",
       "      <td>Android</td>\n",
       "    </tr>\n",
       "  </tbody>\n",
       "</table>\n",
       "<p>22046 rows × 9 columns</p>\n",
       "</div>"
      ],
      "text/plain": [
       "                user_id group                  ab_test             event_dt  \\\n",
       "0      D1ABA3E2887B6A73     A  recommender_system_test  2020-12-07 14:43:27   \n",
       "1      D1ABA3E2887B6A73     A  recommender_system_test  2020-12-25 00:04:56   \n",
       "2      D1ABA3E2887B6A73     A  recommender_system_test  2020-12-07 14:43:29   \n",
       "3      D1ABA3E2887B6A73     A  recommender_system_test  2020-12-25 00:04:57   \n",
       "4      D1ABA3E2887B6A73     A  recommender_system_test  2020-12-07 14:43:27   \n",
       "...                 ...   ...                      ...                  ...   \n",
       "26285  80712ED4EA1B52A5     A  recommender_system_test  2020-12-15 20:10:06   \n",
       "26286  80712ED4EA1B52A5     A  recommender_system_test  2020-12-20 20:01:34   \n",
       "26287  80712ED4EA1B52A5     A  recommender_system_test  2020-12-14 05:48:50   \n",
       "26288  80712ED4EA1B52A5     A  recommender_system_test  2020-12-15 20:10:03   \n",
       "26289  80712ED4EA1B52A5     A  recommender_system_test  2020-12-20 20:01:32   \n",
       "\n",
       "         event_name  details  first_date region   device  \n",
       "0          purchase    99.99  2020-12-07     EU       PC  \n",
       "1          purchase     4.99  2020-12-07     EU       PC  \n",
       "2      product_cart      NaN  2020-12-07     EU       PC  \n",
       "3      product_cart      NaN  2020-12-07     EU       PC  \n",
       "4      product_page      NaN  2020-12-07     EU       PC  \n",
       "...             ...      ...         ...    ...      ...  \n",
       "26285  product_page      NaN  2020-12-14     EU  Android  \n",
       "26286  product_page      NaN  2020-12-14     EU  Android  \n",
       "26287         login      NaN  2020-12-14     EU  Android  \n",
       "26288         login      NaN  2020-12-14     EU  Android  \n",
       "26289         login      NaN  2020-12-14     EU  Android  \n",
       "\n",
       "[22046 rows x 9 columns]"
      ]
     },
     "execution_count": 36,
     "metadata": {},
     "output_type": "execute_result"
    }
   ],
   "source": [
    "system_test"
   ]
  },
  {
   "cell_type": "markdown",
   "metadata": {
    "id": "76CBmEMsLdJm"
   },
   "source": []
  },
  {
   "cell_type": "markdown",
   "metadata": {
    "id": "kyx3O-DKLdJm"
   },
   "source": [
    "**3.5 Отсечем события пользователей, после 14 дня. Т.к в ТЗ результат должен быть спустя 14 дней после регистрации**"
   ]
  },
  {
   "cell_type": "markdown",
   "metadata": {
    "id": "_nnt6EWsLdJm"
   },
   "source": [
    "Удаляем этих пользователей, потому что по ТЗ - Ожидаемый эффект: за 14 дней с момента регистрации в системе"
   ]
  },
  {
   "cell_type": "code",
   "execution_count": 37,
   "metadata": {
    "id": "AcAdWy-ALdJn",
    "scrolled": true
   },
   "outputs": [],
   "source": [
    "system_test['delta'] = pd.to_datetime(system_test['event_dt']) - pd.to_datetime(system_test['first_date'])"
   ]
  },
  {
   "cell_type": "code",
   "execution_count": 38,
   "metadata": {
    "id": "nu530X1ALdJn"
   },
   "outputs": [],
   "source": [
    "system_test['delta'] = system_test['delta'] / np.timedelta64 ( 1 , 'D')"
   ]
  },
  {
   "cell_type": "code",
   "execution_count": 39,
   "metadata": {
    "colab": {
     "base_uri": "https://localhost:8080/",
     "height": 424
    },
    "id": "FBzKJTNnLdJo",
    "outputId": "1661f1e0-7368-429c-cea1-e32b7f54f95a"
   },
   "outputs": [
    {
     "data": {
      "text/html": [
       "<div>\n",
       "<style scoped>\n",
       "    .dataframe tbody tr th:only-of-type {\n",
       "        vertical-align: middle;\n",
       "    }\n",
       "\n",
       "    .dataframe tbody tr th {\n",
       "        vertical-align: top;\n",
       "    }\n",
       "\n",
       "    .dataframe thead th {\n",
       "        text-align: right;\n",
       "    }\n",
       "</style>\n",
       "<table border=\"1\" class=\"dataframe\">\n",
       "  <thead>\n",
       "    <tr style=\"text-align: right;\">\n",
       "      <th></th>\n",
       "      <th>user_id</th>\n",
       "      <th>group</th>\n",
       "      <th>ab_test</th>\n",
       "      <th>event_dt</th>\n",
       "      <th>event_name</th>\n",
       "      <th>details</th>\n",
       "      <th>first_date</th>\n",
       "      <th>region</th>\n",
       "      <th>device</th>\n",
       "      <th>delta</th>\n",
       "    </tr>\n",
       "  </thead>\n",
       "  <tbody>\n",
       "    <tr>\n",
       "      <th>0</th>\n",
       "      <td>D1ABA3E2887B6A73</td>\n",
       "      <td>A</td>\n",
       "      <td>recommender_system_test</td>\n",
       "      <td>2020-12-07 14:43:27</td>\n",
       "      <td>purchase</td>\n",
       "      <td>99.99</td>\n",
       "      <td>2020-12-07</td>\n",
       "      <td>EU</td>\n",
       "      <td>PC</td>\n",
       "      <td>0.613507</td>\n",
       "    </tr>\n",
       "    <tr>\n",
       "      <th>1</th>\n",
       "      <td>D1ABA3E2887B6A73</td>\n",
       "      <td>A</td>\n",
       "      <td>recommender_system_test</td>\n",
       "      <td>2020-12-25 00:04:56</td>\n",
       "      <td>purchase</td>\n",
       "      <td>4.99</td>\n",
       "      <td>2020-12-07</td>\n",
       "      <td>EU</td>\n",
       "      <td>PC</td>\n",
       "      <td>18.003426</td>\n",
       "    </tr>\n",
       "    <tr>\n",
       "      <th>2</th>\n",
       "      <td>D1ABA3E2887B6A73</td>\n",
       "      <td>A</td>\n",
       "      <td>recommender_system_test</td>\n",
       "      <td>2020-12-07 14:43:29</td>\n",
       "      <td>product_cart</td>\n",
       "      <td>NaN</td>\n",
       "      <td>2020-12-07</td>\n",
       "      <td>EU</td>\n",
       "      <td>PC</td>\n",
       "      <td>0.613530</td>\n",
       "    </tr>\n",
       "    <tr>\n",
       "      <th>3</th>\n",
       "      <td>D1ABA3E2887B6A73</td>\n",
       "      <td>A</td>\n",
       "      <td>recommender_system_test</td>\n",
       "      <td>2020-12-25 00:04:57</td>\n",
       "      <td>product_cart</td>\n",
       "      <td>NaN</td>\n",
       "      <td>2020-12-07</td>\n",
       "      <td>EU</td>\n",
       "      <td>PC</td>\n",
       "      <td>18.003438</td>\n",
       "    </tr>\n",
       "    <tr>\n",
       "      <th>4</th>\n",
       "      <td>D1ABA3E2887B6A73</td>\n",
       "      <td>A</td>\n",
       "      <td>recommender_system_test</td>\n",
       "      <td>2020-12-07 14:43:27</td>\n",
       "      <td>product_page</td>\n",
       "      <td>NaN</td>\n",
       "      <td>2020-12-07</td>\n",
       "      <td>EU</td>\n",
       "      <td>PC</td>\n",
       "      <td>0.613507</td>\n",
       "    </tr>\n",
       "    <tr>\n",
       "      <th>...</th>\n",
       "      <td>...</td>\n",
       "      <td>...</td>\n",
       "      <td>...</td>\n",
       "      <td>...</td>\n",
       "      <td>...</td>\n",
       "      <td>...</td>\n",
       "      <td>...</td>\n",
       "      <td>...</td>\n",
       "      <td>...</td>\n",
       "      <td>...</td>\n",
       "    </tr>\n",
       "    <tr>\n",
       "      <th>26285</th>\n",
       "      <td>80712ED4EA1B52A5</td>\n",
       "      <td>A</td>\n",
       "      <td>recommender_system_test</td>\n",
       "      <td>2020-12-15 20:10:06</td>\n",
       "      <td>product_page</td>\n",
       "      <td>NaN</td>\n",
       "      <td>2020-12-14</td>\n",
       "      <td>EU</td>\n",
       "      <td>Android</td>\n",
       "      <td>1.840347</td>\n",
       "    </tr>\n",
       "    <tr>\n",
       "      <th>26286</th>\n",
       "      <td>80712ED4EA1B52A5</td>\n",
       "      <td>A</td>\n",
       "      <td>recommender_system_test</td>\n",
       "      <td>2020-12-20 20:01:34</td>\n",
       "      <td>product_page</td>\n",
       "      <td>NaN</td>\n",
       "      <td>2020-12-14</td>\n",
       "      <td>EU</td>\n",
       "      <td>Android</td>\n",
       "      <td>6.834421</td>\n",
       "    </tr>\n",
       "    <tr>\n",
       "      <th>26287</th>\n",
       "      <td>80712ED4EA1B52A5</td>\n",
       "      <td>A</td>\n",
       "      <td>recommender_system_test</td>\n",
       "      <td>2020-12-14 05:48:50</td>\n",
       "      <td>login</td>\n",
       "      <td>NaN</td>\n",
       "      <td>2020-12-14</td>\n",
       "      <td>EU</td>\n",
       "      <td>Android</td>\n",
       "      <td>0.242245</td>\n",
       "    </tr>\n",
       "    <tr>\n",
       "      <th>26288</th>\n",
       "      <td>80712ED4EA1B52A5</td>\n",
       "      <td>A</td>\n",
       "      <td>recommender_system_test</td>\n",
       "      <td>2020-12-15 20:10:03</td>\n",
       "      <td>login</td>\n",
       "      <td>NaN</td>\n",
       "      <td>2020-12-14</td>\n",
       "      <td>EU</td>\n",
       "      <td>Android</td>\n",
       "      <td>1.840313</td>\n",
       "    </tr>\n",
       "    <tr>\n",
       "      <th>26289</th>\n",
       "      <td>80712ED4EA1B52A5</td>\n",
       "      <td>A</td>\n",
       "      <td>recommender_system_test</td>\n",
       "      <td>2020-12-20 20:01:32</td>\n",
       "      <td>login</td>\n",
       "      <td>NaN</td>\n",
       "      <td>2020-12-14</td>\n",
       "      <td>EU</td>\n",
       "      <td>Android</td>\n",
       "      <td>6.834398</td>\n",
       "    </tr>\n",
       "  </tbody>\n",
       "</table>\n",
       "<p>22046 rows × 10 columns</p>\n",
       "</div>"
      ],
      "text/plain": [
       "                user_id group                  ab_test             event_dt  \\\n",
       "0      D1ABA3E2887B6A73     A  recommender_system_test  2020-12-07 14:43:27   \n",
       "1      D1ABA3E2887B6A73     A  recommender_system_test  2020-12-25 00:04:56   \n",
       "2      D1ABA3E2887B6A73     A  recommender_system_test  2020-12-07 14:43:29   \n",
       "3      D1ABA3E2887B6A73     A  recommender_system_test  2020-12-25 00:04:57   \n",
       "4      D1ABA3E2887B6A73     A  recommender_system_test  2020-12-07 14:43:27   \n",
       "...                 ...   ...                      ...                  ...   \n",
       "26285  80712ED4EA1B52A5     A  recommender_system_test  2020-12-15 20:10:06   \n",
       "26286  80712ED4EA1B52A5     A  recommender_system_test  2020-12-20 20:01:34   \n",
       "26287  80712ED4EA1B52A5     A  recommender_system_test  2020-12-14 05:48:50   \n",
       "26288  80712ED4EA1B52A5     A  recommender_system_test  2020-12-15 20:10:03   \n",
       "26289  80712ED4EA1B52A5     A  recommender_system_test  2020-12-20 20:01:32   \n",
       "\n",
       "         event_name  details  first_date region   device      delta  \n",
       "0          purchase    99.99  2020-12-07     EU       PC   0.613507  \n",
       "1          purchase     4.99  2020-12-07     EU       PC  18.003426  \n",
       "2      product_cart      NaN  2020-12-07     EU       PC   0.613530  \n",
       "3      product_cart      NaN  2020-12-07     EU       PC  18.003438  \n",
       "4      product_page      NaN  2020-12-07     EU       PC   0.613507  \n",
       "...             ...      ...         ...    ...      ...        ...  \n",
       "26285  product_page      NaN  2020-12-14     EU  Android   1.840347  \n",
       "26286  product_page      NaN  2020-12-14     EU  Android   6.834421  \n",
       "26287         login      NaN  2020-12-14     EU  Android   0.242245  \n",
       "26288         login      NaN  2020-12-14     EU  Android   1.840313  \n",
       "26289         login      NaN  2020-12-14     EU  Android   6.834398  \n",
       "\n",
       "[22046 rows x 10 columns]"
      ]
     },
     "execution_count": 39,
     "metadata": {},
     "output_type": "execute_result"
    }
   ],
   "source": [
    "system_test"
   ]
  },
  {
   "cell_type": "code",
   "execution_count": 40,
   "metadata": {
    "id": "6gZGMv48LdJo"
   },
   "outputs": [],
   "source": [
    "system_test = system_test[system_test['delta'] <= 14]"
   ]
  },
  {
   "cell_type": "markdown",
   "metadata": {
    "id": "6CW-9voqLdJo"
   },
   "source": [
    " **3.6 Проверяем и удаляем пользователей, которые участвуют в обеих группах**"
   ]
  },
  {
   "cell_type": "code",
   "execution_count": 41,
   "metadata": {
    "colab": {
     "base_uri": "https://localhost:8080/"
    },
    "id": "U7QGmAZCLdJo",
    "outputId": "e6d18a15-019c-4289-b207-469446e36bfc"
   },
   "outputs": [
    {
     "data": {
      "text/plain": [
       "array([], dtype=object)"
      ]
     },
     "execution_count": 41,
     "metadata": {},
     "output_type": "execute_result"
    }
   ],
   "source": [
    "np.intersect1d(system_test.query('group == \"A\"')['user_id'], system_test.query('group == \"B\"')['user_id'])"
   ]
  },
  {
   "cell_type": "markdown",
   "metadata": {
    "id": "uDpDgzCeLdJp"
   },
   "source": [
    "Таких пользователей нет"
   ]
  },
  {
   "cell_type": "markdown",
   "metadata": {
    "id": "G0OdmHpNLdJp"
   },
   "source": [
    "**3.7 Проверяем и удаляем пользователей, которые не участвуют ни в одной группе**"
   ]
  },
  {
   "cell_type": "code",
   "execution_count": 42,
   "metadata": {
    "colab": {
     "base_uri": "https://localhost:8080/"
    },
    "id": "mp8-Oqg1LdJp",
    "outputId": "8b201a3d-41db-4a1b-eb6a-c1a9d2771954"
   },
   "outputs": [
    {
     "data": {
      "text/plain": [
       "array([], dtype=object)"
      ]
     },
     "execution_count": 42,
     "metadata": {},
     "output_type": "execute_result"
    }
   ],
   "source": [
    "np.intersect1d(system_test.query('group != \"A\"')['user_id'].unique(), system_test.query('group != \"B\"')['user_id'].unique())"
   ]
  },
  {
   "cell_type": "markdown",
   "metadata": {
    "id": "JHfHT1bRLdJp"
   },
   "source": [
    "Таких пользователей нет"
   ]
  },
  {
   "cell_type": "markdown",
   "metadata": {
    "id": "lQCP62g3LdJq"
   },
   "source": [
    "**3.8 Считаем долю пользователей из EU.**"
   ]
  },
  {
   "cell_type": "code",
   "execution_count": 43,
   "metadata": {
    "colab": {
     "base_uri": "https://localhost:8080/"
    },
    "id": "bblxXWSZLdJq",
    "outputId": "4226ca92-2759-489c-b402-482553cd021b"
   },
   "outputs": [
    {
     "data": {
      "text/plain": [
       "19.272770910836435"
      ]
     },
     "execution_count": 43,
     "metadata": {},
     "output_type": "execute_result"
    }
   ],
   "source": [
    "(system_test.groupby('user_id')['user_id'].first().count()/united_df.groupby('user_id')['user_id'].first().count())*100"
   ]
  },
  {
   "cell_type": "markdown",
   "metadata": {
    "id": "F9bp-thkLdJq"
   },
   "source": [
    "Получается, 19% новых пользователей из EU"
   ]
  },
  {
   "cell_type": "code",
   "execution_count": 44,
   "metadata": {
    "id": "pYT4Wf6kLdJr"
   },
   "outputs": [],
   "source": [
    "check_eu_united = users[(users['region'] == 'EU')]\n",
    "check_eu_united = check_eu_united.query('first_date >= \"2020-12-07\" and first_date <= \"2020-12-21\"')"
   ]
  },
  {
   "cell_type": "code",
   "execution_count": 45,
   "metadata": {
    "id": "E1osx76LLdJr"
   },
   "outputs": [],
   "source": [
    "check_eu_test = test.query('ab_test == \"recommender_system_test\"')\n",
    "check_eu_test = check_eu_test.merge(check_eu_united , how='inner', on = 'user_id')"
   ]
  },
  {
   "cell_type": "code",
   "execution_count": 46,
   "metadata": {
    "colab": {
     "base_uri": "https://localhost:8080/"
    },
    "id": "9KWkm5lMLdJr",
    "outputId": "f90ca430-3b3a-49ef-827f-3dac564ad7eb"
   },
   "outputs": [
    {
     "name": "stdout",
     "output_type": "stream",
     "text": [
      "15% новых пользователей из EU\n"
     ]
    }
   ],
   "source": [
    "print(\"{:.0%} новых пользователей из EU\".format(check_eu_test.groupby('user_id')['user_id'].first().count()/\\\n",
    "check_eu_united.groupby('user_id')['user_id'].first().count()))"
   ]
  },
  {
   "cell_type": "markdown",
   "metadata": {
    "id": "tpCHbge-LdJr"
   },
   "source": [
    "Получается ровно 15% новых пользователей из EU"
   ]
  },
  {
   "cell_type": "markdown",
   "metadata": {
    "id": "m6Xqp2RYLdJs"
   },
   "source": [
    "**3.9  Считаем количество участников, оставшееся в группах А и В**"
   ]
  },
  {
   "cell_type": "code",
   "execution_count": 47,
   "metadata": {
    "id": "RY6e5ta6LdJs"
   },
   "outputs": [],
   "source": [
    "ab_cnt = system_test.groupby('user_id',as_index = False).first()"
   ]
  },
  {
   "cell_type": "code",
   "execution_count": 48,
   "metadata": {
    "colab": {
     "base_uri": "https://localhost:8080/"
    },
    "id": "kgmPaREPLdJs",
    "outputId": "2b65d024-bd19-42f3-b6d1-09379daae603"
   },
   "outputs": [
    {
     "name": "stdout",
     "output_type": "stream",
     "text": [
      "2570 - пользователей в группе А\n"
     ]
    }
   ],
   "source": [
    "print(ab_cnt.query('group == \"A\"')['user_id'].count(), '- пользователей в группе А')"
   ]
  },
  {
   "cell_type": "code",
   "execution_count": 49,
   "metadata": {
    "colab": {
     "base_uri": "https://localhost:8080/"
    },
    "id": "aR9XRYeELdJs",
    "outputId": "2d18f96b-708b-42fe-dcd6-c88d5b2ed4d8"
   },
   "outputs": [
    {
     "name": "stdout",
     "output_type": "stream",
     "text": [
      "642 - пользователей в группе Б\n"
     ]
    }
   ],
   "source": [
    "print(ab_cnt.query('group == \"B\"')['user_id'].count(), '- пользователей в группе Б')"
   ]
  },
  {
   "cell_type": "code",
   "execution_count": 50,
   "metadata": {
    "colab": {
     "base_uri": "https://localhost:8080/"
    },
    "id": "NmgvlUn3LdJt",
    "outputId": "51428fe1-22f7-443c-871e-07b1881fe22a"
   },
   "outputs": [
    {
     "data": {
      "text/plain": [
       "1928"
      ]
     },
     "execution_count": 50,
     "metadata": {},
     "output_type": "execute_result"
    }
   ],
   "source": [
    "ab_cnt.query('group == \"A\"')['user_id'].count() - ab_cnt.query('group == \"B\"')['user_id'].count()"
   ]
  },
  {
   "cell_type": "code",
   "execution_count": 51,
   "metadata": {
    "colab": {
     "base_uri": "https://localhost:8080/"
    },
    "id": "2zai1z6fLdJt",
    "outputId": "2177f888-2d5c-4ad8-c2c2-242f0039e854"
   },
   "outputs": [
    {
     "data": {
      "text/plain": [
       "0.7501945525291829"
      ]
     },
     "execution_count": 51,
     "metadata": {},
     "output_type": "execute_result"
    }
   ],
   "source": [
    "(ab_cnt.query('group == \"A\"')['user_id'].count() - ab_cnt.query('group == \"B\"')['user_id'].count())/\\\n",
    "ab_cnt.query('group == \"A\"')['user_id'].count()"
   ]
  },
  {
   "cell_type": "code",
   "execution_count": 52,
   "metadata": {
    "colab": {
     "base_uri": "https://localhost:8080/"
    },
    "id": "oCzYWNdOLdJt",
    "outputId": "697e4a7f-c7d0-4fb0-c038-2aaac63b81d8"
   },
   "outputs": [
    {
     "name": "stdout",
     "output_type": "stream",
     "text": [
      "Всего пользователей в тесте -  3212\n"
     ]
    }
   ],
   "source": [
    "print('Всего пользователей в тесте - ', ab_cnt.query('group == \"A\"')['user_id'].count() + ab_cnt.query('group == \"B\"')['user_id'].count())"
   ]
  },
  {
   "cell_type": "markdown",
   "metadata": {
    "id": "KbuJefrxLdJt"
   },
   "source": [
    "Группы не сбалансированны, разница составляет почти 75% или 1928 пользователей в абсолютных показателях"
   ]
  },
  {
   "cell_type": "markdown",
   "metadata": {
    "id": "6ZYizxm9LdJv"
   },
   "source": [
    "<div class=\"alert alert-info\"> <b>Комментарии студента:</b> Исправляю"
   ]
  },
  {
   "cell_type": "markdown",
   "metadata": {
    "id": "0O3eJ7jjLdJv"
   },
   "source": [
    "**3.10 Маркетинговые события**"
   ]
  },
  {
   "cell_type": "code",
   "execution_count": 53,
   "metadata": {
    "colab": {
     "base_uri": "https://localhost:8080/",
     "height": 488
    },
    "id": "YS47w4fvLdJv",
    "outputId": "b7780d23-a265-4726-b468-c0d3b4483319"
   },
   "outputs": [
    {
     "data": {
      "text/html": [
       "<div>\n",
       "<style scoped>\n",
       "    .dataframe tbody tr th:only-of-type {\n",
       "        vertical-align: middle;\n",
       "    }\n",
       "\n",
       "    .dataframe tbody tr th {\n",
       "        vertical-align: top;\n",
       "    }\n",
       "\n",
       "    .dataframe thead th {\n",
       "        text-align: right;\n",
       "    }\n",
       "</style>\n",
       "<table border=\"1\" class=\"dataframe\">\n",
       "  <thead>\n",
       "    <tr style=\"text-align: right;\">\n",
       "      <th></th>\n",
       "      <th>name</th>\n",
       "      <th>regions</th>\n",
       "      <th>start_dt</th>\n",
       "      <th>finish_dt</th>\n",
       "    </tr>\n",
       "  </thead>\n",
       "  <tbody>\n",
       "    <tr>\n",
       "      <th>0</th>\n",
       "      <td>Christmas&amp;New Year Promo</td>\n",
       "      <td>EU, N.America</td>\n",
       "      <td>2020-12-25</td>\n",
       "      <td>2021-01-03</td>\n",
       "    </tr>\n",
       "    <tr>\n",
       "      <th>1</th>\n",
       "      <td>St. Valentine's Day Giveaway</td>\n",
       "      <td>EU, CIS, APAC, N.America</td>\n",
       "      <td>2020-02-14</td>\n",
       "      <td>2020-02-16</td>\n",
       "    </tr>\n",
       "    <tr>\n",
       "      <th>2</th>\n",
       "      <td>St. Patric's Day Promo</td>\n",
       "      <td>EU, N.America</td>\n",
       "      <td>2020-03-17</td>\n",
       "      <td>2020-03-19</td>\n",
       "    </tr>\n",
       "    <tr>\n",
       "      <th>3</th>\n",
       "      <td>Easter Promo</td>\n",
       "      <td>EU, CIS, APAC, N.America</td>\n",
       "      <td>2020-04-12</td>\n",
       "      <td>2020-04-19</td>\n",
       "    </tr>\n",
       "    <tr>\n",
       "      <th>4</th>\n",
       "      <td>4th of July Promo</td>\n",
       "      <td>N.America</td>\n",
       "      <td>2020-07-04</td>\n",
       "      <td>2020-07-11</td>\n",
       "    </tr>\n",
       "    <tr>\n",
       "      <th>5</th>\n",
       "      <td>Black Friday Ads Campaign</td>\n",
       "      <td>EU, CIS, APAC, N.America</td>\n",
       "      <td>2020-11-26</td>\n",
       "      <td>2020-12-01</td>\n",
       "    </tr>\n",
       "    <tr>\n",
       "      <th>6</th>\n",
       "      <td>Chinese New Year Promo</td>\n",
       "      <td>APAC</td>\n",
       "      <td>2020-01-25</td>\n",
       "      <td>2020-02-07</td>\n",
       "    </tr>\n",
       "    <tr>\n",
       "      <th>7</th>\n",
       "      <td>Labor day (May 1st) Ads Campaign</td>\n",
       "      <td>EU, CIS, APAC</td>\n",
       "      <td>2020-05-01</td>\n",
       "      <td>2020-05-03</td>\n",
       "    </tr>\n",
       "    <tr>\n",
       "      <th>8</th>\n",
       "      <td>International Women's Day Promo</td>\n",
       "      <td>EU, CIS, APAC</td>\n",
       "      <td>2020-03-08</td>\n",
       "      <td>2020-03-10</td>\n",
       "    </tr>\n",
       "    <tr>\n",
       "      <th>9</th>\n",
       "      <td>Victory Day CIS (May 9th) Event</td>\n",
       "      <td>CIS</td>\n",
       "      <td>2020-05-09</td>\n",
       "      <td>2020-05-11</td>\n",
       "    </tr>\n",
       "    <tr>\n",
       "      <th>10</th>\n",
       "      <td>CIS New Year Gift Lottery</td>\n",
       "      <td>CIS</td>\n",
       "      <td>2020-12-30</td>\n",
       "      <td>2021-01-07</td>\n",
       "    </tr>\n",
       "    <tr>\n",
       "      <th>11</th>\n",
       "      <td>Dragon Boat Festival Giveaway</td>\n",
       "      <td>APAC</td>\n",
       "      <td>2020-06-25</td>\n",
       "      <td>2020-07-01</td>\n",
       "    </tr>\n",
       "    <tr>\n",
       "      <th>12</th>\n",
       "      <td>Single's Day Gift Promo</td>\n",
       "      <td>APAC</td>\n",
       "      <td>2020-11-11</td>\n",
       "      <td>2020-11-12</td>\n",
       "    </tr>\n",
       "    <tr>\n",
       "      <th>13</th>\n",
       "      <td>Chinese Moon Festival</td>\n",
       "      <td>APAC</td>\n",
       "      <td>2020-10-01</td>\n",
       "      <td>2020-10-07</td>\n",
       "    </tr>\n",
       "  </tbody>\n",
       "</table>\n",
       "</div>"
      ],
      "text/plain": [
       "                                name                   regions    start_dt  \\\n",
       "0           Christmas&New Year Promo             EU, N.America  2020-12-25   \n",
       "1       St. Valentine's Day Giveaway  EU, CIS, APAC, N.America  2020-02-14   \n",
       "2             St. Patric's Day Promo             EU, N.America  2020-03-17   \n",
       "3                       Easter Promo  EU, CIS, APAC, N.America  2020-04-12   \n",
       "4                  4th of July Promo                 N.America  2020-07-04   \n",
       "5          Black Friday Ads Campaign  EU, CIS, APAC, N.America  2020-11-26   \n",
       "6             Chinese New Year Promo                      APAC  2020-01-25   \n",
       "7   Labor day (May 1st) Ads Campaign             EU, CIS, APAC  2020-05-01   \n",
       "8    International Women's Day Promo             EU, CIS, APAC  2020-03-08   \n",
       "9    Victory Day CIS (May 9th) Event                       CIS  2020-05-09   \n",
       "10         CIS New Year Gift Lottery                       CIS  2020-12-30   \n",
       "11     Dragon Boat Festival Giveaway                      APAC  2020-06-25   \n",
       "12           Single's Day Gift Promo                      APAC  2020-11-11   \n",
       "13             Chinese Moon Festival                      APAC  2020-10-01   \n",
       "\n",
       "     finish_dt  \n",
       "0   2021-01-03  \n",
       "1   2020-02-16  \n",
       "2   2020-03-19  \n",
       "3   2020-04-19  \n",
       "4   2020-07-11  \n",
       "5   2020-12-01  \n",
       "6   2020-02-07  \n",
       "7   2020-05-03  \n",
       "8   2020-03-10  \n",
       "9   2020-05-11  \n",
       "10  2021-01-07  \n",
       "11  2020-07-01  \n",
       "12  2020-11-12  \n",
       "13  2020-10-07  "
      ]
     },
     "execution_count": 53,
     "metadata": {},
     "output_type": "execute_result"
    }
   ],
   "source": [
    "marketing_evnt"
   ]
  },
  {
   "cell_type": "code",
   "execution_count": 54,
   "metadata": {
    "colab": {
     "base_uri": "https://localhost:8080/",
     "height": 53
    },
    "id": "XfakqC_QLdJw",
    "outputId": "4f0d3f99-4547-4d50-d5f9-5bb2887b4d5b"
   },
   "outputs": [
    {
     "data": {
      "text/html": [
       "<div>\n",
       "<style scoped>\n",
       "    .dataframe tbody tr th:only-of-type {\n",
       "        vertical-align: middle;\n",
       "    }\n",
       "\n",
       "    .dataframe tbody tr th {\n",
       "        vertical-align: top;\n",
       "    }\n",
       "\n",
       "    .dataframe thead th {\n",
       "        text-align: right;\n",
       "    }\n",
       "</style>\n",
       "<table border=\"1\" class=\"dataframe\">\n",
       "  <thead>\n",
       "    <tr style=\"text-align: right;\">\n",
       "      <th></th>\n",
       "      <th>name</th>\n",
       "      <th>regions</th>\n",
       "      <th>start_dt</th>\n",
       "      <th>finish_dt</th>\n",
       "    </tr>\n",
       "  </thead>\n",
       "  <tbody>\n",
       "  </tbody>\n",
       "</table>\n",
       "</div>"
      ],
      "text/plain": [
       "Empty DataFrame\n",
       "Columns: [name, regions, start_dt, finish_dt]\n",
       "Index: []"
      ]
     },
     "execution_count": 54,
     "metadata": {},
     "output_type": "execute_result"
    }
   ],
   "source": [
    "marketing_evnt.query('start_dt >= \"2020-12-07\" and finish_dt <= \"2020-12-21\"')"
   ]
  },
  {
   "cell_type": "code",
   "execution_count": 55,
   "metadata": {
    "colab": {
     "base_uri": "https://localhost:8080/",
     "height": 112
    },
    "id": "0c_J2_IJLdJw",
    "outputId": "2b8061ff-6254-4d57-cd91-8d05dce39abc"
   },
   "outputs": [
    {
     "data": {
      "text/html": [
       "<div>\n",
       "<style scoped>\n",
       "    .dataframe tbody tr th:only-of-type {\n",
       "        vertical-align: middle;\n",
       "    }\n",
       "\n",
       "    .dataframe tbody tr th {\n",
       "        vertical-align: top;\n",
       "    }\n",
       "\n",
       "    .dataframe thead th {\n",
       "        text-align: right;\n",
       "    }\n",
       "</style>\n",
       "<table border=\"1\" class=\"dataframe\">\n",
       "  <thead>\n",
       "    <tr style=\"text-align: right;\">\n",
       "      <th></th>\n",
       "      <th>name</th>\n",
       "      <th>regions</th>\n",
       "      <th>start_dt</th>\n",
       "      <th>finish_dt</th>\n",
       "    </tr>\n",
       "  </thead>\n",
       "  <tbody>\n",
       "    <tr>\n",
       "      <th>0</th>\n",
       "      <td>Christmas&amp;New Year Promo</td>\n",
       "      <td>EU, N.America</td>\n",
       "      <td>2020-12-25</td>\n",
       "      <td>2021-01-03</td>\n",
       "    </tr>\n",
       "    <tr>\n",
       "      <th>10</th>\n",
       "      <td>CIS New Year Gift Lottery</td>\n",
       "      <td>CIS</td>\n",
       "      <td>2020-12-30</td>\n",
       "      <td>2021-01-07</td>\n",
       "    </tr>\n",
       "  </tbody>\n",
       "</table>\n",
       "</div>"
      ],
      "text/plain": [
       "                         name        regions    start_dt   finish_dt\n",
       "0    Christmas&New Year Promo  EU, N.America  2020-12-25  2021-01-03\n",
       "10  CIS New Year Gift Lottery            CIS  2020-12-30  2021-01-07"
      ]
     },
     "execution_count": 55,
     "metadata": {},
     "output_type": "execute_result"
    }
   ],
   "source": [
    "marketing_evnt.query('start_dt >= \"2020-12-07\"')"
   ]
  },
  {
   "cell_type": "markdown",
   "metadata": {
    "id": "autf6o8yLdJw"
   },
   "source": [
    "Во время проведения теста попадает только \"Christmas&New Year Promo\", потому что проводится в регионе EU, который нас интересует. Время проведения с 25-12-2020 по 03-01-2021."
   ]
  },
  {
   "cell_type": "markdown",
   "metadata": {
    "id": "3z0BGMFjLdJx"
   },
   "source": [
    "**3.11 Проверка на пересечение пользователей между тестами.**"
   ]
  },
  {
   "cell_type": "code",
   "execution_count": 56,
   "metadata": {
    "id": "O1XaV-x2LdJx"
   },
   "outputs": [],
   "source": [
    "two_test_add = np.intersect1d(united_df.query('ab_test == \"recommender_system_test\" and group  == \"B\"')['user_id'],\n",
    "               united_df.query('ab_test == \"interface_eu_test\" and group  == \"А\"')['user_id'])"
   ]
  },
  {
   "cell_type": "code",
   "execution_count": 57,
   "metadata": {
    "id": "1VlNUrz0LdJx"
   },
   "outputs": [],
   "source": [
    "two_test_B = np.intersect1d(united_df.query('ab_test == \"recommender_system_test\" and group  == \"B\"')['user_id'],\n",
    "               united_df.query('ab_test == \"interface_eu_test\" and group  == \"B\"')['user_id'])"
   ]
  },
  {
   "cell_type": "code",
   "execution_count": 58,
   "metadata": {
    "colab": {
     "base_uri": "https://localhost:8080/"
    },
    "id": "4TsigAhbLdJx",
    "outputId": "bb022a92-4681-45a0-945a-e2dabafcf628",
    "scrolled": true
   },
   "outputs": [
    {
     "data": {
      "text/plain": [
       "array(['001064FEAAB631A1', '010DB4614355A4BB', '020A95B66F363AFB',\n",
       "       '022A97E4F285BD73', '02A553C0C9716E82', '030A7BE9FC0A65FB',\n",
       "       '04BE4EFE4C457312', '070FCCF4C24AB39C', '0752E0FC382E7E40',\n",
       "       '08903421BA7AB0C5', '0A5E3BE3C51CB47A', '0AF6DBAB2E94B44E',\n",
       "       '0B3D0ECA098E1B8F', '0D7E9E93CD497547', '0D8A5585DD8F9D3C',\n",
       "       '0E79DA3C172789C9', '0F13D8C2809AD613', '0F405A3A26DF9978',\n",
       "       '0FDFDA0B2DEC2D91', '0FEE6F5FF525C2CA', '107D9F8613EBF2AA',\n",
       "       '10863662C3B5AB49', '10C2A2FB00BD9AE2', '113C74C4FCF1CF79',\n",
       "       '1190EEE1FA160468', '11AC6A923B6A28FD', '11EF699F98C88FC2',\n",
       "       '12AD54E437AB3BF5', '1353B1C2F6E6AA4E', '142B85CDB930DE38',\n",
       "       '14390A8430BD4CD9', '145ECE67FE492A14', '14EA5C10D98DCC49',\n",
       "       '15BB5FA78262CFCE', '16AF1559A67CE749', '16C49A270F9B4CCC',\n",
       "       '16C8BBC6888753F4', '18172EFB787BC32B', '19AC976D25997BE9',\n",
       "       '19C22E694B59D40F', '1AE6FF352875CA8C', '1E71BF453C5C13F0',\n",
       "       '2027A73EEE78CA40', '20285349F62230E9', '207E61D6D4F44D97',\n",
       "       '2139548144435929', '218F548554F356FA', '22092C653019E91C',\n",
       "       '225D3E0E5B97F8DC', '22E23B98C142E985', '235C0E3BA21DC74A',\n",
       "       '23D996DAEE2705B1', '243CA38462D0ADC8', '24553DD3FF973EE4',\n",
       "       '2574913180A85B51', '25826F4FE6832AF1', '27B6ABA86DD63A45',\n",
       "       '27D8287BE2BDD495', '2812C91B1E29180A', '290AA8D9707F41D8',\n",
       "       '29CB6BEA5E3B8E4F', '29FB97985AB0E005', '2B0CD24EE4291CA0',\n",
       "       '2C6FB04D81B56DDB', '2CF0F014380DDF2E', '2CFFDF624F0C78E4',\n",
       "       '2E30DF2649604771', '2FCC63EB9CB798BF', '3241866FCB58D94C',\n",
       "       '3242BDDFA690A22B', '3450B5D2B2EC6C4F', '352D8EB4043FF38C',\n",
       "       '35D019E29769A334', '3672CB28F3465EE5', '37094134968B2013',\n",
       "       '3B6ABE8E7872977E', '3BB8C637AE50D857', '3BDE2B9FBC14F7A4',\n",
       "       '3C46C1264F52F92C', '3CB2D1AA67DAEFCC', '3D2A7B5B6AD48785',\n",
       "       '3D5E01F19BD35C14', '3EB9BC60CE8FE3AE', '41EDEEC440887B2C',\n",
       "       '43936CC17C4833C6', '4431BD66588ADC74', '463D7929506A45E6',\n",
       "       '4664BF4717549775', '47902D2F065D5998', '47B40F5CC6CA9782',\n",
       "       '4883791EB02CD1D3', '48D030AFC41B2C22', '48E0008B03C9DA81',\n",
       "       '493A30FD34A0E321', '49DF42E7F11C8CEB', '4AAFD7D818A10361',\n",
       "       '4B0544BEF0FF7899', '4DC787CB60EE6057', '4DE67C107ED2A155',\n",
       "       '4E31EDF6D6119D7B', '4E412E8F346B2E9C', '4EB82D486CD15584',\n",
       "       '4F49D02DACBFC427', '5153F9A9D86459C9', '523584338E3C798B',\n",
       "       '5314AD65517ADDFA', '5392D9E8F58D9E5F', '53C73B0449C70D32',\n",
       "       '541DBFEECD0C8E6D', '5438D422A6A53E0E', '5441C0419DC35E23',\n",
       "       '545B427F5ACA564E', '562D37F4A620C27C', '5649E6098FA9EEB5',\n",
       "       '57442DD4178AFE27', '57E796E81DD60883', '597F7FD5AA3524D3',\n",
       "       '59E2D898C9271258', '5A5D645876C5C692', '5AFF1358167B13AD',\n",
       "       '5D5E6EE92AF6E9E0', '5DF0D725363D7FEC', '5EAE9877CF933A32',\n",
       "       '5EFD7CBBB20EC740', '604F9F5DB1EB8997', '609EBA439CB96E0D',\n",
       "       '626021392C056CD0', '628B47E6E5F36093', '6319477BA21EC5D7',\n",
       "       '6491912D636185E1', '66380FB90D5CDC56', '66641CEC1D4BF319',\n",
       "       '669F197DC7EB4FD9', '67633B8AB7038FA3', '693C9126C80A3279',\n",
       "       '6A6D05C24A13D1CD', '6B26B1B4BF1C3C2C', '6B9B865CD6BDB5E3',\n",
       "       '6BBDD5B389036FC1', '6C23DF35F8A84850', '6CB6C754D40013AD',\n",
       "       '6D75FA2A4B2BD455', '6EF6F3BB71DF2EBB', '6EFF2BB96F97768F',\n",
       "       '6FA6EDEBD87E6CEE', '7060BB1CBE3BAACC', '717542C36D170D1C',\n",
       "       '72073BB7348162AE', '729F6099B1B31935', '72A860D13C59F796',\n",
       "       '75C0C934A8E30E7E', '76DA6D1FD0E8E8B5', '76FD669EE002E642',\n",
       "       '77472A1E31D58AC0', '779598C567B964AE', '7796AB44CA1AA354',\n",
       "       '780ED59873E83D86', '78564BCA0B571DFC', '78745E80BA159887',\n",
       "       '7963560AC5D4166E', '79AFC23FB071A414', '79DEF8EC1661B063',\n",
       "       '7BC59B90C9447C42', '7C920A51340DA0B2', '7CD80F6C59FD126C',\n",
       "       '7D1D6474BC92283B', '7D364CC5B768ACA8', '7D7286E27AA1D317',\n",
       "       '7DF21AEB1AA231F9', '7DFD3DF85F27EC9B', '7E19C338FE4D995A',\n",
       "       '7E845587F4B5A066', '7EDE72F222FC8F15', '7FD111F160C78A0E',\n",
       "       '7FE9A55F074A815B', '8086044AB1449A8E', '80C2CB8C4E367CEE',\n",
       "       '81822500BB5C55CB', '81E76EE9C1CCDC62', '84775694D67D4937',\n",
       "       '873E62CBDD55623C', '88D722542BABDB0E', '892061952E6224DF',\n",
       "       '8A0D2C0C98226F28', '8AE0420C3D72CAD9', '8B6908752642B55F',\n",
       "       '8C07103A3DCCA5CB', '8C0E932FB144D00F', '8C66932374EF8009',\n",
       "       '8C8D3AD539C18943', '8D081F2806557B83', '8D46D7EB5112DC9D',\n",
       "       '8DE56E6BDA5F54AC', '8E66D51D35D0782A', '8E69896F59A3B8F8',\n",
       "       '8F11F7D44FF7B9FA', '8F72F2114F2D5184', '8F982481F1B37414',\n",
       "       '8FBAEB717ABA3930', '8FF8F87305BB9A7D', '907FCD2A17F937F3',\n",
       "       '925E3B029B867723', '9266418A9D2FA813', '9367A43E522A91D4',\n",
       "       '94A634B0CEB7DCDB', '94E162F86FD1BF64', '952D1EEBF552BC95',\n",
       "       '954C980B4A9559FF', '95CF44A278BD90E2', '967680A9D7C9AFD1',\n",
       "       '96A8E3D539ACFDF8', '97EDF76612280365', '97FD9D2B5F1E01C1',\n",
       "       '9868DEF9E0B7E2C4', '9AFA49F655017427', '9BD9E79856D54059',\n",
       "       '9C4A162FE8C3A4A8', '9D7EACF1BBB179BC', '9D8C2487CEFD3778',\n",
       "       '9F363C08B4A87DD6', '9FEB56D93EE0955E', 'A0794039D643F1B6',\n",
       "       'A09DFE27D4CFF8E8', 'A1167810654A57BE', 'A1E8AAF0B3B86737',\n",
       "       'A2883D12B52D9481', 'A383BFC91C909D0E', 'A5E27D8BCACA668E',\n",
       "       'A6260592FB414C96', 'A65F99090C695908', 'A749580C470B0C8C',\n",
       "       'A76F046D8D47589E', 'A829201FB2C51241', 'A8533224E9384B16',\n",
       "       'A8C1429C2249A1C3', 'A980A65F42FB1BB4', 'AA0D36EF3DBFCC9F',\n",
       "       'AB0CC741A872670C', 'AB6E77D7CF9A86A1', 'ABAD29F560E0A696',\n",
       "       'AC6E6F85A87B7AB6', 'AD5106C03B28ECFC', 'AEE24B6142A3C431',\n",
       "       'AF3F0BC2119464B3', 'AFED749D320D5B38', 'B0244412983000C5',\n",
       "       'B0B822ECBB5C55E5', 'B0F117EEF0615FD4', 'B1425202D2711F90',\n",
       "       'B1D038A9A4423796', 'B1E083F11FCAEABB', 'B329D44D14AF6E50',\n",
       "       'B351780ED6F87AA7', 'B3AF8DD078D5F58F', 'B3C1FF8D21EAC16B',\n",
       "       'B474785188CC34B1', 'B49C49300C6BAE1E', 'B4F980CCDAF92019',\n",
       "       'B6DBDDB2BD00352E', 'B8AC521CB28510E7', 'B993B98F16A68B4B',\n",
       "       'BD23AF6242CA944B', 'BF2613BE28381E56', 'C0C4F7D8FE26B9D7',\n",
       "       'C10DF84409319DD3', 'C1760622B65C9B84', 'C2025648F77BD80B',\n",
       "       'C21237DC47AE00C5', 'C2DC7B6881CE6E30', 'C3666DF0F2EE66A9',\n",
       "       'C697FCEE5CDECC84', 'C8460FF8BEF553A4', 'C84CA533D1ABCAF8',\n",
       "       'C8BDDF5639850737', 'C9E2691EAD9EF4BB', 'C9E32DE296F68008',\n",
       "       'CA97C73F84CC5311', 'CB1D1A9D61C41E69', 'CBEFCA3BFDE4CC58',\n",
       "       'CBF32A172229EEC8', 'CC311F9ED000F25E', 'CC730EE32853235D',\n",
       "       'CD668979C54E22F7', 'CE264232AC9049B8', 'CE95149F291CB8F1',\n",
       "       'CFA945B0FCFE90D9', 'D2DF7FE6B3FACED1', 'D3F219FA0FE3AC6F',\n",
       "       'D45554BA350E10C4', 'D4F6479E98005BDA', 'D6924B9AB9903228',\n",
       "       'D6ED8FAA9DC6087D', 'D755F72C453BF6A7', 'D8DA1D568FCF46ED',\n",
       "       'D99C4F59849B335F', 'D9C5B39A5071F9AB', 'DA7AE24EEA95BA98',\n",
       "       'DB097DA5115DB376', 'DBF9BDC859BC4459', 'DC24142B23D9FEDD',\n",
       "       'DCDFE5A403ADABC3', 'DD4731E5B4C9C4EB', 'DD670F7422342729',\n",
       "       'DEF5D6655CCFB029', 'DF40EF85F55A958D', 'DF75CF6ECDB97717',\n",
       "       'DF79393DADE71EF6', 'DFAD874B249D4788', 'DFBF418CE33ABD31',\n",
       "       'E021A82810DFBB5C', 'E02E25EF11EFAA00', 'E18D25D68D9FCC60',\n",
       "       'E2E336528AB6202A', 'E3048C1D75193226', 'E3274FF13DC17E72',\n",
       "       'E35EF95E30EB75F6', 'E3BEB139D0839F91', 'E65F1C4C712CDC41',\n",
       "       'E6DE857AFBDC6102', 'E722C2D81148A653', 'E77F99BCF9D8AB96',\n",
       "       'E8ABD82DC89CD84B', 'E8BBE017F65D7CEA', 'EA6EA431FF84563B',\n",
       "       'EAD7AC780F0CB611', 'EAF000D4CC7635B7', 'EB2A306A13346A67',\n",
       "       'EF8148089C285AFC', 'F2DF32180B73D451', 'F33EB0BE61E741A0',\n",
       "       'F4BEF7B9C8172E36', 'F4C8BB8D1622FE87', 'F67AB9B5C7B07127',\n",
       "       'F6BE20C59A3DFA89', 'F9D7C31E8ECECE67', 'FA8706D1E274805E',\n",
       "       'FA8DC901AC7313F8', 'FBEFE8B39BEA1800', 'FBF31896CD930197',\n",
       "       'FC37CBE8211E02A8', 'FD2E811B409ADB85', 'FF7BE2897FC0380D',\n",
       "       'FF9A81323FA67D6E', 'FFED90241D04503F'], dtype=object)"
      ]
     },
     "execution_count": 58,
     "metadata": {},
     "output_type": "execute_result"
    }
   ],
   "source": [
    "two_test_B"
   ]
  },
  {
   "cell_type": "code",
   "execution_count": 59,
   "metadata": {
    "colab": {
     "base_uri": "https://localhost:8080/"
    },
    "id": "XM2VaduFLdJx",
    "outputId": "12b969fc-9ed3-4453-966a-1cfce62cfe73"
   },
   "outputs": [
    {
     "data": {
      "text/plain": [
       "array([], dtype=object)"
      ]
     },
     "execution_count": 59,
     "metadata": {},
     "output_type": "execute_result"
    }
   ],
   "source": [
    "two_test_add"
   ]
  },
  {
   "cell_type": "markdown",
   "metadata": {
    "id": "Mjps9W0qLdJy"
   },
   "source": [
    "По результатам проверки не найдено пересечений, это значит, что все пользователи, которые попали в конкурирующий тест находятся также в группе Б. Я проверил это выше."
   ]
  },
  {
   "cell_type": "markdown",
   "metadata": {
    "id": "gIaUmX9uLdJ2"
   },
   "source": []
  },
  {
   "cell_type": "markdown",
   "metadata": {
    "id": "2d0v58Q2LdJ3"
   },
   "source": [
    "**Вывод по разделу**"
   ]
  },
  {
   "cell_type": "markdown",
   "metadata": {
    "id": "2wjhCcbALdJ3"
   },
   "source": [
    "* В датасет попали пользователи из другого теста (interface_eu_test). Посмотрим, есть ли люди из группы Б, которые попали в оба теста одновременно, если есть, удалим их.\n",
    "\n",
    "* В столбце с группами корректные значения\n",
    "\n",
    "* Минимальная дата 7 декабря 2020 года. Все как в ТЗ.\n",
    "\n",
    "* Максимальная дата 20 декабря 2020 года. Дата остановки набора новых пользователей по тз 21 декабря 2020 года. Нет противоречий с ТЗ\n",
    "* Также отсечем события, которые совершались после 01-04-2021 (по ТЗ).\n",
    "\n",
    "* Отсечем пользователей, которые не из региона EU\n",
    "\n",
    "* Отсечем пользователей, которые не совершали никаких действий после региcтрации\n",
    "\n",
    "* Отсечем события пользователей, после 14 дня. Т.к в ТЗ результат должен быть спустя 14 дней после регистрации\n",
    "\n",
    "* Пользователей, которые участвуют в обеих группах нет\n",
    "\n",
    "* Пользователей, которых не состоят ни в одной из групп тоже нет\n",
    "\n",
    "* Доля  новых  пользователей из EU - 15%\n",
    "\n",
    "* Группы не сбалансированы, разница составляет почти 75% или 1928 пользователей в абсолютных показателях. 2570 - пользователей в группе А. 642 - пользователей в группе Б\n",
    "\n",
    "* Во время проведения теста попадает только \"Christmas&New Year Promo\", потому что проводится в регионе EU, который нас интересует. Время проведения с 25-12-2020 по 03-01-2021.\n",
    "\n",
    "* По результатам проверки не найдено пересечений, это значит, что все пользователи, которые попали в конкурирующий тест находятся также в группе Б\n",
    "\n",
    "Если рассматривать это как готовый и \"очищенный\" АБ тест, то качество данных не позволяет делать обоснованных выводов.\n",
    "1. С временными отезками все неплохо\n",
    "2. Набор групп выполнен некорректно, т.к в тест попали пользоватили из конкурирующего теста (при чем попали в группу Б).\n",
    "3. 15% новых пользоватей - соблюдено\n",
    "4. Ожидаемое количество участников 6000, по факту - 3212\n",
    "5. Ожидаемый эффект: за 14 дней улучшение каждой метрики не менее, чем на 10%. Это мы проверим в следующих пунутах"
   ]
  },
  {
   "cell_type": "markdown",
   "metadata": {
    "id": "qsAgUvbxLdJ3"
   },
   "source": [
    "# 4 Исследовательский анализ данных #"
   ]
  },
  {
   "cell_type": "markdown",
   "metadata": {
    "id": "T9cZThBKLdJ4"
   },
   "source": [
    "**4.1 Количество событий на пользователя одинаково распределены в выборках?**"
   ]
  },
  {
   "cell_type": "code",
   "execution_count": 60,
   "metadata": {
    "id": "RiEcoC_ALdJ4"
   },
   "outputs": [],
   "source": [
    "gr_a = system_test.query('group == \"A\"').pivot_table(index = 'user_id', values = 'event_dt', aggfunc = 'count')"
   ]
  },
  {
   "cell_type": "code",
   "execution_count": 61,
   "metadata": {
    "colab": {
     "base_uri": "https://localhost:8080/",
     "height": 300
    },
    "id": "QJMP_MZrLdJ4",
    "outputId": "2d1af7ed-8a22-44ae-a350-48de647b9efd"
   },
   "outputs": [
    {
     "data": {
      "text/html": [
       "<div>\n",
       "<style scoped>\n",
       "    .dataframe tbody tr th:only-of-type {\n",
       "        vertical-align: middle;\n",
       "    }\n",
       "\n",
       "    .dataframe tbody tr th {\n",
       "        vertical-align: top;\n",
       "    }\n",
       "\n",
       "    .dataframe thead th {\n",
       "        text-align: right;\n",
       "    }\n",
       "</style>\n",
       "<table border=\"1\" class=\"dataframe\">\n",
       "  <thead>\n",
       "    <tr style=\"text-align: right;\">\n",
       "      <th></th>\n",
       "      <th>event_dt</th>\n",
       "    </tr>\n",
       "  </thead>\n",
       "  <tbody>\n",
       "    <tr>\n",
       "      <th>count</th>\n",
       "      <td>2570.000000</td>\n",
       "    </tr>\n",
       "    <tr>\n",
       "      <th>mean</th>\n",
       "      <td>6.926459</td>\n",
       "    </tr>\n",
       "    <tr>\n",
       "      <th>std</th>\n",
       "      <td>3.776920</td>\n",
       "    </tr>\n",
       "    <tr>\n",
       "      <th>min</th>\n",
       "      <td>1.000000</td>\n",
       "    </tr>\n",
       "    <tr>\n",
       "      <th>25%</th>\n",
       "      <td>4.000000</td>\n",
       "    </tr>\n",
       "    <tr>\n",
       "      <th>50%</th>\n",
       "      <td>6.000000</td>\n",
       "    </tr>\n",
       "    <tr>\n",
       "      <th>75%</th>\n",
       "      <td>9.000000</td>\n",
       "    </tr>\n",
       "    <tr>\n",
       "      <th>max</th>\n",
       "      <td>24.000000</td>\n",
       "    </tr>\n",
       "  </tbody>\n",
       "</table>\n",
       "</div>"
      ],
      "text/plain": [
       "          event_dt\n",
       "count  2570.000000\n",
       "mean      6.926459\n",
       "std       3.776920\n",
       "min       1.000000\n",
       "25%       4.000000\n",
       "50%       6.000000\n",
       "75%       9.000000\n",
       "max      24.000000"
      ]
     },
     "execution_count": 61,
     "metadata": {},
     "output_type": "execute_result"
    }
   ],
   "source": [
    "gr_a.describe()"
   ]
  },
  {
   "cell_type": "code",
   "execution_count": 62,
   "metadata": {
    "colab": {
     "base_uri": "https://localhost:8080/",
     "height": 718
    },
    "id": "GsGT_yGWLdJ4",
    "outputId": "837e4beb-09f0-4147-83ea-4430425bbe32"
   },
   "outputs": [
    {
     "data": {
      "image/png": "[encoded data removed]",
      "text/plain": [
       "<Figure size 1000x800 with 1 Axes>"
      ]
     },
     "metadata": {},
     "output_type": "display_data"
    }
   ],
   "source": [
    "plt.figure(figsize = (10,8))\n",
    "plt.hist(gr_a, bins = 24)\n",
    "plt.grid()\n",
    "plt.xticks(range(25))\n",
    "plt.xlabel('Количество событий')\n",
    "plt.ylabel('Количество')\n",
    "plt.title('Распределение количества событий для группы А');"
   ]
  },
  {
   "cell_type": "code",
   "execution_count": 63,
   "metadata": {
    "id": "qY3RKpz9LdJ4"
   },
   "outputs": [],
   "source": [
    "gr_b = system_test.query('group == \"B\"').pivot_table(index = 'user_id', values = 'event_dt', aggfunc = 'count')"
   ]
  },
  {
   "cell_type": "code",
   "execution_count": 64,
   "metadata": {
    "colab": {
     "base_uri": "https://localhost:8080/",
     "height": 300
    },
    "id": "s5zcFgCFLdJ5",
    "outputId": "17a1b10d-cf9a-45ed-8637-4cb7e9ae9d98"
   },
   "outputs": [
    {
     "data": {
      "text/html": [
       "<div>\n",
       "<style scoped>\n",
       "    .dataframe tbody tr th:only-of-type {\n",
       "        vertical-align: middle;\n",
       "    }\n",
       "\n",
       "    .dataframe tbody tr th {\n",
       "        vertical-align: top;\n",
       "    }\n",
       "\n",
       "    .dataframe thead th {\n",
       "        text-align: right;\n",
       "    }\n",
       "</style>\n",
       "<table border=\"1\" class=\"dataframe\">\n",
       "  <thead>\n",
       "    <tr style=\"text-align: right;\">\n",
       "      <th></th>\n",
       "      <th>event_dt</th>\n",
       "    </tr>\n",
       "  </thead>\n",
       "  <tbody>\n",
       "    <tr>\n",
       "      <th>count</th>\n",
       "      <td>642.000000</td>\n",
       "    </tr>\n",
       "    <tr>\n",
       "      <th>mean</th>\n",
       "      <td>5.500000</td>\n",
       "    </tr>\n",
       "    <tr>\n",
       "      <th>std</th>\n",
       "      <td>3.239407</td>\n",
       "    </tr>\n",
       "    <tr>\n",
       "      <th>min</th>\n",
       "      <td>1.000000</td>\n",
       "    </tr>\n",
       "    <tr>\n",
       "      <th>25%</th>\n",
       "      <td>3.000000</td>\n",
       "    </tr>\n",
       "    <tr>\n",
       "      <th>50%</th>\n",
       "      <td>4.000000</td>\n",
       "    </tr>\n",
       "    <tr>\n",
       "      <th>75%</th>\n",
       "      <td>7.000000</td>\n",
       "    </tr>\n",
       "    <tr>\n",
       "      <th>max</th>\n",
       "      <td>24.000000</td>\n",
       "    </tr>\n",
       "  </tbody>\n",
       "</table>\n",
       "</div>"
      ],
      "text/plain": [
       "         event_dt\n",
       "count  642.000000\n",
       "mean     5.500000\n",
       "std      3.239407\n",
       "min      1.000000\n",
       "25%      3.000000\n",
       "50%      4.000000\n",
       "75%      7.000000\n",
       "max     24.000000"
      ]
     },
     "execution_count": 64,
     "metadata": {},
     "output_type": "execute_result"
    }
   ],
   "source": [
    "gr_b.describe()"
   ]
  },
  {
   "cell_type": "code",
   "execution_count": 65,
   "metadata": {
    "colab": {
     "base_uri": "https://localhost:8080/",
     "height": 718
    },
    "id": "kHsBv73QLdJ5",
    "outputId": "da7e287f-31e2-411f-c58c-d7d35471c7fa"
   },
   "outputs": [
    {
     "data": {
      "image/png": "[encoded data removed]",
      "text/plain": [
       "<Figure size 1000x800 with 1 Axes>"
      ]
     },
     "metadata": {},
     "output_type": "display_data"
    }
   ],
   "source": [
    "plt.figure(figsize = (10,8))\n",
    "plt.hist(gr_b, bins = 24)\n",
    "plt.grid()\n",
    "plt.xticks(range(25))\n",
    "plt.xlabel('Количество событий')\n",
    "plt.ylabel('Количество')\n",
    "plt.title('Распределение количества событий для группы B');"
   ]
  },
  {
   "cell_type": "markdown",
   "metadata": {
    "id": "9oSCJfzjLdJ5"
   },
   "source": [
    "В среднем, у группы А больше пользователей - 6.92 против 5.50 (группа В). Медианное значение А (6) тоже больше, чем у группы В (4). Нельзя сказать почему так происходит из-за того, что очень несбалансированные группы.\n",
    "\n",
    "Мы видим, что форма распределения очень схожа, построим эти 2 графика в одном поле, чтобы понимать масштабы."
   ]
  },
  {
   "cell_type": "code",
   "execution_count": 66,
   "metadata": {
    "colab": {
     "base_uri": "https://localhost:8080/",
     "height": 718
    },
    "id": "zJSfBUyrLdJ5",
    "outputId": "d132f49b-0f5f-4c6b-f6fe-10f83a625ea9"
   },
   "outputs": [
    {
     "data": {
      "image/png": "[encoded data removed]",
      "text/plain": [
       "<Figure size 1000x800 with 1 Axes>"
      ]
     },
     "metadata": {},
     "output_type": "display_data"
    }
   ],
   "source": [
    "plt.figure(figsize = (10,8))\n",
    "plt.hist(gr_a, bins = 24)\n",
    "plt.hist(gr_b, bins = 24)\n",
    "plt.grid()\n",
    "plt.xticks(range(25))\n",
    "plt.xlabel('Количество событий')\n",
    "plt.ylabel('Количество')\n",
    "plt.title('Распределение количества событий на пользователя по группам')\n",
    "plt.show();"
   ]
  },
  {
   "cell_type": "code",
   "execution_count": 67,
   "metadata": {
    "colab": {
     "base_uri": "https://localhost:8080/",
     "height": 834
    },
    "id": "rEKbkJV2LdJ6",
    "outputId": "2f5e110d-84a3-4a30-9fc7-b231b2816bac",
    "scrolled": false
   },
   "outputs": [
    {
     "data": {
      "image/png": "[encoded data removed]",
      "text/plain": [
       "<Figure size 1000x1000 with 2 Axes>"
      ]
     },
     "metadata": {},
     "output_type": "display_data"
    }
   ],
   "source": [
    "fig, ax = plt.subplots(1,2, sharex=True, figsize=(10,10))\n",
    "fig.suptitle('')\n",
    "\n",
    "sns.boxplot(ax=ax[0], y=gr_a['event_dt'], color='tab:blue')\n",
    "ax[0].set_title('Группа А')\n",
    "\n",
    "sns.boxplot(ax=ax[1], y=gr_b['event_dt'], color='tab:orange')\n",
    "ax[1].set_title('Группа Б')\n",
    "\n",
    "plt.show();"
   ]
  },
  {
   "cell_type": "markdown",
   "metadata": {
    "id": "Ipy-rYcpLdJ6"
   },
   "source": [
    "**Проведем статистический тест, чтобы убедиться в результатах**"
   ]
  },
  {
   "cell_type": "markdown",
   "metadata": {
    "id": "HlvgK223LdJ6"
   },
   "source": [
    "Нулевая гипотеза: Количество событий на пользователя одинаково распределены в обеих выборках. <br>\n",
    "Альтернативная гипотеза: Количество событий на пользователя распределены неодинаково. <br>\n",
    "P-value = 0.05 <br>\n",
    "Для проверки гипотезы будем использовать непараметрический тест Уилкоксона-Манна-Уитни, т.к мы не можем быть уверены, что данные распределены нормально"
   ]
  },
  {
   "cell_type": "code",
   "execution_count": 68,
   "metadata": {
    "colab": {
     "base_uri": "https://localhost:8080/"
    },
    "id": "jkAH3bitLdJ6",
    "outputId": "707dddbf-ae3a-4de2-92eb-a1471ed60bd5"
   },
   "outputs": [
    {
     "name": "stdout",
     "output_type": "stream",
     "text": [
      "p-значение:  1.5526168161870762e-20\n",
      "Отвергаем нулевую гипотезу: разница статистически значима\n"
     ]
    }
   ],
   "source": [
    "sample_11 = gr_a['event_dt']\n",
    "sample_12 = gr_b['event_dt']\n",
    "\n",
    "alpha = 0.05  # критический уровень статистической значимости\n",
    "\n",
    "results = stats.mannwhitneyu(sample_11, sample_12)\n",
    "\n",
    "print('p-значение: ', results.pvalue)\n",
    "\n",
    "if results.pvalue < alpha:\n",
    "    print('Отвергаем нулевую гипотезу: разница статистически значима')\n",
    "else:\n",
    "    print(\n",
    "        'Не получилось отвергнуть нулевую гипотезу, вывод о различии сделать нельзя'\n",
    "    )"
   ]
  },
  {
   "cell_type": "markdown",
   "metadata": {
    "id": "5vc6KPVOLdJ7"
   },
   "source": [
    "**4.2 Как число событий в выборках распределено по дням?**"
   ]
  },
  {
   "cell_type": "code",
   "execution_count": 69,
   "metadata": {
    "id": "3pw9Y4A6LdJ7"
   },
   "outputs": [],
   "source": [
    "cnt_evnt_gr_a = system_test.query('group == \"A\"')\\\n",
    ".pivot_table(index = pd.to_datetime(system_test['event_dt']).dt.date, values = 'event_name', aggfunc = 'count').reset_index()"
   ]
  },
  {
   "cell_type": "code",
   "execution_count": 70,
   "metadata": {
    "id": "PJ83YzPDLdJ8"
   },
   "outputs": [],
   "source": [
    "cnt_evnt_gr_b = system_test.query('group == \"B\"')\\\n",
    ".pivot_table(index = pd.to_datetime(system_test['event_dt']).dt.date, values = 'event_name', aggfunc = 'count').reset_index()"
   ]
  },
  {
   "cell_type": "code",
   "execution_count": 71,
   "metadata": {
    "colab": {
     "base_uri": "https://localhost:8080/",
     "height": 1000
    },
    "id": "npKZFGPLLdJ8",
    "outputId": "4db1e135-30f1-4aca-c97d-50c84ed35370"
   },
   "outputs": [
    {
     "data": {
      "image/png": "[encoded data removed]",
      "text/plain": [
       "<Figure size 2000x2000 with 2 Axes>"
      ]
     },
     "metadata": {},
     "output_type": "display_data"
    }
   ],
   "source": [
    "fig, ax = plt.subplots(2,1, figsize=(20,20))\n",
    "\n",
    "sns.barplot(ax = ax[0], x = cnt_evnt_gr_a['event_dt'], y=cnt_evnt_gr_a['event_name'])\n",
    "\n",
    "sns.barplot(ax = ax[1], x = cnt_evnt_gr_b['event_dt'], y=cnt_evnt_gr_b['event_name'])\n",
    "labels = cnt_evnt_gr_a['event_dt']\n",
    "ax[0].set_xticklabels(labels, rotation = 45)\n",
    "ax[0].set_title('График распределения событий по дня для группы А')\n",
    "ax[1].set_title('График распределения событий по дня для группы B')\n",
    "ax[1].set_xticklabels(labels, rotation = 45)\n",
    "\n",
    "ax[0].set_xlabel('Дата')\n",
    "ax[0].set_ylabel('Количество событий')\n",
    "\n",
    "ax[1].set_xlabel('Дата')\n",
    "ax[1].set_ylabel('Количество событий');"
   ]
  },
  {
   "cell_type": "markdown",
   "metadata": {
    "id": "gkCt_gYdLdJ8"
   },
   "source": [
    "Для группы А - большие всплески 14 декабря, после которого количество событий растет, и 21 декабря - максимум (возможно это как-то связано с началом недели), для B  - 7,9,17,21 декабря большие всплески."
   ]
  },
  {
   "cell_type": "markdown",
   "metadata": {
    "id": "SljjYKDcLdJ9"
   },
   "source": [
    "Скачек событий в группе А с 14 числа связан со скачком новых пользователей. На графике динамики набора новых пользователей по группам мы видим скачки 14 и 21 числа для группы А."
   ]
  },
  {
   "cell_type": "code",
   "execution_count": 72,
   "metadata": {
    "id": "njtyRSHoLdJ9"
   },
   "outputs": [],
   "source": [
    "plot_new_user = system_test.groupby(['first_date','group']).agg({'user_id':'nunique'}).reset_index()"
   ]
  },
  {
   "cell_type": "code",
   "execution_count": 73,
   "metadata": {
    "colab": {
     "base_uri": "https://localhost:8080/",
     "height": 617
    },
    "id": "1W06w6S6LdJ9",
    "outputId": "68b9918e-56c8-4e12-ede2-b9091e6fefd5"
   },
   "outputs": [
    {
     "data": {
      "image/svg+xml": [
       "<svg class=\"main-svg\" xmlns=\"http://www.w3.org/2000/svg\" xmlns:xlink=\"http://www.w3.org/1999/xlink\" width=\"1080\" height=\"720\" style=\"\" viewBox=\"0 0 900 600\"><rect x=\"0\" y=\"0\" width=\"900\" height=\"600\" style=\"fill: rgb(255, 255, 255); fill-opacity: 1;\"/><defs id=\"defs-53301f\"><g class=\"clips\"><clipPath id=\"clip53301fxyplot\" class=\"plotclip\"><rect width=\"738\" height=\"376\"/></clipPath><clipPath class=\"axesclip\" id=\"clip53301fx\"><rect x=\"80\" y=\"0\" width=\"738\" height=\"600\"/></clipPath><clipPath class=\"axesclip\" id=\"clip53301fy\"><rect x=\"0\" y=\"100\" width=\"900\" height=\"376\"/></clipPath><clipPath class=\"axesclip\" id=\"clip53301fxy\"><rect x=\"80\" y=\"100\" width=\"738\" height=\"376\"/></clipPath></g><g class=\"gradients\"/><g class=\"patterns\"/></defs><g class=\"bglayer\"><rect class=\"bg\" x=\"80\" y=\"100\" width=\"738\" height=\"376\" style=\"fill: rgb(229, 236, 246); fill-opacity: 1; stroke-width: 0;\"/></g><g class=\"layer-below\"><g class=\"imagelayer\"/><g class=\"shapelayer\"/></g><g class=\"cartesianlayer\"><g class=\"subplot xy\"><g class=\"layer-subplot\"><g class=\"shapelayer\"/><g class=\"imagelayer\"/></g><g class=\"minor-gridlayer\"><g class=\"x\"/><g class=\"y\"/></g><g class=\"gridlayer\"><g class=\"x\"/><g class=\"y\"><path class=\"ygrid crisp\" transform=\"translate(0,430.44)\" d=\"M80,0h738\" style=\"stroke: rgb(255, 255, 255); stroke-opacity: 1; stroke-width: 1px;\"/><path class=\"ygrid crisp\" transform=\"translate(0,384.88)\" d=\"M80,0h738\" style=\"stroke: rgb(255, 255, 255); stroke-opacity: 1; stroke-width: 1px;\"/><path class=\"ygrid crisp\" transform=\"translate(0,339.32)\" d=\"M80,0h738\" style=\"stroke: rgb(255, 255, 255); stroke-opacity: 1; stroke-width: 1px;\"/><path class=\"ygrid crisp\" transform=\"translate(0,293.76)\" d=\"M80,0h738\" style=\"stroke: rgb(255, 255, 255); stroke-opacity: 1; stroke-width: 1px;\"/><path class=\"ygrid crisp\" transform=\"translate(0,248.19)\" d=\"M80,0h738\" style=\"stroke: rgb(255, 255, 255); stroke-opacity: 1; stroke-width: 1px;\"/><path class=\"ygrid crisp\" transform=\"translate(0,202.63)\" d=\"M80,0h738\" style=\"stroke: rgb(255, 255, 255); stroke-opacity: 1; stroke-width: 1px;\"/><path class=\"ygrid crisp\" transform=\"translate(0,157.07)\" d=\"M80,0h738\" style=\"stroke: rgb(255, 255, 255); stroke-opacity: 1; stroke-width: 1px;\"/><path class=\"ygrid crisp\" transform=\"translate(0,111.51)\" d=\"M80,0h738\" style=\"stroke: rgb(255, 255, 255); stroke-opacity: 1; stroke-width: 1px;\"/></g></g><g class=\"zerolinelayer\"><path class=\"yzl zl crisp\" transform=\"translate(0,476)\" d=\"M80,0h738\" style=\"stroke: rgb(255, 255, 255); stroke-opacity: 1; stroke-width: 2px;\"/></g><path class=\"xlines-below\"/><path class=\"ylines-below\"/><g class=\"overlines-below\"/><g class=\"xaxislayer-below\"/><g class=\"yaxislayer-below\"/><g class=\"overaxes-below\"/><g class=\"plot\" transform=\"translate(80,100)\" clip-path=\"url(#clip53301fxyplot)\"><g class=\"barlayer mlayer\"><g class=\"trace bars\" style=\"opacity: 1;\"><g class=\"points\"><g class=\"point\"><path d=\"M4.92,376V240.23H24.6V376Z\" style=\"vector-effect: non-scaling-stroke; opacity: 1; stroke-width: 0px; fill: rgb(99, 110, 250); fill-opacity: 1;\"/></g><g class=\"point\"><path d=\"M54.12,376V293.99H73.8V376Z\" style=\"vector-effect: non-scaling-stroke; opacity: 1; stroke-width: 0px; fill: rgb(99, 110, 250); fill-opacity: 1;\"/></g><g class=\"point\"><path d=\"M103.32,376V303.1H123V376Z\" style=\"vector-effect: non-scaling-stroke; opacity: 1; stroke-width: 0px; fill: rgb(99, 110, 250); fill-opacity: 1;\"/></g><g class=\"point\"><path d=\"M152.52,376V323.15H172.2V376Z\" style=\"vector-effect: non-scaling-stroke; opacity: 1; stroke-width: 0px; fill: rgb(99, 110, 250); fill-opacity: 1;\"/></g><g class=\"point\"><path d=\"M201.72,376V297.63H221.4V376Z\" style=\"vector-effect: non-scaling-stroke; opacity: 1; stroke-width: 0px; fill: rgb(99, 110, 250); fill-opacity: 1;\"/></g><g class=\"point\"><path d=\"M250.92,376V321.33H270.6V376Z\" style=\"vector-effect: non-scaling-stroke; opacity: 1; stroke-width: 0px; fill: rgb(99, 110, 250); fill-opacity: 1;\"/></g><g class=\"point\"><path d=\"M300.12,376V328.62H319.8V376Z\" style=\"vector-effect: non-scaling-stroke; opacity: 1; stroke-width: 0px; fill: rgb(99, 110, 250); fill-opacity: 1;\"/></g><g class=\"point\"><path d=\"M349.32,376V45.23H369V376Z\" style=\"vector-effect: non-scaling-stroke; opacity: 1; stroke-width: 0px; fill: rgb(99, 110, 250); fill-opacity: 1;\"/></g><g class=\"point\"><path d=\"M398.52,376V192.84H418.2V376Z\" style=\"vector-effect: non-scaling-stroke; opacity: 1; stroke-width: 0px; fill: rgb(99, 110, 250); fill-opacity: 1;\"/></g><g class=\"point\"><path d=\"M447.72,376V232.94H467.4V376Z\" style=\"vector-effect: non-scaling-stroke; opacity: 1; stroke-width: 0px; fill: rgb(99, 110, 250); fill-opacity: 1;\"/></g><g class=\"point\"><path d=\"M496.92,376V193.76H516.6V376Z\" style=\"vector-effect: non-scaling-stroke; opacity: 1; stroke-width: 0px; fill: rgb(99, 110, 250); fill-opacity: 1;\"/></g><g class=\"point\"><path d=\"M546.12,376V186.47H565.8V376Z\" style=\"vector-effect: non-scaling-stroke; opacity: 1; stroke-width: 0px; fill: rgb(99, 110, 250); fill-opacity: 1;\"/></g><g class=\"point\"><path d=\"M595.32,376V172.8H615V376Z\" style=\"vector-effect: non-scaling-stroke; opacity: 1; stroke-width: 0px; fill: rgb(99, 110, 250); fill-opacity: 1;\"/></g><g class=\"point\"><path d=\"M644.52,376V147.28H664.2V376Z\" style=\"vector-effect: non-scaling-stroke; opacity: 1; stroke-width: 0px; fill: rgb(99, 110, 250); fill-opacity: 1;\"/></g><g class=\"point\"><path d=\"M693.72,376V18.8H713.4V376Z\" style=\"vector-effect: non-scaling-stroke; opacity: 1; stroke-width: 0px; fill: rgb(99, 110, 250); fill-opacity: 1;\"/></g></g></g><g class=\"trace bars\" style=\"opacity: 1;\"><g class=\"points\"><g class=\"point\"><path d=\"M24.6,376V262.1H44.28V376Z\" style=\"vector-effect: non-scaling-stroke; opacity: 1; stroke-width: 0px; fill: rgb(239, 85, 59); fill-opacity: 1;\"/></g><g class=\"point\"><path d=\"M73.8,376V348.66H93.48V376Z\" style=\"vector-effect: non-scaling-stroke; opacity: 1; stroke-width: 0px; fill: rgb(239, 85, 59); fill-opacity: 1;\"/></g><g class=\"point\"><path d=\"M123,376V326.79H142.68V376Z\" style=\"vector-effect: non-scaling-stroke; opacity: 1; stroke-width: 0px; fill: rgb(239, 85, 59); fill-opacity: 1;\"/></g><g class=\"point\"><path d=\"M172.2,376V351.4H191.88V376Z\" style=\"vector-effect: non-scaling-stroke; opacity: 1; stroke-width: 0px; fill: rgb(239, 85, 59); fill-opacity: 1;\"/></g><g class=\"point\"><path d=\"M221.4,376V365.07H241.08V376Z\" style=\"vector-effect: non-scaling-stroke; opacity: 1; stroke-width: 0px; fill: rgb(239, 85, 59); fill-opacity: 1;\"/></g><g class=\"point\"><path d=\"M270.6,376V341.37H290.28V376Z\" style=\"vector-effect: non-scaling-stroke; opacity: 1; stroke-width: 0px; fill: rgb(239, 85, 59); fill-opacity: 1;\"/></g><g class=\"point\"><path d=\"M319.8,376V367.8H339.48V376Z\" style=\"vector-effect: non-scaling-stroke; opacity: 1; stroke-width: 0px; fill: rgb(239, 85, 59); fill-opacity: 1;\"/></g><g class=\"point\"><path d=\"M369,376V327.71H388.68V376Z\" style=\"vector-effect: non-scaling-stroke; opacity: 1; stroke-width: 0px; fill: rgb(239, 85, 59); fill-opacity: 1;\"/></g><g class=\"point\"><path d=\"M418.2,376V356.86H437.88V376Z\" style=\"vector-effect: non-scaling-stroke; opacity: 1; stroke-width: 0px; fill: rgb(239, 85, 59); fill-opacity: 1;\"/></g><g class=\"point\"><path d=\"M467.4,376V309.48H487.08V376Z\" style=\"vector-effect: non-scaling-stroke; opacity: 1; stroke-width: 0px; fill: rgb(239, 85, 59); fill-opacity: 1;\"/></g><g class=\"point\"><path d=\"M516.6,376V353.22H536.28V376Z\" style=\"vector-effect: non-scaling-stroke; opacity: 1; stroke-width: 0px; fill: rgb(239, 85, 59); fill-opacity: 1;\"/></g><g class=\"point\"><path d=\"M565.8,376V339.55H585.48V376Z\" style=\"vector-effect: non-scaling-stroke; opacity: 1; stroke-width: 0px; fill: rgb(239, 85, 59); fill-opacity: 1;\"/></g><g class=\"point\"><path d=\"M615,376V349.57H634.68V376Z\" style=\"vector-effect: non-scaling-stroke; opacity: 1; stroke-width: 0px; fill: rgb(239, 85, 59); fill-opacity: 1;\"/></g><g class=\"point\"><path d=\"M664.2,376V334.08H683.88V376Z\" style=\"vector-effect: non-scaling-stroke; opacity: 1; stroke-width: 0px; fill: rgb(239, 85, 59); fill-opacity: 1;\"/></g><g class=\"point\"><path d=\"M713.4,376V321.33H733.08V376Z\" style=\"vector-effect: non-scaling-stroke; opacity: 1; stroke-width: 0px; fill: rgb(239, 85, 59); fill-opacity: 1;\"/></g></g></g></g></g><g class=\"overplot\"/><path class=\"xlines-above crisp\" d=\"M0,0\" style=\"fill: none;\"/><path class=\"ylines-above crisp\" d=\"M0,0\" style=\"fill: none;\"/><g class=\"overlines-above\"/><g class=\"xaxislayer-above\"><g class=\"xtick\"><text text-anchor=\"start\" x=\"2.0999999999999996\" y=\"483\" transform=\"translate(104.6,0) rotate(90,2.0999999999999996,477)\" style=\"font-family: 'Open Sans', verdana, arial, sans-serif; font-size: 12px; fill: rgb(42, 63, 95); fill-opacity: 1; white-space: pre; opacity: 1;\">2020-12-07</text></g><g class=\"xtick\"><text text-anchor=\"start\" x=\"2.0999999999999996\" y=\"483\" transform=\"translate(153.8,0) rotate(90,2.0999999999999996,477)\" style=\"font-family: 'Open Sans', verdana, arial, sans-serif; font-size: 12px; fill: rgb(42, 63, 95); fill-opacity: 1; white-space: pre; opacity: 1;\">2020-12-08</text></g><g class=\"xtick\"><text text-anchor=\"start\" x=\"2.0999999999999996\" y=\"483\" transform=\"translate(203,0) rotate(90,2.0999999999999996,477)\" style=\"font-family: 'Open Sans', verdana, arial, sans-serif; font-size: 12px; fill: rgb(42, 63, 95); fill-opacity: 1; white-space: pre; opacity: 1;\">2020-12-09</text></g><g class=\"xtick\"><text text-anchor=\"start\" x=\"2.0999999999999996\" y=\"483\" transform=\"translate(252.2,0) rotate(90,2.0999999999999996,477)\" style=\"font-family: 'Open Sans', verdana, arial, sans-serif; font-size: 12px; fill: rgb(42, 63, 95); fill-opacity: 1; white-space: pre; opacity: 1;\">2020-12-10</text></g><g class=\"xtick\"><text text-anchor=\"start\" x=\"2.0999999999999996\" y=\"483\" transform=\"translate(301.4,0) rotate(90,2.0999999999999996,477)\" style=\"font-family: 'Open Sans', verdana, arial, sans-serif; font-size: 12px; fill: rgb(42, 63, 95); fill-opacity: 1; white-space: pre; opacity: 1;\">2020-12-11</text></g><g class=\"xtick\"><text text-anchor=\"start\" x=\"2.0999999999999996\" y=\"483\" transform=\"translate(350.6,0) rotate(90,2.0999999999999996,477)\" style=\"font-family: 'Open Sans', verdana, arial, sans-serif; font-size: 12px; fill: rgb(42, 63, 95); fill-opacity: 1; white-space: pre; opacity: 1;\">2020-12-12</text></g><g class=\"xtick\"><text text-anchor=\"start\" x=\"2.0999999999999996\" y=\"483\" transform=\"translate(399.8,0) rotate(90,2.0999999999999996,477)\" style=\"font-family: 'Open Sans', verdana, arial, sans-serif; font-size: 12px; fill: rgb(42, 63, 95); fill-opacity: 1; white-space: pre; opacity: 1;\">2020-12-13</text></g><g class=\"xtick\"><text text-anchor=\"start\" x=\"2.0999999999999996\" y=\"483\" transform=\"translate(449,0) rotate(90,2.0999999999999996,477)\" style=\"font-family: 'Open Sans', verdana, arial, sans-serif; font-size: 12px; fill: rgb(42, 63, 95); fill-opacity: 1; white-space: pre; opacity: 1;\">2020-12-14</text></g><g class=\"xtick\"><text text-anchor=\"start\" x=\"2.0999999999999996\" y=\"483\" transform=\"translate(498.2,0) rotate(90,2.0999999999999996,477)\" style=\"font-family: 'Open Sans', verdana, arial, sans-serif; font-size: 12px; fill: rgb(42, 63, 95); fill-opacity: 1; white-space: pre; opacity: 1;\">2020-12-15</text></g><g class=\"xtick\"><text text-anchor=\"start\" x=\"2.0999999999999996\" y=\"483\" transform=\"translate(547.4,0) rotate(90,2.0999999999999996,477)\" style=\"font-family: 'Open Sans', verdana, arial, sans-serif; font-size: 12px; fill: rgb(42, 63, 95); fill-opacity: 1; white-space: pre; opacity: 1;\">2020-12-16</text></g><g class=\"xtick\"><text text-anchor=\"start\" x=\"2.0999999999999996\" y=\"483\" transform=\"translate(596.6,0) rotate(90,2.0999999999999996,477)\" style=\"font-family: 'Open Sans', verdana, arial, sans-serif; font-size: 12px; fill: rgb(42, 63, 95); fill-opacity: 1; white-space: pre; opacity: 1;\">2020-12-17</text></g><g class=\"xtick\"><text text-anchor=\"start\" x=\"2.0999999999999996\" y=\"483\" transform=\"translate(645.8,0) rotate(90,2.0999999999999996,477)\" style=\"font-family: 'Open Sans', verdana, arial, sans-serif; font-size: 12px; fill: rgb(42, 63, 95); fill-opacity: 1; white-space: pre; opacity: 1;\">2020-12-18</text></g><g class=\"xtick\"><text text-anchor=\"start\" x=\"2.0999999999999996\" y=\"483\" transform=\"translate(695,0) rotate(90,2.0999999999999996,477)\" style=\"font-family: 'Open Sans', verdana, arial, sans-serif; font-size: 12px; fill: rgb(42, 63, 95); fill-opacity: 1; white-space: pre; opacity: 1;\">2020-12-19</text></g><g class=\"xtick\"><text text-anchor=\"start\" x=\"2.0999999999999996\" y=\"483\" transform=\"translate(744.2,0) rotate(90,2.0999999999999996,477)\" style=\"font-family: 'Open Sans', verdana, arial, sans-serif; font-size: 12px; fill: rgb(42, 63, 95); fill-opacity: 1; white-space: pre; opacity: 1;\">2020-12-20</text></g><g class=\"xtick\"><text text-anchor=\"start\" x=\"2.0999999999999996\" y=\"483\" transform=\"translate(793.4,0) rotate(90,2.0999999999999996,477)\" style=\"font-family: 'Open Sans', verdana, arial, sans-serif; font-size: 12px; fill: rgb(42, 63, 95); fill-opacity: 1; white-space: pre; opacity: 1;\">2020-12-21</text></g></g><g class=\"yaxislayer-above\"><g class=\"ytick\"><text text-anchor=\"end\" x=\"79\" y=\"4.199999999999999\" transform=\"translate(0,476)\" style=\"font-family: 'Open Sans', verdana, arial, sans-serif; font-size: 12px; fill: rgb(42, 63, 95); fill-opacity: 1; white-space: pre; opacity: 1;\">0</text></g><g class=\"ytick\"><text text-anchor=\"end\" x=\"79\" y=\"4.199999999999999\" style=\"font-family: 'Open Sans', verdana, arial, sans-serif; font-size: 12px; fill: rgb(42, 63, 95); fill-opacity: 1; white-space: pre; opacity: 1;\" transform=\"translate(0,430.44)\">50</text></g><g class=\"ytick\"><text text-anchor=\"end\" x=\"79\" y=\"4.199999999999999\" style=\"font-family: 'Open Sans', verdana, arial, sans-serif; font-size: 12px; fill: rgb(42, 63, 95); fill-opacity: 1; white-space: pre; opacity: 1;\" transform=\"translate(0,384.88)\">100</text></g><g class=\"ytick\"><text text-anchor=\"end\" x=\"79\" y=\"4.199999999999999\" style=\"font-family: 'Open Sans', verdana, arial, sans-serif; font-size: 12px; fill: rgb(42, 63, 95); fill-opacity: 1; white-space: pre; opacity: 1;\" transform=\"translate(0,339.32)\">150</text></g><g class=\"ytick\"><text text-anchor=\"end\" x=\"79\" y=\"4.199999999999999\" style=\"font-family: 'Open Sans', verdana, arial, sans-serif; font-size: 12px; fill: rgb(42, 63, 95); fill-opacity: 1; white-space: pre; opacity: 1;\" transform=\"translate(0,293.76)\">200</text></g><g class=\"ytick\"><text text-anchor=\"end\" x=\"79\" y=\"4.199999999999999\" style=\"font-family: 'Open Sans', verdana, arial, sans-serif; font-size: 12px; fill: rgb(42, 63, 95); fill-opacity: 1; white-space: pre; opacity: 1;\" transform=\"translate(0,248.19)\">250</text></g><g class=\"ytick\"><text text-anchor=\"end\" x=\"79\" y=\"4.199999999999999\" style=\"font-family: 'Open Sans', verdana, arial, sans-serif; font-size: 12px; fill: rgb(42, 63, 95); fill-opacity: 1; white-space: pre; opacity: 1;\" transform=\"translate(0,202.63)\">300</text></g><g class=\"ytick\"><text text-anchor=\"end\" x=\"79\" y=\"4.199999999999999\" style=\"font-family: 'Open Sans', verdana, arial, sans-serif; font-size: 12px; fill: rgb(42, 63, 95); fill-opacity: 1; white-space: pre; opacity: 1;\" transform=\"translate(0,157.07)\">350</text></g><g class=\"ytick\"><text text-anchor=\"end\" x=\"79\" y=\"4.199999999999999\" style=\"font-family: 'Open Sans', verdana, arial, sans-serif; font-size: 12px; fill: rgb(42, 63, 95); fill-opacity: 1; white-space: pre; opacity: 1;\" transform=\"translate(0,111.51)\">400</text></g></g><g class=\"overaxes-above\"/></g></g><g class=\"polarlayer\"/><g class=\"smithlayer\"/><g class=\"ternarylayer\"/><g class=\"geolayer\"/><g class=\"funnelarealayer\"/><g class=\"pielayer\"/><g class=\"iciclelayer\"/><g class=\"treemaplayer\"/><g class=\"sunburstlayer\"/><g class=\"glimages\"/><defs id=\"topdefs-53301f\"><g class=\"clips\"/><clipPath id=\"legend53301f\"><rect width=\"55\" height=\"67\" x=\"0\" y=\"0\"/></clipPath></defs><g class=\"layer-above\"><g class=\"imagelayer\"/><g class=\"shapelayer\"/></g><g class=\"infolayer\"><g class=\"legend\" pointer-events=\"all\" transform=\"translate(832.76,100)\"><rect class=\"bg\" shape-rendering=\"crispEdges\" style=\"stroke: rgb(68, 68, 68); stroke-opacity: 1; fill: rgb(255, 255, 255); fill-opacity: 1; stroke-width: 0px;\" width=\"55\" height=\"67\" x=\"0\" y=\"0\"/><g class=\"scrollbox\" transform=\"\" clip-path=\"url(#legend53301f)\"><text class=\"legendtitletext\" text-anchor=\"start\" x=\"2\" y=\"18.2\" style=\"font-family: 'Open Sans', verdana, arial, sans-serif; font-size: 14px; fill: rgb(42, 63, 95); fill-opacity: 1; white-space: pre;\">group</text><g class=\"groups\" transform=\"\"><g class=\"traces\" transform=\"translate(0,32.7)\" style=\"opacity: 1;\"><text class=\"legendtext\" text-anchor=\"start\" x=\"40\" y=\"4.680000000000001\" style=\"font-family: 'Open Sans', verdana, arial, sans-serif; font-size: 12px; fill: rgb(42, 63, 95); fill-opacity: 1; white-space: pre;\">A</text><g class=\"layers\" style=\"opacity: 1;\"><g class=\"legendfill\"/><g class=\"legendlines\"/><g class=\"legendsymbols\"><g class=\"legendpoints\"><path class=\"legendundefined\" d=\"M6,6H-6V-6H6Z\" transform=\"translate(20,0)\" style=\"stroke-width: 0px; fill: rgb(99, 110, 250); fill-opacity: 1;\"/></g></g></g><rect class=\"legendtoggle\" x=\"0\" y=\"-9.5\" width=\"50\" height=\"19\" style=\"fill: rgb(0, 0, 0); fill-opacity: 0;\"/></g></g><g class=\"groups\" transform=\"\"><g class=\"traces\" transform=\"translate(0,51.7)\" style=\"opacity: 1;\"><text class=\"legendtext\" text-anchor=\"start\" x=\"40\" y=\"4.680000000000001\" style=\"font-family: 'Open Sans', verdana, arial, sans-serif; font-size: 12px; fill: rgb(42, 63, 95); fill-opacity: 1; white-space: pre;\">B</text><g class=\"layers\" style=\"opacity: 1;\"><g class=\"legendfill\"/><g class=\"legendlines\"/><g class=\"legendsymbols\"><g class=\"legendpoints\"><path class=\"legendundefined\" d=\"M6,6H-6V-6H6Z\" transform=\"translate(20,0)\" style=\"stroke-width: 0px; fill: rgb(239, 85, 59); fill-opacity: 1;\"/></g></g></g><rect class=\"legendtoggle\" x=\"0\" y=\"-9.5\" width=\"50\" height=\"19\" style=\"fill: rgb(0, 0, 0); fill-opacity: 0;\"/></g></g></g><rect class=\"scrollbar\" rx=\"20\" ry=\"3\" width=\"0\" height=\"0\" style=\"fill: rgb(128, 139, 164); fill-opacity: 1;\" x=\"0\" y=\"0\"/></g><g class=\"g-gtitle\"><text class=\"gtitle\" x=\"45\" y=\"50\" text-anchor=\"start\" dy=\"0em\" style=\"font-family: 'Open Sans', verdana, arial, sans-serif; font-size: 17px; fill: rgb(42, 63, 95); opacity: 1; font-weight: normal; white-space: pre;\">Динамика набора новых пользователей по группам</text></g><g class=\"g-xtitle\"><text class=\"xtitle\" x=\"449\" y=\"588.306640625\" text-anchor=\"middle\" style=\"font-family: 'Open Sans', verdana, arial, sans-serif; font-size: 20px; fill: rgb(42, 63, 95); opacity: 1; font-weight: normal; white-space: pre;\">Дата</text></g><g class=\"g-ytitle\"><text class=\"ytitle\" transform=\"rotate(-90,21.309375000000003,288)\" x=\"21.309375000000003\" y=\"288\" text-anchor=\"middle\" style=\"font-family: 'Open Sans', verdana, arial, sans-serif; font-size: 14px; fill: rgb(42, 63, 95); opacity: 1; font-weight: normal; white-space: pre;\">Количество пользователей</text></g></g></svg>"
      ]
     },
     "metadata": {},
     "output_type": "display_data"
    }
   ],
   "source": [
    "df = px.data.tips()\n",
    "fig = px.histogram(plot_new_user, x='first_date', y='user_id',\n",
    "             color='group', barmode='group',\n",
    "             height=1000, title=\"Динамика набора новых пользователей по группам\")\n",
    "\n",
    "fig.update_layout(\n",
    "    width=900,\n",
    "    height=600,)\n",
    "\n",
    "fig.update_xaxes(type='category')\n",
    "\n",
    "fig.update_xaxes(\n",
    "        tickangle = 90,\n",
    "        title_text = \"Дата\",\n",
    "        title_font = {\"size\": 20},\n",
    "        title_standoff = 25)\n",
    "\n",
    "fig.update_yaxes(\n",
    "        title_text = \"Количество пользователей\",\n",
    "        title_standoff = 25)\n",
    "\n",
    "fig.show(renderer = 'png', width = 900, height = 500 ,scale = None)\n"
   ]
  },
  {
   "cell_type": "markdown",
   "metadata": {
    "id": "AmzPHhM_LdJ_"
   },
   "source": [
    "**4.3 Как меняется конверсия в воронке в выборках на разных этапах?**"
   ]
  },
  {
   "cell_type": "code",
   "execution_count": 74,
   "metadata": {
    "colab": {
     "base_uri": "https://localhost:8080/",
     "height": 175
    },
    "id": "SkzuPYnSLdJ_",
    "outputId": "452f4511-eeaa-4abb-8654-f6b7f85448a8"
   },
   "outputs": [
    {
     "data": {
      "text/html": [
       "<div>\n",
       "<style scoped>\n",
       "    .dataframe tbody tr th:only-of-type {\n",
       "        vertical-align: middle;\n",
       "    }\n",
       "\n",
       "    .dataframe tbody tr th {\n",
       "        vertical-align: top;\n",
       "    }\n",
       "\n",
       "    .dataframe thead th {\n",
       "        text-align: right;\n",
       "    }\n",
       "</style>\n",
       "<table border=\"1\" class=\"dataframe\">\n",
       "  <thead>\n",
       "    <tr style=\"text-align: right;\">\n",
       "      <th>group</th>\n",
       "      <th>event_name</th>\n",
       "      <th>A</th>\n",
       "      <th>B</th>\n",
       "    </tr>\n",
       "  </thead>\n",
       "  <tbody>\n",
       "    <tr>\n",
       "      <th>0</th>\n",
       "      <td>login</td>\n",
       "      <td>2570</td>\n",
       "      <td>641</td>\n",
       "    </tr>\n",
       "    <tr>\n",
       "      <th>2</th>\n",
       "      <td>product_page</td>\n",
       "      <td>1685</td>\n",
       "      <td>367</td>\n",
       "    </tr>\n",
       "    <tr>\n",
       "      <th>1</th>\n",
       "      <td>product_cart</td>\n",
       "      <td>782</td>\n",
       "      <td>184</td>\n",
       "    </tr>\n",
       "    <tr>\n",
       "      <th>3</th>\n",
       "      <td>purchase</td>\n",
       "      <td>833</td>\n",
       "      <td>191</td>\n",
       "    </tr>\n",
       "  </tbody>\n",
       "</table>\n",
       "</div>"
      ],
      "text/plain": [
       "group    event_name     A    B\n",
       "0             login  2570  641\n",
       "2      product_page  1685  367\n",
       "1      product_cart   782  184\n",
       "3          purchase   833  191"
      ]
     },
     "execution_count": 74,
     "metadata": {},
     "output_type": "execute_result"
    }
   ],
   "source": [
    "funnel = system_test.pivot_table(index='event_name', columns='group', values='user_id',  aggfunc='nunique').reset_index()\n",
    "funnel = funnel.reindex([0,2,1,3])\n",
    "\n",
    "funnel"
   ]
  },
  {
   "cell_type": "code",
   "execution_count": 75,
   "metadata": {
    "colab": {
     "base_uri": "https://localhost:8080/",
     "height": 542
    },
    "id": "bGziItlJLdJ_",
    "outputId": "aee0669c-15cb-46ee-c017-47a0acb57a0b"
   },
   "outputs": [
    {
     "data": {
      "image/svg+xml": [
       "<svg class=\"main-svg\" xmlns=\"http://www.w3.org/2000/svg\" xmlns:xlink=\"http://www.w3.org/1999/xlink\" width=\"840\" height=\"600\" style=\"\" viewBox=\"0 0 700 500\"><rect x=\"0\" y=\"0\" width=\"700\" height=\"500\" style=\"fill: rgb(255, 255, 255); fill-opacity: 1;\"/><defs id=\"defs-617bcf\"><g class=\"clips\"><clipPath id=\"clip617bcfxyplot\" class=\"plotclip\"><rect width=\"524\" height=\"320\"/></clipPath><clipPath class=\"axesclip\" id=\"clip617bcfx\"><rect x=\"96\" y=\"0\" width=\"524\" height=\"500\"/></clipPath><clipPath class=\"axesclip\" id=\"clip617bcfy\"><rect x=\"0\" y=\"100\" width=\"700\" height=\"320\"/></clipPath><clipPath class=\"axesclip\" id=\"clip617bcfxy\"><rect x=\"96\" y=\"100\" width=\"524\" height=\"320\"/></clipPath></g><g class=\"gradients\"/><g class=\"patterns\"/></defs><g class=\"bglayer\"><rect class=\"bg\" x=\"96\" y=\"100\" width=\"524\" height=\"320\" style=\"fill: rgb(229, 236, 246); fill-opacity: 1; stroke-width: 0;\"/></g><g class=\"layer-below\"><g class=\"imagelayer\"/><g class=\"shapelayer\"/></g><g class=\"cartesianlayer\"><g class=\"subplot xy\"><g class=\"layer-subplot\"><g class=\"shapelayer\"/><g class=\"imagelayer\"/></g><g class=\"minor-gridlayer\"><g class=\"x\"/><g class=\"y\"/></g><g class=\"gridlayer\"><g class=\"x\"/><g class=\"y\"/></g><g class=\"zerolinelayer\"/><path class=\"xlines-below\"/><path class=\"ylines-below\"/><g class=\"overlines-below\"/><g class=\"xaxislayer-below\"/><g class=\"yaxislayer-below\"/><g class=\"overaxes-below\"/><g class=\"plot\" transform=\"translate(96,100)\" clip-path=\"url(#clip617bcfxyplot)\"><g class=\"funnellayer mlayer\"><g class=\"trace bars\" style=\"opacity: 1;\"><g class=\"regions\"><g class=\"region\"><path d=\"M26.2,72L111.31,88H358.79L403.66,72Z\" style=\"stroke-width: 0; fill: rgb(99, 110, 250); fill-opacity: 0.5;\"/></g><g class=\"region\"><path d=\"M111.31,152L191.06,168H305.91L358.79,152Z\" style=\"stroke-width: 0; fill: rgb(99, 110, 250); fill-opacity: 0.5;\"/></g><g class=\"region\"><path d=\"M191.06,232L186.8,248H309.15L305.91,232Z\" style=\"stroke-width: 0; fill: rgb(99, 110, 250); fill-opacity: 0.5;\"/></g><g class=\"region\"><path d=\"M0,0Z\" style=\"stroke-width: 0; fill: rgb(99, 110, 250); fill-opacity: 0.5;\"/></g></g><g class=\"points\"><g class=\"point\"><path d=\"M26.2,8V72H403.66V8Z\" style=\"vector-effect: non-scaling-stroke; fill: rgb(99, 110, 250); fill-opacity: 1; stroke: rgb(68, 68, 68); stroke-opacity: 1; stroke-width: 0px; opacity: 1;\"/><text class=\"bartext bartext-inside\" text-anchor=\"middle\" data-notex=\"1\" x=\"0\" y=\"0\" style=\"font-family: 'Open Sans', verdana, arial, sans-serif; font-size: 12px; fill: rgb(255, 255, 255); fill-opacity: 1; white-space: pre;\" transform=\"translate(214.883125,36.6953125)\"><tspan class=\"line\" dy=\"0em\" x=\"0\" y=\"0\">2570</tspan><tspan class=\"line\" dy=\"1.3em\" x=\"0\" y=\"0\">100%</tspan></text></g><g class=\"point\"><path d=\"M111.31,88V152H358.79V88Z\" style=\"vector-effect: non-scaling-stroke; fill: rgb(99, 110, 250); fill-opacity: 1; stroke: rgb(68, 68, 68); stroke-opacity: 1; stroke-width: 0px; opacity: 1;\"/><text class=\"bartext bartext-inside\" text-anchor=\"middle\" data-notex=\"1\" x=\"0\" y=\"0\" style=\"font-family: 'Open Sans', verdana, arial, sans-serif; font-size: 12px; fill: rgb(255, 255, 255); fill-opacity: 1; white-space: pre;\" transform=\"translate(234.8625,116.6953125)\"><tspan class=\"line\" dy=\"0em\" x=\"0\" y=\"0\">1685</tspan><tspan class=\"line\" dy=\"1.3em\" x=\"0\" y=\"0\">66%</tspan></text></g><g class=\"point\"><path d=\"M191.06,168V232H305.91V168Z\" style=\"vector-effect: non-scaling-stroke; fill: rgb(99, 110, 250); fill-opacity: 1; stroke: rgb(68, 68, 68); stroke-opacity: 1; stroke-width: 0px; opacity: 1;\"/><text class=\"bartext bartext-inside\" text-anchor=\"middle\" data-notex=\"1\" x=\"0\" y=\"0\" style=\"font-family: 'Open Sans', verdana, arial, sans-serif; font-size: 12px; fill: rgb(255, 255, 255); fill-opacity: 1; white-space: pre;\" transform=\"translate(248.4459375,196.6953125)\"><tspan class=\"line\" dy=\"0em\" x=\"0\" y=\"0\">782</tspan><tspan class=\"line\" dy=\"1.3em\" x=\"0\" y=\"0\">30%</tspan></text></g><g class=\"point\"><path d=\"M186.8,248V312H309.15V248Z\" style=\"vector-effect: non-scaling-stroke; fill: rgb(99, 110, 250); fill-opacity: 1; stroke: rgb(68, 68, 68); stroke-opacity: 1; stroke-width: 0px; opacity: 1;\"/><text class=\"bartext bartext-inside\" text-anchor=\"middle\" data-notex=\"1\" x=\"0\" y=\"0\" style=\"font-family: 'Open Sans', verdana, arial, sans-serif; font-size: 12px; fill: rgb(255, 255, 255); fill-opacity: 1; white-space: pre;\" transform=\"translate(247.9359375,276.6953125)\"><tspan class=\"line\" dy=\"0em\" x=\"0\" y=\"0\">833</tspan><tspan class=\"line\" dy=\"1.3em\" x=\"0\" y=\"0\">32%</tspan></text></g></g></g><g class=\"trace bars\" style=\"opacity: 1;\"><g class=\"regions\"><g class=\"region\"><path d=\"M403.66,72L358.79,88H412.69L497.8,72Z\" style=\"stroke-width: 0; fill: rgb(239, 85, 59); fill-opacity: 0.5;\"/></g><g class=\"region\"><path d=\"M358.79,152L305.91,168H332.94L412.69,152Z\" style=\"stroke-width: 0; fill: rgb(239, 85, 59); fill-opacity: 0.5;\"/></g><g class=\"region\"><path d=\"M305.91,232L309.15,248H337.2L332.94,232Z\" style=\"stroke-width: 0; fill: rgb(239, 85, 59); fill-opacity: 0.5;\"/></g><g class=\"region\"><path d=\"M0,0Z\" style=\"stroke-width: 0; fill: rgb(239, 85, 59); fill-opacity: 0.5;\"/></g></g><g class=\"points\"><g class=\"point\"><path d=\"M403.66,8V72H497.8V8Z\" style=\"vector-effect: non-scaling-stroke; fill: rgb(239, 85, 59); fill-opacity: 1; stroke: rgb(68, 68, 68); stroke-opacity: 1; stroke-width: 0px; opacity: 1;\"/><text class=\"bartext bartext-inside\" text-anchor=\"middle\" data-notex=\"1\" x=\"0\" y=\"0\" style=\"font-family: 'Open Sans', verdana, arial, sans-serif; font-size: 12px; fill: rgb(68, 68, 68); fill-opacity: 1; white-space: pre;\" transform=\"translate(450.683125,36.6953125)\"><tspan class=\"line\" dy=\"0em\" x=\"0\" y=\"0\">641</tspan><tspan class=\"line\" dy=\"1.3em\" x=\"0\" y=\"0\">100%</tspan></text></g><g class=\"point\"><path d=\"M358.79,88V152H412.69V88Z\" style=\"vector-effect: non-scaling-stroke; fill: rgb(239, 85, 59); fill-opacity: 1; stroke: rgb(68, 68, 68); stroke-opacity: 1; stroke-width: 0px; opacity: 1;\"/><text class=\"bartext bartext-inside\" text-anchor=\"middle\" data-notex=\"1\" x=\"0\" y=\"0\" style=\"font-family: 'Open Sans', verdana, arial, sans-serif; font-size: 12px; fill: rgb(68, 68, 68); fill-opacity: 1; white-space: pre;\" transform=\"translate(385.7009375,116.6953125)\"><tspan class=\"line\" dy=\"0em\" x=\"0\" y=\"0\">367</tspan><tspan class=\"line\" dy=\"1.3em\" x=\"0\" y=\"0\">57%</tspan></text></g><g class=\"point\"><path d=\"M305.91,168V232H332.94V168Z\" style=\"vector-effect: non-scaling-stroke; fill: rgb(239, 85, 59); fill-opacity: 1; stroke: rgb(68, 68, 68); stroke-opacity: 1; stroke-width: 0px; opacity: 1;\"/><text class=\"bartext bartext-inside\" text-anchor=\"middle\" data-notex=\"1\" x=\"0\" y=\"0\" style=\"font-family: 'Open Sans', verdana, arial, sans-serif; font-size: 12px; fill: rgb(68, 68, 68); fill-opacity: 1; white-space: pre;\" transform=\"translate(319.39593698175787,197.54126865671643)scale(0.7440132669983407)\"><tspan class=\"line\" dy=\"0em\" x=\"0\" y=\"0\">184</tspan><tspan class=\"line\" dy=\"1.3em\" x=\"0\" y=\"0\">29%</tspan></text></g><g class=\"point\"><path d=\"M309.15,248V312H337.2V248Z\" style=\"vector-effect: non-scaling-stroke; fill: rgb(239, 85, 59); fill-opacity: 1; stroke: rgb(68, 68, 68); stroke-opacity: 1; stroke-width: 0px; opacity: 1;\"/><text class=\"bartext bartext-inside\" text-anchor=\"middle\" data-notex=\"1\" x=\"0\" y=\"0\" style=\"font-family: 'Open Sans', verdana, arial, sans-serif; font-size: 12px; fill: rgb(68, 68, 68); fill-opacity: 1; white-space: pre;\" transform=\"translate(323.144527363184,277.4220149253731)scale(0.7800995024875625)\"><tspan class=\"line\" dy=\"0em\" x=\"0\" y=\"0\">191</tspan><tspan class=\"line\" dy=\"1.3em\" x=\"0\" y=\"0\">30%</tspan></text></g></g></g></g></g><g class=\"overplot\"/><path class=\"xlines-above crisp\" d=\"M0,0\" style=\"fill: none;\"/><path class=\"ylines-above crisp\" d=\"M0,0\" style=\"fill: none;\"/><g class=\"overlines-above\"/><g class=\"xaxislayer-above\"/><g class=\"yaxislayer-above\"><g class=\"ytick\"><text text-anchor=\"end\" x=\"95\" y=\"4.199999999999999\" transform=\"translate(0,380)\" style=\"font-family: 'Open Sans', verdana, arial, sans-serif; font-size: 12px; fill: rgb(42, 63, 95); fill-opacity: 1; white-space: pre; opacity: 1;\">purchase</text></g><g class=\"ytick\"><text text-anchor=\"end\" x=\"95\" y=\"4.199999999999999\" transform=\"translate(0,300)\" style=\"font-family: 'Open Sans', verdana, arial, sans-serif; font-size: 12px; fill: rgb(42, 63, 95); fill-opacity: 1; white-space: pre; opacity: 1;\">product_cart</text></g><g class=\"ytick\"><text text-anchor=\"end\" x=\"95\" y=\"4.199999999999999\" transform=\"translate(0,220)\" style=\"font-family: 'Open Sans', verdana, arial, sans-serif; font-size: 12px; fill: rgb(42, 63, 95); fill-opacity: 1; white-space: pre; opacity: 1;\">product_page</text></g><g class=\"ytick\"><text text-anchor=\"end\" x=\"95\" y=\"4.199999999999999\" transform=\"translate(0,140)\" style=\"font-family: 'Open Sans', verdana, arial, sans-serif; font-size: 12px; fill: rgb(42, 63, 95); fill-opacity: 1; white-space: pre; opacity: 1;\">login</text></g></g><g class=\"overaxes-above\"/></g></g><g class=\"polarlayer\"/><g class=\"smithlayer\"/><g class=\"ternarylayer\"/><g class=\"geolayer\"/><g class=\"funnelarealayer\"/><g class=\"pielayer\"/><g class=\"iciclelayer\"/><g class=\"treemaplayer\"/><g class=\"sunburstlayer\"/><g class=\"glimages\"/><defs id=\"topdefs-617bcf\"><g class=\"clips\"/><clipPath id=\"legend617bcf\"><rect width=\"55\" height=\"48\" x=\"0\" y=\"0\"/></clipPath></defs><g class=\"layer-above\"><g class=\"imagelayer\"/><g class=\"shapelayer\"/></g><g class=\"infolayer\"><g class=\"legend\" pointer-events=\"all\" transform=\"translate(630.48,100)\"><rect class=\"bg\" shape-rendering=\"crispEdges\" width=\"55\" height=\"48\" x=\"0\" y=\"0\" style=\"stroke: rgb(68, 68, 68); stroke-opacity: 1; fill: rgb(255, 255, 255); fill-opacity: 1; stroke-width: 0px;\"/><g class=\"scrollbox\" transform=\"\" clip-path=\"url(#legend617bcf)\"><g class=\"groups\"><g class=\"traces\" transform=\"translate(0,14.5)\" style=\"opacity: 1;\"><text class=\"legendtext\" text-anchor=\"start\" x=\"40\" y=\"4.680000000000001\" style=\"font-family: 'Open Sans', verdana, arial, sans-serif; font-size: 12px; fill: rgb(42, 63, 95); fill-opacity: 1; white-space: pre;\">A</text><g class=\"layers\" style=\"opacity: 1;\"><g class=\"legendfill\"/><g class=\"legendlines\"/><g class=\"legendsymbols\"><g class=\"legendpoints\"><path class=\"legendfunnel\" d=\"M6,6H-6V-6H6Z\" transform=\"translate(20,0)\" style=\"stroke-width: 0px; fill: rgb(99, 110, 250); fill-opacity: 1;\"/></g></g></g><rect class=\"legendtoggle\" x=\"0\" y=\"-9.5\" width=\"50\" height=\"19\" style=\"fill: rgb(0, 0, 0); fill-opacity: 0;\"/></g><g class=\"traces\" transform=\"translate(0,33.5)\" style=\"opacity: 1;\"><text class=\"legendtext\" text-anchor=\"start\" x=\"40\" y=\"4.680000000000001\" style=\"font-family: 'Open Sans', verdana, arial, sans-serif; font-size: 12px; fill: rgb(42, 63, 95); fill-opacity: 1; white-space: pre;\">B</text><g class=\"layers\" style=\"opacity: 1;\"><g class=\"legendfill\"/><g class=\"legendlines\"/><g class=\"legendsymbols\"><g class=\"legendpoints\"><path class=\"legendfunnel\" d=\"M6,6H-6V-6H6Z\" transform=\"translate(20,0)\" style=\"stroke-width: 0px; fill: rgb(239, 85, 59); fill-opacity: 1;\"/></g></g></g><rect class=\"legendtoggle\" x=\"0\" y=\"-9.5\" width=\"50\" height=\"19\" style=\"fill: rgb(0, 0, 0); fill-opacity: 0;\"/></g></g></g><rect class=\"scrollbar\" rx=\"20\" ry=\"3\" width=\"0\" height=\"0\" x=\"0\" y=\"0\" style=\"fill: rgb(128, 139, 164); fill-opacity: 1;\"/></g><g class=\"g-gtitle\"><text class=\"gtitle\" x=\"350\" y=\"50\" text-anchor=\"middle\" dy=\"0.7em\" style=\"font-family: 'Open Sans', verdana, arial, sans-serif; font-size: 17px; fill: rgb(42, 63, 95); opacity: 1; font-weight: normal; white-space: pre;\">Воронка продаж</text></g><g class=\"g-ytitle\"/></g></svg>"
      ]
     },
     "metadata": {},
     "output_type": "display_data"
    }
   ],
   "source": [
    "fig = go.Figure()\n",
    "\n",
    "fig.add_trace(go.Funnel(\n",
    "    name = 'A',\n",
    "    y = funnel['event_name'],\n",
    "    x = funnel['A'],\n",
    "    textinfo = \"value+percent initial\"))\n",
    "\n",
    "fig.add_trace(go.Funnel(\n",
    "    name = 'B',\n",
    "    orientation = \"h\",\n",
    "    y = funnel['event_name'],\n",
    "    x = funnel['B'],\n",
    "    textposition = \"inside\",\n",
    "    textinfo = \"value+percent initial\"))\n",
    "\n",
    "fig.update_layout(\n",
    "    title={\n",
    "        'text': \"Воронка продаж\",\n",
    "        'y':0.9,\n",
    "        'x':0.5,\n",
    "        'xanchor': 'center',\n",
    "        'yanchor': 'top'})\n",
    "\n",
    "fig.show(renderer = 'png', width = 900, height = 500,scale = None)"
   ]
  },
  {
   "cell_type": "markdown",
   "metadata": {
    "id": "bShTqON1LdKA"
   },
   "source": [
    "По воронке видно, что группа B, 'проигрывает' контрольной группе \"A\" на каждом шаге. Также для события product_cart количество пользователей меньше, чем в следущем шаге воронки (purchase). Из этого можно сделать вывод, что product_cart необязательный шаг."
   ]
  },
  {
   "cell_type": "markdown",
   "metadata": {
    "id": "Ukp9DoCmLdKA"
   },
   "source": []
  },
  {
   "cell_type": "markdown",
   "metadata": {
    "id": "RQ4qpRKTLdKA"
   },
   "source": [
    "# 5 A/B тестирование"
   ]
  },
  {
   "cell_type": "markdown",
   "metadata": {
    "id": "eX43LRamLdKA"
   },
   "source": [
    "**5.1 Результаты A/B тестирования**"
   ]
  },
  {
   "cell_type": "markdown",
   "metadata": {
    "id": "4yVcCSE1LdKB"
   },
   "source": [
    "* В датасет попали пользователи из другого теста (interface_eu_test). Посмотрим, есть ли люди из группы Б, которые попали в оба теста одновременно, если есть, удалим их.\n",
    "\n",
    "* В столбце с группами корректные значения\n",
    "\n",
    "* Минимальная дата 7 декабря 2020 года. Все как в ТЗ.\n",
    "\n",
    "* Максимальная дата 20 декабря 2020 года. Дата остановки набора новых пользователей по тз 21 декабря 2020 года. Нет противоречий с ТЗ\n",
    "* Также отсечем события, которые совершались после 01-04-2021 (по ТЗ).\n",
    "\n",
    "* Отсечем пользователей, которые не из региона EU\n",
    "\n",
    "* Отсечем пользователей, которые не совершали никаких действий после региcтрации\n",
    "\n",
    "* Отсечем события пользователей, после 14 дня. Т.к в ТЗ результат должен быть спустя 14 дней после регистрации\n",
    "\n",
    "* Пользователей, которые участвуют в обеих группах нет\n",
    "\n",
    "* Пользователей, которых не состоят ни в одной из групп тоже нет\n",
    "\n",
    "* Доля  новых  пользователей из EU - 15%\n",
    "\n",
    "* Группы не сбалансированы, разница составляет почти 75% или 1928 пользователей в абсолютных показателях. 2570 - пользователей в группе А. 642 - пользователей в группе Б\n",
    "\n",
    "* Во время проведения теста попадает только \"Christmas&New Year Promo\", потому что проводится в регионе EU, который нас интересует. Время проведения с 25-12-2020 по 03-01-2021.\n",
    "\n",
    "* По результатам проверки не найдено пересечений, это значит, что все пользователи, которые попали в конкурирующий тест находятся также в группе Б\n",
    "\n",
    "* В среднем, у группы А больше пользователей - 6.92 против 5.50 (группа В). Медианное значение А (6) тоже больше, чем у группы В (4). Нельзя сказать почему так происходит из-за того, что очень несбалансированные группы.\n",
    "\n",
    "* По результатам статистического теста выяснилось, что Количество событий на пользователя распределены неодинаково.\n",
    "\n",
    "* Для группы А - большие всплески 14 декабря, после которого количество событий растет, и 21 декабря - максимум (возможно это как-то связано с началом недели), для B - 7,9,17,21 декабря большие всплески.\n",
    "\n",
    "* Скачек событий в группе А с 14 числа связан со скачком новых пользователей. На графике динамики набора новых пользователей по группам мы видим скачки 14 и 21 числа для группы А.\n",
    "\n",
    "* По воронке видно, что группа B, 'проигрывает' контрольной группе \"A\" на каждом шаге. Также для события product_cart количество пользователей меньше, чем в следущем шаге воронки (purchase). Из этого можно сделать вывод, что product_cart необязательный шаг.\n",
    "\n",
    "* Статистически значимая разница есть только для события product_page. Однако полагаться на полученный результат нельзя, т.к. тест проведен некорректно."
   ]
  },
  {
   "cell_type": "markdown",
   "metadata": {
    "id": "SeHVCtVOLdKB"
   },
   "source": [
    "**5.2 z тест**"
   ]
  },
  {
   "cell_type": "markdown",
   "metadata": {
    "id": "eFlpsgsvLdKB"
   },
   "source": [
    "Для каждого события сформулируем нулевую и альтернативную теории. Т.к для всех событий они будут идентичны, оставим только одну формулировку"
   ]
  },
  {
   "cell_type": "markdown",
   "metadata": {
    "id": "Q3wel9bPLdKB"
   },
   "source": [
    "H0: Между долями нет статистически значимой разницы <br>\n",
    "H1: Между долями есть статистически значимая разницы <br>\n",
    "Уровень статистической значимость a = 0.05"
   ]
  },
  {
   "cell_type": "markdown",
   "metadata": {
    "id": "gDvzzPN0LdKC"
   },
   "source": [
    "Так как у нас множественный тест (будет 4 проверки), стоит применить поправку Бонферрони\n",
    "\n",
    "a=0.05/4"
   ]
  },
  {
   "cell_type": "markdown",
   "metadata": {
    "id": "eH-acZ6jLdKC"
   },
   "source": [
    "Подготовим датасет"
   ]
  },
  {
   "cell_type": "code",
   "execution_count": 76,
   "metadata": {
    "id": "n_-PFUmqLdKC"
   },
   "outputs": [],
   "source": [
    "ab_ztest = system_test.groupby('group').agg({'user_id':'nunique'})"
   ]
  },
  {
   "cell_type": "code",
   "execution_count": 77,
   "metadata": {
    "id": "Axm-CIrTLdKC"
   },
   "outputs": [],
   "source": [
    "ab_ztest['share'] = (ab_ztest['user_id']/ system_test['user_id'].nunique())*100"
   ]
  },
  {
   "cell_type": "code",
   "execution_count": 78,
   "metadata": {
    "colab": {
     "base_uri": "https://localhost:8080/",
     "height": 143
    },
    "id": "bige3JdZLdKC",
    "outputId": "b94ec0a1-787d-42e7-9fba-b0b243ce686f"
   },
   "outputs": [
    {
     "data": {
      "text/html": [
       "<div>\n",
       "<style scoped>\n",
       "    .dataframe tbody tr th:only-of-type {\n",
       "        vertical-align: middle;\n",
       "    }\n",
       "\n",
       "    .dataframe tbody tr th {\n",
       "        vertical-align: top;\n",
       "    }\n",
       "\n",
       "    .dataframe thead th {\n",
       "        text-align: right;\n",
       "    }\n",
       "</style>\n",
       "<table border=\"1\" class=\"dataframe\">\n",
       "  <thead>\n",
       "    <tr style=\"text-align: right;\">\n",
       "      <th></th>\n",
       "      <th>user_id</th>\n",
       "      <th>share</th>\n",
       "    </tr>\n",
       "    <tr>\n",
       "      <th>group</th>\n",
       "      <th></th>\n",
       "      <th></th>\n",
       "    </tr>\n",
       "  </thead>\n",
       "  <tbody>\n",
       "    <tr>\n",
       "      <th>A</th>\n",
       "      <td>2570</td>\n",
       "      <td>80.012453</td>\n",
       "    </tr>\n",
       "    <tr>\n",
       "      <th>B</th>\n",
       "      <td>642</td>\n",
       "      <td>19.987547</td>\n",
       "    </tr>\n",
       "  </tbody>\n",
       "</table>\n",
       "</div>"
      ],
      "text/plain": [
       "       user_id      share\n",
       "group                    \n",
       "A         2570  80.012453\n",
       "B          642  19.987547"
      ]
     },
     "execution_count": 78,
     "metadata": {},
     "output_type": "execute_result"
    }
   ],
   "source": [
    "ab_ztest"
   ]
  },
  {
   "cell_type": "code",
   "execution_count": 79,
   "metadata": {
    "id": "yLWjagIzLdKD"
   },
   "outputs": [],
   "source": [
    "def z_test(group1, group2, alpha):\n",
    "\n",
    "    for i in funnel.index:\n",
    "\n",
    "        p1 = funnel[group1][i] / ab_ztest['user_id'][0]\n",
    "\n",
    "        p2 = funnel[group2][i] / ab_ztest['user_id'][1]\n",
    "\n",
    "        print(funnel[group1][i], funnel[group2][i], ab_ztest['user_id'][0], ab_ztest['user_id'][1])\n",
    "\n",
    "        p_comb = (funnel[group1][i] + funnel[group2][i]) / (ab_ztest['user_id'][0] + ab_ztest['user_id'][1])\n",
    "\n",
    "        diff = p1 - p2\n",
    "\n",
    "        z_value = diff/mth.sqrt(p_comb*(1-p_comb)*(1/ab_ztest['user_id'][0]+ 1/ab_ztest['user_id'][1]))\n",
    "\n",
    "        distr = stats.norm(0,1)\n",
    "\n",
    "        p_value = (1 - distr.cdf(abs(z_value))) * 2\n",
    "\n",
    "        print('Для события', funnel['event_name'][i], '- p-value:', p_value)\n",
    "        if p_value < alpha:\n",
    "            print('Отвергаем нулевую гипотезу - между долями есть статистически значимая разница')\n",
    "        else:\n",
    "            print('Не получилось отвергнуть нулевую гипотезу - между долями нет статистически значимой разницы')\n",
    "        print()\n"
   ]
  },
  {
   "cell_type": "code",
   "execution_count": 80,
   "metadata": {
    "colab": {
     "base_uri": "https://localhost:8080/"
    },
    "id": "4IBKxLDxLdKD",
    "outputId": "64ce3059-ee4f-4fa0-cdd7-e20b6142d042"
   },
   "outputs": [
    {
     "name": "stdout",
     "output_type": "stream",
     "text": [
      "2570 641 2570 642\n",
      "Для события login - p-value: 0.04538267122479556\n",
      "Не получилось отвергнуть нулевую гипотезу - между долями нет статистически значимой разницы\n",
      "\n",
      "1685 367 2570 642\n",
      "Для события product_page - p-value: 7.397840037981496e-05\n",
      "Отвергаем нулевую гипотезу - между долями есть статистически значимая разница\n",
      "\n",
      "782 184 2570 642\n",
      "Для события product_cart - p-value: 0.38234191482711033\n",
      "Не получилось отвергнуть нулевую гипотезу - между долями нет статистически значимой разницы\n",
      "\n",
      "833 191 2570 642\n",
      "Для события purchase - p-value: 0.19549196973230054\n",
      "Не получилось отвергнуть нулевую гипотезу - между долями нет статистически значимой разницы\n",
      "\n"
     ]
    }
   ],
   "source": [
    "z_test('A','B', 0.05/4)"
   ]
  },
  {
   "cell_type": "markdown",
   "metadata": {
    "id": "EDlvDcFJLdKD"
   },
   "source": [
    "Статистически значимая разница есть только для события product_page. Однако полагаться на полученный результат нельзя, т.к. тест проведен некорректно."
   ]
  },
  {
   "cell_type": "markdown",
   "metadata": {
    "id": "v4BW5bPfLdKD"
   },
   "source": [
    "# 6 Вывод"
   ]
  },
  {
   "cell_type": "markdown",
   "metadata": {
    "id": "PKVhYG8fLdKE"
   },
   "source": [
    "* В датасет попали пользователи из другого теста (interface_eu_test). Посмотрим, есть ли люди из группы Б, которые попали в оба теста одновременно, если есть, удалим их.\n",
    "\n",
    "* В столбце с группами корректные значения\n",
    "\n",
    "* Минимальная дата 7 декабря 2020 года. Все как в ТЗ.\n",
    "\n",
    "* Максимальная дата 20 декабря 2020 года. Дата остановки набора новых пользователей по тз 21 декабря 2020 года. Нет противоречий с ТЗ\n",
    "* Также отсечем события, которые совершались после 01-04-2021 (по ТЗ).\n",
    "\n",
    "* Отсечем пользователей, которые не из региона EU\n",
    "\n",
    "* Отсечем пользователей, которые не совершали никаких действий после региcтрации\n",
    "\n",
    "* Отсечем события пользователей, после 14 дня. Т.к в ТЗ результат должен быть спустя 14 дней после регистрации\n",
    "\n",
    "* Пользователей, которые участвуют в обеих группах нет\n",
    "\n",
    "* Пользователей, которых не состоят ни в одной из групп тоже нет\n",
    "\n",
    "* Доля  новых  пользователей из EU - 15%\n",
    "\n",
    "* Группы не сбалансированы, разница составляет почти 75% или 1928 пользователей в абсолютных показателях. 2570 - пользователей в группе А. 642 - пользователей в группе Б\n",
    "\n",
    "* Во время проведения теста попадает только \"Christmas&New Year Promo\", потому что проводится в регионе EU, который нас интересует. Время проведения с 25-12-2020 по 03-01-2021.\n",
    "\n",
    "* По результатам проверки не найдено пересечений, это значит, что все пользователи, которые попали в конкурирующий тест находятся также в группе Б\n",
    "\n",
    "Если рассматривать это как готовый и \"очищенный\" АБ тест, то качество данных не позволяет делать обоснованных выводов.\n",
    "1. С временными отезками все неплохо\n",
    "2. Набор групп выполнен некорректно, т.к в тест попали пользоватили из конкурирующего теста (при чем попали в группу Б).\n",
    "3. 15% новых пользоватей - соблюдено\n",
    "4. Ожидаемое количество участников 6000, по факту - 3212\n",
    "5. Ожидаемый эффект: за 14 дней улучшение каждой метрики не менее, чем на 10%. Это мы проверим в следующих пунутах\n",
    "\n",
    "* В среднем, у группы А больше пользователей - 6.92 против 5.50 (группа В). Медианное значение А (6) тоже больше, чем у группы В (4). Нельзя сказать почему так происходит из-за того, что очень несбалансированные группы.\n",
    "\n",
    "* По результатам статистического теста выяснилось, что Количество событий на пользователя распределены неодинаково.\n",
    "\n",
    "* Для группы А - большие всплески 14 декабря, после которого количество событий растет, и 21 декабря - максимум (возможно это как-то связано с началом недели), для B - 7,9,17,21 декабря большие всплески.\n",
    "\n",
    "* Скачек событий в группе А с 14 числа связан со скачком новых пользователей. На графике динамики набора новых пользователей по группам мы видим скачки 14 и 21 числа для группы А.\n",
    "\n",
    "* По воронке видно, что группа B, 'проигрывает' контрольной группе \"A\" на каждом шаге. Также для события product_cart количество пользователей меньше, чем в следущем шаге воронки (purchase). Из этого можно сделать вывод, что product_cart необязательный шаг.\n",
    "\n",
    "* Статистически значимая разница есть только для события product_page. Однако полагаться на полученный результат нельзя, т.к. тест проведен некорректно.\n",
    "\n",
    "* Рекомендуется провести тест заново, сбалансировав группы по количеству.\n"
   ]
  }
 ],
 "metadata": {
  "ExecuteTimeLog": [
   {
    "duration": 1657,
    "start_time": "2023-04-02T11:36:01.771Z"
   },
   {
    "duration": 162,
    "start_time": "2023-04-02T11:38:45.360Z"
   },
   {
    "duration": 70,
    "start_time": "2023-04-02T11:38:53.345Z"
   },
   {
    "duration": 50,
    "start_time": "2023-04-02T11:39:03.787Z"
   },
   {
    "duration": 49,
    "start_time": "2023-04-02T11:39:13.608Z"
   },
   {
    "duration": 53,
    "start_time": "2023-04-02T11:39:17.361Z"
   },
   {
    "duration": 73,
    "start_time": "2023-04-02T11:39:35.182Z"
   },
   {
    "duration": 68,
    "start_time": "2023-04-02T11:39:37.996Z"
   },
   {
    "duration": 1216,
    "start_time": "2023-04-02T11:41:13.827Z"
   },
   {
    "duration": 14,
    "start_time": "2023-04-02T11:42:41.229Z"
   },
   {
    "duration": 9,
    "start_time": "2023-04-02T11:42:50.065Z"
   },
   {
    "duration": 12,
    "start_time": "2023-04-02T11:42:58.052Z"
   },
   {
    "duration": 9,
    "start_time": "2023-04-02T11:43:00.243Z"
   },
   {
    "duration": 10,
    "start_time": "2023-04-02T11:43:11.147Z"
   },
   {
    "duration": 8,
    "start_time": "2023-04-02T11:43:19.291Z"
   },
   {
    "duration": 653,
    "start_time": "2023-04-02T11:48:14.706Z"
   },
   {
    "duration": 9,
    "start_time": "2023-04-02T11:48:19.719Z"
   },
   {
    "duration": 14,
    "start_time": "2023-04-02T11:49:15.725Z"
   },
   {
    "duration": 32,
    "start_time": "2023-04-02T11:49:35.861Z"
   },
   {
    "duration": 24,
    "start_time": "2023-04-02T11:49:42.765Z"
   },
   {
    "duration": 71,
    "start_time": "2023-04-02T11:49:46.398Z"
   },
   {
    "duration": 31,
    "start_time": "2023-04-02T11:49:51.380Z"
   },
   {
    "duration": 14,
    "start_time": "2023-04-02T11:51:35.497Z"
   },
   {
    "duration": 13,
    "start_time": "2023-04-02T11:51:39.683Z"
   },
   {
    "duration": 45,
    "start_time": "2023-04-02T11:51:50.086Z"
   },
   {
    "duration": 336,
    "start_time": "2023-04-02T11:51:59.006Z"
   },
   {
    "duration": 10,
    "start_time": "2023-04-02T11:52:07.358Z"
   },
   {
    "duration": 9,
    "start_time": "2023-04-02T11:53:23.111Z"
   },
   {
    "duration": 7,
    "start_time": "2023-04-02T11:53:29.219Z"
   },
   {
    "duration": 22,
    "start_time": "2023-04-02T11:53:49.572Z"
   },
   {
    "duration": 71,
    "start_time": "2023-04-02T11:53:50.162Z"
   },
   {
    "duration": 9,
    "start_time": "2023-04-02T11:53:50.563Z"
   },
   {
    "duration": 600,
    "start_time": "2023-04-02T11:58:05.768Z"
   },
   {
    "duration": 1320,
    "start_time": "2023-04-02T11:58:39.641Z"
   },
   {
    "duration": 663,
    "start_time": "2023-04-02T11:58:40.964Z"
   },
   {
    "duration": 14,
    "start_time": "2023-04-02T11:58:41.629Z"
   },
   {
    "duration": 9,
    "start_time": "2023-04-02T11:58:41.646Z"
   },
   {
    "duration": 26,
    "start_time": "2023-04-02T11:58:41.657Z"
   },
   {
    "duration": 11,
    "start_time": "2023-04-02T11:58:41.686Z"
   },
   {
    "duration": 12,
    "start_time": "2023-04-02T11:58:41.699Z"
   },
   {
    "duration": 19,
    "start_time": "2023-04-02T11:58:41.712Z"
   },
   {
    "duration": 135,
    "start_time": "2023-04-02T11:58:41.733Z"
   },
   {
    "duration": 0,
    "start_time": "2023-04-02T11:58:41.869Z"
   },
   {
    "duration": 0,
    "start_time": "2023-04-02T11:58:41.875Z"
   },
   {
    "duration": 0,
    "start_time": "2023-04-02T11:58:41.877Z"
   },
   {
    "duration": 0,
    "start_time": "2023-04-02T11:58:41.878Z"
   },
   {
    "duration": 0,
    "start_time": "2023-04-02T11:58:41.880Z"
   },
   {
    "duration": 0,
    "start_time": "2023-04-02T11:58:41.881Z"
   },
   {
    "duration": 0,
    "start_time": "2023-04-02T11:58:41.884Z"
   },
   {
    "duration": 0,
    "start_time": "2023-04-02T11:58:41.885Z"
   },
   {
    "duration": 0,
    "start_time": "2023-04-02T11:58:41.889Z"
   },
   {
    "duration": 1400,
    "start_time": "2023-04-02T11:58:52.853Z"
   },
   {
    "duration": 651,
    "start_time": "2023-04-02T11:58:54.256Z"
   },
   {
    "duration": 13,
    "start_time": "2023-04-02T11:58:54.908Z"
   },
   {
    "duration": 10,
    "start_time": "2023-04-02T11:58:54.923Z"
   },
   {
    "duration": 11,
    "start_time": "2023-04-02T11:58:54.934Z"
   },
   {
    "duration": 8,
    "start_time": "2023-04-02T11:58:54.947Z"
   },
   {
    "duration": 34,
    "start_time": "2023-04-02T11:58:54.956Z"
   },
   {
    "duration": 23,
    "start_time": "2023-04-02T11:58:54.992Z"
   },
   {
    "duration": 87,
    "start_time": "2023-04-02T11:58:55.017Z"
   },
   {
    "duration": 12,
    "start_time": "2023-04-02T11:58:55.106Z"
   },
   {
    "duration": 10,
    "start_time": "2023-04-02T11:58:55.120Z"
   },
   {
    "duration": 57,
    "start_time": "2023-04-02T11:58:55.132Z"
   },
   {
    "duration": 333,
    "start_time": "2023-04-02T11:58:55.191Z"
   },
   {
    "duration": 10,
    "start_time": "2023-04-02T11:58:55.525Z"
   },
   {
    "duration": 993,
    "start_time": "2023-04-02T11:58:55.536Z"
   },
   {
    "duration": 366,
    "start_time": "2023-04-02T11:58:56.531Z"
   },
   {
    "duration": 50,
    "start_time": "2023-04-02T11:58:56.899Z"
   },
   {
    "duration": 7,
    "start_time": "2023-04-02T11:58:56.951Z"
   },
   {
    "duration": 115,
    "start_time": "2023-04-02T12:00:01.618Z"
   },
   {
    "duration": 269,
    "start_time": "2023-04-02T12:00:09.370Z"
   },
   {
    "duration": 312,
    "start_time": "2023-04-02T12:01:55.488Z"
   },
   {
    "duration": 307,
    "start_time": "2023-04-02T12:03:05.849Z"
   },
   {
    "duration": 7,
    "start_time": "2023-04-02T12:03:19.297Z"
   },
   {
    "duration": 5,
    "start_time": "2023-04-02T12:03:28.463Z"
   },
   {
    "duration": 283,
    "start_time": "2023-04-02T12:03:44.216Z"
   },
   {
    "duration": 19,
    "start_time": "2023-04-02T12:04:04.501Z"
   },
   {
    "duration": 68,
    "start_time": "2023-04-02T12:04:21.457Z"
   },
   {
    "duration": 56,
    "start_time": "2023-04-02T12:04:26.037Z"
   },
   {
    "duration": 1543,
    "start_time": "2023-04-02T12:04:44.995Z"
   },
   {
    "duration": 674,
    "start_time": "2023-04-02T12:04:46.540Z"
   },
   {
    "duration": 12,
    "start_time": "2023-04-02T12:04:47.216Z"
   },
   {
    "duration": 8,
    "start_time": "2023-04-02T12:04:47.230Z"
   },
   {
    "duration": 9,
    "start_time": "2023-04-02T12:04:47.240Z"
   },
   {
    "duration": 30,
    "start_time": "2023-04-02T12:04:47.251Z"
   },
   {
    "duration": 17,
    "start_time": "2023-04-02T12:04:47.284Z"
   },
   {
    "duration": 17,
    "start_time": "2023-04-02T12:04:47.303Z"
   },
   {
    "duration": 98,
    "start_time": "2023-04-02T12:04:47.322Z"
   },
   {
    "duration": 12,
    "start_time": "2023-04-02T12:04:47.422Z"
   },
   {
    "duration": 8,
    "start_time": "2023-04-02T12:04:47.435Z"
   },
   {
    "duration": 61,
    "start_time": "2023-04-02T12:04:47.444Z"
   },
   {
    "duration": 355,
    "start_time": "2023-04-02T12:04:47.507Z"
   },
   {
    "duration": 16,
    "start_time": "2023-04-02T12:04:47.864Z"
   },
   {
    "duration": 15,
    "start_time": "2023-04-02T12:04:47.882Z"
   },
   {
    "duration": 14,
    "start_time": "2023-04-02T12:04:47.898Z"
   },
   {
    "duration": 81,
    "start_time": "2023-04-02T12:04:47.914Z"
   },
   {
    "duration": 8,
    "start_time": "2023-04-02T12:04:47.996Z"
   },
   {
    "duration": 353,
    "start_time": "2023-04-02T12:04:48.006Z"
   },
   {
    "duration": 5,
    "start_time": "2023-04-02T12:05:13.517Z"
   },
   {
    "duration": 6,
    "start_time": "2023-04-02T12:05:18.559Z"
   },
   {
    "duration": 54,
    "start_time": "2023-04-02T12:05:25.868Z"
   },
   {
    "duration": 475,
    "start_time": "2023-04-02T12:06:04.224Z"
   },
   {
    "duration": 67,
    "start_time": "2023-04-02T12:06:06.400Z"
   },
   {
    "duration": 336,
    "start_time": "2023-04-02T12:07:07.508Z"
   },
   {
    "duration": 19,
    "start_time": "2023-04-02T12:12:50.543Z"
   },
   {
    "duration": 215,
    "start_time": "2023-04-02T12:13:34.727Z"
   },
   {
    "duration": 12,
    "start_time": "2023-04-02T12:13:47.856Z"
   },
   {
    "duration": 13,
    "start_time": "2023-04-02T12:14:14.816Z"
   },
   {
    "duration": 5,
    "start_time": "2023-04-02T12:28:16.993Z"
   },
   {
    "duration": 10,
    "start_time": "2023-04-02T12:28:21.657Z"
   },
   {
    "duration": 10,
    "start_time": "2023-04-02T12:28:31.088Z"
   },
   {
    "duration": 106,
    "start_time": "2023-04-02T13:34:59.040Z"
   },
   {
    "duration": 28,
    "start_time": "2023-04-02T13:35:10.637Z"
   },
   {
    "duration": 16,
    "start_time": "2023-04-02T13:35:14.911Z"
   },
   {
    "duration": 109,
    "start_time": "2023-04-02T14:24:13.366Z"
   },
   {
    "duration": 129,
    "start_time": "2023-04-02T14:24:44.163Z"
   },
   {
    "duration": 10,
    "start_time": "2023-04-02T14:24:48.857Z"
   },
   {
    "duration": 40,
    "start_time": "2023-04-02T14:24:55.532Z"
   },
   {
    "duration": 35,
    "start_time": "2023-04-02T14:24:58.692Z"
   },
   {
    "duration": 51,
    "start_time": "2023-04-02T14:25:13.973Z"
   },
   {
    "duration": 42,
    "start_time": "2023-04-02T14:25:18.917Z"
   },
   {
    "duration": 4,
    "start_time": "2023-04-02T14:26:28.635Z"
   },
   {
    "duration": 5,
    "start_time": "2023-04-02T14:26:40.675Z"
   },
   {
    "duration": 5,
    "start_time": "2023-04-02T14:28:48.876Z"
   },
   {
    "duration": 8652,
    "start_time": "2023-04-02T14:29:07.526Z"
   },
   {
    "duration": 5,
    "start_time": "2023-04-02T14:29:27.974Z"
   },
   {
    "duration": 25,
    "start_time": "2023-04-02T14:30:46.317Z"
   },
   {
    "duration": 29,
    "start_time": "2023-04-02T14:31:04.365Z"
   },
   {
    "duration": 5161,
    "start_time": "2023-04-02T14:33:13.020Z"
   },
   {
    "duration": 9,
    "start_time": "2023-04-02T14:33:36.921Z"
   },
   {
    "duration": 5172,
    "start_time": "2023-04-02T14:33:41.776Z"
   },
   {
    "duration": 5,
    "start_time": "2023-04-02T14:37:36.856Z"
   },
   {
    "duration": 47,
    "start_time": "2023-04-02T14:37:41.407Z"
   },
   {
    "duration": 11,
    "start_time": "2023-04-02T14:37:50.946Z"
   },
   {
    "duration": 11,
    "start_time": "2023-04-02T14:37:53.336Z"
   },
   {
    "duration": 5,
    "start_time": "2023-04-02T14:37:55.720Z"
   },
   {
    "duration": 40,
    "start_time": "2023-04-02T14:38:07.407Z"
   },
   {
    "duration": 15,
    "start_time": "2023-04-02T14:38:44.206Z"
   },
   {
    "duration": 30,
    "start_time": "2023-04-02T14:38:52.608Z"
   },
   {
    "duration": 9,
    "start_time": "2023-04-02T14:39:43.379Z"
   },
   {
    "duration": 5047,
    "start_time": "2023-04-02T14:40:03.953Z"
   },
   {
    "duration": 44,
    "start_time": "2023-04-02T14:40:15.149Z"
   },
   {
    "duration": 12,
    "start_time": "2023-04-02T14:40:36.273Z"
   },
   {
    "duration": 72,
    "start_time": "2023-04-02T14:40:52.932Z"
   },
   {
    "duration": 22,
    "start_time": "2023-04-02T14:40:57.876Z"
   },
   {
    "duration": 11,
    "start_time": "2023-04-02T14:41:12.722Z"
   },
   {
    "duration": 763,
    "start_time": "2023-04-02T14:41:26.497Z"
   },
   {
    "duration": 34,
    "start_time": "2023-04-02T14:43:54.747Z"
   },
   {
    "duration": 41,
    "start_time": "2023-04-02T14:44:15.255Z"
   },
   {
    "duration": 46,
    "start_time": "2023-04-02T14:44:27.709Z"
   },
   {
    "duration": 11,
    "start_time": "2023-04-02T14:44:38.101Z"
   },
   {
    "duration": 5,
    "start_time": "2023-04-02T14:44:42.804Z"
   },
   {
    "duration": 16,
    "start_time": "2023-04-02T14:45:08.267Z"
   },
   {
    "duration": 54,
    "start_time": "2023-04-02T14:45:18.758Z"
   },
   {
    "duration": 36,
    "start_time": "2023-04-02T14:46:14.499Z"
   },
   {
    "duration": 12,
    "start_time": "2023-04-02T14:46:27.708Z"
   },
   {
    "duration": 4,
    "start_time": "2023-04-02T14:47:31.944Z"
   },
   {
    "duration": 1291,
    "start_time": "2023-04-02T14:47:41.197Z"
   },
   {
    "duration": 5,
    "start_time": "2023-04-02T14:47:52.621Z"
   },
   {
    "duration": 13,
    "start_time": "2023-04-02T14:48:16.525Z"
   },
   {
    "duration": 3,
    "start_time": "2023-04-02T14:48:24.616Z"
   },
   {
    "duration": 17,
    "start_time": "2023-04-02T14:48:27.565Z"
   },
   {
    "duration": 12,
    "start_time": "2023-04-02T14:48:38.600Z"
   },
   {
    "duration": 12,
    "start_time": "2023-04-02T14:49:58.457Z"
   },
   {
    "duration": 28,
    "start_time": "2023-04-02T14:50:06.372Z"
   },
   {
    "duration": 34,
    "start_time": "2023-04-02T14:50:21.305Z"
   },
   {
    "duration": 6,
    "start_time": "2023-04-02T14:52:07.407Z"
   },
   {
    "duration": 10,
    "start_time": "2023-04-02T14:52:13.050Z"
   },
   {
    "duration": 11,
    "start_time": "2023-04-02T14:52:27.041Z"
   },
   {
    "duration": 8,
    "start_time": "2023-04-02T14:52:30.127Z"
   },
   {
    "duration": 8,
    "start_time": "2023-04-02T14:52:32.567Z"
   },
   {
    "duration": 7,
    "start_time": "2023-04-02T14:52:45.249Z"
   },
   {
    "duration": 7,
    "start_time": "2023-04-02T14:52:47.086Z"
   },
   {
    "duration": 1256,
    "start_time": "2023-04-02T14:52:55.721Z"
   },
   {
    "duration": 630,
    "start_time": "2023-04-02T14:52:56.980Z"
   },
   {
    "duration": 12,
    "start_time": "2023-04-02T14:52:57.612Z"
   },
   {
    "duration": 8,
    "start_time": "2023-04-02T14:52:57.626Z"
   },
   {
    "duration": 18,
    "start_time": "2023-04-02T14:52:57.636Z"
   },
   {
    "duration": 13,
    "start_time": "2023-04-02T14:52:57.656Z"
   },
   {
    "duration": 20,
    "start_time": "2023-04-02T14:52:57.670Z"
   },
   {
    "duration": 18,
    "start_time": "2023-04-02T14:52:57.692Z"
   },
   {
    "duration": 76,
    "start_time": "2023-04-02T14:52:57.711Z"
   },
   {
    "duration": 12,
    "start_time": "2023-04-02T14:52:57.791Z"
   },
   {
    "duration": 18,
    "start_time": "2023-04-02T14:52:57.805Z"
   },
   {
    "duration": 34,
    "start_time": "2023-04-02T14:52:57.825Z"
   },
   {
    "duration": 334,
    "start_time": "2023-04-02T14:52:57.860Z"
   },
   {
    "duration": 10,
    "start_time": "2023-04-02T14:52:58.196Z"
   },
   {
    "duration": 5,
    "start_time": "2023-04-02T14:52:58.208Z"
   },
   {
    "duration": 15,
    "start_time": "2023-04-02T14:52:58.215Z"
   },
   {
    "duration": 81,
    "start_time": "2023-04-02T14:52:58.232Z"
   },
   {
    "duration": 7,
    "start_time": "2023-04-02T14:52:58.314Z"
   },
   {
    "duration": 337,
    "start_time": "2023-04-02T14:52:58.322Z"
   },
   {
    "duration": 19,
    "start_time": "2023-04-02T14:52:58.660Z"
   },
   {
    "duration": 15,
    "start_time": "2023-04-02T14:52:58.681Z"
   },
   {
    "duration": 42,
    "start_time": "2023-04-02T14:52:58.698Z"
   },
   {
    "duration": 41,
    "start_time": "2023-04-02T14:52:58.741Z"
   },
   {
    "duration": 4,
    "start_time": "2023-04-02T14:52:58.784Z"
   },
   {
    "duration": 8,
    "start_time": "2023-04-02T14:52:58.790Z"
   },
   {
    "duration": 9,
    "start_time": "2023-04-02T14:52:58.799Z"
   },
   {
    "duration": 32,
    "start_time": "2023-04-02T14:52:58.810Z"
   },
   {
    "duration": 47,
    "start_time": "2023-04-02T14:52:58.844Z"
   },
   {
    "duration": 8,
    "start_time": "2023-04-02T14:52:58.893Z"
   },
   {
    "duration": 7,
    "start_time": "2023-04-02T14:52:58.903Z"
   },
   {
    "duration": 23,
    "start_time": "2023-04-02T14:52:58.911Z"
   },
   {
    "duration": 7,
    "start_time": "2023-04-02T14:53:35.490Z"
   },
   {
    "duration": 6,
    "start_time": "2023-04-02T14:54:19.100Z"
   },
   {
    "duration": 6,
    "start_time": "2023-04-02T14:58:28.297Z"
   },
   {
    "duration": 6,
    "start_time": "2023-04-02T14:58:35.930Z"
   },
   {
    "duration": 6,
    "start_time": "2023-04-02T14:58:59.110Z"
   },
   {
    "duration": 115,
    "start_time": "2023-04-02T14:59:07.975Z"
   },
   {
    "duration": 20,
    "start_time": "2023-04-02T14:59:12.926Z"
   },
   {
    "duration": 615,
    "start_time": "2023-04-02T14:59:25.639Z"
   },
   {
    "duration": 636,
    "start_time": "2023-04-02T14:59:33.696Z"
   },
   {
    "duration": 13,
    "start_time": "2023-04-02T14:59:39.375Z"
   },
   {
    "duration": 11,
    "start_time": "2023-04-02T15:00:00.767Z"
   },
   {
    "duration": 1308,
    "start_time": "2023-04-02T15:00:33.264Z"
   },
   {
    "duration": 20,
    "start_time": "2023-04-02T15:00:51.699Z"
   },
   {
    "duration": 4,
    "start_time": "2023-04-02T15:01:12.360Z"
   },
   {
    "duration": 5,
    "start_time": "2023-04-02T15:01:24.176Z"
   },
   {
    "duration": 5,
    "start_time": "2023-04-02T15:02:25.712Z"
   },
   {
    "duration": 1373,
    "start_time": "2023-04-02T15:03:42.073Z"
   },
   {
    "duration": 666,
    "start_time": "2023-04-02T15:03:43.449Z"
   },
   {
    "duration": 18,
    "start_time": "2023-04-02T15:03:44.118Z"
   },
   {
    "duration": 17,
    "start_time": "2023-04-02T15:03:44.139Z"
   },
   {
    "duration": 11,
    "start_time": "2023-04-02T15:03:44.158Z"
   },
   {
    "duration": 15,
    "start_time": "2023-04-02T15:03:44.171Z"
   },
   {
    "duration": 21,
    "start_time": "2023-04-02T15:03:44.189Z"
   },
   {
    "duration": 32,
    "start_time": "2023-04-02T15:03:44.212Z"
   },
   {
    "duration": 89,
    "start_time": "2023-04-02T15:03:44.246Z"
   },
   {
    "duration": 18,
    "start_time": "2023-04-02T15:03:44.338Z"
   },
   {
    "duration": 26,
    "start_time": "2023-04-02T15:03:44.358Z"
   },
   {
    "duration": 46,
    "start_time": "2023-04-02T15:03:44.387Z"
   },
   {
    "duration": 342,
    "start_time": "2023-04-02T15:03:44.434Z"
   },
   {
    "duration": 14,
    "start_time": "2023-04-02T15:03:44.778Z"
   },
   {
    "duration": 7,
    "start_time": "2023-04-02T15:03:44.794Z"
   },
   {
    "duration": 17,
    "start_time": "2023-04-02T15:03:44.802Z"
   },
   {
    "duration": 91,
    "start_time": "2023-04-02T15:03:44.821Z"
   },
   {
    "duration": 7,
    "start_time": "2023-04-02T15:03:44.914Z"
   },
   {
    "duration": 370,
    "start_time": "2023-04-02T15:03:44.922Z"
   },
   {
    "duration": 19,
    "start_time": "2023-04-02T15:03:45.294Z"
   },
   {
    "duration": 19,
    "start_time": "2023-04-02T15:03:45.314Z"
   },
   {
    "duration": 19,
    "start_time": "2023-04-02T15:03:45.335Z"
   },
   {
    "duration": 64,
    "start_time": "2023-04-02T15:03:45.356Z"
   },
   {
    "duration": 14,
    "start_time": "2023-04-02T15:03:45.422Z"
   },
   {
    "duration": 3,
    "start_time": "2023-04-02T15:03:45.438Z"
   },
   {
    "duration": 8,
    "start_time": "2023-04-02T15:03:45.443Z"
   },
   {
    "duration": 33,
    "start_time": "2023-04-02T15:03:45.452Z"
   },
   {
    "duration": 40,
    "start_time": "2023-04-02T15:03:45.488Z"
   },
   {
    "duration": 46,
    "start_time": "2023-04-02T15:03:45.531Z"
   },
   {
    "duration": 10,
    "start_time": "2023-04-02T15:03:45.579Z"
   },
   {
    "duration": 8,
    "start_time": "2023-04-02T15:03:45.591Z"
   },
   {
    "duration": 6,
    "start_time": "2023-04-02T15:03:45.600Z"
   },
   {
    "duration": 6,
    "start_time": "2023-04-02T15:03:45.608Z"
   },
   {
    "duration": 18,
    "start_time": "2023-04-02T15:03:45.616Z"
   },
   {
    "duration": 4,
    "start_time": "2023-04-02T15:03:45.636Z"
   },
   {
    "duration": 44,
    "start_time": "2023-04-02T15:04:21.308Z"
   },
   {
    "duration": 4,
    "start_time": "2023-04-02T15:04:23.121Z"
   },
   {
    "duration": 5,
    "start_time": "2023-04-02T15:04:31.114Z"
   },
   {
    "duration": 125,
    "start_time": "2023-04-02T15:07:00.531Z"
   },
   {
    "duration": 6,
    "start_time": "2023-04-02T15:07:43.893Z"
   },
   {
    "duration": 10,
    "start_time": "2023-04-02T15:07:46.346Z"
   },
   {
    "duration": 1374,
    "start_time": "2023-04-02T15:07:57.803Z"
   },
   {
    "duration": 725,
    "start_time": "2023-04-02T15:07:59.179Z"
   },
   {
    "duration": 14,
    "start_time": "2023-04-02T15:07:59.906Z"
   },
   {
    "duration": 10,
    "start_time": "2023-04-02T15:07:59.922Z"
   },
   {
    "duration": 20,
    "start_time": "2023-04-02T15:07:59.935Z"
   },
   {
    "duration": 10,
    "start_time": "2023-04-02T15:07:59.957Z"
   },
   {
    "duration": 27,
    "start_time": "2023-04-02T15:07:59.968Z"
   },
   {
    "duration": 25,
    "start_time": "2023-04-02T15:07:59.997Z"
   },
   {
    "duration": 92,
    "start_time": "2023-04-02T15:08:00.024Z"
   },
   {
    "duration": 13,
    "start_time": "2023-04-02T15:08:00.117Z"
   },
   {
    "duration": 37,
    "start_time": "2023-04-02T15:08:00.131Z"
   },
   {
    "duration": 63,
    "start_time": "2023-04-02T15:08:00.169Z"
   },
   {
    "duration": 390,
    "start_time": "2023-04-02T15:08:00.234Z"
   },
   {
    "duration": 11,
    "start_time": "2023-04-02T15:08:00.626Z"
   },
   {
    "duration": 26,
    "start_time": "2023-04-02T15:08:00.640Z"
   },
   {
    "duration": 46,
    "start_time": "2023-04-02T15:08:00.669Z"
   },
   {
    "duration": 123,
    "start_time": "2023-04-02T15:08:00.717Z"
   },
   {
    "duration": 9,
    "start_time": "2023-04-02T15:08:00.842Z"
   },
   {
    "duration": 401,
    "start_time": "2023-04-02T15:08:00.852Z"
   },
   {
    "duration": 24,
    "start_time": "2023-04-02T15:08:01.255Z"
   },
   {
    "duration": 34,
    "start_time": "2023-04-02T15:08:01.281Z"
   },
   {
    "duration": 87,
    "start_time": "2023-04-02T15:08:01.318Z"
   },
   {
    "duration": 20,
    "start_time": "2023-04-02T15:08:01.408Z"
   },
   {
    "duration": 19,
    "start_time": "2023-04-02T15:08:01.431Z"
   },
   {
    "duration": 46,
    "start_time": "2023-04-02T15:08:01.452Z"
   },
   {
    "duration": 9,
    "start_time": "2023-04-02T15:08:03.750Z"
   },
   {
    "duration": 6,
    "start_time": "2023-04-02T15:08:30.310Z"
   },
   {
    "duration": 10,
    "start_time": "2023-04-02T15:08:33.141Z"
   },
   {
    "duration": 16,
    "start_time": "2023-04-02T15:19:25.171Z"
   },
   {
    "duration": 750,
    "start_time": "2023-04-02T17:22:27.072Z"
   },
   {
    "duration": 842,
    "start_time": "2023-04-02T17:23:16.251Z"
   },
   {
    "duration": 591,
    "start_time": "2023-04-02T17:23:25.145Z"
   },
   {
    "duration": 642,
    "start_time": "2023-04-02T17:23:46.033Z"
   },
   {
    "duration": 31,
    "start_time": "2023-04-02T17:24:10.922Z"
   },
   {
    "duration": 692,
    "start_time": "2023-04-02T17:24:26.313Z"
   },
   {
    "duration": 53,
    "start_time": "2023-04-02T17:25:39.275Z"
   },
   {
    "duration": 4,
    "start_time": "2023-04-02T17:26:10.404Z"
   },
   {
    "duration": 38,
    "start_time": "2023-04-02T17:26:14.412Z"
   },
   {
    "duration": 17,
    "start_time": "2023-04-02T17:26:21.184Z"
   },
   {
    "duration": 28,
    "start_time": "2023-04-02T17:26:31.933Z"
   },
   {
    "duration": 24,
    "start_time": "2023-04-02T17:26:44.989Z"
   },
   {
    "duration": 39,
    "start_time": "2023-04-02T17:27:13.084Z"
   },
   {
    "duration": 25,
    "start_time": "2023-04-02T17:27:25.390Z"
   },
   {
    "duration": 33,
    "start_time": "2023-04-02T17:27:48.499Z"
   },
   {
    "duration": 83,
    "start_time": "2023-04-02T17:28:30.716Z"
   },
   {
    "duration": 70,
    "start_time": "2023-04-02T17:28:42.612Z"
   },
   {
    "duration": 67,
    "start_time": "2023-04-02T17:28:44.886Z"
   },
   {
    "duration": 67,
    "start_time": "2023-04-02T17:28:47.087Z"
   },
   {
    "duration": 70,
    "start_time": "2023-04-02T17:28:51.596Z"
   },
   {
    "duration": 241,
    "start_time": "2023-04-02T17:29:07.479Z"
   },
   {
    "duration": 226,
    "start_time": "2023-04-02T17:29:20.495Z"
   },
   {
    "duration": 70,
    "start_time": "2023-04-02T17:29:32.139Z"
   },
   {
    "duration": 31,
    "start_time": "2023-04-02T17:29:35.167Z"
   },
   {
    "duration": 75,
    "start_time": "2023-04-02T17:32:23.174Z"
   },
   {
    "duration": 305,
    "start_time": "2023-04-02T17:32:42.801Z"
   },
   {
    "duration": 81,
    "start_time": "2023-04-02T17:32:51.045Z"
   },
   {
    "duration": 87,
    "start_time": "2023-04-02T17:37:38.959Z"
   },
   {
    "duration": 8,
    "start_time": "2023-04-02T17:39:07.609Z"
   },
   {
    "duration": 17,
    "start_time": "2023-04-02T17:39:13.975Z"
   },
   {
    "duration": 16,
    "start_time": "2023-04-02T17:39:18.271Z"
   },
   {
    "duration": 695,
    "start_time": "2023-04-02T17:40:14.366Z"
   },
   {
    "duration": 62,
    "start_time": "2023-04-02T17:40:19.301Z"
   },
   {
    "duration": 57,
    "start_time": "2023-04-02T17:40:36.876Z"
   },
   {
    "duration": 19,
    "start_time": "2023-04-02T17:40:53.486Z"
   },
   {
    "duration": 12,
    "start_time": "2023-04-02T17:40:54.434Z"
   },
   {
    "duration": 11,
    "start_time": "2023-04-02T17:40:59.949Z"
   },
   {
    "duration": 8,
    "start_time": "2023-04-02T17:41:06.329Z"
   },
   {
    "duration": 19,
    "start_time": "2023-04-02T17:42:26.187Z"
   },
   {
    "duration": 43,
    "start_time": "2023-04-02T17:42:28.906Z"
   },
   {
    "duration": 71,
    "start_time": "2023-04-02T17:42:51.642Z"
   },
   {
    "duration": 3,
    "start_time": "2023-04-02T17:42:54.716Z"
   },
   {
    "duration": 56,
    "start_time": "2023-04-02T17:43:04.155Z"
   },
   {
    "duration": 5,
    "start_time": "2023-04-02T17:43:04.572Z"
   },
   {
    "duration": 12,
    "start_time": "2023-04-02T17:43:08.661Z"
   },
   {
    "duration": 50,
    "start_time": "2023-04-02T17:43:09.683Z"
   },
   {
    "duration": 12,
    "start_time": "2023-04-02T17:44:09.835Z"
   },
   {
    "duration": 67,
    "start_time": "2023-04-02T17:44:40.843Z"
   },
   {
    "duration": 4,
    "start_time": "2023-04-02T17:44:42.833Z"
   },
   {
    "duration": 19,
    "start_time": "2023-04-02T17:44:49.780Z"
   },
   {
    "duration": 61,
    "start_time": "2023-04-02T17:45:14.118Z"
   },
   {
    "duration": 5,
    "start_time": "2023-04-02T17:45:15.923Z"
   },
   {
    "duration": 4,
    "start_time": "2023-04-02T17:45:21.645Z"
   },
   {
    "duration": 5,
    "start_time": "2023-04-02T17:45:28.315Z"
   },
   {
    "duration": 4,
    "start_time": "2023-04-02T17:45:32.219Z"
   },
   {
    "duration": 293,
    "start_time": "2023-04-02T17:47:34.627Z"
   },
   {
    "duration": 29,
    "start_time": "2023-04-02T17:47:37.648Z"
   },
   {
    "duration": 30,
    "start_time": "2023-04-02T17:47:44.628Z"
   },
   {
    "duration": 17,
    "start_time": "2023-04-02T17:47:59.444Z"
   },
   {
    "duration": 12,
    "start_time": "2023-04-02T17:48:03.300Z"
   },
   {
    "duration": 48,
    "start_time": "2023-04-02T17:48:03.897Z"
   },
   {
    "duration": 4,
    "start_time": "2023-04-02T17:48:04.393Z"
   },
   {
    "duration": 52,
    "start_time": "2023-04-02T17:49:00.002Z"
   },
   {
    "duration": 31,
    "start_time": "2023-04-02T17:49:14.621Z"
   },
   {
    "duration": 36,
    "start_time": "2023-04-02T17:50:26.125Z"
   },
   {
    "duration": 1335,
    "start_time": "2023-04-02T17:50:45.658Z"
   },
   {
    "duration": 705,
    "start_time": "2023-04-02T17:50:46.995Z"
   },
   {
    "duration": 12,
    "start_time": "2023-04-02T17:50:47.701Z"
   },
   {
    "duration": 7,
    "start_time": "2023-04-02T17:50:47.715Z"
   },
   {
    "duration": 10,
    "start_time": "2023-04-02T17:50:47.723Z"
   },
   {
    "duration": 7,
    "start_time": "2023-04-02T17:50:47.735Z"
   },
   {
    "duration": 11,
    "start_time": "2023-04-02T17:50:47.744Z"
   },
   {
    "duration": 19,
    "start_time": "2023-04-02T17:50:47.780Z"
   },
   {
    "duration": 61,
    "start_time": "2023-04-02T17:50:47.801Z"
   },
   {
    "duration": 27,
    "start_time": "2023-04-02T17:50:47.865Z"
   },
   {
    "duration": 6,
    "start_time": "2023-04-02T17:50:47.894Z"
   },
   {
    "duration": 34,
    "start_time": "2023-04-02T17:50:47.901Z"
   },
   {
    "duration": 338,
    "start_time": "2023-04-02T17:50:47.936Z"
   },
   {
    "duration": 12,
    "start_time": "2023-04-02T17:50:48.276Z"
   },
   {
    "duration": 8,
    "start_time": "2023-04-02T17:50:48.290Z"
   },
   {
    "duration": 13,
    "start_time": "2023-04-02T17:50:48.300Z"
   },
   {
    "duration": 92,
    "start_time": "2023-04-02T17:50:48.315Z"
   },
   {
    "duration": 8,
    "start_time": "2023-04-02T17:50:48.409Z"
   },
   {
    "duration": 321,
    "start_time": "2023-04-02T17:50:48.419Z"
   },
   {
    "duration": 17,
    "start_time": "2023-04-02T17:50:48.741Z"
   },
   {
    "duration": 25,
    "start_time": "2023-04-02T17:50:48.760Z"
   },
   {
    "duration": 109,
    "start_time": "2023-04-02T17:50:48.787Z"
   },
   {
    "duration": 18,
    "start_time": "2023-04-02T17:50:48.898Z"
   },
   {
    "duration": 17,
    "start_time": "2023-04-02T17:50:48.918Z"
   },
   {
    "duration": 11,
    "start_time": "2023-04-02T17:50:48.937Z"
   },
   {
    "duration": 10,
    "start_time": "2023-04-02T17:50:48.980Z"
   },
   {
    "duration": 12,
    "start_time": "2023-04-02T17:50:48.992Z"
   },
   {
    "duration": 16,
    "start_time": "2023-04-02T17:50:49.007Z"
   },
   {
    "duration": 50,
    "start_time": "2023-04-02T17:50:49.025Z"
   },
   {
    "duration": 35,
    "start_time": "2023-04-02T17:50:49.077Z"
   },
   {
    "duration": 3,
    "start_time": "2023-04-02T17:51:31.869Z"
   },
   {
    "duration": 18,
    "start_time": "2023-04-02T17:52:18.957Z"
   },
   {
    "duration": 20,
    "start_time": "2023-04-02T17:52:23.169Z"
   },
   {
    "duration": 81,
    "start_time": "2023-04-02T17:52:34.922Z"
   },
   {
    "duration": 10,
    "start_time": "2023-04-02T17:53:28.946Z"
   },
   {
    "duration": 17,
    "start_time": "2023-04-02T17:53:30.830Z"
   },
   {
    "duration": 9,
    "start_time": "2023-04-02T17:53:34.193Z"
   },
   {
    "duration": 9,
    "start_time": "2023-04-02T17:53:36.178Z"
   },
   {
    "duration": 5,
    "start_time": "2023-04-02T17:53:37.223Z"
   },
   {
    "duration": 17,
    "start_time": "2023-04-02T17:54:32.947Z"
   },
   {
    "duration": 36,
    "start_time": "2023-04-02T17:54:35.589Z"
   },
   {
    "duration": 5,
    "start_time": "2023-04-02T17:54:45.157Z"
   },
   {
    "duration": 1488,
    "start_time": "2023-04-02T17:59:26.465Z"
   },
   {
    "duration": 18,
    "start_time": "2023-04-02T17:59:31.200Z"
   },
   {
    "duration": 14,
    "start_time": "2023-04-02T17:59:43.204Z"
   },
   {
    "duration": 36,
    "start_time": "2023-04-02T17:59:47.755Z"
   },
   {
    "duration": 56,
    "start_time": "2023-04-02T18:00:01.967Z"
   },
   {
    "duration": 110,
    "start_time": "2023-04-02T18:00:11.141Z"
   },
   {
    "duration": 66,
    "start_time": "2023-04-02T18:00:15.840Z"
   },
   {
    "duration": 16,
    "start_time": "2023-04-02T18:01:49.454Z"
   },
   {
    "duration": 29,
    "start_time": "2023-04-02T18:02:16.599Z"
   },
   {
    "duration": 15,
    "start_time": "2023-04-02T18:02:25.009Z"
   },
   {
    "duration": 45,
    "start_time": "2023-04-02T18:02:35.259Z"
   },
   {
    "duration": 14,
    "start_time": "2023-04-02T18:02:48.207Z"
   },
   {
    "duration": 11,
    "start_time": "2023-04-02T18:03:08.297Z"
   },
   {
    "duration": 12,
    "start_time": "2023-04-02T18:03:15.907Z"
   },
   {
    "duration": 6,
    "start_time": "2023-04-02T18:03:30.667Z"
   },
   {
    "duration": 15,
    "start_time": "2023-04-02T18:03:59.803Z"
   },
   {
    "duration": 8,
    "start_time": "2023-04-02T18:04:21.799Z"
   },
   {
    "duration": 8,
    "start_time": "2023-04-02T18:04:23.804Z"
   },
   {
    "duration": 93,
    "start_time": "2023-04-02T18:04:29.552Z"
   },
   {
    "duration": 5,
    "start_time": "2023-04-02T18:04:34.804Z"
   },
   {
    "duration": 11,
    "start_time": "2023-04-02T18:04:36.553Z"
   },
   {
    "duration": 1551,
    "start_time": "2023-04-02T18:04:44.204Z"
   },
   {
    "duration": 802,
    "start_time": "2023-04-02T18:04:45.757Z"
   },
   {
    "duration": 14,
    "start_time": "2023-04-02T18:04:46.560Z"
   },
   {
    "duration": 13,
    "start_time": "2023-04-02T18:04:46.580Z"
   },
   {
    "duration": 15,
    "start_time": "2023-04-02T18:04:46.596Z"
   },
   {
    "duration": 10,
    "start_time": "2023-04-02T18:04:46.612Z"
   },
   {
    "duration": 17,
    "start_time": "2023-04-02T18:04:46.624Z"
   },
   {
    "duration": 40,
    "start_time": "2023-04-02T18:04:46.643Z"
   },
   {
    "duration": 63,
    "start_time": "2023-04-02T18:04:46.691Z"
   },
   {
    "duration": 12,
    "start_time": "2023-04-02T18:04:46.756Z"
   },
   {
    "duration": 7,
    "start_time": "2023-04-02T18:04:46.774Z"
   },
   {
    "duration": 49,
    "start_time": "2023-04-02T18:04:46.788Z"
   },
   {
    "duration": 358,
    "start_time": "2023-04-02T18:04:46.838Z"
   },
   {
    "duration": 11,
    "start_time": "2023-04-02T18:04:47.202Z"
   },
   {
    "duration": 12,
    "start_time": "2023-04-02T18:04:47.215Z"
   },
   {
    "duration": 25,
    "start_time": "2023-04-02T18:04:47.229Z"
   },
   {
    "duration": 91,
    "start_time": "2023-04-02T18:04:47.256Z"
   },
   {
    "duration": 10,
    "start_time": "2023-04-02T18:04:47.349Z"
   },
   {
    "duration": 380,
    "start_time": "2023-04-02T18:04:47.361Z"
   },
   {
    "duration": 18,
    "start_time": "2023-04-02T18:04:47.743Z"
   },
   {
    "duration": 27,
    "start_time": "2023-04-02T18:04:47.762Z"
   },
   {
    "duration": 132,
    "start_time": "2023-04-02T18:04:47.791Z"
   },
   {
    "duration": 17,
    "start_time": "2023-04-02T18:04:47.925Z"
   },
   {
    "duration": 16,
    "start_time": "2023-04-02T18:04:47.943Z"
   },
   {
    "duration": 35,
    "start_time": "2023-04-02T18:04:47.961Z"
   },
   {
    "duration": 8,
    "start_time": "2023-04-02T18:04:47.998Z"
   },
   {
    "duration": 13,
    "start_time": "2023-04-02T18:04:48.008Z"
   },
   {
    "duration": 7,
    "start_time": "2023-04-02T18:04:48.023Z"
   },
   {
    "duration": 17,
    "start_time": "2023-04-02T18:04:48.031Z"
   },
   {
    "duration": 11,
    "start_time": "2023-04-02T18:04:48.082Z"
   },
   {
    "duration": 22,
    "start_time": "2023-04-02T18:04:48.096Z"
   },
   {
    "duration": 8,
    "start_time": "2023-04-02T18:04:48.120Z"
   },
   {
    "duration": 23,
    "start_time": "2023-04-02T18:04:48.130Z"
   },
   {
    "duration": 53,
    "start_time": "2023-04-02T18:04:48.154Z"
   },
   {
    "duration": 33,
    "start_time": "2023-04-02T18:04:48.209Z"
   },
   {
    "duration": 72,
    "start_time": "2023-04-02T18:04:48.244Z"
   },
   {
    "duration": 5,
    "start_time": "2023-04-02T18:04:55.431Z"
   },
   {
    "duration": 4,
    "start_time": "2023-04-02T18:04:57.027Z"
   },
   {
    "duration": 8,
    "start_time": "2023-04-02T18:04:57.453Z"
   },
   {
    "duration": 15,
    "start_time": "2023-04-02T18:05:09.180Z"
   },
   {
    "duration": 7,
    "start_time": "2023-04-02T18:05:10.843Z"
   },
   {
    "duration": 6,
    "start_time": "2023-04-02T18:05:14.708Z"
   },
   {
    "duration": 1316,
    "start_time": "2023-04-02T18:05:21.926Z"
   },
   {
    "duration": 680,
    "start_time": "2023-04-02T18:05:23.244Z"
   },
   {
    "duration": 13,
    "start_time": "2023-04-02T18:05:23.926Z"
   },
   {
    "duration": 8,
    "start_time": "2023-04-02T18:05:23.941Z"
   },
   {
    "duration": 15,
    "start_time": "2023-04-02T18:05:23.951Z"
   },
   {
    "duration": 39,
    "start_time": "2023-04-02T18:05:23.968Z"
   },
   {
    "duration": 11,
    "start_time": "2023-04-02T18:05:24.009Z"
   },
   {
    "duration": 26,
    "start_time": "2023-04-02T18:05:24.021Z"
   },
   {
    "duration": 95,
    "start_time": "2023-04-02T18:05:24.048Z"
   },
   {
    "duration": 15,
    "start_time": "2023-04-02T18:05:24.147Z"
   },
   {
    "duration": 23,
    "start_time": "2023-04-02T18:05:24.164Z"
   },
   {
    "duration": 54,
    "start_time": "2023-04-02T18:05:24.189Z"
   },
   {
    "duration": 404,
    "start_time": "2023-04-02T18:05:24.245Z"
   },
   {
    "duration": 10,
    "start_time": "2023-04-02T18:05:24.650Z"
   },
   {
    "duration": 38,
    "start_time": "2023-04-02T18:05:24.661Z"
   },
   {
    "duration": 14,
    "start_time": "2023-04-02T18:05:24.705Z"
   },
   {
    "duration": 52,
    "start_time": "2023-04-02T18:05:24.720Z"
   },
   {
    "duration": 23,
    "start_time": "2023-04-02T18:05:24.773Z"
   },
   {
    "duration": 351,
    "start_time": "2023-04-02T18:05:24.799Z"
   },
   {
    "duration": 33,
    "start_time": "2023-04-02T18:05:25.151Z"
   },
   {
    "duration": 17,
    "start_time": "2023-04-02T18:05:25.195Z"
   },
   {
    "duration": 110,
    "start_time": "2023-04-02T18:05:25.214Z"
   },
   {
    "duration": 17,
    "start_time": "2023-04-02T18:05:25.326Z"
   },
   {
    "duration": 15,
    "start_time": "2023-04-02T18:05:25.345Z"
   },
   {
    "duration": 26,
    "start_time": "2023-04-02T18:05:25.375Z"
   },
   {
    "duration": 9,
    "start_time": "2023-04-02T18:05:25.405Z"
   },
   {
    "duration": 8,
    "start_time": "2023-04-02T18:05:25.416Z"
   },
   {
    "duration": 5,
    "start_time": "2023-04-02T18:05:25.427Z"
   },
   {
    "duration": 16,
    "start_time": "2023-04-02T18:05:25.434Z"
   },
   {
    "duration": 16,
    "start_time": "2023-04-02T18:05:25.479Z"
   },
   {
    "duration": 17,
    "start_time": "2023-04-02T18:05:25.508Z"
   },
   {
    "duration": 8,
    "start_time": "2023-04-02T18:05:25.526Z"
   },
   {
    "duration": 15,
    "start_time": "2023-04-02T18:05:25.535Z"
   },
   {
    "duration": 39,
    "start_time": "2023-04-02T18:05:25.552Z"
   },
   {
    "duration": 46,
    "start_time": "2023-04-02T18:05:25.592Z"
   },
   {
    "duration": 59,
    "start_time": "2023-04-02T18:05:25.640Z"
   },
   {
    "duration": 35,
    "start_time": "2023-04-02T18:08:31.004Z"
   },
   {
    "duration": 19,
    "start_time": "2023-04-02T18:08:34.210Z"
   },
   {
    "duration": 1756,
    "start_time": "2023-04-02T18:09:04.216Z"
   },
   {
    "duration": 25,
    "start_time": "2023-04-02T18:09:12.104Z"
   },
   {
    "duration": 4,
    "start_time": "2023-04-02T18:09:35.104Z"
   },
   {
    "duration": 30,
    "start_time": "2023-04-02T18:09:36.996Z"
   },
   {
    "duration": 38,
    "start_time": "2023-04-02T18:12:14.304Z"
   },
   {
    "duration": 16,
    "start_time": "2023-04-02T18:12:49.091Z"
   },
   {
    "duration": 13,
    "start_time": "2023-04-02T18:12:53.906Z"
   },
   {
    "duration": 16,
    "start_time": "2023-04-02T18:13:14.489Z"
   },
   {
    "duration": 14,
    "start_time": "2023-04-02T18:13:16.336Z"
   },
   {
    "duration": 8,
    "start_time": "2023-04-02T18:14:10.440Z"
   },
   {
    "duration": 25,
    "start_time": "2023-04-02T18:14:14.292Z"
   },
   {
    "duration": 7,
    "start_time": "2023-04-02T18:14:34.122Z"
   },
   {
    "duration": 34,
    "start_time": "2023-04-02T18:14:34.516Z"
   },
   {
    "duration": 13,
    "start_time": "2023-04-02T18:14:35.508Z"
   },
   {
    "duration": 11,
    "start_time": "2023-04-02T18:14:41.701Z"
   },
   {
    "duration": 6,
    "start_time": "2023-04-02T18:14:42.045Z"
   },
   {
    "duration": 13,
    "start_time": "2023-04-02T18:14:42.513Z"
   },
   {
    "duration": 20,
    "start_time": "2023-04-02T18:14:50.608Z"
   },
   {
    "duration": 8,
    "start_time": "2023-04-02T18:15:07.284Z"
   },
   {
    "duration": 8,
    "start_time": "2023-04-02T18:15:12.039Z"
   },
   {
    "duration": 1407,
    "start_time": "2023-04-02T18:15:22.440Z"
   },
   {
    "duration": 910,
    "start_time": "2023-04-02T18:15:23.849Z"
   },
   {
    "duration": 13,
    "start_time": "2023-04-02T18:15:24.761Z"
   },
   {
    "duration": 17,
    "start_time": "2023-04-02T18:15:24.778Z"
   },
   {
    "duration": 12,
    "start_time": "2023-04-02T18:15:24.800Z"
   },
   {
    "duration": 9,
    "start_time": "2023-04-02T18:15:24.814Z"
   },
   {
    "duration": 11,
    "start_time": "2023-04-02T18:15:24.825Z"
   },
   {
    "duration": 54,
    "start_time": "2023-04-02T18:15:24.838Z"
   },
   {
    "duration": 59,
    "start_time": "2023-04-02T18:15:24.898Z"
   },
   {
    "duration": 32,
    "start_time": "2023-04-02T18:15:24.961Z"
   },
   {
    "duration": 8,
    "start_time": "2023-04-02T18:15:24.999Z"
   },
   {
    "duration": 54,
    "start_time": "2023-04-02T18:15:25.010Z"
   },
   {
    "duration": 348,
    "start_time": "2023-04-02T18:15:25.076Z"
   },
   {
    "duration": 10,
    "start_time": "2023-04-02T18:15:25.425Z"
   },
   {
    "duration": 6,
    "start_time": "2023-04-02T18:15:25.437Z"
   },
   {
    "duration": 42,
    "start_time": "2023-04-02T18:15:25.445Z"
   },
   {
    "duration": 56,
    "start_time": "2023-04-02T18:15:25.488Z"
   },
   {
    "duration": 9,
    "start_time": "2023-04-02T18:15:25.546Z"
   },
   {
    "duration": 439,
    "start_time": "2023-04-02T18:15:25.578Z"
   },
   {
    "duration": 26,
    "start_time": "2023-04-02T18:15:26.020Z"
   },
   {
    "duration": 33,
    "start_time": "2023-04-02T18:15:26.049Z"
   },
   {
    "duration": 161,
    "start_time": "2023-04-02T18:15:26.086Z"
   },
   {
    "duration": 42,
    "start_time": "2023-04-02T18:15:26.249Z"
   },
   {
    "duration": 19,
    "start_time": "2023-04-02T18:15:26.292Z"
   },
   {
    "duration": 23,
    "start_time": "2023-04-02T18:15:26.313Z"
   },
   {
    "duration": 7,
    "start_time": "2023-04-02T18:15:26.337Z"
   },
   {
    "duration": 32,
    "start_time": "2023-04-02T18:15:26.347Z"
   },
   {
    "duration": 19,
    "start_time": "2023-04-02T18:15:26.391Z"
   },
   {
    "duration": 23,
    "start_time": "2023-04-02T18:15:26.414Z"
   },
   {
    "duration": 13,
    "start_time": "2023-04-02T18:15:26.439Z"
   },
   {
    "duration": 11,
    "start_time": "2023-04-02T18:15:26.455Z"
   },
   {
    "duration": 24,
    "start_time": "2023-04-02T18:15:26.477Z"
   },
   {
    "duration": 37,
    "start_time": "2023-04-02T18:15:26.504Z"
   },
   {
    "duration": 4,
    "start_time": "2023-04-02T18:15:26.544Z"
   },
   {
    "duration": 28,
    "start_time": "2023-04-02T18:15:26.550Z"
   },
   {
    "duration": 15,
    "start_time": "2023-04-02T18:15:26.580Z"
   },
   {
    "duration": 23,
    "start_time": "2023-04-02T18:15:26.597Z"
   },
   {
    "duration": 21,
    "start_time": "2023-04-02T18:15:26.622Z"
   },
   {
    "duration": 33,
    "start_time": "2023-04-02T18:15:26.645Z"
   },
   {
    "duration": 18,
    "start_time": "2023-04-02T18:15:26.681Z"
   },
   {
    "duration": 1836,
    "start_time": "2023-04-02T18:15:26.701Z"
   },
   {
    "duration": 0,
    "start_time": "2023-04-02T18:15:28.540Z"
   },
   {
    "duration": 0,
    "start_time": "2023-04-02T18:15:28.542Z"
   },
   {
    "duration": 6,
    "start_time": "2023-04-02T18:15:51.664Z"
   },
   {
    "duration": 1726,
    "start_time": "2023-04-02T18:15:59.219Z"
   },
   {
    "duration": 768,
    "start_time": "2023-04-02T18:16:00.948Z"
   },
   {
    "duration": 19,
    "start_time": "2023-04-02T18:16:01.720Z"
   },
   {
    "duration": 44,
    "start_time": "2023-04-02T18:16:01.741Z"
   },
   {
    "duration": 56,
    "start_time": "2023-04-02T18:16:01.788Z"
   },
   {
    "duration": 103,
    "start_time": "2023-04-02T18:16:01.847Z"
   },
   {
    "duration": 55,
    "start_time": "2023-04-02T18:16:01.952Z"
   },
   {
    "duration": 47,
    "start_time": "2023-04-02T18:16:02.009Z"
   },
   {
    "duration": 93,
    "start_time": "2023-04-02T18:16:02.058Z"
   },
   {
    "duration": 27,
    "start_time": "2023-04-02T18:16:02.154Z"
   },
   {
    "duration": 8,
    "start_time": "2023-04-02T18:16:02.187Z"
   },
   {
    "duration": 93,
    "start_time": "2023-04-02T18:16:02.198Z"
   },
   {
    "duration": 441,
    "start_time": "2023-04-02T18:16:02.295Z"
   },
   {
    "duration": 15,
    "start_time": "2023-04-02T18:16:02.741Z"
   },
   {
    "duration": 23,
    "start_time": "2023-04-02T18:16:02.758Z"
   },
   {
    "duration": 22,
    "start_time": "2023-04-02T18:16:02.785Z"
   },
   {
    "duration": 72,
    "start_time": "2023-04-02T18:16:02.809Z"
   },
   {
    "duration": 18,
    "start_time": "2023-04-02T18:16:02.882Z"
   },
   {
    "duration": 522,
    "start_time": "2023-04-02T18:16:02.902Z"
   },
   {
    "duration": 25,
    "start_time": "2023-04-02T18:16:03.425Z"
   },
   {
    "duration": 23,
    "start_time": "2023-04-02T18:16:03.452Z"
   },
   {
    "duration": 174,
    "start_time": "2023-04-02T18:16:03.484Z"
   },
   {
    "duration": 35,
    "start_time": "2023-04-02T18:16:03.660Z"
   },
   {
    "duration": 29,
    "start_time": "2023-04-02T18:16:03.698Z"
   },
   {
    "duration": 23,
    "start_time": "2023-04-02T18:16:03.731Z"
   },
   {
    "duration": 36,
    "start_time": "2023-04-02T18:16:03.756Z"
   },
   {
    "duration": 16,
    "start_time": "2023-04-02T18:16:03.796Z"
   },
   {
    "duration": 12,
    "start_time": "2023-04-02T18:16:03.820Z"
   },
   {
    "duration": 24,
    "start_time": "2023-04-02T18:16:03.839Z"
   },
   {
    "duration": 18,
    "start_time": "2023-04-02T18:16:03.866Z"
   },
   {
    "duration": 24,
    "start_time": "2023-04-02T18:16:03.887Z"
   },
   {
    "duration": 38,
    "start_time": "2023-04-02T18:16:03.913Z"
   },
   {
    "duration": 45,
    "start_time": "2023-04-02T18:16:03.953Z"
   },
   {
    "duration": 8,
    "start_time": "2023-04-02T18:16:04.000Z"
   },
   {
    "duration": 16,
    "start_time": "2023-04-02T18:16:04.011Z"
   },
   {
    "duration": 10,
    "start_time": "2023-04-02T18:16:04.030Z"
   },
   {
    "duration": 7,
    "start_time": "2023-04-02T18:16:04.043Z"
   },
   {
    "duration": 39,
    "start_time": "2023-04-02T18:16:04.053Z"
   },
   {
    "duration": 7,
    "start_time": "2023-04-02T18:16:04.094Z"
   },
   {
    "duration": 27,
    "start_time": "2023-04-02T18:16:04.103Z"
   },
   {
    "duration": 17,
    "start_time": "2023-04-02T18:16:04.140Z"
   },
   {
    "duration": 79,
    "start_time": "2023-04-02T18:16:04.160Z"
   },
   {
    "duration": 64,
    "start_time": "2023-04-02T18:16:04.241Z"
   },
   {
    "duration": 18,
    "start_time": "2023-04-02T18:16:19.106Z"
   },
   {
    "duration": 61,
    "start_time": "2023-04-02T18:16:19.704Z"
   },
   {
    "duration": 51,
    "start_time": "2023-04-02T18:16:20.741Z"
   },
   {
    "duration": 61,
    "start_time": "2023-04-02T18:16:42.716Z"
   },
   {
    "duration": 70,
    "start_time": "2023-04-02T18:16:48.021Z"
   },
   {
    "duration": 69,
    "start_time": "2023-04-02T18:16:52.102Z"
   },
   {
    "duration": 61,
    "start_time": "2023-04-02T18:17:02.202Z"
   },
   {
    "duration": 42,
    "start_time": "2023-04-02T18:17:12.119Z"
   },
   {
    "duration": 91,
    "start_time": "2023-04-02T18:17:16.806Z"
   },
   {
    "duration": 1484,
    "start_time": "2023-04-02T18:19:06.298Z"
   },
   {
    "duration": 744,
    "start_time": "2023-04-02T18:19:07.786Z"
   },
   {
    "duration": 18,
    "start_time": "2023-04-02T18:19:08.533Z"
   },
   {
    "duration": 12,
    "start_time": "2023-04-02T18:19:08.555Z"
   },
   {
    "duration": 20,
    "start_time": "2023-04-02T18:19:08.569Z"
   },
   {
    "duration": 15,
    "start_time": "2023-04-02T18:19:08.592Z"
   },
   {
    "duration": 32,
    "start_time": "2023-04-02T18:19:08.609Z"
   },
   {
    "duration": 35,
    "start_time": "2023-04-02T18:19:08.643Z"
   },
   {
    "duration": 121,
    "start_time": "2023-04-02T18:19:08.681Z"
   },
   {
    "duration": 19,
    "start_time": "2023-04-02T18:19:08.810Z"
   },
   {
    "duration": 7,
    "start_time": "2023-04-02T18:19:08.831Z"
   },
   {
    "duration": 85,
    "start_time": "2023-04-02T18:19:08.840Z"
   },
   {
    "duration": 367,
    "start_time": "2023-04-02T18:19:08.927Z"
   },
   {
    "duration": 16,
    "start_time": "2023-04-02T18:19:09.296Z"
   },
   {
    "duration": 22,
    "start_time": "2023-04-02T18:19:09.314Z"
   },
   {
    "duration": 24,
    "start_time": "2023-04-02T18:19:09.338Z"
   },
   {
    "duration": 114,
    "start_time": "2023-04-02T18:19:09.376Z"
   },
   {
    "duration": 12,
    "start_time": "2023-04-02T18:19:09.498Z"
   },
   {
    "duration": 414,
    "start_time": "2023-04-02T18:19:09.513Z"
   },
   {
    "duration": 28,
    "start_time": "2023-04-02T18:19:09.929Z"
   },
   {
    "duration": 40,
    "start_time": "2023-04-02T18:19:09.960Z"
   },
   {
    "duration": 139,
    "start_time": "2023-04-02T18:19:10.002Z"
   },
   {
    "duration": 39,
    "start_time": "2023-04-02T18:19:10.143Z"
   },
   {
    "duration": 40,
    "start_time": "2023-04-02T18:19:10.184Z"
   },
   {
    "duration": 27,
    "start_time": "2023-04-02T18:19:10.227Z"
   },
   {
    "duration": 10,
    "start_time": "2023-04-02T18:19:10.257Z"
   },
   {
    "duration": 21,
    "start_time": "2023-04-02T18:19:10.270Z"
   },
   {
    "duration": 21,
    "start_time": "2023-04-02T18:19:10.298Z"
   },
   {
    "duration": 67,
    "start_time": "2023-04-02T18:19:10.321Z"
   },
   {
    "duration": 37,
    "start_time": "2023-04-02T18:19:10.396Z"
   },
   {
    "duration": 11,
    "start_time": "2023-04-02T18:19:10.435Z"
   },
   {
    "duration": 13,
    "start_time": "2023-04-02T18:19:10.450Z"
   },
   {
    "duration": 57,
    "start_time": "2023-04-02T18:19:10.466Z"
   },
   {
    "duration": 33,
    "start_time": "2023-04-02T18:19:10.525Z"
   },
   {
    "duration": 4,
    "start_time": "2023-04-02T18:19:10.561Z"
   },
   {
    "duration": 15,
    "start_time": "2023-04-02T18:19:10.568Z"
   },
   {
    "duration": 18,
    "start_time": "2023-04-02T18:19:10.589Z"
   },
   {
    "duration": 10,
    "start_time": "2023-04-02T18:19:10.609Z"
   },
   {
    "duration": 28,
    "start_time": "2023-04-02T18:19:10.621Z"
   },
   {
    "duration": 6,
    "start_time": "2023-04-02T18:19:10.652Z"
   },
   {
    "duration": 46,
    "start_time": "2023-04-02T18:19:10.660Z"
   },
   {
    "duration": 16,
    "start_time": "2023-04-02T18:19:10.712Z"
   },
   {
    "duration": 79,
    "start_time": "2023-04-02T18:19:10.731Z"
   },
   {
    "duration": 70,
    "start_time": "2023-04-02T18:19:10.819Z"
   },
   {
    "duration": 1515,
    "start_time": "2023-04-02T18:19:40.173Z"
   },
   {
    "duration": 814,
    "start_time": "2023-04-02T18:19:41.690Z"
   },
   {
    "duration": 22,
    "start_time": "2023-04-02T18:19:42.510Z"
   },
   {
    "duration": 13,
    "start_time": "2023-04-02T18:19:42.538Z"
   },
   {
    "duration": 24,
    "start_time": "2023-04-02T18:19:42.553Z"
   },
   {
    "duration": 15,
    "start_time": "2023-04-02T18:19:42.579Z"
   },
   {
    "duration": 18,
    "start_time": "2023-04-02T18:19:42.597Z"
   },
   {
    "duration": 28,
    "start_time": "2023-04-02T18:19:42.617Z"
   },
   {
    "duration": 100,
    "start_time": "2023-04-02T18:19:42.647Z"
   },
   {
    "duration": 14,
    "start_time": "2023-04-02T18:19:42.749Z"
   },
   {
    "duration": 6,
    "start_time": "2023-04-02T18:19:42.775Z"
   },
   {
    "duration": 46,
    "start_time": "2023-04-02T18:19:42.783Z"
   },
   {
    "duration": 478,
    "start_time": "2023-04-02T18:19:42.831Z"
   },
   {
    "duration": 11,
    "start_time": "2023-04-02T18:19:43.314Z"
   },
   {
    "duration": 63,
    "start_time": "2023-04-02T18:19:43.326Z"
   },
   {
    "duration": 53,
    "start_time": "2023-04-02T18:19:43.390Z"
   },
   {
    "duration": 126,
    "start_time": "2023-04-02T18:19:43.446Z"
   },
   {
    "duration": 24,
    "start_time": "2023-04-02T18:19:43.574Z"
   },
   {
    "duration": 367,
    "start_time": "2023-04-02T18:19:43.600Z"
   },
   {
    "duration": 30,
    "start_time": "2023-04-02T18:19:43.970Z"
   },
   {
    "duration": 35,
    "start_time": "2023-04-02T18:19:44.002Z"
   },
   {
    "duration": 149,
    "start_time": "2023-04-02T18:19:44.039Z"
   },
   {
    "duration": 32,
    "start_time": "2023-04-02T18:19:44.191Z"
   },
   {
    "duration": 20,
    "start_time": "2023-04-02T18:19:44.228Z"
   },
   {
    "duration": 33,
    "start_time": "2023-04-02T18:19:44.251Z"
   },
   {
    "duration": 19,
    "start_time": "2023-04-02T18:19:44.286Z"
   },
   {
    "duration": 10,
    "start_time": "2023-04-02T18:19:44.309Z"
   },
   {
    "duration": 9,
    "start_time": "2023-04-02T18:19:44.326Z"
   },
   {
    "duration": 23,
    "start_time": "2023-04-02T18:19:44.338Z"
   },
   {
    "duration": 20,
    "start_time": "2023-04-02T18:19:44.376Z"
   },
   {
    "duration": 30,
    "start_time": "2023-04-02T18:19:44.398Z"
   },
   {
    "duration": 25,
    "start_time": "2023-04-02T18:19:44.436Z"
   },
   {
    "duration": 69,
    "start_time": "2023-04-02T18:19:44.464Z"
   },
   {
    "duration": 28,
    "start_time": "2023-04-02T18:19:44.535Z"
   },
   {
    "duration": 17,
    "start_time": "2023-04-02T18:19:44.566Z"
   },
   {
    "duration": 26,
    "start_time": "2023-04-02T18:19:44.587Z"
   },
   {
    "duration": 13,
    "start_time": "2023-04-02T18:19:44.618Z"
   },
   {
    "duration": 12,
    "start_time": "2023-04-02T18:19:44.633Z"
   },
   {
    "duration": 22,
    "start_time": "2023-04-02T18:19:44.648Z"
   },
   {
    "duration": 7,
    "start_time": "2023-04-02T18:19:44.673Z"
   },
   {
    "duration": 22,
    "start_time": "2023-04-02T18:19:44.683Z"
   },
   {
    "duration": 16,
    "start_time": "2023-04-02T18:19:44.707Z"
   },
   {
    "duration": 57,
    "start_time": "2023-04-02T18:19:44.725Z"
   },
   {
    "duration": 57,
    "start_time": "2023-04-02T18:19:44.784Z"
   },
   {
    "duration": 6,
    "start_time": "2023-04-02T18:21:08.836Z"
   },
   {
    "duration": 7,
    "start_time": "2023-04-02T18:25:30.827Z"
   },
   {
    "duration": 1639,
    "start_time": "2023-04-02T18:25:42.072Z"
   },
   {
    "duration": 824,
    "start_time": "2023-04-02T18:25:43.719Z"
   },
   {
    "duration": 20,
    "start_time": "2023-04-02T18:25:44.546Z"
   },
   {
    "duration": 25,
    "start_time": "2023-04-02T18:25:44.569Z"
   },
   {
    "duration": 13,
    "start_time": "2023-04-02T18:25:44.597Z"
   },
   {
    "duration": 13,
    "start_time": "2023-04-02T18:25:44.619Z"
   },
   {
    "duration": 17,
    "start_time": "2023-04-02T18:25:44.634Z"
   },
   {
    "duration": 77,
    "start_time": "2023-04-02T18:25:44.654Z"
   },
   {
    "duration": 127,
    "start_time": "2023-04-02T18:25:44.739Z"
   },
   {
    "duration": 25,
    "start_time": "2023-04-02T18:25:44.868Z"
   },
   {
    "duration": 7,
    "start_time": "2023-04-02T18:25:44.895Z"
   },
   {
    "duration": 85,
    "start_time": "2023-04-02T18:25:44.915Z"
   },
   {
    "duration": 422,
    "start_time": "2023-04-02T18:25:45.002Z"
   },
   {
    "duration": 16,
    "start_time": "2023-04-02T18:25:45.429Z"
   },
   {
    "duration": 7,
    "start_time": "2023-04-02T18:25:45.446Z"
   },
   {
    "duration": 45,
    "start_time": "2023-04-02T18:25:45.454Z"
   },
   {
    "duration": 92,
    "start_time": "2023-04-02T18:25:45.501Z"
   },
   {
    "duration": 9,
    "start_time": "2023-04-02T18:25:45.595Z"
   },
   {
    "duration": 417,
    "start_time": "2023-04-02T18:25:45.606Z"
   },
   {
    "duration": 22,
    "start_time": "2023-04-02T18:25:46.025Z"
   },
   {
    "duration": 57,
    "start_time": "2023-04-02T18:25:46.050Z"
   },
   {
    "duration": 156,
    "start_time": "2023-04-02T18:25:46.109Z"
   },
   {
    "duration": 31,
    "start_time": "2023-04-02T18:25:46.268Z"
   },
   {
    "duration": 22,
    "start_time": "2023-04-02T18:25:46.306Z"
   },
   {
    "duration": 25,
    "start_time": "2023-04-02T18:25:46.331Z"
   },
   {
    "duration": 45,
    "start_time": "2023-04-02T18:25:46.358Z"
   },
   {
    "duration": 11,
    "start_time": "2023-04-02T18:25:46.405Z"
   },
   {
    "duration": 15,
    "start_time": "2023-04-02T18:25:46.418Z"
   },
   {
    "duration": 18,
    "start_time": "2023-04-02T18:25:46.435Z"
   },
   {
    "duration": 9,
    "start_time": "2023-04-02T18:25:46.455Z"
   },
   {
    "duration": 17,
    "start_time": "2023-04-02T18:25:46.466Z"
   },
   {
    "duration": 19,
    "start_time": "2023-04-02T18:25:46.487Z"
   },
   {
    "duration": 22,
    "start_time": "2023-04-02T18:25:46.512Z"
   },
   {
    "duration": 30,
    "start_time": "2023-04-02T18:25:46.536Z"
   },
   {
    "duration": 38,
    "start_time": "2023-04-02T18:25:46.568Z"
   },
   {
    "duration": 5,
    "start_time": "2023-04-02T18:25:46.616Z"
   },
   {
    "duration": 16,
    "start_time": "2023-04-02T18:25:46.623Z"
   },
   {
    "duration": 10,
    "start_time": "2023-04-02T18:25:46.641Z"
   },
   {
    "duration": 6,
    "start_time": "2023-04-02T18:25:46.653Z"
   },
   {
    "duration": 52,
    "start_time": "2023-04-02T18:25:46.661Z"
   },
   {
    "duration": 6,
    "start_time": "2023-04-02T18:25:46.719Z"
   },
   {
    "duration": 24,
    "start_time": "2023-04-02T18:25:46.727Z"
   },
   {
    "duration": 1544,
    "start_time": "2023-04-02T18:26:23.375Z"
   },
   {
    "duration": 1719,
    "start_time": "2023-04-02T18:26:34.409Z"
   },
   {
    "duration": 785,
    "start_time": "2023-04-02T18:26:36.131Z"
   },
   {
    "duration": 14,
    "start_time": "2023-04-02T18:26:36.919Z"
   },
   {
    "duration": 63,
    "start_time": "2023-04-02T18:26:36.935Z"
   },
   {
    "duration": 32,
    "start_time": "2023-04-02T18:26:37.004Z"
   },
   {
    "duration": 27,
    "start_time": "2023-04-02T18:26:37.038Z"
   },
   {
    "duration": 26,
    "start_time": "2023-04-02T18:26:37.067Z"
   },
   {
    "duration": 48,
    "start_time": "2023-04-02T18:26:37.095Z"
   },
   {
    "duration": 102,
    "start_time": "2023-04-02T18:26:37.144Z"
   },
   {
    "duration": 12,
    "start_time": "2023-04-02T18:26:37.248Z"
   },
   {
    "duration": 34,
    "start_time": "2023-04-02T18:26:37.262Z"
   },
   {
    "duration": 71,
    "start_time": "2023-04-02T18:26:37.298Z"
   },
   {
    "duration": 373,
    "start_time": "2023-04-02T18:26:37.371Z"
   },
   {
    "duration": 11,
    "start_time": "2023-04-02T18:26:37.749Z"
   },
   {
    "duration": 35,
    "start_time": "2023-04-02T18:26:37.762Z"
   },
   {
    "duration": 23,
    "start_time": "2023-04-02T18:26:37.799Z"
   },
   {
    "duration": 142,
    "start_time": "2023-04-02T18:26:37.824Z"
   },
   {
    "duration": 28,
    "start_time": "2023-04-02T18:26:37.968Z"
   },
   {
    "duration": 386,
    "start_time": "2023-04-02T18:26:38.006Z"
   },
   {
    "duration": 28,
    "start_time": "2023-04-02T18:26:38.395Z"
   },
   {
    "duration": 30,
    "start_time": "2023-04-02T18:26:38.425Z"
   },
   {
    "duration": 112,
    "start_time": "2023-04-02T18:26:38.460Z"
   },
   {
    "duration": 37,
    "start_time": "2023-04-02T18:26:38.576Z"
   },
   {
    "duration": 23,
    "start_time": "2023-04-02T18:26:38.614Z"
   },
   {
    "duration": 28,
    "start_time": "2023-04-02T18:26:38.639Z"
   },
   {
    "duration": 12,
    "start_time": "2023-04-02T18:26:38.669Z"
   },
   {
    "duration": 11,
    "start_time": "2023-04-02T18:26:38.686Z"
   },
   {
    "duration": 22,
    "start_time": "2023-04-02T18:26:38.704Z"
   },
   {
    "duration": 18,
    "start_time": "2023-04-02T18:26:38.731Z"
   },
   {
    "duration": 8,
    "start_time": "2023-04-02T18:26:38.751Z"
   },
   {
    "duration": 6,
    "start_time": "2023-04-02T18:26:38.760Z"
   },
   {
    "duration": 26,
    "start_time": "2023-04-02T18:26:38.768Z"
   },
   {
    "duration": 20,
    "start_time": "2023-04-02T18:26:38.796Z"
   },
   {
    "duration": 25,
    "start_time": "2023-04-02T18:26:38.818Z"
   },
   {
    "duration": 14,
    "start_time": "2023-04-02T18:26:38.845Z"
   },
   {
    "duration": 26,
    "start_time": "2023-04-02T18:26:38.861Z"
   },
   {
    "duration": 30,
    "start_time": "2023-04-02T18:26:38.895Z"
   },
   {
    "duration": 10,
    "start_time": "2023-04-02T18:26:38.927Z"
   },
   {
    "duration": 14,
    "start_time": "2023-04-02T18:26:38.940Z"
   },
   {
    "duration": 34,
    "start_time": "2023-04-02T18:26:38.956Z"
   },
   {
    "duration": 13,
    "start_time": "2023-04-02T18:26:38.993Z"
   },
   {
    "duration": 12,
    "start_time": "2023-04-02T18:26:39.008Z"
   },
   {
    "duration": 5,
    "start_time": "2023-04-02T18:29:10.718Z"
   },
   {
    "duration": 1386,
    "start_time": "2023-04-02T18:33:56.114Z"
   },
   {
    "duration": 667,
    "start_time": "2023-04-02T18:33:57.503Z"
   },
   {
    "duration": 19,
    "start_time": "2023-04-02T18:33:58.171Z"
   },
   {
    "duration": 12,
    "start_time": "2023-04-02T18:33:58.194Z"
   },
   {
    "duration": 11,
    "start_time": "2023-04-02T18:33:58.208Z"
   },
   {
    "duration": 12,
    "start_time": "2023-04-02T18:33:58.221Z"
   },
   {
    "duration": 22,
    "start_time": "2023-04-02T18:33:58.236Z"
   },
   {
    "duration": 46,
    "start_time": "2023-04-02T18:33:58.262Z"
   },
   {
    "duration": 64,
    "start_time": "2023-04-02T18:33:58.311Z"
   },
   {
    "duration": 27,
    "start_time": "2023-04-02T18:33:58.378Z"
   },
   {
    "duration": 5,
    "start_time": "2023-04-02T18:33:58.407Z"
   },
   {
    "duration": 34,
    "start_time": "2023-04-02T18:33:58.414Z"
   },
   {
    "duration": 360,
    "start_time": "2023-04-02T18:33:58.450Z"
   },
   {
    "duration": 10,
    "start_time": "2023-04-02T18:33:58.813Z"
   },
   {
    "duration": 7,
    "start_time": "2023-04-02T18:33:58.825Z"
   },
   {
    "duration": 54,
    "start_time": "2023-04-02T18:33:58.834Z"
   },
   {
    "duration": 55,
    "start_time": "2023-04-02T18:33:58.889Z"
   },
   {
    "duration": 9,
    "start_time": "2023-04-02T18:33:58.946Z"
   },
   {
    "duration": 442,
    "start_time": "2023-04-02T18:33:58.957Z"
   },
   {
    "duration": 19,
    "start_time": "2023-04-02T18:33:59.401Z"
   },
   {
    "duration": 36,
    "start_time": "2023-04-02T18:33:59.422Z"
   },
   {
    "duration": 149,
    "start_time": "2023-04-02T18:33:59.460Z"
   },
   {
    "duration": 19,
    "start_time": "2023-04-02T18:33:59.611Z"
   },
   {
    "duration": 49,
    "start_time": "2023-04-02T18:33:59.631Z"
   },
   {
    "duration": 50,
    "start_time": "2023-04-02T18:33:59.682Z"
   },
   {
    "duration": 37,
    "start_time": "2023-04-02T18:33:59.734Z"
   },
   {
    "duration": 22,
    "start_time": "2023-04-02T18:33:59.773Z"
   },
   {
    "duration": 15,
    "start_time": "2023-04-02T18:33:59.801Z"
   },
   {
    "duration": 24,
    "start_time": "2023-04-02T18:33:59.818Z"
   },
   {
    "duration": 10,
    "start_time": "2023-04-02T18:33:59.843Z"
   },
   {
    "duration": 15,
    "start_time": "2023-04-02T18:33:59.854Z"
   },
   {
    "duration": 15,
    "start_time": "2023-04-02T18:33:59.870Z"
   },
   {
    "duration": 10,
    "start_time": "2023-04-02T18:33:59.887Z"
   },
   {
    "duration": 20,
    "start_time": "2023-04-02T18:33:59.898Z"
   },
   {
    "duration": 47,
    "start_time": "2023-04-02T18:33:59.919Z"
   },
   {
    "duration": 20,
    "start_time": "2023-04-02T18:33:59.967Z"
   },
   {
    "duration": 34,
    "start_time": "2023-04-02T18:33:59.994Z"
   },
   {
    "duration": 37,
    "start_time": "2023-04-02T18:34:00.030Z"
   },
   {
    "duration": 42,
    "start_time": "2023-04-02T18:34:00.068Z"
   },
   {
    "duration": 17,
    "start_time": "2023-04-02T18:34:00.116Z"
   },
   {
    "duration": 34,
    "start_time": "2023-04-02T18:34:00.135Z"
   },
   {
    "duration": 53,
    "start_time": "2023-04-02T18:34:00.171Z"
   },
   {
    "duration": 34,
    "start_time": "2023-04-02T18:34:00.226Z"
   },
   {
    "duration": 1311,
    "start_time": "2023-04-02T18:34:38.637Z"
   },
   {
    "duration": 656,
    "start_time": "2023-04-02T18:34:39.950Z"
   },
   {
    "duration": 13,
    "start_time": "2023-04-02T18:34:40.608Z"
   },
   {
    "duration": 13,
    "start_time": "2023-04-02T18:34:40.623Z"
   },
   {
    "duration": 19,
    "start_time": "2023-04-02T18:34:40.639Z"
   },
   {
    "duration": 11,
    "start_time": "2023-04-02T18:34:40.660Z"
   },
   {
    "duration": 18,
    "start_time": "2023-04-02T18:34:40.677Z"
   },
   {
    "duration": 32,
    "start_time": "2023-04-02T18:34:40.697Z"
   },
   {
    "duration": 74,
    "start_time": "2023-04-02T18:34:40.731Z"
   },
   {
    "duration": 15,
    "start_time": "2023-04-02T18:34:40.809Z"
   },
   {
    "duration": 19,
    "start_time": "2023-04-02T18:34:40.827Z"
   },
   {
    "duration": 51,
    "start_time": "2023-04-02T18:34:40.848Z"
   },
   {
    "duration": 327,
    "start_time": "2023-04-02T18:34:40.901Z"
   },
   {
    "duration": 14,
    "start_time": "2023-04-02T18:34:41.230Z"
   },
   {
    "duration": 17,
    "start_time": "2023-04-02T18:34:41.247Z"
   },
   {
    "duration": 32,
    "start_time": "2023-04-02T18:34:41.275Z"
   },
   {
    "duration": 50,
    "start_time": "2023-04-02T18:34:41.309Z"
   },
   {
    "duration": 31,
    "start_time": "2023-04-02T18:34:41.361Z"
   },
   {
    "duration": 340,
    "start_time": "2023-04-02T18:34:41.393Z"
   },
   {
    "duration": 19,
    "start_time": "2023-04-02T18:34:41.735Z"
   },
   {
    "duration": 38,
    "start_time": "2023-04-02T18:34:41.756Z"
   },
   {
    "duration": 136,
    "start_time": "2023-04-02T18:34:41.796Z"
   },
   {
    "duration": 18,
    "start_time": "2023-04-02T18:34:41.934Z"
   },
   {
    "duration": 34,
    "start_time": "2023-04-02T18:34:41.954Z"
   },
   {
    "duration": 20,
    "start_time": "2023-04-02T18:34:41.990Z"
   },
   {
    "duration": 19,
    "start_time": "2023-04-02T18:34:42.011Z"
   },
   {
    "duration": 11,
    "start_time": "2023-04-02T18:34:42.032Z"
   },
   {
    "duration": 5,
    "start_time": "2023-04-02T18:34:42.046Z"
   },
   {
    "duration": 30,
    "start_time": "2023-04-02T18:34:42.053Z"
   },
   {
    "duration": 12,
    "start_time": "2023-04-02T18:34:42.086Z"
   },
   {
    "duration": 8,
    "start_time": "2023-04-02T18:34:42.099Z"
   },
   {
    "duration": 10,
    "start_time": "2023-04-02T18:34:42.109Z"
   },
   {
    "duration": 8,
    "start_time": "2023-04-02T18:34:42.120Z"
   },
   {
    "duration": 19,
    "start_time": "2023-04-02T18:34:42.130Z"
   },
   {
    "duration": 57,
    "start_time": "2023-04-02T18:34:42.150Z"
   },
   {
    "duration": 15,
    "start_time": "2023-04-02T18:34:42.208Z"
   },
   {
    "duration": 5,
    "start_time": "2023-04-02T18:34:42.225Z"
   },
   {
    "duration": 12,
    "start_time": "2023-04-02T18:34:42.232Z"
   },
   {
    "duration": 7,
    "start_time": "2023-04-02T18:34:42.246Z"
   },
   {
    "duration": 37,
    "start_time": "2023-04-02T18:34:42.254Z"
   },
   {
    "duration": 16,
    "start_time": "2023-04-02T18:34:42.293Z"
   },
   {
    "duration": 6,
    "start_time": "2023-04-02T18:34:42.311Z"
   },
   {
    "duration": 12,
    "start_time": "2023-04-02T18:34:42.319Z"
   },
   {
    "duration": 6,
    "start_time": "2023-04-02T18:35:16.342Z"
   },
   {
    "duration": 7,
    "start_time": "2023-04-02T18:35:18.009Z"
   },
   {
    "duration": 1310,
    "start_time": "2023-04-02T18:35:24.890Z"
   },
   {
    "duration": 661,
    "start_time": "2023-04-02T18:35:26.203Z"
   },
   {
    "duration": 19,
    "start_time": "2023-04-02T18:35:26.866Z"
   },
   {
    "duration": 12,
    "start_time": "2023-04-02T18:35:26.888Z"
   },
   {
    "duration": 12,
    "start_time": "2023-04-02T18:35:26.904Z"
   },
   {
    "duration": 9,
    "start_time": "2023-04-02T18:35:26.918Z"
   },
   {
    "duration": 13,
    "start_time": "2023-04-02T18:35:26.929Z"
   },
   {
    "duration": 43,
    "start_time": "2023-04-02T18:35:26.944Z"
   },
   {
    "duration": 72,
    "start_time": "2023-04-02T18:35:26.991Z"
   },
   {
    "duration": 27,
    "start_time": "2023-04-02T18:35:27.065Z"
   },
   {
    "duration": 8,
    "start_time": "2023-04-02T18:35:27.094Z"
   },
   {
    "duration": 33,
    "start_time": "2023-04-02T18:35:27.104Z"
   },
   {
    "duration": 368,
    "start_time": "2023-04-02T18:35:27.139Z"
   },
   {
    "duration": 11,
    "start_time": "2023-04-02T18:35:27.511Z"
   },
   {
    "duration": 7,
    "start_time": "2023-04-02T18:35:27.525Z"
   },
   {
    "duration": 23,
    "start_time": "2023-04-02T18:35:27.534Z"
   },
   {
    "duration": 72,
    "start_time": "2023-04-02T18:35:27.559Z"
   },
   {
    "duration": 8,
    "start_time": "2023-04-02T18:35:27.633Z"
   },
   {
    "duration": 360,
    "start_time": "2023-04-02T18:35:27.643Z"
   },
   {
    "duration": 20,
    "start_time": "2023-04-02T18:35:28.005Z"
   },
   {
    "duration": 14,
    "start_time": "2023-04-02T18:35:28.026Z"
   },
   {
    "duration": 163,
    "start_time": "2023-04-02T18:35:28.042Z"
   },
   {
    "duration": 17,
    "start_time": "2023-04-02T18:35:28.207Z"
   },
   {
    "duration": 15,
    "start_time": "2023-04-02T18:35:28.227Z"
   },
   {
    "duration": 50,
    "start_time": "2023-04-02T18:35:28.244Z"
   },
   {
    "duration": 7,
    "start_time": "2023-04-02T18:35:28.296Z"
   },
   {
    "duration": 12,
    "start_time": "2023-04-02T18:35:28.304Z"
   },
   {
    "duration": 6,
    "start_time": "2023-04-02T18:35:28.318Z"
   },
   {
    "duration": 20,
    "start_time": "2023-04-02T18:35:28.325Z"
   },
   {
    "duration": 38,
    "start_time": "2023-04-02T18:35:28.347Z"
   },
   {
    "duration": 11,
    "start_time": "2023-04-02T18:35:28.387Z"
   },
   {
    "duration": 8,
    "start_time": "2023-04-02T18:35:28.400Z"
   },
   {
    "duration": 8,
    "start_time": "2023-04-02T18:35:28.410Z"
   },
   {
    "duration": 18,
    "start_time": "2023-04-02T18:35:28.420Z"
   },
   {
    "duration": 56,
    "start_time": "2023-04-02T18:35:28.440Z"
   },
   {
    "duration": 19,
    "start_time": "2023-04-02T18:35:28.498Z"
   },
   {
    "duration": 3,
    "start_time": "2023-04-02T18:35:28.519Z"
   },
   {
    "duration": 14,
    "start_time": "2023-04-02T18:35:28.524Z"
   },
   {
    "duration": 9,
    "start_time": "2023-04-02T18:35:28.539Z"
   },
   {
    "duration": 19,
    "start_time": "2023-04-02T18:35:28.584Z"
   },
   {
    "duration": 17,
    "start_time": "2023-04-02T18:35:28.607Z"
   },
   {
    "duration": 8,
    "start_time": "2023-04-02T18:35:28.626Z"
   },
   {
    "duration": 28,
    "start_time": "2023-04-02T18:35:28.636Z"
   },
   {
    "duration": 88,
    "start_time": "2023-04-02T18:36:49.863Z"
   },
   {
    "duration": 5,
    "start_time": "2023-04-02T18:36:53.550Z"
   },
   {
    "duration": 1365,
    "start_time": "2023-04-02T18:37:00.308Z"
   },
   {
    "duration": 690,
    "start_time": "2023-04-02T18:37:01.677Z"
   },
   {
    "duration": 28,
    "start_time": "2023-04-02T18:37:02.370Z"
   },
   {
    "duration": 9,
    "start_time": "2023-04-02T18:37:02.402Z"
   },
   {
    "duration": 26,
    "start_time": "2023-04-02T18:37:02.413Z"
   },
   {
    "duration": 17,
    "start_time": "2023-04-02T18:37:02.443Z"
   },
   {
    "duration": 24,
    "start_time": "2023-04-02T18:37:02.462Z"
   },
   {
    "duration": 27,
    "start_time": "2023-04-02T18:37:02.490Z"
   },
   {
    "duration": 72,
    "start_time": "2023-04-02T18:37:02.519Z"
   },
   {
    "duration": 15,
    "start_time": "2023-04-02T18:37:02.594Z"
   },
   {
    "duration": 8,
    "start_time": "2023-04-02T18:37:02.611Z"
   },
   {
    "duration": 74,
    "start_time": "2023-04-02T18:37:02.620Z"
   },
   {
    "duration": 349,
    "start_time": "2023-04-02T18:37:02.697Z"
   },
   {
    "duration": 10,
    "start_time": "2023-04-02T18:37:03.048Z"
   },
   {
    "duration": 19,
    "start_time": "2023-04-02T18:37:03.059Z"
   },
   {
    "duration": 22,
    "start_time": "2023-04-02T18:37:03.082Z"
   },
   {
    "duration": 50,
    "start_time": "2023-04-02T18:37:03.106Z"
   },
   {
    "duration": 32,
    "start_time": "2023-04-02T18:37:03.158Z"
   },
   {
    "duration": 394,
    "start_time": "2023-04-02T18:37:03.196Z"
   },
   {
    "duration": 22,
    "start_time": "2023-04-02T18:37:03.592Z"
   },
   {
    "duration": 43,
    "start_time": "2023-04-02T18:37:03.616Z"
   },
   {
    "duration": 102,
    "start_time": "2023-04-02T18:37:03.661Z"
   },
   {
    "duration": 20,
    "start_time": "2023-04-02T18:37:03.765Z"
   },
   {
    "duration": 19,
    "start_time": "2023-04-02T18:37:03.790Z"
   },
   {
    "duration": 23,
    "start_time": "2023-04-02T18:37:03.811Z"
   },
   {
    "duration": 26,
    "start_time": "2023-04-02T18:37:03.836Z"
   },
   {
    "duration": 20,
    "start_time": "2023-04-02T18:37:03.864Z"
   },
   {
    "duration": 19,
    "start_time": "2023-04-02T18:37:03.897Z"
   },
   {
    "duration": 22,
    "start_time": "2023-04-02T18:37:03.917Z"
   },
   {
    "duration": 21,
    "start_time": "2023-04-02T18:37:03.940Z"
   },
   {
    "duration": 8,
    "start_time": "2023-04-02T18:37:03.963Z"
   },
   {
    "duration": 11,
    "start_time": "2023-04-02T18:37:03.972Z"
   },
   {
    "duration": 15,
    "start_time": "2023-04-02T18:37:03.985Z"
   },
   {
    "duration": 17,
    "start_time": "2023-04-02T18:37:04.002Z"
   },
   {
    "duration": 22,
    "start_time": "2023-04-02T18:37:04.021Z"
   },
   {
    "duration": 47,
    "start_time": "2023-04-02T18:37:04.045Z"
   },
   {
    "duration": 9,
    "start_time": "2023-04-02T18:37:04.096Z"
   },
   {
    "duration": 12,
    "start_time": "2023-04-02T18:37:04.108Z"
   },
   {
    "duration": 10,
    "start_time": "2023-04-02T18:37:04.123Z"
   },
   {
    "duration": 20,
    "start_time": "2023-04-02T18:37:04.135Z"
   },
   {
    "duration": 27,
    "start_time": "2023-04-02T18:37:04.175Z"
   },
   {
    "duration": 15,
    "start_time": "2023-04-02T18:37:04.204Z"
   },
   {
    "duration": 22,
    "start_time": "2023-04-02T18:37:04.221Z"
   },
   {
    "duration": 29,
    "start_time": "2023-04-02T18:37:31.965Z"
   },
   {
    "duration": 18,
    "start_time": "2023-04-02T18:37:38.225Z"
   },
   {
    "duration": 271,
    "start_time": "2023-04-02T18:39:40.783Z"
   },
   {
    "duration": 1279,
    "start_time": "2023-04-02T18:39:47.947Z"
   },
   {
    "duration": 617,
    "start_time": "2023-04-02T18:39:49.228Z"
   },
   {
    "duration": 12,
    "start_time": "2023-04-02T18:39:49.846Z"
   },
   {
    "duration": 25,
    "start_time": "2023-04-02T18:39:49.859Z"
   },
   {
    "duration": 21,
    "start_time": "2023-04-02T18:39:49.886Z"
   },
   {
    "duration": 20,
    "start_time": "2023-04-02T18:39:49.910Z"
   },
   {
    "duration": 19,
    "start_time": "2023-04-02T18:39:49.933Z"
   },
   {
    "duration": 30,
    "start_time": "2023-04-02T18:39:49.953Z"
   },
   {
    "duration": 100,
    "start_time": "2023-04-02T18:39:49.989Z"
   },
   {
    "duration": 18,
    "start_time": "2023-04-02T18:39:50.091Z"
   },
   {
    "duration": 23,
    "start_time": "2023-04-02T18:39:50.111Z"
   },
   {
    "duration": 33,
    "start_time": "2023-04-02T18:39:50.136Z"
   },
   {
    "duration": 342,
    "start_time": "2023-04-02T18:39:50.171Z"
   },
   {
    "duration": 9,
    "start_time": "2023-04-02T18:39:50.516Z"
   },
   {
    "duration": 5,
    "start_time": "2023-04-02T18:39:50.527Z"
   },
   {
    "duration": 20,
    "start_time": "2023-04-02T18:39:50.534Z"
   },
   {
    "duration": 81,
    "start_time": "2023-04-02T18:39:50.556Z"
   },
   {
    "duration": 8,
    "start_time": "2023-04-02T18:39:50.639Z"
   },
   {
    "duration": 307,
    "start_time": "2023-04-02T18:39:50.648Z"
   },
   {
    "duration": 34,
    "start_time": "2023-04-02T18:39:50.957Z"
   },
   {
    "duration": 22,
    "start_time": "2023-04-02T18:39:50.993Z"
   },
   {
    "duration": 150,
    "start_time": "2023-04-02T18:39:51.021Z"
   },
   {
    "duration": 27,
    "start_time": "2023-04-02T18:39:51.173Z"
   },
   {
    "duration": 30,
    "start_time": "2023-04-02T18:39:51.202Z"
   },
   {
    "duration": 15,
    "start_time": "2023-04-02T18:39:51.234Z"
   },
   {
    "duration": 8,
    "start_time": "2023-04-02T18:39:51.250Z"
   },
   {
    "duration": 25,
    "start_time": "2023-04-02T18:39:51.260Z"
   },
   {
    "duration": 6,
    "start_time": "2023-04-02T18:39:51.287Z"
   },
   {
    "duration": 34,
    "start_time": "2023-04-02T18:39:51.294Z"
   },
   {
    "duration": 10,
    "start_time": "2023-04-02T18:39:51.329Z"
   },
   {
    "duration": 13,
    "start_time": "2023-04-02T18:39:51.341Z"
   },
   {
    "duration": 15,
    "start_time": "2023-04-02T18:39:51.356Z"
   },
   {
    "duration": 27,
    "start_time": "2023-04-02T18:39:51.373Z"
   },
   {
    "duration": 30,
    "start_time": "2023-04-02T18:39:51.402Z"
   },
   {
    "duration": 28,
    "start_time": "2023-04-02T18:39:51.434Z"
   },
   {
    "duration": 34,
    "start_time": "2023-04-02T18:39:51.464Z"
   },
   {
    "duration": 23,
    "start_time": "2023-04-02T18:39:51.500Z"
   },
   {
    "duration": 29,
    "start_time": "2023-04-02T18:39:51.525Z"
   },
   {
    "duration": 5,
    "start_time": "2023-04-02T18:39:51.556Z"
   },
   {
    "duration": 16,
    "start_time": "2023-04-02T18:39:51.562Z"
   },
   {
    "duration": 32,
    "start_time": "2023-04-02T18:39:51.582Z"
   },
   {
    "duration": 9,
    "start_time": "2023-04-02T18:39:51.617Z"
   },
   {
    "duration": 20,
    "start_time": "2023-04-02T18:39:51.627Z"
   },
   {
    "duration": 6,
    "start_time": "2023-04-02T18:41:33.117Z"
   },
   {
    "duration": 5,
    "start_time": "2023-04-02T18:41:41.035Z"
   },
   {
    "duration": 105,
    "start_time": "2023-04-02T18:41:44.126Z"
   },
   {
    "duration": 16,
    "start_time": "2023-04-02T18:41:46.339Z"
   },
   {
    "duration": 7,
    "start_time": "2023-04-02T18:41:54.297Z"
   },
   {
    "duration": 11,
    "start_time": "2023-04-02T18:41:54.718Z"
   },
   {
    "duration": 5,
    "start_time": "2023-04-02T18:41:55.254Z"
   },
   {
    "duration": 8,
    "start_time": "2023-04-02T18:41:55.688Z"
   },
   {
    "duration": 5,
    "start_time": "2023-04-02T18:41:59.255Z"
   },
   {
    "duration": 17,
    "start_time": "2023-04-02T18:41:59.584Z"
   },
   {
    "duration": 8,
    "start_time": "2023-04-02T18:42:02.713Z"
   },
   {
    "duration": 14,
    "start_time": "2023-04-02T18:42:03.027Z"
   },
   {
    "duration": 3,
    "start_time": "2023-04-02T18:42:03.957Z"
   },
   {
    "duration": 6,
    "start_time": "2023-04-02T18:42:04.407Z"
   },
   {
    "duration": 4,
    "start_time": "2023-04-02T18:42:04.757Z"
   },
   {
    "duration": 13,
    "start_time": "2023-04-02T18:42:05.075Z"
   },
   {
    "duration": 19,
    "start_time": "2023-04-02T18:42:07.074Z"
   },
   {
    "duration": 9,
    "start_time": "2023-04-02T18:42:07.678Z"
   },
   {
    "duration": 26,
    "start_time": "2023-04-02T18:42:08.007Z"
   },
   {
    "duration": 29,
    "start_time": "2023-04-02T18:42:25.614Z"
   },
   {
    "duration": 5,
    "start_time": "2023-04-02T18:42:30.605Z"
   },
   {
    "duration": 118,
    "start_time": "2023-04-02T18:42:45.805Z"
   },
   {
    "duration": 6,
    "start_time": "2023-04-02T18:42:49.908Z"
   },
   {
    "duration": 8,
    "start_time": "2023-04-02T18:42:57.111Z"
   },
   {
    "duration": 5,
    "start_time": "2023-04-02T18:44:18.205Z"
   },
   {
    "duration": 18,
    "start_time": "2023-04-02T18:44:18.392Z"
   },
   {
    "duration": 10,
    "start_time": "2023-04-02T18:44:20.993Z"
   },
   {
    "duration": 14,
    "start_time": "2023-04-02T18:44:21.190Z"
   },
   {
    "duration": 12,
    "start_time": "2023-04-02T18:44:24.171Z"
   },
   {
    "duration": 7,
    "start_time": "2023-04-02T18:44:24.402Z"
   },
   {
    "duration": 5,
    "start_time": "2023-04-02T18:44:24.665Z"
   },
   {
    "duration": 16,
    "start_time": "2023-04-02T18:44:24.970Z"
   },
   {
    "duration": 23,
    "start_time": "2023-04-02T18:44:34.234Z"
   },
   {
    "duration": 8,
    "start_time": "2023-04-02T18:44:34.733Z"
   },
   {
    "duration": 6,
    "start_time": "2023-04-02T18:44:35.407Z"
   },
   {
    "duration": 6,
    "start_time": "2023-04-02T18:45:11.648Z"
   },
   {
    "duration": 26,
    "start_time": "2023-04-02T18:46:20.622Z"
   },
   {
    "duration": 1325,
    "start_time": "2023-04-02T18:46:38.988Z"
   },
   {
    "duration": 706,
    "start_time": "2023-04-02T18:46:40.316Z"
   },
   {
    "duration": 13,
    "start_time": "2023-04-02T18:46:41.024Z"
   },
   {
    "duration": 27,
    "start_time": "2023-04-02T18:46:41.038Z"
   },
   {
    "duration": 41,
    "start_time": "2023-04-02T18:46:41.067Z"
   },
   {
    "duration": 18,
    "start_time": "2023-04-02T18:46:41.111Z"
   },
   {
    "duration": 34,
    "start_time": "2023-04-02T18:46:41.130Z"
   },
   {
    "duration": 44,
    "start_time": "2023-04-02T18:46:41.166Z"
   },
   {
    "duration": 55,
    "start_time": "2023-04-02T18:46:41.212Z"
   },
   {
    "duration": 16,
    "start_time": "2023-04-02T18:46:41.269Z"
   },
   {
    "duration": 26,
    "start_time": "2023-04-02T18:46:41.288Z"
   },
   {
    "duration": 50,
    "start_time": "2023-04-02T18:46:41.316Z"
   },
   {
    "duration": 374,
    "start_time": "2023-04-02T18:46:41.367Z"
   },
   {
    "duration": 10,
    "start_time": "2023-04-02T18:46:41.744Z"
   },
   {
    "duration": 39,
    "start_time": "2023-04-02T18:46:41.755Z"
   },
   {
    "duration": 36,
    "start_time": "2023-04-02T18:46:41.796Z"
   },
   {
    "duration": 74,
    "start_time": "2023-04-02T18:46:41.834Z"
   },
   {
    "duration": 12,
    "start_time": "2023-04-02T18:46:41.910Z"
   },
   {
    "duration": 300,
    "start_time": "2023-04-02T18:46:41.924Z"
   },
   {
    "duration": 26,
    "start_time": "2023-04-02T18:46:42.226Z"
   },
   {
    "duration": 31,
    "start_time": "2023-04-02T18:46:42.254Z"
   },
   {
    "duration": 115,
    "start_time": "2023-04-02T18:46:42.287Z"
   },
   {
    "duration": 148,
    "start_time": "2023-04-02T18:46:42.405Z"
   },
   {
    "duration": 0,
    "start_time": "2023-04-02T18:46:42.555Z"
   },
   {
    "duration": 0,
    "start_time": "2023-04-02T18:46:42.556Z"
   },
   {
    "duration": 0,
    "start_time": "2023-04-02T18:46:42.557Z"
   },
   {
    "duration": 0,
    "start_time": "2023-04-02T18:46:42.558Z"
   },
   {
    "duration": 0,
    "start_time": "2023-04-02T18:46:42.559Z"
   },
   {
    "duration": 0,
    "start_time": "2023-04-02T18:46:42.560Z"
   },
   {
    "duration": 0,
    "start_time": "2023-04-02T18:46:42.560Z"
   },
   {
    "duration": 0,
    "start_time": "2023-04-02T18:46:42.561Z"
   },
   {
    "duration": 0,
    "start_time": "2023-04-02T18:46:42.562Z"
   },
   {
    "duration": 0,
    "start_time": "2023-04-02T18:46:42.583Z"
   },
   {
    "duration": 0,
    "start_time": "2023-04-02T18:46:42.585Z"
   },
   {
    "duration": 1,
    "start_time": "2023-04-02T18:46:42.588Z"
   },
   {
    "duration": 0,
    "start_time": "2023-04-02T18:46:42.592Z"
   },
   {
    "duration": 0,
    "start_time": "2023-04-02T18:46:42.594Z"
   },
   {
    "duration": 0,
    "start_time": "2023-04-02T18:46:42.597Z"
   },
   {
    "duration": 0,
    "start_time": "2023-04-02T18:46:42.598Z"
   },
   {
    "duration": 0,
    "start_time": "2023-04-02T18:46:42.599Z"
   },
   {
    "duration": 0,
    "start_time": "2023-04-02T18:46:42.601Z"
   },
   {
    "duration": 0,
    "start_time": "2023-04-02T18:46:42.602Z"
   },
   {
    "duration": 0,
    "start_time": "2023-04-02T18:46:42.604Z"
   },
   {
    "duration": 0,
    "start_time": "2023-04-02T18:46:42.605Z"
   },
   {
    "duration": 0,
    "start_time": "2023-04-02T18:46:42.606Z"
   },
   {
    "duration": 0,
    "start_time": "2023-04-02T18:46:42.607Z"
   },
   {
    "duration": 11,
    "start_time": "2023-04-02T18:47:08.971Z"
   },
   {
    "duration": 9,
    "start_time": "2023-04-02T18:47:19.452Z"
   },
   {
    "duration": 95,
    "start_time": "2023-04-02T18:47:39.803Z"
   },
   {
    "duration": 97,
    "start_time": "2023-04-02T18:47:43.304Z"
   },
   {
    "duration": 89,
    "start_time": "2023-04-02T18:48:17.636Z"
   },
   {
    "duration": 77,
    "start_time": "2023-04-02T18:48:21.190Z"
   },
   {
    "duration": 8,
    "start_time": "2023-04-02T18:48:25.370Z"
   },
   {
    "duration": 20,
    "start_time": "2023-04-02T18:48:28.944Z"
   },
   {
    "duration": 23,
    "start_time": "2023-04-02T18:48:33.175Z"
   },
   {
    "duration": 20,
    "start_time": "2023-04-02T18:48:33.570Z"
   },
   {
    "duration": 1415,
    "start_time": "2023-04-02T18:48:40.594Z"
   },
   {
    "duration": 654,
    "start_time": "2023-04-02T18:48:42.011Z"
   },
   {
    "duration": 25,
    "start_time": "2023-04-02T18:48:42.667Z"
   },
   {
    "duration": 13,
    "start_time": "2023-04-02T18:48:42.699Z"
   },
   {
    "duration": 13,
    "start_time": "2023-04-02T18:48:42.714Z"
   },
   {
    "duration": 8,
    "start_time": "2023-04-02T18:48:42.729Z"
   },
   {
    "duration": 14,
    "start_time": "2023-04-02T18:48:42.738Z"
   },
   {
    "duration": 35,
    "start_time": "2023-04-02T18:48:42.754Z"
   },
   {
    "duration": 71,
    "start_time": "2023-04-02T18:48:42.791Z"
   },
   {
    "duration": 29,
    "start_time": "2023-04-02T18:48:42.864Z"
   },
   {
    "duration": 6,
    "start_time": "2023-04-02T18:48:42.895Z"
   },
   {
    "duration": 42,
    "start_time": "2023-04-02T18:48:42.903Z"
   },
   {
    "duration": 392,
    "start_time": "2023-04-02T18:48:42.946Z"
   },
   {
    "duration": 10,
    "start_time": "2023-04-02T18:48:43.341Z"
   },
   {
    "duration": 7,
    "start_time": "2023-04-02T18:48:43.352Z"
   },
   {
    "duration": 22,
    "start_time": "2023-04-02T18:48:43.376Z"
   },
   {
    "duration": 79,
    "start_time": "2023-04-02T18:48:43.401Z"
   },
   {
    "duration": 16,
    "start_time": "2023-04-02T18:48:43.482Z"
   },
   {
    "duration": 261,
    "start_time": "2023-04-02T18:48:43.503Z"
   },
   {
    "duration": 30,
    "start_time": "2023-04-02T18:48:43.766Z"
   },
   {
    "duration": 14,
    "start_time": "2023-04-02T18:48:43.798Z"
   },
   {
    "duration": 124,
    "start_time": "2023-04-02T18:48:43.814Z"
   },
   {
    "duration": 21,
    "start_time": "2023-04-02T18:48:43.940Z"
   },
   {
    "duration": 34,
    "start_time": "2023-04-02T18:48:43.962Z"
   },
   {
    "duration": 22,
    "start_time": "2023-04-02T18:48:43.998Z"
   },
   {
    "duration": 8,
    "start_time": "2023-04-02T18:48:44.022Z"
   },
   {
    "duration": 29,
    "start_time": "2023-04-02T18:48:44.032Z"
   },
   {
    "duration": 16,
    "start_time": "2023-04-02T18:48:44.063Z"
   },
   {
    "duration": 26,
    "start_time": "2023-04-02T18:48:44.080Z"
   },
   {
    "duration": 32,
    "start_time": "2023-04-02T18:48:44.109Z"
   },
   {
    "duration": 28,
    "start_time": "2023-04-02T18:48:44.143Z"
   },
   {
    "duration": 15,
    "start_time": "2023-04-02T18:48:44.173Z"
   },
   {
    "duration": 7,
    "start_time": "2023-04-02T18:48:44.193Z"
   },
   {
    "duration": 12,
    "start_time": "2023-04-02T18:48:44.203Z"
   },
   {
    "duration": 16,
    "start_time": "2023-04-02T18:48:44.217Z"
   },
   {
    "duration": 18,
    "start_time": "2023-04-02T18:48:44.234Z"
   },
   {
    "duration": 31,
    "start_time": "2023-04-02T18:48:44.279Z"
   },
   {
    "duration": 17,
    "start_time": "2023-04-02T18:48:44.313Z"
   },
   {
    "duration": 5,
    "start_time": "2023-04-02T18:48:44.332Z"
   },
   {
    "duration": 18,
    "start_time": "2023-04-02T18:48:44.339Z"
   },
   {
    "duration": 13,
    "start_time": "2023-04-02T18:48:44.387Z"
   },
   {
    "duration": 19,
    "start_time": "2023-04-02T18:48:44.403Z"
   },
   {
    "duration": 22,
    "start_time": "2023-04-02T18:48:44.424Z"
   },
   {
    "duration": 9,
    "start_time": "2023-04-02T18:48:44.448Z"
   },
   {
    "duration": 12,
    "start_time": "2023-04-02T18:48:44.483Z"
   },
   {
    "duration": 10,
    "start_time": "2023-04-02T18:48:44.497Z"
   },
   {
    "duration": 768,
    "start_time": "2023-04-02T18:50:27.335Z"
   },
   {
    "duration": 192,
    "start_time": "2023-04-02T18:50:45.733Z"
   },
   {
    "duration": 186,
    "start_time": "2023-04-02T18:50:55.917Z"
   },
   {
    "duration": 26,
    "start_time": "2023-04-02T18:51:01.770Z"
   },
   {
    "duration": 19,
    "start_time": "2023-04-02T18:51:10.942Z"
   },
   {
    "duration": 179,
    "start_time": "2023-04-02T18:51:18.045Z"
   },
   {
    "duration": 12,
    "start_time": "2023-04-02T18:51:41.110Z"
   },
   {
    "duration": 11,
    "start_time": "2023-04-02T18:51:54.310Z"
   },
   {
    "duration": 55,
    "start_time": "2023-04-02T18:53:42.429Z"
   },
   {
    "duration": 1264,
    "start_time": "2023-04-02T18:54:00.208Z"
   },
   {
    "duration": 659,
    "start_time": "2023-04-02T18:54:01.479Z"
   },
   {
    "duration": 12,
    "start_time": "2023-04-02T18:54:02.139Z"
   },
   {
    "duration": 12,
    "start_time": "2023-04-02T18:54:02.153Z"
   },
   {
    "duration": 17,
    "start_time": "2023-04-02T18:54:02.167Z"
   },
   {
    "duration": 24,
    "start_time": "2023-04-02T18:54:02.186Z"
   },
   {
    "duration": 20,
    "start_time": "2023-04-02T18:54:02.211Z"
   },
   {
    "duration": 29,
    "start_time": "2023-04-02T18:54:02.233Z"
   },
   {
    "duration": 66,
    "start_time": "2023-04-02T18:54:02.264Z"
   },
   {
    "duration": 11,
    "start_time": "2023-04-02T18:54:02.332Z"
   },
   {
    "duration": 6,
    "start_time": "2023-04-02T18:54:02.345Z"
   },
   {
    "duration": 61,
    "start_time": "2023-04-02T18:54:02.353Z"
   },
   {
    "duration": 309,
    "start_time": "2023-04-02T18:54:02.416Z"
   },
   {
    "duration": 9,
    "start_time": "2023-04-02T18:54:02.726Z"
   },
   {
    "duration": 5,
    "start_time": "2023-04-02T18:54:02.737Z"
   },
   {
    "duration": 20,
    "start_time": "2023-04-02T18:54:02.743Z"
   },
   {
    "duration": 74,
    "start_time": "2023-04-02T18:54:02.764Z"
   },
   {
    "duration": 7,
    "start_time": "2023-04-02T18:54:02.839Z"
   },
   {
    "duration": 258,
    "start_time": "2023-04-02T18:54:02.847Z"
   },
   {
    "duration": 20,
    "start_time": "2023-04-02T18:54:03.107Z"
   },
   {
    "duration": 15,
    "start_time": "2023-04-02T18:54:03.128Z"
   },
   {
    "duration": 85,
    "start_time": "2023-04-02T18:54:03.145Z"
   },
   {
    "duration": 20,
    "start_time": "2023-04-02T18:54:03.232Z"
   },
   {
    "duration": 35,
    "start_time": "2023-04-02T18:54:03.254Z"
   },
   {
    "duration": 21,
    "start_time": "2023-04-02T18:54:03.292Z"
   },
   {
    "duration": 14,
    "start_time": "2023-04-02T18:54:03.315Z"
   },
   {
    "duration": 19,
    "start_time": "2023-04-02T18:54:03.330Z"
   },
   {
    "duration": 6,
    "start_time": "2023-04-02T18:54:03.353Z"
   },
   {
    "duration": 20,
    "start_time": "2023-04-02T18:54:03.361Z"
   },
   {
    "duration": 25,
    "start_time": "2023-04-02T18:54:03.387Z"
   },
   {
    "duration": 18,
    "start_time": "2023-04-02T18:54:03.415Z"
   },
   {
    "duration": 8,
    "start_time": "2023-04-02T18:54:03.434Z"
   },
   {
    "duration": 8,
    "start_time": "2023-04-02T18:54:03.444Z"
   },
   {
    "duration": 29,
    "start_time": "2023-04-02T18:54:03.453Z"
   },
   {
    "duration": 25,
    "start_time": "2023-04-02T18:54:03.484Z"
   },
   {
    "duration": 21,
    "start_time": "2023-04-02T18:54:03.511Z"
   },
   {
    "duration": 20,
    "start_time": "2023-04-02T18:54:03.533Z"
   },
   {
    "duration": 28,
    "start_time": "2023-04-02T18:54:03.555Z"
   },
   {
    "duration": 3,
    "start_time": "2023-04-02T18:54:03.592Z"
   },
   {
    "duration": 22,
    "start_time": "2023-04-02T18:54:03.597Z"
   },
   {
    "duration": 7,
    "start_time": "2023-04-02T18:54:03.620Z"
   },
   {
    "duration": 22,
    "start_time": "2023-04-02T18:54:03.628Z"
   },
   {
    "duration": 15,
    "start_time": "2023-04-02T18:54:03.652Z"
   },
   {
    "duration": 6,
    "start_time": "2023-04-02T18:54:03.669Z"
   },
   {
    "duration": 8,
    "start_time": "2023-04-02T18:54:03.686Z"
   },
   {
    "duration": 16,
    "start_time": "2023-04-02T18:54:03.696Z"
   },
   {
    "duration": 9,
    "start_time": "2023-04-02T18:54:03.714Z"
   },
   {
    "duration": 102,
    "start_time": "2023-04-02T18:54:20.436Z"
   },
   {
    "duration": 16,
    "start_time": "2023-04-02T18:55:54.539Z"
   },
   {
    "duration": 11,
    "start_time": "2023-04-02T18:56:23.590Z"
   },
   {
    "duration": 7,
    "start_time": "2023-04-02T18:56:26.610Z"
   },
   {
    "duration": 43,
    "start_time": "2023-04-02T18:56:48.253Z"
   },
   {
    "duration": 12,
    "start_time": "2023-04-02T18:56:53.455Z"
   },
   {
    "duration": 7,
    "start_time": "2023-04-02T18:57:07.126Z"
   },
   {
    "duration": 123,
    "start_time": "2023-04-02T18:57:21.427Z"
   },
   {
    "duration": 45,
    "start_time": "2023-04-02T18:57:28.976Z"
   },
   {
    "duration": 46,
    "start_time": "2023-04-02T18:57:38.668Z"
   },
   {
    "duration": 8,
    "start_time": "2023-04-02T19:01:37.665Z"
   },
   {
    "duration": 11,
    "start_time": "2023-04-02T19:01:39.549Z"
   },
   {
    "duration": 3,
    "start_time": "2023-04-02T19:01:44.429Z"
   },
   {
    "duration": 6,
    "start_time": "2023-04-02T19:01:47.156Z"
   },
   {
    "duration": 4,
    "start_time": "2023-04-02T19:01:48.696Z"
   },
   {
    "duration": 12,
    "start_time": "2023-04-02T19:01:50.805Z"
   },
   {
    "duration": 16,
    "start_time": "2023-04-02T19:01:56.749Z"
   },
   {
    "duration": 1355,
    "start_time": "2023-04-02T19:02:04.904Z"
   },
   {
    "duration": 642,
    "start_time": "2023-04-02T19:02:06.261Z"
   },
   {
    "duration": 15,
    "start_time": "2023-04-02T19:02:06.905Z"
   },
   {
    "duration": 10,
    "start_time": "2023-04-02T19:02:06.922Z"
   },
   {
    "duration": 9,
    "start_time": "2023-04-02T19:02:06.934Z"
   },
   {
    "duration": 8,
    "start_time": "2023-04-02T19:02:06.945Z"
   },
   {
    "duration": 29,
    "start_time": "2023-04-02T19:02:06.955Z"
   },
   {
    "duration": 25,
    "start_time": "2023-04-02T19:02:06.985Z"
   },
   {
    "duration": 80,
    "start_time": "2023-04-02T19:02:07.012Z"
   },
   {
    "duration": 18,
    "start_time": "2023-04-02T19:02:07.095Z"
   },
   {
    "duration": 7,
    "start_time": "2023-04-02T19:02:07.115Z"
   },
   {
    "duration": 66,
    "start_time": "2023-04-02T19:02:07.124Z"
   },
   {
    "duration": 333,
    "start_time": "2023-04-02T19:02:07.193Z"
   },
   {
    "duration": 10,
    "start_time": "2023-04-02T19:02:07.529Z"
   },
   {
    "duration": 5,
    "start_time": "2023-04-02T19:02:07.541Z"
   },
   {
    "duration": 41,
    "start_time": "2023-04-02T19:02:07.547Z"
   },
   {
    "duration": 50,
    "start_time": "2023-04-02T19:02:07.594Z"
   },
   {
    "duration": 7,
    "start_time": "2023-04-02T19:02:07.646Z"
   },
   {
    "duration": 287,
    "start_time": "2023-04-02T19:02:07.654Z"
   },
   {
    "duration": 18,
    "start_time": "2023-04-02T19:02:07.942Z"
   },
   {
    "duration": 31,
    "start_time": "2023-04-02T19:02:07.962Z"
   },
   {
    "duration": 123,
    "start_time": "2023-04-02T19:02:07.995Z"
   },
   {
    "duration": 21,
    "start_time": "2023-04-02T19:02:08.120Z"
   },
   {
    "duration": 16,
    "start_time": "2023-04-02T19:02:08.143Z"
   },
   {
    "duration": 33,
    "start_time": "2023-04-02T19:02:08.174Z"
   },
   {
    "duration": 12,
    "start_time": "2023-04-02T19:02:08.209Z"
   },
   {
    "duration": 6,
    "start_time": "2023-04-02T19:02:08.223Z"
   },
   {
    "duration": 5,
    "start_time": "2023-04-02T19:02:08.232Z"
   },
   {
    "duration": 37,
    "start_time": "2023-04-02T19:02:08.239Z"
   },
   {
    "duration": 19,
    "start_time": "2023-04-02T19:02:08.281Z"
   },
   {
    "duration": 32,
    "start_time": "2023-04-02T19:02:08.302Z"
   },
   {
    "duration": 9,
    "start_time": "2023-04-02T19:02:08.336Z"
   },
   {
    "duration": 6,
    "start_time": "2023-04-02T19:02:08.347Z"
   },
   {
    "duration": 5,
    "start_time": "2023-04-02T19:02:08.354Z"
   },
   {
    "duration": 23,
    "start_time": "2023-04-02T19:02:08.360Z"
   },
   {
    "duration": 24,
    "start_time": "2023-04-02T19:02:08.386Z"
   },
   {
    "duration": 19,
    "start_time": "2023-04-02T19:02:08.412Z"
   },
   {
    "duration": 10,
    "start_time": "2023-04-02T19:02:08.433Z"
   },
   {
    "duration": 19,
    "start_time": "2023-04-02T19:02:08.445Z"
   },
   {
    "duration": 24,
    "start_time": "2023-04-02T19:02:08.479Z"
   },
   {
    "duration": 4,
    "start_time": "2023-04-02T19:02:08.505Z"
   },
   {
    "duration": 14,
    "start_time": "2023-04-02T19:02:08.511Z"
   },
   {
    "duration": 16,
    "start_time": "2023-04-02T19:02:08.526Z"
   },
   {
    "duration": 9,
    "start_time": "2023-04-02T19:02:08.544Z"
   },
   {
    "duration": 22,
    "start_time": "2023-04-02T19:02:08.554Z"
   },
   {
    "duration": 114,
    "start_time": "2023-04-02T19:02:08.580Z"
   },
   {
    "duration": 0,
    "start_time": "2023-04-02T19:02:08.696Z"
   },
   {
    "duration": 0,
    "start_time": "2023-04-02T19:02:08.697Z"
   },
   {
    "duration": 120,
    "start_time": "2023-04-02T19:02:37.742Z"
   },
   {
    "duration": 191,
    "start_time": "2023-04-02T19:02:41.693Z"
   },
   {
    "duration": 14,
    "start_time": "2023-04-02T19:02:53.367Z"
   },
   {
    "duration": 13,
    "start_time": "2023-04-02T19:02:56.504Z"
   },
   {
    "duration": 31,
    "start_time": "2023-04-02T19:02:58.436Z"
   },
   {
    "duration": 1335,
    "start_time": "2023-04-02T19:03:05.266Z"
   },
   {
    "duration": 611,
    "start_time": "2023-04-02T19:03:06.603Z"
   },
   {
    "duration": 13,
    "start_time": "2023-04-02T19:03:07.216Z"
   },
   {
    "duration": 14,
    "start_time": "2023-04-02T19:03:07.231Z"
   },
   {
    "duration": 13,
    "start_time": "2023-04-02T19:03:07.247Z"
   },
   {
    "duration": 10,
    "start_time": "2023-04-02T19:03:07.262Z"
   },
   {
    "duration": 25,
    "start_time": "2023-04-02T19:03:07.273Z"
   },
   {
    "duration": 17,
    "start_time": "2023-04-02T19:03:07.300Z"
   },
   {
    "duration": 72,
    "start_time": "2023-04-02T19:03:07.319Z"
   },
   {
    "duration": 13,
    "start_time": "2023-04-02T19:03:07.394Z"
   },
   {
    "duration": 8,
    "start_time": "2023-04-02T19:03:07.409Z"
   },
   {
    "duration": 31,
    "start_time": "2023-04-02T19:03:07.418Z"
   },
   {
    "duration": 339,
    "start_time": "2023-04-02T19:03:07.450Z"
   },
   {
    "duration": 11,
    "start_time": "2023-04-02T19:03:07.794Z"
   },
   {
    "duration": 6,
    "start_time": "2023-04-02T19:03:07.806Z"
   },
   {
    "duration": 18,
    "start_time": "2023-04-02T19:03:07.814Z"
   },
   {
    "duration": 72,
    "start_time": "2023-04-02T19:03:07.834Z"
   },
   {
    "duration": 8,
    "start_time": "2023-04-02T19:03:07.908Z"
   },
   {
    "duration": 312,
    "start_time": "2023-04-02T19:03:07.918Z"
   },
   {
    "duration": 16,
    "start_time": "2023-04-02T19:03:08.231Z"
   },
   {
    "duration": 37,
    "start_time": "2023-04-02T19:03:08.248Z"
   },
   {
    "duration": 104,
    "start_time": "2023-04-02T19:03:08.286Z"
   },
   {
    "duration": 27,
    "start_time": "2023-04-02T19:03:08.392Z"
   },
   {
    "duration": 14,
    "start_time": "2023-04-02T19:03:08.421Z"
   },
   {
    "duration": 16,
    "start_time": "2023-04-02T19:03:08.437Z"
   },
   {
    "duration": 42,
    "start_time": "2023-04-02T19:03:08.454Z"
   },
   {
    "duration": 7,
    "start_time": "2023-04-02T19:03:08.499Z"
   },
   {
    "duration": 24,
    "start_time": "2023-04-02T19:03:08.512Z"
   },
   {
    "duration": 7,
    "start_time": "2023-04-02T19:03:08.538Z"
   },
   {
    "duration": 17,
    "start_time": "2023-04-02T19:03:08.547Z"
   },
   {
    "duration": 32,
    "start_time": "2023-04-02T19:03:08.566Z"
   },
   {
    "duration": 12,
    "start_time": "2023-04-02T19:03:08.600Z"
   },
   {
    "duration": 7,
    "start_time": "2023-04-02T19:03:08.614Z"
   },
   {
    "duration": 6,
    "start_time": "2023-04-02T19:03:08.622Z"
   },
   {
    "duration": 8,
    "start_time": "2023-04-02T19:03:08.629Z"
   },
   {
    "duration": 50,
    "start_time": "2023-04-02T19:03:08.639Z"
   },
   {
    "duration": 26,
    "start_time": "2023-04-02T19:03:08.692Z"
   },
   {
    "duration": 11,
    "start_time": "2023-04-02T19:03:08.720Z"
   },
   {
    "duration": 7,
    "start_time": "2023-04-02T19:03:08.732Z"
   },
   {
    "duration": 13,
    "start_time": "2023-04-02T19:03:08.741Z"
   },
   {
    "duration": 36,
    "start_time": "2023-04-02T19:03:08.755Z"
   },
   {
    "duration": 13,
    "start_time": "2023-04-02T19:03:08.793Z"
   },
   {
    "duration": 24,
    "start_time": "2023-04-02T19:03:08.808Z"
   },
   {
    "duration": 6,
    "start_time": "2023-04-02T19:03:08.834Z"
   },
   {
    "duration": 6,
    "start_time": "2023-04-02T19:03:08.842Z"
   },
   {
    "duration": 39,
    "start_time": "2023-04-02T19:03:08.850Z"
   },
   {
    "duration": 12,
    "start_time": "2023-04-02T19:03:08.892Z"
   },
   {
    "duration": 39,
    "start_time": "2023-04-02T19:03:08.907Z"
   },
   {
    "duration": 24,
    "start_time": "2023-04-02T19:04:26.198Z"
   },
   {
    "duration": 1319,
    "start_time": "2023-04-02T19:04:35.200Z"
   },
   {
    "duration": 616,
    "start_time": "2023-04-02T19:04:36.521Z"
   },
   {
    "duration": 12,
    "start_time": "2023-04-02T19:04:37.139Z"
   },
   {
    "duration": 8,
    "start_time": "2023-04-02T19:04:37.153Z"
   },
   {
    "duration": 19,
    "start_time": "2023-04-02T19:04:37.163Z"
   },
   {
    "duration": 13,
    "start_time": "2023-04-02T19:04:37.185Z"
   },
   {
    "duration": 16,
    "start_time": "2023-04-02T19:04:37.200Z"
   },
   {
    "duration": 17,
    "start_time": "2023-04-02T19:04:37.218Z"
   },
   {
    "duration": 88,
    "start_time": "2023-04-02T19:04:37.236Z"
   },
   {
    "duration": 11,
    "start_time": "2023-04-02T19:04:37.326Z"
   },
   {
    "duration": 6,
    "start_time": "2023-04-02T19:04:37.338Z"
   },
   {
    "duration": 65,
    "start_time": "2023-04-02T19:04:37.345Z"
   },
   {
    "duration": 370,
    "start_time": "2023-04-02T19:04:37.412Z"
   },
   {
    "duration": 13,
    "start_time": "2023-04-02T19:04:37.786Z"
   },
   {
    "duration": 10,
    "start_time": "2023-04-02T19:04:37.801Z"
   },
   {
    "duration": 24,
    "start_time": "2023-04-02T19:04:37.813Z"
   },
   {
    "duration": 92,
    "start_time": "2023-04-02T19:04:37.838Z"
   },
   {
    "duration": 8,
    "start_time": "2023-04-02T19:04:37.932Z"
   },
   {
    "duration": 279,
    "start_time": "2023-04-02T19:04:37.941Z"
   },
   {
    "duration": 19,
    "start_time": "2023-04-02T19:04:38.222Z"
   },
   {
    "duration": 18,
    "start_time": "2023-04-02T19:04:38.243Z"
   },
   {
    "duration": 115,
    "start_time": "2023-04-02T19:04:38.278Z"
   },
   {
    "duration": 27,
    "start_time": "2023-04-02T19:04:38.395Z"
   },
   {
    "duration": 18,
    "start_time": "2023-04-02T19:04:38.424Z"
   },
   {
    "duration": 34,
    "start_time": "2023-04-02T19:04:38.444Z"
   },
   {
    "duration": 56,
    "start_time": "2023-04-02T19:04:38.482Z"
   },
   {
    "duration": 6,
    "start_time": "2023-04-02T19:04:38.540Z"
   },
   {
    "duration": 7,
    "start_time": "2023-04-02T19:04:38.548Z"
   },
   {
    "duration": 24,
    "start_time": "2023-04-02T19:04:38.557Z"
   },
   {
    "duration": 20,
    "start_time": "2023-04-02T19:04:38.582Z"
   },
   {
    "duration": 18,
    "start_time": "2023-04-02T19:04:38.604Z"
   },
   {
    "duration": 17,
    "start_time": "2023-04-02T19:04:38.624Z"
   },
   {
    "duration": 37,
    "start_time": "2023-04-02T19:04:38.642Z"
   },
   {
    "duration": 14,
    "start_time": "2023-04-02T19:04:38.680Z"
   },
   {
    "duration": 6,
    "start_time": "2023-04-02T19:04:38.696Z"
   },
   {
    "duration": 14,
    "start_time": "2023-04-02T19:04:38.704Z"
   },
   {
    "duration": 16,
    "start_time": "2023-04-02T19:04:38.721Z"
   },
   {
    "duration": 16,
    "start_time": "2023-04-02T19:04:38.739Z"
   },
   {
    "duration": 18,
    "start_time": "2023-04-02T19:04:38.777Z"
   },
   {
    "duration": 4,
    "start_time": "2023-04-02T19:04:38.797Z"
   },
   {
    "duration": 12,
    "start_time": "2023-04-02T19:04:38.807Z"
   },
   {
    "duration": 12,
    "start_time": "2023-04-02T19:04:38.822Z"
   },
   {
    "duration": 11,
    "start_time": "2023-04-02T19:04:38.835Z"
   },
   {
    "duration": 36,
    "start_time": "2023-04-02T19:04:38.847Z"
   },
   {
    "duration": 14,
    "start_time": "2023-04-02T19:04:38.885Z"
   },
   {
    "duration": 6,
    "start_time": "2023-04-02T19:04:38.901Z"
   },
   {
    "duration": 15,
    "start_time": "2023-04-02T19:04:38.909Z"
   },
   {
    "duration": 12,
    "start_time": "2023-04-02T19:04:38.926Z"
   },
   {
    "duration": 67,
    "start_time": "2023-04-02T19:04:38.939Z"
   },
   {
    "duration": 621,
    "start_time": "2023-04-02T19:05:44.425Z"
   },
   {
    "duration": 9,
    "start_time": "2023-04-02T19:05:52.360Z"
   },
   {
    "duration": 12,
    "start_time": "2023-04-02T19:05:54.334Z"
   },
   {
    "duration": 5,
    "start_time": "2023-04-02T19:06:00.201Z"
   },
   {
    "duration": 8,
    "start_time": "2023-04-02T19:06:02.795Z"
   },
   {
    "duration": 6,
    "start_time": "2023-04-02T19:06:07.921Z"
   },
   {
    "duration": 17,
    "start_time": "2023-04-02T19:06:09.343Z"
   },
   {
    "duration": 9,
    "start_time": "2023-04-02T19:06:46.801Z"
   },
   {
    "duration": 14,
    "start_time": "2023-04-02T19:06:48.768Z"
   },
   {
    "duration": 1301,
    "start_time": "2023-04-02T19:06:55.658Z"
   },
   {
    "duration": 671,
    "start_time": "2023-04-02T19:06:56.961Z"
   },
   {
    "duration": 17,
    "start_time": "2023-04-02T19:06:57.634Z"
   },
   {
    "duration": 11,
    "start_time": "2023-04-02T19:06:57.653Z"
   },
   {
    "duration": 40,
    "start_time": "2023-04-02T19:06:57.667Z"
   },
   {
    "duration": 9,
    "start_time": "2023-04-02T19:06:57.709Z"
   },
   {
    "duration": 12,
    "start_time": "2023-04-02T19:06:57.721Z"
   },
   {
    "duration": 24,
    "start_time": "2023-04-02T19:06:57.735Z"
   },
   {
    "duration": 87,
    "start_time": "2023-04-02T19:06:57.761Z"
   },
   {
    "duration": 26,
    "start_time": "2023-04-02T19:06:57.852Z"
   },
   {
    "duration": 12,
    "start_time": "2023-04-02T19:06:57.886Z"
   },
   {
    "duration": 37,
    "start_time": "2023-04-02T19:06:57.901Z"
   },
   {
    "duration": 350,
    "start_time": "2023-04-02T19:06:57.939Z"
   },
   {
    "duration": 15,
    "start_time": "2023-04-02T19:06:58.294Z"
   },
   {
    "duration": 9,
    "start_time": "2023-04-02T19:06:58.311Z"
   },
   {
    "duration": 14,
    "start_time": "2023-04-02T19:06:58.322Z"
   },
   {
    "duration": 82,
    "start_time": "2023-04-02T19:06:58.338Z"
   },
   {
    "duration": 10,
    "start_time": "2023-04-02T19:06:58.422Z"
   },
   {
    "duration": 278,
    "start_time": "2023-04-02T19:06:58.433Z"
   },
   {
    "duration": 21,
    "start_time": "2023-04-02T19:06:58.712Z"
   },
   {
    "duration": 12,
    "start_time": "2023-04-02T19:06:58.735Z"
   },
   {
    "duration": 120,
    "start_time": "2023-04-02T19:06:58.749Z"
   },
   {
    "duration": 30,
    "start_time": "2023-04-02T19:06:58.871Z"
   },
   {
    "duration": 16,
    "start_time": "2023-04-02T19:06:58.903Z"
   },
   {
    "duration": 21,
    "start_time": "2023-04-02T19:06:58.921Z"
   },
   {
    "duration": 45,
    "start_time": "2023-04-02T19:06:58.944Z"
   },
   {
    "duration": 9,
    "start_time": "2023-04-02T19:06:58.991Z"
   },
   {
    "duration": 6,
    "start_time": "2023-04-02T19:06:59.003Z"
   },
   {
    "duration": 12,
    "start_time": "2023-04-02T19:06:59.011Z"
   },
   {
    "duration": 16,
    "start_time": "2023-04-02T19:06:59.024Z"
   },
   {
    "duration": 46,
    "start_time": "2023-04-02T19:06:59.041Z"
   },
   {
    "duration": 16,
    "start_time": "2023-04-02T19:06:59.091Z"
   },
   {
    "duration": 10,
    "start_time": "2023-04-02T19:06:59.108Z"
   },
   {
    "duration": 16,
    "start_time": "2023-04-02T19:06:59.120Z"
   },
   {
    "duration": 7,
    "start_time": "2023-04-02T19:06:59.137Z"
   },
   {
    "duration": 15,
    "start_time": "2023-04-02T19:06:59.146Z"
   },
   {
    "duration": 32,
    "start_time": "2023-04-02T19:06:59.176Z"
   },
   {
    "duration": 16,
    "start_time": "2023-04-02T19:06:59.210Z"
   },
   {
    "duration": 7,
    "start_time": "2023-04-02T19:06:59.228Z"
   },
   {
    "duration": 17,
    "start_time": "2023-04-02T19:06:59.237Z"
   },
   {
    "duration": 20,
    "start_time": "2023-04-02T19:06:59.256Z"
   },
   {
    "duration": 33,
    "start_time": "2023-04-02T19:06:59.278Z"
   },
   {
    "duration": 20,
    "start_time": "2023-04-02T19:06:59.313Z"
   },
   {
    "duration": 14,
    "start_time": "2023-04-02T19:06:59.335Z"
   },
   {
    "duration": 17,
    "start_time": "2023-04-02T19:06:59.350Z"
   },
   {
    "duration": 18,
    "start_time": "2023-04-02T19:06:59.369Z"
   },
   {
    "duration": 14,
    "start_time": "2023-04-02T19:06:59.393Z"
   },
   {
    "duration": 36,
    "start_time": "2023-04-02T19:06:59.409Z"
   },
   {
    "duration": 133,
    "start_time": "2023-04-02T19:08:11.396Z"
   },
   {
    "duration": 6,
    "start_time": "2023-04-02T19:08:18.935Z"
   },
   {
    "duration": 1270,
    "start_time": "2023-04-02T19:08:27.698Z"
   },
   {
    "duration": 677,
    "start_time": "2023-04-02T19:08:28.970Z"
   },
   {
    "duration": 11,
    "start_time": "2023-04-02T19:08:29.649Z"
   },
   {
    "duration": 28,
    "start_time": "2023-04-02T19:08:29.662Z"
   },
   {
    "duration": 15,
    "start_time": "2023-04-02T19:08:29.694Z"
   },
   {
    "duration": 12,
    "start_time": "2023-04-02T19:08:29.712Z"
   },
   {
    "duration": 11,
    "start_time": "2023-04-02T19:08:29.725Z"
   },
   {
    "duration": 18,
    "start_time": "2023-04-02T19:08:29.738Z"
   },
   {
    "duration": 85,
    "start_time": "2023-04-02T19:08:29.758Z"
   },
   {
    "duration": 15,
    "start_time": "2023-04-02T19:08:29.845Z"
   },
   {
    "duration": 15,
    "start_time": "2023-04-02T19:08:29.861Z"
   },
   {
    "duration": 59,
    "start_time": "2023-04-02T19:08:29.881Z"
   },
   {
    "duration": 401,
    "start_time": "2023-04-02T19:08:29.941Z"
   },
   {
    "duration": 10,
    "start_time": "2023-04-02T19:08:30.345Z"
   },
   {
    "duration": 46,
    "start_time": "2023-04-02T19:08:30.357Z"
   },
   {
    "duration": 37,
    "start_time": "2023-04-02T19:08:30.406Z"
   },
   {
    "duration": 94,
    "start_time": "2023-04-02T19:08:30.445Z"
   },
   {
    "duration": 29,
    "start_time": "2023-04-02T19:08:30.542Z"
   },
   {
    "duration": 288,
    "start_time": "2023-04-02T19:08:30.573Z"
   },
   {
    "duration": 41,
    "start_time": "2023-04-02T19:08:30.863Z"
   },
   {
    "duration": 24,
    "start_time": "2023-04-02T19:08:30.906Z"
   },
   {
    "duration": 134,
    "start_time": "2023-04-02T19:08:30.932Z"
   },
   {
    "duration": 33,
    "start_time": "2023-04-02T19:08:31.067Z"
   },
   {
    "duration": 27,
    "start_time": "2023-04-02T19:08:31.104Z"
   },
   {
    "duration": 41,
    "start_time": "2023-04-02T19:08:31.132Z"
   },
   {
    "duration": 35,
    "start_time": "2023-04-02T19:08:31.177Z"
   },
   {
    "duration": 35,
    "start_time": "2023-04-02T19:08:31.214Z"
   },
   {
    "duration": 44,
    "start_time": "2023-04-02T19:08:31.252Z"
   },
   {
    "duration": 33,
    "start_time": "2023-04-02T19:08:31.300Z"
   },
   {
    "duration": 35,
    "start_time": "2023-04-02T19:08:31.335Z"
   },
   {
    "duration": 62,
    "start_time": "2023-04-02T19:08:31.373Z"
   },
   {
    "duration": 12,
    "start_time": "2023-04-02T19:08:31.437Z"
   },
   {
    "duration": 35,
    "start_time": "2023-04-02T19:08:31.451Z"
   },
   {
    "duration": 15,
    "start_time": "2023-04-02T19:08:31.488Z"
   },
   {
    "duration": 29,
    "start_time": "2023-04-02T19:08:31.505Z"
   },
   {
    "duration": 68,
    "start_time": "2023-04-02T19:08:31.537Z"
   },
   {
    "duration": 19,
    "start_time": "2023-04-02T19:08:31.608Z"
   },
   {
    "duration": 21,
    "start_time": "2023-04-02T19:08:31.628Z"
   },
   {
    "duration": 16,
    "start_time": "2023-04-02T19:08:31.651Z"
   },
   {
    "duration": 28,
    "start_time": "2023-04-02T19:08:31.669Z"
   },
   {
    "duration": 23,
    "start_time": "2023-04-02T19:08:31.703Z"
   },
   {
    "duration": 29,
    "start_time": "2023-04-02T19:08:31.728Z"
   },
   {
    "duration": 34,
    "start_time": "2023-04-02T19:08:31.758Z"
   },
   {
    "duration": 29,
    "start_time": "2023-04-02T19:08:31.794Z"
   },
   {
    "duration": 21,
    "start_time": "2023-04-02T19:08:31.825Z"
   },
   {
    "duration": 42,
    "start_time": "2023-04-02T19:08:31.847Z"
   },
   {
    "duration": 43,
    "start_time": "2023-04-02T19:08:31.894Z"
   },
   {
    "duration": 70,
    "start_time": "2023-04-02T19:08:31.939Z"
   },
   {
    "duration": 112,
    "start_time": "2023-04-02T19:10:14.142Z"
   },
   {
    "duration": 28,
    "start_time": "2023-04-02T19:11:04.707Z"
   },
   {
    "duration": 15,
    "start_time": "2023-04-02T19:11:10.097Z"
   },
   {
    "duration": 10,
    "start_time": "2023-04-02T19:11:18.998Z"
   },
   {
    "duration": 4,
    "start_time": "2023-04-02T19:11:31.044Z"
   },
   {
    "duration": 23,
    "start_time": "2023-04-02T19:12:54.612Z"
   },
   {
    "duration": 9,
    "start_time": "2023-04-02T19:13:02.436Z"
   },
   {
    "duration": 12,
    "start_time": "2023-04-02T19:13:10.678Z"
   },
   {
    "duration": 28,
    "start_time": "2023-04-02T19:13:34.117Z"
   },
   {
    "duration": 2022,
    "start_time": "2023-04-02T19:13:47.499Z"
   },
   {
    "duration": 12,
    "start_time": "2023-04-02T19:14:03.601Z"
   },
   {
    "duration": 10,
    "start_time": "2023-04-02T19:14:05.648Z"
   },
   {
    "duration": 8,
    "start_time": "2023-04-02T19:14:11.992Z"
   },
   {
    "duration": 1340,
    "start_time": "2023-04-02T19:14:36.525Z"
   },
   {
    "duration": 745,
    "start_time": "2023-04-02T19:14:37.867Z"
   },
   {
    "duration": 15,
    "start_time": "2023-04-02T19:14:38.614Z"
   },
   {
    "duration": 8,
    "start_time": "2023-04-02T19:14:38.631Z"
   },
   {
    "duration": 10,
    "start_time": "2023-04-02T19:14:38.640Z"
   },
   {
    "duration": 8,
    "start_time": "2023-04-02T19:14:38.652Z"
   },
   {
    "duration": 29,
    "start_time": "2023-04-02T19:14:38.662Z"
   },
   {
    "duration": 32,
    "start_time": "2023-04-02T19:14:38.693Z"
   },
   {
    "duration": 78,
    "start_time": "2023-04-02T19:14:38.727Z"
   },
   {
    "duration": 15,
    "start_time": "2023-04-02T19:14:38.809Z"
   },
   {
    "duration": 6,
    "start_time": "2023-04-02T19:14:38.826Z"
   },
   {
    "duration": 71,
    "start_time": "2023-04-02T19:14:38.834Z"
   },
   {
    "duration": 385,
    "start_time": "2023-04-02T19:14:38.907Z"
   },
   {
    "duration": 16,
    "start_time": "2023-04-02T19:14:39.294Z"
   },
   {
    "duration": 6,
    "start_time": "2023-04-02T19:14:39.311Z"
   },
   {
    "duration": 23,
    "start_time": "2023-04-02T19:14:39.318Z"
   },
   {
    "duration": 101,
    "start_time": "2023-04-02T19:14:39.343Z"
   },
   {
    "duration": 7,
    "start_time": "2023-04-02T19:14:39.446Z"
   },
   {
    "duration": 321,
    "start_time": "2023-04-02T19:14:39.454Z"
   },
   {
    "duration": 28,
    "start_time": "2023-04-02T19:14:39.778Z"
   },
   {
    "duration": 20,
    "start_time": "2023-04-02T19:14:39.809Z"
   },
   {
    "duration": 134,
    "start_time": "2023-04-02T19:14:39.831Z"
   },
   {
    "duration": 37,
    "start_time": "2023-04-02T19:14:39.967Z"
   },
   {
    "duration": 20,
    "start_time": "2023-04-02T19:14:40.007Z"
   },
   {
    "duration": 18,
    "start_time": "2023-04-02T19:14:40.029Z"
   },
   {
    "duration": 21,
    "start_time": "2023-04-02T19:14:40.080Z"
   },
   {
    "duration": 9,
    "start_time": "2023-04-02T19:14:40.103Z"
   },
   {
    "duration": 19,
    "start_time": "2023-04-02T19:14:40.116Z"
   },
   {
    "duration": 11,
    "start_time": "2023-04-02T19:14:40.137Z"
   },
   {
    "duration": 40,
    "start_time": "2023-04-02T19:14:40.151Z"
   },
   {
    "duration": 19,
    "start_time": "2023-04-02T19:14:40.193Z"
   },
   {
    "duration": 14,
    "start_time": "2023-04-02T19:14:40.215Z"
   },
   {
    "duration": 7,
    "start_time": "2023-04-02T19:14:40.230Z"
   },
   {
    "duration": 6,
    "start_time": "2023-04-02T19:14:40.238Z"
   },
   {
    "duration": 46,
    "start_time": "2023-04-02T19:14:40.245Z"
   },
   {
    "duration": 19,
    "start_time": "2023-04-02T19:14:40.299Z"
   },
   {
    "duration": 19,
    "start_time": "2023-04-02T19:14:40.320Z"
   },
   {
    "duration": 11,
    "start_time": "2023-04-02T19:14:40.340Z"
   },
   {
    "duration": 8,
    "start_time": "2023-04-02T19:14:40.353Z"
   },
   {
    "duration": 46,
    "start_time": "2023-04-02T19:14:40.362Z"
   },
   {
    "duration": 10,
    "start_time": "2023-04-02T19:14:40.410Z"
   },
   {
    "duration": 16,
    "start_time": "2023-04-02T19:14:40.422Z"
   },
   {
    "duration": 21,
    "start_time": "2023-04-02T19:14:40.440Z"
   },
   {
    "duration": 17,
    "start_time": "2023-04-02T19:14:40.464Z"
   },
   {
    "duration": 24,
    "start_time": "2023-04-02T19:14:40.483Z"
   },
   {
    "duration": 13,
    "start_time": "2023-04-02T19:14:40.511Z"
   },
   {
    "duration": 11,
    "start_time": "2023-04-02T19:14:40.526Z"
   },
   {
    "duration": 52,
    "start_time": "2023-04-02T19:14:40.538Z"
   },
   {
    "duration": 9,
    "start_time": "2023-04-02T19:14:40.598Z"
   },
   {
    "duration": 10,
    "start_time": "2023-04-02T19:14:40.609Z"
   },
   {
    "duration": 9,
    "start_time": "2023-04-02T19:14:40.621Z"
   },
   {
    "duration": 7,
    "start_time": "2023-04-02T19:15:18.214Z"
   },
   {
    "duration": 7,
    "start_time": "2023-04-02T19:15:20.558Z"
   },
   {
    "duration": 11,
    "start_time": "2023-04-02T19:15:53.759Z"
   },
   {
    "duration": 65,
    "start_time": "2023-04-02T19:16:27.942Z"
   },
   {
    "duration": 68,
    "start_time": "2023-04-02T19:16:44.091Z"
   },
   {
    "duration": 12,
    "start_time": "2023-04-02T19:16:51.295Z"
   },
   {
    "duration": 9,
    "start_time": "2023-04-02T19:17:32.335Z"
   },
   {
    "duration": 9,
    "start_time": "2023-04-02T20:28:57.772Z"
   },
   {
    "duration": 23,
    "start_time": "2023-04-02T20:29:00.400Z"
   },
   {
    "duration": 6,
    "start_time": "2023-04-02T20:29:21.408Z"
   },
   {
    "duration": 31,
    "start_time": "2023-04-02T20:29:26.987Z"
   },
   {
    "duration": 15,
    "start_time": "2023-04-02T20:29:46.940Z"
   },
   {
    "duration": 4442,
    "start_time": "2023-04-02T20:30:01.291Z"
   },
   {
    "duration": 160,
    "start_time": "2023-04-02T20:30:10.191Z"
   },
   {
    "duration": 26,
    "start_time": "2023-04-02T20:30:23.501Z"
   },
   {
    "duration": 141,
    "start_time": "2023-04-02T20:31:16.293Z"
   },
   {
    "duration": 8,
    "start_time": "2023-04-02T20:31:21.004Z"
   },
   {
    "duration": 17,
    "start_time": "2023-04-02T20:31:21.415Z"
   },
   {
    "duration": 41,
    "start_time": "2023-04-02T20:31:29.549Z"
   },
   {
    "duration": 14,
    "start_time": "2023-04-02T20:31:34.033Z"
   },
   {
    "duration": 6,
    "start_time": "2023-04-02T20:31:42.898Z"
   },
   {
    "duration": 8,
    "start_time": "2023-04-02T20:31:53.574Z"
   },
   {
    "duration": 115,
    "start_time": "2023-04-02T20:31:53.925Z"
   },
   {
    "duration": 8,
    "start_time": "2023-04-02T20:32:09.550Z"
   },
   {
    "duration": 1201,
    "start_time": "2023-04-02T20:32:16.048Z"
   },
   {
    "duration": 6,
    "start_time": "2023-04-02T20:32:25.786Z"
   },
   {
    "duration": 7,
    "start_time": "2023-04-02T20:32:34.242Z"
   },
   {
    "duration": 1353,
    "start_time": "2023-04-03T06:58:46.319Z"
   },
   {
    "duration": 957,
    "start_time": "2023-04-03T06:58:47.675Z"
   },
   {
    "duration": 12,
    "start_time": "2023-04-03T06:58:48.634Z"
   },
   {
    "duration": 8,
    "start_time": "2023-04-03T06:58:48.647Z"
   },
   {
    "duration": 10,
    "start_time": "2023-04-03T06:58:48.657Z"
   },
   {
    "duration": 7,
    "start_time": "2023-04-03T06:58:48.669Z"
   },
   {
    "duration": 13,
    "start_time": "2023-04-03T06:58:48.677Z"
   },
   {
    "duration": 20,
    "start_time": "2023-04-03T06:58:48.691Z"
   },
   {
    "duration": 74,
    "start_time": "2023-04-03T06:58:48.712Z"
   },
   {
    "duration": 12,
    "start_time": "2023-04-03T06:58:48.788Z"
   },
   {
    "duration": 23,
    "start_time": "2023-04-03T06:58:48.802Z"
   },
   {
    "duration": 34,
    "start_time": "2023-04-03T06:58:48.826Z"
   },
   {
    "duration": 298,
    "start_time": "2023-04-03T06:58:48.862Z"
   },
   {
    "duration": 13,
    "start_time": "2023-04-03T06:58:49.163Z"
   },
   {
    "duration": 6,
    "start_time": "2023-04-03T06:58:49.177Z"
   },
   {
    "duration": 13,
    "start_time": "2023-04-03T06:58:49.184Z"
   },
   {
    "duration": 50,
    "start_time": "2023-04-03T06:58:49.199Z"
   },
   {
    "duration": 28,
    "start_time": "2023-04-03T06:58:49.251Z"
   },
   {
    "duration": 230,
    "start_time": "2023-04-03T06:58:49.281Z"
   },
   {
    "duration": 16,
    "start_time": "2023-04-03T06:58:49.513Z"
   },
   {
    "duration": 14,
    "start_time": "2023-04-03T06:58:49.531Z"
   },
   {
    "duration": 115,
    "start_time": "2023-04-03T06:58:49.547Z"
   },
   {
    "duration": 21,
    "start_time": "2023-04-03T06:58:49.664Z"
   },
   {
    "duration": 14,
    "start_time": "2023-04-03T06:58:49.687Z"
   },
   {
    "duration": 16,
    "start_time": "2023-04-03T06:58:49.703Z"
   },
   {
    "duration": 7,
    "start_time": "2023-04-03T06:58:49.721Z"
   },
   {
    "duration": 8,
    "start_time": "2023-04-03T06:58:49.729Z"
   },
   {
    "duration": 39,
    "start_time": "2023-04-03T06:58:49.738Z"
   },
   {
    "duration": 8,
    "start_time": "2023-04-03T06:58:49.779Z"
   },
   {
    "duration": 16,
    "start_time": "2023-04-03T06:58:49.788Z"
   },
   {
    "duration": 16,
    "start_time": "2023-04-03T06:58:49.806Z"
   },
   {
    "duration": 8,
    "start_time": "2023-04-03T06:58:49.824Z"
   },
   {
    "duration": 11,
    "start_time": "2023-04-03T06:58:49.834Z"
   },
   {
    "duration": 41,
    "start_time": "2023-04-03T06:58:49.846Z"
   },
   {
    "duration": 11,
    "start_time": "2023-04-03T06:58:49.889Z"
   },
   {
    "duration": 15,
    "start_time": "2023-04-03T06:58:49.902Z"
   },
   {
    "duration": 16,
    "start_time": "2023-04-03T06:58:49.919Z"
   },
   {
    "duration": 11,
    "start_time": "2023-04-03T06:58:49.936Z"
   },
   {
    "duration": 12,
    "start_time": "2023-04-03T06:58:49.948Z"
   },
   {
    "duration": 21,
    "start_time": "2023-04-03T06:58:49.961Z"
   },
   {
    "duration": 5,
    "start_time": "2023-04-03T06:58:59.774Z"
   },
   {
    "duration": 11,
    "start_time": "2023-04-03T06:59:00.245Z"
   },
   {
    "duration": 3,
    "start_time": "2023-04-03T06:59:15.477Z"
   },
   {
    "duration": 7,
    "start_time": "2023-04-03T06:59:15.870Z"
   },
   {
    "duration": 3,
    "start_time": "2023-04-03T06:59:20.222Z"
   },
   {
    "duration": 7,
    "start_time": "2023-04-03T06:59:20.644Z"
   },
   {
    "duration": 1136,
    "start_time": "2023-04-03T06:59:27.426Z"
   },
   {
    "duration": 545,
    "start_time": "2023-04-03T06:59:28.565Z"
   },
   {
    "duration": 11,
    "start_time": "2023-04-03T06:59:29.112Z"
   },
   {
    "duration": 8,
    "start_time": "2023-04-03T06:59:29.125Z"
   },
   {
    "duration": 11,
    "start_time": "2023-04-03T06:59:29.135Z"
   },
   {
    "duration": 9,
    "start_time": "2023-04-03T06:59:29.148Z"
   },
   {
    "duration": 22,
    "start_time": "2023-04-03T06:59:29.159Z"
   },
   {
    "duration": 18,
    "start_time": "2023-04-03T06:59:29.184Z"
   },
   {
    "duration": 71,
    "start_time": "2023-04-03T06:59:29.204Z"
   },
   {
    "duration": 12,
    "start_time": "2023-04-03T06:59:29.277Z"
   },
   {
    "duration": 6,
    "start_time": "2023-04-03T06:59:29.291Z"
   },
   {
    "duration": 30,
    "start_time": "2023-04-03T06:59:29.298Z"
   },
   {
    "duration": 303,
    "start_time": "2023-04-03T06:59:29.330Z"
   },
   {
    "duration": 9,
    "start_time": "2023-04-03T06:59:29.636Z"
   },
   {
    "duration": 6,
    "start_time": "2023-04-03T06:59:29.646Z"
   },
   {
    "duration": 30,
    "start_time": "2023-04-03T06:59:29.653Z"
   },
   {
    "duration": 47,
    "start_time": "2023-04-03T06:59:29.684Z"
   },
   {
    "duration": 7,
    "start_time": "2023-04-03T06:59:29.733Z"
   },
   {
    "duration": 243,
    "start_time": "2023-04-03T06:59:29.741Z"
   },
   {
    "duration": 16,
    "start_time": "2023-04-03T06:59:29.986Z"
   },
   {
    "duration": 12,
    "start_time": "2023-04-03T06:59:30.004Z"
   },
   {
    "duration": 109,
    "start_time": "2023-04-03T06:59:30.018Z"
   },
   {
    "duration": 18,
    "start_time": "2023-04-03T06:59:30.129Z"
   },
   {
    "duration": 29,
    "start_time": "2023-04-03T06:59:30.148Z"
   },
   {
    "duration": 27,
    "start_time": "2023-04-03T06:59:30.178Z"
   },
   {
    "duration": 42,
    "start_time": "2023-04-03T06:59:30.207Z"
   },
   {
    "duration": 28,
    "start_time": "2023-04-03T06:59:30.251Z"
   },
   {
    "duration": 29,
    "start_time": "2023-04-03T06:59:30.281Z"
   },
   {
    "duration": 44,
    "start_time": "2023-04-03T06:59:30.312Z"
   },
   {
    "duration": 58,
    "start_time": "2023-04-03T06:59:30.358Z"
   },
   {
    "duration": 43,
    "start_time": "2023-04-03T06:59:30.418Z"
   },
   {
    "duration": 45,
    "start_time": "2023-04-03T06:59:30.462Z"
   },
   {
    "duration": 44,
    "start_time": "2023-04-03T06:59:30.509Z"
   },
   {
    "duration": 47,
    "start_time": "2023-04-03T06:59:30.555Z"
   },
   {
    "duration": 41,
    "start_time": "2023-04-03T06:59:30.604Z"
   },
   {
    "duration": 41,
    "start_time": "2023-04-03T06:59:30.647Z"
   },
   {
    "duration": 42,
    "start_time": "2023-04-03T06:59:30.690Z"
   },
   {
    "duration": 18,
    "start_time": "2023-04-03T06:59:30.734Z"
   },
   {
    "duration": 28,
    "start_time": "2023-04-03T06:59:30.754Z"
   },
   {
    "duration": 44,
    "start_time": "2023-04-03T06:59:30.784Z"
   },
   {
    "duration": 32,
    "start_time": "2023-04-03T06:59:30.831Z"
   },
   {
    "duration": 60,
    "start_time": "2023-04-03T06:59:30.865Z"
   },
   {
    "duration": 1230,
    "start_time": "2023-04-03T07:02:00.534Z"
   },
   {
    "duration": 551,
    "start_time": "2023-04-03T07:02:01.766Z"
   },
   {
    "duration": 12,
    "start_time": "2023-04-03T07:02:02.318Z"
   },
   {
    "duration": 8,
    "start_time": "2023-04-03T07:02:02.332Z"
   },
   {
    "duration": 12,
    "start_time": "2023-04-03T07:02:02.342Z"
   },
   {
    "duration": 21,
    "start_time": "2023-04-03T07:02:02.356Z"
   },
   {
    "duration": 11,
    "start_time": "2023-04-03T07:02:02.379Z"
   },
   {
    "duration": 16,
    "start_time": "2023-04-03T07:02:02.392Z"
   },
   {
    "duration": 68,
    "start_time": "2023-04-03T07:02:02.410Z"
   },
   {
    "duration": 12,
    "start_time": "2023-04-03T07:02:02.480Z"
   },
   {
    "duration": 7,
    "start_time": "2023-04-03T07:02:02.493Z"
   },
   {
    "duration": 35,
    "start_time": "2023-04-03T07:02:02.502Z"
   },
   {
    "duration": 305,
    "start_time": "2023-04-03T07:02:02.539Z"
   },
   {
    "duration": 10,
    "start_time": "2023-04-03T07:02:02.847Z"
   },
   {
    "duration": 18,
    "start_time": "2023-04-03T07:02:02.858Z"
   },
   {
    "duration": 19,
    "start_time": "2023-04-03T07:02:02.877Z"
   },
   {
    "duration": 51,
    "start_time": "2023-04-03T07:02:02.898Z"
   },
   {
    "duration": 39,
    "start_time": "2023-04-03T07:02:02.951Z"
   },
   {
    "duration": 222,
    "start_time": "2023-04-03T07:02:02.992Z"
   },
   {
    "duration": 17,
    "start_time": "2023-04-03T07:02:03.215Z"
   },
   {
    "duration": 12,
    "start_time": "2023-04-03T07:02:03.234Z"
   },
   {
    "duration": 112,
    "start_time": "2023-04-03T07:02:03.248Z"
   },
   {
    "duration": 23,
    "start_time": "2023-04-03T07:02:03.362Z"
   },
   {
    "duration": 15,
    "start_time": "2023-04-03T07:02:03.387Z"
   },
   {
    "duration": 15,
    "start_time": "2023-04-03T07:02:03.403Z"
   },
   {
    "duration": 7,
    "start_time": "2023-04-03T07:02:03.420Z"
   },
   {
    "duration": 8,
    "start_time": "2023-04-03T07:02:03.428Z"
   },
   {
    "duration": 38,
    "start_time": "2023-04-03T07:02:03.438Z"
   },
   {
    "duration": 10,
    "start_time": "2023-04-03T07:02:03.477Z"
   },
   {
    "duration": 29,
    "start_time": "2023-04-03T07:02:03.489Z"
   },
   {
    "duration": 28,
    "start_time": "2023-04-03T07:02:03.521Z"
   },
   {
    "duration": 10,
    "start_time": "2023-04-03T07:02:03.551Z"
   },
   {
    "duration": 18,
    "start_time": "2023-04-03T07:02:03.562Z"
   },
   {
    "duration": 6,
    "start_time": "2023-04-03T07:02:03.582Z"
   },
   {
    "duration": 11,
    "start_time": "2023-04-03T07:02:03.589Z"
   },
   {
    "duration": 19,
    "start_time": "2023-04-03T07:02:06.175Z"
   },
   {
    "duration": 102,
    "start_time": "2023-04-03T07:03:18.433Z"
   },
   {
    "duration": 10,
    "start_time": "2023-04-03T07:03:40.833Z"
   },
   {
    "duration": 25,
    "start_time": "2023-04-03T07:03:47.542Z"
   },
   {
    "duration": 9,
    "start_time": "2023-04-03T07:03:57.288Z"
   },
   {
    "duration": 10,
    "start_time": "2023-04-03T07:04:03.046Z"
   },
   {
    "duration": 22,
    "start_time": "2023-04-03T07:04:49.018Z"
   },
   {
    "duration": 92,
    "start_time": "2023-04-03T07:05:27.272Z"
   },
   {
    "duration": 1248,
    "start_time": "2023-04-03T07:05:43.089Z"
   },
   {
    "duration": 584,
    "start_time": "2023-04-03T07:05:44.339Z"
   },
   {
    "duration": 11,
    "start_time": "2023-04-03T07:05:44.925Z"
   },
   {
    "duration": 8,
    "start_time": "2023-04-03T07:05:44.938Z"
   },
   {
    "duration": 16,
    "start_time": "2023-04-03T07:05:44.947Z"
   },
   {
    "duration": 14,
    "start_time": "2023-04-03T07:05:44.964Z"
   },
   {
    "duration": 19,
    "start_time": "2023-04-03T07:05:44.979Z"
   },
   {
    "duration": 52,
    "start_time": "2023-04-03T07:05:45.000Z"
   },
   {
    "duration": 70,
    "start_time": "2023-04-03T07:05:45.054Z"
   },
   {
    "duration": 11,
    "start_time": "2023-04-03T07:05:45.128Z"
   },
   {
    "duration": 7,
    "start_time": "2023-04-03T07:05:45.141Z"
   },
   {
    "duration": 50,
    "start_time": "2023-04-03T07:05:45.150Z"
   },
   {
    "duration": 302,
    "start_time": "2023-04-03T07:05:45.202Z"
   },
   {
    "duration": 11,
    "start_time": "2023-04-03T07:05:45.506Z"
   },
   {
    "duration": 20,
    "start_time": "2023-04-03T07:05:45.518Z"
   },
   {
    "duration": 34,
    "start_time": "2023-04-03T07:05:45.540Z"
   },
   {
    "duration": 51,
    "start_time": "2023-04-03T07:05:45.576Z"
   },
   {
    "duration": 7,
    "start_time": "2023-04-03T07:05:45.629Z"
   },
   {
    "duration": 234,
    "start_time": "2023-04-03T07:05:45.638Z"
   },
   {
    "duration": 17,
    "start_time": "2023-04-03T07:05:45.873Z"
   },
   {
    "duration": 11,
    "start_time": "2023-04-03T07:05:45.892Z"
   },
   {
    "duration": 115,
    "start_time": "2023-04-03T07:05:45.904Z"
   },
   {
    "duration": 20,
    "start_time": "2023-04-03T07:05:46.021Z"
   },
   {
    "duration": 15,
    "start_time": "2023-04-03T07:05:46.043Z"
   },
   {
    "duration": 28,
    "start_time": "2023-04-03T07:05:46.060Z"
   },
   {
    "duration": 20,
    "start_time": "2023-04-03T07:05:46.089Z"
   },
   {
    "duration": 23,
    "start_time": "2023-04-03T07:05:46.111Z"
   },
   {
    "duration": 16,
    "start_time": "2023-04-03T07:05:46.138Z"
   },
   {
    "duration": 14,
    "start_time": "2023-04-03T07:05:46.156Z"
   },
   {
    "duration": 25,
    "start_time": "2023-04-03T07:05:46.172Z"
   },
   {
    "duration": 25,
    "start_time": "2023-04-03T07:05:46.199Z"
   },
   {
    "duration": 9,
    "start_time": "2023-04-03T07:05:46.226Z"
   },
   {
    "duration": 7,
    "start_time": "2023-04-03T07:05:46.236Z"
   },
   {
    "duration": 10,
    "start_time": "2023-04-03T07:05:46.244Z"
   },
   {
    "duration": 10,
    "start_time": "2023-04-03T07:05:46.256Z"
   },
   {
    "duration": 32,
    "start_time": "2023-04-03T07:05:46.274Z"
   },
   {
    "duration": 74,
    "start_time": "2023-04-03T07:06:07.470Z"
   },
   {
    "duration": 15,
    "start_time": "2023-04-03T07:06:07.935Z"
   },
   {
    "duration": 71,
    "start_time": "2023-04-03T07:06:25.061Z"
   },
   {
    "duration": 77,
    "start_time": "2023-04-03T07:06:33.969Z"
   },
   {
    "duration": 95,
    "start_time": "2023-04-03T07:06:52.745Z"
   },
   {
    "duration": 93,
    "start_time": "2023-04-03T07:06:56.630Z"
   },
   {
    "duration": 73,
    "start_time": "2023-04-03T07:07:03.322Z"
   },
   {
    "duration": 29,
    "start_time": "2023-04-03T07:07:25.286Z"
   },
   {
    "duration": 17,
    "start_time": "2023-04-03T07:07:28.134Z"
   },
   {
    "duration": 141,
    "start_time": "2023-04-03T07:07:33.934Z"
   },
   {
    "duration": 36,
    "start_time": "2023-04-03T07:07:42.151Z"
   },
   {
    "duration": 25,
    "start_time": "2023-04-03T07:07:58.017Z"
   },
   {
    "duration": 4,
    "start_time": "2023-04-03T07:09:11.934Z"
   },
   {
    "duration": 20,
    "start_time": "2023-04-03T07:09:13.635Z"
   },
   {
    "duration": 5,
    "start_time": "2023-04-03T07:09:31.723Z"
   },
   {
    "duration": 21,
    "start_time": "2023-04-03T07:10:11.182Z"
   },
   {
    "duration": 20,
    "start_time": "2023-04-03T07:10:16.613Z"
   },
   {
    "duration": 6,
    "start_time": "2023-04-03T07:10:19.514Z"
   },
   {
    "duration": 1264,
    "start_time": "2023-04-03T07:10:44.214Z"
   },
   {
    "duration": 592,
    "start_time": "2023-04-03T07:10:45.480Z"
   },
   {
    "duration": 13,
    "start_time": "2023-04-03T07:10:46.074Z"
   },
   {
    "duration": 29,
    "start_time": "2023-04-03T07:10:46.089Z"
   },
   {
    "duration": 16,
    "start_time": "2023-04-03T07:10:46.120Z"
   },
   {
    "duration": 27,
    "start_time": "2023-04-03T07:10:46.138Z"
   },
   {
    "duration": 26,
    "start_time": "2023-04-03T07:10:46.167Z"
   },
   {
    "duration": 22,
    "start_time": "2023-04-03T07:10:46.195Z"
   },
   {
    "duration": 63,
    "start_time": "2023-04-03T07:10:46.220Z"
   },
   {
    "duration": 12,
    "start_time": "2023-04-03T07:10:46.286Z"
   },
   {
    "duration": 24,
    "start_time": "2023-04-03T07:10:46.300Z"
   },
   {
    "duration": 46,
    "start_time": "2023-04-03T07:10:46.326Z"
   },
   {
    "duration": 311,
    "start_time": "2023-04-03T07:10:46.374Z"
   },
   {
    "duration": 11,
    "start_time": "2023-04-03T07:10:46.686Z"
   },
   {
    "duration": 5,
    "start_time": "2023-04-03T07:10:46.698Z"
   },
   {
    "duration": 27,
    "start_time": "2023-04-03T07:10:46.704Z"
   },
   {
    "duration": 63,
    "start_time": "2023-04-03T07:10:46.733Z"
   },
   {
    "duration": 7,
    "start_time": "2023-04-03T07:10:46.797Z"
   },
   {
    "duration": 250,
    "start_time": "2023-04-03T07:10:46.806Z"
   },
   {
    "duration": 23,
    "start_time": "2023-04-03T07:10:47.058Z"
   },
   {
    "duration": 15,
    "start_time": "2023-04-03T07:10:47.082Z"
   },
   {
    "duration": 116,
    "start_time": "2023-04-03T07:10:47.099Z"
   },
   {
    "duration": 29,
    "start_time": "2023-04-03T07:10:47.217Z"
   },
   {
    "duration": 32,
    "start_time": "2023-04-03T07:10:47.248Z"
   },
   {
    "duration": 15,
    "start_time": "2023-04-03T07:10:47.282Z"
   },
   {
    "duration": 8,
    "start_time": "2023-04-03T07:10:47.299Z"
   },
   {
    "duration": 8,
    "start_time": "2023-04-03T07:10:47.309Z"
   },
   {
    "duration": 10,
    "start_time": "2023-04-03T07:10:47.320Z"
   },
   {
    "duration": 8,
    "start_time": "2023-04-03T07:10:47.331Z"
   },
   {
    "duration": 39,
    "start_time": "2023-04-03T07:10:47.340Z"
   },
   {
    "duration": 16,
    "start_time": "2023-04-03T07:10:47.381Z"
   },
   {
    "duration": 9,
    "start_time": "2023-04-03T07:10:47.399Z"
   },
   {
    "duration": 7,
    "start_time": "2023-04-03T07:10:47.409Z"
   },
   {
    "duration": 16,
    "start_time": "2023-04-03T07:10:47.418Z"
   },
   {
    "duration": 8,
    "start_time": "2023-04-03T07:10:47.435Z"
   },
   {
    "duration": 41,
    "start_time": "2023-04-03T07:10:47.445Z"
   },
   {
    "duration": 30,
    "start_time": "2023-04-03T07:10:47.488Z"
   },
   {
    "duration": 4,
    "start_time": "2023-04-03T07:10:47.519Z"
   },
   {
    "duration": 25,
    "start_time": "2023-04-03T07:10:47.524Z"
   },
   {
    "duration": 25,
    "start_time": "2023-04-03T07:10:47.550Z"
   },
   {
    "duration": 23,
    "start_time": "2023-04-03T07:10:47.577Z"
   },
   {
    "duration": 15,
    "start_time": "2023-04-03T07:10:47.602Z"
   },
   {
    "duration": 58,
    "start_time": "2023-04-03T07:10:47.618Z"
   },
   {
    "duration": 22,
    "start_time": "2023-04-03T07:10:47.677Z"
   },
   {
    "duration": 8,
    "start_time": "2023-04-03T07:10:47.700Z"
   },
   {
    "duration": 8,
    "start_time": "2023-04-03T07:10:47.709Z"
   },
   {
    "duration": 10,
    "start_time": "2023-04-03T07:10:47.718Z"
   },
   {
    "duration": 10,
    "start_time": "2023-04-03T07:10:47.730Z"
   },
   {
    "duration": 6,
    "start_time": "2023-04-03T07:10:47.775Z"
   },
   {
    "duration": 32,
    "start_time": "2023-04-03T07:10:47.782Z"
   },
   {
    "duration": 5,
    "start_time": "2023-04-03T07:10:47.816Z"
   },
   {
    "duration": 10,
    "start_time": "2023-04-03T07:10:47.822Z"
   },
   {
    "duration": 6,
    "start_time": "2023-04-03T07:10:47.834Z"
   },
   {
    "duration": 6,
    "start_time": "2023-04-03T07:11:40.521Z"
   },
   {
    "duration": 17,
    "start_time": "2023-04-03T07:11:41.065Z"
   },
   {
    "duration": 18,
    "start_time": "2023-04-03T07:12:16.607Z"
   },
   {
    "duration": 27,
    "start_time": "2023-04-03T07:12:28.719Z"
   },
   {
    "duration": 18,
    "start_time": "2023-04-03T07:12:42.715Z"
   },
   {
    "duration": 22,
    "start_time": "2023-04-03T07:13:52.064Z"
   },
   {
    "duration": 25,
    "start_time": "2023-04-03T07:14:20.921Z"
   },
   {
    "duration": 30,
    "start_time": "2023-04-03T07:14:26.247Z"
   },
   {
    "duration": 18,
    "start_time": "2023-04-03T07:15:21.125Z"
   },
   {
    "duration": 24,
    "start_time": "2023-04-03T07:15:46.256Z"
   },
   {
    "duration": 16,
    "start_time": "2023-04-03T07:15:48.318Z"
   },
   {
    "duration": 1218,
    "start_time": "2023-04-03T07:16:02.742Z"
   },
   {
    "duration": 671,
    "start_time": "2023-04-03T07:16:03.962Z"
   },
   {
    "duration": 13,
    "start_time": "2023-04-03T07:16:04.635Z"
   },
   {
    "duration": 29,
    "start_time": "2023-04-03T07:16:04.651Z"
   },
   {
    "duration": 34,
    "start_time": "2023-04-03T07:16:04.682Z"
   },
   {
    "duration": 18,
    "start_time": "2023-04-03T07:16:04.718Z"
   },
   {
    "duration": 29,
    "start_time": "2023-04-03T07:16:04.738Z"
   },
   {
    "duration": 30,
    "start_time": "2023-04-03T07:16:04.769Z"
   },
   {
    "duration": 81,
    "start_time": "2023-04-03T07:16:04.800Z"
   },
   {
    "duration": 11,
    "start_time": "2023-04-03T07:16:04.884Z"
   },
   {
    "duration": 7,
    "start_time": "2023-04-03T07:16:04.897Z"
   },
   {
    "duration": 33,
    "start_time": "2023-04-03T07:16:04.906Z"
   },
   {
    "duration": 343,
    "start_time": "2023-04-03T07:16:04.941Z"
   },
   {
    "duration": 10,
    "start_time": "2023-04-03T07:16:05.285Z"
   },
   {
    "duration": 15,
    "start_time": "2023-04-03T07:16:05.296Z"
   },
   {
    "duration": 24,
    "start_time": "2023-04-03T07:16:05.312Z"
   },
   {
    "duration": 59,
    "start_time": "2023-04-03T07:16:05.338Z"
   },
   {
    "duration": 9,
    "start_time": "2023-04-03T07:16:05.398Z"
   },
   {
    "duration": 255,
    "start_time": "2023-04-03T07:16:05.409Z"
   },
   {
    "duration": 21,
    "start_time": "2023-04-03T07:16:05.666Z"
   },
   {
    "duration": 61,
    "start_time": "2023-04-03T07:16:05.688Z"
   },
   {
    "duration": 99,
    "start_time": "2023-04-03T07:16:05.751Z"
   },
   {
    "duration": 23,
    "start_time": "2023-04-03T07:16:05.852Z"
   },
   {
    "duration": 15,
    "start_time": "2023-04-03T07:16:05.877Z"
   },
   {
    "duration": 20,
    "start_time": "2023-04-03T07:16:05.894Z"
   },
   {
    "duration": 24,
    "start_time": "2023-04-03T07:16:05.916Z"
   },
   {
    "duration": 13,
    "start_time": "2023-04-03T07:16:05.942Z"
   },
   {
    "duration": 19,
    "start_time": "2023-04-03T07:16:05.960Z"
   },
   {
    "duration": 16,
    "start_time": "2023-04-03T07:16:05.981Z"
   },
   {
    "duration": 31,
    "start_time": "2023-04-03T07:16:05.999Z"
   },
   {
    "duration": 27,
    "start_time": "2023-04-03T07:16:06.032Z"
   },
   {
    "duration": 9,
    "start_time": "2023-04-03T07:16:06.061Z"
   },
   {
    "duration": 9,
    "start_time": "2023-04-03T07:16:06.074Z"
   },
   {
    "duration": 10,
    "start_time": "2023-04-03T07:16:06.085Z"
   },
   {
    "duration": 10,
    "start_time": "2023-04-03T07:16:06.097Z"
   },
   {
    "duration": 16,
    "start_time": "2023-04-03T07:16:06.109Z"
   },
   {
    "duration": 56,
    "start_time": "2023-04-03T07:16:06.126Z"
   },
   {
    "duration": 59,
    "start_time": "2023-04-03T07:16:06.184Z"
   },
   {
    "duration": 82,
    "start_time": "2023-04-03T07:16:06.244Z"
   },
   {
    "duration": 68,
    "start_time": "2023-04-03T07:16:06.328Z"
   },
   {
    "duration": 50,
    "start_time": "2023-04-03T07:16:06.399Z"
   },
   {
    "duration": 18,
    "start_time": "2023-04-03T07:16:06.450Z"
   },
   {
    "duration": 54,
    "start_time": "2023-04-03T07:16:06.469Z"
   },
   {
    "duration": 22,
    "start_time": "2023-04-03T07:16:06.525Z"
   },
   {
    "duration": 9,
    "start_time": "2023-04-03T07:16:06.548Z"
   },
   {
    "duration": 25,
    "start_time": "2023-04-03T07:16:06.558Z"
   },
   {
    "duration": 22,
    "start_time": "2023-04-03T07:16:06.584Z"
   },
   {
    "duration": 24,
    "start_time": "2023-04-03T07:16:06.608Z"
   },
   {
    "duration": 24,
    "start_time": "2023-04-03T07:16:06.633Z"
   },
   {
    "duration": 22,
    "start_time": "2023-04-03T07:16:06.658Z"
   },
   {
    "duration": 20,
    "start_time": "2023-04-03T07:16:50.096Z"
   },
   {
    "duration": 22,
    "start_time": "2023-04-03T07:16:55.558Z"
   },
   {
    "duration": 14,
    "start_time": "2023-04-03T07:17:01.943Z"
   },
   {
    "duration": 46,
    "start_time": "2023-04-03T07:17:10.405Z"
   },
   {
    "duration": 29,
    "start_time": "2023-04-03T07:17:15.847Z"
   },
   {
    "duration": 179,
    "start_time": "2023-04-03T07:20:06.847Z"
   },
   {
    "duration": 179,
    "start_time": "2023-04-03T07:20:17.558Z"
   },
   {
    "duration": 195,
    "start_time": "2023-04-03T07:20:41.950Z"
   },
   {
    "duration": 176,
    "start_time": "2023-04-03T07:20:45.525Z"
   },
   {
    "duration": 200,
    "start_time": "2023-04-03T07:21:05.589Z"
   },
   {
    "duration": 249,
    "start_time": "2023-04-03T07:21:15.461Z"
   },
   {
    "duration": 197,
    "start_time": "2023-04-03T07:21:18.966Z"
   },
   {
    "duration": 312,
    "start_time": "2023-04-03T07:21:24.772Z"
   },
   {
    "duration": 169,
    "start_time": "2023-04-03T07:21:41.956Z"
   },
   {
    "duration": 155,
    "start_time": "2023-04-03T07:21:50.123Z"
   },
   {
    "duration": 122,
    "start_time": "2023-04-03T07:22:32.002Z"
   },
   {
    "duration": 22,
    "start_time": "2023-04-03T07:23:05.552Z"
   },
   {
    "duration": 14,
    "start_time": "2023-04-03T07:23:10.176Z"
   },
   {
    "duration": 170,
    "start_time": "2023-04-03T07:23:15.537Z"
   },
   {
    "duration": 99,
    "start_time": "2023-04-03T07:23:24.720Z"
   },
   {
    "duration": 174,
    "start_time": "2023-04-03T07:23:45.183Z"
   },
   {
    "duration": 158,
    "start_time": "2023-04-03T07:23:55.590Z"
   },
   {
    "duration": 172,
    "start_time": "2023-04-03T07:24:02.918Z"
   },
   {
    "duration": 157,
    "start_time": "2023-04-03T07:24:10.638Z"
   },
   {
    "duration": 103,
    "start_time": "2023-04-03T07:24:27.205Z"
   },
   {
    "duration": 21,
    "start_time": "2023-04-03T07:24:39.165Z"
   },
   {
    "duration": 258,
    "start_time": "2023-04-03T07:24:44.469Z"
   },
   {
    "duration": 154,
    "start_time": "2023-04-03T07:24:53.580Z"
   },
   {
    "duration": 168,
    "start_time": "2023-04-03T07:25:15.109Z"
   },
   {
    "duration": 108,
    "start_time": "2023-04-03T07:25:35.823Z"
   },
   {
    "duration": 12,
    "start_time": "2023-04-03T07:25:50.216Z"
   },
   {
    "duration": 13,
    "start_time": "2023-04-03T07:25:54.386Z"
   },
   {
    "duration": 159,
    "start_time": "2023-04-03T07:25:56.941Z"
   },
   {
    "duration": 98,
    "start_time": "2023-04-03T07:25:58.885Z"
   },
   {
    "duration": 166,
    "start_time": "2023-04-03T07:27:45.790Z"
   },
   {
    "duration": 116,
    "start_time": "2023-04-03T07:28:22.653Z"
   },
   {
    "duration": 189,
    "start_time": "2023-04-03T07:31:41.942Z"
   },
   {
    "duration": 205,
    "start_time": "2023-04-03T07:32:07.363Z"
   },
   {
    "duration": 214,
    "start_time": "2023-04-03T07:32:10.259Z"
   },
   {
    "duration": 322,
    "start_time": "2023-04-03T07:32:23.171Z"
   },
   {
    "duration": 200,
    "start_time": "2023-04-03T07:32:56.209Z"
   },
   {
    "duration": 213,
    "start_time": "2023-04-03T07:33:18.457Z"
   },
   {
    "duration": 346,
    "start_time": "2023-04-03T07:33:30.864Z"
   },
   {
    "duration": 312,
    "start_time": "2023-04-03T07:33:36.992Z"
   },
   {
    "duration": 360,
    "start_time": "2023-04-03T07:34:46.805Z"
   },
   {
    "duration": 227,
    "start_time": "2023-04-03T07:34:54.437Z"
   },
   {
    "duration": 179,
    "start_time": "2023-04-03T07:35:13.181Z"
   },
   {
    "duration": 287,
    "start_time": "2023-04-03T07:35:32.332Z"
   },
   {
    "duration": 253,
    "start_time": "2023-04-03T07:36:33.641Z"
   },
   {
    "duration": 287,
    "start_time": "2023-04-03T07:36:50.280Z"
   },
   {
    "duration": 9,
    "start_time": "2023-04-03T07:37:02.086Z"
   },
   {
    "duration": 198,
    "start_time": "2023-04-03T07:37:39.771Z"
   },
   {
    "duration": 200,
    "start_time": "2023-04-03T07:37:46.877Z"
   },
   {
    "duration": 170,
    "start_time": "2023-04-03T07:38:02.198Z"
   },
   {
    "duration": 85,
    "start_time": "2023-04-03T07:38:14.893Z"
   },
   {
    "duration": 142,
    "start_time": "2023-04-03T07:38:17.044Z"
   },
   {
    "duration": 179,
    "start_time": "2023-04-03T07:38:22.564Z"
   },
   {
    "duration": 166,
    "start_time": "2023-04-03T07:38:37.540Z"
   },
   {
    "duration": 206,
    "start_time": "2023-04-03T07:39:21.634Z"
   },
   {
    "duration": 205,
    "start_time": "2023-04-03T07:39:43.666Z"
   },
   {
    "duration": 23,
    "start_time": "2023-04-03T07:41:01.638Z"
   },
   {
    "duration": 25,
    "start_time": "2023-04-03T07:41:26.469Z"
   },
   {
    "duration": 101,
    "start_time": "2023-04-03T07:41:52.988Z"
   },
   {
    "duration": 15,
    "start_time": "2023-04-03T07:42:00.644Z"
   },
   {
    "duration": 9,
    "start_time": "2023-04-03T07:42:09.700Z"
   },
   {
    "duration": 30,
    "start_time": "2023-04-03T07:42:21.466Z"
   },
   {
    "duration": 11,
    "start_time": "2023-04-03T07:42:22.883Z"
   },
   {
    "duration": 1131,
    "start_time": "2023-04-03T07:42:27.543Z"
   },
   {
    "duration": 288,
    "start_time": "2023-04-03T07:46:19.249Z"
   },
   {
    "duration": 185,
    "start_time": "2023-04-03T07:46:26.928Z"
   },
   {
    "duration": 5,
    "start_time": "2023-04-03T07:46:36.510Z"
   },
   {
    "duration": 183,
    "start_time": "2023-04-03T07:46:38.664Z"
   },
   {
    "duration": 187,
    "start_time": "2023-04-03T07:47:06.310Z"
   },
   {
    "duration": 209,
    "start_time": "2023-04-03T07:47:13.535Z"
   },
   {
    "duration": 182,
    "start_time": "2023-04-03T07:47:16.412Z"
   },
   {
    "duration": 186,
    "start_time": "2023-04-03T07:47:19.919Z"
   },
   {
    "duration": 181,
    "start_time": "2023-04-03T07:47:42.107Z"
   },
   {
    "duration": 195,
    "start_time": "2023-04-03T07:47:59.629Z"
   },
   {
    "duration": 313,
    "start_time": "2023-04-03T07:48:53.116Z"
   },
   {
    "duration": 384,
    "start_time": "2023-04-03T07:48:59.667Z"
   },
   {
    "duration": 272,
    "start_time": "2023-04-03T07:49:22.714Z"
   },
   {
    "duration": 312,
    "start_time": "2023-04-03T07:49:52.320Z"
   },
   {
    "duration": 305,
    "start_time": "2023-04-03T07:50:30.519Z"
   },
   {
    "duration": 334,
    "start_time": "2023-04-03T07:50:40.343Z"
   },
   {
    "duration": 381,
    "start_time": "2023-04-03T07:50:49.409Z"
   },
   {
    "duration": 10,
    "start_time": "2023-04-03T07:51:37.004Z"
   },
   {
    "duration": 25,
    "start_time": "2023-04-03T07:52:26.243Z"
   },
   {
    "duration": 23,
    "start_time": "2023-04-03T07:53:23.632Z"
   },
   {
    "duration": 26,
    "start_time": "2023-04-03T07:53:33.752Z"
   },
   {
    "duration": 20,
    "start_time": "2023-04-03T07:53:42.808Z"
   },
   {
    "duration": 36,
    "start_time": "2023-04-03T07:55:09.517Z"
   },
   {
    "duration": 40,
    "start_time": "2023-04-03T07:55:30.037Z"
   },
   {
    "duration": 14,
    "start_time": "2023-04-03T07:55:33.993Z"
   },
   {
    "duration": 40,
    "start_time": "2023-04-03T07:55:43.827Z"
   },
   {
    "duration": 11,
    "start_time": "2023-04-03T07:56:02.594Z"
   },
   {
    "duration": 676,
    "start_time": "2023-04-03T07:57:56.901Z"
   },
   {
    "duration": 659,
    "start_time": "2023-04-03T07:58:58.627Z"
   },
   {
    "duration": 11,
    "start_time": "2023-04-03T07:59:18.865Z"
   },
   {
    "duration": 39,
    "start_time": "2023-04-03T07:59:23.618Z"
   },
   {
    "duration": 185,
    "start_time": "2023-04-03T07:59:30.137Z"
   },
   {
    "duration": 43,
    "start_time": "2023-04-03T07:59:39.841Z"
   },
   {
    "duration": 39,
    "start_time": "2023-04-03T07:59:43.794Z"
   },
   {
    "duration": 15,
    "start_time": "2023-04-03T08:00:35.144Z"
   },
   {
    "duration": 13,
    "start_time": "2023-04-03T08:01:02.454Z"
   },
   {
    "duration": 37,
    "start_time": "2023-04-03T08:01:09.198Z"
   },
   {
    "duration": 36,
    "start_time": "2023-04-03T08:01:13.933Z"
   },
   {
    "duration": 54,
    "start_time": "2023-04-03T08:01:20.449Z"
   },
   {
    "duration": 194,
    "start_time": "2023-04-03T08:01:29.342Z"
   },
   {
    "duration": 59,
    "start_time": "2023-04-03T08:01:36.260Z"
   },
   {
    "duration": 47,
    "start_time": "2023-04-03T08:01:41.365Z"
   },
   {
    "duration": 46,
    "start_time": "2023-04-03T08:01:59.733Z"
   },
   {
    "duration": 54,
    "start_time": "2023-04-03T08:02:23.754Z"
   },
   {
    "duration": 10,
    "start_time": "2023-04-03T08:02:35.458Z"
   },
   {
    "duration": 8,
    "start_time": "2023-04-03T08:02:58.170Z"
   },
   {
    "duration": 8,
    "start_time": "2023-04-03T08:03:14.464Z"
   },
   {
    "duration": 1352,
    "start_time": "2023-04-03T08:03:23.136Z"
   },
   {
    "duration": 5,
    "start_time": "2023-04-03T08:03:33.816Z"
   },
   {
    "duration": 52,
    "start_time": "2023-04-03T08:03:49.239Z"
   },
   {
    "duration": 39,
    "start_time": "2023-04-03T08:03:55.519Z"
   },
   {
    "duration": 4,
    "start_time": "2023-04-03T08:03:57.542Z"
   },
   {
    "duration": 261,
    "start_time": "2023-04-03T08:03:59.431Z"
   },
   {
    "duration": 8,
    "start_time": "2023-04-03T08:04:05.359Z"
   },
   {
    "duration": 293,
    "start_time": "2023-04-03T08:04:21.966Z"
   },
   {
    "duration": 284,
    "start_time": "2023-04-03T08:04:29.333Z"
   },
   {
    "duration": 315,
    "start_time": "2023-04-03T08:04:33.045Z"
   },
   {
    "duration": 441,
    "start_time": "2023-04-03T08:04:40.518Z"
   },
   {
    "duration": 368,
    "start_time": "2023-04-03T08:06:04.898Z"
   },
   {
    "duration": 334,
    "start_time": "2023-04-03T08:06:09.682Z"
   },
   {
    "duration": 35,
    "start_time": "2023-04-03T08:06:58.724Z"
   },
   {
    "duration": 355,
    "start_time": "2023-04-03T08:07:03.864Z"
   },
   {
    "duration": 8,
    "start_time": "2023-04-03T08:07:17.759Z"
   },
   {
    "duration": 8,
    "start_time": "2023-04-03T08:07:24.318Z"
   },
   {
    "duration": 343,
    "start_time": "2023-04-03T08:08:05.047Z"
   },
   {
    "duration": 361,
    "start_time": "2023-04-03T08:08:18.229Z"
   },
   {
    "duration": 341,
    "start_time": "2023-04-03T08:08:53.282Z"
   },
   {
    "duration": 504,
    "start_time": "2023-04-03T08:09:14.258Z"
   },
   {
    "duration": 360,
    "start_time": "2023-04-03T08:09:40.964Z"
   },
   {
    "duration": 354,
    "start_time": "2023-04-03T08:09:48.345Z"
   },
   {
    "duration": 388,
    "start_time": "2023-04-03T08:09:55.457Z"
   },
   {
    "duration": 333,
    "start_time": "2023-04-03T08:10:02.720Z"
   },
   {
    "duration": 308,
    "start_time": "2023-04-03T08:10:09.305Z"
   },
   {
    "duration": 329,
    "start_time": "2023-04-03T08:10:22.705Z"
   },
   {
    "duration": 16,
    "start_time": "2023-04-03T08:10:42.526Z"
   },
   {
    "duration": 236,
    "start_time": "2023-04-03T08:10:58.623Z"
   },
   {
    "duration": 242,
    "start_time": "2023-04-03T08:11:04.347Z"
   },
   {
    "duration": 518,
    "start_time": "2023-04-03T08:11:23.381Z"
   },
   {
    "duration": 446,
    "start_time": "2023-04-03T08:11:28.197Z"
   },
   {
    "duration": 455,
    "start_time": "2023-04-03T08:11:39.100Z"
   },
   {
    "duration": 456,
    "start_time": "2023-04-03T08:11:53.116Z"
   },
   {
    "duration": 505,
    "start_time": "2023-04-03T08:12:07.084Z"
   },
   {
    "duration": 434,
    "start_time": "2023-04-03T08:12:13.107Z"
   },
   {
    "duration": 447,
    "start_time": "2023-04-03T08:12:22.522Z"
   },
   {
    "duration": 265,
    "start_time": "2023-04-03T08:12:44.002Z"
   },
   {
    "duration": 193,
    "start_time": "2023-04-03T08:12:47.506Z"
   },
   {
    "duration": 199,
    "start_time": "2023-04-03T08:12:53.523Z"
   },
   {
    "duration": 541,
    "start_time": "2023-04-03T08:13:01.818Z"
   },
   {
    "duration": 656,
    "start_time": "2023-04-03T08:13:13.146Z"
   },
   {
    "duration": 588,
    "start_time": "2023-04-03T08:13:33.240Z"
   },
   {
    "duration": 58,
    "start_time": "2023-04-03T08:13:44.294Z"
   },
   {
    "duration": 46,
    "start_time": "2023-04-03T08:13:44.594Z"
   },
   {
    "duration": 612,
    "start_time": "2023-04-03T08:13:45.506Z"
   },
   {
    "duration": 588,
    "start_time": "2023-04-03T08:14:05.288Z"
   },
   {
    "duration": 597,
    "start_time": "2023-04-03T08:14:21.758Z"
   },
   {
    "duration": 92,
    "start_time": "2023-04-03T08:14:31.086Z"
   },
   {
    "duration": 955,
    "start_time": "2023-04-03T08:14:36.653Z"
   },
   {
    "duration": 804,
    "start_time": "2023-04-03T08:14:46.490Z"
   },
   {
    "duration": 840,
    "start_time": "2023-04-03T08:15:02.260Z"
   },
   {
    "duration": 864,
    "start_time": "2023-04-03T08:15:20.916Z"
   },
   {
    "duration": 634,
    "start_time": "2023-04-03T08:15:26.620Z"
   },
   {
    "duration": 16,
    "start_time": "2023-04-03T08:16:11.210Z"
   },
   {
    "duration": 835,
    "start_time": "2023-04-03T08:16:29.017Z"
   },
   {
    "duration": 649,
    "start_time": "2023-04-03T08:18:42.820Z"
   },
   {
    "duration": 686,
    "start_time": "2023-04-03T08:19:00.387Z"
   },
   {
    "duration": 643,
    "start_time": "2023-04-03T08:19:06.589Z"
   },
   {
    "duration": 615,
    "start_time": "2023-04-03T08:19:51.093Z"
   },
   {
    "duration": 598,
    "start_time": "2023-04-03T08:20:02.657Z"
   },
   {
    "duration": 99,
    "start_time": "2023-04-03T08:20:10.297Z"
   },
   {
    "duration": 674,
    "start_time": "2023-04-03T08:20:13.294Z"
   },
   {
    "duration": 1101,
    "start_time": "2023-04-03T08:20:27.345Z"
   },
   {
    "duration": 1735,
    "start_time": "2023-04-03T08:20:47.894Z"
   },
   {
    "duration": 794,
    "start_time": "2023-04-03T08:20:51.283Z"
   },
   {
    "duration": 778,
    "start_time": "2023-04-03T08:20:58.550Z"
   },
   {
    "duration": 802,
    "start_time": "2023-04-03T08:21:04.854Z"
   },
   {
    "duration": 644,
    "start_time": "2023-04-03T08:21:08.126Z"
   },
   {
    "duration": 619,
    "start_time": "2023-04-03T08:21:24.690Z"
   },
   {
    "duration": 12,
    "start_time": "2023-04-03T08:22:01.190Z"
   },
   {
    "duration": 12,
    "start_time": "2023-04-03T08:22:10.068Z"
   },
   {
    "duration": 25,
    "start_time": "2023-04-03T08:24:28.326Z"
   },
   {
    "duration": 433,
    "start_time": "2023-04-03T08:26:54.433Z"
   },
   {
    "duration": 35,
    "start_time": "2023-04-03T08:27:57.997Z"
   },
   {
    "duration": 14,
    "start_time": "2023-04-03T08:27:58.705Z"
   },
   {
    "duration": 34,
    "start_time": "2023-04-03T08:28:05.134Z"
   },
   {
    "duration": 25,
    "start_time": "2023-04-03T08:28:06.761Z"
   },
   {
    "duration": 13,
    "start_time": "2023-04-03T08:28:07.409Z"
   },
   {
    "duration": 14,
    "start_time": "2023-04-03T08:35:05.640Z"
   },
   {
    "duration": 15,
    "start_time": "2023-04-03T08:35:18.438Z"
   },
   {
    "duration": 10,
    "start_time": "2023-04-03T08:43:32.276Z"
   },
   {
    "duration": 7,
    "start_time": "2023-04-03T08:44:29.570Z"
   },
   {
    "duration": 7,
    "start_time": "2023-04-03T08:44:38.230Z"
   },
   {
    "duration": 8,
    "start_time": "2023-04-03T08:44:42.479Z"
   },
   {
    "duration": 295,
    "start_time": "2023-04-03T08:53:56.265Z"
   },
   {
    "duration": 7,
    "start_time": "2023-04-03T08:54:07.104Z"
   },
   {
    "duration": 109,
    "start_time": "2023-04-03T09:30:20.145Z"
   },
   {
    "duration": 9,
    "start_time": "2023-04-03T09:30:25.125Z"
   },
   {
    "duration": 1245,
    "start_time": "2023-04-03T09:30:41.053Z"
   },
   {
    "duration": 14,
    "start_time": "2023-04-03T09:31:33.947Z"
   },
   {
    "duration": 6,
    "start_time": "2023-04-03T09:31:49.827Z"
   },
   {
    "duration": 15,
    "start_time": "2023-04-03T09:31:52.219Z"
   },
   {
    "duration": 5,
    "start_time": "2023-04-03T09:31:57.517Z"
   },
   {
    "duration": 5,
    "start_time": "2023-04-03T09:31:59.378Z"
   },
   {
    "duration": 8,
    "start_time": "2023-04-03T09:33:16.191Z"
   },
   {
    "duration": 6,
    "start_time": "2023-04-03T09:33:19.926Z"
   },
   {
    "duration": 6,
    "start_time": "2023-04-03T09:34:29.518Z"
   },
   {
    "duration": 6,
    "start_time": "2023-04-03T09:34:31.597Z"
   },
   {
    "duration": 7,
    "start_time": "2023-04-03T09:35:21.195Z"
   },
   {
    "duration": 7,
    "start_time": "2023-04-03T09:35:23.417Z"
   },
   {
    "duration": 6,
    "start_time": "2023-04-03T09:36:20.876Z"
   },
   {
    "duration": 6,
    "start_time": "2023-04-03T09:36:36.978Z"
   },
   {
    "duration": 11,
    "start_time": "2023-04-03T09:36:38.824Z"
   },
   {
    "duration": 11,
    "start_time": "2023-04-03T09:36:49.458Z"
   },
   {
    "duration": 79,
    "start_time": "2023-04-03T09:38:46.483Z"
   },
   {
    "duration": 6,
    "start_time": "2023-04-03T09:38:56.698Z"
   },
   {
    "duration": 6,
    "start_time": "2023-04-03T09:39:12.626Z"
   },
   {
    "duration": 12,
    "start_time": "2023-04-03T09:39:14.993Z"
   },
   {
    "duration": 6,
    "start_time": "2023-04-03T09:39:39.474Z"
   },
   {
    "duration": 13,
    "start_time": "2023-04-03T09:39:41.056Z"
   },
   {
    "duration": 6,
    "start_time": "2023-04-03T09:39:59.520Z"
   },
   {
    "duration": 10,
    "start_time": "2023-04-03T09:40:01.416Z"
   },
   {
    "duration": 112,
    "start_time": "2023-04-03T09:41:12.549Z"
   },
   {
    "duration": 8,
    "start_time": "2023-04-03T09:41:19.414Z"
   },
   {
    "duration": 7,
    "start_time": "2023-04-03T09:41:21.286Z"
   },
   {
    "duration": 8,
    "start_time": "2023-04-03T09:41:30.908Z"
   },
   {
    "duration": 1306,
    "start_time": "2023-04-03T09:41:39.892Z"
   },
   {
    "duration": 614,
    "start_time": "2023-04-03T09:41:41.200Z"
   },
   {
    "duration": 13,
    "start_time": "2023-04-03T09:41:41.816Z"
   },
   {
    "duration": 12,
    "start_time": "2023-04-03T09:41:41.831Z"
   },
   {
    "duration": 11,
    "start_time": "2023-04-03T09:41:41.844Z"
   },
   {
    "duration": 19,
    "start_time": "2023-04-03T09:41:41.857Z"
   },
   {
    "duration": 13,
    "start_time": "2023-04-03T09:41:41.878Z"
   },
   {
    "duration": 19,
    "start_time": "2023-04-03T09:41:41.892Z"
   },
   {
    "duration": 77,
    "start_time": "2023-04-03T09:41:41.913Z"
   },
   {
    "duration": 12,
    "start_time": "2023-04-03T09:41:41.993Z"
   },
   {
    "duration": 13,
    "start_time": "2023-04-03T09:41:42.007Z"
   },
   {
    "duration": 34,
    "start_time": "2023-04-03T09:41:42.022Z"
   },
   {
    "duration": 326,
    "start_time": "2023-04-03T09:41:42.058Z"
   },
   {
    "duration": 10,
    "start_time": "2023-04-03T09:41:42.386Z"
   },
   {
    "duration": 8,
    "start_time": "2023-04-03T09:41:42.398Z"
   },
   {
    "duration": 17,
    "start_time": "2023-04-03T09:41:42.407Z"
   },
   {
    "duration": 74,
    "start_time": "2023-04-03T09:41:42.426Z"
   },
   {
    "duration": 8,
    "start_time": "2023-04-03T09:41:42.502Z"
   },
   {
    "duration": 264,
    "start_time": "2023-04-03T09:41:42.511Z"
   },
   {
    "duration": 18,
    "start_time": "2023-04-03T09:41:42.777Z"
   },
   {
    "duration": 17,
    "start_time": "2023-04-03T09:41:42.797Z"
   },
   {
    "duration": 117,
    "start_time": "2023-04-03T09:41:42.816Z"
   },
   {
    "duration": 20,
    "start_time": "2023-04-03T09:41:42.935Z"
   },
   {
    "duration": 23,
    "start_time": "2023-04-03T09:41:42.957Z"
   },
   {
    "duration": 17,
    "start_time": "2023-04-03T09:41:42.981Z"
   },
   {
    "duration": 19,
    "start_time": "2023-04-03T09:41:43.000Z"
   },
   {
    "duration": 20,
    "start_time": "2023-04-03T09:41:43.021Z"
   },
   {
    "duration": 10,
    "start_time": "2023-04-03T09:41:43.046Z"
   },
   {
    "duration": 17,
    "start_time": "2023-04-03T09:41:43.058Z"
   },
   {
    "duration": 27,
    "start_time": "2023-04-03T09:41:43.077Z"
   },
   {
    "duration": 25,
    "start_time": "2023-04-03T09:41:43.105Z"
   },
   {
    "duration": 17,
    "start_time": "2023-04-03T09:41:43.132Z"
   },
   {
    "duration": 24,
    "start_time": "2023-04-03T09:41:43.150Z"
   },
   {
    "duration": 11,
    "start_time": "2023-04-03T09:41:43.177Z"
   },
   {
    "duration": 46,
    "start_time": "2023-04-03T09:41:43.189Z"
   },
   {
    "duration": 51,
    "start_time": "2023-04-03T09:41:43.237Z"
   },
   {
    "duration": 38,
    "start_time": "2023-04-03T09:41:43.290Z"
   },
   {
    "duration": 5,
    "start_time": "2023-04-03T09:41:43.330Z"
   },
   {
    "duration": 28,
    "start_time": "2023-04-03T09:41:43.337Z"
   },
   {
    "duration": 8,
    "start_time": "2023-04-03T09:41:43.374Z"
   },
   {
    "duration": 46,
    "start_time": "2023-04-03T09:41:43.383Z"
   },
   {
    "duration": 19,
    "start_time": "2023-04-03T09:41:43.430Z"
   },
   {
    "duration": 44,
    "start_time": "2023-04-03T09:41:43.450Z"
   },
   {
    "duration": 22,
    "start_time": "2023-04-03T09:41:43.495Z"
   },
   {
    "duration": 8,
    "start_time": "2023-04-03T09:41:43.519Z"
   },
   {
    "duration": 10,
    "start_time": "2023-04-03T09:41:43.528Z"
   },
   {
    "duration": 13,
    "start_time": "2023-04-03T09:41:43.539Z"
   },
   {
    "duration": 34,
    "start_time": "2023-04-03T09:41:43.553Z"
   },
   {
    "duration": 21,
    "start_time": "2023-04-03T09:41:43.588Z"
   },
   {
    "duration": 13,
    "start_time": "2023-04-03T09:41:43.610Z"
   },
   {
    "duration": 194,
    "start_time": "2023-04-03T09:41:43.625Z"
   },
   {
    "duration": 14,
    "start_time": "2023-04-03T09:41:43.821Z"
   },
   {
    "duration": 13,
    "start_time": "2023-04-03T09:41:43.836Z"
   },
   {
    "duration": 190,
    "start_time": "2023-04-03T09:41:43.850Z"
   },
   {
    "duration": 377,
    "start_time": "2023-04-03T09:41:44.043Z"
   },
   {
    "duration": 204,
    "start_time": "2023-04-03T09:41:44.422Z"
   },
   {
    "duration": 52,
    "start_time": "2023-04-03T09:41:44.628Z"
   },
   {
    "duration": 40,
    "start_time": "2023-04-03T09:41:44.682Z"
   },
   {
    "duration": 1002,
    "start_time": "2023-04-03T09:41:44.724Z"
   },
   {
    "duration": 0,
    "start_time": "2023-04-03T09:41:45.728Z"
   },
   {
    "duration": 0,
    "start_time": "2023-04-03T09:41:45.729Z"
   },
   {
    "duration": 0,
    "start_time": "2023-04-03T09:41:45.730Z"
   },
   {
    "duration": 0,
    "start_time": "2023-04-03T09:41:45.731Z"
   },
   {
    "duration": 0,
    "start_time": "2023-04-03T09:41:45.732Z"
   },
   {
    "duration": 0,
    "start_time": "2023-04-03T09:41:45.733Z"
   },
   {
    "duration": 0,
    "start_time": "2023-04-03T09:41:45.734Z"
   },
   {
    "duration": 42,
    "start_time": "2023-04-03T09:41:59.385Z"
   },
   {
    "duration": 595,
    "start_time": "2023-04-03T09:41:59.429Z"
   },
   {
    "duration": 24,
    "start_time": "2023-04-03T09:42:00.026Z"
   },
   {
    "duration": 157,
    "start_time": "2023-04-03T09:42:00.052Z"
   },
   {
    "duration": 9,
    "start_time": "2023-04-03T09:42:00.211Z"
   },
   {
    "duration": 25,
    "start_time": "2023-04-03T09:42:00.221Z"
   },
   {
    "duration": 37,
    "start_time": "2023-04-03T09:42:00.247Z"
   },
   {
    "duration": 38,
    "start_time": "2023-04-03T09:42:00.285Z"
   },
   {
    "duration": 48,
    "start_time": "2023-04-03T09:42:00.324Z"
   },
   {
    "duration": 12,
    "start_time": "2023-04-03T09:42:55.041Z"
   },
   {
    "duration": 6,
    "start_time": "2023-04-03T09:44:34.110Z"
   },
   {
    "duration": 13,
    "start_time": "2023-04-03T09:44:36.057Z"
   },
   {
    "duration": 6,
    "start_time": "2023-04-03T09:44:42.672Z"
   },
   {
    "duration": 17,
    "start_time": "2023-04-03T09:44:44.092Z"
   },
   {
    "duration": 5,
    "start_time": "2023-04-03T09:45:13.429Z"
   },
   {
    "duration": 11,
    "start_time": "2023-04-03T09:45:15.093Z"
   },
   {
    "duration": 6,
    "start_time": "2023-04-03T09:45:41.677Z"
   },
   {
    "duration": 7,
    "start_time": "2023-04-03T09:45:43.778Z"
   },
   {
    "duration": 15,
    "start_time": "2023-04-03T09:46:02.377Z"
   },
   {
    "duration": 13,
    "start_time": "2023-04-03T09:51:40.502Z"
   },
   {
    "duration": 12,
    "start_time": "2023-04-03T09:51:48.749Z"
   },
   {
    "duration": 13,
    "start_time": "2023-04-03T09:51:56.180Z"
   },
   {
    "duration": 6,
    "start_time": "2023-04-03T09:58:04.881Z"
   },
   {
    "duration": 6,
    "start_time": "2023-04-03T09:58:06.781Z"
   },
   {
    "duration": 12,
    "start_time": "2023-04-03T09:58:07.202Z"
   },
   {
    "duration": 5,
    "start_time": "2023-04-03T09:58:16.318Z"
   },
   {
    "duration": 10,
    "start_time": "2023-04-03T09:58:18.605Z"
   },
   {
    "duration": 9,
    "start_time": "2023-04-03T09:59:31.866Z"
   },
   {
    "duration": 7,
    "start_time": "2023-04-03T09:59:32.278Z"
   },
   {
    "duration": 7,
    "start_time": "2023-04-03T09:59:32.608Z"
   },
   {
    "duration": 5,
    "start_time": "2023-04-03T09:59:33.152Z"
   },
   {
    "duration": 10,
    "start_time": "2023-04-03T09:59:34.790Z"
   },
   {
    "duration": 19,
    "start_time": "2023-04-03T10:19:55.237Z"
   },
   {
    "duration": 14,
    "start_time": "2023-04-03T10:21:48.585Z"
   },
   {
    "duration": 14,
    "start_time": "2023-04-03T10:21:54.825Z"
   },
   {
    "duration": 12,
    "start_time": "2023-04-03T10:25:44.501Z"
   },
   {
    "duration": 14,
    "start_time": "2023-04-03T10:26:36.602Z"
   },
   {
    "duration": 11,
    "start_time": "2023-04-03T10:27:05.405Z"
   },
   {
    "duration": 4552,
    "start_time": "2023-04-03T14:36:22.076Z"
   },
   {
    "duration": 2190,
    "start_time": "2023-04-03T14:36:26.630Z"
   },
   {
    "duration": 21,
    "start_time": "2023-04-03T14:36:28.821Z"
   },
   {
    "duration": 8,
    "start_time": "2023-04-03T14:36:28.844Z"
   },
   {
    "duration": 14,
    "start_time": "2023-04-03T14:36:28.854Z"
   },
   {
    "duration": 10,
    "start_time": "2023-04-03T14:36:28.870Z"
   },
   {
    "duration": 16,
    "start_time": "2023-04-03T14:36:28.881Z"
   },
   {
    "duration": 24,
    "start_time": "2023-04-03T14:36:28.900Z"
   },
   {
    "duration": 83,
    "start_time": "2023-04-03T14:36:28.926Z"
   },
   {
    "duration": 13,
    "start_time": "2023-04-03T14:36:29.010Z"
   },
   {
    "duration": 25,
    "start_time": "2023-04-03T14:36:29.025Z"
   },
   {
    "duration": 35,
    "start_time": "2023-04-03T14:36:29.051Z"
   },
   {
    "duration": 366,
    "start_time": "2023-04-03T14:36:29.089Z"
   },
   {
    "duration": 9,
    "start_time": "2023-04-03T14:36:29.458Z"
   },
   {
    "duration": 7,
    "start_time": "2023-04-03T14:36:29.469Z"
   },
   {
    "duration": 39,
    "start_time": "2023-04-03T14:36:29.478Z"
   },
   {
    "duration": 63,
    "start_time": "2023-04-03T14:36:29.519Z"
   },
   {
    "duration": 11,
    "start_time": "2023-04-03T14:36:29.584Z"
   },
   {
    "duration": 244,
    "start_time": "2023-04-03T14:36:29.597Z"
   },
   {
    "duration": 27,
    "start_time": "2023-04-03T14:36:29.843Z"
   },
   {
    "duration": 35,
    "start_time": "2023-04-03T14:36:29.873Z"
   },
   {
    "duration": 116,
    "start_time": "2023-04-03T14:36:29.910Z"
   },
   {
    "duration": 21,
    "start_time": "2023-04-03T14:36:30.029Z"
   },
   {
    "duration": 35,
    "start_time": "2023-04-03T14:36:30.052Z"
   },
   {
    "duration": 28,
    "start_time": "2023-04-03T14:36:30.088Z"
   },
   {
    "duration": 32,
    "start_time": "2023-04-03T14:36:30.118Z"
   },
   {
    "duration": 25,
    "start_time": "2023-04-03T14:36:30.151Z"
   },
   {
    "duration": 24,
    "start_time": "2023-04-03T14:36:30.177Z"
   },
   {
    "duration": 27,
    "start_time": "2023-04-03T14:36:30.202Z"
   },
   {
    "duration": 19,
    "start_time": "2023-04-03T14:36:30.232Z"
   },
   {
    "duration": 18,
    "start_time": "2023-04-03T14:36:30.253Z"
   },
   {
    "duration": 24,
    "start_time": "2023-04-03T14:36:30.273Z"
   },
   {
    "duration": 33,
    "start_time": "2023-04-03T14:36:30.299Z"
   },
   {
    "duration": 42,
    "start_time": "2023-04-03T14:36:30.334Z"
   },
   {
    "duration": 37,
    "start_time": "2023-04-03T14:36:30.377Z"
   },
   {
    "duration": 41,
    "start_time": "2023-04-03T14:36:30.416Z"
   },
   {
    "duration": 57,
    "start_time": "2023-04-03T14:36:30.458Z"
   },
   {
    "duration": 4,
    "start_time": "2023-04-03T14:36:30.517Z"
   },
   {
    "duration": 99,
    "start_time": "2023-04-03T14:36:30.523Z"
   },
   {
    "duration": 37,
    "start_time": "2023-04-03T14:36:30.624Z"
   },
   {
    "duration": 65,
    "start_time": "2023-04-03T14:36:30.666Z"
   },
   {
    "duration": 37,
    "start_time": "2023-04-03T14:36:30.733Z"
   },
   {
    "duration": 76,
    "start_time": "2023-04-03T14:36:30.772Z"
   },
   {
    "duration": 35,
    "start_time": "2023-04-03T14:36:30.850Z"
   },
   {
    "duration": 18,
    "start_time": "2023-04-03T14:36:30.887Z"
   },
   {
    "duration": 39,
    "start_time": "2023-04-03T14:36:30.908Z"
   },
   {
    "duration": 26,
    "start_time": "2023-04-03T14:36:30.950Z"
   },
   {
    "duration": 23,
    "start_time": "2023-04-03T14:36:30.978Z"
   },
   {
    "duration": 52,
    "start_time": "2023-04-03T14:36:31.003Z"
   },
   {
    "duration": 39,
    "start_time": "2023-04-03T14:36:31.057Z"
   },
   {
    "duration": 217,
    "start_time": "2023-04-03T14:36:31.098Z"
   },
   {
    "duration": 13,
    "start_time": "2023-04-03T14:36:31.317Z"
   },
   {
    "duration": 67,
    "start_time": "2023-04-03T14:36:31.332Z"
   },
   {
    "duration": 181,
    "start_time": "2023-04-03T14:36:31.401Z"
   },
   {
    "duration": 334,
    "start_time": "2023-04-03T14:36:31.585Z"
   },
   {
    "duration": 234,
    "start_time": "2023-04-03T14:36:31.920Z"
   },
   {
    "duration": 9,
    "start_time": "2023-04-03T14:36:32.155Z"
   },
   {
    "duration": 40,
    "start_time": "2023-04-03T14:36:32.166Z"
   },
   {
    "duration": 52,
    "start_time": "2023-04-03T14:36:32.208Z"
   },
   {
    "duration": 692,
    "start_time": "2023-04-03T14:36:32.262Z"
   },
   {
    "duration": 23,
    "start_time": "2023-04-03T14:36:32.956Z"
   },
   {
    "duration": 299,
    "start_time": "2023-04-03T14:36:32.981Z"
   },
   {
    "duration": 8,
    "start_time": "2023-04-03T14:36:33.282Z"
   },
   {
    "duration": 9,
    "start_time": "2023-04-03T14:36:33.292Z"
   },
   {
    "duration": 12,
    "start_time": "2023-04-03T14:36:33.303Z"
   },
   {
    "duration": 36,
    "start_time": "2023-04-03T14:36:33.317Z"
   },
   {
    "duration": 62,
    "start_time": "2023-04-03T14:36:33.355Z"
   },
   {
    "duration": 240,
    "start_time": "2023-04-03T14:36:52.106Z"
   },
   {
    "duration": 244,
    "start_time": "2023-04-03T14:36:56.593Z"
   },
   {
    "duration": 243,
    "start_time": "2023-04-03T14:37:22.030Z"
   },
   {
    "duration": 225,
    "start_time": "2023-04-03T14:37:32.124Z"
   },
   {
    "duration": 134,
    "start_time": "2023-04-03T14:50:44.538Z"
   },
   {
    "duration": 13,
    "start_time": "2023-04-03T14:50:50.529Z"
   },
   {
    "duration": 1234,
    "start_time": "2023-04-03T14:50:56.968Z"
   },
   {
    "duration": 506,
    "start_time": "2023-04-03T14:50:58.203Z"
   },
   {
    "duration": 11,
    "start_time": "2023-04-03T14:50:58.710Z"
   },
   {
    "duration": 22,
    "start_time": "2023-04-03T14:50:58.723Z"
   },
   {
    "duration": 29,
    "start_time": "2023-04-03T14:50:58.747Z"
   },
   {
    "duration": 16,
    "start_time": "2023-04-03T14:50:58.777Z"
   },
   {
    "duration": 26,
    "start_time": "2023-04-03T14:50:58.794Z"
   },
   {
    "duration": 30,
    "start_time": "2023-04-03T14:50:58.822Z"
   },
   {
    "duration": 57,
    "start_time": "2023-04-03T14:50:58.854Z"
   },
   {
    "duration": 11,
    "start_time": "2023-04-03T14:50:58.913Z"
   },
   {
    "duration": 14,
    "start_time": "2023-04-03T14:50:58.925Z"
   },
   {
    "duration": 46,
    "start_time": "2023-04-03T14:50:58.941Z"
   },
   {
    "duration": 256,
    "start_time": "2023-04-03T14:50:58.988Z"
   },
   {
    "duration": 9,
    "start_time": "2023-04-03T14:50:59.248Z"
   },
   {
    "duration": 5,
    "start_time": "2023-04-03T14:50:59.258Z"
   },
   {
    "duration": 14,
    "start_time": "2023-04-03T14:50:59.264Z"
   },
   {
    "duration": 50,
    "start_time": "2023-04-03T14:50:59.279Z"
   },
   {
    "duration": 21,
    "start_time": "2023-04-03T14:50:59.331Z"
   },
   {
    "duration": 199,
    "start_time": "2023-04-03T14:50:59.353Z"
   },
   {
    "duration": 19,
    "start_time": "2023-04-03T14:50:59.553Z"
   },
   {
    "duration": 14,
    "start_time": "2023-04-03T14:50:59.574Z"
   },
   {
    "duration": 112,
    "start_time": "2023-04-03T14:50:59.590Z"
   },
   {
    "duration": 19,
    "start_time": "2023-04-03T14:50:59.704Z"
   },
   {
    "duration": 25,
    "start_time": "2023-04-03T14:50:59.724Z"
   },
   {
    "duration": 22,
    "start_time": "2023-04-03T14:50:59.750Z"
   },
   {
    "duration": 26,
    "start_time": "2023-04-03T14:50:59.773Z"
   },
   {
    "duration": 36,
    "start_time": "2023-04-03T14:50:59.801Z"
   },
   {
    "duration": 8,
    "start_time": "2023-04-03T14:50:59.842Z"
   },
   {
    "duration": 12,
    "start_time": "2023-04-03T14:50:59.852Z"
   },
   {
    "duration": 19,
    "start_time": "2023-04-03T14:50:59.866Z"
   },
   {
    "duration": 22,
    "start_time": "2023-04-03T14:50:59.887Z"
   },
   {
    "duration": 9,
    "start_time": "2023-04-03T14:50:59.910Z"
   },
   {
    "duration": 7,
    "start_time": "2023-04-03T14:50:59.920Z"
   },
   {
    "duration": 4,
    "start_time": "2023-04-03T14:50:59.929Z"
   },
   {
    "duration": 19,
    "start_time": "2023-04-03T14:50:59.935Z"
   },
   {
    "duration": 16,
    "start_time": "2023-04-03T14:50:59.955Z"
   },
   {
    "duration": 22,
    "start_time": "2023-04-03T14:50:59.972Z"
   },
   {
    "duration": 4,
    "start_time": "2023-04-03T14:50:59.996Z"
   },
   {
    "duration": 44,
    "start_time": "2023-04-03T14:51:00.001Z"
   },
   {
    "duration": 29,
    "start_time": "2023-04-03T14:51:00.047Z"
   },
   {
    "duration": 50,
    "start_time": "2023-04-03T14:51:00.078Z"
   },
   {
    "duration": 35,
    "start_time": "2023-04-03T14:51:00.129Z"
   },
   {
    "duration": 41,
    "start_time": "2023-04-03T14:51:00.166Z"
   },
   {
    "duration": 24,
    "start_time": "2023-04-03T14:51:00.209Z"
   },
   {
    "duration": 9,
    "start_time": "2023-04-03T14:51:00.234Z"
   },
   {
    "duration": 38,
    "start_time": "2023-04-03T14:51:00.249Z"
   },
   {
    "duration": 87,
    "start_time": "2023-04-03T14:51:00.289Z"
   },
   {
    "duration": 45,
    "start_time": "2023-04-03T14:51:00.378Z"
   },
   {
    "duration": 49,
    "start_time": "2023-04-03T14:51:00.424Z"
   },
   {
    "duration": 34,
    "start_time": "2023-04-03T14:51:00.475Z"
   },
   {
    "duration": 274,
    "start_time": "2023-04-03T14:51:00.511Z"
   },
   {
    "duration": 12,
    "start_time": "2023-04-03T14:51:00.787Z"
   },
   {
    "duration": 41,
    "start_time": "2023-04-03T14:51:00.800Z"
   },
   {
    "duration": 272,
    "start_time": "2023-04-03T14:51:00.842Z"
   },
   {
    "duration": 265,
    "start_time": "2023-04-03T14:51:01.116Z"
   },
   {
    "duration": 180,
    "start_time": "2023-04-03T14:51:01.383Z"
   },
   {
    "duration": 9,
    "start_time": "2023-04-03T14:51:01.565Z"
   },
   {
    "duration": 125,
    "start_time": "2023-04-03T14:51:01.576Z"
   },
   {
    "duration": 32,
    "start_time": "2023-04-03T14:51:01.703Z"
   },
   {
    "duration": 613,
    "start_time": "2023-04-03T14:51:01.736Z"
   },
   {
    "duration": 22,
    "start_time": "2023-04-03T14:51:02.351Z"
   },
   {
    "duration": 207,
    "start_time": "2023-04-03T14:51:02.374Z"
   },
   {
    "duration": 8,
    "start_time": "2023-04-03T14:51:02.583Z"
   },
   {
    "duration": 45,
    "start_time": "2023-04-03T14:51:02.592Z"
   },
   {
    "duration": 31,
    "start_time": "2023-04-03T14:51:02.639Z"
   },
   {
    "duration": 39,
    "start_time": "2023-04-03T14:51:02.671Z"
   },
   {
    "duration": 19,
    "start_time": "2023-04-03T14:51:02.711Z"
   },
   {
    "duration": 4,
    "start_time": "2023-04-03T15:46:01.128Z"
   },
   {
    "duration": 9,
    "start_time": "2023-04-03T15:46:07.445Z"
   },
   {
    "duration": 9,
    "start_time": "2023-04-03T15:46:13.524Z"
   },
   {
    "duration": 43,
    "start_time": "2023-04-03T15:46:16.983Z"
   },
   {
    "duration": 12,
    "start_time": "2023-04-03T15:46:21.386Z"
   },
   {
    "duration": 3,
    "start_time": "2023-04-03T15:46:28.155Z"
   },
   {
    "duration": 10,
    "start_time": "2023-04-03T15:46:41.939Z"
   },
   {
    "duration": 1070,
    "start_time": "2023-04-03T15:46:51.411Z"
   },
   {
    "duration": 466,
    "start_time": "2023-04-03T15:46:52.483Z"
   },
   {
    "duration": 11,
    "start_time": "2023-04-03T15:46:52.951Z"
   },
   {
    "duration": 9,
    "start_time": "2023-04-03T15:46:52.964Z"
   },
   {
    "duration": 13,
    "start_time": "2023-04-03T15:46:52.975Z"
   },
   {
    "duration": 8,
    "start_time": "2023-04-03T15:46:52.990Z"
   },
   {
    "duration": 12,
    "start_time": "2023-04-03T15:46:52.999Z"
   },
   {
    "duration": 20,
    "start_time": "2023-04-03T15:46:53.012Z"
   },
   {
    "duration": 82,
    "start_time": "2023-04-03T15:46:53.034Z"
   },
   {
    "duration": 10,
    "start_time": "2023-04-03T15:46:53.119Z"
   },
   {
    "duration": 18,
    "start_time": "2023-04-03T15:46:53.130Z"
   },
   {
    "duration": 33,
    "start_time": "2023-04-03T15:46:53.149Z"
   },
   {
    "duration": 223,
    "start_time": "2023-04-03T15:46:53.184Z"
   },
   {
    "duration": 10,
    "start_time": "2023-04-03T15:46:53.409Z"
   },
   {
    "duration": 4,
    "start_time": "2023-04-03T15:46:53.421Z"
   },
   {
    "duration": 25,
    "start_time": "2023-04-03T15:46:53.427Z"
   },
   {
    "duration": 43,
    "start_time": "2023-04-03T15:46:53.453Z"
   },
   {
    "duration": 8,
    "start_time": "2023-04-03T15:46:53.497Z"
   },
   {
    "duration": 173,
    "start_time": "2023-04-03T15:46:53.506Z"
   },
   {
    "duration": 14,
    "start_time": "2023-04-03T15:46:53.681Z"
   },
   {
    "duration": 16,
    "start_time": "2023-04-03T15:46:53.696Z"
   },
   {
    "duration": 94,
    "start_time": "2023-04-03T15:46:53.713Z"
   },
   {
    "duration": 18,
    "start_time": "2023-04-03T15:46:53.808Z"
   },
   {
    "duration": 22,
    "start_time": "2023-04-03T15:46:53.827Z"
   },
   {
    "duration": 13,
    "start_time": "2023-04-03T15:46:53.851Z"
   },
   {
    "duration": 10,
    "start_time": "2023-04-03T15:46:53.866Z"
   },
   {
    "duration": 6,
    "start_time": "2023-04-03T15:46:53.878Z"
   },
   {
    "duration": 15,
    "start_time": "2023-04-03T15:46:53.888Z"
   },
   {
    "duration": 20,
    "start_time": "2023-04-03T15:46:53.904Z"
   },
   {
    "duration": 7,
    "start_time": "2023-04-03T15:46:53.926Z"
   },
   {
    "duration": 17,
    "start_time": "2023-04-03T15:46:53.935Z"
   },
   {
    "duration": 11,
    "start_time": "2023-04-03T15:46:53.954Z"
   },
   {
    "duration": 9,
    "start_time": "2023-04-03T15:46:53.967Z"
   },
   {
    "duration": 7,
    "start_time": "2023-04-03T15:46:53.977Z"
   },
   {
    "duration": 12,
    "start_time": "2023-04-03T15:46:53.985Z"
   },
   {
    "duration": 10,
    "start_time": "2023-04-03T15:46:53.998Z"
   },
   {
    "duration": 23,
    "start_time": "2023-04-03T15:46:54.009Z"
   },
   {
    "duration": 29,
    "start_time": "2023-04-03T15:46:54.033Z"
   },
   {
    "duration": 3,
    "start_time": "2023-04-03T15:46:54.063Z"
   },
   {
    "duration": 20,
    "start_time": "2023-04-03T15:46:54.067Z"
   },
   {
    "duration": 5,
    "start_time": "2023-04-03T15:46:54.088Z"
   },
   {
    "duration": 23,
    "start_time": "2023-04-03T15:46:54.094Z"
   },
   {
    "duration": 13,
    "start_time": "2023-04-03T15:46:54.118Z"
   },
   {
    "duration": 43,
    "start_time": "2023-04-03T15:46:54.132Z"
   },
   {
    "duration": 16,
    "start_time": "2023-04-03T15:46:54.176Z"
   },
   {
    "duration": 6,
    "start_time": "2023-04-03T15:46:54.193Z"
   },
   {
    "duration": 9,
    "start_time": "2023-04-03T15:46:54.201Z"
   },
   {
    "duration": 15,
    "start_time": "2023-04-03T15:46:54.211Z"
   },
   {
    "duration": 13,
    "start_time": "2023-04-03T15:46:54.227Z"
   },
   {
    "duration": 14,
    "start_time": "2023-04-03T15:46:54.248Z"
   },
   {
    "duration": 9,
    "start_time": "2023-04-03T15:46:54.263Z"
   },
   {
    "duration": 217,
    "start_time": "2023-04-03T15:46:54.273Z"
   },
   {
    "duration": 10,
    "start_time": "2023-04-03T15:46:54.492Z"
   },
   {
    "duration": 15,
    "start_time": "2023-04-03T15:46:54.503Z"
   },
   {
    "duration": 220,
    "start_time": "2023-04-03T15:46:54.519Z"
   },
   {
    "duration": 278,
    "start_time": "2023-04-03T15:46:54.741Z"
   },
   {
    "duration": 162,
    "start_time": "2023-04-03T15:46:55.020Z"
   },
   {
    "duration": 7,
    "start_time": "2023-04-03T15:46:55.183Z"
   },
   {
    "duration": 31,
    "start_time": "2023-04-03T15:46:55.191Z"
   },
   {
    "duration": 45,
    "start_time": "2023-04-03T15:46:55.224Z"
   },
   {
    "duration": 563,
    "start_time": "2023-04-03T15:46:55.270Z"
   },
   {
    "duration": 26,
    "start_time": "2023-04-03T15:46:55.834Z"
   },
   {
    "duration": 138,
    "start_time": "2023-04-03T15:46:55.861Z"
   },
   {
    "duration": 7,
    "start_time": "2023-04-03T15:46:56.000Z"
   },
   {
    "duration": 9,
    "start_time": "2023-04-03T15:46:56.009Z"
   },
   {
    "duration": 6,
    "start_time": "2023-04-03T15:46:56.019Z"
   },
   {
    "duration": 10,
    "start_time": "2023-04-03T15:46:56.026Z"
   },
   {
    "duration": 27,
    "start_time": "2023-04-03T15:46:56.037Z"
   },
   {
    "duration": 19,
    "start_time": "2023-04-03T15:47:12.044Z"
   },
   {
    "duration": 19,
    "start_time": "2023-04-03T15:47:17.756Z"
   },
   {
    "duration": 10,
    "start_time": "2023-04-03T15:47:23.474Z"
   },
   {
    "duration": 8,
    "start_time": "2023-04-03T15:47:31.497Z"
   },
   {
    "duration": 16,
    "start_time": "2023-04-03T15:47:31.993Z"
   },
   {
    "duration": 11,
    "start_time": "2023-04-03T15:47:35.735Z"
   },
   {
    "duration": 9,
    "start_time": "2023-04-03T15:47:36.163Z"
   },
   {
    "duration": 5,
    "start_time": "2023-04-03T15:47:37.466Z"
   },
   {
    "duration": 6,
    "start_time": "2023-04-03T15:47:37.990Z"
   },
   {
    "duration": 1077,
    "start_time": "2023-04-03T15:47:46.697Z"
   },
   {
    "duration": 471,
    "start_time": "2023-04-03T15:47:47.776Z"
   },
   {
    "duration": 10,
    "start_time": "2023-04-03T15:47:48.248Z"
   },
   {
    "duration": 11,
    "start_time": "2023-04-03T15:47:48.260Z"
   },
   {
    "duration": 13,
    "start_time": "2023-04-03T15:47:48.273Z"
   },
   {
    "duration": 9,
    "start_time": "2023-04-03T15:47:48.288Z"
   },
   {
    "duration": 25,
    "start_time": "2023-04-03T15:47:48.298Z"
   },
   {
    "duration": 27,
    "start_time": "2023-04-03T15:47:48.324Z"
   },
   {
    "duration": 62,
    "start_time": "2023-04-03T15:47:48.352Z"
   },
   {
    "duration": 8,
    "start_time": "2023-04-03T15:47:48.417Z"
   },
   {
    "duration": 32,
    "start_time": "2023-04-03T15:47:48.427Z"
   },
   {
    "duration": 34,
    "start_time": "2023-04-03T15:47:48.461Z"
   },
   {
    "duration": 196,
    "start_time": "2023-04-03T15:47:48.497Z"
   },
   {
    "duration": 9,
    "start_time": "2023-04-03T15:47:48.695Z"
   },
   {
    "duration": 13,
    "start_time": "2023-04-03T15:47:48.706Z"
   },
   {
    "duration": 19,
    "start_time": "2023-04-03T15:47:48.721Z"
   },
   {
    "duration": 49,
    "start_time": "2023-04-03T15:47:48.741Z"
   },
   {
    "duration": 7,
    "start_time": "2023-04-03T15:47:48.792Z"
   },
   {
    "duration": 167,
    "start_time": "2023-04-03T15:47:48.800Z"
   },
   {
    "duration": 14,
    "start_time": "2023-04-03T15:47:48.968Z"
   },
   {
    "duration": 17,
    "start_time": "2023-04-03T15:47:48.983Z"
   },
   {
    "duration": 108,
    "start_time": "2023-04-03T15:47:49.002Z"
   },
   {
    "duration": 16,
    "start_time": "2023-04-03T15:47:49.112Z"
   },
   {
    "duration": 20,
    "start_time": "2023-04-03T15:47:49.129Z"
   },
   {
    "duration": 14,
    "start_time": "2023-04-03T15:47:49.150Z"
   },
   {
    "duration": 7,
    "start_time": "2023-04-03T15:47:49.166Z"
   },
   {
    "duration": 8,
    "start_time": "2023-04-03T15:47:49.174Z"
   },
   {
    "duration": 5,
    "start_time": "2023-04-03T15:47:49.185Z"
   },
   {
    "duration": 13,
    "start_time": "2023-04-03T15:47:49.191Z"
   },
   {
    "duration": 8,
    "start_time": "2023-04-03T15:47:49.205Z"
   },
   {
    "duration": 14,
    "start_time": "2023-04-03T15:47:49.214Z"
   },
   {
    "duration": 27,
    "start_time": "2023-04-03T15:47:49.229Z"
   },
   {
    "duration": 15,
    "start_time": "2023-04-03T15:47:49.257Z"
   },
   {
    "duration": 11,
    "start_time": "2023-04-03T15:47:49.273Z"
   },
   {
    "duration": 7,
    "start_time": "2023-04-03T15:47:49.286Z"
   },
   {
    "duration": 8,
    "start_time": "2023-04-03T15:47:49.295Z"
   },
   {
    "duration": 13,
    "start_time": "2023-04-03T15:47:49.305Z"
   },
   {
    "duration": 31,
    "start_time": "2023-04-03T15:47:49.319Z"
   },
   {
    "duration": 3,
    "start_time": "2023-04-03T15:47:49.351Z"
   },
   {
    "duration": 15,
    "start_time": "2023-04-03T15:47:49.356Z"
   },
   {
    "duration": 4,
    "start_time": "2023-04-03T15:47:49.372Z"
   },
   {
    "duration": 21,
    "start_time": "2023-04-03T15:47:49.377Z"
   },
   {
    "duration": 12,
    "start_time": "2023-04-03T15:47:49.400Z"
   },
   {
    "duration": 55,
    "start_time": "2023-04-03T15:47:49.413Z"
   },
   {
    "duration": 16,
    "start_time": "2023-04-03T15:47:49.469Z"
   },
   {
    "duration": 6,
    "start_time": "2023-04-03T15:47:49.487Z"
   },
   {
    "duration": 7,
    "start_time": "2023-04-03T15:47:49.494Z"
   },
   {
    "duration": 8,
    "start_time": "2023-04-03T15:47:49.502Z"
   },
   {
    "duration": 11,
    "start_time": "2023-04-03T15:47:49.511Z"
   },
   {
    "duration": 15,
    "start_time": "2023-04-03T15:47:49.548Z"
   },
   {
    "duration": 9,
    "start_time": "2023-04-03T15:47:49.565Z"
   },
   {
    "duration": 239,
    "start_time": "2023-04-03T15:47:49.575Z"
   },
   {
    "duration": 11,
    "start_time": "2023-04-03T15:47:49.816Z"
   },
   {
    "duration": 10,
    "start_time": "2023-04-03T15:47:49.828Z"
   },
   {
    "duration": 215,
    "start_time": "2023-04-03T15:47:49.848Z"
   },
   {
    "duration": 232,
    "start_time": "2023-04-03T15:47:50.065Z"
   },
   {
    "duration": 152,
    "start_time": "2023-04-03T15:47:50.298Z"
   },
   {
    "duration": 6,
    "start_time": "2023-04-03T15:47:50.452Z"
   },
   {
    "duration": 36,
    "start_time": "2023-04-03T15:47:50.460Z"
   },
   {
    "duration": 25,
    "start_time": "2023-04-03T15:47:50.498Z"
   },
   {
    "duration": 535,
    "start_time": "2023-04-03T15:47:50.525Z"
   },
   {
    "duration": 20,
    "start_time": "2023-04-03T15:47:51.062Z"
   },
   {
    "duration": 148,
    "start_time": "2023-04-03T15:47:51.084Z"
   },
   {
    "duration": 10,
    "start_time": "2023-04-03T15:47:51.234Z"
   },
   {
    "duration": 14,
    "start_time": "2023-04-03T15:47:51.245Z"
   },
   {
    "duration": 8,
    "start_time": "2023-04-03T15:47:51.260Z"
   },
   {
    "duration": 8,
    "start_time": "2023-04-03T15:47:51.270Z"
   },
   {
    "duration": 14,
    "start_time": "2023-04-03T15:47:51.279Z"
   },
   {
    "duration": 31,
    "start_time": "2023-04-03T15:53:19.013Z"
   },
   {
    "duration": 488,
    "start_time": "2023-04-03T15:55:52.992Z"
   },
   {
    "duration": 490,
    "start_time": "2023-04-03T15:56:26.862Z"
   },
   {
    "duration": 781,
    "start_time": "2023-04-03T15:56:43.383Z"
   },
   {
    "duration": 667,
    "start_time": "2023-04-03T15:57:02.361Z"
   },
   {
    "duration": 492,
    "start_time": "2023-04-03T15:57:07.041Z"
   },
   {
    "duration": 564,
    "start_time": "2023-04-03T15:57:59.573Z"
   },
   {
    "duration": 587,
    "start_time": "2023-04-03T15:58:12.145Z"
   },
   {
    "duration": 558,
    "start_time": "2023-04-03T15:58:24.537Z"
   },
   {
    "duration": 499,
    "start_time": "2023-04-03T15:58:53.737Z"
   },
   {
    "duration": 73,
    "start_time": "2023-04-03T15:59:24.050Z"
   },
   {
    "duration": 624,
    "start_time": "2023-04-03T15:59:26.801Z"
   },
   {
    "duration": 5,
    "start_time": "2023-04-03T16:10:36.788Z"
   },
   {
    "duration": 1166,
    "start_time": "2023-04-03T19:57:32.244Z"
   },
   {
    "duration": 1864,
    "start_time": "2023-04-03T19:57:33.412Z"
   },
   {
    "duration": 12,
    "start_time": "2023-04-03T19:57:35.277Z"
   },
   {
    "duration": 13,
    "start_time": "2023-04-03T19:57:35.291Z"
   },
   {
    "duration": 30,
    "start_time": "2023-04-03T19:57:35.306Z"
   },
   {
    "duration": 29,
    "start_time": "2023-04-03T19:57:35.338Z"
   },
   {
    "duration": 29,
    "start_time": "2023-04-03T19:57:35.369Z"
   },
   {
    "duration": 59,
    "start_time": "2023-04-03T19:57:35.400Z"
   },
   {
    "duration": 65,
    "start_time": "2023-04-03T19:57:35.461Z"
   },
   {
    "duration": 11,
    "start_time": "2023-04-03T19:57:35.527Z"
   },
   {
    "duration": 32,
    "start_time": "2023-04-03T19:57:35.539Z"
   },
   {
    "duration": 55,
    "start_time": "2023-04-03T19:57:35.573Z"
   },
   {
    "duration": 215,
    "start_time": "2023-04-03T19:57:35.630Z"
   },
   {
    "duration": 9,
    "start_time": "2023-04-03T19:57:35.849Z"
   },
   {
    "duration": 53,
    "start_time": "2023-04-03T19:57:35.859Z"
   },
   {
    "duration": 18,
    "start_time": "2023-04-03T19:57:35.913Z"
   },
   {
    "duration": 56,
    "start_time": "2023-04-03T19:57:35.933Z"
   },
   {
    "duration": 7,
    "start_time": "2023-04-03T19:57:35.990Z"
   },
   {
    "duration": 197,
    "start_time": "2023-04-03T19:57:35.999Z"
   },
   {
    "duration": 15,
    "start_time": "2023-04-03T19:57:36.197Z"
   },
   {
    "duration": 23,
    "start_time": "2023-04-03T19:57:36.214Z"
   },
   {
    "duration": 105,
    "start_time": "2023-04-03T19:57:36.239Z"
   },
   {
    "duration": 17,
    "start_time": "2023-04-03T19:57:36.346Z"
   },
   {
    "duration": 26,
    "start_time": "2023-04-03T19:57:36.365Z"
   },
   {
    "duration": 38,
    "start_time": "2023-04-03T19:57:36.393Z"
   },
   {
    "duration": 30,
    "start_time": "2023-04-03T19:57:36.433Z"
   },
   {
    "duration": 22,
    "start_time": "2023-04-03T19:57:36.465Z"
   },
   {
    "duration": 14,
    "start_time": "2023-04-03T19:57:36.489Z"
   },
   {
    "duration": 26,
    "start_time": "2023-04-03T19:57:36.505Z"
   },
   {
    "duration": 10,
    "start_time": "2023-04-03T19:57:36.532Z"
   },
   {
    "duration": 26,
    "start_time": "2023-04-03T19:57:36.544Z"
   },
   {
    "duration": 18,
    "start_time": "2023-04-03T19:57:36.573Z"
   },
   {
    "duration": 14,
    "start_time": "2023-04-03T19:57:36.593Z"
   },
   {
    "duration": 13,
    "start_time": "2023-04-03T19:57:36.608Z"
   },
   {
    "duration": 12,
    "start_time": "2023-04-03T19:57:36.623Z"
   },
   {
    "duration": 13,
    "start_time": "2023-04-03T19:57:36.637Z"
   },
   {
    "duration": 14,
    "start_time": "2023-04-03T19:57:36.652Z"
   },
   {
    "duration": 23,
    "start_time": "2023-04-03T19:57:36.668Z"
   },
   {
    "duration": 4,
    "start_time": "2023-04-03T19:57:36.693Z"
   },
   {
    "duration": 16,
    "start_time": "2023-04-03T19:57:36.699Z"
   },
   {
    "duration": 5,
    "start_time": "2023-04-03T19:57:36.719Z"
   },
   {
    "duration": 25,
    "start_time": "2023-04-03T19:57:36.749Z"
   },
   {
    "duration": 17,
    "start_time": "2023-04-03T19:57:36.776Z"
   },
   {
    "duration": 34,
    "start_time": "2023-04-03T19:57:36.794Z"
   },
   {
    "duration": 20,
    "start_time": "2023-04-03T19:57:36.849Z"
   },
   {
    "duration": 7,
    "start_time": "2023-04-03T19:57:36.871Z"
   },
   {
    "duration": 26,
    "start_time": "2023-04-03T19:57:36.880Z"
   },
   {
    "duration": 24,
    "start_time": "2023-04-03T19:57:36.907Z"
   },
   {
    "duration": 13,
    "start_time": "2023-04-03T19:57:36.932Z"
   },
   {
    "duration": 16,
    "start_time": "2023-04-03T19:57:36.947Z"
   },
   {
    "duration": 9,
    "start_time": "2023-04-03T19:57:36.965Z"
   },
   {
    "duration": 246,
    "start_time": "2023-04-03T19:57:36.976Z"
   },
   {
    "duration": 11,
    "start_time": "2023-04-03T19:57:37.224Z"
   },
   {
    "duration": 19,
    "start_time": "2023-04-03T19:57:37.236Z"
   },
   {
    "duration": 226,
    "start_time": "2023-04-03T19:57:37.257Z"
   },
   {
    "duration": 244,
    "start_time": "2023-04-03T19:57:37.484Z"
   },
   {
    "duration": 165,
    "start_time": "2023-04-03T19:57:37.729Z"
   },
   {
    "duration": 7,
    "start_time": "2023-04-03T19:57:37.895Z"
   },
   {
    "duration": 46,
    "start_time": "2023-04-03T19:57:37.903Z"
   },
   {
    "duration": 28,
    "start_time": "2023-04-03T19:57:37.950Z"
   },
   {
    "duration": 610,
    "start_time": "2023-04-03T19:57:37.979Z"
   },
   {
    "duration": 21,
    "start_time": "2023-04-03T19:57:38.590Z"
   },
   {
    "duration": 515,
    "start_time": "2023-04-03T19:57:38.613Z"
   },
   {
    "duration": 7,
    "start_time": "2023-04-03T19:57:39.130Z"
   },
   {
    "duration": 11,
    "start_time": "2023-04-03T19:57:39.139Z"
   },
   {
    "duration": 8,
    "start_time": "2023-04-03T19:57:39.151Z"
   },
   {
    "duration": 6,
    "start_time": "2023-04-03T19:57:39.160Z"
   },
   {
    "duration": 18,
    "start_time": "2023-04-03T19:57:39.167Z"
   },
   {
    "duration": 17,
    "start_time": "2023-04-03T20:07:08.872Z"
   },
   {
    "duration": 6,
    "start_time": "2023-04-03T20:09:35.660Z"
   },
   {
    "duration": 11,
    "start_time": "2023-04-03T20:09:37.317Z"
   },
   {
    "duration": 1480,
    "start_time": "2023-04-04T07:19:18.395Z"
   },
   {
    "duration": 946,
    "start_time": "2023-04-04T07:19:19.877Z"
   },
   {
    "duration": 11,
    "start_time": "2023-04-04T07:19:20.825Z"
   },
   {
    "duration": 7,
    "start_time": "2023-04-04T07:19:20.838Z"
   },
   {
    "duration": 9,
    "start_time": "2023-04-04T07:19:20.846Z"
   },
   {
    "duration": 12,
    "start_time": "2023-04-04T07:19:20.856Z"
   },
   {
    "duration": 19,
    "start_time": "2023-04-04T07:19:20.869Z"
   },
   {
    "duration": 18,
    "start_time": "2023-04-04T07:19:20.889Z"
   },
   {
    "duration": 68,
    "start_time": "2023-04-04T07:19:20.909Z"
   },
   {
    "duration": 10,
    "start_time": "2023-04-04T07:19:20.980Z"
   },
   {
    "duration": 4,
    "start_time": "2023-04-04T07:19:20.992Z"
   },
   {
    "duration": 48,
    "start_time": "2023-04-04T07:19:20.998Z"
   },
   {
    "duration": 251,
    "start_time": "2023-04-04T07:19:21.048Z"
   },
   {
    "duration": 10,
    "start_time": "2023-04-04T07:19:21.300Z"
   },
   {
    "duration": 6,
    "start_time": "2023-04-04T07:19:21.311Z"
   },
   {
    "duration": 49,
    "start_time": "2023-04-04T07:19:21.319Z"
   },
   {
    "duration": 50,
    "start_time": "2023-04-04T07:19:21.369Z"
   },
   {
    "duration": 8,
    "start_time": "2023-04-04T07:19:21.420Z"
   },
   {
    "duration": 212,
    "start_time": "2023-04-04T07:19:21.430Z"
   },
   {
    "duration": 17,
    "start_time": "2023-04-04T07:19:21.644Z"
   },
   {
    "duration": 12,
    "start_time": "2023-04-04T07:19:21.663Z"
   },
   {
    "duration": 115,
    "start_time": "2023-04-04T07:19:21.676Z"
   },
   {
    "duration": 22,
    "start_time": "2023-04-04T07:19:21.793Z"
   },
   {
    "duration": 28,
    "start_time": "2023-04-04T07:19:21.817Z"
   },
   {
    "duration": 15,
    "start_time": "2023-04-04T07:19:21.847Z"
   },
   {
    "duration": 7,
    "start_time": "2023-04-04T07:19:21.864Z"
   },
   {
    "duration": 6,
    "start_time": "2023-04-04T07:19:21.872Z"
   },
   {
    "duration": 6,
    "start_time": "2023-04-04T07:19:21.882Z"
   },
   {
    "duration": 10,
    "start_time": "2023-04-04T07:19:21.889Z"
   },
   {
    "duration": 42,
    "start_time": "2023-04-04T07:19:21.900Z"
   },
   {
    "duration": 16,
    "start_time": "2023-04-04T07:19:21.943Z"
   },
   {
    "duration": 14,
    "start_time": "2023-04-04T07:19:21.961Z"
   },
   {
    "duration": 10,
    "start_time": "2023-04-04T07:19:21.977Z"
   },
   {
    "duration": 6,
    "start_time": "2023-04-04T07:19:21.989Z"
   },
   {
    "duration": 4,
    "start_time": "2023-04-04T07:19:21.997Z"
   },
   {
    "duration": 40,
    "start_time": "2023-04-04T07:19:22.002Z"
   },
   {
    "duration": 16,
    "start_time": "2023-04-04T07:19:22.043Z"
   },
   {
    "duration": 27,
    "start_time": "2023-04-04T07:19:22.060Z"
   },
   {
    "duration": 4,
    "start_time": "2023-04-04T07:19:22.089Z"
   },
   {
    "duration": 19,
    "start_time": "2023-04-04T07:19:22.094Z"
   },
   {
    "duration": 29,
    "start_time": "2023-04-04T07:19:22.115Z"
   },
   {
    "duration": 23,
    "start_time": "2023-04-04T07:19:22.145Z"
   },
   {
    "duration": 15,
    "start_time": "2023-04-04T07:19:22.170Z"
   },
   {
    "duration": 54,
    "start_time": "2023-04-04T07:19:22.187Z"
   },
   {
    "duration": 21,
    "start_time": "2023-04-04T07:19:22.242Z"
   },
   {
    "duration": 7,
    "start_time": "2023-04-04T07:19:22.264Z"
   },
   {
    "duration": 6,
    "start_time": "2023-04-04T07:19:22.272Z"
   },
   {
    "duration": 10,
    "start_time": "2023-04-04T07:19:22.279Z"
   },
   {
    "duration": 11,
    "start_time": "2023-04-04T07:19:22.290Z"
   },
   {
    "duration": 50,
    "start_time": "2023-04-04T07:19:22.302Z"
   },
   {
    "duration": 12,
    "start_time": "2023-04-04T07:19:22.353Z"
   },
   {
    "duration": 260,
    "start_time": "2023-04-04T07:19:22.366Z"
   },
   {
    "duration": 18,
    "start_time": "2023-04-04T07:19:22.628Z"
   },
   {
    "duration": 10,
    "start_time": "2023-04-04T07:19:22.648Z"
   },
   {
    "duration": 257,
    "start_time": "2023-04-04T07:19:22.659Z"
   },
   {
    "duration": 286,
    "start_time": "2023-04-04T07:19:22.918Z"
   },
   {
    "duration": 198,
    "start_time": "2023-04-04T07:19:23.206Z"
   },
   {
    "duration": 9,
    "start_time": "2023-04-04T07:19:23.406Z"
   },
   {
    "duration": 56,
    "start_time": "2023-04-04T07:19:23.417Z"
   },
   {
    "duration": 34,
    "start_time": "2023-04-04T07:19:23.474Z"
   },
   {
    "duration": 712,
    "start_time": "2023-04-04T07:19:23.510Z"
   },
   {
    "duration": 28,
    "start_time": "2023-04-04T07:19:24.224Z"
   },
   {
    "duration": 154,
    "start_time": "2023-04-04T07:19:24.254Z"
   },
   {
    "duration": 9,
    "start_time": "2023-04-04T07:19:24.409Z"
   },
   {
    "duration": 6,
    "start_time": "2023-04-04T07:19:24.419Z"
   },
   {
    "duration": 7,
    "start_time": "2023-04-04T07:19:24.440Z"
   },
   {
    "duration": 5,
    "start_time": "2023-04-04T07:19:24.449Z"
   },
   {
    "duration": 16,
    "start_time": "2023-04-04T07:19:24.456Z"
   },
   {
    "duration": 6,
    "start_time": "2023-04-04T07:28:23.818Z"
   },
   {
    "duration": 11,
    "start_time": "2023-04-04T07:28:26.289Z"
   },
   {
    "duration": 93,
    "start_time": "2023-04-04T07:31:28.786Z"
   },
   {
    "duration": 29,
    "start_time": "2023-04-04T07:32:29.057Z"
   },
   {
    "duration": 1354,
    "start_time": "2023-04-04T08:04:38.121Z"
   },
   {
    "duration": 572,
    "start_time": "2023-04-04T08:04:39.476Z"
   },
   {
    "duration": 16,
    "start_time": "2023-04-04T08:04:40.052Z"
   },
   {
    "duration": 8,
    "start_time": "2023-04-04T08:04:40.070Z"
   },
   {
    "duration": 9,
    "start_time": "2023-04-04T08:04:40.080Z"
   },
   {
    "duration": 8,
    "start_time": "2023-04-04T08:04:40.090Z"
   },
   {
    "duration": 45,
    "start_time": "2023-04-04T08:04:40.100Z"
   },
   {
    "duration": 23,
    "start_time": "2023-04-04T08:04:40.156Z"
   },
   {
    "duration": 100,
    "start_time": "2023-04-04T08:04:40.181Z"
   },
   {
    "duration": 11,
    "start_time": "2023-04-04T08:04:40.283Z"
   },
   {
    "duration": 7,
    "start_time": "2023-04-04T08:04:40.296Z"
   },
   {
    "duration": 58,
    "start_time": "2023-04-04T08:04:40.305Z"
   },
   {
    "duration": 293,
    "start_time": "2023-04-04T08:04:40.365Z"
   },
   {
    "duration": 10,
    "start_time": "2023-04-04T08:04:40.662Z"
   },
   {
    "duration": 5,
    "start_time": "2023-04-04T08:04:40.674Z"
   },
   {
    "duration": 17,
    "start_time": "2023-04-04T08:04:40.681Z"
   },
   {
    "duration": 78,
    "start_time": "2023-04-04T08:04:40.700Z"
   },
   {
    "duration": 116,
    "start_time": "2023-04-04T08:04:40.780Z"
   },
   {
    "duration": 33,
    "start_time": "2023-04-04T08:04:40.897Z"
   },
   {
    "duration": 24,
    "start_time": "2023-04-04T08:04:40.932Z"
   },
   {
    "duration": 232,
    "start_time": "2023-04-04T08:04:40.959Z"
   },
   {
    "duration": 18,
    "start_time": "2023-04-04T08:04:41.192Z"
   },
   {
    "duration": 74,
    "start_time": "2023-04-04T08:04:41.212Z"
   },
   {
    "duration": 110,
    "start_time": "2023-04-04T08:04:41.288Z"
   },
   {
    "duration": 19,
    "start_time": "2023-04-04T08:04:41.400Z"
   },
   {
    "duration": 28,
    "start_time": "2023-04-04T08:04:41.421Z"
   },
   {
    "duration": 18,
    "start_time": "2023-04-04T08:04:41.451Z"
   },
   {
    "duration": 7,
    "start_time": "2023-04-04T08:04:41.470Z"
   },
   {
    "duration": 8,
    "start_time": "2023-04-04T08:04:41.479Z"
   },
   {
    "duration": 6,
    "start_time": "2023-04-04T08:04:41.489Z"
   },
   {
    "duration": 176,
    "start_time": "2023-04-04T08:04:41.497Z"
   },
   {
    "duration": 30,
    "start_time": "2023-04-04T08:05:54.150Z"
   },
   {
    "duration": 11,
    "start_time": "2023-04-04T08:06:39.119Z"
   },
   {
    "duration": 43,
    "start_time": "2023-04-04T08:06:50.159Z"
   },
   {
    "duration": 20,
    "start_time": "2023-04-04T08:07:10.855Z"
   },
   {
    "duration": 23,
    "start_time": "2023-04-04T08:07:32.727Z"
   },
   {
    "duration": 28,
    "start_time": "2023-04-04T08:07:36.180Z"
   },
   {
    "duration": 10,
    "start_time": "2023-04-04T08:08:04.672Z"
   },
   {
    "duration": 8,
    "start_time": "2023-04-04T08:25:09.910Z"
   },
   {
    "duration": 17,
    "start_time": "2023-04-04T08:25:10.221Z"
   },
   {
    "duration": 19,
    "start_time": "2023-04-04T08:25:11.313Z"
   },
   {
    "duration": 15,
    "start_time": "2023-04-04T08:25:11.656Z"
   },
   {
    "duration": 8,
    "start_time": "2023-04-04T08:25:12.256Z"
   },
   {
    "duration": 9,
    "start_time": "2023-04-04T08:25:24.556Z"
   },
   {
    "duration": 19,
    "start_time": "2023-04-04T08:25:24.854Z"
   },
   {
    "duration": 26,
    "start_time": "2023-04-04T08:28:54.342Z"
   },
   {
    "duration": 4,
    "start_time": "2023-04-04T08:28:54.754Z"
   },
   {
    "duration": 17,
    "start_time": "2023-04-04T08:28:55.150Z"
   },
   {
    "duration": 7,
    "start_time": "2023-04-04T08:28:55.514Z"
   },
   {
    "duration": 25,
    "start_time": "2023-04-04T08:30:13.026Z"
   },
   {
    "duration": 18,
    "start_time": "2023-04-04T08:30:19.515Z"
   },
   {
    "duration": 48,
    "start_time": "2023-04-04T08:31:34.227Z"
   },
   {
    "duration": 92,
    "start_time": "2023-04-04T08:32:19.915Z"
   },
   {
    "duration": 16,
    "start_time": "2023-04-04T08:32:22.709Z"
   },
   {
    "duration": 17,
    "start_time": "2023-04-04T08:32:55.520Z"
   },
   {
    "duration": 58,
    "start_time": "2023-04-04T08:33:23.018Z"
   },
   {
    "duration": 59,
    "start_time": "2023-04-04T08:33:28.280Z"
   },
   {
    "duration": 79,
    "start_time": "2023-04-04T08:39:13.849Z"
   },
   {
    "duration": 21,
    "start_time": "2023-04-04T08:43:23.216Z"
   },
   {
    "duration": 14,
    "start_time": "2023-04-04T08:43:29.785Z"
   },
   {
    "duration": 19,
    "start_time": "2023-04-04T08:44:12.101Z"
   },
   {
    "duration": 17,
    "start_time": "2023-04-04T08:44:34.301Z"
   },
   {
    "duration": 7,
    "start_time": "2023-04-04T08:44:41.006Z"
   },
   {
    "duration": 18,
    "start_time": "2023-04-04T08:45:00.772Z"
   },
   {
    "duration": 17,
    "start_time": "2023-04-04T08:45:03.347Z"
   },
   {
    "duration": 73,
    "start_time": "2023-04-04T08:45:23.496Z"
   },
   {
    "duration": 33,
    "start_time": "2023-04-04T08:45:29.923Z"
   },
   {
    "duration": 24,
    "start_time": "2023-04-04T08:45:46.267Z"
   },
   {
    "duration": 43,
    "start_time": "2023-04-04T08:45:59.499Z"
   },
   {
    "duration": 8,
    "start_time": "2023-04-04T08:46:10.401Z"
   },
   {
    "duration": 16,
    "start_time": "2023-04-04T08:46:15.272Z"
   },
   {
    "duration": 19,
    "start_time": "2023-04-04T08:46:44.024Z"
   },
   {
    "duration": 32,
    "start_time": "2023-04-04T08:46:55.871Z"
   },
   {
    "duration": 14,
    "start_time": "2023-04-04T08:47:06.407Z"
   },
   {
    "duration": 15,
    "start_time": "2023-04-04T08:47:09.054Z"
   },
   {
    "duration": 38,
    "start_time": "2023-04-04T08:47:25.862Z"
   },
   {
    "duration": 25,
    "start_time": "2023-04-04T08:47:32.534Z"
   },
   {
    "duration": 40,
    "start_time": "2023-04-04T08:47:45.757Z"
   },
   {
    "duration": 27,
    "start_time": "2023-04-04T08:50:38.367Z"
   },
   {
    "duration": 38,
    "start_time": "2023-04-04T08:51:23.328Z"
   },
   {
    "duration": 21,
    "start_time": "2023-04-04T08:52:34.641Z"
   },
   {
    "duration": 48,
    "start_time": "2023-04-04T08:53:32.191Z"
   },
   {
    "duration": 38,
    "start_time": "2023-04-04T08:53:51.610Z"
   },
   {
    "duration": 38,
    "start_time": "2023-04-04T08:53:53.374Z"
   },
   {
    "duration": 25,
    "start_time": "2023-04-04T09:21:58.543Z"
   },
   {
    "duration": 1338,
    "start_time": "2023-04-04T09:22:37.141Z"
   },
   {
    "duration": 37,
    "start_time": "2023-04-04T09:23:11.120Z"
   },
   {
    "duration": 5,
    "start_time": "2023-04-04T09:23:26.875Z"
   },
   {
    "duration": 11,
    "start_time": "2023-04-04T09:23:31.735Z"
   },
   {
    "duration": 56,
    "start_time": "2023-04-04T09:23:57.834Z"
   },
   {
    "duration": 19,
    "start_time": "2023-04-04T09:25:46.610Z"
   },
   {
    "duration": 56,
    "start_time": "2023-04-04T09:25:48.889Z"
   },
   {
    "duration": 76,
    "start_time": "2023-04-04T09:27:03.447Z"
   },
   {
    "duration": 58,
    "start_time": "2023-04-04T09:28:12.061Z"
   },
   {
    "duration": 54,
    "start_time": "2023-04-04T09:28:16.115Z"
   },
   {
    "duration": 56,
    "start_time": "2023-04-04T09:28:45.331Z"
   },
   {
    "duration": 21,
    "start_time": "2023-04-04T09:29:01.773Z"
   },
   {
    "duration": 8,
    "start_time": "2023-04-04T09:29:02.198Z"
   },
   {
    "duration": 7,
    "start_time": "2023-04-04T09:29:02.517Z"
   },
   {
    "duration": 11,
    "start_time": "2023-04-04T09:29:03.053Z"
   },
   {
    "duration": 15,
    "start_time": "2023-04-04T09:29:03.581Z"
   },
   {
    "duration": 13,
    "start_time": "2023-04-04T09:32:30.531Z"
   },
   {
    "duration": 31,
    "start_time": "2023-04-04T09:33:46.111Z"
   },
   {
    "duration": 10,
    "start_time": "2023-04-04T09:33:55.949Z"
   },
   {
    "duration": 8,
    "start_time": "2023-04-04T09:34:08.472Z"
   },
   {
    "duration": 80,
    "start_time": "2023-04-04T09:34:18.517Z"
   },
   {
    "duration": 172,
    "start_time": "2023-04-04T09:34:22.869Z"
   },
   {
    "duration": 10,
    "start_time": "2023-04-04T09:34:25.877Z"
   },
   {
    "duration": 20,
    "start_time": "2023-04-04T09:37:57.790Z"
   },
   {
    "duration": 10,
    "start_time": "2023-04-04T09:37:57.813Z"
   },
   {
    "duration": 271,
    "start_time": "2023-04-04T09:37:57.825Z"
   },
   {
    "duration": 12,
    "start_time": "2023-04-04T09:37:58.098Z"
   },
   {
    "duration": 12,
    "start_time": "2023-04-04T09:37:58.112Z"
   },
   {
    "duration": 265,
    "start_time": "2023-04-04T09:37:58.125Z"
   },
   {
    "duration": 285,
    "start_time": "2023-04-04T09:37:58.392Z"
   },
   {
    "duration": 191,
    "start_time": "2023-04-04T09:37:58.679Z"
   },
   {
    "duration": 9,
    "start_time": "2023-04-04T09:37:58.871Z"
   },
   {
    "duration": 42,
    "start_time": "2023-04-04T09:37:58.882Z"
   },
   {
    "duration": 37,
    "start_time": "2023-04-04T09:37:58.949Z"
   },
   {
    "duration": 667,
    "start_time": "2023-04-04T09:37:58.987Z"
   },
   {
    "duration": 24,
    "start_time": "2023-04-04T09:37:59.656Z"
   },
   {
    "duration": 230,
    "start_time": "2023-04-04T09:37:59.682Z"
   },
   {
    "duration": 8,
    "start_time": "2023-04-04T09:37:59.913Z"
   },
   {
    "duration": 12,
    "start_time": "2023-04-04T09:37:59.923Z"
   },
   {
    "duration": 18,
    "start_time": "2023-04-04T09:37:59.939Z"
   },
   {
    "duration": 18,
    "start_time": "2023-04-04T09:37:59.959Z"
   },
   {
    "duration": 21,
    "start_time": "2023-04-04T09:37:59.979Z"
   },
   {
    "duration": 19,
    "start_time": "2023-04-04T09:44:09.871Z"
   },
   {
    "duration": 3,
    "start_time": "2023-04-04T09:44:15.303Z"
   },
   {
    "duration": 19,
    "start_time": "2023-04-04T09:44:55.427Z"
   },
   {
    "duration": 1243,
    "start_time": "2023-04-04T09:45:03.884Z"
   },
   {
    "duration": 560,
    "start_time": "2023-04-04T09:45:05.129Z"
   },
   {
    "duration": 13,
    "start_time": "2023-04-04T09:45:05.691Z"
   },
   {
    "duration": 60,
    "start_time": "2023-04-04T09:45:05.706Z"
   },
   {
    "duration": 57,
    "start_time": "2023-04-04T09:45:05.768Z"
   },
   {
    "duration": 46,
    "start_time": "2023-04-04T09:45:05.827Z"
   },
   {
    "duration": 43,
    "start_time": "2023-04-04T09:45:05.874Z"
   },
   {
    "duration": 55,
    "start_time": "2023-04-04T09:45:05.919Z"
   },
   {
    "duration": 71,
    "start_time": "2023-04-04T09:45:05.976Z"
   },
   {
    "duration": 12,
    "start_time": "2023-04-04T09:45:06.051Z"
   },
   {
    "duration": 19,
    "start_time": "2023-04-04T09:45:06.064Z"
   },
   {
    "duration": 44,
    "start_time": "2023-04-04T09:45:06.085Z"
   },
   {
    "duration": 288,
    "start_time": "2023-04-04T09:45:06.130Z"
   },
   {
    "duration": 10,
    "start_time": "2023-04-04T09:45:06.420Z"
   },
   {
    "duration": 13,
    "start_time": "2023-04-04T09:45:06.431Z"
   },
   {
    "duration": 23,
    "start_time": "2023-04-04T09:45:06.446Z"
   },
   {
    "duration": 76,
    "start_time": "2023-04-04T09:45:06.471Z"
   },
   {
    "duration": 104,
    "start_time": "2023-04-04T09:45:06.549Z"
   },
   {
    "duration": 40,
    "start_time": "2023-04-04T09:45:06.655Z"
   },
   {
    "duration": 9,
    "start_time": "2023-04-04T09:45:06.697Z"
   },
   {
    "duration": 255,
    "start_time": "2023-04-04T09:45:06.708Z"
   },
   {
    "duration": 18,
    "start_time": "2023-04-04T09:45:06.964Z"
   },
   {
    "duration": 26,
    "start_time": "2023-04-04T09:45:06.983Z"
   },
   {
    "duration": 122,
    "start_time": "2023-04-04T09:45:07.011Z"
   },
   {
    "duration": 21,
    "start_time": "2023-04-04T09:45:07.135Z"
   },
   {
    "duration": 17,
    "start_time": "2023-04-04T09:45:07.158Z"
   },
   {
    "duration": 28,
    "start_time": "2023-04-04T09:45:07.177Z"
   },
   {
    "duration": 10,
    "start_time": "2023-04-04T09:45:07.210Z"
   },
   {
    "duration": 30,
    "start_time": "2023-04-04T09:45:07.221Z"
   },
   {
    "duration": 8,
    "start_time": "2023-04-04T09:45:07.253Z"
   },
   {
    "duration": 32,
    "start_time": "2023-04-04T09:45:07.263Z"
   },
   {
    "duration": 18,
    "start_time": "2023-04-04T09:45:07.296Z"
   },
   {
    "duration": 9,
    "start_time": "2023-04-04T09:45:07.315Z"
   },
   {
    "duration": 24,
    "start_time": "2023-04-04T09:45:07.326Z"
   },
   {
    "duration": 19,
    "start_time": "2023-04-04T09:45:07.352Z"
   },
   {
    "duration": 9,
    "start_time": "2023-04-04T09:45:07.373Z"
   },
   {
    "duration": 18,
    "start_time": "2023-04-04T09:45:07.383Z"
   },
   {
    "duration": 17,
    "start_time": "2023-04-04T09:45:07.402Z"
   },
   {
    "duration": 16,
    "start_time": "2023-04-04T09:45:07.420Z"
   },
   {
    "duration": 47,
    "start_time": "2023-04-04T09:45:07.438Z"
   },
   {
    "duration": 44,
    "start_time": "2023-04-04T09:45:07.487Z"
   },
   {
    "duration": 4,
    "start_time": "2023-04-04T09:45:07.533Z"
   },
   {
    "duration": 21,
    "start_time": "2023-04-04T09:45:07.538Z"
   },
   {
    "duration": 8,
    "start_time": "2023-04-04T09:45:07.561Z"
   },
   {
    "duration": 27,
    "start_time": "2023-04-04T09:45:07.570Z"
   },
   {
    "duration": 17,
    "start_time": "2023-04-04T09:45:07.599Z"
   },
   {
    "duration": 50,
    "start_time": "2023-04-04T09:45:07.617Z"
   },
   {
    "duration": 17,
    "start_time": "2023-04-04T09:45:07.669Z"
   },
   {
    "duration": 26,
    "start_time": "2023-04-04T09:45:07.688Z"
   },
   {
    "duration": 72,
    "start_time": "2023-04-04T09:45:07.716Z"
   },
   {
    "duration": 22,
    "start_time": "2023-04-04T09:45:07.790Z"
   },
   {
    "duration": 8,
    "start_time": "2023-04-04T09:45:07.814Z"
   },
   {
    "duration": 22,
    "start_time": "2023-04-04T09:45:07.823Z"
   },
   {
    "duration": 17,
    "start_time": "2023-04-04T09:45:07.846Z"
   },
   {
    "duration": 23,
    "start_time": "2023-04-04T09:45:07.865Z"
   },
   {
    "duration": 18,
    "start_time": "2023-04-04T09:45:07.889Z"
   },
   {
    "duration": 8,
    "start_time": "2023-04-04T09:45:07.909Z"
   },
   {
    "duration": 26,
    "start_time": "2023-04-04T09:45:07.918Z"
   },
   {
    "duration": 32,
    "start_time": "2023-04-04T09:45:07.946Z"
   },
   {
    "duration": 4,
    "start_time": "2023-04-04T09:45:07.980Z"
   },
   {
    "duration": 37,
    "start_time": "2023-04-04T09:45:07.986Z"
   },
   {
    "duration": 12,
    "start_time": "2023-04-04T09:45:08.025Z"
   },
   {
    "duration": 242,
    "start_time": "2023-04-04T09:45:08.039Z"
   },
   {
    "duration": 13,
    "start_time": "2023-04-04T09:45:08.283Z"
   },
   {
    "duration": 14,
    "start_time": "2023-04-04T09:45:08.298Z"
   },
   {
    "duration": 269,
    "start_time": "2023-04-04T09:45:08.314Z"
   },
   {
    "duration": 264,
    "start_time": "2023-04-04T09:45:08.584Z"
   },
   {
    "duration": 183,
    "start_time": "2023-04-04T09:45:08.850Z"
   },
   {
    "duration": 11,
    "start_time": "2023-04-04T09:45:09.035Z"
   },
   {
    "duration": 38,
    "start_time": "2023-04-04T09:45:09.048Z"
   },
   {
    "duration": 31,
    "start_time": "2023-04-04T09:45:09.088Z"
   },
   {
    "duration": 679,
    "start_time": "2023-04-04T09:45:09.121Z"
   },
   {
    "duration": 23,
    "start_time": "2023-04-04T09:45:09.802Z"
   },
   {
    "duration": 163,
    "start_time": "2023-04-04T09:45:09.827Z"
   },
   {
    "duration": 12,
    "start_time": "2023-04-04T09:45:09.992Z"
   },
   {
    "duration": 10,
    "start_time": "2023-04-04T09:45:10.005Z"
   },
   {
    "duration": 24,
    "start_time": "2023-04-04T09:45:10.017Z"
   },
   {
    "duration": 38,
    "start_time": "2023-04-04T09:45:10.043Z"
   },
   {
    "duration": 21,
    "start_time": "2023-04-04T09:45:10.083Z"
   },
   {
    "duration": 51,
    "start_time": "2023-04-04T09:46:53.974Z"
   },
   {
    "duration": 5,
    "start_time": "2023-04-04T09:46:54.357Z"
   },
   {
    "duration": 18,
    "start_time": "2023-04-04T09:49:45.250Z"
   },
   {
    "duration": 17,
    "start_time": "2023-04-04T09:50:09.122Z"
   },
   {
    "duration": 20,
    "start_time": "2023-04-04T09:50:19.560Z"
   },
   {
    "duration": 10,
    "start_time": "2023-04-04T09:56:56.810Z"
   },
   {
    "duration": 81,
    "start_time": "2023-04-04T09:57:19.240Z"
   },
   {
    "duration": 9,
    "start_time": "2023-04-04T09:57:25.231Z"
   },
   {
    "duration": 9,
    "start_time": "2023-04-04T09:57:28.951Z"
   },
   {
    "duration": 3411,
    "start_time": "2023-04-04T10:05:00.365Z"
   },
   {
    "duration": 6,
    "start_time": "2023-04-04T10:05:04.461Z"
   },
   {
    "duration": 27,
    "start_time": "2023-04-04T10:06:40.433Z"
   },
   {
    "duration": 213,
    "start_time": "2023-04-04T10:06:46.425Z"
   },
   {
    "duration": 208,
    "start_time": "2023-04-04T10:07:03.247Z"
   },
   {
    "duration": 211,
    "start_time": "2023-04-04T10:07:08.112Z"
   },
   {
    "duration": 254,
    "start_time": "2023-04-04T10:07:11.040Z"
   },
   {
    "duration": 310,
    "start_time": "2023-04-04T10:07:28.280Z"
   },
   {
    "duration": 314,
    "start_time": "2023-04-04T10:09:07.259Z"
   },
   {
    "duration": 77,
    "start_time": "2023-04-04T10:09:10.611Z"
   },
   {
    "duration": 413,
    "start_time": "2023-04-04T10:09:17.280Z"
   },
   {
    "duration": 331,
    "start_time": "2023-04-04T10:09:52.889Z"
   },
   {
    "duration": 321,
    "start_time": "2023-04-04T10:09:56.610Z"
   },
   {
    "duration": 80,
    "start_time": "2023-04-04T10:11:30.781Z"
   },
   {
    "duration": 18,
    "start_time": "2023-04-04T10:11:44.935Z"
   },
   {
    "duration": 16,
    "start_time": "2023-04-04T10:11:51.204Z"
   },
   {
    "duration": 18,
    "start_time": "2023-04-04T10:12:07.557Z"
   },
   {
    "duration": 15,
    "start_time": "2023-04-04T10:12:15.741Z"
   },
   {
    "duration": 16,
    "start_time": "2023-04-04T10:12:19.860Z"
   },
   {
    "duration": 15,
    "start_time": "2023-04-04T10:12:25.921Z"
   },
   {
    "duration": 18,
    "start_time": "2023-04-04T10:12:29.787Z"
   },
   {
    "duration": 13,
    "start_time": "2023-04-04T10:12:37.315Z"
   },
   {
    "duration": 697,
    "start_time": "2023-04-04T10:13:26.601Z"
   },
   {
    "duration": 6,
    "start_time": "2023-04-04T10:14:01.912Z"
   },
   {
    "duration": 6,
    "start_time": "2023-04-04T10:14:14.239Z"
   },
   {
    "duration": 14,
    "start_time": "2023-04-04T10:14:18.807Z"
   },
   {
    "duration": 638,
    "start_time": "2023-04-04T10:14:23.952Z"
   },
   {
    "duration": 23,
    "start_time": "2023-04-04T10:15:37.532Z"
   },
   {
    "duration": 28,
    "start_time": "2023-04-04T10:15:43.500Z"
   },
   {
    "duration": 9,
    "start_time": "2023-04-04T10:15:50.341Z"
   },
   {
    "duration": 15,
    "start_time": "2023-04-04T10:16:44.077Z"
   },
   {
    "duration": 15,
    "start_time": "2023-04-04T10:16:49.176Z"
   },
   {
    "duration": 12,
    "start_time": "2023-04-04T10:17:13.540Z"
   },
   {
    "duration": 17,
    "start_time": "2023-04-04T10:17:30.298Z"
   },
   {
    "duration": 6,
    "start_time": "2023-04-04T10:17:39.233Z"
   },
   {
    "duration": 310,
    "start_time": "2023-04-04T10:18:01.096Z"
   },
   {
    "duration": 11,
    "start_time": "2023-04-04T10:18:12.599Z"
   },
   {
    "duration": 2,
    "start_time": "2023-04-04T10:18:15.134Z"
   },
   {
    "duration": 15,
    "start_time": "2023-04-04T10:18:17.446Z"
   },
   {
    "duration": 18,
    "start_time": "2023-04-04T10:18:25.046Z"
   },
   {
    "duration": 11,
    "start_time": "2023-04-04T10:18:27.357Z"
   },
   {
    "duration": 3,
    "start_time": "2023-04-04T10:18:29.285Z"
   },
   {
    "duration": 16,
    "start_time": "2023-04-04T10:18:31.269Z"
   },
   {
    "duration": 1242,
    "start_time": "2023-04-04T10:18:44.487Z"
   },
   {
    "duration": 568,
    "start_time": "2023-04-04T10:18:45.731Z"
   },
   {
    "duration": 13,
    "start_time": "2023-04-04T10:18:46.300Z"
   },
   {
    "duration": 30,
    "start_time": "2023-04-04T10:18:46.315Z"
   },
   {
    "duration": 15,
    "start_time": "2023-04-04T10:18:46.346Z"
   },
   {
    "duration": 22,
    "start_time": "2023-04-04T10:18:46.363Z"
   },
   {
    "duration": 24,
    "start_time": "2023-04-04T10:18:46.387Z"
   },
   {
    "duration": 36,
    "start_time": "2023-04-04T10:18:46.413Z"
   },
   {
    "duration": 61,
    "start_time": "2023-04-04T10:18:46.451Z"
   },
   {
    "duration": 25,
    "start_time": "2023-04-04T10:18:46.515Z"
   },
   {
    "duration": 7,
    "start_time": "2023-04-04T10:18:46.543Z"
   },
   {
    "duration": 49,
    "start_time": "2023-04-04T10:18:46.551Z"
   },
   {
    "duration": 351,
    "start_time": "2023-04-04T10:18:46.602Z"
   },
   {
    "duration": 10,
    "start_time": "2023-04-04T10:18:46.955Z"
   },
   {
    "duration": 7,
    "start_time": "2023-04-04T10:18:46.966Z"
   },
   {
    "duration": 20,
    "start_time": "2023-04-04T10:18:46.975Z"
   },
   {
    "duration": 74,
    "start_time": "2023-04-04T10:18:46.997Z"
   },
   {
    "duration": 105,
    "start_time": "2023-04-04T10:18:47.072Z"
   },
   {
    "duration": 33,
    "start_time": "2023-04-04T10:18:47.179Z"
   },
   {
    "duration": 7,
    "start_time": "2023-04-04T10:18:47.214Z"
   },
   {
    "duration": 218,
    "start_time": "2023-04-04T10:18:47.241Z"
   },
   {
    "duration": 16,
    "start_time": "2023-04-04T10:18:47.460Z"
   },
   {
    "duration": 13,
    "start_time": "2023-04-04T10:18:47.478Z"
   },
   {
    "duration": 131,
    "start_time": "2023-04-04T10:18:47.493Z"
   },
   {
    "duration": 24,
    "start_time": "2023-04-04T10:18:47.626Z"
   },
   {
    "duration": 14,
    "start_time": "2023-04-04T10:18:47.652Z"
   },
   {
    "duration": 15,
    "start_time": "2023-04-04T10:18:47.668Z"
   },
   {
    "duration": 7,
    "start_time": "2023-04-04T10:18:47.688Z"
   },
   {
    "duration": 5,
    "start_time": "2023-04-04T10:18:47.698Z"
   },
   {
    "duration": 37,
    "start_time": "2023-04-04T10:18:47.705Z"
   },
   {
    "duration": 27,
    "start_time": "2023-04-04T10:18:47.744Z"
   },
   {
    "duration": 10,
    "start_time": "2023-04-04T10:18:47.772Z"
   },
   {
    "duration": 9,
    "start_time": "2023-04-04T10:18:47.785Z"
   },
   {
    "duration": 16,
    "start_time": "2023-04-04T10:18:47.795Z"
   },
   {
    "duration": 15,
    "start_time": "2023-04-04T10:18:47.839Z"
   },
   {
    "duration": 8,
    "start_time": "2023-04-04T10:18:47.856Z"
   },
   {
    "duration": 5,
    "start_time": "2023-04-04T10:18:47.866Z"
   },
   {
    "duration": 13,
    "start_time": "2023-04-04T10:18:47.873Z"
   },
   {
    "duration": 11,
    "start_time": "2023-04-04T10:18:47.887Z"
   },
   {
    "duration": 16,
    "start_time": "2023-04-04T10:18:47.900Z"
   },
   {
    "duration": 24,
    "start_time": "2023-04-04T10:18:47.940Z"
   },
   {
    "duration": 5,
    "start_time": "2023-04-04T10:18:47.966Z"
   },
   {
    "duration": 25,
    "start_time": "2023-04-04T10:18:47.973Z"
   },
   {
    "duration": 7,
    "start_time": "2023-04-04T10:18:48.000Z"
   },
   {
    "duration": 52,
    "start_time": "2023-04-04T10:18:48.009Z"
   },
   {
    "duration": 16,
    "start_time": "2023-04-04T10:18:48.063Z"
   },
   {
    "duration": 61,
    "start_time": "2023-04-04T10:18:48.080Z"
   },
   {
    "duration": 17,
    "start_time": "2023-04-04T10:18:48.142Z"
   },
   {
    "duration": 19,
    "start_time": "2023-04-04T10:18:48.161Z"
   },
   {
    "duration": 80,
    "start_time": "2023-04-04T10:18:48.182Z"
   },
   {
    "duration": 22,
    "start_time": "2023-04-04T10:18:48.263Z"
   },
   {
    "duration": 8,
    "start_time": "2023-04-04T10:18:48.287Z"
   },
   {
    "duration": 19,
    "start_time": "2023-04-04T10:18:48.296Z"
   },
   {
    "duration": 28,
    "start_time": "2023-04-04T10:18:48.317Z"
   },
   {
    "duration": 12,
    "start_time": "2023-04-04T10:18:48.346Z"
   },
   {
    "duration": 11,
    "start_time": "2023-04-04T10:18:48.360Z"
   },
   {
    "duration": 9,
    "start_time": "2023-04-04T10:18:48.373Z"
   },
   {
    "duration": 12,
    "start_time": "2023-04-04T10:18:48.383Z"
   },
   {
    "duration": 9,
    "start_time": "2023-04-04T10:18:48.397Z"
   },
   {
    "duration": 24,
    "start_time": "2023-04-04T10:18:48.439Z"
   },
   {
    "duration": 51,
    "start_time": "2023-04-04T10:18:48.465Z"
   },
   {
    "duration": 27,
    "start_time": "2023-04-04T10:18:48.518Z"
   },
   {
    "duration": 4,
    "start_time": "2023-04-04T10:18:48.547Z"
   },
   {
    "duration": 20,
    "start_time": "2023-04-04T10:18:48.553Z"
   },
   {
    "duration": 15,
    "start_time": "2023-04-04T10:18:48.575Z"
   },
   {
    "duration": 299,
    "start_time": "2023-04-04T10:18:48.592Z"
   },
   {
    "duration": 13,
    "start_time": "2023-04-04T10:18:48.892Z"
   },
   {
    "duration": 9,
    "start_time": "2023-04-04T10:18:48.907Z"
   },
   {
    "duration": 259,
    "start_time": "2023-04-04T10:18:48.918Z"
   },
   {
    "duration": 288,
    "start_time": "2023-04-04T10:18:49.179Z"
   },
   {
    "duration": 191,
    "start_time": "2023-04-04T10:18:49.468Z"
   },
   {
    "duration": 7,
    "start_time": "2023-04-04T10:18:49.661Z"
   },
   {
    "duration": 36,
    "start_time": "2023-04-04T10:18:49.670Z"
   },
   {
    "duration": 52,
    "start_time": "2023-04-04T10:18:49.708Z"
   },
   {
    "duration": 665,
    "start_time": "2023-04-04T10:18:49.761Z"
   },
   {
    "duration": 19,
    "start_time": "2023-04-04T10:18:50.428Z"
   },
   {
    "duration": 3,
    "start_time": "2023-04-04T10:18:50.449Z"
   },
   {
    "duration": 141,
    "start_time": "2023-04-04T10:18:50.453Z"
   },
   {
    "duration": 0,
    "start_time": "2023-04-04T10:18:50.596Z"
   },
   {
    "duration": 0,
    "start_time": "2023-04-04T10:18:50.597Z"
   },
   {
    "duration": 0,
    "start_time": "2023-04-04T10:18:50.599Z"
   },
   {
    "duration": 0,
    "start_time": "2023-04-04T10:18:50.600Z"
   },
   {
    "duration": 0,
    "start_time": "2023-04-04T10:18:50.601Z"
   },
   {
    "duration": 0,
    "start_time": "2023-04-04T10:18:50.603Z"
   },
   {
    "duration": 0,
    "start_time": "2023-04-04T10:18:50.604Z"
   },
   {
    "duration": 0,
    "start_time": "2023-04-04T10:18:50.605Z"
   },
   {
    "duration": 8,
    "start_time": "2023-04-04T10:19:03.779Z"
   },
   {
    "duration": 17,
    "start_time": "2023-04-04T10:19:12.628Z"
   },
   {
    "duration": 18,
    "start_time": "2023-04-04T10:19:36.281Z"
   },
   {
    "duration": 8,
    "start_time": "2023-04-04T10:19:37.986Z"
   },
   {
    "duration": 3,
    "start_time": "2023-04-04T10:20:09.120Z"
   },
   {
    "duration": 7,
    "start_time": "2023-04-04T10:20:11.952Z"
   },
   {
    "duration": 16,
    "start_time": "2023-04-04T10:20:20.561Z"
   },
   {
    "duration": 13,
    "start_time": "2023-04-04T10:20:51.271Z"
   },
   {
    "duration": 8,
    "start_time": "2023-04-04T10:20:55.766Z"
   },
   {
    "duration": 9,
    "start_time": "2023-04-04T10:20:58.671Z"
   },
   {
    "duration": 286,
    "start_time": "2023-04-04T10:21:13.080Z"
   },
   {
    "duration": 16,
    "start_time": "2023-04-04T10:21:22.798Z"
   },
   {
    "duration": 355,
    "start_time": "2023-04-04T10:21:36.150Z"
   },
   {
    "duration": 4,
    "start_time": "2023-04-04T10:21:52.477Z"
   },
   {
    "duration": 134,
    "start_time": "2023-04-04T10:21:55.021Z"
   },
   {
    "duration": 238,
    "start_time": "2023-04-04T10:22:04.469Z"
   },
   {
    "duration": 217,
    "start_time": "2023-04-04T10:22:13.876Z"
   },
   {
    "duration": 13,
    "start_time": "2023-04-04T10:22:27.554Z"
   },
   {
    "duration": 320,
    "start_time": "2023-04-04T10:22:29.242Z"
   },
   {
    "duration": 176,
    "start_time": "2023-04-04T10:22:53.562Z"
   },
   {
    "duration": 176,
    "start_time": "2023-04-04T10:23:04.679Z"
   },
   {
    "duration": 15,
    "start_time": "2023-04-04T10:23:15.761Z"
   },
   {
    "duration": 15,
    "start_time": "2023-04-04T10:23:30.097Z"
   },
   {
    "duration": 8,
    "start_time": "2023-04-04T10:23:33.456Z"
   },
   {
    "duration": 12,
    "start_time": "2023-04-04T10:23:37.336Z"
   },
   {
    "duration": 139,
    "start_time": "2023-04-04T10:23:42.430Z"
   },
   {
    "duration": 15,
    "start_time": "2023-04-04T10:24:22.364Z"
   },
   {
    "duration": 15,
    "start_time": "2023-04-04T10:24:42.030Z"
   },
   {
    "duration": 358,
    "start_time": "2023-04-04T10:24:46.537Z"
   },
   {
    "duration": 12,
    "start_time": "2023-04-04T10:25:03.819Z"
   },
   {
    "duration": 17,
    "start_time": "2023-04-04T10:25:05.581Z"
   },
   {
    "duration": 260,
    "start_time": "2023-04-04T10:25:12.989Z"
   },
   {
    "duration": 20,
    "start_time": "2023-04-04T10:25:19.180Z"
   },
   {
    "duration": 11,
    "start_time": "2023-04-04T10:25:53.623Z"
   },
   {
    "duration": 22,
    "start_time": "2023-04-04T10:25:56.844Z"
   },
   {
    "duration": 1274,
    "start_time": "2023-04-04T10:26:39.774Z"
   },
   {
    "duration": 566,
    "start_time": "2023-04-04T10:26:41.050Z"
   },
   {
    "duration": 13,
    "start_time": "2023-04-04T10:26:41.618Z"
   },
   {
    "duration": 11,
    "start_time": "2023-04-04T10:26:41.633Z"
   },
   {
    "duration": 9,
    "start_time": "2023-04-04T10:26:41.645Z"
   },
   {
    "duration": 8,
    "start_time": "2023-04-04T10:26:41.656Z"
   },
   {
    "duration": 11,
    "start_time": "2023-04-04T10:26:41.665Z"
   },
   {
    "duration": 17,
    "start_time": "2023-04-04T10:26:41.678Z"
   },
   {
    "duration": 91,
    "start_time": "2023-04-04T10:26:41.697Z"
   },
   {
    "duration": 12,
    "start_time": "2023-04-04T10:26:41.791Z"
   },
   {
    "duration": 5,
    "start_time": "2023-04-04T10:26:41.805Z"
   },
   {
    "duration": 53,
    "start_time": "2023-04-04T10:26:41.812Z"
   },
   {
    "duration": 278,
    "start_time": "2023-04-04T10:26:41.867Z"
   },
   {
    "duration": 11,
    "start_time": "2023-04-04T10:26:42.147Z"
   },
   {
    "duration": 5,
    "start_time": "2023-04-04T10:26:42.160Z"
   },
   {
    "duration": 13,
    "start_time": "2023-04-04T10:26:42.167Z"
   },
   {
    "duration": 76,
    "start_time": "2023-04-04T10:26:42.181Z"
   },
   {
    "duration": 101,
    "start_time": "2023-04-04T10:26:42.258Z"
   },
   {
    "duration": 35,
    "start_time": "2023-04-04T10:26:42.361Z"
   },
   {
    "duration": 7,
    "start_time": "2023-04-04T10:26:42.398Z"
   },
   {
    "duration": 234,
    "start_time": "2023-04-04T10:26:42.406Z"
   },
   {
    "duration": 16,
    "start_time": "2023-04-04T10:26:42.642Z"
   },
   {
    "duration": 12,
    "start_time": "2023-04-04T10:26:42.659Z"
   },
   {
    "duration": 121,
    "start_time": "2023-04-04T10:26:42.673Z"
   },
   {
    "duration": 20,
    "start_time": "2023-04-04T10:26:42.796Z"
   },
   {
    "duration": 25,
    "start_time": "2023-04-04T10:26:42.818Z"
   },
   {
    "duration": 15,
    "start_time": "2023-04-04T10:26:42.845Z"
   },
   {
    "duration": 6,
    "start_time": "2023-04-04T10:26:42.864Z"
   },
   {
    "duration": 11,
    "start_time": "2023-04-04T10:26:42.872Z"
   },
   {
    "duration": 5,
    "start_time": "2023-04-04T10:26:42.885Z"
   },
   {
    "duration": 50,
    "start_time": "2023-04-04T10:26:42.891Z"
   },
   {
    "duration": 10,
    "start_time": "2023-04-04T10:26:42.942Z"
   },
   {
    "duration": 18,
    "start_time": "2023-04-04T10:26:42.954Z"
   },
   {
    "duration": 16,
    "start_time": "2023-04-04T10:26:42.973Z"
   },
   {
    "duration": 25,
    "start_time": "2023-04-04T10:26:42.991Z"
   },
   {
    "duration": 9,
    "start_time": "2023-04-04T10:26:43.018Z"
   },
   {
    "duration": 21,
    "start_time": "2023-04-04T10:26:43.029Z"
   },
   {
    "duration": 13,
    "start_time": "2023-04-04T10:26:43.051Z"
   },
   {
    "duration": 17,
    "start_time": "2023-04-04T10:26:43.065Z"
   },
   {
    "duration": 16,
    "start_time": "2023-04-04T10:26:43.084Z"
   },
   {
    "duration": 37,
    "start_time": "2023-04-04T10:26:43.101Z"
   },
   {
    "duration": 4,
    "start_time": "2023-04-04T10:26:43.139Z"
   },
   {
    "duration": 17,
    "start_time": "2023-04-04T10:26:43.144Z"
   },
   {
    "duration": 6,
    "start_time": "2023-04-04T10:26:43.163Z"
   },
   {
    "duration": 23,
    "start_time": "2023-04-04T10:26:43.170Z"
   },
   {
    "duration": 15,
    "start_time": "2023-04-04T10:26:43.195Z"
   },
   {
    "duration": 35,
    "start_time": "2023-04-04T10:26:43.240Z"
   },
   {
    "duration": 18,
    "start_time": "2023-04-04T10:26:43.277Z"
   },
   {
    "duration": 20,
    "start_time": "2023-04-04T10:26:43.297Z"
   },
   {
    "duration": 69,
    "start_time": "2023-04-04T10:26:43.319Z"
   },
   {
    "duration": 22,
    "start_time": "2023-04-04T10:26:43.390Z"
   },
   {
    "duration": 30,
    "start_time": "2023-04-04T10:26:43.413Z"
   },
   {
    "duration": 7,
    "start_time": "2023-04-04T10:26:43.444Z"
   },
   {
    "duration": 8,
    "start_time": "2023-04-04T10:26:43.452Z"
   },
   {
    "duration": 10,
    "start_time": "2023-04-04T10:26:43.462Z"
   },
   {
    "duration": 7,
    "start_time": "2023-04-04T10:26:43.474Z"
   },
   {
    "duration": 8,
    "start_time": "2023-04-04T10:26:43.483Z"
   },
   {
    "duration": 7,
    "start_time": "2023-04-04T10:26:43.493Z"
   },
   {
    "duration": 9,
    "start_time": "2023-04-04T10:26:43.540Z"
   },
   {
    "duration": 22,
    "start_time": "2023-04-04T10:26:43.551Z"
   },
   {
    "duration": 66,
    "start_time": "2023-04-04T10:26:43.574Z"
   },
   {
    "duration": 4,
    "start_time": "2023-04-04T10:26:43.642Z"
   },
   {
    "duration": 15,
    "start_time": "2023-04-04T10:26:43.648Z"
   },
   {
    "duration": 19,
    "start_time": "2023-04-04T10:26:43.665Z"
   },
   {
    "duration": 11,
    "start_time": "2023-04-04T10:26:43.685Z"
   },
   {
    "duration": 257,
    "start_time": "2023-04-04T10:26:43.697Z"
   },
   {
    "duration": 12,
    "start_time": "2023-04-04T10:26:43.956Z"
   },
   {
    "duration": 10,
    "start_time": "2023-04-04T10:26:43.970Z"
   },
   {
    "duration": 251,
    "start_time": "2023-04-04T10:26:43.981Z"
   },
   {
    "duration": 263,
    "start_time": "2023-04-04T10:26:44.240Z"
   },
   {
    "duration": 186,
    "start_time": "2023-04-04T10:26:44.504Z"
   },
   {
    "duration": 9,
    "start_time": "2023-04-04T10:26:44.692Z"
   },
   {
    "duration": 53,
    "start_time": "2023-04-04T10:26:44.703Z"
   },
   {
    "duration": 34,
    "start_time": "2023-04-04T10:26:44.758Z"
   },
   {
    "duration": 659,
    "start_time": "2023-04-04T10:26:44.794Z"
   },
   {
    "duration": 46124,
    "start_time": "2023-04-04T10:26:45.455Z"
   },
   {
    "duration": 618,
    "start_time": "2023-04-04T10:27:31.580Z"
   },
   {
    "duration": 24,
    "start_time": "2023-04-04T10:27:32.200Z"
   },
   {
    "duration": 157,
    "start_time": "2023-04-04T10:27:32.226Z"
   },
   {
    "duration": 12,
    "start_time": "2023-04-04T10:27:32.385Z"
   },
   {
    "duration": 8,
    "start_time": "2023-04-04T10:27:32.399Z"
   },
   {
    "duration": 9,
    "start_time": "2023-04-04T10:27:32.445Z"
   },
   {
    "duration": 8,
    "start_time": "2023-04-04T10:27:32.456Z"
   },
   {
    "duration": 12,
    "start_time": "2023-04-04T10:27:32.466Z"
   },
   {
    "duration": 132,
    "start_time": "2023-04-04T10:28:32.230Z"
   },
   {
    "duration": 13,
    "start_time": "2023-04-04T10:28:57.365Z"
   },
   {
    "duration": 13,
    "start_time": "2023-04-04T10:29:04.739Z"
   },
   {
    "duration": 25,
    "start_time": "2023-04-04T10:29:14.933Z"
   },
   {
    "duration": 93,
    "start_time": "2023-04-04T10:29:26.580Z"
   },
   {
    "duration": 26,
    "start_time": "2023-04-04T10:29:29.757Z"
   },
   {
    "duration": 40,
    "start_time": "2023-04-04T10:29:36.251Z"
   },
   {
    "duration": 27,
    "start_time": "2023-04-04T10:29:41.924Z"
   },
   {
    "duration": 26,
    "start_time": "2023-04-04T10:29:55.994Z"
   },
   {
    "duration": 18,
    "start_time": "2023-04-04T10:29:59.986Z"
   },
   {
    "duration": 15,
    "start_time": "2023-04-04T10:30:24.458Z"
   },
   {
    "duration": 15,
    "start_time": "2023-04-04T10:30:29.830Z"
   },
   {
    "duration": 610,
    "start_time": "2023-04-04T10:30:40.464Z"
   },
   {
    "duration": 17,
    "start_time": "2023-04-04T10:30:45.427Z"
   },
   {
    "duration": 468,
    "start_time": "2023-04-04T10:32:20.272Z"
   },
   {
    "duration": 485,
    "start_time": "2023-04-04T10:32:22.746Z"
   },
   {
    "duration": 443,
    "start_time": "2023-04-04T10:32:33.093Z"
   },
   {
    "duration": 77,
    "start_time": "2023-04-04T10:32:37.852Z"
   },
   {
    "duration": 20,
    "start_time": "2023-04-04T10:32:40.523Z"
   },
   {
    "duration": 668,
    "start_time": "2023-04-04T10:32:49.126Z"
   },
   {
    "duration": 6,
    "start_time": "2023-04-04T10:33:37.289Z"
   },
   {
    "duration": 15,
    "start_time": "2023-04-04T10:33:59.439Z"
   },
   {
    "duration": 672,
    "start_time": "2023-04-04T10:34:05.114Z"
   },
   {
    "duration": 639,
    "start_time": "2023-04-04T10:34:15.231Z"
   },
   {
    "duration": 3,
    "start_time": "2023-04-04T10:36:58.746Z"
   },
   {
    "duration": 4,
    "start_time": "2023-04-04T10:37:07.411Z"
   },
   {
    "duration": 9,
    "start_time": "2023-04-04T10:37:15.562Z"
   },
   {
    "duration": 12,
    "start_time": "2023-04-04T10:37:18.728Z"
   },
   {
    "duration": 11,
    "start_time": "2023-04-04T10:37:32.696Z"
   },
   {
    "duration": 9,
    "start_time": "2023-04-04T10:37:35.528Z"
   },
   {
    "duration": 8,
    "start_time": "2023-04-04T10:37:45.248Z"
   },
   {
    "duration": 16,
    "start_time": "2023-04-04T10:38:26.479Z"
   },
   {
    "duration": 2,
    "start_time": "2023-04-04T10:38:59.118Z"
   },
   {
    "duration": 19,
    "start_time": "2023-04-04T10:39:01.222Z"
   },
   {
    "duration": 11,
    "start_time": "2023-04-04T10:39:45.315Z"
   },
   {
    "duration": 16,
    "start_time": "2023-04-04T10:39:54.147Z"
   },
   {
    "duration": 17,
    "start_time": "2023-04-04T10:40:01.548Z"
   },
   {
    "duration": 18,
    "start_time": "2023-04-04T10:40:12.051Z"
   },
   {
    "duration": 20,
    "start_time": "2023-04-04T10:40:25.762Z"
   },
   {
    "duration": 4,
    "start_time": "2023-04-04T10:41:20.047Z"
   },
   {
    "duration": 16,
    "start_time": "2023-04-04T10:41:29.151Z"
   },
   {
    "duration": 15,
    "start_time": "2023-04-04T10:41:41.191Z"
   },
   {
    "duration": 9,
    "start_time": "2023-04-04T10:41:49.629Z"
   },
   {
    "duration": 11,
    "start_time": "2023-04-04T10:42:08.190Z"
   },
   {
    "duration": 17,
    "start_time": "2023-04-04T10:42:14.458Z"
   },
   {
    "duration": 1300,
    "start_time": "2023-04-04T10:42:49.054Z"
   },
   {
    "duration": 561,
    "start_time": "2023-04-04T10:42:50.356Z"
   },
   {
    "duration": 16,
    "start_time": "2023-04-04T10:42:50.919Z"
   },
   {
    "duration": 8,
    "start_time": "2023-04-04T10:42:50.940Z"
   },
   {
    "duration": 23,
    "start_time": "2023-04-04T10:42:50.950Z"
   },
   {
    "duration": 13,
    "start_time": "2023-04-04T10:42:50.975Z"
   },
   {
    "duration": 12,
    "start_time": "2023-04-04T10:42:50.990Z"
   },
   {
    "duration": 36,
    "start_time": "2023-04-04T10:42:51.004Z"
   },
   {
    "duration": 66,
    "start_time": "2023-04-04T10:42:51.042Z"
   },
   {
    "duration": 12,
    "start_time": "2023-04-04T10:42:51.111Z"
   },
   {
    "duration": 19,
    "start_time": "2023-04-04T10:42:51.125Z"
   },
   {
    "duration": 43,
    "start_time": "2023-04-04T10:42:51.146Z"
   },
   {
    "duration": 281,
    "start_time": "2023-04-04T10:42:51.190Z"
   },
   {
    "duration": 10,
    "start_time": "2023-04-04T10:42:51.473Z"
   },
   {
    "duration": 16,
    "start_time": "2023-04-04T10:42:51.486Z"
   },
   {
    "duration": 39,
    "start_time": "2023-04-04T10:42:51.504Z"
   },
   {
    "duration": 53,
    "start_time": "2023-04-04T10:42:51.545Z"
   },
   {
    "duration": 142,
    "start_time": "2023-04-04T10:42:51.599Z"
   },
   {
    "duration": 35,
    "start_time": "2023-04-04T10:42:51.743Z"
   },
   {
    "duration": 8,
    "start_time": "2023-04-04T10:42:51.780Z"
   },
   {
    "duration": 248,
    "start_time": "2023-04-04T10:42:51.789Z"
   },
   {
    "duration": 18,
    "start_time": "2023-04-04T10:42:52.038Z"
   },
   {
    "duration": 28,
    "start_time": "2023-04-04T10:42:52.057Z"
   },
   {
    "duration": 119,
    "start_time": "2023-04-04T10:42:52.087Z"
   },
   {
    "duration": 19,
    "start_time": "2023-04-04T10:42:52.208Z"
   },
   {
    "duration": 21,
    "start_time": "2023-04-04T10:42:52.229Z"
   },
   {
    "duration": 41,
    "start_time": "2023-04-04T10:42:52.252Z"
   },
   {
    "duration": 19,
    "start_time": "2023-04-04T10:42:52.299Z"
   },
   {
    "duration": 28,
    "start_time": "2023-04-04T10:42:52.320Z"
   },
   {
    "duration": 10,
    "start_time": "2023-04-04T10:42:52.349Z"
   },
   {
    "duration": 34,
    "start_time": "2023-04-04T10:42:52.361Z"
   },
   {
    "duration": 12,
    "start_time": "2023-04-04T10:42:52.397Z"
   },
   {
    "duration": 8,
    "start_time": "2023-04-04T10:42:52.411Z"
   },
   {
    "duration": 26,
    "start_time": "2023-04-04T10:42:52.421Z"
   },
   {
    "duration": 14,
    "start_time": "2023-04-04T10:42:52.448Z"
   },
   {
    "duration": 16,
    "start_time": "2023-04-04T10:42:52.464Z"
   },
   {
    "duration": 32,
    "start_time": "2023-04-04T10:42:52.482Z"
   },
   {
    "duration": 32,
    "start_time": "2023-04-04T10:42:52.516Z"
   },
   {
    "duration": 16,
    "start_time": "2023-04-04T10:42:52.550Z"
   },
   {
    "duration": 27,
    "start_time": "2023-04-04T10:42:52.567Z"
   },
   {
    "duration": 28,
    "start_time": "2023-04-04T10:42:52.595Z"
   },
   {
    "duration": 17,
    "start_time": "2023-04-04T10:42:52.625Z"
   },
   {
    "duration": 32,
    "start_time": "2023-04-04T10:42:52.644Z"
   },
   {
    "duration": 15,
    "start_time": "2023-04-04T10:42:52.678Z"
   },
   {
    "duration": 37,
    "start_time": "2023-04-04T10:42:52.695Z"
   },
   {
    "duration": 28,
    "start_time": "2023-04-04T10:42:52.733Z"
   },
   {
    "duration": 53,
    "start_time": "2023-04-04T10:42:52.763Z"
   },
   {
    "duration": 35,
    "start_time": "2023-04-04T10:42:52.817Z"
   },
   {
    "duration": 20,
    "start_time": "2023-04-04T10:42:52.853Z"
   },
   {
    "duration": 86,
    "start_time": "2023-04-04T10:42:52.875Z"
   },
   {
    "duration": 22,
    "start_time": "2023-04-04T10:42:52.963Z"
   },
   {
    "duration": 10,
    "start_time": "2023-04-04T10:42:52.987Z"
   },
   {
    "duration": 7,
    "start_time": "2023-04-04T10:42:52.999Z"
   },
   {
    "duration": 38,
    "start_time": "2023-04-04T10:42:53.008Z"
   },
   {
    "duration": 22,
    "start_time": "2023-04-04T10:42:53.048Z"
   },
   {
    "duration": 9,
    "start_time": "2023-04-04T10:42:53.071Z"
   },
   {
    "duration": 10,
    "start_time": "2023-04-04T10:42:53.081Z"
   },
   {
    "duration": 9,
    "start_time": "2023-04-04T10:42:53.093Z"
   },
   {
    "duration": 9,
    "start_time": "2023-04-04T10:42:53.104Z"
   },
   {
    "duration": 25,
    "start_time": "2023-04-04T10:42:53.140Z"
   },
   {
    "duration": 52,
    "start_time": "2023-04-04T10:42:53.167Z"
   },
   {
    "duration": 20,
    "start_time": "2023-04-04T10:42:53.221Z"
   },
   {
    "duration": 6,
    "start_time": "2023-04-04T10:42:53.243Z"
   },
   {
    "duration": 21,
    "start_time": "2023-04-04T10:42:53.251Z"
   },
   {
    "duration": 11,
    "start_time": "2023-04-04T10:42:53.274Z"
   },
   {
    "duration": 267,
    "start_time": "2023-04-04T10:42:53.286Z"
   },
   {
    "duration": 13,
    "start_time": "2023-04-04T10:42:53.554Z"
   },
   {
    "duration": 12,
    "start_time": "2023-04-04T10:42:53.569Z"
   },
   {
    "duration": 258,
    "start_time": "2023-04-04T10:42:53.582Z"
   },
   {
    "duration": 270,
    "start_time": "2023-04-04T10:42:53.841Z"
   },
   {
    "duration": 185,
    "start_time": "2023-04-04T10:42:54.113Z"
   },
   {
    "duration": 8,
    "start_time": "2023-04-04T10:42:54.299Z"
   },
   {
    "duration": 48,
    "start_time": "2023-04-04T10:42:54.308Z"
   },
   {
    "duration": 37,
    "start_time": "2023-04-04T10:42:54.358Z"
   },
   {
    "duration": 676,
    "start_time": "2023-04-04T10:42:54.397Z"
   },
   {
    "duration": 11,
    "start_time": "2023-04-04T10:42:55.075Z"
   },
   {
    "duration": 8,
    "start_time": "2023-04-04T10:42:55.087Z"
   },
   {
    "duration": 10,
    "start_time": "2023-04-04T10:42:55.096Z"
   },
   {
    "duration": 3,
    "start_time": "2023-04-04T10:42:55.108Z"
   },
   {
    "duration": 147,
    "start_time": "2023-04-04T10:42:55.112Z"
   },
   {
    "duration": 0,
    "start_time": "2023-04-04T10:42:55.261Z"
   },
   {
    "duration": 0,
    "start_time": "2023-04-04T10:42:55.263Z"
   },
   {
    "duration": 0,
    "start_time": "2023-04-04T10:42:55.264Z"
   },
   {
    "duration": 0,
    "start_time": "2023-04-04T10:42:55.265Z"
   },
   {
    "duration": 0,
    "start_time": "2023-04-04T10:42:55.266Z"
   },
   {
    "duration": 0,
    "start_time": "2023-04-04T10:42:55.267Z"
   },
   {
    "duration": 0,
    "start_time": "2023-04-04T10:42:55.269Z"
   },
   {
    "duration": 0,
    "start_time": "2023-04-04T10:42:55.270Z"
   },
   {
    "duration": 3,
    "start_time": "2023-04-04T10:43:22.954Z"
   },
   {
    "duration": 15,
    "start_time": "2023-04-04T10:43:38.417Z"
   },
   {
    "duration": 85,
    "start_time": "2023-04-04T10:43:47.146Z"
   },
   {
    "duration": 28,
    "start_time": "2023-04-04T10:43:50.162Z"
   },
   {
    "duration": 273,
    "start_time": "2023-04-04T10:43:54.514Z"
   },
   {
    "duration": 278,
    "start_time": "2023-04-04T10:44:03.625Z"
   },
   {
    "duration": 94,
    "start_time": "2023-04-04T10:44:18.585Z"
   },
   {
    "duration": 311,
    "start_time": "2023-04-04T10:44:22.193Z"
   },
   {
    "duration": 299,
    "start_time": "2023-04-04T10:44:33.865Z"
   },
   {
    "duration": 12,
    "start_time": "2023-04-04T10:44:39.128Z"
   },
   {
    "duration": 17,
    "start_time": "2023-04-04T10:44:41.615Z"
   },
   {
    "duration": 70,
    "start_time": "2023-04-04T10:52:06.834Z"
   },
   {
    "duration": 1407,
    "start_time": "2023-04-04T10:52:16.155Z"
   },
   {
    "duration": 563,
    "start_time": "2023-04-04T10:52:17.564Z"
   },
   {
    "duration": 12,
    "start_time": "2023-04-04T10:52:18.128Z"
   },
   {
    "duration": 16,
    "start_time": "2023-04-04T10:52:18.142Z"
   },
   {
    "duration": 20,
    "start_time": "2023-04-04T10:52:18.160Z"
   },
   {
    "duration": 27,
    "start_time": "2023-04-04T10:52:18.181Z"
   },
   {
    "duration": 17,
    "start_time": "2023-04-04T10:52:18.210Z"
   },
   {
    "duration": 33,
    "start_time": "2023-04-04T10:52:18.229Z"
   },
   {
    "duration": 55,
    "start_time": "2023-04-04T10:52:18.263Z"
   },
   {
    "duration": 24,
    "start_time": "2023-04-04T10:52:18.320Z"
   },
   {
    "duration": 9,
    "start_time": "2023-04-04T10:52:18.346Z"
   },
   {
    "duration": 40,
    "start_time": "2023-04-04T10:52:18.357Z"
   },
   {
    "duration": 291,
    "start_time": "2023-04-04T10:52:18.399Z"
   },
   {
    "duration": 10,
    "start_time": "2023-04-04T10:52:18.693Z"
   },
   {
    "duration": 6,
    "start_time": "2023-04-04T10:52:18.705Z"
   },
   {
    "duration": 36,
    "start_time": "2023-04-04T10:52:18.712Z"
   },
   {
    "duration": 52,
    "start_time": "2023-04-04T10:52:18.749Z"
   },
   {
    "duration": 119,
    "start_time": "2023-04-04T10:52:18.803Z"
   },
   {
    "duration": 43,
    "start_time": "2023-04-04T10:52:18.925Z"
   },
   {
    "duration": 7,
    "start_time": "2023-04-04T10:52:18.970Z"
   },
   {
    "duration": 225,
    "start_time": "2023-04-04T10:52:18.978Z"
   },
   {
    "duration": 16,
    "start_time": "2023-04-04T10:52:19.205Z"
   },
   {
    "duration": 23,
    "start_time": "2023-04-04T10:52:19.223Z"
   },
   {
    "duration": 115,
    "start_time": "2023-04-04T10:52:19.248Z"
   },
   {
    "duration": 19,
    "start_time": "2023-04-04T10:52:19.365Z"
   },
   {
    "duration": 14,
    "start_time": "2023-04-04T10:52:19.386Z"
   },
   {
    "duration": 15,
    "start_time": "2023-04-04T10:52:19.401Z"
   },
   {
    "duration": 33,
    "start_time": "2023-04-04T10:52:19.418Z"
   },
   {
    "duration": 9,
    "start_time": "2023-04-04T10:52:19.453Z"
   },
   {
    "duration": 7,
    "start_time": "2023-04-04T10:52:19.463Z"
   },
   {
    "duration": 24,
    "start_time": "2023-04-04T10:52:19.471Z"
   },
   {
    "duration": 45,
    "start_time": "2023-04-04T10:52:19.498Z"
   },
   {
    "duration": 10,
    "start_time": "2023-04-04T10:52:19.546Z"
   },
   {
    "duration": 15,
    "start_time": "2023-04-04T10:52:19.558Z"
   },
   {
    "duration": 13,
    "start_time": "2023-04-04T10:52:19.575Z"
   },
   {
    "duration": 9,
    "start_time": "2023-04-04T10:52:19.589Z"
   },
   {
    "duration": 9,
    "start_time": "2023-04-04T10:52:19.599Z"
   },
   {
    "duration": 34,
    "start_time": "2023-04-04T10:52:19.609Z"
   },
   {
    "duration": 11,
    "start_time": "2023-04-04T10:52:19.645Z"
   },
   {
    "duration": 29,
    "start_time": "2023-04-04T10:52:19.658Z"
   },
   {
    "duration": 31,
    "start_time": "2023-04-04T10:52:19.693Z"
   },
   {
    "duration": 15,
    "start_time": "2023-04-04T10:52:19.726Z"
   },
   {
    "duration": 22,
    "start_time": "2023-04-04T10:52:19.744Z"
   },
   {
    "duration": 7,
    "start_time": "2023-04-04T10:52:19.768Z"
   },
   {
    "duration": 25,
    "start_time": "2023-04-04T10:52:19.776Z"
   },
   {
    "duration": 53,
    "start_time": "2023-04-04T10:52:19.803Z"
   },
   {
    "duration": 37,
    "start_time": "2023-04-04T10:52:19.858Z"
   },
   {
    "duration": 17,
    "start_time": "2023-04-04T10:52:19.897Z"
   },
   {
    "duration": 43,
    "start_time": "2023-04-04T10:52:19.916Z"
   },
   {
    "duration": 57,
    "start_time": "2023-04-04T10:52:19.960Z"
   },
   {
    "duration": 37,
    "start_time": "2023-04-04T10:52:20.019Z"
   },
   {
    "duration": 9,
    "start_time": "2023-04-04T10:52:20.058Z"
   },
   {
    "duration": 22,
    "start_time": "2023-04-04T10:52:20.069Z"
   },
   {
    "duration": 12,
    "start_time": "2023-04-04T10:52:20.093Z"
   },
   {
    "duration": 12,
    "start_time": "2023-04-04T10:52:20.107Z"
   },
   {
    "duration": 33,
    "start_time": "2023-04-04T10:52:20.120Z"
   },
   {
    "duration": 13,
    "start_time": "2023-04-04T10:52:20.157Z"
   },
   {
    "duration": 30,
    "start_time": "2023-04-04T10:52:20.172Z"
   },
   {
    "duration": 10,
    "start_time": "2023-04-04T10:52:20.204Z"
   },
   {
    "duration": 25,
    "start_time": "2023-04-04T10:52:20.215Z"
   },
   {
    "duration": 57,
    "start_time": "2023-04-04T10:52:20.242Z"
   },
   {
    "duration": 5,
    "start_time": "2023-04-04T10:52:20.301Z"
   },
   {
    "duration": 5,
    "start_time": "2023-04-04T10:52:20.307Z"
   },
   {
    "duration": 40,
    "start_time": "2023-04-04T10:52:20.313Z"
   },
   {
    "duration": 12,
    "start_time": "2023-04-04T10:52:20.355Z"
   },
   {
    "duration": 292,
    "start_time": "2023-04-04T10:52:20.369Z"
   },
   {
    "duration": 15,
    "start_time": "2023-04-04T10:52:20.663Z"
   },
   {
    "duration": 11,
    "start_time": "2023-04-04T10:52:20.680Z"
   },
   {
    "duration": 285,
    "start_time": "2023-04-04T10:52:20.693Z"
   },
   {
    "duration": 324,
    "start_time": "2023-04-04T10:52:20.979Z"
   },
   {
    "duration": 191,
    "start_time": "2023-04-04T10:52:21.304Z"
   },
   {
    "duration": 8,
    "start_time": "2023-04-04T10:52:21.497Z"
   },
   {
    "duration": 65,
    "start_time": "2023-04-04T10:52:21.506Z"
   },
   {
    "duration": 41,
    "start_time": "2023-04-04T10:52:21.573Z"
   },
   {
    "duration": 710,
    "start_time": "2023-04-04T10:52:21.616Z"
   },
   {
    "duration": 20,
    "start_time": "2023-04-04T10:52:22.328Z"
   },
   {
    "duration": 11,
    "start_time": "2023-04-04T10:52:22.350Z"
   },
   {
    "duration": 15,
    "start_time": "2023-04-04T10:52:22.363Z"
   },
   {
    "duration": 128,
    "start_time": "2023-04-04T10:52:22.379Z"
   },
   {
    "duration": 0,
    "start_time": "2023-04-04T10:52:22.509Z"
   },
   {
    "duration": 0,
    "start_time": "2023-04-04T10:52:22.510Z"
   },
   {
    "duration": 0,
    "start_time": "2023-04-04T10:52:22.512Z"
   },
   {
    "duration": 0,
    "start_time": "2023-04-04T10:52:22.514Z"
   },
   {
    "duration": 0,
    "start_time": "2023-04-04T10:52:22.514Z"
   },
   {
    "duration": 0,
    "start_time": "2023-04-04T10:52:22.515Z"
   },
   {
    "duration": 0,
    "start_time": "2023-04-04T10:52:22.516Z"
   },
   {
    "duration": 0,
    "start_time": "2023-04-04T10:52:22.517Z"
   },
   {
    "duration": 28,
    "start_time": "2023-04-04T10:53:05.657Z"
   },
   {
    "duration": 22,
    "start_time": "2023-04-04T10:53:13.762Z"
   },
   {
    "duration": 371,
    "start_time": "2023-04-04T10:53:25.786Z"
   },
   {
    "duration": 142,
    "start_time": "2023-04-04T10:53:30.041Z"
   },
   {
    "duration": 366,
    "start_time": "2023-04-04T10:53:31.809Z"
   },
   {
    "duration": 224,
    "start_time": "2023-04-04T10:53:46.090Z"
   },
   {
    "duration": 22,
    "start_time": "2023-04-04T10:53:57.159Z"
   },
   {
    "duration": 26,
    "start_time": "2023-04-04T10:54:13.137Z"
   },
   {
    "duration": 16,
    "start_time": "2023-04-04T10:54:34.263Z"
   },
   {
    "duration": 26,
    "start_time": "2023-04-04T10:54:52.326Z"
   },
   {
    "duration": 24,
    "start_time": "2023-04-04T10:55:11.679Z"
   },
   {
    "duration": 21,
    "start_time": "2023-04-04T10:55:36.061Z"
   },
   {
    "duration": 19,
    "start_time": "2023-04-04T10:56:22.787Z"
   },
   {
    "duration": 17,
    "start_time": "2023-04-04T10:56:37.474Z"
   },
   {
    "duration": 18,
    "start_time": "2023-04-04T10:57:05.057Z"
   },
   {
    "duration": 28,
    "start_time": "2023-04-04T10:57:08.608Z"
   },
   {
    "duration": 18,
    "start_time": "2023-04-04T10:57:15.561Z"
   },
   {
    "duration": 746,
    "start_time": "2023-04-04T10:59:39.373Z"
   },
   {
    "duration": 26,
    "start_time": "2023-04-04T10:59:57.578Z"
   },
   {
    "duration": 23,
    "start_time": "2023-04-04T11:00:26.426Z"
   },
   {
    "duration": 15,
    "start_time": "2023-04-04T11:02:56.572Z"
   },
   {
    "duration": 12,
    "start_time": "2023-04-04T11:03:01.019Z"
   },
   {
    "duration": 10,
    "start_time": "2023-04-04T11:03:46.217Z"
   },
   {
    "duration": 15,
    "start_time": "2023-04-04T11:04:17.448Z"
   },
   {
    "duration": 16,
    "start_time": "2023-04-04T11:04:33.575Z"
   },
   {
    "duration": 81,
    "start_time": "2023-04-04T11:05:11.516Z"
   },
   {
    "duration": 15,
    "start_time": "2023-04-04T11:05:15.990Z"
   },
   {
    "duration": 14,
    "start_time": "2023-04-04T11:05:21.826Z"
   },
   {
    "duration": 13,
    "start_time": "2023-04-04T11:05:26.588Z"
   },
   {
    "duration": 10,
    "start_time": "2023-04-04T11:06:10.500Z"
   },
   {
    "duration": 9,
    "start_time": "2023-04-04T11:06:16.470Z"
   },
   {
    "duration": 9,
    "start_time": "2023-04-04T11:06:20.475Z"
   },
   {
    "duration": 12,
    "start_time": "2023-04-04T11:06:46.370Z"
   },
   {
    "duration": 73,
    "start_time": "2023-04-04T11:07:04.441Z"
   },
   {
    "duration": 10,
    "start_time": "2023-04-04T11:07:08.802Z"
   },
   {
    "duration": 82,
    "start_time": "2023-04-04T11:08:05.726Z"
   },
   {
    "duration": 15,
    "start_time": "2023-04-04T11:08:09.839Z"
   },
   {
    "duration": 12,
    "start_time": "2023-04-04T11:08:12.244Z"
   },
   {
    "duration": 10,
    "start_time": "2023-04-04T11:08:14.678Z"
   },
   {
    "duration": 13,
    "start_time": "2023-04-04T11:08:30.676Z"
   },
   {
    "duration": 18,
    "start_time": "2023-04-04T11:08:36.004Z"
   },
   {
    "duration": 317,
    "start_time": "2023-04-04T11:08:58.555Z"
   },
   {
    "duration": 316,
    "start_time": "2023-04-04T11:09:09.424Z"
   },
   {
    "duration": 317,
    "start_time": "2023-04-04T11:09:25.827Z"
   },
   {
    "duration": 339,
    "start_time": "2023-04-04T11:09:43.475Z"
   },
   {
    "duration": 419,
    "start_time": "2023-04-04T11:09:56.746Z"
   },
   {
    "duration": 357,
    "start_time": "2023-04-04T11:10:14.441Z"
   },
   {
    "duration": 353,
    "start_time": "2023-04-04T11:11:54.445Z"
   },
   {
    "duration": 474,
    "start_time": "2023-04-04T11:12:06.649Z"
   },
   {
    "duration": 114,
    "start_time": "2023-04-04T11:12:16.381Z"
   },
   {
    "duration": 717,
    "start_time": "2023-04-04T11:12:19.772Z"
   },
   {
    "duration": 15,
    "start_time": "2023-04-04T11:12:25.148Z"
   },
   {
    "duration": 33,
    "start_time": "2023-04-04T11:12:32.748Z"
   },
   {
    "duration": 12,
    "start_time": "2023-04-04T11:12:41.397Z"
   },
   {
    "duration": 21,
    "start_time": "2023-04-04T11:12:45.939Z"
   },
   {
    "duration": 20,
    "start_time": "2023-04-04T11:12:57.451Z"
   },
   {
    "duration": 49254,
    "start_time": "2023-04-04T11:13:04.042Z"
   },
   {
    "duration": 406,
    "start_time": "2023-04-04T11:14:26.248Z"
   },
   {
    "duration": 61,
    "start_time": "2023-04-04T11:15:17.934Z"
   },
   {
    "duration": 245,
    "start_time": "2023-04-04T11:15:31.677Z"
   },
   {
    "duration": 78,
    "start_time": "2023-04-04T11:16:25.391Z"
   },
   {
    "duration": 20,
    "start_time": "2023-04-04T11:16:50.579Z"
   },
   {
    "duration": 32,
    "start_time": "2023-04-04T11:16:56.027Z"
   },
   {
    "duration": 234,
    "start_time": "2023-04-04T11:17:00.484Z"
   },
   {
    "duration": 205,
    "start_time": "2023-04-04T11:17:51.813Z"
   },
   {
    "duration": 392,
    "start_time": "2023-04-04T11:18:01.682Z"
   },
   {
    "duration": 52,
    "start_time": "2023-04-04T11:18:11.123Z"
   },
   {
    "duration": 12,
    "start_time": "2023-04-04T11:19:01.132Z"
   },
   {
    "duration": 21,
    "start_time": "2023-04-04T11:19:04.507Z"
   },
   {
    "duration": 349,
    "start_time": "2023-04-04T11:19:07.208Z"
   },
   {
    "duration": 20468,
    "start_time": "2023-04-04T11:19:10.891Z"
   },
   {
    "duration": 19,
    "start_time": "2023-04-04T11:19:31.361Z"
   },
   {
    "duration": 1275,
    "start_time": "2023-04-04T11:19:43.037Z"
   },
   {
    "duration": 581,
    "start_time": "2023-04-04T11:19:44.314Z"
   },
   {
    "duration": 11,
    "start_time": "2023-04-04T11:19:44.897Z"
   },
   {
    "duration": 7,
    "start_time": "2023-04-04T11:19:44.910Z"
   },
   {
    "duration": 8,
    "start_time": "2023-04-04T11:19:44.918Z"
   },
   {
    "duration": 26,
    "start_time": "2023-04-04T11:19:44.928Z"
   },
   {
    "duration": 11,
    "start_time": "2023-04-04T11:19:44.956Z"
   },
   {
    "duration": 27,
    "start_time": "2023-04-04T11:19:44.969Z"
   },
   {
    "duration": 74,
    "start_time": "2023-04-04T11:19:44.998Z"
   },
   {
    "duration": 16,
    "start_time": "2023-04-04T11:19:45.076Z"
   },
   {
    "duration": 7,
    "start_time": "2023-04-04T11:19:45.093Z"
   },
   {
    "duration": 60,
    "start_time": "2023-04-04T11:19:45.102Z"
   },
   {
    "duration": 248,
    "start_time": "2023-04-04T11:19:45.164Z"
   },
   {
    "duration": 9,
    "start_time": "2023-04-04T11:19:45.414Z"
   },
   {
    "duration": 23,
    "start_time": "2023-04-04T11:19:45.425Z"
   },
   {
    "duration": 33,
    "start_time": "2023-04-04T11:19:45.452Z"
   },
   {
    "duration": 81,
    "start_time": "2023-04-04T11:19:45.487Z"
   },
   {
    "duration": 104,
    "start_time": "2023-04-04T11:19:45.570Z"
   },
   {
    "duration": 32,
    "start_time": "2023-04-04T11:19:45.675Z"
   },
   {
    "duration": 7,
    "start_time": "2023-04-04T11:19:45.709Z"
   },
   {
    "duration": 218,
    "start_time": "2023-04-04T11:19:45.717Z"
   },
   {
    "duration": 20,
    "start_time": "2023-04-04T11:19:45.936Z"
   },
   {
    "duration": 16,
    "start_time": "2023-04-04T11:19:45.957Z"
   },
   {
    "duration": 119,
    "start_time": "2023-04-04T11:19:45.975Z"
   },
   {
    "duration": 18,
    "start_time": "2023-04-04T11:19:46.096Z"
   },
   {
    "duration": 14,
    "start_time": "2023-04-04T11:19:46.116Z"
   },
   {
    "duration": 28,
    "start_time": "2023-04-04T11:19:46.132Z"
   },
   {
    "duration": 6,
    "start_time": "2023-04-04T11:19:46.164Z"
   },
   {
    "duration": 6,
    "start_time": "2023-04-04T11:19:46.172Z"
   },
   {
    "duration": 10,
    "start_time": "2023-04-04T11:19:46.180Z"
   },
   {
    "duration": 29,
    "start_time": "2023-04-04T11:19:46.192Z"
   },
   {
    "duration": 13,
    "start_time": "2023-04-04T11:19:46.253Z"
   },
   {
    "duration": 17,
    "start_time": "2023-04-04T11:19:46.269Z"
   },
   {
    "duration": 20,
    "start_time": "2023-04-04T11:19:46.287Z"
   },
   {
    "duration": 15,
    "start_time": "2023-04-04T11:19:46.309Z"
   },
   {
    "duration": 30,
    "start_time": "2023-04-04T11:19:46.325Z"
   },
   {
    "duration": 6,
    "start_time": "2023-04-04T11:19:46.356Z"
   },
   {
    "duration": 5,
    "start_time": "2023-04-04T11:19:46.364Z"
   },
   {
    "duration": 15,
    "start_time": "2023-04-04T11:19:46.371Z"
   },
   {
    "duration": 15,
    "start_time": "2023-04-04T11:19:46.387Z"
   },
   {
    "duration": 41,
    "start_time": "2023-04-04T11:19:46.404Z"
   },
   {
    "duration": 7,
    "start_time": "2023-04-04T11:19:46.446Z"
   },
   {
    "duration": 18,
    "start_time": "2023-04-04T11:19:46.456Z"
   },
   {
    "duration": 6,
    "start_time": "2023-04-04T11:19:46.476Z"
   },
   {
    "duration": 23,
    "start_time": "2023-04-04T11:19:46.483Z"
   },
   {
    "duration": 43,
    "start_time": "2023-04-04T11:19:46.507Z"
   },
   {
    "duration": 49,
    "start_time": "2023-04-04T11:19:46.554Z"
   },
   {
    "duration": 24,
    "start_time": "2023-04-04T11:19:46.605Z"
   },
   {
    "duration": 37,
    "start_time": "2023-04-04T11:19:46.631Z"
   },
   {
    "duration": 79,
    "start_time": "2023-04-04T11:19:46.670Z"
   },
   {
    "duration": 29,
    "start_time": "2023-04-04T11:19:46.755Z"
   },
   {
    "duration": 10,
    "start_time": "2023-04-04T11:19:46.786Z"
   },
   {
    "duration": 13,
    "start_time": "2023-04-04T11:19:46.798Z"
   },
   {
    "duration": 13,
    "start_time": "2023-04-04T11:19:46.813Z"
   },
   {
    "duration": 35,
    "start_time": "2023-04-04T11:19:46.828Z"
   },
   {
    "duration": 10,
    "start_time": "2023-04-04T11:19:46.864Z"
   },
   {
    "duration": 12,
    "start_time": "2023-04-04T11:19:46.878Z"
   },
   {
    "duration": 12,
    "start_time": "2023-04-04T11:19:46.891Z"
   },
   {
    "duration": 10,
    "start_time": "2023-04-04T11:19:46.905Z"
   },
   {
    "duration": 57,
    "start_time": "2023-04-04T11:19:46.917Z"
   },
   {
    "duration": 78,
    "start_time": "2023-04-04T11:19:46.976Z"
   },
   {
    "duration": 5,
    "start_time": "2023-04-04T11:19:47.056Z"
   },
   {
    "duration": 10,
    "start_time": "2023-04-04T11:19:47.062Z"
   },
   {
    "duration": 22,
    "start_time": "2023-04-04T11:19:47.073Z"
   },
   {
    "duration": 12,
    "start_time": "2023-04-04T11:19:47.096Z"
   },
   {
    "duration": 269,
    "start_time": "2023-04-04T11:19:47.110Z"
   },
   {
    "duration": 12,
    "start_time": "2023-04-04T11:19:47.381Z"
   },
   {
    "duration": 10,
    "start_time": "2023-04-04T11:19:47.395Z"
   },
   {
    "duration": 279,
    "start_time": "2023-04-04T11:19:47.407Z"
   },
   {
    "duration": 284,
    "start_time": "2023-04-04T11:19:47.687Z"
   },
   {
    "duration": 182,
    "start_time": "2023-04-04T11:19:47.973Z"
   },
   {
    "duration": 8,
    "start_time": "2023-04-04T11:19:48.158Z"
   },
   {
    "duration": 47,
    "start_time": "2023-04-04T11:19:48.168Z"
   },
   {
    "duration": 48,
    "start_time": "2023-04-04T11:19:48.216Z"
   },
   {
    "duration": 692,
    "start_time": "2023-04-04T11:19:48.265Z"
   },
   {
    "duration": 13,
    "start_time": "2023-04-04T11:19:48.959Z"
   },
   {
    "duration": 144,
    "start_time": "2023-04-04T11:19:48.974Z"
   },
   {
    "duration": 0,
    "start_time": "2023-04-04T11:19:49.120Z"
   },
   {
    "duration": 0,
    "start_time": "2023-04-04T11:19:49.121Z"
   },
   {
    "duration": 0,
    "start_time": "2023-04-04T11:19:49.123Z"
   },
   {
    "duration": 0,
    "start_time": "2023-04-04T11:19:49.123Z"
   },
   {
    "duration": 0,
    "start_time": "2023-04-04T11:19:49.124Z"
   },
   {
    "duration": 0,
    "start_time": "2023-04-04T11:19:49.126Z"
   },
   {
    "duration": 0,
    "start_time": "2023-04-04T11:19:49.127Z"
   },
   {
    "duration": 0,
    "start_time": "2023-04-04T11:19:49.128Z"
   },
   {
    "duration": 9,
    "start_time": "2023-04-04T11:20:22.867Z"
   },
   {
    "duration": 18,
    "start_time": "2023-04-04T11:20:30.235Z"
   },
   {
    "duration": 12,
    "start_time": "2023-04-04T11:20:33.266Z"
   },
   {
    "duration": 10,
    "start_time": "2023-04-04T11:20:34.931Z"
   },
   {
    "duration": 375,
    "start_time": "2023-04-04T11:20:39.318Z"
   },
   {
    "duration": 20,
    "start_time": "2023-04-04T11:22:38.200Z"
   },
   {
    "duration": 11,
    "start_time": "2023-04-04T11:23:22.223Z"
   },
   {
    "duration": 21,
    "start_time": "2023-04-04T11:23:27.932Z"
   },
   {
    "duration": 11,
    "start_time": "2023-04-04T11:23:29.310Z"
   },
   {
    "duration": 10,
    "start_time": "2023-04-04T11:24:53.796Z"
   },
   {
    "duration": 83,
    "start_time": "2023-04-04T11:26:01.688Z"
   },
   {
    "duration": 18,
    "start_time": "2023-04-04T11:26:15.344Z"
   },
   {
    "duration": 10,
    "start_time": "2023-04-04T11:26:20.111Z"
   },
   {
    "duration": 13,
    "start_time": "2023-04-04T11:26:27.164Z"
   },
   {
    "duration": 9,
    "start_time": "2023-04-04T11:26:27.503Z"
   },
   {
    "duration": 64,
    "start_time": "2023-04-04T11:26:30.667Z"
   },
   {
    "duration": 374,
    "start_time": "2023-04-04T11:27:00.360Z"
   },
   {
    "duration": 41,
    "start_time": "2023-04-04T11:29:15.529Z"
   },
   {
    "duration": 74,
    "start_time": "2023-04-04T11:29:38.559Z"
   },
   {
    "duration": 18,
    "start_time": "2023-04-04T11:29:41.473Z"
   },
   {
    "duration": 90,
    "start_time": "2023-04-04T11:29:48.514Z"
   },
   {
    "duration": 20,
    "start_time": "2023-04-04T11:29:51.008Z"
   },
   {
    "duration": 20,
    "start_time": "2023-04-04T11:29:53.759Z"
   },
   {
    "duration": 154,
    "start_time": "2023-04-04T11:30:05.527Z"
   },
   {
    "duration": 19,
    "start_time": "2023-04-04T11:31:01.791Z"
   },
   {
    "duration": 10,
    "start_time": "2023-04-04T11:31:11.303Z"
   },
   {
    "duration": 101,
    "start_time": "2023-04-04T11:34:04.170Z"
   },
   {
    "duration": 52,
    "start_time": "2023-04-04T11:34:06.094Z"
   },
   {
    "duration": 63,
    "start_time": "2023-04-04T11:34:10.502Z"
   },
   {
    "duration": 57,
    "start_time": "2023-04-04T11:36:01.107Z"
   },
   {
    "duration": 52,
    "start_time": "2023-04-04T11:36:09.155Z"
   },
   {
    "duration": 52,
    "start_time": "2023-04-04T11:36:15.257Z"
   },
   {
    "duration": 60,
    "start_time": "2023-04-04T11:36:25.190Z"
   },
   {
    "duration": 57,
    "start_time": "2023-04-04T11:36:33.047Z"
   },
   {
    "duration": 60,
    "start_time": "2023-04-04T11:36:40.920Z"
   },
   {
    "duration": 52,
    "start_time": "2023-04-04T11:36:43.873Z"
   },
   {
    "duration": 51,
    "start_time": "2023-04-04T11:36:46.370Z"
   },
   {
    "duration": 61,
    "start_time": "2023-04-04T11:36:55.696Z"
   },
   {
    "duration": 10,
    "start_time": "2023-04-04T11:37:10.927Z"
   },
   {
    "duration": 19,
    "start_time": "2023-04-04T11:37:18.039Z"
   },
   {
    "duration": 13,
    "start_time": "2023-04-04T11:39:04.355Z"
   },
   {
    "duration": 14,
    "start_time": "2023-04-04T11:39:09.816Z"
   },
   {
    "duration": 13,
    "start_time": "2023-04-04T11:39:14.402Z"
   },
   {
    "duration": 60,
    "start_time": "2023-04-04T11:40:02.892Z"
   },
   {
    "duration": 25,
    "start_time": "2023-04-04T11:40:27.028Z"
   },
   {
    "duration": 60,
    "start_time": "2023-04-04T11:40:27.740Z"
   },
   {
    "duration": 59,
    "start_time": "2023-04-04T11:40:33.767Z"
   },
   {
    "duration": 61,
    "start_time": "2023-04-04T11:40:37.336Z"
   },
   {
    "duration": 91,
    "start_time": "2023-04-04T11:46:37.013Z"
   },
   {
    "duration": 98,
    "start_time": "2023-04-04T11:46:55.209Z"
   },
   {
    "duration": 72,
    "start_time": "2023-04-04T11:47:00.528Z"
   },
   {
    "duration": 88,
    "start_time": "2023-04-04T11:47:26.899Z"
   },
   {
    "duration": 82,
    "start_time": "2023-04-04T11:48:33.771Z"
   },
   {
    "duration": 70,
    "start_time": "2023-04-04T11:48:38.934Z"
   },
   {
    "duration": 66,
    "start_time": "2023-04-04T11:48:44.432Z"
   },
   {
    "duration": 63,
    "start_time": "2023-04-04T11:49:03.033Z"
   },
   {
    "duration": 71,
    "start_time": "2023-04-04T11:49:08.255Z"
   },
   {
    "duration": 13,
    "start_time": "2023-04-04T11:50:34.121Z"
   },
   {
    "duration": 19,
    "start_time": "2023-04-04T11:51:33.873Z"
   },
   {
    "duration": 67,
    "start_time": "2023-04-04T11:51:51.213Z"
   },
   {
    "duration": 1445,
    "start_time": "2023-04-04T11:53:31.518Z"
   },
   {
    "duration": 562,
    "start_time": "2023-04-04T11:53:32.965Z"
   },
   {
    "duration": 25,
    "start_time": "2023-04-04T11:53:33.528Z"
   },
   {
    "duration": 8,
    "start_time": "2023-04-04T11:53:33.555Z"
   },
   {
    "duration": 11,
    "start_time": "2023-04-04T11:53:33.565Z"
   },
   {
    "duration": 10,
    "start_time": "2023-04-04T11:53:33.578Z"
   },
   {
    "duration": 10,
    "start_time": "2023-04-04T11:53:33.589Z"
   },
   {
    "duration": 18,
    "start_time": "2023-04-04T11:53:33.601Z"
   },
   {
    "duration": 76,
    "start_time": "2023-04-04T11:53:33.621Z"
   },
   {
    "duration": 11,
    "start_time": "2023-04-04T11:53:33.699Z"
   },
   {
    "duration": 8,
    "start_time": "2023-04-04T11:53:33.712Z"
   },
   {
    "duration": 54,
    "start_time": "2023-04-04T11:53:33.721Z"
   },
   {
    "duration": 282,
    "start_time": "2023-04-04T11:53:33.776Z"
   },
   {
    "duration": 10,
    "start_time": "2023-04-04T11:53:34.060Z"
   },
   {
    "duration": 21,
    "start_time": "2023-04-04T11:53:34.072Z"
   },
   {
    "duration": 23,
    "start_time": "2023-04-04T11:53:34.095Z"
   },
   {
    "duration": 87,
    "start_time": "2023-04-04T11:53:34.120Z"
   },
   {
    "duration": 110,
    "start_time": "2023-04-04T11:53:34.209Z"
   },
   {
    "duration": 52,
    "start_time": "2023-04-04T11:53:34.320Z"
   },
   {
    "duration": 7,
    "start_time": "2023-04-04T11:53:34.375Z"
   },
   {
    "duration": 208,
    "start_time": "2023-04-04T11:53:34.384Z"
   },
   {
    "duration": 17,
    "start_time": "2023-04-04T11:53:34.594Z"
   },
   {
    "duration": 45,
    "start_time": "2023-04-04T11:53:34.613Z"
   },
   {
    "duration": 107,
    "start_time": "2023-04-04T11:53:34.660Z"
   },
   {
    "duration": 19,
    "start_time": "2023-04-04T11:53:34.768Z"
   },
   {
    "duration": 14,
    "start_time": "2023-04-04T11:53:34.788Z"
   },
   {
    "duration": 14,
    "start_time": "2023-04-04T11:53:34.804Z"
   },
   {
    "duration": 36,
    "start_time": "2023-04-04T11:53:34.822Z"
   },
   {
    "duration": 6,
    "start_time": "2023-04-04T11:53:34.859Z"
   },
   {
    "duration": 6,
    "start_time": "2023-04-04T11:53:34.866Z"
   },
   {
    "duration": 35,
    "start_time": "2023-04-04T11:53:34.874Z"
   },
   {
    "duration": 11,
    "start_time": "2023-04-04T11:53:34.913Z"
   },
   {
    "duration": 16,
    "start_time": "2023-04-04T11:53:34.926Z"
   },
   {
    "duration": 17,
    "start_time": "2023-04-04T11:53:34.943Z"
   },
   {
    "duration": 17,
    "start_time": "2023-04-04T11:53:34.962Z"
   },
   {
    "duration": 8,
    "start_time": "2023-04-04T11:53:34.981Z"
   },
   {
    "duration": 10,
    "start_time": "2023-04-04T11:53:34.990Z"
   },
   {
    "duration": 10,
    "start_time": "2023-04-04T11:53:35.001Z"
   },
   {
    "duration": 32,
    "start_time": "2023-04-04T11:53:35.013Z"
   },
   {
    "duration": 22,
    "start_time": "2023-04-04T11:53:35.046Z"
   },
   {
    "duration": 28,
    "start_time": "2023-04-04T11:53:35.070Z"
   },
   {
    "duration": 5,
    "start_time": "2023-04-04T11:53:35.100Z"
   },
   {
    "duration": 22,
    "start_time": "2023-04-04T11:53:35.106Z"
   },
   {
    "duration": 18,
    "start_time": "2023-04-04T11:53:35.131Z"
   },
   {
    "duration": 25,
    "start_time": "2023-04-04T11:53:35.150Z"
   },
   {
    "duration": 17,
    "start_time": "2023-04-04T11:53:35.177Z"
   },
   {
    "duration": 59,
    "start_time": "2023-04-04T11:53:35.196Z"
   },
   {
    "duration": 17,
    "start_time": "2023-04-04T11:53:35.257Z"
   },
   {
    "duration": 19,
    "start_time": "2023-04-04T11:53:35.276Z"
   },
   {
    "duration": 88,
    "start_time": "2023-04-04T11:53:35.296Z"
   },
   {
    "duration": 21,
    "start_time": "2023-04-04T11:53:35.385Z"
   },
   {
    "duration": 8,
    "start_time": "2023-04-04T11:53:35.408Z"
   },
   {
    "duration": 28,
    "start_time": "2023-04-04T11:53:35.417Z"
   },
   {
    "duration": 12,
    "start_time": "2023-04-04T11:53:35.449Z"
   },
   {
    "duration": 31,
    "start_time": "2023-04-04T11:53:35.462Z"
   },
   {
    "duration": 11,
    "start_time": "2023-04-04T11:53:35.495Z"
   },
   {
    "duration": 9,
    "start_time": "2023-04-04T11:53:35.508Z"
   },
   {
    "duration": 17,
    "start_time": "2023-04-04T11:53:35.519Z"
   },
   {
    "duration": 20,
    "start_time": "2023-04-04T11:53:35.538Z"
   },
   {
    "duration": 29,
    "start_time": "2023-04-04T11:53:35.559Z"
   },
   {
    "duration": 60,
    "start_time": "2023-04-04T11:53:35.590Z"
   },
   {
    "duration": 6,
    "start_time": "2023-04-04T11:53:35.651Z"
   },
   {
    "duration": 5,
    "start_time": "2023-04-04T11:53:35.659Z"
   },
   {
    "duration": 20,
    "start_time": "2023-04-04T11:53:35.665Z"
   },
   {
    "duration": 12,
    "start_time": "2023-04-04T11:53:35.687Z"
   },
   {
    "duration": 275,
    "start_time": "2023-04-04T11:53:35.701Z"
   },
   {
    "duration": 16,
    "start_time": "2023-04-04T11:53:35.978Z"
   },
   {
    "duration": 14,
    "start_time": "2023-04-04T11:53:35.995Z"
   },
   {
    "duration": 277,
    "start_time": "2023-04-04T11:53:36.011Z"
   },
   {
    "duration": 314,
    "start_time": "2023-04-04T11:53:36.290Z"
   },
   {
    "duration": 231,
    "start_time": "2023-04-04T11:53:36.606Z"
   },
   {
    "duration": 13,
    "start_time": "2023-04-04T11:53:36.839Z"
   },
   {
    "duration": 54,
    "start_time": "2023-04-04T11:53:36.857Z"
   },
   {
    "duration": 50,
    "start_time": "2023-04-04T11:53:36.914Z"
   },
   {
    "duration": 751,
    "start_time": "2023-04-04T11:53:36.967Z"
   },
   {
    "duration": 25,
    "start_time": "2023-04-04T11:53:37.720Z"
   },
   {
    "duration": 413,
    "start_time": "2023-04-04T11:53:37.750Z"
   },
   {
    "duration": 23,
    "start_time": "2023-04-04T11:53:38.165Z"
   },
   {
    "duration": 17,
    "start_time": "2023-04-04T11:53:38.189Z"
   },
   {
    "duration": 46,
    "start_time": "2023-04-04T11:53:38.207Z"
   },
   {
    "duration": 13,
    "start_time": "2023-04-04T11:53:38.255Z"
   },
   {
    "duration": 9,
    "start_time": "2023-04-04T11:53:38.276Z"
   },
   {
    "duration": 61,
    "start_time": "2023-04-04T11:53:38.287Z"
   },
   {
    "duration": 29,
    "start_time": "2023-04-04T11:53:38.350Z"
   },
   {
    "duration": 1419,
    "start_time": "2023-04-04T17:18:57.310Z"
   },
   {
    "duration": 965,
    "start_time": "2023-04-04T17:18:58.731Z"
   },
   {
    "duration": 16,
    "start_time": "2023-04-04T17:18:59.698Z"
   },
   {
    "duration": 8,
    "start_time": "2023-04-04T17:18:59.716Z"
   },
   {
    "duration": 9,
    "start_time": "2023-04-04T17:18:59.726Z"
   },
   {
    "duration": 10,
    "start_time": "2023-04-04T17:18:59.736Z"
   },
   {
    "duration": 22,
    "start_time": "2023-04-04T17:18:59.748Z"
   },
   {
    "duration": 21,
    "start_time": "2023-04-04T17:18:59.771Z"
   },
   {
    "duration": 53,
    "start_time": "2023-04-04T17:18:59.794Z"
   },
   {
    "duration": 28,
    "start_time": "2023-04-04T17:18:59.849Z"
   },
   {
    "duration": 5,
    "start_time": "2023-04-04T17:18:59.879Z"
   },
   {
    "duration": 30,
    "start_time": "2023-04-04T17:18:59.885Z"
   },
   {
    "duration": 277,
    "start_time": "2023-04-04T17:18:59.916Z"
   },
   {
    "duration": 9,
    "start_time": "2023-04-04T17:19:00.195Z"
   },
   {
    "duration": 25,
    "start_time": "2023-04-04T17:19:00.205Z"
   },
   {
    "duration": 32,
    "start_time": "2023-04-04T17:19:00.232Z"
   },
   {
    "duration": 86,
    "start_time": "2023-04-04T17:19:00.266Z"
   },
   {
    "duration": 93,
    "start_time": "2023-04-04T17:19:00.353Z"
   },
   {
    "duration": 36,
    "start_time": "2023-04-04T17:19:00.447Z"
   },
   {
    "duration": 7,
    "start_time": "2023-04-04T17:19:00.484Z"
   },
   {
    "duration": 251,
    "start_time": "2023-04-04T17:19:00.492Z"
   },
   {
    "duration": 24,
    "start_time": "2023-04-04T17:19:00.745Z"
   },
   {
    "duration": 43,
    "start_time": "2023-04-04T17:19:00.771Z"
   },
   {
    "duration": 126,
    "start_time": "2023-04-04T17:19:00.816Z"
   },
   {
    "duration": 35,
    "start_time": "2023-04-04T17:19:00.944Z"
   },
   {
    "duration": 14,
    "start_time": "2023-04-04T17:19:00.980Z"
   },
   {
    "duration": 42,
    "start_time": "2023-04-04T17:19:00.996Z"
   },
   {
    "duration": 37,
    "start_time": "2023-04-04T17:19:01.040Z"
   },
   {
    "duration": 49,
    "start_time": "2023-04-04T17:19:01.078Z"
   },
   {
    "duration": 27,
    "start_time": "2023-04-04T17:19:01.128Z"
   },
   {
    "duration": 55,
    "start_time": "2023-04-04T17:19:01.157Z"
   },
   {
    "duration": 28,
    "start_time": "2023-04-04T17:19:01.214Z"
   },
   {
    "duration": 50,
    "start_time": "2023-04-04T17:19:01.243Z"
   },
   {
    "duration": 45,
    "start_time": "2023-04-04T17:19:01.295Z"
   },
   {
    "duration": 41,
    "start_time": "2023-04-04T17:19:01.342Z"
   },
   {
    "duration": 61,
    "start_time": "2023-04-04T17:19:01.384Z"
   },
   {
    "duration": 23,
    "start_time": "2023-04-04T17:19:01.469Z"
   },
   {
    "duration": 40,
    "start_time": "2023-04-04T17:19:01.494Z"
   },
   {
    "duration": 8,
    "start_time": "2023-04-04T17:19:01.569Z"
   },
   {
    "duration": 92,
    "start_time": "2023-04-04T17:19:01.578Z"
   },
   {
    "duration": 44,
    "start_time": "2023-04-04T17:19:01.674Z"
   },
   {
    "duration": 26,
    "start_time": "2023-04-04T17:19:01.720Z"
   },
   {
    "duration": 41,
    "start_time": "2023-04-04T17:19:01.748Z"
   },
   {
    "duration": 84,
    "start_time": "2023-04-04T17:19:01.791Z"
   },
   {
    "duration": 63,
    "start_time": "2023-04-04T17:19:01.877Z"
   },
   {
    "duration": 49,
    "start_time": "2023-04-04T17:19:01.942Z"
   },
   {
    "duration": 38,
    "start_time": "2023-04-04T17:19:01.993Z"
   },
   {
    "duration": 42,
    "start_time": "2023-04-04T17:19:02.032Z"
   },
   {
    "duration": 27,
    "start_time": "2023-04-04T17:19:02.075Z"
   },
   {
    "duration": 48,
    "start_time": "2023-04-04T17:19:02.103Z"
   },
   {
    "duration": 29,
    "start_time": "2023-04-04T17:19:02.153Z"
   },
   {
    "duration": 7,
    "start_time": "2023-04-04T17:19:02.183Z"
   },
   {
    "duration": 28,
    "start_time": "2023-04-04T17:19:02.192Z"
   },
   {
    "duration": 16,
    "start_time": "2023-04-04T17:19:02.222Z"
   },
   {
    "duration": 9,
    "start_time": "2023-04-04T17:19:02.240Z"
   },
   {
    "duration": 19,
    "start_time": "2023-04-04T17:19:02.250Z"
   },
   {
    "duration": 13,
    "start_time": "2023-04-04T17:19:02.271Z"
   },
   {
    "duration": 37,
    "start_time": "2023-04-04T17:19:02.286Z"
   },
   {
    "duration": 21,
    "start_time": "2023-04-04T17:19:02.324Z"
   },
   {
    "duration": 26,
    "start_time": "2023-04-04T17:19:02.347Z"
   },
   {
    "duration": 48,
    "start_time": "2023-04-04T17:19:02.374Z"
   },
   {
    "duration": 6,
    "start_time": "2023-04-04T17:19:02.424Z"
   },
   {
    "duration": 5,
    "start_time": "2023-04-04T17:19:02.432Z"
   },
   {
    "duration": 43,
    "start_time": "2023-04-04T17:19:02.439Z"
   },
   {
    "duration": 11,
    "start_time": "2023-04-04T17:19:02.484Z"
   },
   {
    "duration": 508,
    "start_time": "2023-04-04T17:19:02.496Z"
   },
   {
    "duration": 14,
    "start_time": "2023-04-04T17:19:03.006Z"
   },
   {
    "duration": 11,
    "start_time": "2023-04-04T17:19:03.021Z"
   },
   {
    "duration": 428,
    "start_time": "2023-04-04T17:19:03.034Z"
   },
   {
    "duration": 407,
    "start_time": "2023-04-04T17:19:03.468Z"
   },
   {
    "duration": 323,
    "start_time": "2023-04-04T17:19:03.877Z"
   },
   {
    "duration": 7,
    "start_time": "2023-04-04T17:19:04.201Z"
   },
   {
    "duration": 35,
    "start_time": "2023-04-04T17:19:04.209Z"
   },
   {
    "duration": 45,
    "start_time": "2023-04-04T17:19:04.245Z"
   },
   {
    "duration": 874,
    "start_time": "2023-04-04T17:19:04.291Z"
   },
   {
    "duration": 11,
    "start_time": "2023-04-04T17:19:05.167Z"
   },
   {
    "duration": 712,
    "start_time": "2023-04-04T17:19:05.179Z"
   },
   {
    "duration": 22,
    "start_time": "2023-04-04T17:19:05.892Z"
   },
   {
    "duration": 57,
    "start_time": "2023-04-04T17:19:05.916Z"
   },
   {
    "duration": 7,
    "start_time": "2023-04-04T17:19:05.974Z"
   },
   {
    "duration": 8,
    "start_time": "2023-04-04T17:19:05.983Z"
   },
   {
    "duration": 7,
    "start_time": "2023-04-04T17:19:05.993Z"
   },
   {
    "duration": 18,
    "start_time": "2023-04-04T17:19:06.001Z"
   },
   {
    "duration": 51,
    "start_time": "2023-04-04T17:19:06.020Z"
   },
   {
    "duration": 527,
    "start_time": "2023-04-04T17:23:24.704Z"
   }
  ],
  "colab": {
   "provenance": []
  },
  "kernelspec": {
   "display_name": "Python 3 (ipykernel)",
   "language": "python",
   "name": "python3"
  },
  "language_info": {
   "codemirror_mode": {
    "name": "ipython",
    "version": 3
   },
   "file_extension": ".py",
   "mimetype": "text/x-python",
   "name": "python",
   "nbconvert_exporter": "python",
   "pygments_lexer": "ipython3",
   "version": "3.9.13"
  },
  "toc": {
   "base_numbering": 1,
   "nav_menu": {},
   "number_sections": true,
   "sideBar": true,
   "skip_h1_title": true,
   "title_cell": "Table of Contents",
   "title_sidebar": "Contents",
   "toc_cell": false,
   "toc_position": {},
   "toc_section_display": true,
   "toc_window_display": true
  }
 },
 "nbformat": 4,
 "nbformat_minor": 1
}
